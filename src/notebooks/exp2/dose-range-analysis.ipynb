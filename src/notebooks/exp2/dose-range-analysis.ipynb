{
 "cells": [
  {
   "cell_type": "markdown",
   "id": "d7780acf",
   "metadata": {},
   "source": [
    "# Init"
   ]
  },
  {
   "cell_type": "code",
   "execution_count": 1,
   "id": "275f0305",
   "metadata": {},
   "outputs": [
    {
     "name": "stdout",
     "output_type": "stream",
     "text": [
      "Project path set to: c:\\Github\\new-peak-project\\src\n"
     ]
    }
   ],
   "source": [
    "import os\n",
    "\n",
    "path = os.getcwd()\n",
    "# find the string 'project' in the path, return index\n",
    "index_project = path.find(\"project\")\n",
    "# slice the path from the index of 'project' to the end\n",
    "project_path = path[: index_project + 7]\n",
    "# set the working directory\n",
    "os.chdir(project_path + \"/src\")\n",
    "print(f\"Project path set to: {os.getcwd()}\")\n"
   ]
  },
  {
   "cell_type": "code",
   "execution_count": 2,
   "id": "eecd7f00",
   "metadata": {},
   "outputs": [
    {
     "name": "stdout",
     "output_type": "stream",
     "text": [
      "I:\\My Drive\\DAWSON PHD PROJECT\\Biomarker Data Repository\\data\\new-peak-project\\experiments\n"
     ]
    }
   ],
   "source": [
    "from dotenv import dotenv_values\n",
    "config = dotenv_values(\".env\")\n",
    "print(config[\"DATA_PATH\"])"
   ]
  },
  {
   "cell_type": "code",
   "execution_count": 3,
   "id": "8184496f",
   "metadata": {},
   "outputs": [
    {
     "name": "stdout",
     "output_type": "stream",
     "text": [
      "New data path set to: I:\\My Drive\\DAWSON PHD PROJECT\\Biomarker Data Repository\\data\\data-and-mechanism-project\n"
     ]
    }
   ],
   "source": [
    "new_path = config[\"NEW_DATA_PATH\"]\n",
    "print(f'New data path set to: {new_path}')"
   ]
  },
  {
   "cell_type": "markdown",
   "id": "1613d60a",
   "metadata": {},
   "source": [
    "# Config"
   ]
  },
  {
   "cell_type": "code",
   "execution_count": 4,
   "id": "0a4a4fa4",
   "metadata": {},
   "outputs": [
    {
     "name": "stdout",
     "output_type": "stream",
     "text": [
      "Created folder structure at I:\\My Drive\\DAWSON PHD PROJECT\\Biomarker Data Repository\\data\\data-and-mechanism-project\\dose-range-analysis\n"
     ]
    }
   ],
   "source": [
    "from models.utils.config_manager import initialise_config\n",
    "\n",
    "initialise_config(folder_name=\"dose-range-analysis\", verbose=1)\n"
   ]
  },
  {
   "cell_type": "code",
   "execution_count": null,
   "id": "db5f9be2",
   "metadata": {},
   "outputs": [
    {
     "name": "stdout",
     "output_type": "stream",
     "text": [
      "notebook: \n",
      "  version: E5R2\n",
      "  name: model-inspection\n",
      "  compatible_notebooks: ['model-inspection-1']\n",
      "  desc: E5R2 - originated from test case E, with 5 cascades (pathways) and\n",
      "2 regulations, fixed random seed \n",
      "\n",
      "exp: \n",
      "  spec: \n",
      "    n_layers: 2\n",
      "    n_cascades: 5\n",
      "    n_regs: 2\n",
      "    gen_seed: 42\n",
      "    drug: \n",
      "      name: D\n",
      "      start: 500\n",
      "      dose: 500\n",
      "      regulations: []\n",
      "      target_all: True\n",
      "  parameter_generation: \n",
      "    ic_range: [200, 1000]\n",
      "    param_range: [0.5, 1.5]\n",
      "    param_mul_range: [0.99, 1.01]\n",
      "  simulation: \n",
      "    start: 0\n",
      "    stop: 1000\n",
      "    step: 100\n"
     ]
    }
   ],
   "source": [
    "# or load existing config\n",
    "from models.utils.config_manager import load_configs, print_config\n",
    "\n",
    "loaded_config = load_configs(folder_name=\"dose-range-analysis\", config_suffix=\"v1\")\n",
    "print_config(loaded_config)"
   ]
  }
 ],
 "metadata": {
  "kernelspec": {
   "display_name": "new-peak-project",
   "language": "python",
   "name": "python3"
  },
  "language_info": {
   "codemirror_mode": {
    "name": "ipython",
    "version": 3
   },
   "file_extension": ".py",
   "mimetype": "text/x-python",
   "name": "python",
   "nbconvert_exporter": "python",
   "pygments_lexer": "ipython3",
   "version": "3.12.6"
  }
 },
 "nbformat": 4,
 "nbformat_minor": 5
}
