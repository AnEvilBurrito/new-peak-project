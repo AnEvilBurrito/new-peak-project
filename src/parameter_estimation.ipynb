{
 "cells": [
  {
   "cell_type": "markdown",
   "metadata": {},
   "source": [
    "## Example Model and toy data"
   ]
  },
  {
   "cell_type": "code",
   "execution_count": 41,
   "metadata": {},
   "outputs": [
    {
     "name": "stdout",
     "output_type": "stream",
     "text": [
      "model PEAK3\n",
      "\n",
      "J0: B -> A; J0_Vmax*B/(J0_Km + B)\n",
      "J1: A -> B; J1_Vmax*A/(J1_Km + A)\n",
      "\n",
      "# State variables in the system\n",
      "B=0\n",
      "A=100\n",
      "\n",
      "# Parameters in the system\n",
      "J0_Km=100\n",
      "J0_Vmax=10\n",
      "J1_Km=100\n",
      "J1_Vmax=10\n",
      "\n",
      "end\n"
     ]
    },
    {
     "data": {
      "image/png": "[encoded data removed]",
      "text/plain": [
       "<Figure size 432x288 with 1 Axes>"
      ]
     },
     "metadata": {
      "needs_background": "light"
     },
     "output_type": "display_data"
    },
    {
     "name": "stdout",
     "output_type": "stream",
     "text": [
      "[  0.           1.01010101   2.02020202   3.03030303   4.04040404\n",
      "   5.05050505   6.06060606   7.07070707   8.08080808   9.09090909\n",
      "  10.1010101   11.11111111  12.12121212  13.13131313  14.14141414\n",
      "  15.15151515  16.16161616  17.17171717  18.18181818  19.19191919\n",
      "  20.2020202   21.21212121  22.22222222  23.23232323  24.24242424\n",
      "  25.25252525  26.26262626  27.27272727  28.28282828  29.29292929\n",
      "  30.3030303   31.31313131  32.32323232  33.33333333  34.34343434\n",
      "  35.35353535  36.36363636  37.37373737  38.38383838  39.39393939\n",
      "  40.4040404   41.41414141  42.42424242  43.43434343  44.44444444\n",
      "  45.45454545  46.46464646  47.47474747  48.48484848  49.49494949\n",
      "  50.50505051  51.51515152  52.52525253  53.53535354  54.54545455\n",
      "  55.55555556  56.56565657  57.57575758  58.58585859  59.5959596\n",
      "  60.60606061  61.61616162  62.62626263  63.63636364  64.64646465\n",
      "  65.65656566  66.66666667  67.67676768  68.68686869  69.6969697\n",
      "  70.70707071  71.71717172  72.72727273  73.73737374  74.74747475\n",
      "  75.75757576  76.76767677  77.77777778  78.78787879  79.7979798\n",
      "  80.80808081  81.81818182  82.82828283  83.83838384  84.84848485\n",
      "  85.85858586  86.86868687  87.87878788  88.88888889  89.8989899\n",
      "  90.90909091  91.91919192  92.92929293  93.93939394  94.94949495\n",
      "  95.95959596  96.96969697  97.97979798  98.98989899 100.        ]\n",
      "49\n"
     ]
    }
   ],
   "source": [
    "from cProfile import label\n",
    "from models.ModelBuilder import ModelBuilder\n",
    "from models.Reaction import Reaction\n",
    "from models.ReactionArchtype import ReactionArchtype\n",
    "from models.ArchtypeCollections import *\n",
    "\n",
    "import matplotlib.pyplot as plt\n",
    "import roadrunner\n",
    "\n",
    "\n",
    "model = ModelBuilder('PEAK3')\n",
    "model.add_reaction(Reaction(michaelis_menten, ('B',), ('A',)))\n",
    "model.add_reaction(Reaction(michaelis_menten, ('A',), ('B',)))\n",
    "\n",
    "print(model.get_antimony_model())\n",
    "\n",
    "runner = roadrunner.RoadRunner(model.get_sbml_model())\n",
    "res = runner.simulate(0, 100, 100)\n",
    "\n",
    "\n",
    "states = model.get_state_variables().keys()\n",
    "for s in states:\n",
    "    # print(s)\n",
    "    plt.plot(res['time'], res[f'[{s}]'], label=s)\n",
    "\n",
    "plt.legend()\n",
    "plt.show()\n",
    "# runner.plot()\n",
    "\n",
    "import numpy as np\n",
    "\n",
    "print(res['time'])\n",
    "\n",
    "def find_closest_idx(array, value):\n",
    "    idx = np.argmin(np.abs(array - value))\n",
    "    return idx\n",
    "\n",
    "print(find_closest_idx(res['time'], 50))\n"
   ]
  },
  {
   "cell_type": "code",
   "execution_count": 35,
   "metadata": {},
   "outputs": [
    {
     "name": "stdout",
     "output_type": "stream",
     "text": [
      "[[100  30  20   5]\n",
      " [100  31  21   4]\n",
      " [ 99  29  26   6]]\n",
      "[99.66666667 30.         22.33333333  5.        ]\n",
      "[0.27216553 0.47140452 1.51535352 0.47140452]\n"
     ]
    },
    {
     "data": {
      "image/png": "[encoded data removed]",
      "text/plain": [
       "<Figure size 432x288 with 1 Axes>"
      ]
     },
     "metadata": {
      "needs_background": "light"
     },
     "output_type": "display_data"
    }
   ],
   "source": [
    "# toy data\n",
    "\n",
    "import numpy as np\n",
    "\n",
    "mock_A = [100, 30, 20, 5, 100, 31, 21, 4, 99, 29, 26, 6]\n",
    "mock_A = np.array(mock_A).reshape(3,4)\n",
    "mock_A_ave= np.average(mock_A, axis=0)\n",
    "mock_A_std = np.std(mock_A, axis=0) / np.sqrt(mock_A.shape[0])\n",
    "\n",
    "\n",
    "print(mock_A)\n",
    "print(mock_A_ave)\n",
    "print(mock_A_std)\n",
    "mock_time = [0, 15, 30, 100]\n",
    "\n",
    "states = model.get_state_variables().keys()\n",
    "for s in states:\n",
    "    # print(s)\n",
    "    plt.plot(res['time'], res[f'[{s}]'], label=s)\n",
    "\n",
    "plt.scatter(mock_time, mock_A_ave, label='mock A')\n",
    "plt.legend()\n",
    "plt.show()\n"
   ]
  },
  {
   "cell_type": "markdown",
   "metadata": {},
   "source": [
    "## Defining The Objective Function"
   ]
  },
  {
   "cell_type": "code",
   "execution_count": 51,
   "metadata": {},
   "outputs": [],
   "source": [
    "import roadrunner\n",
    "import matplotlib.pyplot as plt\n",
    "\n",
    "from typing import Dict, Iterable, Tuple, List\n",
    "\n",
    "class ExperimentalData:\n",
    "\n",
    "    '''\n",
    "    A wrapper for a dict that stores experimental data.\n",
    "    '''\n",
    "\n",
    "    def __init__(self):\n",
    "\n",
    "        self.data = {}\n",
    "\n",
    "    def add_data(self, time: Iterable, value: Iterable, std_error: Iterable, name: str):\n",
    "\n",
    "        '''\n",
    "        Add experimental data to the dict.\n",
    "        '''\n",
    "\n",
    "        assert len(time) == len(value) == len(std_error), 'time, value, and std_error must have the same length'\n",
    "\n",
    "        if name in self.data:\n",
    "            raise ValueError(f'Experimental data with name {name} already exists')\n",
    "\n",
    "        self.data[name] = {'time': time, 'value': value, 'std_error': std_error}\n",
    "\n",
    "    def get_names(self) -> List[str]:\n",
    "\n",
    "        '''\n",
    "        Get the names of the experimental data.\n",
    "        '''\n",
    "\n",
    "        return list(self.data.keys())\n",
    "\n",
    "    def get_data(self, name: str) -> Dict:\n",
    "\n",
    "        '''\n",
    "        Get experimental data from the dict.\n",
    "        '''\n",
    "\n",
    "        if name not in self.data:\n",
    "            raise ValueError(f'Experimental data with name {name} does not exist')\n",
    "\n",
    "        return self.data[name]\n",
    "\n",
    "    def get_data_tuple(self, name: str) -> Tuple[Iterable, Iterable, Iterable]:\n",
    "\n",
    "        '''\n",
    "        Get experimental data from the dict as a tuple.\n",
    "        '''\n",
    "\n",
    "        if name not in self.data:\n",
    "            raise ValueError(f'Experimental data with name {name} does not exist')\n",
    "\n",
    "        return self.data[name]['time'], self.data[name]['value'], self.data[name]['std_error']\n",
    "\n",
    "\n",
    "def find_closest_idx(array, value):\n",
    "    idx = np.argmin(np.abs(array - value))\n",
    "    return idx\n",
    "\n",
    "\n",
    "def objective(p, model: roadrunner.RoadRunner, params: list, experimental_data: ExperimentalData, sim_time=100):\n",
    "    \n",
    "    # update parameters\n",
    "    i = 0 \n",
    "    while i < len(params):\n",
    "        parameter, value = params[i], p[i]\n",
    "        model.model[f'{parameter}'] = value\n",
    "        i += 1\n",
    "    \n",
    "    # simulate model\n",
    "    res = model.simulate(0, sim_time, sim_time)\n",
    "\n",
    "    # calculate objective\n",
    "    j = 0\n",
    "    for experimental_state in experimental_data.get_names():\n",
    "        time, value, std_error = experimental_data.get_data_tuple(experimental_state)\n",
    "        i = 0 \n",
    "        while i < len(time):\n",
    "            t, v, s = time[i], value[i], std_error[i]\n",
    "            idx = np.argmin(np.abs(res['time'] - t)) # find closest index in sim time array compared to experimental time \n",
    "            model_value = res[f'[{experimental_state}]'][idx]\n",
    "            objective_value = (model_value - v) / s\n",
    "            j += objective_value ** 2\n",
    "            i += 1 \n",
    "\n",
    "\n",
    "    return j\n"
   ]
  },
  {
   "cell_type": "code",
   "execution_count": 52,
   "metadata": {},
   "outputs": [
    {
     "name": "stdout",
     "output_type": "stream",
     "text": [
      "model PEAK3\n",
      "\n",
      "J0: B -> A; J0_Vmax*B/(J0_Km + B)\n",
      "J1: A -> B; J1_Vmax*A/(J1_Km + A)\n",
      "\n",
      "# State variables in the system\n",
      "B=0\n",
      "A=100\n",
      "\n",
      "# Parameters in the system\n",
      "J0_Km=100\n",
      "J0_Vmax=10\n",
      "J1_Km=100\n",
      "J1_Vmax=10\n",
      "\n",
      "end\n",
      "14238.781801380108\n"
     ]
    }
   ],
   "source": [
    "# test objective function\n",
    "\n",
    "from models.ModelBuilder import ModelBuilder\n",
    "from models.Reaction import Reaction\n",
    "from models.ReactionArchtype import ReactionArchtype\n",
    "from models.ArchtypeCollections import *\n",
    "\n",
    "import matplotlib.pyplot as plt\n",
    "import roadrunner\n",
    "\n",
    "\n",
    "model = ModelBuilder('PEAK3')\n",
    "model.add_reaction(Reaction(michaelis_menten, ('B',), ('A',)))\n",
    "model.add_reaction(Reaction(michaelis_menten, ('A',), ('B',)))\n",
    "\n",
    "print(model.get_antimony_model())\n",
    "\n",
    "runner = roadrunner.RoadRunner(model.get_sbml_model())\n",
    "\n",
    "mock_A = [100, 30, 20, 5, 100, 31, 21, 4, 99, 29, 26, 6]\n",
    "mock_A = np.array(mock_A).reshape(3,4)\n",
    "mock_A_ave= np.average(mock_A, axis=0)\n",
    "mock_A_std = np.std(mock_A, axis=0) / np.sqrt(mock_A.shape[0])\n",
    "mock_time = [0, 15, 30, 100]\n",
    "\n",
    "exp_data = ExperimentalData()\n",
    "exp_data.add_data(mock_time, mock_A_ave, mock_A_std, 'A')\n",
    "\n",
    "init_paramset = tuple(model.get_parameters().values())\n",
    "params_name = list(model.get_parameters().keys())\n",
    "\n",
    "print(objective(init_paramset, runner, params_name, exp_data, sim_time=100))\n"
   ]
  },
  {
   "cell_type": "markdown",
   "metadata": {},
   "source": [
    "## Global Optimization using Scipy.differential_evolution"
   ]
  },
  {
   "cell_type": "code",
   "execution_count": 5,
   "metadata": {},
   "outputs": [
    {
     "name": "stdout",
     "output_type": "stream",
     "text": [
      "[1. 1. 1. 1. 1.] 0.0\n"
     ]
    }
   ],
   "source": [
    "from scipy.optimize import rosen, differential_evolution\n",
    "bounds = [(0, 2), (0, 2), (0, 2), (0, 2), (0, 2)]\n",
    "result = differential_evolution(rosen, bounds, updating='deferred', workers=2)\n",
    "print(result.x, result.fun)\n"
   ]
  }
 ],
 "metadata": {
  "kernelspec": {
   "display_name": "Python 3.8.3 ('new-peak-project': venv)",
   "language": "python",
   "name": "python3"
  },
  "language_info": {
   "codemirror_mode": {
    "name": "ipython",
    "version": 3
   },
   "file_extension": ".py",
   "mimetype": "text/x-python",
   "name": "python",
   "nbconvert_exporter": "python",
   "pygments_lexer": "ipython3",
   "version": "3.8.10"
  },
  "orig_nbformat": 4,
  "vscode": {
   "interpreter": {
    "hash": "26dd0fc41489774a473fd43448eb28c34cff45d3a78493dcfae1c9dcdb817ac1"
   }
  }
 },
 "nbformat": 4,
 "nbformat_minor": 2
}
