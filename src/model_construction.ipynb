{
 "cells": [
  {
   "cell_type": "code",
   "execution_count": 47,
   "metadata": {},
   "outputs": [
    {
     "name": "stdout",
     "output_type": "stream",
     "text": [
      "1.0\n"
     ]
    },
    {
     "data": {
      "image/png": "[encoded data removed]",
      "text/plain": [
       "<Figure size 432x288 with 1 Axes>"
      ]
     },
     "metadata": {
      "needs_background": "light"
     },
     "output_type": "display_data"
    },
    {
     "name": "stdout",
     "output_type": "stream",
     "text": [
      "['S3', 'S4', '[S3]', '[S4]', 'default_compartment', 'Vm', 'Km', '_J0', 'init([S3])', 'init([S4])', 'init(S3)', 'init(S4)', 'init(default_compartment)', 'init(Vm)', 'init(Km)', \"S3'\", \"S4'\", \"[S3]'\", \"[S4]'\", 'stoich(S3, _J0)', 'stoich(S4, _J0)', 'uec(_J0, S3)', 'uec(_J0, S4)', 'uec(_J0, Vm)', 'uec(_J0, Km)', 'ec(_J0, S3)', 'ec(_J0, S4)', 'ec(_J0, Vm)', 'ec(_J0, Km)', 'ucc(_J0, Vm)', 'ucc(_J0, Km)', 'ucc(S3, Vm)', 'ucc(S3, Km)', 'ucc(S4, Vm)', 'ucc(S4, Km)', 'cc(_J0, Vm)', 'cc(_J0, Km)', 'cc(S3, Vm)', 'cc(S3, Km)', 'cc(S4, Vm)', 'cc(S4, Km)']\n",
      "4.585861811911492e-05\n"
     ]
    }
   ],
   "source": [
    "import antimony\n",
    "import roadrunner \n",
    "import matplotlib.pyplot as plt \n",
    "\n",
    "ant_model = \"\"\"\n",
    "model pathway()\n",
    "  # Examples of different rate laws and initialization\n",
    "\n",
    "\n",
    "  J0; S3 -> S4; Vm*S3/(Km + S3)\n",
    "\n",
    "\n",
    "  S3 = 100\n",
    "  S4 = 0\n",
    "\n",
    "\n",
    "  Vm = 10\n",
    "  Km = 100\n",
    "end\n",
    "\"\"\"\n",
    "\n",
    "antimony.clearPreviousLoads()\n",
    "antimony.freeAll()\n",
    "code = antimony.loadAntimonyString(ant_model)\n",
    "if code >= 0:\n",
    "    mid = antimony.getMainModuleName()\n",
    "    sbml_model = antimony.getSBMLString(mid)\n",
    "    print('Antimony model compiled without error')\n",
    "\n",
    "r_model = roadrunner.RoadRunner(sbml_model)\n",
    "r_model.model['S3'] = 1\n",
    "print(r_model.model['S3'])\n",
    "\n",
    "\n",
    "r_solved = r_model.simulate(0, 100, 100)\n",
    "\n",
    "r_model.plot()\n",
    "\n",
    "print(r_model.model.keys())\n",
    "print(r_model.model['S3'])\n",
    "# print(r_solved)\n",
    "# plt.plot(r_solved)\n"
   ]
  }
 ],
 "metadata": {
  "kernelspec": {
   "display_name": "Python 3.8.3 ('new-peak-project': venv)",
   "language": "python",
   "name": "python3"
  },
  "language_info": {
   "codemirror_mode": {
    "name": "ipython",
    "version": 3
   },
   "file_extension": ".py",
   "mimetype": "text/x-python",
   "name": "python",
   "nbconvert_exporter": "python",
   "pygments_lexer": "ipython3",
   "version": "3.8.3"
  },
  "orig_nbformat": 4,
  "vscode": {
   "interpreter": {
    "hash": "26dd0fc41489774a473fd43448eb28c34cff45d3a78493dcfae1c9dcdb817ac1"
   }
  }
 },
 "nbformat": 4,
 "nbformat_minor": 2
}
