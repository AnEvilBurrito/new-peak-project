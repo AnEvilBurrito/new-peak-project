{
 "cells": [
  {
   "cell_type": "markdown",
   "id": "bb525841",
   "metadata": {},
   "source": [
    "# Sensitive Model Search\n",
    "\n",
    "by adjusting `o_random_seed` and `parameter_generation_seed`"
   ]
  },
  {
   "cell_type": "markdown",
   "id": "813136b5",
   "metadata": {},
   "source": [
    "## Init"
   ]
  },
  {
   "cell_type": "code",
   "execution_count": 6,
   "id": "3b773f6d",
   "metadata": {},
   "outputs": [
    {
     "name": "stdout",
     "output_type": "stream",
     "text": [
      "Project path set to: c:\\Github\\new-peak-project\\src\n"
     ]
    }
   ],
   "source": [
    "import os\n",
    "\n",
    "path = os.getcwd()\n",
    "# find the string 'project' in the path, return index\n",
    "index_project = path.find('project')\n",
    "# slice the path from the index of 'project' to the end\n",
    "project_path = path[:index_project+7]\n",
    "# set the working directory\n",
    "os.chdir(project_path+'\\src')\n",
    "print(f'Project path set to: {os.getcwd()}')"
   ]
  },
  {
   "cell_type": "code",
   "execution_count": 7,
   "id": "2e84e0ee",
   "metadata": {},
   "outputs": [
    {
     "name": "stdout",
     "output_type": "stream",
     "text": [
      "I:\\My Drive\\DAWSON PHD PROJECT\\Biomarker Data Repository\\data\\new-peak-project\\experiments\n"
     ]
    }
   ],
   "source": [
    "from dotenv import dotenv_values\n",
    "config = dotenv_values(\".env\")\n",
    "print(config[\"DATA_PATH\"])"
   ]
  },
  {
   "cell_type": "code",
   "execution_count": 8,
   "id": "5ec4769a",
   "metadata": {},
   "outputs": [],
   "source": [
    "from models.ModelBuilder import ModelBuilder\n",
    "from models.Reaction import Reaction\n",
    "from models.ReactionArchtype import ReactionArchtype\n",
    "from models.ArchtypeCollections import *\n",
    "from models.Utils import *\n",
    "\n",
    "import matplotlib.pyplot as plt\n",
    "import seaborn as sns\n",
    "import roadrunner\n",
    "import numpy as np\n",
    "import pandas as pd\n",
    "\n",
    "# import scikit-learn\n",
    "from sklearn.linear_model import LinearRegression\n",
    "# tree models and support vector machines\n",
    "from sklearn.ensemble import RandomForestRegressor\n",
    "from sklearn.ensemble import GradientBoostingRegressor\n",
    "from sklearn.svm import SVR\n",
    "from sklearn.neural_network import MLPRegressor\n",
    "from sklearn.model_selection import train_test_split\n",
    "from sklearn.metrics import mean_squared_error, r2_score\n",
    "# import pearson correlation\n",
    "from scipy.stats import pearsonr\n",
    "from sklearn.preprocessing import StandardScaler\n",
    "from sklearn.pipeline import Pipeline\n",
    "\n",
    "from copy import deepcopy"
   ]
  },
  {
   "cell_type": "markdown",
   "id": "8a444882",
   "metadata": {},
   "source": [
    "## Analysis"
   ]
  },
  {
   "cell_type": "code",
   "execution_count": null,
   "id": "90b6501f",
   "metadata": {},
   "outputs": [
    {
     "name": "stdout",
     "output_type": "stream",
     "text": [
      "I:\\My Drive\\DAWSON PHD PROJECT\\Biomarker Data Repository\\data\\new-peak-project\\experiments/sensitive_model_search/\n"
     ]
    }
   ],
   "source": [
    "import os \n",
    "\n",
    "### parameters \n",
    "notebook_name = 'sensitive_model_search'\n",
    "sub_id = '1'\n",
    "\n",
    "## Generation of ground truth model \n",
    "model_name = 'v3_small_model_52'\n",
    "o_random_seed = 6\n",
    "parameter_random_seed = 6\n",
    "no_observable_species = 5\n",
    "no_feedback_regulations = 2\n",
    "specie_value_range = (5, 5000)\n",
    "param_range = (0.1, 10)\n",
    "param_multiplier_range = (0.7, 1.3)\n",
    "\n",
    "\n",
    "## Simulation parameters \n",
    "simulation_time = 500 \n",
    "simulation_step = 100\n",
    "\n",
    "## Feature data generation \n",
    "feature_generation_method = 'uniform'\n",
    "feature_generation_extra_params = {'min': 0.1, 'max': 10}\n",
    "feature_generation_size = 1000 \n",
    "feature_generation_seed = 50 # if -1 then 'o_random_seed' is used\n",
    "if feature_generation_seed == -1:\n",
    "    feature_generation_seed = o_random_seed\n",
    "    \n",
    "## Data engineering parameters\n",
    "\n",
    "# Suboptimal Model Generation \n",
    "'''\n",
    "Options: \n",
    "- 'feedback_prune': removes feedback regulations from the model \n",
    "'''\n",
    "\n",
    "# Engineering Feature Data \n",
    "data_engineering_method = 'dynamic_feature'\n",
    "''' \n",
    "Options: \n",
    "- 'last_time_point' : only the last time point of the phosphorylated species is used\n",
    "- 'dynamic_feature': computes the characteristic 'ten' dynamic feature for each specie data \n",
    "'''\n",
    "\n",
    "## General parameters\n",
    "parallelise = True\n",
    "save_figures = True \n",
    "experiment_id = notebook_name + '_' + sub_id\n",
    "experiment_folder = config['DATA_PATH'] + '/' + experiment_id + '/'\n",
    "if not os.path.exists(experiment_folder):\n",
    "    os.makedirs(experiment_folder)\n",
    "    \n",
    "print(experiment_folder)"
   ]
  },
  {
   "cell_type": "code",
   "execution_count": null,
   "id": "262dd5f4",
   "metadata": {},
   "outputs": [],
   "source": [
    "o_random_seeds = list(range(1, 11))\n",
    "parameter_random_seeds = list(range(1, 11))\n",
    "species_perturbation_range = np.arange(1, 5000, 100)\n",
    "\n",
    "## Helper functions\n",
    "import warnings\n",
    "\n",
    "def sensitivity_analysis(builder: ModelBuilder, specie_name, specie_range, simulation_time, simulation_step):\n",
    "    all_results = []\n",
    "    for specie in specie_range:\n",
    "        builder.set_state(specie_name, specie)\n",
    "        runner = roadrunner.RoadRunner(builder.get_sbml_model())\n",
    "        try: \n",
    "            res = runner.simulate(0, simulation_time, simulation_step)\n",
    "            all_results.append(res)\n",
    "        except Exception as e:\n",
    "            warnings.warn(f\"Simulation failed for specie {specie}: {e}\")\n",
    "            continue\n",
    "    return all_results\n",
    "\n",
    "def extract_states_from_results(results, state_name, time_point):\n",
    "    all_states = []\n",
    "    for result in results:\n",
    "        state = result[f'[{state_name}]']\n",
    "        all_states.append(state[time_point])\n",
    "    return all_states\n",
    "\n",
    "def get_sensitivity_score(states):\n",
    "    state_sensitivity = []  \n",
    "    for i, specific_states in enumerate(states):\n",
    "        # get the max and min of the Cp final state list \n",
    "        max_state = max(specific_states)\n",
    "        min_state = min(specific_states)\n",
    "        # get the range of the Cp final state list \n",
    "        range_state = max_state - min_state\n",
    "        # append to the list \n",
    "        state_sensitivity.append(range_state)\n",
    "    # print the mean of the state sensitivity\n",
    "    return sum(state_sensitivity) / len(state_sensitivity)"
   ]
  },
  {
   "cell_type": "code",
   "execution_count": 20,
   "id": "9b820fb8",
   "metadata": {},
   "outputs": [],
   "source": [
    "results = []\n",
    "# use joblib to parallelise the code\n",
    "from joblib import Parallel, delayed\n",
    "\n",
    "def run_sensitivity_analysis(o_random_seed, parameter_random_seed, verbose=0):\n",
    "    # Generate the model \n",
    "    model_spec = ModelSpecification()\n",
    "    model_spec.generate_specifications(o_random_seed, no_observable_species, no_feedback_regulations, verbose=0)\n",
    "    G0 = model_spec.generate_network(model_name, specie_value_range, param_range, param_multiplier_range, random_seed=parameter_random_seed, verbose=0)\n",
    "    all_states = []\n",
    "    for i in range(no_observable_species):\n",
    "        all_states.append('A'+str(i))\n",
    "    for i in range(no_observable_species):\n",
    "        all_states.append('B'+str(i))\n",
    "                \n",
    "    all_init_species_results = []\n",
    "    for init_species in all_states: \n",
    "        all_results = sensitivity_analysis(G0, init_species, species_perturbation_range, simulation_time, simulation_step)\n",
    "        all_init_species_results.append(all_results)\n",
    "\n",
    "    # extract the last time point of Cp for each init species\n",
    "    Cp_final_states = []\n",
    "    for init_species in all_init_species_results: \n",
    "        Cp_final_states.append(extract_states_from_results(init_species, 'Cp', -1))\n",
    "        \n",
    "    sens_score = get_sensitivity_score(Cp_final_states)\n",
    "    if verbose: \n",
    "        print(f'Random seed: {o_random_seed}, Parameter random seed: {parameter_random_seed}, Sensitivity score: {sens_score}')\n",
    "    return [o_random_seed, parameter_random_seed, sens_score]\n",
    "\n",
    "\n",
    "\n"
   ]
  },
  {
   "cell_type": "code",
   "execution_count": 21,
   "id": "add2ed82",
   "metadata": {},
   "outputs": [
    {
     "name": "stdout",
     "output_type": "stream",
     "text": [
      "Random seed: 5, Parameter random seed: 5, Sensitivity score: 19.519678553312183\n"
     ]
    }
   ],
   "source": [
    "res = run_sensitivity_analysis(5, 5, verbose=1)"
   ]
  },
  {
   "cell_type": "code",
   "execution_count": null,
   "id": "61aa3689",
   "metadata": {},
   "outputs": [],
   "source": [
    "results = Parallel(n_jobs=-1)(delayed(run_sensitivity_analysis)(o_random_seed, parameter_random_seed) for o_random_seed in o_random_seeds for parameter_random_seed in parameter_random_seeds)\n",
    "# convert to pandas dataframe\n",
    "df = pd.DataFrame(results, columns=['o_random_seed', 'parameter_random_seed', 'sensitivity_score'])\n",
    "\n",
    "# sort the dataframe by sensitivity score\n",
    "df = df.sort_values(by='sensitivity_score', ascending=False)\n",
    "df"
   ]
  },
  {
   "cell_type": "code",
   "execution_count": null,
   "id": "a571f00d",
   "metadata": {},
   "outputs": [],
   "source": [
    "# save df to a pickle file\n",
    "df.to_pickle(experiment_folder + 'sensitivity_analysis_results.pkl')"
   ]
  }
 ],
 "metadata": {
  "kernelspec": {
   "display_name": "model-builder",
   "language": "python",
   "name": "python3"
  },
  "language_info": {
   "codemirror_mode": {
    "name": "ipython",
    "version": 3
   },
   "file_extension": ".py",
   "mimetype": "text/x-python",
   "name": "python",
   "nbconvert_exporter": "python",
   "pygments_lexer": "ipython3",
   "version": "3.8.10"
  }
 },
 "nbformat": 4,
 "nbformat_minor": 5
}
