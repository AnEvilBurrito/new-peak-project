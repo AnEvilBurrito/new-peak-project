{
 "cells": [
  {
   "cell_type": "markdown",
   "id": "bb525841",
   "metadata": {},
   "source": [
    "# Sensitive Model Search\n",
    "\n",
    "by adjusting `o_random_seed` and `parameter_generation_seed`"
   ]
  },
  {
   "cell_type": "markdown",
   "id": "813136b5",
   "metadata": {},
   "source": [
    "## Init"
   ]
  },
  {
   "cell_type": "code",
   "execution_count": 1,
   "id": "3b773f6d",
   "metadata": {},
   "outputs": [
    {
     "name": "stdout",
     "output_type": "stream",
     "text": [
      "Project path set to: c:\\Github\\new-peak-project\\src\n"
     ]
    }
   ],
   "source": [
    "import os\n",
    "\n",
    "path = os.getcwd()\n",
    "# find the string 'project' in the path, return index\n",
    "index_project = path.find('project')\n",
    "# slice the path from the index of 'project' to the end\n",
    "project_path = path[:index_project+7]\n",
    "# set the working directory\n",
    "os.chdir(project_path+'/src')\n",
    "print(f'Project path set to: {os.getcwd()}')"
   ]
  },
  {
   "cell_type": "code",
   "execution_count": 2,
   "id": "2e84e0ee",
   "metadata": {},
   "outputs": [
    {
     "name": "stdout",
     "output_type": "stream",
     "text": [
      "I:\\My Drive\\DAWSON PHD PROJECT\\Biomarker Data Repository\\data\\new-peak-project\\experiments\n"
     ]
    }
   ],
   "source": [
    "from dotenv import dotenv_values\n",
    "config = dotenv_values(\".env\")\n",
    "print(config[\"DATA_PATH\"])"
   ]
  },
  {
   "cell_type": "code",
   "execution_count": 3,
   "id": "5ec4769a",
   "metadata": {},
   "outputs": [],
   "source": [
    "from models.ModelBuilder import ModelBuilder\n",
    "from models.Reaction import Reaction\n",
    "from models.ReactionArchtype import ReactionArchtype\n",
    "from models.ArchtypeCollections import *\n",
    "from models.Utils import *\n",
    "\n",
    "import matplotlib.pyplot as plt\n",
    "import seaborn as sns\n",
    "import roadrunner\n",
    "import numpy as np\n",
    "import pandas as pd\n",
    "\n",
    "# import scikit-learn\n",
    "from sklearn.linear_model import LinearRegression\n",
    "# tree models and support vector machines\n",
    "from sklearn.ensemble import RandomForestRegressor\n",
    "from sklearn.ensemble import GradientBoostingRegressor\n",
    "from sklearn.svm import SVR\n",
    "from sklearn.neural_network import MLPRegressor\n",
    "from sklearn.model_selection import train_test_split\n",
    "from sklearn.metrics import mean_squared_error, r2_score\n",
    "# import pearson correlation\n",
    "from scipy.stats import pearsonr\n",
    "from sklearn.preprocessing import StandardScaler\n",
    "from sklearn.pipeline import Pipeline\n",
    "\n",
    "from copy import deepcopy"
   ]
  },
  {
   "cell_type": "markdown",
   "id": "8a444882",
   "metadata": {},
   "source": [
    "## Analysis"
   ]
  },
  {
   "cell_type": "code",
   "execution_count": 4,
   "id": "90b6501f",
   "metadata": {},
   "outputs": [
    {
     "name": "stdout",
     "output_type": "stream",
     "text": [
      "I:\\My Drive\\DAWSON PHD PROJECT\\Biomarker Data Repository\\data\\new-peak-project\\experiments/exp4_drug_model_search_2/\n"
     ]
    }
   ],
   "source": [
    "import os \n",
    "\n",
    "### parameters \n",
    "notebook_name = 'exp4_drug_model_search'\n",
    "sub_id = '2'\n",
    "\n",
    "## Model parameters\n",
    "no_observable_species = 15\n",
    "no_feedback_regulations = 10\n",
    "specie_value_range = (5, 5000)\n",
    "param_range = (0.05, 20)\n",
    "param_multiplier_range = (0.5, 1.5)\n",
    "model_name = 'sensitive_model_search'\n",
    "\n",
    "drug_name = 'D0'\n",
    "drug_conc = 5000\n",
    "drug_time = 500\n",
    "\n",
    "## Sensitivity analysis parameters \n",
    "o_random_seeds = list(range(1,10))\n",
    "parameter_random_seeds = list(range(1, 10))\n",
    "species_perturbation_range = np.arange(1, 5000, 500)\n",
    "\n",
    "## Simulation parameters \n",
    "simulation_time = 1000 \n",
    "simulation_step = 100\n",
    "\n",
    "## General parameters\n",
    "parallelise = True\n",
    "save_figures = True \n",
    "experiment_id = notebook_name + '_' + sub_id\n",
    "experiment_folder = config['DATA_PATH'] + '/' + experiment_id + '/'\n",
    "if not os.path.exists(experiment_folder):\n",
    "    os.makedirs(experiment_folder)\n",
    "    \n",
    "print(experiment_folder)"
   ]
  },
  {
   "cell_type": "code",
   "execution_count": 5,
   "id": "262dd5f4",
   "metadata": {},
   "outputs": [],
   "source": [
    "## Helper functions\n",
    "import warnings\n",
    "\n",
    "from models.SensitivityAnalysis import sensitivity_analysis, get_sensitivity_score, extract_states_from_results"
   ]
  },
  {
   "cell_type": "code",
   "execution_count": 6,
   "id": "9b820fb8",
   "metadata": {},
   "outputs": [],
   "source": [
    "results = []\n",
    "# use joblib to parallelise the code\n",
    "from joblib import Parallel, delayed\n",
    "from models.Solver.RoadrunnerSolver import RoadrunnerSolver\n",
    "from models.DrugModelSpecification import DrugModelSpecification, Drug\n",
    "\n",
    "\n",
    "import numpy as np\n",
    "\n",
    "def fitness_function(values):\n",
    "    values = np.array(values)\n",
    "\n",
    "    # Penalty: any value > 50\n",
    "    penalty_high = np.sum(np.maximum(values - 50, 0)) * 10\n",
    "\n",
    "    # Penalty: mean deviates from 20\n",
    "    mean_penalty = abs(np.mean(values) - 20) * 0.5\n",
    "\n",
    "    # Reward: higher standard deviation\n",
    "    std_reward = np.std(values) * 3\n",
    "\n",
    "    # Penalty: too many values < 5\n",
    "    small_count = np.sum(values < 5)\n",
    "    total_count = len(values)\n",
    "    if small_count > total_count / 2:\n",
    "        small_penalty = (small_count - total_count / 2) * 15  # heavy penalty per extra small value\n",
    "    else:\n",
    "        small_penalty = 0\n",
    "\n",
    "    # Total penalty (lower is better)\n",
    "    total_score = penalty_high + mean_penalty + small_penalty - std_reward\n",
    "    return total_score\n",
    "\n",
    "\n",
    "def run_sensitivity_analysis(o_random_seed, parameter_random_seed, verbose=0):\n",
    "    # Generate the model \n",
    "    model_spec = DrugModelSpecification()\n",
    "    model_spec.generate_specifications(o_random_seed, no_observable_species, no_feedback_regulations, verbose=0)\n",
    "    drug_0 = Drug(drug_name, drug_time, drug_conc)\n",
    "    np.random.seed(o_random_seed)\n",
    "    # add random 'up' and 'down' regulations to the drug\n",
    "    regulation_dir = []\n",
    "    for i, s in enumerate(model_spec.A_species):\n",
    "        regulation_dir.append(np.random.choice(['up', 'down']))\n",
    "        drug_0.add_regulation(s, 'up')\n",
    "    model_spec.add_drug(drug_0)\n",
    "    G0 = model_spec.generate_network(model_name, specie_value_range, param_range, param_multiplier_range, random_seed=parameter_random_seed, verbose=0)\n",
    "    solver = RoadrunnerSolver()\n",
    "    solver.compile(G0.get_sbml_model())\n",
    "    all_states = []\n",
    "    for i in range(no_observable_species):\n",
    "        all_states.append('A'+str(i))\n",
    "    for i in range(no_observable_species):\n",
    "        all_states.append('B'+str(i))\n",
    "                \n",
    "    all_init_species_results = []\n",
    "    for init_species in all_states: \n",
    "        all_results = sensitivity_analysis(G0, solver, init_species, species_perturbation_range, simulation_time, simulation_step)\n",
    "        all_init_species_results.append(all_results)\n",
    "\n",
    "    # extract the last time point of Cp for each init species\n",
    "    Cp_final_states = []\n",
    "    for init_species in all_init_species_results: \n",
    "        Cp_final_states.append(extract_states_from_results(init_species, 'Cp', -1))\n",
    "        \n",
    "    state_sensitivity = get_sensitivity_score(Cp_final_states)\n",
    "    # get a balance of sensitiv\n",
    "    mean = np.mean(state_sensitivity)\n",
    "    std_dev = np.std(state_sensitivity)\n",
    "    cv = std_dev / mean\n",
    "    # get the mean of the sensitivity score\n",
    "    sens_score = np.mean(state_sensitivity)\n",
    "    median = np.median(state_sensitivity)\n",
    "    # use a custom fitness function to punish large values in `state_sensitivity`\n",
    "    # for each value in `state_sensitivity`, ideal target is a tailed distribution with mean around 20 and no value above 50 \n",
    "    fitness = fitness_function(state_sensitivity)\n",
    "    all_species = model_spec.A_species + model_spec.B_species\n",
    "    if verbose: \n",
    "        print(f'Random seed: {o_random_seed}, Parameter random seed: {parameter_random_seed}, Fitness: {fitness} Mean: {sens_score}, CV: {cv}, Median: {median}')\n",
    "        if verbose == 2:\n",
    "            print('State sensitivity as a function of init species:')\n",
    "            for i, s in enumerate(all_species): \n",
    "                print(f'Init species: {s}, Sensitivity score: {state_sensitivity[i]}')\n",
    "    return [o_random_seed, parameter_random_seed, fitness, cv, sens_score, median]\n",
    "\n",
    "\n",
    "\n"
   ]
  },
  {
   "cell_type": "code",
   "execution_count": 7,
   "id": "add2ed82",
   "metadata": {},
   "outputs": [
    {
     "name": "stdout",
     "output_type": "stream",
     "text": [
      "Random seed: 6, Parameter random seed: 7, Fitness: 140.25138544622695 Mean: 5.378370473965739, CV: 2.0164630301942554, Median: 1.7462788114004368\n",
      "State sensitivity as a function of init species:\n",
      "Init species: A0, Sensitivity score: 18.97001739487439\n",
      "Init species: A1, Sensitivity score: 0.523682455759257\n",
      "Init species: A2, Sensitivity score: 4.866154593663467\n",
      "Init species: A3, Sensitivity score: 0.09842966737605252\n",
      "Init species: A4, Sensitivity score: 0.9366618215282898\n",
      "Init species: A5, Sensitivity score: 0.022423603885158627\n",
      "Init species: A6, Sensitivity score: 7.607626045852427\n",
      "Init species: A7, Sensitivity score: 0.5010743156481681\n",
      "Init species: A8, Sensitivity score: 0.24494805396274444\n",
      "Init species: A9, Sensitivity score: 0.18235051786138\n",
      "Init species: A10, Sensitivity score: 1.6133317983850333\n",
      "Init species: A11, Sensitivity score: 2.913276591537155\n",
      "Init species: A12, Sensitivity score: 1.8792258244158404\n",
      "Init species: A13, Sensitivity score: 2.1058744863466927e-06\n",
      "Init species: A14, Sensitivity score: 6.850701562457246\n",
      "Init species: B0, Sensitivity score: 57.547642635353064\n",
      "Init species: B1, Sensitivity score: 1.545422420113482\n",
      "Init species: B2, Sensitivity score: 5.770401317271521\n",
      "Init species: B3, Sensitivity score: 3.736190219458564\n",
      "Init species: B4, Sensitivity score: 0.38280149411755815\n",
      "Init species: B5, Sensitivity score: 0.3037202896336879\n",
      "Init species: B6, Sensitivity score: 7.061305979197684\n",
      "Init species: B7, Sensitivity score: 0.05444490570909011\n",
      "Init species: B8, Sensitivity score: 2.437857074156639\n",
      "Init species: B9, Sensitivity score: 4.526481256202118\n",
      "Init species: B10, Sensitivity score: 0.24861400207262818\n",
      "Init species: B11, Sensitivity score: 5.412676205407877\n",
      "Init species: B12, Sensitivity score: 5.163648141427657\n",
      "Init species: B13, Sensitivity score: 2.830784694651811e-05\n",
      "Init species: B14, Sensitivity score: 19.94997361792251\n"
     ]
    }
   ],
   "source": [
    "res = run_sensitivity_analysis(6, 7, verbose=2)"
   ]
  },
  {
   "cell_type": "code",
   "execution_count": 8,
   "id": "61aa3689",
   "metadata": {},
   "outputs": [
    {
     "name": "stdout",
     "output_type": "stream",
     "text": [
      "Joblib running on CPU cores: 16\n"
     ]
    },
    {
     "data": {
      "application/vnd.microsoft.datawrangler.viewer.v0+json": {
       "columns": [
        {
         "name": "index",
         "rawType": "int64",
         "type": "integer"
        },
        {
         "name": "o_random_seed",
         "rawType": "int64",
         "type": "integer"
        },
        {
         "name": "parameter_random_seed",
         "rawType": "int64",
         "type": "integer"
        },
        {
         "name": "fitness",
         "rawType": "float64",
         "type": "float"
        },
        {
         "name": "cv",
         "rawType": "float64",
         "type": "float"
        },
        {
         "name": "mean",
         "rawType": "float64",
         "type": "float"
        },
        {
         "name": "median",
         "rawType": "float64",
         "type": "float"
        }
       ],
       "conversionMethod": "pd.DataFrame",
       "ref": "e3305b54-ad17-435b-a92b-c64263ea41f0",
       "rows": [
        [
         "51",
         "6",
         "7",
         "140.25138544622695",
         "2.0164630301942554",
         "5.378370473965739",
         "1.7462788114004368"
        ],
        [
         "60",
         "7",
         "7",
         "142.91935881456442",
         "2.663962715218007",
         "3.7777983688885275",
         "0.625470829252964"
        ],
        [
         "70",
         "8",
         "8",
         "149.4927178962737",
         "1.3158322364610338",
         "2.362515992773779",
         "0.9631882010466803"
        ],
        [
         "59",
         "7",
         "6",
         "163.07386435298713",
         "1.5010262951458726",
         "2.3837592650649757",
         "0.8502329823342327"
        ],
        [
         "14",
         "2",
         "6",
         "166.98693092777984",
         "1.474385224622489",
         "1.6276286193333718",
         "0.3053651092111238"
        ],
        [
         "61",
         "7",
         "8",
         "174.55056198451084",
         "3.2876493349579197",
         "2.9382988316807737",
         "0.17881887147203113"
        ],
        [
         "80",
         "9",
         "9",
         "180.65395783900087",
         "2.179179515704078",
         "4.995153044953914",
         "2.364798838274396"
        ],
        [
         "48",
         "6",
         "4",
         "182.12900680154223",
         "2.6920477682390302",
         "2.6668156519583985",
         "0.699625417753615"
        ],
        [
         "45",
         "6",
         "1",
         "183.68519287298176",
         "1.482816484737159",
         "1.276118344837066",
         "0.4336783028781346"
        ],
        [
         "62",
         "7",
         "9",
         "193.58188121592582",
         "1.8949244100848823",
         "1.8461661178164277",
         "0.3501290201704821"
        ],
        [
         "53",
         "6",
         "9",
         "193.87064040727927",
         "2.257099119384033",
         "1.5305878778624313",
         "0.477234091468266"
        ],
        [
         "54",
         "7",
         "1",
         "197.04027315726125",
         "1.3744363317592552",
         "1.721651494820872",
         "1.1767301669718506"
        ],
        [
         "35",
         "4",
         "9",
         "215.20940006572553",
         "1.3848719413692412",
         "1.0292148944843982",
         "0.3604035900110638"
        ],
        [
         "65",
         "8",
         "3",
         "215.2352579372458",
         "1.5861881302554417",
         "0.9060917978147747",
         "0.013730038509679687"
        ],
        [
         "49",
         "6",
         "5",
         "230.04912726204967",
         "1.3274242992805438",
         "1.1045451383235354",
         "0.6037946807247252"
        ],
        [
         "67",
         "8",
         "5",
         "230.45825935593845",
         "1.6406164521388285",
         "0.8376737060550405",
         "0.06640583032967395"
        ],
        [
         "12",
         "2",
         "4",
         "230.5362950934126",
         "1.6747053437329738",
         "0.8080396721172062",
         "0.17894583810399833"
        ],
        [
         "8",
         "1",
         "9",
         "231.14503686958506",
         "1.969766533710687",
         "0.6014640242022757",
         "0.007433980791414996"
        ],
        [
         "5",
         "1",
         "6",
         "231.73653953293322",
         "1.6008160382920398",
         "0.615462970379865",
         "0.023373073591563376"
        ],
        [
         "46",
         "6",
         "2",
         "232.26167476467734",
         "1.3675019820333885",
         "0.5949639755800665",
         "0.4544300341476468"
        ],
        [
         "43",
         "5",
         "8",
         "232.26903407639998",
         "1.4014276702618915",
         "0.5805275569813",
         "0.1481538961046649"
        ],
        [
         "57",
         "7",
         "4",
         "232.5702657059543",
         "1.7292014158535278",
         "0.42719819950338533",
         "0.10144679401710799"
        ],
        [
         "47",
         "6",
         "3",
         "232.77503236669935",
         "2.516174415353115",
         "0.2764442078725453",
         "0.03302727711047976"
        ],
        [
         "3",
         "1",
         "4",
         "232.8149282198852",
         "1.4185406001395002",
         "0.4594713103389586",
         "0.0018063979408800002"
        ],
        [
         "44",
         "5",
         "9",
         "232.91557230405678",
         "1.3597058745487038",
         "0.45520291620801445",
         "0.2520817435117204"
        ],
        [
         "69",
         "8",
         "7",
         "233.03087822131283",
         "1.16219889154982",
         "0.4939355393558325",
         "0.21304904345426534"
        ],
        [
         "71",
         "8",
         "9",
         "233.26120813105427",
         "1.1871953833295041",
         "0.4281066077967219",
         "0.3012481098686959"
        ],
        [
         "56",
         "7",
         "3",
         "233.46083192181652",
         "1.916149788155712",
         "0.24632800690299358",
         "0.05864881552222956"
        ],
        [
         "64",
         "8",
         "2",
         "233.600309721017",
         "1.5185309228910746",
         "0.27685977550567886",
         "0.008279010665021236"
        ],
        [
         "13",
         "2",
         "5",
         "233.78144829595985",
         "1.8537590901834666",
         "0.20103876619547825",
         "0.052270282616999286"
        ],
        [
         "9",
         "2",
         "1",
         "233.86484871095647",
         "1.8108702970986459",
         "0.19134093063629",
         "0.012053759632415395"
        ],
        [
         "16",
         "2",
         "8",
         "233.87314025711618",
         "1.6906523173764159",
         "0.20223769719778875",
         "0.08363091701489522"
        ],
        [
         "28",
         "4",
         "2",
         "233.96959215502818",
         "1.3141034840561692",
         "0.23195313701428652",
         "0.05827988335367018"
        ],
        [
         "27",
         "4",
         "1",
         "234.00359531774077",
         "1.3961146275360126",
         "0.21252807115013297",
         "0.02890706685923905"
        ],
        [
         "68",
         "8",
         "6",
         "234.0235622924852",
         "1.9916372036091825",
         "0.1508032489404149",
         "0.010376741886494845"
        ],
        [
         "21",
         "3",
         "4",
         "234.04565698944918",
         "1.3261380148533037",
         "0.2130984319572044",
         "0.12367993462645221"
        ],
        [
         "55",
         "7",
         "2",
         "234.14730973284995",
         "1.154110829213788",
         "0.2151990701965673",
         "0.10091506685850771"
        ],
        [
         "66",
         "8",
         "4",
         "234.224084703148",
         "1.1100367018089663",
         "0.2025830264651099",
         "0.08013383603673097"
        ],
        [
         "34",
         "4",
         "8",
         "234.23004138996114",
         "1.4400081573694912",
         "0.159741639175132",
         "0.019117885257422307"
        ],
        [
         "30",
         "4",
         "4",
         "234.29324401393006",
         "1.454333646642608",
         "0.14533330237859282",
         "0.024966346099465797"
        ],
        [
         "10",
         "2",
         "2",
         "234.33713510847306",
         "1.434253253848798",
         "0.13801749919581857",
         "0.04443404976025683"
        ],
        [
         "58",
         "7",
         "5",
         "234.5043270363534",
         "2.2610714407287817",
         "0.06805689654589334",
         "0.022653647229516127"
        ],
        [
         "38",
         "5",
         "3",
         "234.52168878883853",
         "1.6448149158019745",
         "0.08801473441970398",
         "0.03810981860673618"
        ],
        [
         "41",
         "5",
         "6",
         "234.61302023648355",
         "1.723097952566766",
         "0.06825890017869148",
         "0.019686721598501378"
        ],
        [
         "15",
         "2",
         "7",
         "234.615974806459",
         "1.7405620977666247",
         "0.06711748492584631",
         "0.003249884841494022"
        ],
        [
         "2",
         "1",
         "3",
         "234.6159819167363",
         "1.4770115902838705",
         "0.07787778855945136",
         "0.0045805778290927135"
        ],
        [
         "42",
         "5",
         "7",
         "234.65361571133263",
         "1.1123044958518002",
         "0.09027680446557246",
         "0.05885172373444586"
        ],
        [
         "7",
         "1",
         "8",
         "234.66757886652863",
         "1.6169326354079232",
         "0.062125525818254854",
         "0.0015709122351462157"
        ],
        [
         "17",
         "2",
         "9",
         "234.6717999338789",
         "1.7820520310166177",
         "0.056139463417898244",
         "0.0027691319197107045"
        ],
        [
         "0",
         "1",
         "1",
         "234.67492158331694",
         "1.6296935683762404",
         "0.06032168276376038",
         "0.0044676434087528305"
        ]
       ],
       "shape": {
        "columns": 6,
        "rows": 81
       }
      },
      "text/html": [
       "<div>\n",
       "<style scoped>\n",
       "    .dataframe tbody tr th:only-of-type {\n",
       "        vertical-align: middle;\n",
       "    }\n",
       "\n",
       "    .dataframe tbody tr th {\n",
       "        vertical-align: top;\n",
       "    }\n",
       "\n",
       "    .dataframe thead th {\n",
       "        text-align: right;\n",
       "    }\n",
       "</style>\n",
       "<table border=\"1\" class=\"dataframe\">\n",
       "  <thead>\n",
       "    <tr style=\"text-align: right;\">\n",
       "      <th></th>\n",
       "      <th>o_random_seed</th>\n",
       "      <th>parameter_random_seed</th>\n",
       "      <th>fitness</th>\n",
       "      <th>cv</th>\n",
       "      <th>mean</th>\n",
       "      <th>median</th>\n",
       "    </tr>\n",
       "  </thead>\n",
       "  <tbody>\n",
       "    <tr>\n",
       "      <th>51</th>\n",
       "      <td>6</td>\n",
       "      <td>7</td>\n",
       "      <td>140.251385</td>\n",
       "      <td>2.016463</td>\n",
       "      <td>5.378370</td>\n",
       "      <td>1.746279</td>\n",
       "    </tr>\n",
       "    <tr>\n",
       "      <th>60</th>\n",
       "      <td>7</td>\n",
       "      <td>7</td>\n",
       "      <td>142.919359</td>\n",
       "      <td>2.663963</td>\n",
       "      <td>3.777798</td>\n",
       "      <td>0.625471</td>\n",
       "    </tr>\n",
       "    <tr>\n",
       "      <th>70</th>\n",
       "      <td>8</td>\n",
       "      <td>8</td>\n",
       "      <td>149.492718</td>\n",
       "      <td>1.315832</td>\n",
       "      <td>2.362516</td>\n",
       "      <td>0.963188</td>\n",
       "    </tr>\n",
       "    <tr>\n",
       "      <th>59</th>\n",
       "      <td>7</td>\n",
       "      <td>6</td>\n",
       "      <td>163.073864</td>\n",
       "      <td>1.501026</td>\n",
       "      <td>2.383759</td>\n",
       "      <td>0.850233</td>\n",
       "    </tr>\n",
       "    <tr>\n",
       "      <th>14</th>\n",
       "      <td>2</td>\n",
       "      <td>6</td>\n",
       "      <td>166.986931</td>\n",
       "      <td>1.474385</td>\n",
       "      <td>1.627629</td>\n",
       "      <td>0.305365</td>\n",
       "    </tr>\n",
       "    <tr>\n",
       "      <th>...</th>\n",
       "      <td>...</td>\n",
       "      <td>...</td>\n",
       "      <td>...</td>\n",
       "      <td>...</td>\n",
       "      <td>...</td>\n",
       "      <td>...</td>\n",
       "    </tr>\n",
       "    <tr>\n",
       "      <th>73</th>\n",
       "      <td>9</td>\n",
       "      <td>2</td>\n",
       "      <td>602.775767</td>\n",
       "      <td>3.882309</td>\n",
       "      <td>4.589310</td>\n",
       "      <td>0.193272</td>\n",
       "    </tr>\n",
       "    <tr>\n",
       "      <th>72</th>\n",
       "      <td>9</td>\n",
       "      <td>1</td>\n",
       "      <td>642.337780</td>\n",
       "      <td>3.631694</td>\n",
       "      <td>5.321714</td>\n",
       "      <td>0.191237</td>\n",
       "    </tr>\n",
       "    <tr>\n",
       "      <th>74</th>\n",
       "      <td>9</td>\n",
       "      <td>3</td>\n",
       "      <td>739.536870</td>\n",
       "      <td>3.273050</td>\n",
       "      <td>6.044159</td>\n",
       "      <td>0.260582</td>\n",
       "    </tr>\n",
       "    <tr>\n",
       "      <th>79</th>\n",
       "      <td>9</td>\n",
       "      <td>8</td>\n",
       "      <td>740.769430</td>\n",
       "      <td>3.778990</td>\n",
       "      <td>5.388159</td>\n",
       "      <td>0.041826</td>\n",
       "    </tr>\n",
       "    <tr>\n",
       "      <th>78</th>\n",
       "      <td>9</td>\n",
       "      <td>7</td>\n",
       "      <td>896.562425</td>\n",
       "      <td>3.171220</td>\n",
       "      <td>6.992461</td>\n",
       "      <td>0.675430</td>\n",
       "    </tr>\n",
       "  </tbody>\n",
       "</table>\n",
       "<p>81 rows × 6 columns</p>\n",
       "</div>"
      ],
      "text/plain": [
       "    o_random_seed  parameter_random_seed     fitness        cv      mean  \\\n",
       "51              6                      7  140.251385  2.016463  5.378370   \n",
       "60              7                      7  142.919359  2.663963  3.777798   \n",
       "70              8                      8  149.492718  1.315832  2.362516   \n",
       "59              7                      6  163.073864  1.501026  2.383759   \n",
       "14              2                      6  166.986931  1.474385  1.627629   \n",
       "..            ...                    ...         ...       ...       ...   \n",
       "73              9                      2  602.775767  3.882309  4.589310   \n",
       "72              9                      1  642.337780  3.631694  5.321714   \n",
       "74              9                      3  739.536870  3.273050  6.044159   \n",
       "79              9                      8  740.769430  3.778990  5.388159   \n",
       "78              9                      7  896.562425  3.171220  6.992461   \n",
       "\n",
       "      median  \n",
       "51  1.746279  \n",
       "60  0.625471  \n",
       "70  0.963188  \n",
       "59  0.850233  \n",
       "14  0.305365  \n",
       "..       ...  \n",
       "73  0.193272  \n",
       "72  0.191237  \n",
       "74  0.260582  \n",
       "79  0.041826  \n",
       "78  0.675430  \n",
       "\n",
       "[81 rows x 6 columns]"
      ]
     },
     "execution_count": 8,
     "metadata": {},
     "output_type": "execute_result"
    }
   ],
   "source": [
    "from joblib import cpu_count\n",
    "print(f'Joblib running on CPU cores: {cpu_count()}')\n",
    "\n",
    "results = Parallel(n_jobs=-1)(delayed(run_sensitivity_analysis)(o_random_seed, parameter_random_seed) for o_random_seed in o_random_seeds for parameter_random_seed in parameter_random_seeds)\n",
    "# convert to pandas dataframe\n",
    "df = pd.DataFrame(results, columns=['o_random_seed', 'parameter_random_seed', 'fitness','cv', 'mean', 'median'])\n",
    "\n",
    "# sort the dataframe by sensitivity score\n",
    "df = df.sort_values(by='fitness', ascending=True)\n",
    "df"
   ]
  },
  {
   "cell_type": "markdown",
   "id": "bde0660c",
   "metadata": {},
   "source": [
    "## DE "
   ]
  },
  {
   "cell_type": "code",
   "execution_count": 48,
   "id": "5ba3594b",
   "metadata": {},
   "outputs": [
    {
     "name": "stdout",
     "output_type": "stream",
     "text": [
      "Number of states: 8, Number of parameters: 27\n",
      "Number of bounds: 35\n"
     ]
    }
   ],
   "source": [
    "# Preparing variables for differential evolution\n",
    "from models.DrugModelSpecification import DrugModelSpecification, Drug\n",
    "from models.Solver.RoadrunnerSolver import RoadrunnerSolver\n",
    "model_spec = DrugModelSpecification()\n",
    "\n",
    "no_observable_species = 2\n",
    "no_feedback_regulations = 1\n",
    "drug_name = 'D0'\n",
    "drug_conc = 5000\n",
    "drug_time = 500\n",
    "model_name = 'de_model'\n",
    "specie_value_range = (5, 5000)\n",
    "param_range = (0.05, 20)\n",
    "param_multiplier_range = (0.5, 1.5)\n",
    "simulation_time = 1000\n",
    "simulation_step = 100\n",
    "specie_value_range = (5, 5000)\n",
    "\n",
    "model_spec.generate_specifications(5, no_observable_species, no_feedback_regulations, verbose=0)\n",
    "drug_0 = Drug(drug_name, drug_time, drug_conc)\n",
    "np.random.seed(5)\n",
    "# add random 'up' and 'down ' regulations to the drug\n",
    "regulation_dir = []\n",
    "for i, s in enumerate(model_spec.A_species):\n",
    "    regulation_dir.append(np.random.choice(['up', 'down']))\n",
    "    drug_0.add_regulation(s, regulation_dir[-1])\n",
    "model_spec.add_drug(drug_0)\n",
    "G0 = model_spec.generate_network(model_name, specie_value_range, param_range, param_multiplier_range, random_seed=5, verbose=0)\n",
    "solver = RoadrunnerSolver()\n",
    "solver.compile(G0.get_sbml_model())\n",
    "# state bounds\n",
    "states = G0.get_state_variables()\n",
    "del states['C']\n",
    "del states['Cp']\n",
    "num_states = len(states)    \n",
    "state_bounds = [(specie_value_range[0], specie_value_range[1]) for _ in range(num_states)]\n",
    "state_names = list(states.keys())\n",
    "perturb_state_names = [val for val in state_names if 'p' not in val]\n",
    "# parameter bounds\n",
    "params = G0.get_parameters()\n",
    "param_vals = list(params.values())\n",
    "param_names = list(params.keys())\n",
    "param_bounds = [(val*param_multiplier_range[0], val*param_multiplier_range[1]) for val in param_vals]\n",
    "\n",
    "# combine state and parameter bounds\n",
    "bounds = state_bounds + param_bounds\n",
    "print(f'Number of states: {num_states}, Number of parameters: {len(param_bounds)}')\n",
    "print(f'Number of bounds: {len(bounds)}')"
   ]
  },
  {
   "cell_type": "code",
   "execution_count": 49,
   "id": "09c32b2e",
   "metadata": {},
   "outputs": [],
   "source": [
    "from models.SensitivityAnalysis import extract_states_from_results, get_sensitivity_score\n",
    "\n",
    "\n",
    "def fitness_function(values):\n",
    "    values = np.array(values)\n",
    "\n",
    "    # Penalty: any value > 50\n",
    "    penalty_high = np.sum(np.maximum(values - 50, 0)) * 10\n",
    "\n",
    "    # Penalty: mean deviates from 20\n",
    "    mean_penalty = abs(np.mean(values) - 20) * 0.5\n",
    "\n",
    "    # Reward: higher standard deviation\n",
    "    std_reward = np.std(values) * 3\n",
    "\n",
    "    # Penalty: too many values < 5\n",
    "    small_count = np.sum(values < 5)\n",
    "    total_count = len(values)\n",
    "    if small_count > total_count / 2:\n",
    "        small_penalty = (small_count - total_count / 2) * 15  # heavy penalty per extra small value\n",
    "    else:\n",
    "        small_penalty = 0\n",
    "\n",
    "    # Total penalty (lower is better)\n",
    "    total_score = penalty_high + mean_penalty + small_penalty - std_reward\n",
    "    return total_score\n",
    "\n",
    "\n",
    "# define the fitness function for differential evolution\n",
    "def fitness_function_de(x, \n",
    "                        solver, \n",
    "                        state_names, \n",
    "                        param_names, \n",
    "                        perturb_state_names,\n",
    "                        simulation_time,\n",
    "                        simulation_step,\n",
    "                        specie_value_range):\n",
    "    \n",
    "    all_init_species_results = []\n",
    "    for init_specie in perturb_state_names: \n",
    "        all_results = []\n",
    "        for specie in specie_value_range:\n",
    "            # first set the state values as a whole from the x vector\n",
    "            # print(f'Setting state values: {state_names} to {x[:num_states]}')\n",
    "            states_values = {state_names[i]: np.float64(x[i]) for i in range(num_states)}\n",
    "            solver.set_state_values(states_values)\n",
    "            # then set the parameters values from the x vector\n",
    "            params_values = {param_names[i]: np.float64(x[i+num_states]) for i in range(len(param_names))}\n",
    "            solver.set_parameter_values(params_values)\n",
    "            # finally set the state values for the specific specie, for perturbation\n",
    "            solver.set_state_values({init_specie: np.float64(specie)})\n",
    "            res = solver.simulate(0, simulation_time, simulation_step)\n",
    "            all_results.append(res)\n",
    "        all_init_species_results.append(all_results)\n",
    "\n",
    "    # extract the last time point of Cp for each init species\n",
    "    Cp_final_states = []\n",
    "    for init_specie in all_init_species_results: \n",
    "        Cp_final_states.append(extract_states_from_results(init_specie, 'Cp', -1))\n",
    "        \n",
    "    state_sensitivity = get_sensitivity_score(Cp_final_states)\n",
    "    fitness = fitness_function(state_sensitivity)\n",
    "    # print(f'Fitness: {fitness}')\n",
    "    return fitness\n",
    "\n"
   ]
  },
  {
   "cell_type": "code",
   "execution_count": 50,
   "id": "ed8b04b2",
   "metadata": {},
   "outputs": [
    {
     "name": "stdout",
     "output_type": "stream",
     "text": [
      "Fitness: 39.99164856279031\n"
     ]
    }
   ],
   "source": [
    "# test fitness function\n",
    "x = np.random.uniform(0, 5000, len(state_bounds) + len(param_bounds))\n",
    "fitness = fitness_function_de(x, solver, state_names, param_names, perturb_state_names, simulation_time, simulation_step, specie_value_range)\n",
    "print(f'Fitness: {fitness}')"
   ]
  },
  {
   "cell_type": "code",
   "execution_count": 51,
   "id": "f4d0a8cc",
   "metadata": {},
   "outputs": [
    {
     "name": "stdout",
     "output_type": "stream",
     "text": [
      "Cost: 39.77| Progress: [----------------------------->] 100%| Gen: 1| Time per gen (s): 0.000\r"
     ]
    }
   ],
   "source": [
    "from scipy.optimize import differential_evolution\n",
    "import time\n",
    "\n",
    "progress_err = []\n",
    "start_time = time.time()\n",
    "\n",
    "def progress_bar(current, total, iteration, current_best, elapsed_time, bar_length=30):\n",
    "    fraction = current / total\n",
    "    if fraction > 1:\n",
    "        fraction = 1\n",
    "\n",
    "    arrow = int(fraction * bar_length - 1) * '-' + '>'\n",
    "    padding = int(bar_length - len(arrow)) * ' '\n",
    "\n",
    "    ending = '\\n' if current == total else '\\r'\n",
    "\n",
    "    end_time = time.time()\n",
    "\n",
    "    print(f'Cost: {current_best:.2f}| Progress: [{arrow}{padding}] {int(fraction*100)}%| Gen: {iteration}| Time per gen (s): {elapsed_time:.3f}', end=ending)\n",
    "\n",
    "def callback(x, convergence):\n",
    "    end_time = time.time()\n",
    "    n = len(progress_err)\n",
    "    elapsed_time = (end_time - start_time) / n if n > 0 else 0\n",
    "    current_best = fitness_function_de(x, solver, state_names, param_names, perturb_state_names, simulation_time, simulation_step, specie_value_range)\n",
    "    progress_err.append(current_best)\n",
    "    progress_bar(convergence, 1, len(progress_err), current_best, elapsed_time)\n",
    "    \n",
    "# run the differential evolution algorithm\n",
    "result = differential_evolution(fitness_function_de, \n",
    "                                bounds, \n",
    "                                maxiter=10, \n",
    "                                popsize=10, \n",
    "                                args=(solver, state_names, param_names, perturb_state_names, simulation_time, simulation_step, specie_value_range),\n",
    "                                callback=callback,              \n",
    "                                )"
   ]
  },
  {
   "cell_type": "code",
   "execution_count": 54,
   "id": "8e3faee8",
   "metadata": {},
   "outputs": [
    {
     "name": "stdout",
     "output_type": "stream",
     "text": [
      "Best fitness: 39.76667727912817\n",
      "Best parameters: [4732.708308405605, 492.4823113915213, 4128.359575904011, 722.7112866491364, 75.65698316336739, 1685.958338267275, 50.19032894991551, 310.9279187875759, 404.9432631353717, 30.8030375911892, 139.01720329678966, 3.9465308552462663, 2.293379352414888, 2.3698750857108437, 756.981089511704, 17.04055457374324, 634.9428664154642, 13.877254403352643, 0.3760497121432218, 265.3555695720396, 9.928246187230908, 617.3147051394207, 17.504701399476183, 1.6205423885743095, 1800.2881158556338, 106.81675193619051, 13.382456187091337, 10.013974970801934, 1.7639549205697564, 689.5968376402468, 2.2132293216691235, 1.205683419573305, 0.3427621095045505, 526.5870997872134, 6.047232444226003]\n"
     ]
    }
   ],
   "source": [
    "print(f'Best fitness: {result.fun}')\n",
    "# reformat result.x to floats \n",
    "result_x = [float(x) for x in result.x]\n",
    "print(f'Best parameters: {result_x}')"
   ]
  },
  {
   "cell_type": "code",
   "execution_count": null,
   "id": "18d3c403",
   "metadata": {},
   "outputs": [
    {
     "name": "stdout",
     "output_type": "stream",
     "text": [
      "Cost: 39.89| Progress: [----------------------------->] 100%| Gen: 10| Time per gen (s): 3.699\r"
     ]
    }
   ],
   "source": [
    "from scipy.optimize import dual_annealing\n",
    "\n",
    "start_time = time.time()\n",
    "def anneal_callback(x, f, context):\n",
    "    end_time = time.time()\n",
    "    n = len(progress_err)\n",
    "    elapsed_time = (end_time - start_time) / n if n > 0 else 0\n",
    "    current_best = fitness_function_de(x, solver, state_names, param_names, perturb_state_names, simulation_time, simulation_step, specie_value_range)\n",
    "    progress_err.append(current_best)\n",
    "    progress_bar(f, 1, len(progress_err), current_best, elapsed_time)\n",
    "    # print(f'Current best: {current_best}')\n",
    "\n",
    "# run the dual annealing algorithm\n",
    "res = dual_annealing(fitness_function_de, bounds, callback=anneal_callback, \n",
    "                     args=(solver, state_names, param_names, perturb_state_names, simulation_time, simulation_step, specie_value_range), \n",
    "                    )"
   ]
  },
  {
   "cell_type": "code",
   "execution_count": 57,
   "id": "1dc31788",
   "metadata": {},
   "outputs": [
    {
     "name": "stdout",
     "output_type": "stream",
     "text": [
      "Best fitness: 39.89203998286316\n",
      "Best parameters: [3.58800015e+03 1.62199659e+03 3.87452773e+03 3.18962608e+03\n",
      " 3.69218866e+02 1.87147419e+02 3.27845901e+02 3.39381498e+03\n",
      " 3.37395749e+02 3.43147656e+01 2.25915007e+02 9.94600539e+00\n",
      " 3.20343797e+00 2.42482505e+00 5.50641797e+02 2.15028173e+01\n",
      " 4.65814751e+02 8.33017683e+00 3.33855079e-01 3.03982205e+02\n",
      " 2.01338811e+01 8.10291922e+02 1.82304325e+01 1.26991962e+00\n",
      " 1.47978816e+03 6.68859529e+01 1.30878363e+01 9.95699742e+00\n",
      " 9.05384361e-01 3.95709210e+02 4.17951400e+00 1.22475852e+00\n",
      " 2.81863540e-01 8.87127762e+02 8.43114064e+00]\n"
     ]
    }
   ],
   "source": [
    "print(f'Best fitness: {res.fun}')\n",
    "print(f'Best parameters: {res.x}')"
   ]
  }
 ],
 "metadata": {
  "kernelspec": {
   "display_name": "new-peak-project",
   "language": "python",
   "name": "python3"
  },
  "language_info": {
   "codemirror_mode": {
    "name": "ipython",
    "version": 3
   },
   "file_extension": ".py",
   "mimetype": "text/x-python",
   "name": "python",
   "nbconvert_exporter": "python",
   "pygments_lexer": "ipython3",
   "version": "3.8.3"
  }
 },
 "nbformat": 4,
 "nbformat_minor": 5
}
