{
 "cells": [
  {
   "cell_type": "markdown",
   "id": "ed0a5d3a",
   "metadata": {},
   "source": [
    "## Init"
   ]
  },
  {
   "cell_type": "code",
   "execution_count": 1,
   "id": "1bb81f51",
   "metadata": {},
   "outputs": [
    {
     "name": "stdout",
     "output_type": "stream",
     "text": [
      "Project path set to: c:\\Github\\new-peak-project\\src\n"
     ]
    }
   ],
   "source": [
    "import os\n",
    "\n",
    "path = os.getcwd()\n",
    "# find the string 'project' in the path, return index\n",
    "index_project = path.find('project')\n",
    "# slice the path from the index of 'project' to the end\n",
    "project_path = path[:index_project+7]\n",
    "# set the working directory\n",
    "os.chdir(project_path+'/src')\n",
    "print(f'Project path set to: {os.getcwd()}')"
   ]
  },
  {
   "cell_type": "code",
   "execution_count": 2,
   "id": "1a9d619e",
   "metadata": {},
   "outputs": [
    {
     "name": "stdout",
     "output_type": "stream",
     "text": [
      "I:\\My Drive\\DAWSON PHD PROJECT\\Biomarker Data Repository\\data\\new-peak-project\\experiments\n"
     ]
    }
   ],
   "source": [
    "from dotenv import dotenv_values\n",
    "config = dotenv_values(\".env\")\n",
    "print(config[\"DATA_PATH\"])"
   ]
  },
  {
   "cell_type": "code",
   "execution_count": 3,
   "id": "d146f02b",
   "metadata": {},
   "outputs": [],
   "source": [
    "from models.ModelBuilder import ModelBuilder\n",
    "from models.Reaction import Reaction\n",
    "from models.ReactionArchtype import ReactionArchtype\n",
    "from models.ArchtypeCollections import *\n",
    "\n",
    "# import scikit-learn\n",
    "from sklearn.linear_model import LinearRegression\n",
    "# tree models and support vector machines\n",
    "from sklearn.ensemble import RandomForestRegressor\n",
    "from sklearn.ensemble import GradientBoostingRegressor\n",
    "from sklearn.svm import SVR\n",
    "from sklearn.neural_network import MLPRegressor\n",
    "from sklearn.model_selection import train_test_split\n",
    "from sklearn.metrics import mean_squared_error, r2_score\n",
    "# import pearson correlation\n",
    "from scipy.stats import pearsonr\n",
    "from sklearn.preprocessing import StandardScaler\n",
    "from sklearn.pipeline import Pipeline\n",
    "\n",
    "from copy import deepcopy"
   ]
  },
  {
   "cell_type": "markdown",
   "id": "b258d0ff",
   "metadata": {},
   "source": [
    "## Notebook Parameters"
   ]
  },
  {
   "cell_type": "code",
   "execution_count": null,
   "id": "33cc3166",
   "metadata": {},
   "outputs": [
    {
     "name": "stdout",
     "output_type": "stream",
     "text": [
      "I:\\My Drive\\DAWSON PHD PROJECT\\Biomarker Data Repository\\data\\new-peak-project\\experiments/exp16_feature_predictivity_data_noise_5_5_2/\n"
     ]
    }
   ],
   "source": [
    "import os \n",
    "import numpy as np\n",
    "\n",
    "### parameters \n",
    "\n",
    "notebook_name = 'exp16_feature_predictivity_data_noise' # name of the notebook\n",
    "distortion_scales = [2, 4, 8, 32, 128, 512, 1024] # scales for the distortion of the model parameters\n",
    "distortion_ranges = []\n",
    "for scale in distortion_scales:\n",
    "    min_scale = 1 / scale\n",
    "    max_scale = scale\n",
    "    distortion_ranges.append((min_scale, max_scale))\n",
    "    \n",
    "\n",
    "## Generation of ground truth model \n",
    "\n",
    "model_name = 'v4_drug_model' # name of the model\n",
    "o_random_seed = 5\n",
    "# p_overall_seed = 46 # different seed for parameter generation\n",
    "no_observable_species = 5\n",
    "no_feedback_regulations = 2\n",
    "specie_value_range = (1000, 5000)\n",
    "param_range = (0.8, 1.2)\n",
    "param_multiplier_range = (0.99, 1.01)\n",
    "\n",
    "## Simulation parameters \n",
    "\n",
    "simulation_time = 1000 \n",
    "simulation_step = 100\n",
    "\n",
    "## Feature data generation \n",
    "\n",
    "feature_generation_method = 'lhs'\n",
    "feature_generation_extra_params = {'min': 0.1, 'max': 10}\n",
    "feature_generation_size = 1000 \n",
    "feature_generation_seed = 50 # if -1 then 'o_random_seed' is used\n",
    "if feature_generation_seed == -1:\n",
    "    feature_generation_seed = o_random_seed\n",
    "\n",
    "\n",
    "'''\n",
    "Options: \n",
    "- 'feedback_prune': removes feedback regulations from the model \n",
    "- 'random parameter': randomizes a x% of parameter values of the model\n",
    "'''\n",
    "\n",
    "''' \n",
    "Options: \n",
    "- 'last_time_point' : only the last time point of the phosphorylated species is used\n",
    "- 'dynamic_feature': computes the characteristic 'ten' dynamic feature for each specie data \n",
    "'''\n",
    "\n",
    "## General parameters\n",
    "parallelise = True\n",
    "save_figures = True \n",
    "experiment_id = notebook_name + '_' + str(o_random_seed) + '_' + str(no_observable_species) + '_' + str(no_feedback_regulations)\n",
    "experiment_folder = config['DATA_PATH'] + '/' + experiment_id + '/'\n",
    "if not os.path.exists(experiment_folder):\n",
    "    os.makedirs(experiment_folder)\n",
    "    \n",
    "print(experiment_folder)"
   ]
  },
  {
   "cell_type": "markdown",
   "id": "78c3738a",
   "metadata": {},
   "source": [
    "## Compute"
   ]
  },
  {
   "cell_type": "code",
   "execution_count": 8,
   "id": "ff0335b0",
   "metadata": {},
   "outputs": [
    {
     "name": "stdout",
     "output_type": "stream",
     "text": [
      "Experiment ID:  exp16_feature_predictivity_data_noise_5_5_2\n",
      "Experiment folder:  I:\\My Drive\\DAWSON PHD PROJECT\\Biomarker Data Repository\\data\\new-peak-project\\experiments/exp16_feature_predictivity_data_noise_5_5_2/\n",
      "Distortion Range (For Ground Truth Param Range):  [(0.9523809523809523, 1.05), (0.9090909090909091, 1.1), (0.8333333333333334, 1.2), (0.7692307692307692, 1.3), (0.6666666666666666, 1.5), (0.5, 2), (0.25, 4)]\n"
     ]
    }
   ],
   "source": [
    "print('Experiment ID: ', experiment_id)\n",
    "print('Experiment folder: ', experiment_folder)\n",
    "print('Distortion Range (For Ground Truth Param Range): ', distortion_ranges)"
   ]
  },
  {
   "cell_type": "code",
   "execution_count": 9,
   "id": "984ddb4c",
   "metadata": {},
   "outputs": [
    {
     "name": "stderr",
     "output_type": "stream",
     "text": [
      "0it [00:00, ?it/s]"
     ]
    },
    {
     "name": "stdout",
     "output_type": "stream",
     "text": [
      "------ Starting loop 0 for (0.9523809523809523, 1.05)\n",
      "--- Completed Model Initialisation for (0.9523809523809523, 1.05)\n",
      "--- Generated Target Data for (0.9523809523809523, 1.05)\n",
      "--- Generated Timecourse Data for (0.9523809523809523, 1.05), Now running for Machine Learning Phase\n"
     ]
    },
    {
     "name": "stderr",
     "output_type": "stream",
     "text": [
      "1it [00:31, 31.35s/it]"
     ]
    },
    {
     "name": "stdout",
     "output_type": "stream",
     "text": [
      "--- Machine learning phase for (0.9523809523809523, 1.05) complete, saving files and move on to 1\n",
      "------ Starting loop 1 for (0.9090909090909091, 1.1)\n",
      "--- Completed Model Initialisation for (0.9090909090909091, 1.1)\n",
      "--- Generated Target Data for (0.9090909090909091, 1.1)\n",
      "--- Generated Timecourse Data for (0.9090909090909091, 1.1), Now running for Machine Learning Phase\n"
     ]
    },
    {
     "name": "stderr",
     "output_type": "stream",
     "text": [
      "2it [01:03, 31.64s/it]"
     ]
    },
    {
     "name": "stdout",
     "output_type": "stream",
     "text": [
      "--- Machine learning phase for (0.9090909090909091, 1.1) complete, saving files and move on to 2\n",
      "------ Starting loop 2 for (0.8333333333333334, 1.2)\n",
      "--- Completed Model Initialisation for (0.8333333333333334, 1.2)\n",
      "--- Generated Target Data for (0.8333333333333334, 1.2)\n",
      "--- Generated Timecourse Data for (0.8333333333333334, 1.2), Now running for Machine Learning Phase\n"
     ]
    },
    {
     "name": "stderr",
     "output_type": "stream",
     "text": [
      "3it [01:34, 31.34s/it]"
     ]
    },
    {
     "name": "stdout",
     "output_type": "stream",
     "text": [
      "--- Machine learning phase for (0.8333333333333334, 1.2) complete, saving files and move on to 3\n",
      "------ Starting loop 3 for (0.7692307692307692, 1.3)\n",
      "--- Completed Model Initialisation for (0.7692307692307692, 1.3)\n",
      "--- Generated Target Data for (0.7692307692307692, 1.3)\n",
      "--- Generated Timecourse Data for (0.7692307692307692, 1.3), Now running for Machine Learning Phase\n"
     ]
    },
    {
     "name": "stderr",
     "output_type": "stream",
     "text": [
      "4it [02:06, 31.63s/it]"
     ]
    },
    {
     "name": "stdout",
     "output_type": "stream",
     "text": [
      "--- Machine learning phase for (0.7692307692307692, 1.3) complete, saving files and move on to 4\n",
      "------ Starting loop 4 for (0.6666666666666666, 1.5)\n",
      "--- Completed Model Initialisation for (0.6666666666666666, 1.5)\n",
      "--- Generated Target Data for (0.6666666666666666, 1.5)\n",
      "--- Generated Timecourse Data for (0.6666666666666666, 1.5), Now running for Machine Learning Phase\n"
     ]
    },
    {
     "name": "stderr",
     "output_type": "stream",
     "text": [
      "5it [02:42, 33.42s/it]"
     ]
    },
    {
     "name": "stdout",
     "output_type": "stream",
     "text": [
      "--- Machine learning phase for (0.6666666666666666, 1.5) complete, saving files and move on to 5\n",
      "------ Starting loop 5 for (0.5, 2)\n",
      "--- Completed Model Initialisation for (0.5, 2)\n",
      "--- Generated Target Data for (0.5, 2)\n",
      "--- Generated Timecourse Data for (0.5, 2), Now running for Machine Learning Phase\n"
     ]
    },
    {
     "name": "stderr",
     "output_type": "stream",
     "text": [
      "6it [03:15, 33.01s/it]"
     ]
    },
    {
     "name": "stdout",
     "output_type": "stream",
     "text": [
      "--- Machine learning phase for (0.5, 2) complete, saving files and move on to 6\n",
      "------ Starting loop 6 for (0.25, 4)\n",
      "--- Completed Model Initialisation for (0.25, 4)\n",
      "--- Generated Target Data for (0.25, 4)\n",
      "--- Generated Timecourse Data for (0.25, 4), Now running for Machine Learning Phase\n"
     ]
    },
    {
     "name": "stderr",
     "output_type": "stream",
     "text": [
      "7it [03:46, 32.34s/it]"
     ]
    },
    {
     "name": "stdout",
     "output_type": "stream",
     "text": [
      "--- Machine learning phase for (0.25, 4) complete, saving files and move on to 7\n"
     ]
    },
    {
     "name": "stderr",
     "output_type": "stream",
     "text": [
      "\n"
     ]
    }
   ],
   "source": [
    "### Virtual Cell Creation\n",
    "# create a drug enabled model \n",
    "from models.Utils import *\n",
    "from models.DrugModelSpecification import DrugModelSpecification, Drug\n",
    "from models.Solver.RoadrunnerSolver import RoadrunnerSolver\n",
    "from models.SyntheticGen import generate_feature_data_v2, generate_target_data_diff_build\n",
    "from models.SyntheticGen import generate_model_timecourse_data_diff_build\n",
    "from models.Utils import last_time_point_method, dynamic_features_method\n",
    "from joblib import Parallel, delayed\n",
    "import pickle\n",
    "\n",
    "verbose = True \n",
    "output_data = []\n",
    "for j, dis_range in tqdm(enumerate(distortion_ranges)):\n",
    "    \n",
    "    print(f'------ Starting loop {j} for {dis_range}')\n",
    "\n",
    "    model_drug_spec = DrugModelSpecification()\n",
    "    model_drug_spec.generate_specifications(o_random_seed, no_observable_species, no_feedback_regulations, verbose=0)\n",
    "    drug_0 = Drug('D0', 500, 500)\n",
    "    rng = np.random.default_rng(o_random_seed)\n",
    "    # add random 'up' and 'down' regulations to the drug\n",
    "    regulation_dir = []\n",
    "    for i, s in enumerate(model_drug_spec.A_species):\n",
    "        reg_type = str(rng.choice(['up', 'down']))\n",
    "        regulation_dir.append(reg_type)\n",
    "        drug_0.add_regulation(s, reg_type)\n",
    "    model_drug_spec.add_drug(drug_0)\n",
    "    # print(model_drug_spec)\n",
    "    # print(f'Feedback: {model_drug_spec.get_feedback_regulations()}')\n",
    "\n",
    "\n",
    "    p_random_seeds = []\n",
    "    feature_size = 1000 \n",
    "    rng = np.random.default_rng(o_random_seed)\n",
    "    # generate `feature_size` random seeds for different parameter sets using numpy, ensure that the seeds are unique\n",
    "    p_random_seeds = rng.choice(range(1000000), feature_size, replace=False).tolist()\n",
    "\n",
    "    G0_d = model_drug_spec.generate_network('drug_model_524', \n",
    "                                            specie_value_range, \n",
    "                                            param_range, \n",
    "                                            param_multiplier_range,  \n",
    "                                            verbose=0,\n",
    "                                            random_seed=p_random_seeds[0])\n",
    "    base_parameters = G0_d.get_parameters()\n",
    "    base_initial_conditions = G0_d.get_state_variables()\n",
    "\n",
    "    if verbose: print(f'--- Completed Model Initialisation for {dis_range}')\n",
    "    # print(G0_d.get_antimony_model())\n",
    "\n",
    "\n",
    "    # generate parameter sets for each random seed\n",
    "    parameter_sets = []\n",
    "    for p in p_random_seeds: \n",
    "        model_build = model_drug_spec.generate_network(f'param_seed_{p}', \n",
    "                                                specie_value_range, param_range, param_multiplier_range, random_seed=p, verbose=0)\n",
    "        parameter_sets.append(model_build.get_parameters())\n",
    "        \n",
    "    # test simulation \n",
    "\n",
    "\n",
    "\n",
    "    solver = RoadrunnerSolver()\n",
    "    solver.compile(G0_d.get_sbml_model())\n",
    "    # result = solver.simulate(0, 1000, 100)\n",
    "\n",
    "\n",
    "\n",
    "    feature_data = generate_feature_data_v2(model_drug_spec, base_initial_conditions, feature_generation_method, feature_generation_extra_params, 1000, feature_generation_seed)\n",
    "    target_data, _ = generate_target_data_diff_build(model_drug_spec, solver, \n",
    "                                                    feature_data, parameter_sets, \n",
    "                                                    {'start': 0, 'end': 1000, 'points': 100}, \n",
    "                                                    n_cores=1, verbose=False)\n",
    "    \n",
    "    # apply distortion noise to feature data\n",
    "    rng = np.random.default_rng(o_random_seed)\n",
    "    for col in feature_data.columns:\n",
    "        min_scale, max_scale = dis_range\n",
    "        scale = rng.uniform(min_scale, max_scale)\n",
    "        feature_data[col] *= scale\n",
    "\n",
    "    if verbose: print(f'--- Generated Target Data for {dis_range}')\n",
    "\n",
    "\n",
    "    # Suboptimal Model Generation\n",
    "\n",
    "    # randomise links and parameters by using a different random seed\n",
    "    new_spec = DrugModelSpecification()\n",
    "    new_spec.generate_specifications(o_random_seed, no_observable_species, no_feedback_regulations, verbose=0)\n",
    "    new_spec.add_drug(drug_0)\n",
    "    new_model = new_spec.generate_network('submodel', specie_value_range, param_range, param_multiplier_range, random_seed=100005352, verbose=0)\n",
    "    new_base_parameters = new_model.get_parameters()\n",
    "    new_base_initial_conditions = new_model.get_state_variables()\n",
    "    new_solver = RoadrunnerSolver()\n",
    "    new_solver.compile(new_model.get_sbml_model())\n",
    "\n",
    "    # Minor distortion of the parameters to create a new set of parameters\n",
    "\n",
    "    rng = np.random.default_rng(o_random_seed)\n",
    "    modified_parameter_sets = []\n",
    "    for params in parameter_sets:\n",
    "        new_params = {}\n",
    "        for key, value in params.items(): \n",
    "            new_params[key] = value * rng.uniform(0.1, 10) # distortion range, expectation is that the larger the worse the model performance \n",
    "        modified_parameter_sets.append(new_params)\n",
    "        \n",
    "        \n",
    "\n",
    "\n",
    "    new_base_parameters_set = []\n",
    "    for p in p_random_seeds: \n",
    "        new_base_parameters_set.append(new_base_parameters)\n",
    "\n",
    "    # generate the timecourse data for the new model\n",
    "    time_course_data = generate_model_timecourse_data_diff_build(model_drug_spec, \n",
    "                                                    solver, \n",
    "                                                    feature_data, \n",
    "                                                    parameter_sets,\n",
    "                                                    {'start': 0, 'end': 1000, 'points': 100}, \n",
    "                                                    capture_species='all', n_cores=1, verbose=False)\n",
    "\n",
    "\n",
    "    if verbose: print(f'--- Generated Timecourse Data for {dis_range}, Now running for Machine Learning Phase')\n",
    "\n",
    "\n",
    "    all_species = model_drug_spec.A_species + model_drug_spec.B_species + model_drug_spec.C_species\n",
    "    all_phos_species = [s+'p' for s in all_species]\n",
    "    # apply the data engineering method to the feature data\n",
    "    last_time_data = last_time_point_method(time_course_data, all_phos_species)\n",
    "\n",
    "    dynamic_data = dynamic_features_method(time_course_data, all_phos_species, n_cores=8)\n",
    "    combined_lp_data = pd.concat([feature_data, last_time_data], axis=1)\n",
    "    combined_dyn_data = pd.concat([feature_data, dynamic_data], axis=1)\n",
    "    feature_data_list = [feature_data, last_time_data, dynamic_data, combined_lp_data, combined_dyn_data]\n",
    "    feature_data_names = ['feature_data', 'last_time_data', 'dynamic_data', 'combined_lp_data', 'combined_dyn_data']\n",
    "\n",
    "\n",
    "    def evaluate_model(model, model_name, feature_data, feature_data_name, target_data, test_size=0.2, random_state=4):\n",
    "        X_train, X_test, y_train, y_test = train_test_split(feature_data, target_data, test_size=test_size, random_state=random_state)\n",
    "        model.fit(X_train, y_train)\n",
    "        y_pred = model.predict(X_test)\n",
    "        # return a dictionary of the model performance\n",
    "        return {'Model': model_name, \n",
    "                'Feature Data': feature_data_name,\n",
    "                'Mean Squared Error': mean_squared_error(y_test, y_pred),\n",
    "                'R2 Score': r2_score(y_test, y_pred),\n",
    "                'Pearson Correlation': pearsonr(y_test, y_pred)[0],\n",
    "                'Pearson P-Value': pearsonr(y_test, y_pred)[1]\n",
    "                }\n",
    "        \n",
    "    # create a linear regression model\n",
    "    lm = LinearRegression()\n",
    "    # create a random forest model\n",
    "    rf = RandomForestRegressor(n_estimators=100, random_state=o_random_seed)\n",
    "    # create a gradient boosting model\n",
    "    gb = GradientBoostingRegressor(n_estimators=100, random_state=o_random_seed)\n",
    "    # create a support vector machine model\n",
    "    svr = SVR(max_iter=10000)\n",
    "    scaled_svr = Pipeline([('scaler', StandardScaler()), ('svr', svr)])\n",
    "    # create a neural network model (simple)\n",
    "    nn = MLPRegressor(hidden_layer_sizes=(20,), max_iter=10000, random_state=o_random_seed)\n",
    "    scaled_nn = Pipeline([('scaler', StandardScaler()), ('nn', nn)])\n",
    "\n",
    "    all_models = [lm, rf, gb, scaled_svr, scaled_nn]\n",
    "    all_models_desc = ['Linear Regression', 'Random Forest', 'Gradient Boosting', 'Support Vector Machine', 'Neural Network']\n",
    "    zipped_model_data = list(zip(all_models, all_models_desc))\n",
    "    all_features = feature_data_list\n",
    "    all_features_desc = feature_data_names\n",
    "    zipped_feature_data = list(zip(all_features, all_features_desc))\n",
    "\n",
    "    # random states are rand ints between 0 and 10000, for n values \n",
    "    np.random.seed(o_random_seed)\n",
    "    n_random = 10\n",
    "    all_random_states = np.random.randint(0, 10000, n_random)\n",
    "\n",
    "    parallelise = True \n",
    "    from tqdm import tqdm\n",
    "    # tqdm is a progress bar library, use it to show the progress of the model evaluation\n",
    "    metric_data = []\n",
    "    if not parallelise:          \n",
    "        for (feature_data, feature_data_name) in tqdm(zipped_feature_data):\n",
    "            # print('Feature Data:', feature_data_name)\n",
    "            # print('Feature Data Shape:', feature_data.shape)\n",
    "            for (model, model_name) in zipped_model_data:\n",
    "                # print('Model:', model_name)\n",
    "                for rand in all_random_states:\n",
    "                    metrics = evaluate_model(model, model_name, feature_data, feature_data_name, target_data['Cp'], random_state=rand)\n",
    "                    metric_data.append(metrics)\n",
    "                    \n",
    "    else:        \n",
    "        # parallelise the model evaluation process using joblib\n",
    "        \n",
    "        metric_data = Parallel(n_jobs=-1)(delayed(evaluate_model)(model, model_name, feature_data, feature_data_name, target_data['Cp'], random_state=rand) \n",
    "                                        for (feature_data, feature_data_name) in zipped_feature_data\n",
    "                                        for (model, model_name) in zipped_model_data\n",
    "                                        for rand in all_random_states)\n",
    "\n",
    "    if verbose: print(f'--- Machine learning phase for {dis_range} complete, saving files and move on to {j+1}')\n",
    "    \n",
    "    # make a dataframe of the metric data\n",
    "    metric_df = pd.DataFrame(metric_data)\n",
    "    \n",
    "    exp_group = str(distortion_scales[j])\n",
    "    # create a new column for the distortion scale\n",
    "    metric_df['Distortion Scale'] = exp_group\n",
    "    output_data.append(metric_df)\n",
    "    \n",
    "    # save metric_df to a pickle file\n",
    "    output_file = experiment_folder + f'metric_data_{exp_group}.pkl'\n",
    "    metric_df.to_pickle(output_file)\n",
    "    # print(f'Saved metric data to {output_file}')\n",
    "    \n"
   ]
  },
  {
   "cell_type": "code",
   "execution_count": 10,
   "id": "ee3c5901",
   "metadata": {},
   "outputs": [
    {
     "name": "stdout",
     "output_type": "stream",
     "text": [
      "All data loaded successfully. Producing final output dataframe.\n"
     ]
    }
   ],
   "source": [
    "output_df = pd.DataFrame()\n",
    "all_loaded = True\n",
    "\n",
    "for i, df in enumerate(output_data):\n",
    "    # load the metric data for each scale\n",
    "    exp_group = df.iloc[0]['Distortion Scale']  # get the distortion scale from the first row of the dataframe\n",
    "    curr_scale = str(distortion_scales[i])\n",
    "    \n",
    "    if exp_group != curr_scale:\n",
    "        print(f'Warning: Distortion scale mismatch! Expected {curr_scale}, but got {exp_group}.')\n",
    "        all_loaded = False\n",
    "        # if the file exists, load it\n",
    "        if os.path.exists(experiment_folder + f'metric_data_{curr_scale}.pkl'):\n",
    "            print(f'Loading metric data for scale {curr_scale} from file...')\n",
    "            df = pd.read_pickle(experiment_folder + f'metric_data_{curr_scale}.pkl')\n",
    "            all_loaded = True\n",
    "        else:\n",
    "            print(f'File not found for scale {curr_scale}, there is missing data for this scale.')\n",
    "            all_loaded = False\n",
    "            break \n",
    "\n",
    "    if not all_loaded:\n",
    "        break\n",
    "        \n",
    "    output_df = pd.concat([output_df, df], ignore_index=True)\n",
    "\n",
    "if not all_loaded:\n",
    "    print('Not all data was loaded successfully, please check the files.')\n",
    "else:\n",
    "    print('All data loaded successfully. Producing final output dataframe.')\n",
    "    # save the output_df to a pickle file\n",
    "    output_file = experiment_folder + 'final_output_df.pkl'\n",
    "    output_df.to_pickle(output_file)\n"
   ]
  },
  {
   "cell_type": "markdown",
   "id": "05e61d13",
   "metadata": {},
   "source": [
    "## Analysis"
   ]
  },
  {
   "cell_type": "code",
   "execution_count": 11,
   "id": "f071de06",
   "metadata": {},
   "outputs": [],
   "source": [
    "import pandas as pd\n",
    "\n",
    "# load the final output dataframe\n",
    "seed_id, obs_id, fb_id = 5, 5, 2\n",
    "load_folder = config['DATA_PATH'] + f'\\\\{notebook_name}_{seed_id}_{obs_id}_{fb_id}/'\n",
    "output_df = pd.read_pickle(load_folder + 'final_output_df.pkl')\n",
    "\n"
   ]
  },
  {
   "cell_type": "code",
   "execution_count": 12,
   "id": "a56ce162",
   "metadata": {},
   "outputs": [
    {
     "data": {
      "application/vnd.microsoft.datawrangler.viewer.v0+json": {
       "columns": [
        {
         "name": "index",
         "rawType": "int64",
         "type": "integer"
        },
        {
         "name": "Model",
         "rawType": "object",
         "type": "string"
        },
        {
         "name": "Feature Data",
         "rawType": "object",
         "type": "string"
        },
        {
         "name": "Mean Squared Error",
         "rawType": "float64",
         "type": "float"
        },
        {
         "name": "R2 Score",
         "rawType": "float64",
         "type": "float"
        },
        {
         "name": "Pearson Correlation",
         "rawType": "float64",
         "type": "float"
        },
        {
         "name": "Pearson P-Value",
         "rawType": "float64",
         "type": "float"
        },
        {
         "name": "Distortion Scale",
         "rawType": "object",
         "type": "string"
        }
       ],
       "ref": "12ddf973-ec61-4a02-8928-65023c3e584a",
       "rows": [
        [
         "0",
         "Linear Regression",
         "feature_data",
         "0.0894578417026507",
         "0.3202203389804451",
         "0.5668903142048697",
         "2.1237390448536365e-18",
         "1.05"
        ],
        [
         "1",
         "Linear Regression",
         "feature_data",
         "0.09457351034116622",
         "0.3044306306423378",
         "0.5587158238581906",
         "8.170559107705284e-18",
         "1.05"
        ],
        [
         "2",
         "Linear Regression",
         "feature_data",
         "0.0984561537550599",
         "0.22703240962142435",
         "0.4899493316570487",
         "1.7946551770424663e-13",
         "1.05"
        ],
        [
         "3",
         "Linear Regression",
         "feature_data",
         "0.09673642080013238",
         "0.27478882073114985",
         "0.5273421835798775",
         "1.0359428344317444e-15",
         "1.05"
        ],
        [
         "4",
         "Linear Regression",
         "feature_data",
         "0.08813269964884536",
         "0.3426358234558039",
         "0.5919492324525917",
         "2.682472369129026e-20",
         "1.05"
        ],
        [
         "5",
         "Linear Regression",
         "feature_data",
         "0.09158384244149245",
         "0.2724713860248784",
         "0.5249699232519783",
         "1.4643593571927725e-15",
         "1.05"
        ],
        [
         "6",
         "Linear Regression",
         "feature_data",
         "0.10192380871312473",
         "0.30924909906218423",
         "0.5618419106446293",
         "4.902076881234838e-18",
         "1.05"
        ],
        [
         "7",
         "Linear Regression",
         "feature_data",
         "0.0971854169167869",
         "0.22720353234148016",
         "0.4855993628002834",
         "3.1413957065872554e-13",
         "1.05"
        ],
        [
         "8",
         "Linear Regression",
         "feature_data",
         "0.10021406781200319",
         "0.20672208725405483",
         "0.47363177154854186",
         "1.4079663127338498e-12",
         "1.05"
        ],
        [
         "9",
         "Linear Regression",
         "feature_data",
         "0.10158217217890138",
         "0.2488912042786453",
         "0.5038965498226593",
         "2.8234791871526014e-14",
         "1.05"
        ],
        [
         "10",
         "Random Forest",
         "feature_data",
         "0.10421572717924242",
         "0.20807689581546573",
         "0.4655212701887833",
         "3.7664026794150544e-12",
         "1.05"
        ],
        [
         "11",
         "Random Forest",
         "feature_data",
         "0.10305689774602221",
         "0.24203700259653693",
         "0.5011055306121114",
         "4.115743384581185e-14",
         "1.05"
        ],
        [
         "12",
         "Random Forest",
         "feature_data",
         "0.11035551923624527",
         "0.1336119019921267",
         "0.4088275328134061",
         "1.8532190635659484e-09",
         "1.05"
        ],
        [
         "13",
         "Random Forest",
         "feature_data",
         "0.10506227273616715",
         "0.2123717822361577",
         "0.4719778116912488",
         "1.724460286138813e-12",
         "1.05"
        ],
        [
         "14",
         "Random Forest",
         "feature_data",
         "0.10085058623441066",
         "0.24777565151039438",
         "0.5037959824537823",
         "2.862250963392319e-14",
         "1.05"
        ],
        [
         "15",
         "Random Forest",
         "feature_data",
         "0.09817469912446881",
         "0.22011458705635145",
         "0.48085905155635944",
         "5.730582559245415e-13",
         "1.05"
        ],
        [
         "16",
         "Random Forest",
         "feature_data",
         "0.11003985201020279",
         "0.2542456186164511",
         "0.5068841957885999",
         "1.8790205535468735e-14",
         "1.05"
        ],
        [
         "17",
         "Random Forest",
         "feature_data",
         "0.105290902557844",
         "0.16275054267710365",
         "0.4299619497357304",
         "2.0995776814496094e-10",
         "1.05"
        ],
        [
         "18",
         "Random Forest",
         "feature_data",
         "0.10594947547383654",
         "0.16132155299711382",
         "0.4324758091231926",
         "1.6040390255767338e-10",
         "1.05"
        ],
        [
         "19",
         "Random Forest",
         "feature_data",
         "0.10974205145776413",
         "0.18855623637124297",
         "0.4424783021950319",
         "5.375216774947648e-11",
         "1.05"
        ],
        [
         "20",
         "Gradient Boosting",
         "feature_data",
         "0.10697018568397336",
         "0.18714608826410317",
         "0.44909491154307324",
         "2.5568105671318482e-11",
         "1.05"
        ],
        [
         "21",
         "Gradient Boosting",
         "feature_data",
         "0.10081273801761202",
         "0.2585423513077888",
         "0.5216837534488012",
         "2.3547185586200606e-15",
         "1.05"
        ],
        [
         "22",
         "Gradient Boosting",
         "feature_data",
         "0.10690680753224785",
         "0.1606873287082784",
         "0.434791925108295",
         "1.2492296650508278e-10",
         "1.05"
        ],
        [
         "23",
         "Gradient Boosting",
         "feature_data",
         "0.10980618131625584",
         "0.17680776707771162",
         "0.4382587770023674",
         "8.562217184215248e-11",
         "1.05"
        ],
        [
         "24",
         "Gradient Boosting",
         "feature_data",
         "0.10399864584303789",
         "0.22429490463003487",
         "0.4853579279726262",
         "3.239792791842101e-13",
         "1.05"
        ],
        [
         "25",
         "Gradient Boosting",
         "feature_data",
         "0.09689446118765774",
         "0.23028460948494256",
         "0.48780113776766115",
         "2.3685579888729976e-13",
         "1.05"
        ],
        [
         "26",
         "Gradient Boosting",
         "feature_data",
         "0.11405631169910667",
         "0.22702554919675821",
         "0.48458422282308006",
         "3.5757816376269047e-13",
         "1.05"
        ],
        [
         "27",
         "Gradient Boosting",
         "feature_data",
         "0.10510954419267893",
         "0.16419266340289007",
         "0.4265186999620717",
         "3.0249868673731987e-10",
         "1.05"
        ],
        [
         "28",
         "Gradient Boosting",
         "feature_data",
         "0.11416332920634491",
         "0.0963020513763615",
         "0.3800504037344342",
         "2.8448917140447068e-08",
         "1.05"
        ],
        [
         "29",
         "Gradient Boosting",
         "feature_data",
         "0.11716203783992114",
         "0.13369211094226963",
         "0.39116042917751304",
         "1.0222130097671079e-08",
         "1.05"
        ],
        [
         "30",
         "Support Vector Machine",
         "feature_data",
         "0.11709774613321328",
         "0.11018794263811316",
         "0.4310648483346894",
         "1.8661881037729163e-10",
         "1.05"
        ],
        [
         "31",
         "Support Vector Machine",
         "feature_data",
         "0.1158424637153837",
         "0.14800170639035937",
         "0.4453654445581441",
         "3.8944079338796266e-11",
         "1.05"
        ],
        [
         "32",
         "Support Vector Machine",
         "feature_data",
         "0.11243434283918924",
         "0.11729130434632318",
         "0.42487127192683144",
         "3.597266392636272e-10",
         "1.05"
        ],
        [
         "33",
         "Support Vector Machine",
         "feature_data",
         "0.12863006349301628",
         "0.035689358117436676",
         "0.36201762033800605",
         "1.383903480834733e-07",
         "1.05"
        ],
        [
         "34",
         "Support Vector Machine",
         "feature_data",
         "0.11134413279246878",
         "0.1695063868713821",
         "0.4536703820245923",
         "1.515144757241219e-11",
         "1.05"
        ],
        [
         "35",
         "Support Vector Machine",
         "feature_data",
         "0.11292802573001325",
         "0.10291632401436335",
         "0.42682802186368174",
         "2.9278539408935654e-10",
         "1.05"
        ],
        [
         "36",
         "Support Vector Machine",
         "feature_data",
         "0.12432393379905576",
         "0.15744053951574155",
         "0.43273002744914796",
         "1.560766669409428e-10",
         "1.05"
        ],
        [
         "37",
         "Support Vector Machine",
         "feature_data",
         "0.11504613500615185",
         "0.08517913930806698",
         "0.3980726404272521",
         "5.303311197500453e-09",
         "1.05"
        ],
        [
         "38",
         "Support Vector Machine",
         "feature_data",
         "0.1321659472474633",
         "-0.04620368235367267",
         "0.3486259995131219",
         "4.2138685296471913e-07",
         "1.05"
        ],
        [
         "39",
         "Support Vector Machine",
         "feature_data",
         "0.11915548890419793",
         "0.11895233332084387",
         "0.4257091049311187",
         "3.2942292818241584e-10",
         "1.05"
        ],
        [
         "40",
         "Neural Network",
         "feature_data",
         "0.19761409786514314",
         "-0.5016463833988489",
         "0.21452041860689022",
         "0.002285729281626288",
         "1.05"
        ],
        [
         "41",
         "Neural Network",
         "feature_data",
         "0.15314538805731825",
         "-0.12635388711690432",
         "0.3802302074882429",
         "2.7989975201555434e-08",
         "1.05"
        ],
        [
         "42",
         "Neural Network",
         "feature_data",
         "0.15628001725561058",
         "-0.22693588724700087",
         "0.33373973964416165",
         "1.369489344672436e-06",
         "1.05"
        ],
        [
         "43",
         "Neural Network",
         "feature_data",
         "0.1843814156057433",
         "-0.3822659835944444",
         "0.29869465563282627",
         "1.7375916059385468e-05",
         "1.05"
        ],
        [
         "44",
         "Neural Network",
         "feature_data",
         "0.15269857806683965",
         "-0.13894814785345977",
         "0.4370449090223761",
         "9.77775511042408e-11",
         "1.05"
        ],
        [
         "45",
         "Neural Network",
         "feature_data",
         "0.15064129904526494",
         "-0.19667238871122694",
         "0.38135233837045057",
         "2.5282811957618195e-08",
         "1.05"
        ],
        [
         "46",
         "Neural Network",
         "feature_data",
         "0.1954872388307707",
         "-0.3248424293509806",
         "0.3156109222276646",
         "5.305476569279943e-06",
         "1.05"
        ],
        [
         "47",
         "Neural Network",
         "feature_data",
         "0.15940706226532944",
         "-0.26756892697128287",
         "0.2755075391864227",
         "7.863165505888985e-05",
         "1.05"
        ],
        [
         "48",
         "Neural Network",
         "feature_data",
         "0.1471265799082892",
         "-0.1646295651628853",
         "0.3658219323550841",
         "9.991678925600138e-08",
         "1.05"
        ],
        [
         "49",
         "Neural Network",
         "feature_data",
         "0.18527311020355214",
         "-0.3699280070469242",
         "0.255399607317457",
         "0.0002622641781381941",
         "1.05"
        ]
       ],
       "shape": {
        "columns": 7,
        "rows": 1750
       }
      },
      "text/html": [
       "<div>\n",
       "<style scoped>\n",
       "    .dataframe tbody tr th:only-of-type {\n",
       "        vertical-align: middle;\n",
       "    }\n",
       "\n",
       "    .dataframe tbody tr th {\n",
       "        vertical-align: top;\n",
       "    }\n",
       "\n",
       "    .dataframe thead th {\n",
       "        text-align: right;\n",
       "    }\n",
       "</style>\n",
       "<table border=\"1\" class=\"dataframe\">\n",
       "  <thead>\n",
       "    <tr style=\"text-align: right;\">\n",
       "      <th></th>\n",
       "      <th>Model</th>\n",
       "      <th>Feature Data</th>\n",
       "      <th>Mean Squared Error</th>\n",
       "      <th>R2 Score</th>\n",
       "      <th>Pearson Correlation</th>\n",
       "      <th>Pearson P-Value</th>\n",
       "      <th>Distortion Scale</th>\n",
       "    </tr>\n",
       "  </thead>\n",
       "  <tbody>\n",
       "    <tr>\n",
       "      <th>0</th>\n",
       "      <td>Linear Regression</td>\n",
       "      <td>feature_data</td>\n",
       "      <td>0.089458</td>\n",
       "      <td>0.320220</td>\n",
       "      <td>0.566890</td>\n",
       "      <td>2.123739e-18</td>\n",
       "      <td>1.05</td>\n",
       "    </tr>\n",
       "    <tr>\n",
       "      <th>1</th>\n",
       "      <td>Linear Regression</td>\n",
       "      <td>feature_data</td>\n",
       "      <td>0.094574</td>\n",
       "      <td>0.304431</td>\n",
       "      <td>0.558716</td>\n",
       "      <td>8.170559e-18</td>\n",
       "      <td>1.05</td>\n",
       "    </tr>\n",
       "    <tr>\n",
       "      <th>2</th>\n",
       "      <td>Linear Regression</td>\n",
       "      <td>feature_data</td>\n",
       "      <td>0.098456</td>\n",
       "      <td>0.227032</td>\n",
       "      <td>0.489949</td>\n",
       "      <td>1.794655e-13</td>\n",
       "      <td>1.05</td>\n",
       "    </tr>\n",
       "    <tr>\n",
       "      <th>3</th>\n",
       "      <td>Linear Regression</td>\n",
       "      <td>feature_data</td>\n",
       "      <td>0.096736</td>\n",
       "      <td>0.274789</td>\n",
       "      <td>0.527342</td>\n",
       "      <td>1.035943e-15</td>\n",
       "      <td>1.05</td>\n",
       "    </tr>\n",
       "    <tr>\n",
       "      <th>4</th>\n",
       "      <td>Linear Regression</td>\n",
       "      <td>feature_data</td>\n",
       "      <td>0.088133</td>\n",
       "      <td>0.342636</td>\n",
       "      <td>0.591949</td>\n",
       "      <td>2.682472e-20</td>\n",
       "      <td>1.05</td>\n",
       "    </tr>\n",
       "    <tr>\n",
       "      <th>...</th>\n",
       "      <td>...</td>\n",
       "      <td>...</td>\n",
       "      <td>...</td>\n",
       "      <td>...</td>\n",
       "      <td>...</td>\n",
       "      <td>...</td>\n",
       "      <td>...</td>\n",
       "    </tr>\n",
       "    <tr>\n",
       "      <th>1745</th>\n",
       "      <td>Neural Network</td>\n",
       "      <td>combined_dyn_data</td>\n",
       "      <td>0.312788</td>\n",
       "      <td>-1.484740</td>\n",
       "      <td>0.619469</td>\n",
       "      <td>1.393484e-22</td>\n",
       "      <td>4</td>\n",
       "    </tr>\n",
       "    <tr>\n",
       "      <th>1746</th>\n",
       "      <td>Neural Network</td>\n",
       "      <td>combined_dyn_data</td>\n",
       "      <td>0.383581</td>\n",
       "      <td>-1.599581</td>\n",
       "      <td>0.540822</td>\n",
       "      <td>1.375758e-16</td>\n",
       "      <td>4</td>\n",
       "    </tr>\n",
       "    <tr>\n",
       "      <th>1747</th>\n",
       "      <td>Neural Network</td>\n",
       "      <td>combined_dyn_data</td>\n",
       "      <td>0.482563</td>\n",
       "      <td>-2.837233</td>\n",
       "      <td>0.496639</td>\n",
       "      <td>7.469566e-14</td>\n",
       "      <td>4</td>\n",
       "    </tr>\n",
       "    <tr>\n",
       "      <th>1748</th>\n",
       "      <td>Neural Network</td>\n",
       "      <td>combined_dyn_data</td>\n",
       "      <td>0.358340</td>\n",
       "      <td>-1.836557</td>\n",
       "      <td>0.516978</td>\n",
       "      <td>4.607744e-15</td>\n",
       "      <td>4</td>\n",
       "    </tr>\n",
       "    <tr>\n",
       "      <th>1749</th>\n",
       "      <td>Neural Network</td>\n",
       "      <td>combined_dyn_data</td>\n",
       "      <td>0.341815</td>\n",
       "      <td>-1.527418</td>\n",
       "      <td>0.535938</td>\n",
       "      <td>2.888750e-16</td>\n",
       "      <td>4</td>\n",
       "    </tr>\n",
       "  </tbody>\n",
       "</table>\n",
       "<p>1750 rows × 7 columns</p>\n",
       "</div>"
      ],
      "text/plain": [
       "                  Model       Feature Data  Mean Squared Error  R2 Score  \\\n",
       "0     Linear Regression       feature_data            0.089458  0.320220   \n",
       "1     Linear Regression       feature_data            0.094574  0.304431   \n",
       "2     Linear Regression       feature_data            0.098456  0.227032   \n",
       "3     Linear Regression       feature_data            0.096736  0.274789   \n",
       "4     Linear Regression       feature_data            0.088133  0.342636   \n",
       "...                 ...                ...                 ...       ...   \n",
       "1745     Neural Network  combined_dyn_data            0.312788 -1.484740   \n",
       "1746     Neural Network  combined_dyn_data            0.383581 -1.599581   \n",
       "1747     Neural Network  combined_dyn_data            0.482563 -2.837233   \n",
       "1748     Neural Network  combined_dyn_data            0.358340 -1.836557   \n",
       "1749     Neural Network  combined_dyn_data            0.341815 -1.527418   \n",
       "\n",
       "      Pearson Correlation  Pearson P-Value Distortion Scale  \n",
       "0                0.566890     2.123739e-18             1.05  \n",
       "1                0.558716     8.170559e-18             1.05  \n",
       "2                0.489949     1.794655e-13             1.05  \n",
       "3                0.527342     1.035943e-15             1.05  \n",
       "4                0.591949     2.682472e-20             1.05  \n",
       "...                   ...              ...              ...  \n",
       "1745             0.619469     1.393484e-22                4  \n",
       "1746             0.540822     1.375758e-16                4  \n",
       "1747             0.496639     7.469566e-14                4  \n",
       "1748             0.516978     4.607744e-15                4  \n",
       "1749             0.535938     2.888750e-16                4  \n",
       "\n",
       "[1750 rows x 7 columns]"
      ]
     },
     "execution_count": 12,
     "metadata": {},
     "output_type": "execute_result"
    }
   ],
   "source": [
    "output_df"
   ]
  },
  {
   "cell_type": "code",
   "execution_count": 13,
   "id": "ccb827a6",
   "metadata": {},
   "outputs": [
    {
     "data": {
      "image/png": "[encoded data removed]",
      "text/plain": [
       "<Figure size 640x480 with 1 Axes>"
      ]
     },
     "metadata": {},
     "output_type": "display_data"
    }
   ],
   "source": [
    "import matplotlib.pyplot as plt\n",
    "import seaborn as sns\n",
    "\n",
    "sns.lineplot(data=output_df, x='Distortion Scale', y='Pearson Correlation', hue='Feature Data', palette='Set1', marker='o')\n",
    "# 90 degree rotation of the x-axis labels\n",
    "# legend to the right\n",
    "plt.legend(title='Type of data', bbox_to_anchor=(1.05, 1), loc='upper left')\n",
    "plt.show()"
   ]
  }
 ],
 "metadata": {
  "kernelspec": {
   "display_name": ".venv",
   "language": "python",
   "name": "python3"
  },
  "language_info": {
   "codemirror_mode": {
    "name": "ipython",
    "version": 3
   },
   "file_extension": ".py",
   "mimetype": "text/x-python",
   "name": "python",
   "nbconvert_exporter": "python",
   "pygments_lexer": "ipython3",
   "version": "3.12.6"
  }
 },
 "nbformat": 4,
 "nbformat_minor": 5
}
