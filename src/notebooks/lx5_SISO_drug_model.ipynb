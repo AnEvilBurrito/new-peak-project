{
 "cells": [
  {
   "cell_type": "markdown",
   "metadata": {},
   "source": [
    "# Drug Targeting different nodes of the 524 cascade system"
   ]
  },
  {
   "cell_type": "markdown",
   "metadata": {},
   "source": [
    "## Init"
   ]
  },
  {
   "cell_type": "code",
   "execution_count": 3,
   "metadata": {},
   "outputs": [
    {
     "name": "stdout",
     "output_type": "stream",
     "text": [
      "Project path set to: c:\\Github\\new-peak-project\\src\n"
     ]
    }
   ],
   "source": [
    "import os\n",
    "\n",
    "path = os.getcwd()\n",
    "# find the string 'project' in the path, return index\n",
    "index_project = path.find('project')\n",
    "# slice the path from the index of 'project' to the end\n",
    "project_path = path[:index_project+7]\n",
    "# set the working directory\n",
    "os.chdir(project_path+'\\src')\n",
    "print(f'Project path set to: {os.getcwd()}')"
   ]
  },
  {
   "cell_type": "code",
   "execution_count": 4,
   "metadata": {},
   "outputs": [
    {
     "name": "stdout",
     "output_type": "stream",
     "text": [
      "I:\\My Drive\\DAWSON PHD PROJECT\\Biomarker Data Repository\\data\\new-peak-project\\experiments\n"
     ]
    }
   ],
   "source": [
    "from dotenv import dotenv_values\n",
    "config = dotenv_values(\".env\")\n",
    "print(config[\"DATA_PATH\"])"
   ]
  },
  {
   "cell_type": "code",
   "execution_count": 5,
   "metadata": {},
   "outputs": [],
   "source": [
    "from models.ModelBuilder import ModelBuilder\n",
    "from models.Reaction import Reaction\n",
    "from models.ReactionArchtype import ReactionArchtype\n",
    "from models.ArchtypeCollections import *\n",
    "from models.Utils import *\n",
    "\n",
    "import matplotlib.pyplot as plt\n",
    "import seaborn as sns\n",
    "import roadrunner\n",
    "import numpy as np\n",
    "import pandas as pd\n",
    "\n",
    "# import scikit-learn\n",
    "from sklearn.linear_model import LinearRegression\n",
    "# tree models and support vector machines\n",
    "from sklearn.ensemble import RandomForestRegressor\n",
    "from sklearn.ensemble import GradientBoostingRegressor\n",
    "from sklearn.svm import SVR\n",
    "from sklearn.neural_network import MLPRegressor\n",
    "from sklearn.model_selection import train_test_split\n",
    "from sklearn.metrics import mean_squared_error, r2_score\n",
    "# import pearson correlation\n",
    "from scipy.stats import pearsonr\n",
    "from sklearn.preprocessing import StandardScaler\n",
    "from sklearn.pipeline import Pipeline\n",
    "\n",
    "from copy import deepcopy"
   ]
  },
  {
   "cell_type": "code",
   "execution_count": null,
   "metadata": {},
   "outputs": [
    {
     "name": "stdout",
     "output_type": "stream",
     "text": [
      "I:\\My Drive\\DAWSON PHD PROJECT\\Biomarker Data Repository\\data\\new-peak-project\\experiments/SISO_Drug_Model_4_50/\n"
     ]
    }
   ],
   "source": [
    "import os \n",
    "\n",
    "### parameters \n",
    "\n",
    "notebook_name = 'SISO_Drug_Model'\n",
    "plot_figures = True\n",
    "run_jobs = False\n",
    "parallelise = True\n",
    "save_figures = True\n",
    "\n",
    "## Generation of ground truth model \n",
    "\n",
    "model_name = 'v3_small_model_52'\n",
    "o_random_seed = 4\n",
    "no_observable_species = 5\n",
    "no_feedback_regulations = 2\n",
    "specie_value_range = (5, 5000)\n",
    "param_range = (0.1, 10)\n",
    "param_multiplier_range = (0.7, 1.3)\n",
    "\n",
    "\n",
    "## Simulation parameters \n",
    "\n",
    "simulation_time = 1500\n",
    "simulation_step = 100\n",
    "\n",
    "## Feature data generation \n",
    "\n",
    "feature_generation_method = 'uniform'\n",
    "feature_generation_extra_params = {'min': 0.1, 'max': 10}\n",
    "feature_generation_size = 1000 \n",
    "feature_generation_seed = 50 # if -1 then 'o_random_seed' is used\n",
    "if feature_generation_seed == -1:\n",
    "    feature_generation_seed = o_random_seed\n",
    "''' \n",
    "Options: \n",
    "- 'last_time_point' : only the last time point of the phosphorylated species is used\n",
    "- 'dynamic_feature': computes the characteristic 'ten' dynamic feature for each specie data \n",
    "'''\n",
    "\n",
    "## Sample sizing parameters \n",
    "no_link_rm_range = (2,3)\n",
    "no_sub_models = 1 \n",
    "no_ml_runs = 1\n",
    "\n",
    "## General parameters \n",
    "experiment_id = notebook_name + '_' + str(o_random_seed) + '_' + str(feature_generation_seed)\n",
    "experiment_folder = config['DATA_PATH'] + '/' + experiment_id + '/'\n",
    "if not os.path.exists(experiment_folder):\n",
    "    os.makedirs(experiment_folder)\n",
    "    \n",
    "print(experiment_folder)"
   ]
  },
  {
   "cell_type": "markdown",
   "metadata": {},
   "source": [
    "## Jobs and Visualisations"
   ]
  },
  {
   "cell_type": "markdown",
   "metadata": {},
   "source": [
    "### Generate drug network"
   ]
  },
  {
   "cell_type": "code",
   "execution_count": 7,
   "metadata": {},
   "outputs": [],
   "source": [
    "from models.Utils import *\n",
    "from models.DrugModelSpecification import DrugModelSpecification, Drug\n",
    "\n",
    "model_drug_spec = DrugModelSpecification()\n",
    "model_drug_spec.generate_specifications(4, 5, 2, verbose=0)\n",
    "G0_d = model_drug_spec.generate_network('drug_model_524', specie_value_range, param_range, param_multiplier_range, random_seed=4, verbose=0)"
   ]
  },
  {
   "cell_type": "code",
   "execution_count": 8,
   "metadata": {},
   "outputs": [
    {
     "name": "stdout",
     "output_type": "stream",
     "text": [
      "[(('C', 'A1'), 'up'), (('B0', 'A2'), 'down')]\n"
     ]
    }
   ],
   "source": [
    "print(model_drug_spec.get_feedback_regulations())"
   ]
  },
  {
   "cell_type": "code",
   "execution_count": 9,
   "metadata": {},
   "outputs": [],
   "source": [
    "def modified_drug_spec_SY(original_spec: ModelSpecification): \n",
    "    spec = deepcopy(original_spec)\n",
    "    added_regulations = [('C', 'A3'), ('B2', 'A4'), ('B1', 'A0'), ('B3', 'A2')]\n",
    "    added_reg_types = ['down', 'down', 'up', 'up']\n",
    "    for i, reg in enumerate(added_regulations):\n",
    "        spec.add_regulation(reg, added_reg_types[i])\n",
    "    return spec"
   ]
  },
  {
   "cell_type": "code",
   "execution_count": 10,
   "metadata": {},
   "outputs": [
    {
     "name": "stdout",
     "output_type": "stream",
     "text": [
      "[(('C', 'A1'), 'up'), (('B0', 'A2'), 'down'), (('C', 'A3'), 'down'), (('B2', 'A4'), 'down'), (('B1', 'A0'), 'up'), (('B3', 'A2'), 'up')]\n"
     ]
    }
   ],
   "source": [
    "modded_spec = modified_drug_spec_SY(model_drug_spec)\n",
    "print(modded_spec.get_feedback_regulations())"
   ]
  },
  {
   "cell_type": "code",
   "execution_count": 11,
   "metadata": {},
   "outputs": [],
   "source": [
    "# create a drug which targets all of the A species\n",
    "drug_all_Ad = Drug('DAd', 500, 5000) \n",
    "drug_all_Ad.add_regulation('A0', 'down')\n",
    "drug_all_Ad.add_regulation('A1', 'down')\n",
    "drug_all_Ad.add_regulation('A2', 'down')\n",
    "drug_all_Ad.add_regulation('A3', 'down')\n",
    "drug_all_Ad.add_regulation('A4', 'down')\n",
    "\n",
    "drug_all_Au = Drug('DAu', 500, 5000)\n",
    "drug_all_Au.add_regulation('A0', 'up')\n",
    "drug_all_Au.add_regulation('A1', 'up')\n",
    "drug_all_Au.add_regulation('A2', 'up')\n",
    "drug_all_Au.add_regulation('A3', 'up')\n",
    "drug_all_Au.add_regulation('A4', 'up')\n",
    "\n",
    "possible_drugs = [drug_all_Ad, drug_all_Au] "
   ]
  },
  {
   "cell_type": "code",
   "execution_count": 12,
   "metadata": {},
   "outputs": [],
   "source": [
    "diff_model_specs = []\n",
    "diff_models = []\n",
    "model_labels = []\n",
    "for drug in possible_drugs:\n",
    "    new_drug_spec = DrugModelSpecification()\n",
    "    new_drug_spec.generate_specifications(4, 5, 2, verbose=0)\n",
    "    new_drug_spec.add_drug(drug)\n",
    "    new_model = new_drug_spec.generate_network(f'drug_model_524_{drug.name}', specie_value_range, param_range, param_multiplier_range, random_seed=4, verbose=0)\n",
    "    new_model = copy_over_params_states(G0_d, new_model)\n",
    "    label = f'{drug.name}'\n",
    "    diff_model_specs.append(new_drug_spec)\n",
    "    diff_models.append(new_model)\n",
    "    model_labels.append(label)\n",
    "    \n",
    "    new_drug_spec = modified_drug_spec_SY(new_drug_spec)\n",
    "    new_model = new_drug_spec.generate_network(f'drug_model_524_{drug.name}_SY', specie_value_range, param_range, param_multiplier_range, random_seed=4, verbose=0)\n",
    "    new_model = copy_over_params_states(G0_d, new_model)\n",
    "    label = f'{drug.name}SY'\n",
    "    diff_model_specs.append(new_drug_spec)\n",
    "    diff_models.append(new_model)\n",
    "    model_labels.append(label)"
   ]
  },
  {
   "cell_type": "code",
   "execution_count": 14,
   "metadata": {},
   "outputs": [
    {
     "data": {
      "image/png": "[encoded data removed]",
      "text/plain": [
       "<Figure size 576x360 with 1 Axes>"
      ]
     },
     "metadata": {
      "needs_background": "light"
     },
     "output_type": "display_data"
    }
   ],
   "source": [
    "# perform simulations on each of the models \n",
    "import matplotlib.pyplot as plt\n",
    "import seaborn as sns\n",
    "import roadrunner\n",
    "import numpy as np\n",
    "import pandas as pd\n",
    "\n",
    "if plot_figures:\n",
    "    # Visualise the behaviour of the suboptimal models, plot the original model as reference comparison\n",
    "    plt.figure(figsize=(8, 5))\n",
    "\n",
    "    for i, s_model in enumerate(diff_models):\n",
    "        runner = roadrunner.RoadRunner(s_model.get_sbml_model())\n",
    "        res = runner.simulate(0, simulation_time, simulation_step)\n",
    "        plt.plot(res['time'], res['[Cp]'], label=f\"Model {model_labels[i]}\")\n",
    "        \n",
    "    runner = roadrunner.RoadRunner(G0_d.get_sbml_model())\n",
    "    res = runner.simulate(0, simulation_time, simulation_step)\n",
    "    plt.plot(res['time'], res['[Cp]'], label=\"No Drug\", linestyle='dashed', color='black')\n",
    "        \n",
    "    plt.xlabel(\"Time\")\n",
    "    plt.ylabel(\"Concentration\")\n",
    "    plt.title(\"Concentration of Cp over Time for Suboptimal Models\")\n",
    "    plt.grid(True)\n",
    "    # set the legend to be outside the plot\n",
    "    plt.legend(bbox_to_anchor=(1.05, 1), loc='upper left')\n",
    "    plt.show()"
   ]
  },
  {
   "cell_type": "markdown",
   "metadata": {},
   "source": [
    "## Synthetic data for each model"
   ]
  },
  {
   "cell_type": "code",
   "execution_count": null,
   "metadata": {},
   "outputs": [],
   "source": [
    "### Generate the synthetic data\n",
    "feature_df_sets = []\n",
    "initial_value_sets = []\n",
    "target_df_sets = []\n",
    "target_df_model_labels = []\n",
    "time_course_data_sets = []\n",
    "\n",
    "for i, model_spec in enumerate(diff_model_specs): \n",
    "    model = diff_models[i]\n",
    "    runner = roadrunner.RoadRunner(model.get_sbml_model())\n",
    "    feature_df = generate_feature_data(model_spec, runner, feature_generation_method, feature_generation_extra_params, feature_generation_size, seed=feature_generation_seed)\n",
    "    initial_values = get_model_initial_values(model_spec, runner)\n",
    "    target_df, time_course_data = generate_target_data(model_spec, runner, feature_df, initial_values, simulation_params={'start': 0, 'end': simulation_time, 'points': simulation_step})\n",
    "    feature_df_sets.append(feature_df)\n",
    "    initial_value_sets.append(initial_values)\n",
    "    target_df_sets.append(target_df)\n",
    "    target_df_model_labels.append(model_labels[i])\n",
    "    time_course_data_sets.append(time_course_data)"
   ]
  },
  {
   "cell_type": "markdown",
   "metadata": {},
   "source": [
    "## Generate suboptimal models"
   ]
  },
  {
   "cell_type": "code",
   "execution_count": null,
   "metadata": {},
   "outputs": [],
   "source": [
    "n_sub = no_sub_models\n",
    "suboptimal_models_rms = []\n",
    "suboptimal_models_spec_rms = []\n",
    "suboptimal_models_labels = []\n",
    "suboptimal_models_reg_deleted = []  # record the regulations that were deleted\n",
    "n_edge_removed_range = no_link_rm_range\n",
    "\n",
    "for i, model_spec in enumerate(diff_model_specs):\n",
    "    model = diff_models[i]\n",
    "    for n_edge_removed in range(n_edge_removed_range[0], n_edge_removed_range[1]+1):\n",
    "        for j in range(n_sub):\n",
    "            s_spec, s_model, reg_deleted = systematic_edge_pruning(model_spec, model, n_edge_removed, random_seed=j)\n",
    "            suboptimal_models_spec_rms.append(s_spec)\n",
    "            suboptimal_models_rms.append(s_model)\n",
    "            suboptimal_models_labels.append(f'{model_labels[i]}_{n_edge_removed}_{j}')\n",
    "            suboptimal_models_reg_deleted.append(reg_deleted)"
   ]
  },
  {
   "cell_type": "code",
   "execution_count": 14,
   "metadata": {},
   "outputs": [],
   "source": [
    "if plot_figures:\n",
    "    # Visualise the behaviour of the suboptimal models, plot the original model as reference comparison\n",
    "    plt.figure(figsize=(8, 5))\n",
    "\n",
    "    for i, s_model in enumerate(suboptimal_models_rms):\n",
    "        runner = roadrunner.RoadRunner(s_model.get_sbml_model())\n",
    "        res = runner.simulate(0, simulation_time, simulation_step)\n",
    "        plt.plot(res['time'], res['[Cp]'], label=f\"Model {i+1}\")\n",
    "        \n",
    "    runner = roadrunner.RoadRunner(G0_d.get_sbml_model())\n",
    "    res = runner.simulate(0, simulation_time, simulation_step)\n",
    "    plt.plot(res['time'], res['[Cp]'], label=\"Ground Truth\", linestyle='dashed', color='black')\n",
    "        \n",
    "    plt.xlabel(\"Time\")\n",
    "    plt.ylabel(\"Concentration\")\n",
    "    plt.title(\"Concentration of Cp over Time for Suboptimal Models\")\n",
    "    plt.grid(True)\n",
    "    # set the legend to be outside the plot\n",
    "    # plt.legend(bbox_to_anchor=(1.05, 1), loc='upper left')\n",
    "    plt.show()"
   ]
  },
  {
   "cell_type": "markdown",
   "metadata": {},
   "source": [
    "## Generate timecourse data from ground truth and suboptimal models"
   ]
  },
  {
   "cell_type": "code",
   "execution_count": 16,
   "metadata": {},
   "outputs": [
    {
     "name": "stdout",
     "output_type": "stream",
     "text": [
      "Ground truth time course data generated, length: 4\n",
      "Suboptimal time course data generated, length: 8\n"
     ]
    }
   ],
   "source": [
    "time_course_data_sets = []\n",
    "last_time_points_sets = []\n",
    "\n",
    "\n",
    "ground_truth_timecourse_data = []\n",
    "ground_truth_last_time_points = []\n",
    "ground_truth_labels = []\n",
    "\n",
    "all_species = model_spec.A_species + model_spec.B_species + model_spec.C_species\n",
    "all_phos_species = [s+'p' for s in all_species]\n",
    "\n",
    "for i, spec in enumerate(diff_model_specs):\n",
    "    model = diff_models[i]\n",
    "    runner = roadrunner.RoadRunner(model.get_sbml_model())\n",
    "    time_course_data = generate_model_timecourse_data(spec, runner, feature_df, initial_values)\n",
    "    last_time_points = last_time_point_method(time_course_data, all_phos_species)\n",
    "    ground_truth_timecourse_data.append(time_course_data)\n",
    "    ground_truth_last_time_points.append(last_time_points)\n",
    "    ground_truth_labels.append(f'{model_labels[i]} Last Points G0')\n",
    "    \n",
    "print('Ground truth time course data generated, length:', len(ground_truth_timecourse_data))\n",
    "\n",
    "if run_jobs: \n",
    "    all_species = model_spec.A_species + model_spec.B_species + model_spec.C_species\n",
    "    all_phos_species = [s+'p' for s in all_species]\n",
    "    for i, s_spec in enumerate(suboptimal_models_spec_rms):\n",
    "        s_model = suboptimal_models_rms[i]\n",
    "        runner = roadrunner.RoadRunner(s_model.get_sbml_model())\n",
    "        time_course_data = generate_model_timecourse_data(s_spec, runner, feature_df, initial_values)\n",
    "        time_course_data_sets.append(time_course_data)\n",
    "        last_time_points = last_time_point_method(time_course_data, all_phos_species)\n",
    "        last_time_points_sets.append(last_time_points)\n",
    "        \n",
    "print('Suboptimal time course data generated, length:', len(time_course_data_sets))"
   ]
  },
  {
   "cell_type": "markdown",
   "metadata": {},
   "source": [
    "## Machine Learning"
   ]
  },
  {
   "cell_type": "code",
   "execution_count": null,
   "metadata": {},
   "outputs": [],
   "source": [
    "def evaluate_model(model, model_name, feature_data, feature_data_name, target_data ,test_size=0.2, random_state=4, additional_payload=None):\n",
    "    X_train, X_test, y_train, y_test = train_test_split(feature_data, target_data, test_size=test_size, random_state=random_state)\n",
    "    model.fit(X_train, y_train)\n",
    "    y_pred = model.predict(X_test)\n",
    "    # return a dictionary of the model performance\n",
    "    return_payload = {'Model': model_name, \n",
    "            'Feature Data': feature_data_name,\n",
    "            'Mean Squared Error': mean_squared_error(y_test, y_pred),\n",
    "            'R2 Score': r2_score(y_test, y_pred),\n",
    "            'Pearson Correlation': pearsonr(y_test, y_pred)[0],\n",
    "            'Pearson P-Value': pearsonr(y_test, y_pred)[1]\n",
    "            }\n",
    "    if additional_payload is not None:\n",
    "        return_payload.update(additional_payload)\n",
    "    return return_payload\n",
    "# create a linear regression model\n",
    "lm = LinearRegression()\n",
    "# create a random forest model\n",
    "rf = RandomForestRegressor(n_estimators=100, random_state=o_random_seed)\n",
    "# create a gradient boosting model\n",
    "gb = GradientBoostingRegressor(n_estimators=100, random_state=o_random_seed)\n",
    "# create a support vector machine model\n",
    "svr = SVR(max_iter=10000)\n",
    "scaled_svr = Pipeline([('scaler', StandardScaler()), ('svr', svr)])\n",
    "# create a neural network model (simple)\n",
    "nn = MLPRegressor(hidden_layer_sizes=(20,), max_iter=10000, random_state=o_random_seed)\n",
    "scaled_nn = Pipeline([('scaler', StandardScaler()), ('nn', nn)])\n",
    "\n",
    "all_models = [lm, rf, gb, scaled_svr, scaled_nn]\n",
    "all_models_desc = ['Linear Regression', 'Random Forest', 'Gradient Boosting', 'Support Vector Machine', 'Neural Network']\n",
    "zipped_model_data = list(zip(all_models, all_models_desc))\n",
    "all_features = ground_truth_last_time_points + last_time_points_sets\n",
    "all_features_desc = ground_truth_labels + suboptimal_models_labels\n",
    "deleted_edges_all = [None]*len(ground_truth_last_time_points) + suboptimal_models_reg_deleted\n",
    "zipped_feature_data = list(zip(all_features, all_features_desc, deleted_edges_all))\n",
    "\n",
    "# random states are rand ints between 0 and 10000, for n values \n",
    "np.random.seed(o_random_seed)\n",
    "n_random = no_ml_runs\n",
    "all_random_states = np.random.randint(0, 10000, n_random)\n",
    "\n",
    "if run_jobs: \n",
    "    all_metric_data = []\n",
    "    for i, target_data in enumerate(target_df_sets):\n",
    "        metric_data = []\n",
    "        if not parallelise:          \n",
    "            counter = 0\n",
    "            for (feature_data, feature_data_name, deleted_edges) in zipped_feature_data:\n",
    "                # test only the feature data that is relevant to the target data\n",
    "                if target_df_model_labels[i] in feature_data_name:\n",
    "                    for (model, model_name) in zipped_model_data:\n",
    "                        # print('Model:', model_name)\n",
    "                        for rand in all_random_states:\n",
    "                            metrics = evaluate_model(model, model_name, feature_data, feature_data_name, target_df['Cp'], random_state=rand, additional_payload={'Deleted Edges': deleted_edges})\n",
    "                            metric_data.append(metrics)\n",
    "                            counter += 1 \n",
    "                            print('completed', counter)\n",
    "                        \n",
    "        else:        \n",
    "            # parallelise the model evaluation process using joblib\n",
    "            from joblib import Parallel, delayed\n",
    "            relevant_zipped_feature_data = [(feature_data, feature_data_name, deleted_edges) for (feature_data, feature_data_name, deleted_edges) in zipped_feature_data if target_df_model_labels[i] in feature_data_name]\n",
    "            metric_data = Parallel(n_jobs=-1)(delayed(evaluate_model)(model, model_name, feature_data, feature_data_name, target_df['Cp'], random_state=rand, additional_payload={'Deleted Edges': deleted_edges}) \n",
    "                                            for (feature_data, feature_data_name, deleted_edges) in relevant_zipped_feature_data\n",
    "                                            for (model, model_name) in zipped_model_data\n",
    "                                            for rand in all_random_states)\n",
    "        \n",
    "        metric_df = pd.DataFrame(metric_data)\n",
    "        # create additional columns based on 'Feature Data' of the suboptimal model labels, e.g. edge removed, drug model used, suboptimal model rng seed \n",
    "        metric_df['Edge Removed'] = metric_df['Feature Data'].apply(lambda x: x.split('_')[1] if len(x.split('_')) > 1 else 'N/A')\n",
    "        metric_df['Drug G0 Model'] = metric_df['Feature Data'].apply(lambda x: x.split('_')[0] if len(x.split('_')) > 1 else 'N/A')\n",
    "        metric_df['Suboptimal Model Seed'] = metric_df['Feature Data'].apply(lambda x: x.split('_')[-1] if len(x.split('_')) > 1 else 'N/A')\n",
    "        metric_df['Target Label'] = target_df_model_labels[i]\n",
    "        print(f'Completed evaluation for {target_df_model_labels[i]}, length of metric data:', len(metric_df))\n",
    "        all_metric_data.append(metric_df)\n",
    "    all_metric_df = pd.concat(all_metric_data)\n",
    "    if save_figures:\n",
    "        # to pickle \n",
    "        all_metric_df.to_pickle(experiment_folder + 'all_metric_df.pkl')\n",
    "    "
   ]
  },
  {
   "cell_type": "markdown",
   "metadata": {},
   "source": [
    "## Visualising Dataset"
   ]
  },
  {
   "cell_type": "code",
   "execution_count": 17,
   "metadata": {},
   "outputs": [],
   "source": [
    "# load the metric data from the pickle file\n",
    "metric_df = pd.read_pickle(experiment_folder + 'metric_df.pkl')"
   ]
  },
  {
   "cell_type": "code",
   "execution_count": 18,
   "metadata": {},
   "outputs": [
    {
     "data": {
      "application/vnd.microsoft.datawrangler.viewer.v0+json": {
       "columns": [
        {
         "name": "index",
         "rawType": "int64",
         "type": "integer"
        },
        {
         "name": "Model",
         "rawType": "object",
         "type": "string"
        },
        {
         "name": "Feature Data",
         "rawType": "object",
         "type": "string"
        },
        {
         "name": "Mean Squared Error",
         "rawType": "float64",
         "type": "float"
        },
        {
         "name": "R2 Score",
         "rawType": "float64",
         "type": "float"
        },
        {
         "name": "Pearson Correlation",
         "rawType": "float64",
         "type": "float"
        },
        {
         "name": "Pearson P-Value",
         "rawType": "float64",
         "type": "float"
        },
        {
         "name": "Edge Removed",
         "rawType": "object",
         "type": "string"
        },
        {
         "name": "Drug G0 Model",
         "rawType": "object",
         "type": "string"
        },
        {
         "name": "Suboptimal Model Seed",
         "rawType": "object",
         "type": "string"
        }
       ],
       "conversionMethod": "pd.DataFrame",
       "ref": "e74d43d9-4a0c-46f7-9948-ba7d43b06ede",
       "rows": [
        [
         "0",
         "Linear Regression",
         "Mock Omics Data (A+B)",
         "2.537075166693201",
         "0.8524449182737565",
         "0.9251897830636245",
         "2.9612525789379423e-85",
         "N/A",
         "N/A",
         "N/A"
        ],
        [
         "1",
         "Linear Regression",
         "Mock Omics Data (A+B)",
         "2.7053252480306855",
         "0.8760282914559527",
         "0.939084266886675",
         "8.716734399223438e-94",
         "N/A",
         "N/A",
         "N/A"
        ],
        [
         "2",
         "Linear Regression",
         "Mock Omics Data (A+B)",
         "2.1428721992662743",
         "0.8612324280839183",
         "0.9290256324825672",
         "1.9597517293153143e-87",
         "N/A",
         "N/A",
         "N/A"
        ],
        [
         "3",
         "Linear Regression",
         "Mock Omics Data (A+B)",
         "2.3162598542461925",
         "0.8548650774423406",
         "0.9258045002496369",
         "1.349475415471117e-85",
         "N/A",
         "N/A",
         "N/A"
        ],
        [
         "4",
         "Linear Regression",
         "Mock Omics Data (A+B)",
         "2.430442072497391",
         "0.8649275122360098",
         "0.9301363714356178",
         "4.3475925446087557e-88",
         "N/A",
         "N/A",
         "N/A"
        ],
        [
         "5",
         "Linear Regression",
         "Mock Omics Data (A+B)",
         "1.81490071747647",
         "0.9045009698713261",
         "0.9522278171544983",
         "5.955906425819567e-104",
         "N/A",
         "N/A",
         "N/A"
        ],
        [
         "6",
         "Linear Regression",
         "Mock Omics Data (A+B)",
         "2.660435459146419",
         "0.8632788702203995",
         "0.929558382778906",
         "9.547253510218916e-88",
         "N/A",
         "N/A",
         "N/A"
        ],
        [
         "7",
         "Linear Regression",
         "Mock Omics Data (A+B)",
         "1.8232251898048222",
         "0.9045964959457788",
         "0.9513282682066756",
         "3.6108340010926903e-103",
         "N/A",
         "N/A",
         "N/A"
        ],
        [
         "8",
         "Linear Regression",
         "Mock Omics Data (A+B)",
         "2.4723574481578967",
         "0.875897153525202",
         "0.9363591409296786",
         "5.7914110256800626e-92",
         "N/A",
         "N/A",
         "N/A"
        ],
        [
         "9",
         "Linear Regression",
         "Mock Omics Data (A+B)",
         "2.3824421900013224",
         "0.8832701752295943",
         "0.940060755789945",
         "1.848207150238201e-94",
         "N/A",
         "N/A",
         "N/A"
        ],
        [
         "10",
         "Random Forest",
         "Mock Omics Data (A+B)",
         "0.5707092848414905",
         "0.9668078201733092",
         "0.984203948121339",
         "7.537980428222134e-151",
         "N/A",
         "N/A",
         "N/A"
        ],
        [
         "11",
         "Random Forest",
         "Mock Omics Data (A+B)",
         "0.43408757980301105",
         "0.9801079079252657",
         "0.9907709522481833",
         "8.141151941090126e-174",
         "N/A",
         "N/A",
         "N/A"
        ],
        [
         "12",
         "Random Forest",
         "Mock Omics Data (A+B)",
         "0.5512961753785969",
         "0.9642993027348505",
         "0.9821607626234977",
         "1.1582378448986423e-145",
         "N/A",
         "N/A",
         "N/A"
        ],
        [
         "13",
         "Random Forest",
         "Mock Omics Data (A+B)",
         "0.37879914377337004",
         "0.9762647596314933",
         "0.9888444675692937",
         "1.0493085584100175e-165",
         "N/A",
         "N/A",
         "N/A"
        ],
        [
         "14",
         "Random Forest",
         "Mock Omics Data (A+B)",
         "0.3301731845576215",
         "0.9816505343057482",
         "0.991322337655579",
         "1.877988886483847e-176",
         "N/A",
         "N/A",
         "N/A"
        ],
        [
         "15",
         "Random Forest",
         "Mock Omics Data (A+B)",
         "0.3941171412280849",
         "0.9792617830926305",
         "0.9911524559761143",
         "1.2696297389453216e-175",
         "N/A",
         "N/A",
         "N/A"
        ],
        [
         "16",
         "Random Forest",
         "Mock Omics Data (A+B)",
         "0.5251387257275093",
         "0.973012854107906",
         "0.9866734493283336",
         "4.172599173115699e-158",
         "N/A",
         "N/A",
         "N/A"
        ],
        [
         "17",
         "Random Forest",
         "Mock Omics Data (A+B)",
         "0.24861805820294636",
         "0.9869906174748186",
         "0.9938706395120792",
         "2.3977534092532892e-191",
         "N/A",
         "N/A",
         "N/A"
        ],
        [
         "18",
         "Random Forest",
         "Mock Omics Data (A+B)",
         "0.410047795246833",
         "0.9794171758542589",
         "0.9905212715513126",
         "1.130126643091227e-172",
         "N/A",
         "N/A",
         "N/A"
        ],
        [
         "19",
         "Random Forest",
         "Mock Omics Data (A+B)",
         "0.36940885761532194",
         "0.9819004921088774",
         "0.9922881123291246",
         "1.6640197854462734e-181",
         "N/A",
         "N/A",
         "N/A"
        ],
        [
         "20",
         "Gradient Boosting",
         "Mock Omics Data (A+B)",
         "0.3859736919565789",
         "0.977551954152362",
         "0.9895613838151572",
         "1.514249010479186e-168",
         "N/A",
         "N/A",
         "N/A"
        ],
        [
         "21",
         "Gradient Boosting",
         "Mock Omics Data (A+B)",
         "0.3303904565516354",
         "0.9848598354614959",
         "0.9926220535914717",
         "2.113125378046774e-183",
         "N/A",
         "N/A",
         "N/A"
        ],
        [
         "22",
         "Gradient Boosting",
         "Mock Omics Data (A+B)",
         "0.5919277015478259",
         "0.9616680967153413",
         "0.9807679833117905",
         "1.846681170984319e-142",
         "N/A",
         "N/A",
         "N/A"
        ],
        [
         "23",
         "Gradient Boosting",
         "Mock Omics Data (A+B)",
         "0.4273063314671737",
         "0.9732253394574035",
         "0.9872874874299188",
         "4.029734873704658e-160",
         "N/A",
         "N/A",
         "N/A"
        ],
        [
         "24",
         "Gradient Boosting",
         "Mock Omics Data (A+B)",
         "0.22170590474543053",
         "0.9876786332639641",
         "0.9945487218606212",
         "2.2561361150770004e-196",
         "N/A",
         "N/A",
         "N/A"
        ],
        [
         "25",
         "Gradient Boosting",
         "Mock Omics Data (A+B)",
         "0.257856166766414",
         "0.9864317570643037",
         "0.993836927246833",
         "4.120244717979212e-191",
         "N/A",
         "N/A",
         "N/A"
        ],
        [
         "26",
         "Gradient Boosting",
         "Mock Omics Data (A+B)",
         "0.45009225911385703",
         "0.9768695301517132",
         "0.98853886446875",
         "1.501157171362299e-164",
         "N/A",
         "N/A",
         "N/A"
        ],
        [
         "27",
         "Gradient Boosting",
         "Mock Omics Data (A+B)",
         "0.20070950612733873",
         "0.9894975177566573",
         "0.994829132802369",
         "1.226669362187701e-198",
         "N/A",
         "N/A",
         "N/A"
        ],
        [
         "28",
         "Gradient Boosting",
         "Mock Omics Data (A+B)",
         "0.2838801552719818",
         "0.9857503067150707",
         "0.9932417787454886",
         "3.679771398769953e-187",
         "N/A",
         "N/A",
         "N/A"
        ],
        [
         "29",
         "Gradient Boosting",
         "Mock Omics Data (A+B)",
         "0.24896404598376026",
         "0.987801790287386",
         "0.994068979612237",
         "9.326237247638256e-193",
         "N/A",
         "N/A",
         "N/A"
        ],
        [
         "30",
         "Support Vector Machine",
         "Mock Omics Data (A+B)",
         "2.3146404813629275",
         "0.8653816134901772",
         "0.9468024365362997",
         "1.91733438410202e-99",
         "N/A",
         "N/A",
         "N/A"
        ],
        [
         "31",
         "Support Vector Machine",
         "Mock Omics Data (A+B)",
         "2.7087375925319543",
         "0.8758719205433347",
         "0.9533230546030048",
         "6.3295857160519516e-105",
         "N/A",
         "N/A",
         "N/A"
        ],
        [
         "32",
         "Support Vector Machine",
         "Mock Omics Data (A+B)",
         "1.659601244589358",
         "0.89252796543843",
         "0.949725292209588",
         "8.245187138845354e-102",
         "N/A",
         "N/A",
         "N/A"
        ],
        [
         "33",
         "Support Vector Machine",
         "Mock Omics Data (A+B)",
         "2.037766870689108",
         "0.8723152169538089",
         "0.9438077700725266",
         "3.737129945655915e-97",
         "N/A",
         "N/A",
         "N/A"
        ],
        [
         "34",
         "Support Vector Machine",
         "Mock Omics Data (A+B)",
         "1.978948415350132",
         "0.8900193966181289",
         "0.9547896222674799",
         "2.88681556802929e-106",
         "N/A",
         "N/A",
         "N/A"
        ],
        [
         "35",
         "Support Vector Machine",
         "Mock Omics Data (A+B)",
         "2.178774953383039",
         "0.8853541172180266",
         "0.9553861659743023",
         "7.983242939045523e-107",
         "N/A",
         "N/A",
         "N/A"
        ],
        [
         "36",
         "Support Vector Machine",
         "Mock Omics Data (A+B)",
         "2.1456702962915575",
         "0.8897329134465702",
         "0.9542895694073651",
         "8.36728586391983e-106",
         "N/A",
         "N/A",
         "N/A"
        ],
        [
         "37",
         "Support Vector Machine",
         "Mock Omics Data (A+B)",
         "1.7825723425671487",
         "0.906723728554204",
         "0.9635710636442638",
         "2.311141640209734e-115",
         "N/A",
         "N/A",
         "N/A"
        ],
        [
         "38",
         "Support Vector Machine",
         "Mock Omics Data (A+B)",
         "2.314256047789624",
         "0.8838332364860106",
         "0.9548141448799032",
         "2.7391763615498565e-106",
         "N/A",
         "N/A",
         "N/A"
        ],
        [
         "39",
         "Support Vector Machine",
         "Mock Omics Data (A+B)",
         "2.097562563680517",
         "0.8972281000013462",
         "0.9632094136739033",
         "6.036703919266357e-115",
         "N/A",
         "N/A",
         "N/A"
        ],
        [
         "40",
         "Neural Network",
         "Mock Omics Data (A+B)",
         "0.4501719983835289",
         "0.9738182112676914",
         "0.9869390904507443",
         "5.759045945533742e-159",
         "N/A",
         "N/A",
         "N/A"
        ],
        [
         "41",
         "Neural Network",
         "Mock Omics Data (A+B)",
         "0.4534314276542483",
         "0.9792214748172025",
         "0.9895953197280022",
         "1.0987808694633384e-168",
         "N/A",
         "N/A",
         "N/A"
        ],
        [
         "42",
         "Neural Network",
         "Mock Omics Data (A+B)",
         "0.6976210904389208",
         "0.9548236311662425",
         "0.9772361846704563",
         "2.7543177347424015e-135",
         "N/A",
         "N/A",
         "N/A"
        ],
        [
         "43",
         "Neural Network",
         "Mock Omics Data (A+B)",
         "0.3775154699226447",
         "0.9763451935709637",
         "0.9882733402534377",
         "1.430609630396173e-163",
         "N/A",
         "N/A",
         "N/A"
        ],
        [
         "44",
         "Neural Network",
         "Mock Omics Data (A+B)",
         "0.29402957093001064",
         "0.9836592255906409",
         "0.9919522659364893",
         "1.113870762003294e-179",
         "N/A",
         "N/A",
         "N/A"
        ],
        [
         "45",
         "Neural Network",
         "Mock Omics Data (A+B)",
         "0.3788988372620507",
         "0.9800625614795498",
         "0.9899872511282635",
         "2.5023240788141164e-170",
         "N/A",
         "N/A",
         "N/A"
        ],
        [
         "46",
         "Neural Network",
         "Mock Omics Data (A+B)",
         "0.5137166271096213",
         "0.9735998415584463",
         "0.9867859359932357",
         "1.8127523444191422e-158",
         "N/A",
         "N/A",
         "N/A"
        ],
        [
         "47",
         "Neural Network",
         "Mock Omics Data (A+B)",
         "0.3837824849367016",
         "0.9799178982046002",
         "0.9903057151282824",
         "1.0360204186754355e-171",
         "N/A",
         "N/A",
         "N/A"
        ],
        [
         "48",
         "Neural Network",
         "Mock Omics Data (A+B)",
         "0.4051054935826886",
         "0.9796652604122238",
         "0.9900508076072633",
         "1.3363036248687116e-170",
         "N/A",
         "N/A",
         "N/A"
        ],
        [
         "49",
         "Neural Network",
         "Mock Omics Data (A+B)",
         "0.33035189317672237",
         "0.983814122011049",
         "0.9921476349160343",
         "9.870215922514589e-181",
         "N/A",
         "N/A",
         "N/A"
        ]
       ],
       "shape": {
        "columns": 9,
        "rows": 18250
       }
      },
      "text/html": [
       "<div>\n",
       "<style scoped>\n",
       "    .dataframe tbody tr th:only-of-type {\n",
       "        vertical-align: middle;\n",
       "    }\n",
       "\n",
       "    .dataframe tbody tr th {\n",
       "        vertical-align: top;\n",
       "    }\n",
       "\n",
       "    .dataframe thead th {\n",
       "        text-align: right;\n",
       "    }\n",
       "</style>\n",
       "<table border=\"1\" class=\"dataframe\">\n",
       "  <thead>\n",
       "    <tr style=\"text-align: right;\">\n",
       "      <th></th>\n",
       "      <th>Model</th>\n",
       "      <th>Feature Data</th>\n",
       "      <th>Mean Squared Error</th>\n",
       "      <th>R2 Score</th>\n",
       "      <th>Pearson Correlation</th>\n",
       "      <th>Pearson P-Value</th>\n",
       "      <th>Edge Removed</th>\n",
       "      <th>Drug G0 Model</th>\n",
       "      <th>Suboptimal Model Seed</th>\n",
       "    </tr>\n",
       "  </thead>\n",
       "  <tbody>\n",
       "    <tr>\n",
       "      <th>0</th>\n",
       "      <td>Linear Regression</td>\n",
       "      <td>Mock Omics Data (A+B)</td>\n",
       "      <td>2.537075</td>\n",
       "      <td>0.852445</td>\n",
       "      <td>0.925190</td>\n",
       "      <td>2.961253e-85</td>\n",
       "      <td>N/A</td>\n",
       "      <td>N/A</td>\n",
       "      <td>N/A</td>\n",
       "    </tr>\n",
       "    <tr>\n",
       "      <th>1</th>\n",
       "      <td>Linear Regression</td>\n",
       "      <td>Mock Omics Data (A+B)</td>\n",
       "      <td>2.705325</td>\n",
       "      <td>0.876028</td>\n",
       "      <td>0.939084</td>\n",
       "      <td>8.716734e-94</td>\n",
       "      <td>N/A</td>\n",
       "      <td>N/A</td>\n",
       "      <td>N/A</td>\n",
       "    </tr>\n",
       "    <tr>\n",
       "      <th>2</th>\n",
       "      <td>Linear Regression</td>\n",
       "      <td>Mock Omics Data (A+B)</td>\n",
       "      <td>2.142872</td>\n",
       "      <td>0.861232</td>\n",
       "      <td>0.929026</td>\n",
       "      <td>1.959752e-87</td>\n",
       "      <td>N/A</td>\n",
       "      <td>N/A</td>\n",
       "      <td>N/A</td>\n",
       "    </tr>\n",
       "    <tr>\n",
       "      <th>3</th>\n",
       "      <td>Linear Regression</td>\n",
       "      <td>Mock Omics Data (A+B)</td>\n",
       "      <td>2.316260</td>\n",
       "      <td>0.854865</td>\n",
       "      <td>0.925805</td>\n",
       "      <td>1.349475e-85</td>\n",
       "      <td>N/A</td>\n",
       "      <td>N/A</td>\n",
       "      <td>N/A</td>\n",
       "    </tr>\n",
       "    <tr>\n",
       "      <th>4</th>\n",
       "      <td>Linear Regression</td>\n",
       "      <td>Mock Omics Data (A+B)</td>\n",
       "      <td>2.430442</td>\n",
       "      <td>0.864928</td>\n",
       "      <td>0.930136</td>\n",
       "      <td>4.347593e-88</td>\n",
       "      <td>N/A</td>\n",
       "      <td>N/A</td>\n",
       "      <td>N/A</td>\n",
       "    </tr>\n",
       "    <tr>\n",
       "      <th>...</th>\n",
       "      <td>...</td>\n",
       "      <td>...</td>\n",
       "      <td>...</td>\n",
       "      <td>...</td>\n",
       "      <td>...</td>\n",
       "      <td>...</td>\n",
       "      <td>...</td>\n",
       "      <td>...</td>\n",
       "      <td>...</td>\n",
       "    </tr>\n",
       "    <tr>\n",
       "      <th>18245</th>\n",
       "      <td>Neural Network</td>\n",
       "      <td>DAuSY_10_9</td>\n",
       "      <td>0.751725</td>\n",
       "      <td>0.960445</td>\n",
       "      <td>0.980157</td>\n",
       "      <td>3.955756e-141</td>\n",
       "      <td>10</td>\n",
       "      <td>DAuSY</td>\n",
       "      <td>9</td>\n",
       "    </tr>\n",
       "    <tr>\n",
       "      <th>18246</th>\n",
       "      <td>Neural Network</td>\n",
       "      <td>DAuSY_10_9</td>\n",
       "      <td>0.962220</td>\n",
       "      <td>0.950551</td>\n",
       "      <td>0.975088</td>\n",
       "      <td>1.865021e-131</td>\n",
       "      <td>10</td>\n",
       "      <td>DAuSY</td>\n",
       "      <td>9</td>\n",
       "    </tr>\n",
       "    <tr>\n",
       "      <th>18247</th>\n",
       "      <td>Neural Network</td>\n",
       "      <td>DAuSY_10_9</td>\n",
       "      <td>0.541392</td>\n",
       "      <td>0.971671</td>\n",
       "      <td>0.986010</td>\n",
       "      <td>4.956049e-156</td>\n",
       "      <td>10</td>\n",
       "      <td>DAuSY</td>\n",
       "      <td>9</td>\n",
       "    </tr>\n",
       "    <tr>\n",
       "      <th>18248</th>\n",
       "      <td>Neural Network</td>\n",
       "      <td>DAuSY_10_9</td>\n",
       "      <td>0.785171</td>\n",
       "      <td>0.960587</td>\n",
       "      <td>0.980206</td>\n",
       "      <td>3.113381e-141</td>\n",
       "      <td>10</td>\n",
       "      <td>DAuSY</td>\n",
       "      <td>9</td>\n",
       "    </tr>\n",
       "    <tr>\n",
       "      <th>18249</th>\n",
       "      <td>Neural Network</td>\n",
       "      <td>DAuSY_10_9</td>\n",
       "      <td>0.571946</td>\n",
       "      <td>0.971977</td>\n",
       "      <td>0.986213</td>\n",
       "      <td>1.179336e-156</td>\n",
       "      <td>10</td>\n",
       "      <td>DAuSY</td>\n",
       "      <td>9</td>\n",
       "    </tr>\n",
       "  </tbody>\n",
       "</table>\n",
       "<p>18250 rows × 9 columns</p>\n",
       "</div>"
      ],
      "text/plain": [
       "                   Model           Feature Data  Mean Squared Error  R2 Score  \\\n",
       "0      Linear Regression  Mock Omics Data (A+B)            2.537075  0.852445   \n",
       "1      Linear Regression  Mock Omics Data (A+B)            2.705325  0.876028   \n",
       "2      Linear Regression  Mock Omics Data (A+B)            2.142872  0.861232   \n",
       "3      Linear Regression  Mock Omics Data (A+B)            2.316260  0.854865   \n",
       "4      Linear Regression  Mock Omics Data (A+B)            2.430442  0.864928   \n",
       "...                  ...                    ...                 ...       ...   \n",
       "18245     Neural Network             DAuSY_10_9            0.751725  0.960445   \n",
       "18246     Neural Network             DAuSY_10_9            0.962220  0.950551   \n",
       "18247     Neural Network             DAuSY_10_9            0.541392  0.971671   \n",
       "18248     Neural Network             DAuSY_10_9            0.785171  0.960587   \n",
       "18249     Neural Network             DAuSY_10_9            0.571946  0.971977   \n",
       "\n",
       "       Pearson Correlation  Pearson P-Value Edge Removed Drug G0 Model  \\\n",
       "0                 0.925190     2.961253e-85          N/A           N/A   \n",
       "1                 0.939084     8.716734e-94          N/A           N/A   \n",
       "2                 0.929026     1.959752e-87          N/A           N/A   \n",
       "3                 0.925805     1.349475e-85          N/A           N/A   \n",
       "4                 0.930136     4.347593e-88          N/A           N/A   \n",
       "...                    ...              ...          ...           ...   \n",
       "18245             0.980157    3.955756e-141           10         DAuSY   \n",
       "18246             0.975088    1.865021e-131           10         DAuSY   \n",
       "18247             0.986010    4.956049e-156           10         DAuSY   \n",
       "18248             0.980206    3.113381e-141           10         DAuSY   \n",
       "18249             0.986213    1.179336e-156           10         DAuSY   \n",
       "\n",
       "      Suboptimal Model Seed  \n",
       "0                       N/A  \n",
       "1                       N/A  \n",
       "2                       N/A  \n",
       "3                       N/A  \n",
       "4                       N/A  \n",
       "...                     ...  \n",
       "18245                     9  \n",
       "18246                     9  \n",
       "18247                     9  \n",
       "18248                     9  \n",
       "18249                     9  \n",
       "\n",
       "[18250 rows x 9 columns]"
      ]
     },
     "execution_count": 18,
     "metadata": {},
     "output_type": "execute_result"
    }
   ],
   "source": [
    "metric_df"
   ]
  },
  {
   "cell_type": "code",
   "execution_count": 21,
   "metadata": {},
   "outputs": [
    {
     "data": {
      "image/png": "[encoded data removed]",
      "text/plain": [
       "<Figure size 576x360 with 1 Axes>"
      ]
     },
     "metadata": {
      "needs_background": "light"
     },
     "output_type": "display_data"
    }
   ],
   "source": [
    "edge_removed_metric_df = metric_df[metric_df['Edge Removed'] != 'N/A']\n",
    "lin_reg_edge_removed_metric_df = edge_removed_metric_df[edge_removed_metric_df['Model'] == 'Linear Regression']\n",
    "\n",
    "# plot the performance of the linear regression model based on the number of edges removed\n",
    "plt.figure(figsize=(8, 5))\n",
    "sns.boxplot(x='Edge Removed', y='Pearson Correlation', data=lin_reg_edge_removed_metric_df)\n",
    "plt.title('Pearson Correlation of Linear Regression Model Based on Number of Edges Removed')\n",
    "plt.show()"
   ]
  },
  {
   "cell_type": "code",
   "execution_count": 23,
   "metadata": {},
   "outputs": [
    {
     "name": "stdout",
     "output_type": "stream",
     "text": [
      "Unique Values of Edge Removed: ['2' '3' '4' '5' '6' '7' '8' '9' '10']\n",
      "Unique Values of Drug G0 Model: ['DAd' 'DAdSY' 'DAu' 'DAuSY']\n",
      "Unique Values of Suboptimal Model Seed: ['0' '1' '2' '3' '4' '5' '6' '7' '8' '9']\n",
      "Unique Values of Model: ['Linear Regression' 'Random Forest' 'Gradient Boosting'\n",
      " 'Support Vector Machine' 'Neural Network']\n"
     ]
    }
   ],
   "source": [
    "# print all the unique values of the 'Edge Removed' column and 'Drug G0 Model' and 'Suboptimal Model Seed'\n",
    "print('Unique Values of Edge Removed:', edge_removed_metric_df['Edge Removed'].unique())\n",
    "print('Unique Values of Drug G0 Model:', edge_removed_metric_df['Drug G0 Model'].unique())\n",
    "print('Unique Values of Suboptimal Model Seed:', edge_removed_metric_df['Suboptimal Model Seed'].unique())\n",
    "print('Unique Values of Model:', edge_removed_metric_df['Model'].unique())"
   ]
  },
  {
   "cell_type": "code",
   "execution_count": null,
   "metadata": {},
   "outputs": [
    {
     "data": {
      "image/png": "[encoded data removed]",
      "text/plain": [
       "<Figure size 576x360 with 1 Axes>"
      ]
     },
     "metadata": {
      "needs_background": "light"
     },
     "output_type": "display_data"
    }
   ],
   "source": [
    "edge_removed_metric_df = metric_df[metric_df['Edge Removed'] != 'N/A']\n",
    "lin_reg_edge_removed_metric_df = edge_removed_metric_df[edge_removed_metric_df['Model'] == 'Gradient Boosting']\n",
    "lin_reg_edge_removed_metric_df_s2 = lin_reg_edge_removed_metric_df[lin_reg_edge_removed_metric_df['Suboptimal Model Seed'] == '5']\n",
    "dmodel_df = lin_reg_edge_removed_metric_df[lin_reg_edge_removed_metric_df['Drug G0 Model'] == 'DAd']\n",
    "\n",
    "# plot the performance of the linear regression model based on the number of edges removed\n",
    "plt.figure(figsize=(8, 5))\n",
    "sns.boxplot(x='Edge Removed', y='Pearson Correlation', data=dmodel_df)\n",
    "plt.title('Pearson Correlation of Gradient Boosting Model Based on Number of Edges Removed')\n",
    "plt.show()"
   ]
  }
 ],
 "metadata": {
  "kernelspec": {
   "display_name": "new-peak-project",
   "language": "python",
   "name": "python3"
  },
  "language_info": {
   "codemirror_mode": {
    "name": "ipython",
    "version": 3
   },
   "file_extension": ".py",
   "mimetype": "text/x-python",
   "name": "python",
   "nbconvert_exporter": "python",
   "pygments_lexer": "ipython3",
   "version": "3.8.10"
  }
 },
 "nbformat": 4,
 "nbformat_minor": 2
}
