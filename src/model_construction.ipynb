{
 "cells": [
  {
   "cell_type": "code",
   "execution_count": null,
   "metadata": {},
   "outputs": [],
   "source": [
    "import antimony\n",
    "import roadrunner \n",
    "import matplotlib.pyplot as plt \n",
    "\n",
    "ant_model = \"\"\"\n",
    "model EGFR\n",
    "\n",
    "    React1:    -> S1; k1*K1^n1/(K1^n1+S3^n1);\n",
    "    React2: S1 ->   ; kd1*S1;\n",
    "    React3:    -> S2; k2*S1;\n",
    "    React4: S2 ->   ; kd2*S2;\n",
    "    React5:    -> S3; k3*S2;\n",
    "    React6: S3 ->   ; kd3*S3;\n",
    "\n",
    "    \n",
    "\n",
    "    S1=0\n",
    "    S2=0\n",
    "    S3=0\n",
    "\n",
    "    k1=0.1\n",
    "    k2=0.1\n",
    "    k3=0.1\n",
    "    kd1=0.01\n",
    "    kd2=0.01\n",
    "    kd3=0.01\n",
    "    n1=9\n",
    "    K1=1\n",
    "end\n",
    "\"\"\"\n",
    "\n",
    "antimony.clearPreviousLoads()\n",
    "antimony.freeAll()\n",
    "code = antimony.loadAntimonyString(ant_model)\n",
    "if code >= 0:\n",
    "    mid = antimony.getMainModuleName()\n",
    "    sbml_model = antimony.getSBMLString(mid)\n",
    "    print('Antimony model compiled without error')\n",
    "\n",
    "r_model = roadrunner.RoadRunner(sbml_model)\n",
    "\n",
    "r_solved = r_model.simulate(0, 3600, 3600)\n",
    "\n",
    "r_model.plot()\n",
    "\n",
    "# print(r_solved)\n",
    "# plt.plot(r_solved)\n"
   ]
  },
  {
   "cell_type": "code",
   "execution_count": 11,
   "metadata": {},
   "outputs": [],
   "source": [
    "import roadrunner\n",
    "\n",
    "rr = roadrunner.RoadRunner()"
   ]
  }
 ],
 "metadata": {
  "kernelspec": {
   "display_name": "Python 3.8.10 ('new-peak-project': venv)",
   "language": "python",
   "name": "python3"
  },
  "language_info": {
   "codemirror_mode": {
    "name": "ipython",
    "version": 3
   },
   "file_extension": ".py",
   "mimetype": "text/x-python",
   "name": "python",
   "nbconvert_exporter": "python",
   "pygments_lexer": "ipython3",
   "version": "3.8.10"
  },
  "orig_nbformat": 4,
  "vscode": {
   "interpreter": {
    "hash": "26dd0fc41489774a473fd43448eb28c34cff45d3a78493dcfae1c9dcdb817ac1"
   }
  }
 },
 "nbformat": 4,
 "nbformat_minor": 2
}
