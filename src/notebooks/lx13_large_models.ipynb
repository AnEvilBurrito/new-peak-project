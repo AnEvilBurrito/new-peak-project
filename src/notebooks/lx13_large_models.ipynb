{
 "cells": [
  {
   "cell_type": "markdown",
   "id": "21f8cce3",
   "metadata": {},
   "source": [
    "# Generating large biochemical models and large drug biochemical models"
   ]
  },
  {
   "cell_type": "markdown",
   "id": "e371ab8a",
   "metadata": {},
   "source": [
    "## Init"
   ]
  },
  {
   "cell_type": "code",
   "execution_count": 1,
   "id": "233f09c6",
   "metadata": {},
   "outputs": [
    {
     "name": "stdout",
     "output_type": "stream",
     "text": [
      "Project path set to: c:\\Github\\new-peak-project\\src\n"
     ]
    }
   ],
   "source": [
    "import os\n",
    "\n",
    "path = os.getcwd()\n",
    "# find the string 'project' in the path, return index\n",
    "index_project = path.find('project')\n",
    "# slice the path from the index of 'project' to the end\n",
    "project_path = path[:index_project+7]\n",
    "# set the working directory\n",
    "os.chdir(project_path+'\\src')\n",
    "print(f'Project path set to: {os.getcwd()}')"
   ]
  },
  {
   "cell_type": "code",
   "execution_count": 2,
   "id": "ffce3009",
   "metadata": {},
   "outputs": [
    {
     "name": "stdout",
     "output_type": "stream",
     "text": [
      "G:\\My Drive\\DAWSON PHD PROJECT\\Biomarker Data Repository\\data\\new-peak-project\\experiments\n"
     ]
    }
   ],
   "source": [
    "from dotenv import dotenv_values\n",
    "config = dotenv_values(\".env\")\n",
    "print(config[\"DATA_PATH\"])"
   ]
  },
  {
   "cell_type": "code",
   "execution_count": 3,
   "id": "b60a70ac",
   "metadata": {},
   "outputs": [],
   "source": [
    "from models.ModelBuilder import ModelBuilder\n",
    "from models.Reaction import Reaction\n",
    "from models.ReactionArchtype import ReactionArchtype\n",
    "from models.ArchtypeCollections import *\n",
    "from models.Utils import *\n",
    "\n",
    "import matplotlib.pyplot as plt\n",
    "import seaborn as sns\n",
    "import roadrunner\n",
    "import numpy as np\n",
    "import pandas as pd\n",
    "\n",
    "# import scikit-learn\n",
    "from sklearn.linear_model import LinearRegression\n",
    "# tree models and support vector machines\n",
    "from sklearn.ensemble import RandomForestRegressor\n",
    "from sklearn.ensemble import GradientBoostingRegressor\n",
    "from sklearn.svm import SVR\n",
    "from sklearn.neural_network import MLPRegressor\n",
    "from sklearn.model_selection import train_test_split\n",
    "from sklearn.metrics import mean_squared_error, r2_score\n",
    "# import pearson correlation\n",
    "from scipy.stats import pearsonr\n",
    "from sklearn.preprocessing import StandardScaler\n",
    "from sklearn.pipeline import Pipeline\n",
    "\n",
    "from copy import deepcopy"
   ]
  },
  {
   "cell_type": "markdown",
   "id": "1f3ab500",
   "metadata": {},
   "source": [
    "## Analysis"
   ]
  },
  {
   "cell_type": "markdown",
   "id": "5a93b008",
   "metadata": {},
   "source": [
    "### Setup"
   ]
  },
  {
   "cell_type": "code",
   "execution_count": 4,
   "id": "7ce6e070",
   "metadata": {},
   "outputs": [
    {
     "name": "stdout",
     "output_type": "stream",
     "text": [
      "G:\\My Drive\\DAWSON PHD PROJECT\\Biomarker Data Repository\\data\\new-peak-project\\experiments/generate_large_model_0/\n"
     ]
    }
   ],
   "source": [
    "import os \n",
    "\n",
    "### parameters \n",
    "notebook_name = 'generate_large_model'\n",
    "sub_id = '0'\n",
    "\n",
    "## Generation of ground truth model \n",
    "model_name = 'v3_small_model_52'\n",
    "o_random_seed = 6 \n",
    "parameter_random_seed = 6\n",
    "no_observable_species = 5\n",
    "no_feedback_regulations = 2\n",
    "specie_value_range = (5, 5000)\n",
    "param_range = (0.1, 10)\n",
    "param_multiplier_range = (0.7, 1.3)\n",
    "\n",
    "\n",
    "## Simulation parameters \n",
    "simulation_time = 500 \n",
    "simulation_step = 100\n",
    "\n",
    "## Feature data generation \n",
    "feature_generation_method = 'uniform'\n",
    "feature_generation_extra_params = {'min': 0.1, 'max': 10}\n",
    "feature_generation_size = 1000 \n",
    "feature_generation_seed = 50 # if -1 then 'o_random_seed' is used\n",
    "if feature_generation_seed == -1:\n",
    "    feature_generation_seed = o_random_seed\n",
    "    \n",
    "## Data engineering parameters\n",
    "\n",
    "# Suboptimal Model Generation \n",
    "'''\n",
    "Options: \n",
    "- 'feedback_prune': removes feedback regulations from the model \n",
    "'''\n",
    "\n",
    "# Engineering Feature Data \n",
    "data_engineering_method = 'dynamic_feature'\n",
    "''' \n",
    "Options: \n",
    "- 'last_time_point' : only the last time point of the phosphorylated species is used\n",
    "- 'dynamic_feature': computes the characteristic 'ten' dynamic feature for each specie data \n",
    "'''\n",
    "\n",
    "## General parameters\n",
    "parallelise = True\n",
    "save_figures = True \n",
    "experiment_id = notebook_name + '_' + sub_id\n",
    "experiment_folder = config['DATA_PATH'] + '/' + experiment_id + '/'\n",
    "if not os.path.exists(experiment_folder):\n",
    "    os.makedirs(experiment_folder)\n",
    "    \n",
    "print(experiment_folder)"
   ]
  },
  {
   "cell_type": "markdown",
   "id": "c92d1052",
   "metadata": {},
   "source": [
    "### Standard Model"
   ]
  },
  {
   "cell_type": "code",
   "execution_count": 5,
   "id": "b0c54790",
   "metadata": {},
   "outputs": [],
   "source": [
    "### Generate the ground truth model\n",
    "model_name = 'example_model_1'\n",
    "seed = 42 \n",
    "num_species = 100\n",
    "num_feedback = 25\n",
    "\n",
    "model_spec = ModelSpecification()\n",
    "model_spec.generate_specifications(seed, num_species, num_feedback, verbose=0)\n",
    "# G0 = model_spec.generate_network(model_name, specie_value_range, param_range, param_multiplier_range, random_seed=parameter_random_seed, verbose=0)\n",
    "# runner = roadrunner.RoadRunner(G0.get_sbml_model())"
   ]
  },
  {
   "cell_type": "code",
   "execution_count": 6,
   "id": "8772278c",
   "metadata": {},
   "outputs": [],
   "source": [
    "G0 = model_spec.generate_network(model_name, specie_value_range, param_range, param_multiplier_range, random_seed=parameter_random_seed, verbose=0)"
   ]
  },
  {
   "cell_type": "code",
   "execution_count": 15,
   "id": "73719dfd",
   "metadata": {},
   "outputs": [
    {
     "name": "stdout",
     "output_type": "stream",
     "text": [
      "Model Name example_model_1\n",
      "Number of Reactions 402\n",
      "Number of State Variables 402\n",
      "Number of Parameters 1029\n",
      "Number of Custom Variables 0\n",
      "Number of Enforced State Values 0\n",
      "Number of Custom Strings 0\n",
      "\n"
     ]
    }
   ],
   "source": [
    "print(G0)"
   ]
  },
  {
   "cell_type": "code",
   "execution_count": 8,
   "id": "531d01fb",
   "metadata": {},
   "outputs": [],
   "source": [
    "runner = roadrunner.RoadRunner(G0.get_sbml_model())"
   ]
  },
  {
   "cell_type": "code",
   "execution_count": 9,
   "id": "6d3fa84b",
   "metadata": {},
   "outputs": [],
   "source": [
    "res = runner.simulate(0, simulation_time, simulation_step)"
   ]
  },
  {
   "cell_type": "code",
   "execution_count": 10,
   "id": "77d9ce3e",
   "metadata": {},
   "outputs": [
    {
     "data": {
      "image/png": "[encoded data removed]",
      "text/plain": [
       "<Figure size 800x500 with 1 Axes>"
      ]
     },
     "metadata": {},
     "output_type": "display_data"
    }
   ],
   "source": [
    "# === PLOT: Visible States Over Time ===\n",
    "\n",
    "import seaborn as sns\n",
    "sns.set_context('talk')\n",
    "sns.axes_style('whitegrid')\n",
    "\n",
    "# Define key observable states\n",
    "visible_states = ['C', 'Cp']\n",
    "\n",
    "# Plot the concentration of visible states over time\n",
    "plt.figure(figsize=(8, 5))\n",
    "for state in visible_states:\n",
    "    plt.plot(res['time'], res[f'[{state}]'], label=state)\n",
    "\n",
    "# Formatting the plot\n",
    "plt.xlabel(\"Time\")\n",
    "plt.ylabel(\"Concentration\")\n",
    "plt.title(\"Concentration of C and Cp over Time\")\n",
    "plt.grid(True)\n",
    "\n",
    "if save_figures:\n",
    "    plt.savefig(experiment_folder + 'timecourse_example.png')\n",
    "plt.show()\n",
    "plt.close()"
   ]
  },
  {
   "cell_type": "code",
   "execution_count": 11,
   "id": "10addf84",
   "metadata": {},
   "outputs": [],
   "source": [
    "## Helper functions\n",
    "import warnings\n",
    "\n",
    "def sensitivity_analysis(builder: ModelBuilder, specie_name, specie_range, simulation_time, simulation_step):\n",
    "    all_results = []\n",
    "    for specie in specie_range:\n",
    "        builder.set_state(specie_name, specie)\n",
    "        runner = roadrunner.RoadRunner(builder.get_sbml_model())\n",
    "        try: \n",
    "            res = runner.simulate(0, simulation_time, simulation_step)\n",
    "            all_results.append(res)\n",
    "        except Exception as e:\n",
    "            warnings.warn(f\"Simulation failed for specie {specie}: {e}\")\n",
    "            continue\n",
    "    return all_results\n",
    "\n",
    "def extract_states_from_results(results, state_name, time_point):\n",
    "    all_states = []\n",
    "    for result in results:\n",
    "        state = result[f'[{state_name}]']\n",
    "        all_states.append(state[time_point])\n",
    "    return all_states\n",
    "\n",
    "def get_sensitivity_scores(states):\n",
    "    state_sensitivity = []  \n",
    "    for i, specific_states in enumerate(states):\n",
    "        # get the max and min of the Cp final state list \n",
    "        max_state = max(specific_states)\n",
    "        min_state = min(specific_states)\n",
    "        # get the range of the Cp final state list \n",
    "        range_state = max_state - min_state\n",
    "        # append to the list \n",
    "        state_sensitivity.append(range_state)\n",
    "    # print the mean of the state sensitivity\n",
    "    return state_sensitivity\n",
    "\n",
    "def summarise_sensitivity_score(state_sensitivity):\n",
    "    return sum(state_sensitivity) / len(state_sensitivity)"
   ]
  },
  {
   "cell_type": "code",
   "execution_count": 12,
   "id": "b05039ac",
   "metadata": {},
   "outputs": [],
   "source": [
    "# all_states = []\n",
    "# for i in range(2500):\n",
    "#     all_states.append('A'+str(i))\n",
    "# for i in range(2500):\n",
    "#     all_states.append('B'+str(i))\n",
    "\n",
    "# species_perturbation_range = np.arange(1, 5000, 500)\n",
    "# all_init_species_results = []\n",
    "# for init_species in all_states: \n",
    "#     all_results = sensitivity_analysis(G0, init_species, species_perturbation_range, simulation_time, simulation_step)\n",
    "#     all_init_species_results.append(all_results)"
   ]
  },
  {
   "cell_type": "markdown",
   "id": "22a5e8b5",
   "metadata": {},
   "source": [
    "### Drug Model "
   ]
  },
  {
   "cell_type": "code",
   "execution_count": 13,
   "id": "36cbe970",
   "metadata": {},
   "outputs": [
    {
     "name": "stdout",
     "output_type": "stream",
     "text": [
      "Performing sensitivity analysis...\n"
     ]
    }
   ],
   "source": [
    "print('Performing sensitivity analysis...')"
   ]
  }
 ],
 "metadata": {
  "kernelspec": {
   "display_name": "model-builder",
   "language": "python",
   "name": "python3"
  },
  "language_info": {
   "codemirror_mode": {
    "name": "ipython",
    "version": 3
   },
   "file_extension": ".py",
   "mimetype": "text/x-python",
   "name": "python",
   "nbconvert_exporter": "python",
   "pygments_lexer": "ipython3",
   "version": "3.8.10"
  }
 },
 "nbformat": 4,
 "nbformat_minor": 5
}
