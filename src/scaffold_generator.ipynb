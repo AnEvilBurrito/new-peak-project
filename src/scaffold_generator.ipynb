{
 "cells": [
  {
   "cell_type": "markdown",
   "metadata": {},
   "source": [
    "# Scaffold Generator\n",
    "\n",
    "- Using a set of rules, generate a biochemical network allowing different species to associate with each other\n",
    "\n"
   ]
  },
  {
   "cell_type": "markdown",
   "metadata": {},
   "source": [
    "## Simple ABC Model \n",
    "\n",
    "Assuming Specie A recruits both B and C together, however, A can be bound to B, or C, or both B and C at the same time. However, B and C do not associate unless taken together by A. \n",
    "\n",
    "Thus, AB + C -> ABC and AC + B -> ABC\n",
    "\n",
    "All Forward Reactions: \n",
    "- A + B -> AB \n",
    "- A + C -> AC \n",
    "- AB + C -> ABC \n",
    "- AC + B -> ABC \n",
    "\n",
    "Representing this: \n",
    "A: {B, C, [B, C]} # binds to B, C and can further associate B and C at the same time\n",
    "\n",
    "If A binds either to B or C, then the representation would be: \n",
    "A: {B, C} # binds to either B or C but never together "
   ]
  },
  {
   "cell_type": "markdown",
   "metadata": {},
   "source": [
    "## Rule-based scaffold binding \n",
    "\n",
    "Makes an assumption that binding must occur through a specific binding site for the scaffold \n",
    "\n",
    "This means a scaffold will have a list of potential binding sites e.g. \n",
    "- Scaffold A: \n",
    "    - Surfaces: [B1, B2] # B1 and B2 are the names of the binding site\n",
    "    - Prominence: [B3, ] # the shape of 'Scaffold A' makes it capable of binding to a B3 binding site \n",
    "\n",
    "Then, we define all species in the system in such manner \n",
    "- Specie B: \n",
    "    - Surfaces: [, ] # No binding site offered by this protein \n",
    "    - Prominence: [B1, B3] # binds to either proteins exposing a B1 or B3 binding site"
   ]
  }
 ],
 "metadata": {
  "language_info": {
   "name": "python"
  }
 },
 "nbformat": 4,
 "nbformat_minor": 2
}
