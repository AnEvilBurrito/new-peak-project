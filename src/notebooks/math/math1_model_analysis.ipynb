{
 "cells": [
  {
   "cell_type": "markdown",
   "id": "28fc9704",
   "metadata": {},
   "source": [
    "## Init"
   ]
  },
  {
   "cell_type": "code",
   "execution_count": 1,
   "id": "2b66e661",
   "metadata": {},
   "outputs": [
    {
     "name": "stdout",
     "output_type": "stream",
     "text": [
      "Project path set to: c:\\Github\\new-peak-project\\src\n"
     ]
    }
   ],
   "source": [
    "import os\n",
    "\n",
    "path = os.getcwd()\n",
    "# find the string 'project' in the path, return index\n",
    "index_project = path.find('project')\n",
    "# slice the path from the index of 'project' to the end\n",
    "project_path = path[:index_project+7]\n",
    "# set the working directory\n",
    "os.chdir(project_path+'/src')\n",
    "print(f'Project path set to: {os.getcwd()}')"
   ]
  },
  {
   "cell_type": "code",
   "execution_count": 2,
   "id": "90a5c568",
   "metadata": {},
   "outputs": [
    {
     "name": "stdout",
     "output_type": "stream",
     "text": [
      "I:\\My Drive\\DAWSON PHD PROJECT\\Biomarker Data Repository\\data\\new-peak-project\\experiments\n"
     ]
    }
   ],
   "source": [
    "from dotenv import dotenv_values\n",
    "config = dotenv_values(\".env\")\n",
    "print(config[\"DATA_PATH\"])"
   ]
  },
  {
   "cell_type": "code",
   "execution_count": 3,
   "id": "f3255357",
   "metadata": {},
   "outputs": [],
   "source": [
    "from models.ModelBuilder import ModelBuilder\n",
    "from models.Reaction import Reaction\n",
    "from models.ReactionArchtype import ReactionArchtype\n",
    "from models.ArchtypeCollections import *\n",
    "\n",
    "# import scikit-learn\n",
    "from sklearn.linear_model import LinearRegression\n",
    "# tree models and support vector machines\n",
    "from sklearn.ensemble import RandomForestRegressor\n",
    "from sklearn.ensemble import GradientBoostingRegressor\n",
    "from sklearn.svm import SVR\n",
    "from sklearn.neural_network import MLPRegressor\n",
    "from sklearn.model_selection import train_test_split\n",
    "from sklearn.metrics import mean_squared_error, r2_score\n",
    "# import pearson correlation\n",
    "from scipy.stats import pearsonr\n",
    "from sklearn.preprocessing import StandardScaler\n",
    "from sklearn.pipeline import Pipeline\n",
    "\n",
    "from copy import deepcopy"
   ]
  },
  {
   "cell_type": "markdown",
   "id": "8fafdd70",
   "metadata": {},
   "source": [
    "## Notebook Parameters"
   ]
  },
  {
   "cell_type": "code",
   "execution_count": 4,
   "id": "8fd141ac",
   "metadata": {},
   "outputs": [
    {
     "name": "stdout",
     "output_type": "stream",
     "text": [
      "I:\\My Drive\\DAWSON PHD PROJECT\\Biomarker Data Repository\\data\\new-peak-project\\experiments/exp8_model_search_v2/\n"
     ]
    }
   ],
   "source": [
    "\n",
    "import os \n",
    "\n",
    "### parameters \n",
    "\n",
    "notebook_name = 'exp8_model_search_v2' # name of the notebook\n",
    "\n",
    "## Generation of ground truth model \n",
    "\n",
    "model_name = 'test_models'\n",
    "no_observable_species = 5\n",
    "no_feedback_regulations = 2\n",
    "specie_value_range = (1000, 5000)\n",
    "param_range = (0.05, 20)\n",
    "param_multiplier_range = (0.5, 1.5)\n",
    "\n",
    "\n",
    "## Simulation parameters \n",
    "\n",
    "simulation_time = 1000 \n",
    "simulation_step = 100\n",
    "\n",
    "## Feature data generation \n",
    "\n",
    "feature_generation_method = 'lhs'\n",
    "feature_generation_extra_params = {'min': 0.1, 'max': 10}\n",
    "feature_generation_size = 1000 \n",
    "feature_generation_seed = 50 # if -1 then 'o_random_seed' is used\n",
    "\n",
    "## Search parameters\n",
    "\n",
    "o_random_seeds = list(range(1, 2))\n",
    "parameter_random_seeds = list(range(1, 3))\n",
    "\n",
    "    \n",
    "## Data engineering parameters\n",
    "\n",
    "# Suboptimal Model Generation \n",
    "\n",
    "'''\n",
    "Options: \n",
    "- 'feedback_prune': removes feedback regulations from the model \n",
    "- 'random parameter': randomizes a x% of parameter values of the model\n",
    "'''\n",
    "\n",
    "''' \n",
    "Options: \n",
    "- 'last_time_point' : only the last time point of the phosphorylated species is used\n",
    "- 'dynamic_feature': computes the characteristic 'ten' dynamic feature for each specie data \n",
    "'''\n",
    "\n",
    "## General parameters\n",
    "parallelise = True\n",
    "save_figures = True \n",
    "experiment_id = notebook_name\n",
    "experiment_folder = config['DATA_PATH'] + '/' + experiment_id + '/'\n",
    "if not os.path.exists(experiment_folder):\n",
    "    os.makedirs(experiment_folder)\n",
    "    \n",
    "print(experiment_folder)"
   ]
  },
  {
   "cell_type": "markdown",
   "id": "395546a2",
   "metadata": {},
   "source": [
    "## Small Model Formulation"
   ]
  },
  {
   "cell_type": "code",
   "execution_count": 63,
   "id": "72cb77df",
   "metadata": {},
   "outputs": [],
   "source": [
    "from models.Solver.RoadrunnerSolver import RoadrunnerSolver\n",
    "\n",
    "rr_solver = RoadrunnerSolver()"
   ]
  },
  {
   "cell_type": "code",
   "execution_count": 64,
   "id": "b51cb84d",
   "metadata": {},
   "outputs": [
    {
     "name": "stdout",
     "output_type": "stream",
     "text": [
      "A Species: ['A0']\n",
      "B Species: ['B0']\n",
      "C Species: ['C']\n",
      "Regulations: [('A0', 'B0'), ('B0', 'C')]\n",
      "Regulation Types: ['up', 'down']\n",
      "\n"
     ]
    }
   ],
   "source": [
    "\n",
    "from models.Utils import *\n",
    "\n",
    "### Generate the ground truth model\n",
    "\n",
    "model_spec = ModelSpecification()\n",
    "model_spec.generate_specifications(1, 1, 0, verbose=0)\n",
    "print(model_spec)"
   ]
  },
  {
   "cell_type": "code",
   "execution_count": 65,
   "id": "a4e78db7",
   "metadata": {},
   "outputs": [
    {
     "name": "stdout",
     "output_type": "stream",
     "text": [
      "Model States:  6\n",
      "Model Parameters:  14\n",
      "Model Reactions:  6\n",
      "\n",
      "\n",
      "--- Antimony Model ---\n",
      "\n",
      "\n",
      "model model1\n",
      "\n",
      "J0: A0p -> A0; J0_Vmax*A0p/(J0_Km + A0p)\n",
      "J1: A0 -> A0p; J1_Vmax*A0/(J1_Km + A0)\n",
      "J2: B0p -> B0; J2_Vmax*B0p/(J2_Km + B0p)\n",
      "J3: B0 -> B0p; (J3_Vmax+A0p*J3_Kw0)*B0/(J3_Km + B0)\n",
      "J4: C -> Cp; J4_Vmax*C/(J4_Km*(1+B0p*J4_Kic0) + C)\n",
      "J5: Cp -> C; J5_Vmax*Cp/(J5_Km + Cp)\n",
      "\n",
      "# State variables in the system\n",
      "A0p=0\n",
      "A0=547\n",
      "B0p=0\n",
      "B0=551\n",
      "C=100\n",
      "Cp=0\n",
      "\n",
      "# Parameters in the system\n",
      "J0_Km=219.2842381948215\n",
      "J0_Vmax=16.574861904030605\n",
      "J1_Km=219.2842381948215\n",
      "J1_Vmax=16.574861904030605\n",
      "J2_Km=219.2842381948215\n",
      "J2_Vmax=16.574861904030605\n",
      "J3_Km=219.2842381948215\n",
      "J3_Vmax=1.6574861904030604\n",
      "J3_Kw0=0.12112486762353795\n",
      "J4_Km=219.2842381948215\n",
      "J4_Vmax=1.6574861904030604\n",
      "J4_Kic0=0.12112486762353795\n",
      "J5_Km=219.2842381948215\n",
      "J5_Vmax=16.574861904030605\n",
      "\n",
      "# Other variables in the system\n",
      "\n",
      "\n",
      "end\n",
      "\n",
      "\n"
     ]
    }
   ],
   "source": [
    "model_build = model_spec.generate_network('model1', \n",
    "                                          (500,600),\n",
    "                                          (1,2),\n",
    "                                          (0.5, 1.5),\n",
    "                                          1,\n",
    "                                          1)\n",
    "\n",
    "model_build.precompile()"
   ]
  },
  {
   "cell_type": "code",
   "execution_count": 66,
   "id": "0673ed1b",
   "metadata": {},
   "outputs": [
    {
     "name": "stdout",
     "output_type": "stream",
     "text": [
      "{'J0_Km': 219.2842381948215, 'J0_Vmax': 16.574861904030605, 'J1_Km': 219.2842381948215, 'J1_Vmax': 16.574861904030605, 'J2_Km': 219.2842381948215, 'J2_Vmax': 16.574861904030605, 'J3_Km': 219.2842381948215, 'J3_Vmax': 1.6574861904030604, 'J3_Kw0': 0.12112486762353795, 'J4_Km': 219.2842381948215, 'J4_Vmax': 1.6574861904030604, 'J4_Kic0': 0.12112486762353795, 'J5_Km': 219.2842381948215, 'J5_Vmax': 16.574861904030605}\n"
     ]
    }
   ],
   "source": [
    "print(model_build.get_parameters())"
   ]
  },
  {
   "cell_type": "markdown",
   "id": "f89c26ed",
   "metadata": {},
   "source": [
    "- J0, J1 controls A <-> Ap, even number always control reverse, odd number always control forward reactions\n",
    "- J2, J3 controls B <-> Bp\n",
    "- J4, J5 controls C <-> Cp\n",
    "\n",
    "Thus, to increase forward rate, we must modify the parameters in J1,3,5"
   ]
  },
  {
   "cell_type": "code",
   "execution_count": 67,
   "id": "74e4dc4f",
   "metadata": {},
   "outputs": [
    {
     "name": "stdout",
     "output_type": "stream",
     "text": [
      "Initial parameters: {'J0_Km': 1, 'J0_Vmax': 1, 'J1_Km': 1, 'J1_Vmax': 1, 'J2_Km': 1, 'J2_Vmax': 1, 'J3_Km': 1, 'J3_Vmax': 1, 'J3_Kw0': 1, 'J4_Km': 1, 'J4_Vmax': 1, 'J4_Kic0': 1, 'J5_Km': 1, 'J5_Vmax': 1}\n",
      "Parameters to keep: ['J1_Km', 'J1_Vmax', 'J3_Km', 'J3_Vmax', 'J3_Kw0', 'J5_Km', 'J5_Vmax']\n"
     ]
    }
   ],
   "source": [
    "params = model_build.get_parameters()\n",
    "# first set all parameters to 1.0\n",
    "for key in params:\n",
    "    params[key] = 1\n",
    "    \n",
    "print(f'Initial parameters: {params}')\n",
    "# identify the parameters which contain J1, J3, J5, note that param is a dictionary\n",
    "params_to_modify = [key for key in params if 'J1' in key or 'J3' in key or 'J5' in key]\n",
    "print(f'Parameters to keep: {params_to_modify}')"
   ]
  },
  {
   "cell_type": "code",
   "execution_count": 68,
   "id": "f4e296e1",
   "metadata": {},
   "outputs": [
    {
     "data": {
      "application/vnd.microsoft.datawrangler.viewer.v0+json": {
       "columns": [
        {
         "name": "index",
         "rawType": "int64",
         "type": "integer"
        },
        {
         "name": "time",
         "rawType": "float64",
         "type": "float"
        },
        {
         "name": "A0p",
         "rawType": "float64",
         "type": "float"
        },
        {
         "name": "A0",
         "rawType": "float64",
         "type": "float"
        },
        {
         "name": "B0p",
         "rawType": "float64",
         "type": "float"
        },
        {
         "name": "B0",
         "rawType": "float64",
         "type": "float"
        },
        {
         "name": "C",
         "rawType": "float64",
         "type": "float"
        },
        {
         "name": "Cp",
         "rawType": "float64",
         "type": "float"
        }
       ],
       "conversionMethod": "pd.DataFrame",
       "ref": "e2847e61-540c-4e30-9da0-fcd817c51c2d",
       "rows": [
        [
         "0",
         "0.0",
         "0.0",
         "100.0",
         "0.0",
         "100.0",
         "100.0",
         "0.0"
        ],
        [
         "1",
         "5.05050505050505",
         "2.295695068471491",
         "97.70430493152845",
         "8.3314067335525",
         "91.6685932664475",
         "97.84554308980317",
         "2.154456910196853"
        ],
        [
         "2",
         "10.1010101010101",
         "3.533830038345416",
         "96.46616996165451",
         "23.322829517949554",
         "76.67717048205046",
         "97.14756005633718",
         "2.852439943662836"
        ],
        [
         "3",
         "15.15151515151515",
         "4.489323793063767",
         "95.51067620693615",
         "43.43946225017546",
         "56.56053774982454",
         "97.15399458262614",
         "2.8460054173738913"
        ],
        [
         "4",
         "20.2020202020202",
         "5.293915519683257",
         "94.70608448031666",
         "67.6139651552861",
         "32.3860348447139",
         "97.60908063250032",
         "2.390919367499711"
        ],
        [
         "5",
         "25.252525252525253",
         "6.000673306726571",
         "93.99932669327335",
         "94.18988191450295",
         "5.810118085497065",
         "98.25409692802754",
         "1.7459030719725155"
        ],
        [
         "6",
         "30.3030303030303",
         "6.637341926594569",
         "93.36265807340537",
         "99.85058182331392",
         "0.14941817668612606",
         "98.74673708637525",
         "1.253262913624849"
        ],
        [
         "7",
         "35.35353535353535",
         "7.220591560815975",
         "92.77940843918394",
         "99.86273439878295",
         "0.13726560121707615",
         "98.93677998841393",
         "1.0632200115862014"
        ],
        [
         "8",
         "40.4040404040404",
         "7.761365397529342",
         "92.23863460247055",
         "99.87234873450876",
         "0.1276512654912654",
         "98.99543676418497",
         "1.0045632358151662"
        ],
        [
         "9",
         "45.45454545454545",
         "8.267306444262605",
         "91.73269355573728",
         "99.8801934978203",
         "0.11980650217971885",
         "99.01210850744724",
         "0.9878914925528702"
        ],
        [
         "10",
         "50.505050505050505",
         "8.744003397945601",
         "91.25599660205428",
         "99.88674585095735",
         "0.11325414904266255",
         "99.01674840261167",
         "0.9832515973884232"
        ],
        [
         "11",
         "55.55555555555555",
         "9.195689685095985",
         "90.8043103149039",
         "99.89232429478147",
         "0.10767570521854158",
         "99.01805928066068",
         "0.9819407193394228"
        ],
        [
         "12",
         "60.6060606060606",
         "9.625663242147324",
         "90.37433675785256",
         "99.89714460896492",
         "0.10285539103507585",
         "99.01845282883532",
         "0.9815471711647558"
        ],
        [
         "13",
         "65.65656565656565",
         "10.03655181232154",
         "89.96344818767835",
         "99.90136323084043",
         "0.09863676915957374",
         "99.01859096967618",
         "0.9814090303238967"
        ],
        [
         "14",
         "70.7070707070707",
         "10.430489632622505",
         "89.56951036737738",
         "99.90509435667623",
         "0.09490564332376807",
         "99.01865590251535",
         "0.9813440974847208"
        ],
        [
         "15",
         "75.75757575757575",
         "10.809243024762022",
         "89.19075697523786",
         "99.90842426289267",
         "0.0915757371073478",
         "99.01869838941009",
         "0.9813016105899787"
        ],
        [
         "16",
         "80.8080808080808",
         "11.174287387945022",
         "88.82571261205487",
         "99.91141929693231",
         "0.08858070306769687",
         "99.0187319296711",
         "0.9812680703289738"
        ],
        [
         "17",
         "85.85858585858585",
         "11.526872398832907",
         "88.47312760116698",
         "99.91413141432766",
         "0.08586858567233523",
         "99.01876084700217",
         "0.9812391529979103"
        ],
        [
         "18",
         "90.9090909090909",
         "11.868067675052293",
         "88.13193232494758",
         "99.91660221403862",
         "0.0833977859614003",
         "99.01878668779675",
         "0.9812133122033323"
        ],
        [
         "19",
         "95.95959595959596",
         "12.198797140016028",
         "87.80120285998386",
         "99.91886490092003",
         "0.08113509907997304",
         "99.01881013739485",
         "0.9811898626052542"
        ],
        [
         "20",
         "101.01010101010101",
         "12.519865393868777",
         "87.4801346061311",
         "99.92094684085139",
         "0.07905315914860632",
         "99.01883159564277",
         "0.9811684043573454"
        ],
        [
         "21",
         "106.06060606060605",
         "12.831978246634478",
         "87.16802175336542",
         "99.92287069368567",
         "0.07712930631432134",
         "99.01885134245315",
         "0.9811486575469747"
        ],
        [
         "22",
         "111.1111111111111",
         "13.135758899583735",
         "86.86424110041617",
         "99.92465534952429",
         "0.07534465047571214",
         "99.01886959681534",
         "0.9811304031847728"
        ],
        [
         "23",
         "116.16161616161615",
         "13.431761593391213",
         "86.56823840660867",
         "99.92631629175807",
         "0.07368370824193926",
         "99.01888653683865",
         "0.9811134631614785"
        ],
        [
         "24",
         "121.2121212121212",
         "13.720479435223261",
         "86.27952056477665",
         "99.92786723285786",
         "0.07213276714215383",
         "99.0189023113571",
         "0.9810976886430384"
        ],
        [
         "25",
         "126.26262626262626",
         "14.002355089699451",
         "85.99764491030045",
         "99.92931973372421",
         "0.07068026627579624",
         "99.01891704691474",
         "0.9810829530853927"
        ],
        [
         "26",
         "131.3131313131313",
         "14.277790272914268",
         "85.72220972708564",
         "99.93068356155378",
         "0.0693164384462288",
         "99.01893085221562",
         "0.9810691477845057"
        ],
        [
         "27",
         "136.36363636363635",
         "14.54714723312958",
         "85.45285276687034",
         "99.93196728038166",
         "0.06803271961834385",
         "99.01894381995594",
         "0.981056180044202"
        ],
        [
         "28",
         "141.4141414141414",
         "14.810752847745942",
         "85.18924715225398",
         "99.93317834508217",
         "0.06682165491783486",
         "99.01895602998343",
         "0.9810439700167001"
        ],
        [
         "29",
         "146.46464646464645",
         "15.068907601228242",
         "84.93109239877168",
         "99.93432324743988",
         "0.06567675256013088",
         "99.0189675526664",
         "0.9810324473337309"
        ],
        [
         "30",
         "151.5151515151515",
         "15.321884617229163",
         "84.67811538277077",
         "99.93540771534985",
         "0.06459228465016292",
         "99.01897844904127",
         "0.9810215509588691"
        ],
        [
         "31",
         "156.56565656565655",
         "15.569944827616508",
         "84.43005517238343",
         "99.93643693135128",
         "0.06356306864873522",
         "99.01898877555897",
         "0.9810112244411633"
        ],
        [
         "32",
         "161.6161616161616",
         "15.813317737821464",
         "84.18668226217848",
         "99.93741516672775",
         "0.06258483327227253",
         "99.01899857771672",
         "0.9810014222834124"
        ],
        [
         "33",
         "166.66666666666666",
         "16.052214532167255",
         "83.94778546783269",
         "99.93834663390196",
         "0.061653366098058646",
         "99.01900789717648",
         "0.9809921028236344"
        ],
        [
         "34",
         "171.7171717171717",
         "16.286832149641008",
         "83.71316785035894",
         "99.93923468571886",
         "0.06076531428115032",
         "99.01901677188597",
         "0.9809832281141545"
        ],
        [
         "35",
         "176.76767676767676",
         "16.51735446524118",
         "83.48264553475877",
         "99.94008277232415",
         "0.05991722767587831",
         "99.0190252362529",
         "0.9809747637472103"
        ],
        [
         "36",
         "181.8181818181818",
         "16.743952719714965",
         "83.25604728028499",
         "99.94089370377309",
         "0.05910629622694338",
         "99.01903332107734",
         "0.9809666789227738"
        ],
        [
         "37",
         "186.86868686868686",
         "16.966786081044873",
         "83.03321391895508",
         "99.94166990825855",
         "0.05833009174147787",
         "99.01904105290089",
         "0.9809589470992428"
        ],
        [
         "38",
         "191.91919191919192",
         "17.18600289885935",
         "82.81399710114059",
         "99.94241401475585",
         "0.05758598524417588",
         "99.01904845633675",
         "0.9809515436633771"
        ],
        [
         "39",
         "196.96969696969697",
         "17.40174190402317",
         "82.59825809597677",
         "99.94312775321536",
         "0.056872246784644684",
         "99.01905555304899",
         "0.9809444469511425"
        ],
        [
         "40",
         "202.02020202020202",
         "17.61413309941641",
         "82.38586690058354",
         "99.94381335522253",
         "0.05618664477748464",
         "99.01906236306839",
         "0.9809376369317553"
        ],
        [
         "41",
         "207.07070707070704",
         "17.823298483230438",
         "82.1767015167695",
         "99.94447282494028",
         "0.055527175059745436",
         "99.01906890625685",
         "0.9809310937432911"
        ],
        [
         "42",
         "212.1212121212121",
         "18.0293526553535",
         "81.97064734464645",
         "99.94510719862978",
         "0.05489280137024813",
         "99.01907519845271",
         "0.980924801547436"
        ],
        [
         "43",
         "217.17171717171715",
         "18.23240353431298",
         "81.76759646568696",
         "99.94571871462391",
         "0.05428128537612324",
         "99.01908125604575",
         "0.9809187439543947"
        ],
        [
         "44",
         "222.2222222222222",
         "18.432552851347253",
         "81.56744714865269",
         "99.9463079447006",
         "0.05369205529942501",
         "99.01908709236238",
         "0.9809129076377696"
        ],
        [
         "45",
         "227.27272727272725",
         "18.629896349857088",
         "81.37010365014287",
         "99.94687662784145",
         "0.05312337215857818",
         "99.01909271958061",
         "0.9809072804195369"
        ],
        [
         "46",
         "232.3232323232323",
         "18.824524481050922",
         "81.17547551894903",
         "99.94742570773245",
         "0.05257429226758768",
         "99.01909814986814",
         "0.9809018501319932"
        ],
        [
         "47",
         "237.37373737373736",
         "19.016523406456265",
         "80.9834765935437",
         "99.94795646880418",
         "0.05204353119583916",
         "99.01910339485667",
         "0.9808966051434792"
        ],
        [
         "48",
         "242.4242424242424",
         "19.205974686152327",
         "80.79402531384764",
         "99.94846975196229",
         "0.051530248037744315",
         "99.01910846466933",
         "0.9808915353308106"
        ],
        [
         "49",
         "247.47474747474746",
         "19.39295368379964",
         "80.60704631620033",
         "99.9489664911787",
         "0.05103350882133639",
         "99.01911336827708",
         "0.9808866317230543"
        ]
       ],
       "shape": {
        "columns": 7,
        "rows": 100
       }
      },
      "text/html": [
       "<div>\n",
       "<style scoped>\n",
       "    .dataframe tbody tr th:only-of-type {\n",
       "        vertical-align: middle;\n",
       "    }\n",
       "\n",
       "    .dataframe tbody tr th {\n",
       "        vertical-align: top;\n",
       "    }\n",
       "\n",
       "    .dataframe thead th {\n",
       "        text-align: right;\n",
       "    }\n",
       "</style>\n",
       "<table border=\"1\" class=\"dataframe\">\n",
       "  <thead>\n",
       "    <tr style=\"text-align: right;\">\n",
       "      <th></th>\n",
       "      <th>time</th>\n",
       "      <th>A0p</th>\n",
       "      <th>A0</th>\n",
       "      <th>B0p</th>\n",
       "      <th>B0</th>\n",
       "      <th>C</th>\n",
       "      <th>Cp</th>\n",
       "    </tr>\n",
       "  </thead>\n",
       "  <tbody>\n",
       "    <tr>\n",
       "      <th>0</th>\n",
       "      <td>0.000000</td>\n",
       "      <td>0.000000</td>\n",
       "      <td>100.000000</td>\n",
       "      <td>0.000000</td>\n",
       "      <td>100.000000</td>\n",
       "      <td>100.000000</td>\n",
       "      <td>0.000000</td>\n",
       "    </tr>\n",
       "    <tr>\n",
       "      <th>1</th>\n",
       "      <td>5.050505</td>\n",
       "      <td>2.295695</td>\n",
       "      <td>97.704305</td>\n",
       "      <td>8.331407</td>\n",
       "      <td>91.668593</td>\n",
       "      <td>97.845543</td>\n",
       "      <td>2.154457</td>\n",
       "    </tr>\n",
       "    <tr>\n",
       "      <th>2</th>\n",
       "      <td>10.101010</td>\n",
       "      <td>3.533830</td>\n",
       "      <td>96.466170</td>\n",
       "      <td>23.322830</td>\n",
       "      <td>76.677170</td>\n",
       "      <td>97.147560</td>\n",
       "      <td>2.852440</td>\n",
       "    </tr>\n",
       "    <tr>\n",
       "      <th>3</th>\n",
       "      <td>15.151515</td>\n",
       "      <td>4.489324</td>\n",
       "      <td>95.510676</td>\n",
       "      <td>43.439462</td>\n",
       "      <td>56.560538</td>\n",
       "      <td>97.153995</td>\n",
       "      <td>2.846005</td>\n",
       "    </tr>\n",
       "    <tr>\n",
       "      <th>4</th>\n",
       "      <td>20.202020</td>\n",
       "      <td>5.293916</td>\n",
       "      <td>94.706084</td>\n",
       "      <td>67.613965</td>\n",
       "      <td>32.386035</td>\n",
       "      <td>97.609081</td>\n",
       "      <td>2.390919</td>\n",
       "    </tr>\n",
       "    <tr>\n",
       "      <th>...</th>\n",
       "      <td>...</td>\n",
       "      <td>...</td>\n",
       "      <td>...</td>\n",
       "      <td>...</td>\n",
       "      <td>...</td>\n",
       "      <td>...</td>\n",
       "      <td>...</td>\n",
       "    </tr>\n",
       "    <tr>\n",
       "      <th>95</th>\n",
       "      <td>479.797980</td>\n",
       "      <td>26.147835</td>\n",
       "      <td>73.852165</td>\n",
       "      <td>99.962148</td>\n",
       "      <td>0.037852</td>\n",
       "      <td>99.019243</td>\n",
       "      <td>0.980757</td>\n",
       "    </tr>\n",
       "    <tr>\n",
       "      <th>96</th>\n",
       "      <td>484.848485</td>\n",
       "      <td>26.265940</td>\n",
       "      <td>73.734060</td>\n",
       "      <td>99.962318</td>\n",
       "      <td>0.037682</td>\n",
       "      <td>99.019244</td>\n",
       "      <td>0.980756</td>\n",
       "    </tr>\n",
       "    <tr>\n",
       "      <th>97</th>\n",
       "      <td>489.898990</td>\n",
       "      <td>26.383139</td>\n",
       "      <td>73.616861</td>\n",
       "      <td>99.962485</td>\n",
       "      <td>0.037515</td>\n",
       "      <td>99.019246</td>\n",
       "      <td>0.980754</td>\n",
       "    </tr>\n",
       "    <tr>\n",
       "      <th>98</th>\n",
       "      <td>494.949495</td>\n",
       "      <td>26.499446</td>\n",
       "      <td>73.500554</td>\n",
       "      <td>99.962650</td>\n",
       "      <td>0.037350</td>\n",
       "      <td>99.019247</td>\n",
       "      <td>0.980753</td>\n",
       "    </tr>\n",
       "    <tr>\n",
       "      <th>99</th>\n",
       "      <td>500.000000</td>\n",
       "      <td>26.614874</td>\n",
       "      <td>73.385126</td>\n",
       "      <td>99.962812</td>\n",
       "      <td>0.037188</td>\n",
       "      <td>99.019249</td>\n",
       "      <td>0.980751</td>\n",
       "    </tr>\n",
       "  </tbody>\n",
       "</table>\n",
       "<p>100 rows × 7 columns</p>\n",
       "</div>"
      ],
      "text/plain": [
       "          time        A0p          A0        B0p          B0           C  \\\n",
       "0     0.000000   0.000000  100.000000   0.000000  100.000000  100.000000   \n",
       "1     5.050505   2.295695   97.704305   8.331407   91.668593   97.845543   \n",
       "2    10.101010   3.533830   96.466170  23.322830   76.677170   97.147560   \n",
       "3    15.151515   4.489324   95.510676  43.439462   56.560538   97.153995   \n",
       "4    20.202020   5.293916   94.706084  67.613965   32.386035   97.609081   \n",
       "..         ...        ...         ...        ...         ...         ...   \n",
       "95  479.797980  26.147835   73.852165  99.962148    0.037852   99.019243   \n",
       "96  484.848485  26.265940   73.734060  99.962318    0.037682   99.019244   \n",
       "97  489.898990  26.383139   73.616861  99.962485    0.037515   99.019246   \n",
       "98  494.949495  26.499446   73.500554  99.962650    0.037350   99.019247   \n",
       "99  500.000000  26.614874   73.385126  99.962812    0.037188   99.019249   \n",
       "\n",
       "          Cp  \n",
       "0   0.000000  \n",
       "1   2.154457  \n",
       "2   2.852440  \n",
       "3   2.846005  \n",
       "4   2.390919  \n",
       "..       ...  \n",
       "95  0.980757  \n",
       "96  0.980756  \n",
       "97  0.980754  \n",
       "98  0.980753  \n",
       "99  0.980751  \n",
       "\n",
       "[100 rows x 7 columns]"
      ]
     },
     "execution_count": 68,
     "metadata": {},
     "output_type": "execute_result"
    }
   ],
   "source": [
    "# simulate the model with the initial parameters\n",
    "for key, value in params.items():\n",
    "    model_build.set_parameter(key, value)\n",
    "    \n",
    "states = model_build.get_state_variables()\n",
    "\n",
    "for key, value in states.items():\n",
    "    if 'p' not in key:\n",
    "        model_build.set_state(key, 100)\n",
    "\n",
    "solver = RoadrunnerSolver()\n",
    "solver.compile(model_build.get_sbml_model())\n",
    "# simulate the model\n",
    "results = solver.simulate(0,500,100)\n",
    "results"
   ]
  },
  {
   "cell_type": "code",
   "execution_count": 69,
   "id": "2719dd39",
   "metadata": {},
   "outputs": [
    {
     "data": {
      "image/png": "[encoded data removed]",
      "text/plain": [
       "<Figure size 480x360 with 1 Axes>"
      ]
     },
     "metadata": {},
     "output_type": "display_data"
    }
   ],
   "source": [
    "import matplotlib.pyplot as plt\n",
    "import seaborn as sns\n",
    "sns.set_style('whitegrid')\n",
    "sns.set_context('talk')\n",
    "plt.figure(figsize=(4, 3), dpi=120)\n",
    "\n",
    "# plot only A0 and A0p \n",
    "plt.plot(results['time'], results['A0'], label='A0', color='blue')\n",
    "plt.plot(results['time'], results['A0p'], label='A0p', color='orange')\n",
    "plt.xlabel('Time')\n",
    "plt.ylabel('Concentration')\n",
    "plt.title('Ground Truth Model Simulation')\n",
    "plt.legend()\n",
    "plt.show()\n",
    "plt.close()\n"
   ]
  },
  {
   "cell_type": "markdown",
   "id": "49d3f24a",
   "metadata": {},
   "source": [
    "Understanding how km and vmax affect the reaction rates: modify J1 param"
   ]
  },
  {
   "cell_type": "code",
   "execution_count": 70,
   "id": "daaa4d0f",
   "metadata": {},
   "outputs": [
    {
     "name": "stdout",
     "output_type": "stream",
     "text": [
      "Parameters to keep: ['J1_Km', 'J1_Vmax']\n"
     ]
    },
    {
     "data": {
      "image/png": "[encoded data removed]",
      "text/plain": [
       "<Figure size 600x480 with 2 Axes>"
      ]
     },
     "metadata": {},
     "output_type": "display_data"
    }
   ],
   "source": [
    "import numpy as np\n",
    "import seaborn as sns\n",
    "import matplotlib.pyplot as plt\n",
    "from matplotlib.cm import ScalarMappable\n",
    "from matplotlib.colors import Normalize\n",
    "\n",
    "J1_params = [key for key in params if 'J1' in key]\n",
    "print(f'Parameters to keep: {J1_params}')\n",
    "\n",
    "xs = np.linspace(0.01, 10, 100)\n",
    "color_gradient = sns.color_palette(\"viridis\", len(xs))\n",
    "\n",
    "fig, ax = plt.subplots(figsize=(5, 4), dpi=120)\n",
    "\n",
    "for i, x in enumerate(xs):\n",
    "    solver.set_parameter_values({'J1_Km': x})\n",
    "    results = solver.simulate(0, 500, 100)\n",
    "    ax.plot(results['time'], results['A0p'], color=color_gradient[i])\n",
    "\n",
    "ax.set_xlabel('Time')\n",
    "ax.set_ylabel('Concentration')\n",
    "ax.set_title('Effect of J1_Km on A0p Concentration')\n",
    "\n",
    "# Colorbar setup\n",
    "norm = Normalize(vmin=min(xs), vmax=max(xs))\n",
    "sm = ScalarMappable(cmap=\"viridis\", norm=norm)\n",
    "sm.set_array([])  # Only needed in older versions\n",
    "\n",
    "cbar = plt.colorbar(sm, ax=ax)  # <-- Explicitly link colorbar to the current axes\n",
    "cbar.set_label('J1_Km')\n",
    "\n",
    "plt.tight_layout()\n",
    "plt.show()\n",
    "plt.close()\n"
   ]
  },
  {
   "cell_type": "code",
   "execution_count": 75,
   "id": "1e26fb20",
   "metadata": {},
   "outputs": [
    {
     "name": "stdout",
     "output_type": "stream",
     "text": [
      "Parameters to keep: ['J1_Km', 'J1_Vmax']\n"
     ]
    },
    {
     "data": {
      "image/png": "[encoded data removed]",
      "text/plain": [
       "<Figure size 600x480 with 2 Axes>"
      ]
     },
     "metadata": {},
     "output_type": "display_data"
    }
   ],
   "source": [
    "import numpy as np\n",
    "import seaborn as sns\n",
    "import matplotlib.pyplot as plt\n",
    "from matplotlib.cm import ScalarMappable\n",
    "from matplotlib.colors import Normalize\n",
    "\n",
    "J1_params = [key for key in params if 'J1' in key]\n",
    "print(f'Parameters to keep: {J1_params}')\n",
    "\n",
    "xs = np.linspace(0.05, 2, 100)\n",
    "color_gradient = sns.color_palette(\"viridis\", len(xs))\n",
    "\n",
    "fig, ax = plt.subplots(figsize=(5, 4), dpi=120)\n",
    "\n",
    "for i, x in enumerate(xs):\n",
    "    solver.set_parameter_values({'J1_Km': 50})\n",
    "    solver.set_parameter_values({'J1_Vmax': x})\n",
    "    results = solver.simulate(0, 500, 100)\n",
    "    ax.plot(results['time'], results['A0p'], color=color_gradient[i])\n",
    "\n",
    "ax.set_xlabel('Time')\n",
    "ax.set_ylabel('Concentration')\n",
    "ax.set_title('Effect of J1_Vmax on A0p Concentration')\n",
    "\n",
    "# Colorbar setup\n",
    "norm = Normalize(vmin=min(xs), vmax=max(xs))\n",
    "sm = ScalarMappable(cmap=\"viridis\", norm=norm)\n",
    "sm.set_array([])  # Only needed in older versions\n",
    "\n",
    "cbar = plt.colorbar(sm, ax=ax)  # <-- Explicitly link colorbar to the current axes\n",
    "cbar.set_label('J1_Vmax')\n",
    "\n",
    "plt.tight_layout()\n",
    "plt.show()\n",
    "plt.close()\n"
   ]
  },
  {
   "cell_type": "markdown",
   "id": "50073c35",
   "metadata": {},
   "source": [
    "A perfect Michaelis-Menten curve is characterized by a high Km and a low Vmax shape"
   ]
  }
 ],
 "metadata": {
  "kernelspec": {
   "display_name": ".venv",
   "language": "python",
   "name": "python3"
  },
  "language_info": {
   "codemirror_mode": {
    "name": "ipython",
    "version": 3
   },
   "file_extension": ".py",
   "mimetype": "text/x-python",
   "name": "python",
   "nbconvert_exporter": "python",
   "pygments_lexer": "ipython3",
   "version": "3.12.6"
  }
 },
 "nbformat": 4,
 "nbformat_minor": 5
}
