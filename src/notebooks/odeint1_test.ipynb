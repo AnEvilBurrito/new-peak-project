{
 "cells": [
  {
   "cell_type": "markdown",
   "id": "ff8543f1",
   "metadata": {},
   "source": [
    "# Antimony Reaction to ODE Functions"
   ]
  },
  {
   "cell_type": "code",
   "execution_count": 15,
   "id": "814f4928",
   "metadata": {},
   "outputs": [],
   "source": [
    "import sympy as sp\n",
    "import numpy as np\n",
    "\n",
    "def reactions_to_ode_func(reactions, species, parameters):\n",
    "    # Create symbolic variables\n",
    "    species_syms = {s: sp.Symbol(s) for s in species}\n",
    "    param_syms = {p: sp.Symbol(p) for p in parameters}\n",
    "    \n",
    "    # Initialize derivative expressions\n",
    "    derivs = {s: 0 for s in species}\n",
    "\n",
    "    for rxn in reactions:\n",
    "        # Format: \"A + B -> C + D; rate_expr\"\n",
    "        reaction_part, rate_expr = map(str.strip, rxn.split(\";\"))\n",
    "        rate = sp.sympify(rate_expr, locals={**species_syms, **param_syms})\n",
    "        \n",
    "        if \"<->\" in reaction_part:\n",
    "            raise NotImplementedError(\"Reversible reactions not yet supported.\")\n",
    "        reactants_str, products_str = map(str.strip, reaction_part.split(\"->\"))\n",
    "        reactants = [r.strip() for r in reactants_str.split(\"+\") if r.strip()]\n",
    "        products = [p.strip() for p in products_str.split(\"+\") if p.strip()]\n",
    "        \n",
    "        # Update derivatives\n",
    "        for r in reactants:\n",
    "            derivs[r] -= rate\n",
    "        for p in products:\n",
    "            derivs[p] += rate\n",
    "\n",
    "    # Convert expressions to list in species order\n",
    "    dydt_exprs = [derivs[s] for s in species]\n",
    "    \n",
    "    # Lambdify\n",
    "    dydt_func = sp.lambdify((list(species_syms.values()), list(param_syms.values())), dydt_exprs, modules=\"numpy\")\n",
    "\n",
    "    # Define final ODE function\n",
    "    def func(y, t, *params):\n",
    "        return np.array(dydt_func(y, params)).flatten()\n",
    "\n",
    "    return func\n"
   ]
  },
  {
   "cell_type": "markdown",
   "id": "06276f30",
   "metadata": {},
   "source": [
    "## Example"
   ]
  },
  {
   "cell_type": "code",
   "execution_count": 16,
   "id": "c5bf28da",
   "metadata": {},
   "outputs": [
    {
     "data": {
      "image/png": "[encoded data removed]",
      "text/plain": [
       "<Figure size 432x288 with 1 Axes>"
      ]
     },
     "metadata": {
      "needs_background": "light"
     },
     "output_type": "display_data"
    }
   ],
   "source": [
    "from scipy.integrate import odeint\n",
    "import matplotlib.pyplot as plt\n",
    "\n",
    "reactions = [\"S1 -> S2; k1*S1\"]\n",
    "species = [\"S1\", \"S2\"]\n",
    "parameters = [\"k1\"]\n",
    "y0 = [10, 0]\n",
    "t = np.linspace(0, 50, 100)\n",
    "k1 = 0.1\n",
    "\n",
    "func = reactions_to_ode_func(reactions, species, parameters)\n",
    "sol = odeint(func, y0, t, args=(k1,))\n",
    "\n",
    "# Plot\n",
    "for i, s in enumerate(species):\n",
    "    plt.plot(t, sol[:, i], label=s)\n",
    "plt.legend()\n",
    "plt.xlabel(\"Time\")\n",
    "plt.ylabel(\"Concentration\")\n",
    "plt.title(\"ODE from reaction strings\")\n",
    "plt.show()"
   ]
  },
  {
   "cell_type": "markdown",
   "id": "2df3d25f",
   "metadata": {},
   "source": [
    "## Integrate with ModelBuilder"
   ]
  },
  {
   "cell_type": "code",
   "execution_count": 17,
   "id": "dc0b7092",
   "metadata": {},
   "outputs": [
    {
     "name": "stdout",
     "output_type": "stream",
     "text": [
      "Project path set to: c:\\Github\\new-peak-project\\src\n"
     ]
    }
   ],
   "source": [
    "import os\n",
    "\n",
    "path = os.getcwd()\n",
    "# find the string 'project' in the path, return index\n",
    "index_project = path.find('project')\n",
    "# slice the path from the index of 'project' to the end\n",
    "project_path = path[:index_project+7]\n",
    "# set the working directory\n",
    "os.chdir(project_path+'\\\\src')\n",
    "print(f'Project path set to: {os.getcwd()}')"
   ]
  },
  {
   "cell_type": "code",
   "execution_count": 18,
   "id": "8b263f60",
   "metadata": {},
   "outputs": [
    {
     "name": "stdout",
     "output_type": "stream",
     "text": [
      "I:\\My Drive\\DAWSON PHD PROJECT\\Biomarker Data Repository\\data\\new-peak-project\\experiments\n"
     ]
    }
   ],
   "source": [
    "from dotenv import dotenv_values\n",
    "config = dotenv_values(\".env\")\n",
    "print(config[\"DATA_PATH\"])"
   ]
  },
  {
   "cell_type": "code",
   "execution_count": 19,
   "id": "5110edc8",
   "metadata": {},
   "outputs": [],
   "source": [
    "from models.ModelBuilder import ModelBuilder\n",
    "from models.Reaction import Reaction\n",
    "from models.ReactionArchtype import ReactionArchtype\n",
    "from models.ArchtypeCollections import *\n",
    "from models.Utils import *\n",
    "\n",
    "import matplotlib.pyplot as plt\n",
    "import seaborn as sns\n",
    "import roadrunner\n",
    "import numpy as np\n",
    "import pandas as pd\n",
    "\n",
    "# import scikit-learn\n",
    "from sklearn.linear_model import LinearRegression\n",
    "# tree models and support vector machines\n",
    "from sklearn.ensemble import RandomForestRegressor\n",
    "from sklearn.ensemble import GradientBoostingRegressor\n",
    "from sklearn.svm import SVR\n",
    "from sklearn.neural_network import MLPRegressor\n",
    "from sklearn.model_selection import train_test_split\n",
    "from sklearn.metrics import mean_squared_error, r2_score\n",
    "# import pearson correlation\n",
    "from scipy.stats import pearsonr\n",
    "from sklearn.preprocessing import StandardScaler\n",
    "from sklearn.pipeline import Pipeline\n",
    "\n",
    "from copy import deepcopy"
   ]
  },
  {
   "cell_type": "code",
   "execution_count": 20,
   "id": "aae21b9e",
   "metadata": {},
   "outputs": [
    {
     "name": "stdout",
     "output_type": "stream",
     "text": [
      "I:\\My Drive\\DAWSON PHD PROJECT\\Biomarker Data Repository\\data\\new-peak-project\\experiments/generate_large_model_1/\n"
     ]
    }
   ],
   "source": [
    "import os \n",
    "\n",
    "### parameters \n",
    "notebook_name = 'generate_large_model'\n",
    "sub_id = '1'\n",
    "\n",
    "## Generation of ground truth model \n",
    "model_name = 'v3_small_model_52'\n",
    "o_random_seed = 6 \n",
    "parameter_random_seed = 6\n",
    "no_observable_species = 5\n",
    "no_feedback_regulations = 2\n",
    "specie_value_range = (5, 5000)\n",
    "param_range = (0.1, 10)\n",
    "param_multiplier_range = (0.7, 1.3)\n",
    "\n",
    "\n",
    "## Simulation parameters \n",
    "simulation_time = 500 \n",
    "simulation_step = 100\n",
    "\n",
    "## Feature data generation \n",
    "feature_generation_method = 'uniform'\n",
    "feature_generation_extra_params = {'min': 0.1, 'max': 10}\n",
    "feature_generation_size = 1000 \n",
    "feature_generation_seed = 50 # if -1 then 'o_random_seed' is used\n",
    "if feature_generation_seed == -1:\n",
    "    feature_generation_seed = o_random_seed\n",
    "    \n",
    "## Data engineering parameters\n",
    "\n",
    "# Suboptimal Model Generation \n",
    "'''\n",
    "Options: \n",
    "- 'feedback_prune': removes feedback regulations from the model \n",
    "'''\n",
    "\n",
    "# Engineering Feature Data \n",
    "data_engineering_method = 'dynamic_feature'\n",
    "''' \n",
    "Options: \n",
    "- 'last_time_point' : only the last time point of the phosphorylated species is used\n",
    "- 'dynamic_feature': computes the characteristic 'ten' dynamic feature for each specie data \n",
    "'''\n",
    "\n",
    "## General parameters\n",
    "parallelise = True\n",
    "save_figures = True \n",
    "experiment_id = notebook_name + '_' + sub_id\n",
    "experiment_folder = config['DATA_PATH'] + '/' + experiment_id + '/'\n",
    "if not os.path.exists(experiment_folder):\n",
    "    os.makedirs(experiment_folder)\n",
    "    \n",
    "print(experiment_folder)"
   ]
  },
  {
   "cell_type": "code",
   "execution_count": 21,
   "id": "41c10d1f",
   "metadata": {},
   "outputs": [],
   "source": [
    "### Generate the ground truth model\n",
    "model_name = 'example_model'\n",
    "seed = 5\n",
    "parameter_random_seed = 5\n",
    "num_species = 5\n",
    "num_feedback = 2\n",
    "\n",
    "model_spec = ModelSpecification()\n",
    "model_spec.generate_specifications(seed, num_species, num_feedback, verbose=0)"
   ]
  },
  {
   "cell_type": "code",
   "execution_count": 22,
   "id": "a40ad23f",
   "metadata": {},
   "outputs": [],
   "source": [
    "G0 = model_spec.generate_network(model_name, specie_value_range, param_range, param_multiplier_range, random_seed=parameter_random_seed, verbose=0)"
   ]
  },
  {
   "cell_type": "code",
   "execution_count": 23,
   "id": "0f7600eb",
   "metadata": {},
   "outputs": [],
   "source": [
    "import re\n",
    "\n",
    "\n",
    "def parse_antimony_model_fixed(antimony_str):\n",
    "    reactions = []\n",
    "    species_set = set()\n",
    "    species_dict = {}\n",
    "    parameter_dict = {}\n",
    "\n",
    "    for line in antimony_str.splitlines():\n",
    "        line = line.strip()\n",
    "        if not line or line.startswith(\"#\"):\n",
    "            continue\n",
    "        if line.startswith(\"model \") or line == \"end\":\n",
    "            continue\n",
    "\n",
    "        # Reaction line\n",
    "        if \":\" in line and \";\" in line:\n",
    "            _, rxn = line.split(\":\", 1)\n",
    "            rxn = rxn.strip()\n",
    "            reactions.append(rxn)\n",
    "\n",
    "            # Capture species from reaction components\n",
    "            reaction_part, _ = map(str.strip, rxn.split(\";\"))\n",
    "            if \"->\" in reaction_part:\n",
    "                lhs, rhs = map(str.strip, reaction_part.split(\"->\"))\n",
    "                reactants = [s.strip() for s in lhs.split(\"+\")]\n",
    "                products = [s.strip() for s in rhs.split(\"+\")]\n",
    "                species_set.update(reactants + products)\n",
    "\n",
    "        # Variable assignment\n",
    "        elif \"=\" in line:\n",
    "            var, val = map(str.strip, line.split(\"=\", 1))\n",
    "            try:\n",
    "                val = float(val)\n",
    "            except ValueError:\n",
    "                continue\n",
    "\n",
    "            if var in species_set:\n",
    "                species_dict[var] = val\n",
    "            else:\n",
    "                parameter_dict[var] = val\n",
    "\n",
    "    species = sorted(species_dict.keys())\n",
    "    parameters = sorted(parameter_dict.keys())\n",
    "    y0 = [species_dict[s] for s in species]\n",
    "    parameter_values = [parameter_dict[p] for p in parameters]\n",
    "\n",
    "    return reactions, species, parameters, y0, parameter_values"
   ]
  },
  {
   "cell_type": "code",
   "execution_count": 24,
   "id": "876718c3",
   "metadata": {},
   "outputs": [
    {
     "name": "stdout",
     "output_type": "stream",
     "text": [
      "model example_model\n",
      "\n",
      "J0: A0p -> A0; J0_Vmax*A0p/(J0_Km + A0p)\n",
      "J1: A0 -> A0p; J1_Vmax*A0/(J1_Km + A0)\n",
      "J2: A1p -> A1; J2_Vmax*A1p/(J2_Km + A1p)\n",
      "J3: A1 -> A1p; J3_Vmax*A1/(J3_Km + A1)\n",
      "J4: A2p -> A2; J4_Vmax*A2p/(J4_Km + A2p)\n",
      "J5: A2 -> A2p; J5_Vmax*A2/(J5_Km + A2)\n",
      "J6: A3p -> A3; J6_Vmax*A3p/(J6_Km + A3p)\n",
      "J7: A3 -> A3p; J7_Vmax*A3/(J7_Km + A3)\n",
      "J8: A4p -> A4; J8_Vmax*A4p/(J8_Km + A4p)\n",
      "J9: A4 -> A4p; J9_Vmax*A4/(J9_Km + A4)\n",
      "J10: B0p -> B0; J10_Vmax*B0p/(J10_Km + B0p)\n",
      "J11: B0 -> B0p; (J11_Vmax+A0p*J11_Kw0)*B0/(J11_Km + B0)\n",
      "J12: B1p -> B1; J12_Vmax*B1p/(J12_Km + B1p)\n",
      "J13: B1 -> B1p; (J13_Vmax+B3p*J13_Kw0+A1p*J13_Kw1)*B1/(J13_Km + B1)\n",
      "J14: B2p -> B2; J14_Vmax*B2p/(J14_Km + B2p)\n",
      "J15: B2 -> B2p; (J15_Vmax+A2p*J15_Kw0)*B2/(J15_Km + B2)\n",
      "J16: B3p -> B3; J16_Vmax*B3p/(J16_Km + B3p)\n",
      "J17: B3 -> B3p; (J17_Vmax+A3p*J17_Kw0)*B3/(J17_Km + B3)\n",
      "J18: B4p -> B4; J18_Vmax*B4p/(J18_Km + B4p)\n",
      "J19: B4 -> B4p; (J19_Vmax+B0p*J19_Kw0+A4p*J19_Kw1)*B4/(J19_Km + B4)\n",
      "J20: C -> Cp; (J20_Vmax+B0p*J20_Kw0+B1p*J20_Kw1+B2p*J20_Kw2+B3p*J20_Kw3)*C/(J20_Km*(1+B0p*J20_Kic0) + C)\n",
      "J21: Cp -> C; J21_Vmax*Cp/(J21_Km + Cp)\n",
      "\n",
      "# State variables in the system\n",
      "A0p=0\n",
      "A0=1037\n",
      "A1p=0\n",
      "A1=210\n",
      "A2p=0\n",
      "A2=4204\n",
      "A3p=0\n",
      "A3=152\n",
      "A4p=0\n",
      "A4=4002\n",
      "B0p=0\n",
      "B0=3776\n",
      "B1p=0\n",
      "B1=4365\n",
      "B2p=0\n",
      "B2=3749\n",
      "B3p=0\n",
      "B3=783\n",
      "B4p=0\n",
      "B4=717\n",
      "C=100\n",
      "Cp=0\n",
      "\n",
      "# Parameters in the system\n",
      "J0_Km=280.88385713850073\n",
      "J0_Vmax=26.856535585670947\n",
      "J1_Km=92.79376317504871\n",
      "J1_Vmax=35.77056862436513\n",
      "J2_Km=1174.2008664122438\n",
      "J2_Vmax=77.81268905511732\n",
      "J3_Km=204.73417322500785\n",
      "J3_Vmax=26.686783749814296\n",
      "J4_Km=326.5419810059675\n",
      "J4_Vmax=61.90569868351492\n",
      "J5_Km=248.69147563760643\n",
      "J5_Vmax=26.29172798502783\n",
      "J6_Km=222.37903598029303\n",
      "J6_Vmax=78.1034548424176\n",
      "J7_Km=829.8254509573962\n",
      "J7_Vmax=64.346795480386\n",
      "J8_Km=417.38058472213606\n",
      "J8_Vmax=102.69133602258789\n",
      "J9_Km=549.6242462947112\n",
      "J9_Vmax=73.13583849380859\n",
      "J10_Km=431.3472121412175\n",
      "J10_Vmax=16.783813671652823\n",
      "J11_Km=766.1552629129827\n",
      "J11_Vmax=0.2918969321943105\n",
      "J11_Kw0=0.10237828461843021\n",
      "J12_Km=1041.5797250350845\n",
      "J12_Vmax=85.09462151388576\n",
      "J13_Km=1022.1196965014877\n",
      "J13_Vmax=10.915293486157795\n",
      "J13_Kw0=0.09465176190541719\n",
      "J13_Kw1=0.046409898735962844\n",
      "J14_Km=583.2196427973248\n",
      "J14_Vmax=18.08982021071928\n",
      "J15_Km=388.4527408564564\n",
      "J15_Vmax=5.2345471788642515\n",
      "J15_Kw0=1.1900380444324223\n",
      "J16_Km=145.43009060167444\n",
      "J16_Vmax=26.812658327995184\n",
      "J17_Km=887.3682917247231\n",
      "J17_Vmax=0.27046880155423547\n",
      "J17_Kw0=0.11844005786419913\n",
      "J18_Km=859.0096845994508\n",
      "J18_Vmax=53.36565104058837\n",
      "J19_Km=53.308457056805395\n",
      "J19_Vmax=8.163808812997221\n",
      "J19_Kw0=0.9701681801550799\n",
      "J19_Kw1=0.5963098792058928\n",
      "J20_Km=235.11486958682295\n",
      "J20_Vmax=9.394480798246033\n",
      "J20_Kw0=0.30161911664256924\n",
      "J20_Kw1=0.17476575494582108\n",
      "J20_Kw2=1.0552691349773347\n",
      "J20_Kw3=0.10577732759570671\n",
      "J20_Kic0=0.7860381168504742\n",
      "J21_Km=775.6130270621967\n",
      "J21_Vmax=54.09330769870738\n",
      "\n",
      "# Other variables in the system\n",
      "\n",
      "\n",
      "end\n"
     ]
    }
   ],
   "source": [
    "print(G0.get_antimony_model())"
   ]
  },
  {
   "cell_type": "code",
   "execution_count": 25,
   "id": "89a1f6f4",
   "metadata": {},
   "outputs": [
    {
     "name": "stdout",
     "output_type": "stream",
     "text": [
      "Reactions: ['A0p -> A0; J0_Vmax*A0p/(J0_Km + A0p)', 'A0 -> A0p; J1_Vmax*A0/(J1_Km + A0)', 'A1p -> A1; J2_Vmax*A1p/(J2_Km + A1p)', 'A1 -> A1p; J3_Vmax*A1/(J3_Km + A1)', 'A2p -> A2; J4_Vmax*A2p/(J4_Km + A2p)', 'A2 -> A2p; J5_Vmax*A2/(J5_Km + A2)', 'A3p -> A3; J6_Vmax*A3p/(J6_Km + A3p)', 'A3 -> A3p; J7_Vmax*A3/(J7_Km + A3)', 'A4p -> A4; J8_Vmax*A4p/(J8_Km + A4p)', 'A4 -> A4p; J9_Vmax*A4/(J9_Km + A4)', 'B0p -> B0; J10_Vmax*B0p/(J10_Km + B0p)', 'B0 -> B0p; (J11_Vmax+A0p*J11_Kw0)*B0/(J11_Km + B0)', 'B1p -> B1; J12_Vmax*B1p/(J12_Km + B1p)', 'B1 -> B1p; (J13_Vmax+B3p*J13_Kw0+A1p*J13_Kw1)*B1/(J13_Km + B1)', 'B2p -> B2; J14_Vmax*B2p/(J14_Km + B2p)', 'B2 -> B2p; (J15_Vmax+A2p*J15_Kw0)*B2/(J15_Km + B2)', 'B3p -> B3; J16_Vmax*B3p/(J16_Km + B3p)', 'B3 -> B3p; (J17_Vmax+A3p*J17_Kw0)*B3/(J17_Km + B3)', 'B4p -> B4; J18_Vmax*B4p/(J18_Km + B4p)', 'B4 -> B4p; (J19_Vmax+B0p*J19_Kw0+A4p*J19_Kw1)*B4/(J19_Km + B4)', 'C -> Cp; (J20_Vmax+B0p*J20_Kw0+B1p*J20_Kw1+B2p*J20_Kw2+B3p*J20_Kw3)*C/(J20_Km*(1+B0p*J20_Kic0) + C)', 'Cp -> C; J21_Vmax*Cp/(J21_Km + Cp)']\n",
      "Species: ['A0', 'A0p', 'A1', 'A1p', 'A2', 'A2p', 'A3', 'A3p', 'A4', 'A4p', 'B0', 'B0p', 'B1', 'B1p', 'B2', 'B2p', 'B3', 'B3p', 'B4', 'B4p', 'C', 'Cp']\n",
      "Parameters: ['J0_Km', 'J0_Vmax', 'J10_Km', 'J10_Vmax', 'J11_Km', 'J11_Kw0', 'J11_Vmax', 'J12_Km', 'J12_Vmax', 'J13_Km', 'J13_Kw0', 'J13_Kw1', 'J13_Vmax', 'J14_Km', 'J14_Vmax', 'J15_Km', 'J15_Kw0', 'J15_Vmax', 'J16_Km', 'J16_Vmax', 'J17_Km', 'J17_Kw0', 'J17_Vmax', 'J18_Km', 'J18_Vmax', 'J19_Km', 'J19_Kw0', 'J19_Kw1', 'J19_Vmax', 'J1_Km', 'J1_Vmax', 'J20_Kic0', 'J20_Km', 'J20_Kw0', 'J20_Kw1', 'J20_Kw2', 'J20_Kw3', 'J20_Vmax', 'J21_Km', 'J21_Vmax', 'J2_Km', 'J2_Vmax', 'J3_Km', 'J3_Vmax', 'J4_Km', 'J4_Vmax', 'J5_Km', 'J5_Vmax', 'J6_Km', 'J6_Vmax', 'J7_Km', 'J7_Vmax', 'J8_Km', 'J8_Vmax', 'J9_Km', 'J9_Vmax']\n",
      "Initial conditions: [1037.0, 0.0, 210.0, 0.0, 4204.0, 0.0, 152.0, 0.0, 4002.0, 0.0, 3776.0, 0.0, 4365.0, 0.0, 3749.0, 0.0, 783.0, 0.0, 717.0, 0.0, 100.0, 0.0]\n",
      "Parameter values: [280.88385713850073, 26.856535585670947, 431.3472121412175, 16.783813671652823, 766.1552629129827, 0.10237828461843021, 0.2918969321943105, 1041.5797250350845, 85.09462151388576, 1022.1196965014877, 0.09465176190541719, 0.046409898735962844, 10.915293486157795, 583.2196427973248, 18.08982021071928, 388.4527408564564, 1.1900380444324223, 5.2345471788642515, 145.43009060167444, 26.812658327995184, 887.3682917247231, 0.11844005786419913, 0.27046880155423547, 859.0096845994508, 53.36565104058837, 53.308457056805395, 0.9701681801550799, 0.5963098792058928, 8.163808812997221, 92.79376317504871, 35.77056862436513, 0.7860381168504742, 235.11486958682295, 0.30161911664256924, 0.17476575494582108, 1.0552691349773347, 0.10577732759570671, 9.394480798246033, 775.6130270621967, 54.09330769870738, 1174.2008664122438, 77.81268905511732, 204.73417322500785, 26.686783749814296, 326.5419810059675, 61.90569868351492, 248.69147563760643, 26.29172798502783, 222.37903598029303, 78.1034548424176, 829.8254509573962, 64.346795480386, 417.38058472213606, 102.69133602258789, 549.6242462947112, 73.13583849380859]\n"
     ]
    }
   ],
   "source": [
    "reactions, species, parameters, y0, parameter_values = parse_antimony_model_fixed(G0.get_antimony_model())\n",
    "\n",
    "print(\"Reactions:\", reactions)\n",
    "print(\"Species:\", species)\n",
    "print(\"Parameters:\", parameters)\n",
    "print(\"Initial conditions:\", y0)\n",
    "print(\"Parameter values:\", parameter_values)"
   ]
  },
  {
   "cell_type": "code",
   "execution_count": 26,
   "id": "118b16ac",
   "metadata": {},
   "outputs": [],
   "source": [
    "# from scipy.integrate import odeint\n",
    "# import matplotlib.pyplot as plt\n",
    "\n",
    "# t = np.linspace(0, 100, 100)\n",
    "# func = reactions_to_ode_func(reactions, species, parameters)\n",
    "# sol = odeint(func, y0, t, args=tuple(parameter_values))\n",
    "\n",
    "# # Plot\n",
    "# for i, s in enumerate(species):\n",
    "#     if s == 'C' or s == 'Cp':\n",
    "#         plt.plot(t, sol[:, i], label=s)\n",
    "# plt.legend()\n",
    "# plt.xlabel(\"Time\")\n",
    "# plt.ylabel(\"Concentration\")\n",
    "# plt.title(\"ODE from reaction strings\")\n",
    "# plt.show()"
   ]
  },
  {
   "cell_type": "markdown",
   "id": "0c6087a3",
   "metadata": {},
   "source": [
    "### JIT Compilation using numba"
   ]
  },
  {
   "cell_type": "code",
   "execution_count": 27,
   "id": "54b8b1e9",
   "metadata": {},
   "outputs": [],
   "source": [
    "import sympy as sp\n",
    "import numpy as np\n",
    "from numba import njit\n",
    "\n",
    "def reactions_to_jit_ode_func(reactions, species, parameters):\n",
    "    # Create symbolic variables\n",
    "    species_syms = {s: sp.Symbol(s) for s in species}\n",
    "    param_syms = {p: sp.Symbol(p) for p in parameters}\n",
    "\n",
    "    derivs = {s: 0 for s in species}\n",
    "\n",
    "    for rxn in reactions:\n",
    "        reaction_part, rate_expr = map(str.strip, rxn.split(\";\"))\n",
    "        rate = sp.sympify(rate_expr, locals={**species_syms, **param_syms})\n",
    "\n",
    "        if \"<->\" in reaction_part:\n",
    "            raise NotImplementedError(\"Reversible reactions not yet supported.\")\n",
    "\n",
    "        reactants_str, products_str = map(str.strip, reaction_part.split(\"->\"))\n",
    "        reactants = [r.strip() for r in reactants_str.split(\"+\") if r.strip()]\n",
    "        products = [p.strip() for p in products_str.split(\"+\") if p.strip()]\n",
    "\n",
    "        for r in reactants:\n",
    "            derivs[r] -= rate\n",
    "        for p in products:\n",
    "            derivs[p] += rate\n",
    "\n",
    "    dydt_exprs = [derivs[s] for s in species]\n",
    "\n",
    "    # Substitutions\n",
    "    species_subs = {species_syms[s]: sp.Symbol(f\"y[{i}]\") for i, s in enumerate(species)}\n",
    "    param_subs = {param_syms[p]: sp.Symbol(f\"params[{i}]\") for i, p in enumerate(parameters)}\n",
    "\n",
    "    func_lines = [\"def generated_func(y, t, params):\"]\n",
    "    func_lines.append(f\"    dydt = np.empty({len(dydt_exprs)})\")\n",
    "\n",
    "    for i, expr in enumerate(dydt_exprs):\n",
    "        substituted = expr.subs({**species_subs, **param_subs})\n",
    "        code_line = sp.ccode(substituted)\n",
    "        func_lines.append(f\"    dydt[{i}] = {code_line}\")\n",
    "\n",
    "    func_lines.append(\"    return dydt\")\n",
    "\n",
    "    func_code = \"\\n\".join(func_lines)\n",
    "\n",
    "    local_vars = {\"np\": np}\n",
    "    exec(func_code, local_vars)\n",
    "    generated_func = local_vars[\"generated_func\"]\n",
    "\n",
    "    # Compile with Numba\n",
    "    return njit(generated_func)\n"
   ]
  },
  {
   "cell_type": "code",
   "execution_count": 28,
   "id": "ab42d987",
   "metadata": {},
   "outputs": [],
   "source": [
    "from scipy.integrate import odeint\n",
    "import matplotlib.pyplot as plt\n",
    "\n",
    "t = np.linspace(0, 500, 100)\n",
    "func = reactions_to_jit_ode_func(reactions, species, parameters)\n"
   ]
  },
  {
   "cell_type": "code",
   "execution_count": 29,
   "id": "6a5206cb",
   "metadata": {},
   "outputs": [
    {
     "name": "stdout",
     "output_type": "stream",
     "text": [
      "Time taken for 100 simulations: 2.6610 seconds\n"
     ]
    }
   ],
   "source": [
    "# perform odeint simulation 100 times and time it \n",
    "import time\n",
    "import timeit \n",
    "\n",
    "def ode_wrapper(y, t, *args):\n",
    "    params = np.array(args)\n",
    "    return func(y, t, params)\n",
    "\n",
    "n_sim = 100\n",
    "start_time = time.time()\n",
    "for _ in range(n_sim):\n",
    "    sol = odeint(ode_wrapper, y0, t, args=tuple(parameter_values))\n",
    "end_time = time.time()\n",
    "\n",
    "print(f\"Time taken for {n_sim} simulations: {end_time - start_time:.4f} seconds\")\n"
   ]
  },
  {
   "cell_type": "code",
   "execution_count": 30,
   "id": "dbd5e299",
   "metadata": {},
   "outputs": [
    {
     "name": "stdout",
     "output_type": "stream",
     "text": [
      "Time taken for 100 simulations: 4.1348 seconds\n"
     ]
    }
   ],
   "source": [
    "# perform odeint simulation 100 times and time it \n",
    "import time\n",
    "import timeit \n",
    "\n",
    "t = np.linspace(0, 500, 100)\n",
    "func = reactions_to_ode_func(reactions, species, parameters)\n",
    "n_sim = 100\n",
    "start_time = time.time()\n",
    "for _ in range(n_sim): \n",
    "    sol = odeint(func, y0, t, args=tuple(parameter_values))\n",
    "end_time = time.time()\n",
    "\n",
    "print(f\"Time taken for {n_sim} simulations: {end_time - start_time:.4f} seconds\")"
   ]
  },
  {
   "cell_type": "code",
   "execution_count": 31,
   "id": "fcacafe3",
   "metadata": {},
   "outputs": [
    {
     "data": {
      "image/png": "[encoded data removed]",
      "text/plain": [
       "<Figure size 432x288 with 1 Axes>"
      ]
     },
     "metadata": {
      "needs_background": "light"
     },
     "output_type": "display_data"
    }
   ],
   "source": [
    "from scipy.integrate import odeint\n",
    "import matplotlib.pyplot as plt\n",
    "\n",
    "t = np.linspace(0, 500, 100)\n",
    "func = reactions_to_ode_func(reactions, species, parameters)\n",
    "sol = odeint(func, y0, t, args=tuple(parameter_values))\n",
    "\n",
    "# Plot\n",
    "for i, s in enumerate(species):\n",
    "    if s == 'C' or s == 'Cp':\n",
    "        plt.plot(t, sol[:, i], label=s)\n",
    "plt.legend()\n",
    "plt.xlabel(\"Time\")\n",
    "plt.ylabel(\"Concentration\")\n",
    "plt.title(\"ODE from reaction strings\")\n",
    "plt.show()"
   ]
  }
 ],
 "metadata": {
  "kernelspec": {
   "display_name": "new-peak-project",
   "language": "python",
   "name": "python3"
  },
  "language_info": {
   "codemirror_mode": {
    "name": "ipython",
    "version": 3
   },
   "file_extension": ".py",
   "mimetype": "text/x-python",
   "name": "python",
   "nbconvert_exporter": "python",
   "pygments_lexer": "ipython3",
   "version": "3.8.10"
  }
 },
 "nbformat": 4,
 "nbformat_minor": 5
}
