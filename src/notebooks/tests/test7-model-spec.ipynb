{
 "cells": [
  {
   "cell_type": "markr4w8,
   "metada148b4407
   "source": [
    i
  },##I
  {]
}
  {type": "code",
   exn"l_ty 1: ico"8
   m xutin_out: 1
   "id":"o88d00bb1puts": [
   {mda: {}
    tu: [
    {
"outp"a": "tot
    ""ouptty": "seam
      text": [
"Proje"Ptoj:ct p ch ubt tw: r:\\Gjchub\\ntw-ps\k-poject\\rc
    ]]
}
],
   "r: [
    }io 
   ],
   "spatho=uo.wd
    "#is\ hwokgirctory
    "hir(':\\\\Gthub\\\\nw-ak-j\\\\sc')\n",
"pt('Prj phtto:{ogwd()}')
  p]
at},
h {
= o"cty": "od
   " xgcudiorout: 2
   "id":h"25db6e4e",
dir"m'tad\tw\: {}\\\src')\n",
   "outgutd': ["
   ]{
   },":"stdout
   {outp_yp": "rea,
      t"xdta"[ {},
     I\\MDrive\\DAWSON PHD PROJECT\\Biomarker D"te R:dositoro\\daua\\new-peak-pr"ject\\experiments\,
    u]"stream",
      "text": [
  e],\DAWSON PHD PROJECT\\Biomarker Data Repository\\data\\new-peak-project\\experiments\n"
    suc[
    }fro dotnvmor dtev_alu\,
     con"fg = dotonvmvalutn(\".eiv\r)\notenv_values\n",
   dolrine(c(\fig[\"DATA_PATH\"])"env\")\n",
   ]
 (}"
  {DATA_PATH\"])"
   ]ll_ycde
  },excution_cou
  {d2ea6bc6,
    :etad "a2ea{}b
   "outputs": [],
   "source": [
    "from models.ModelBuilder import ModelBuilder\n",
    "from models.Reaction import Reaction\n",
    "from models.ReactionArchtype import ReactionArchtype\n",
    "from models.ArchtypeCollections import *\n",
    "from models.Utils import *\n",
    "\n",
    "import matplotlib.pyplot as plt\n",
    "import seaborn as sns\n",
    "import roadrunner\n",
    "import numpy as np\n",
    "import pandas as pd\n",
    "\n",
    "# import scikit-learn\n",
    "from sklearn.linear_model import LinearRegression\n",
    "# tree models and support vector machines\n",
    "from sklearn.ensemble import RandomForestRegressor\n",
    "from sklearn.ensemble import GradientBoostingRegressor\n",
    "from sklearn.svm import SVR\n",
    "from sklearn.neural_network import MLPRegressor\n",
    "from sklearn.model_selection import train_test_split\n",
    "from sklearn.metrics import mean_squared_error, r2_score\n",
    "# import pearson correlation\n",
    "from scipy.stats import pearsonr\n",
    "from sklearn.preprocessing import StandardScaler\n",
    "from sklearn.pipeline import Pipeline\n",
    "\n",
    "from copy import deepcopy"
   ]
  },
  {
   "cell_type": "code",
   "execution_count": 4,
   "id": "6ff4873d",
   "metadata": {},
   "outputs": [
    {
     "name": "stdout",
     "output_type": "stream",
     "text": [
      "--- Generating a random network ---\n",
      "Random Seed: 1\n",
      "Number of A Species: 2\n",
      "Number of B Species: 2\n",
      "Number of C Species: 1\n",
      "Number of Regulations: 2\n",
      "\n",
      "\n",
      "Feedback Regulation 0: ('B1', 'B0') - down\n",
      "Feedback Regulation 1: ('C', 'A0') - up\n",
      "A to B Stimulation 2: A0 - B0 - up\n",
      "A to B Stimulation 3: A1 - B1 - up\n",
      "B to C Stimulation 4: B0 - C - up\n",
      "B to C Stimulation 5: B1 - C - up\n"
     ]
    }
   ],
   "source": [
    "new_spec = ModelSpecification()\n",
    "new_spec.generate_specifications(1,2,2,1)"
   ]
  },
  {
   "cell_type": "code",
   "execution_count": null,
   "id": "b3b1ec69",
   "metadata": {},
   "outputs": [
    {
     "data": {
      "text/plain": [
       "['A0', 'A1']"
      ]
     },
     "execution_count": 5,
     "metadata": {},
     "output_type": "execute_result"
    }
   ],
   "source": [
    "new_spec.A_species"
   ]
  },
  {
   "cell_type": "code",
   "execution_count": 6,
   "id": "681e3ef3",
   "metadata": {},
   "outputs": [
    {
     "data": {
      "text/plain": [
       "[('B1', 'B0'),\n",
       " ('C', 'A0'),\n",
       " ('A0', 'B0'),\n",
       " ('A1', 'B1'),\n",
       " ('B0', 'C'),\n",
       " ('B1', 'C')]"
      ]
     },
     "execution_count": 6,
     "metadata": {},
     "output_type": "execute_result"
    }
   ],
   "source": [
    "new_spec.regulations"
   ]
  },
  {
   "cell_type": "code",
   "execution_count": null,
   "id": "f3d1f8fd",
   "metadata": {},
   "outputs": [],
   "source": []
  }
 ],
 "metadata": {
  "kernelspec": {
   "display_name": "new-peak-project",
   "language": "python",
   "name": "python3"
  },
  "language_info": {
   "codemirror_mode": {
    "name": "ipython",
    "version": 3
   },
   "file_extension": ".py",
   "mimetype": "text/x-python",
   "name": "python",
   "nbconvert_exporter": "python",
   "pygments_lexer": "ipython3",
   "version": "3.12.6"
  }
 },
 "nbformat": 4,
 "nbformat_minor": 5
}
