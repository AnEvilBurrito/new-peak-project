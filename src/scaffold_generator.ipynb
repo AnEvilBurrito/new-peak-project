{
 "cells": [
  {
   "cell_type": "markdown",
   "metadata": {},
   "source": [
    "# Scaffold Generator\n",
    "\n",
    "- Using a set of rules, generate a biochemical network allowing different species to associate with each other\n",
    "\n"
   ]
  },
  {
   "cell_type": "code",
   "execution_count": 1,
   "metadata": {},
   "outputs": [],
   "source": [
    "from models.ModelBuilder import ModelBuilder\n",
    "from models.Reaction import Reaction\n",
    "from models.ReactionArchtype import ReactionArchtype\n",
    "from models.ArchtypeCollections import *\n",
    "from models.Utils import * \n",
    "\n",
    "import matplotlib.pyplot as plt\n",
    "import roadrunner\n",
    "import numpy as np\n",
    "import pandas as pd"
   ]
  },
  {
   "cell_type": "markdown",
   "metadata": {},
   "source": [
    "## Simple ABC Model \n",
    "\n",
    "Assuming Specie A recruits both B and C together, however, A can be bound to B, or C, or both B and C at the same time. However, B and C do not associate unless taken together by A. \n",
    "\n",
    "Thus, AB + C -> ABC and AC + B -> ABC\n",
    "\n",
    "All Forward Reactions: \n",
    "- A + B -> AB \n",
    "- A + C -> AC \n",
    "- AB + C -> ABC \n",
    "- AC + B -> ABC \n",
    "\n",
    "Representing this: \n",
    "A: {B, C, [B, C]} # binds to B, C and can further associate B and C at the same time\n",
    "\n",
    "If A binds either to B or C, then the representation would be: \n",
    "A: {B, C} # binds to either B or C but never together "
   ]
  },
  {
   "cell_type": "markdown",
   "metadata": {},
   "source": [
    "## Rule-based scaffold binding \n",
    "\n",
    "Makes an assumption that binding must occur through a specific binding site for the scaffold \n",
    "\n",
    "This means a scaffold will have a list of potential binding sites e.g. \n",
    "- Scaffold A: \n",
    "    - Surfaces: [B1, B2] # B1 and B2 are the names of the binding site\n",
    "    - Prominence: [B3, ] # the shape of 'Scaffold A' makes it capable of binding to a B3 binding site \n",
    "\n",
    "Then, we define all species in the system in such manner \n",
    "- Specie B: \n",
    "    - Surfaces: [, ] # No binding site offered by this protein \n",
    "    - Prominence: [B1, B3] # binds to either proteins exposing a B1 or B3 binding site"
   ]
  },
  {
   "cell_type": "code",
   "execution_count": null,
   "metadata": {},
   "outputs": [],
   "source": [
    "class BindingSpecie: \n",
    "    def __init__(self, name: str, surfaces: list = None, prominences: list = None):\n",
    "        '''\n",
    "        utilise a binding mechanic to create complex ode models\n",
    "            surfaces: list of strings, a surface is a binding site on the scaffold\n",
    "            prominences: list of strings, a prominence is where \n",
    "        '''\n",
    "        self.name = name\n",
    "        self.surfaces = [] if surfaces is None else surfaces\n",
    "        self.prominences = [] if prominences is None else prominences\n",
    "        \n",
    "    def set_surfaces(self, surfaces: list):\n",
    "        self.surfaces = surfaces\n",
    "        \n",
    "    def set_prominences(self, prominences: list):\n",
    "        self.prominences = prominences\n",
    "        \n",
    "    def add_surface(self, surface: str):\n",
    "        self.surfaces.append(surface)\n",
    "        \n",
    "    def add_prominence(self, prominence):\n",
    "        self.prominences.append(prominence)\n",
    "        \n",
    "    def get_surfaces(self):\n",
    "        return self.surfaces\n",
    "    \n",
    "    def get_prominences(self):\n",
    "        return self.prominences\n",
    "\n",
    "\n",
    "def create_binding_reaction(binding_species: list):\n",
    "    '''\n",
    "    create a binding reaction between two binding species\n",
    "    '''\n",
    "    # ensure all items in the list are binding species\n",
    "    for item in binding_species:\n",
    "        if not isinstance(item, BindingSpecie):\n",
    "            raise ValueError(\"All items in the list must be of type BindingSpecie\")\n",
    "\n",
    "    # first, based on the binding species, create a list of all possible binding reactions\n",
    "    specie_binding_table = []    \n",
    "    \n",
    "\n",
    "    \n",
    "    \n",
    "\n",
    "specie_1 = BindingSpecie(\"scaffold1\", surfaces=[\"SH2\", \"SH3\"], prominences=[\"P1\"])\n",
    "specie_2 = BindingSpecie('protein1', prominences=[\"SH2\"])\n",
    "specie_3 = BindingSpecie('protein2', prominences=[\"SH3\"])\n",
    "list_of_scaffolds = [specie_1, specie_2, specie_3]\n",
    "\n",
    "\n",
    "\n",
    "\n",
    "\n",
    "\n"
   ]
  }
 ],
 "metadata": {
  "kernelspec": {
   "display_name": "model-builder",
   "language": "python",
   "name": "python3"
  },
  "language_info": {
   "codemirror_mode": {
    "name": "ipython",
    "version": 3
   },
   "file_extension": ".py",
   "mimetype": "text/x-python",
   "name": "python",
   "nbconvert_exporter": "python",
   "pygments_lexer": "ipython3",
   "version": "3.8.10"
  }
 },
 "nbformat": 4,
 "nbformat_minor": 2
}
