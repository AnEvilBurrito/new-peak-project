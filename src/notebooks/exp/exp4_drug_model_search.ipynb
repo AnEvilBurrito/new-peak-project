{
 "cells": [
  {
   "cell_type": "markdown",
   "id": "bb525841",
   "metadata": {},
   "source": [
    "# Sensitive Model Search\n",
    "\n",
    "by adjusting `o_random_seed` and `parameter_generation_seed`"
   ]
  },
  {
   "cell_type": "markdown",
   "id": "813136b5",
   "metadata": {},
   "source": [
    "## Init"
   ]
  },
  {
   "cell_type": "code",
   "execution_count": 12,
   "id": "3b773f6d",
   "metadata": {},
   "outputs": [
    {
     "name": "stdout",
     "output_type": "stream",
     "text": [
      "Project path set to: /mnt/userdata2/dawsonlan/new-peak-project/src\n"
     ]
    }
   ],
   "source": [
    "import os\n",
    "\n",
    "path = os.getcwd()\n",
    "# find the string 'project' in the path, return index\n",
    "index_project = path.find('project')\n",
    "# slice the path from the index of 'project' to the end\n",
    "project_path = path[:index_project+7]\n",
    "# set the working directory\n",
    "os.chdir(project_path+'/src')\n",
    "print(f'Project path set to: {os.getcwd()}')"
   ]
  },
  {
   "cell_type": "code",
   "execution_count": 13,
   "id": "2e84e0ee",
   "metadata": {},
   "outputs": [
    {
     "name": "stdout",
     "output_type": "stream",
     "text": [
      "/home/dawsonlan/new-peak-project/src/experiments\n"
     ]
    }
   ],
   "source": [
    "from dotenv import dotenv_values\n",
    "config = dotenv_values(\".env\")\n",
    "print(config[\"DATA_PATH\"])"
   ]
  },
  {
   "cell_type": "code",
   "execution_count": 14,
   "id": "5ec4769a",
   "metadata": {},
   "outputs": [],
   "source": [
    "from models.ModelBuilder import ModelBuilder\n",
    "from models.Reaction import Reaction\n",
    "from models.ReactionArchtype import ReactionArchtype\n",
    "from models.ArchtypeCollections import *\n",
    "from models.Utils import *\n",
    "\n",
    "import matplotlib.pyplot as plt\n",
    "import seaborn as sns\n",
    "import roadrunner\n",
    "import numpy as np\n",
    "import pandas as pd\n",
    "\n",
    "# import scikit-learn\n",
    "from sklearn.linear_model import LinearRegression\n",
    "# tree models and support vector machines\n",
    "from sklearn.ensemble import RandomForestRegressor\n",
    "from sklearn.ensemble import GradientBoostingRegressor\n",
    "from sklearn.svm import SVR\n",
    "from sklearn.neural_network import MLPRegressor\n",
    "from sklearn.model_selection import train_test_split\n",
    "from sklearn.metrics import mean_squared_error, r2_score\n",
    "# import pearson correlation\n",
    "from scipy.stats import pearsonr\n",
    "from sklearn.preprocessing import StandardScaler\n",
    "from sklearn.pipeline import Pipeline\n",
    "\n",
    "from copy import deepcopy"
   ]
  },
  {
   "cell_type": "markdown",
   "id": "8a444882",
   "metadata": {},
   "source": [
    "## Analysis"
   ]
  },
  {
   "cell_type": "code",
   "execution_count": 39,
   "id": "90b6501f",
   "metadata": {},
   "outputs": [
    {
     "name": "stdout",
     "output_type": "stream",
     "text": [
      "/home/dawsonlan/new-peak-project/src/experiments/exp4_drug_model_search_2/\n"
     ]
    }
   ],
   "source": [
    "import os \n",
    "\n",
    "### parameters \n",
    "notebook_name = 'exp4_drug_model_search'\n",
    "sub_id = '2'\n",
    "\n",
    "## Model parameters\n",
    "no_observable_species = 15\n",
    "no_feedback_regulations = 10\n",
    "specie_value_range = (5, 5000)\n",
    "param_range = (0.05, 20)\n",
    "param_multiplier_range = (0.5, 1.5)\n",
    "model_name = 'sensitive_model_search'\n",
    "\n",
    "drug_name = 'D0'\n",
    "drug_conc = 5000\n",
    "drug_time = 500\n",
    "\n",
    "## Sensitivity analysis parameters \n",
    "o_random_seeds = list(range(1,10))\n",
    "parameter_random_seeds = list(range(1, 10))\n",
    "species_perturbation_range = np.arange(1, 5000, 500)\n",
    "\n",
    "## Simulation parameters \n",
    "simulation_time = 1000 \n",
    "simulation_step = 100\n",
    "\n",
    "## General parameters\n",
    "parallelise = True\n",
    "save_figures = True \n",
    "experiment_id = notebook_name + '_' + sub_id\n",
    "experiment_folder = config['DATA_PATH'] + '/' + experiment_id + '/'\n",
    "if not os.path.exists(experiment_folder):\n",
    "    os.makedirs(experiment_folder)\n",
    "    \n",
    "print(experiment_folder)"
   ]
  },
  {
   "cell_type": "code",
   "execution_count": 40,
   "id": "262dd5f4",
   "metadata": {},
   "outputs": [],
   "source": [
    "## Helper functions\n",
    "import warnings\n",
    "\n",
    "from models.SensitivityAnalysis import sensitivity_analysis, get_sensitivity_score, extract_states_from_results"
   ]
  },
  {
   "cell_type": "code",
   "execution_count": null,
   "id": "9b820fb8",
   "metadata": {},
   "outputs": [],
   "source": [
    "results = []\n",
    "# use joblib to parallelise the code\n",
    "from joblib import Parallel, delayed\n",
    "from models.Solver.RoadrunnerSolver import RoadrunnerSolver\n",
    "from models.DrugModelSpecification import DrugModelSpecification, Drug\n",
    "\n",
    "def run_sensitivity_analysis(o_random_seed, parameter_random_seed, verbose=0):\n",
    "    # Generate the model \n",
    "    model_spec = DrugModelSpecification()\n",
    "    model_spec.generate_specifications(o_random_seed, no_observable_species, no_feedback_regulations, verbose=0)\n",
    "    drug_0 = Drug(drug_name, drug_time, drug_conc)\n",
    "    np.random.seed(o_random_seed)\n",
    "    # add random 'up' and 'down' regulations to the drug\n",
    "    regulation_dir = []\n",
    "    for i, s in enumerate(model_spec.A_species):\n",
    "        regulation_dir.append(np.random.choice(['up', 'down']))\n",
    "        drug_0.add_regulation(s, 'up')\n",
    "    model_spec.add_drug(drug_0)\n",
    "    G0 = model_spec.generate_network(model_name, specie_value_range, param_range, param_multiplier_range, random_seed=parameter_random_seed, verbose=0)\n",
    "    solver = RoadrunnerSolver()\n",
    "    solver.compile(G0.get_sbml_model())\n",
    "    all_states = []\n",
    "    for i in range(no_observable_species):\n",
    "        all_states.append('A'+str(i))\n",
    "    for i in range(no_observable_species):\n",
    "        all_states.append('B'+str(i))\n",
    "                \n",
    "    all_init_species_results = []\n",
    "    for init_species in all_states: \n",
    "        all_results = sensitivity_analysis(G0, solver, init_species, species_perturbation_range, simulation_time, simulation_step)\n",
    "        all_init_species_results.append(all_results)\n",
    "\n",
    "    # extract the last time point of Cp for each init species\n",
    "    Cp_final_states = []\n",
    "    for init_species in all_init_species_results: \n",
    "        Cp_final_states.append(extract_states_from_results(init_species, 'Cp', -1))\n",
    "        \n",
    "    state_sensitivity = get_sensitivity_score(Cp_final_states)\n",
    "    # get a balance of sensitiv\n",
    "    mean = np.mean(state_sensitivity)\n",
    "    std_dev = np.std(state_sensitivity)\n",
    "    cv = std_dev / mean\n",
    "    # get the mean of the sensitivity score\n",
    "    sens_score = np.mean(state_sensitivity)\n",
    "    median = np.median(state_sensitivity)\n",
    "    if verbose: \n",
    "        print(f'Random seed: {o_random_seed}, Parameter random seed: {parameter_random_seed}, Mean: {sens_score}, CV: {cv}, Median: {median}')\n",
    "        if verbose > 1:\n",
    "            print('State sensitivity as a function of init species:')\n",
    "            for i, init_species in enumerate(all_init_species_results): \n",
    "                print(f'Init species: {init_species}, Sensitivity score: {state_sensitivity[i]}')\n",
    "    return [o_random_seed, parameter_random_seed, cv, sens_score, median]\n",
    "\n",
    "\n",
    "\n"
   ]
  },
  {
   "cell_type": "code",
   "execution_count": 42,
   "id": "add2ed82",
   "metadata": {},
   "outputs": [
    {
     "name": "stdout",
     "output_type": "stream",
     "text": [
      "Random seed: 9, Parameter random seed: 1, Mean: 5.321714045895817, CV: 3.631693803713879, Median: 0.19123714940673842\n",
      "[np.float64(54.55916367423416), np.float64(0.006415957491914703), np.float64(0.4621862115959483), np.float64(0.08919464683404055), np.float64(0.21586892783498435), np.float64(0.022648079253090536), np.float64(0.3218987592513747), np.float64(0.06386523055098792), np.float64(0.6165760476840418), np.float64(0.1051361012341947), np.float64(0.026228487494004415), np.float64(0.01020371454984259), np.float64(0.001211948559912912), np.float64(0.12472360767107027), np.float64(0.0031512214098192715), np.float64(95.23875104814081), np.float64(0.25518850801165227), np.float64(0.5737508830748936), np.float64(0.8140131091603182), np.float64(1.2587283180201907), np.float64(0.2295427392082705), np.float64(1.011242100403781), np.float64(1.1270543079478075), np.float64(1.1280630609884543), np.float64(0.012008392204210683), np.float64(0.16660537097849248), np.float64(0.07058488367311844), np.float64(0.03025061110066174), np.float64(1.1034300974421507), np.float64(0.0037353308702940957)]\n"
     ]
    }
   ],
   "source": [
    "res = run_sensitivity_analysis(9, 1, verbose=1)"
   ]
  },
  {
   "cell_type": "code",
   "execution_count": 43,
   "id": "61aa3689",
   "metadata": {},
   "outputs": [
    {
     "name": "stdout",
     "output_type": "stream",
     "text": [
      "Joblib running on CPU cores: 12\n"
     ]
    },
    {
     "data": {
      "text/html": [
       "<div>\n",
       "<style scoped>\n",
       "    .dataframe tbody tr th:only-of-type {\n",
       "        vertical-align: middle;\n",
       "    }\n",
       "\n",
       "    .dataframe tbody tr th {\n",
       "        vertical-align: top;\n",
       "    }\n",
       "\n",
       "    .dataframe thead th {\n",
       "        text-align: right;\n",
       "    }\n",
       "</style>\n",
       "<table border=\"1\" class=\"dataframe\">\n",
       "  <thead>\n",
       "    <tr style=\"text-align: right;\">\n",
       "      <th></th>\n",
       "      <th>o_random_seed</th>\n",
       "      <th>parameter_random_seed</th>\n",
       "      <th>cv</th>\n",
       "      <th>mean</th>\n",
       "      <th>median</th>\n",
       "    </tr>\n",
       "  </thead>\n",
       "  <tbody>\n",
       "    <tr>\n",
       "      <th>80</th>\n",
       "      <td>9</td>\n",
       "      <td>9</td>\n",
       "      <td>2.179187</td>\n",
       "      <td>4.995138</td>\n",
       "      <td>2.364699</td>\n",
       "    </tr>\n",
       "    <tr>\n",
       "      <th>76</th>\n",
       "      <td>9</td>\n",
       "      <td>5</td>\n",
       "      <td>2.516145</td>\n",
       "      <td>7.250063</td>\n",
       "      <td>2.287098</td>\n",
       "    </tr>\n",
       "    <tr>\n",
       "      <th>77</th>\n",
       "      <td>9</td>\n",
       "      <td>6</td>\n",
       "      <td>2.519659</td>\n",
       "      <td>5.399918</td>\n",
       "      <td>1.937970</td>\n",
       "    </tr>\n",
       "    <tr>\n",
       "      <th>51</th>\n",
       "      <td>6</td>\n",
       "      <td>7</td>\n",
       "      <td>2.016463</td>\n",
       "      <td>5.378363</td>\n",
       "      <td>1.746281</td>\n",
       "    </tr>\n",
       "    <tr>\n",
       "      <th>54</th>\n",
       "      <td>7</td>\n",
       "      <td>1</td>\n",
       "      <td>1.374436</td>\n",
       "      <td>1.721651</td>\n",
       "      <td>1.176730</td>\n",
       "    </tr>\n",
       "    <tr>\n",
       "      <th>...</th>\n",
       "      <td>...</td>\n",
       "      <td>...</td>\n",
       "      <td>...</td>\n",
       "      <td>...</td>\n",
       "      <td>...</td>\n",
       "    </tr>\n",
       "    <tr>\n",
       "      <th>6</th>\n",
       "      <td>1</td>\n",
       "      <td>7</td>\n",
       "      <td>1.601287</td>\n",
       "      <td>0.055525</td>\n",
       "      <td>0.000783</td>\n",
       "    </tr>\n",
       "    <tr>\n",
       "      <th>25</th>\n",
       "      <td>3</td>\n",
       "      <td>8</td>\n",
       "      <td>2.140776</td>\n",
       "      <td>0.000835</td>\n",
       "      <td>0.000259</td>\n",
       "    </tr>\n",
       "    <tr>\n",
       "      <th>4</th>\n",
       "      <td>1</td>\n",
       "      <td>5</td>\n",
       "      <td>1.746829</td>\n",
       "      <td>0.013776</td>\n",
       "      <td>0.000236</td>\n",
       "    </tr>\n",
       "    <tr>\n",
       "      <th>1</th>\n",
       "      <td>1</td>\n",
       "      <td>2</td>\n",
       "      <td>1.344134</td>\n",
       "      <td>0.028852</td>\n",
       "      <td>0.000058</td>\n",
       "    </tr>\n",
       "    <tr>\n",
       "      <th>20</th>\n",
       "      <td>3</td>\n",
       "      <td>3</td>\n",
       "      <td>2.076004</td>\n",
       "      <td>0.000036</td>\n",
       "      <td>0.000005</td>\n",
       "    </tr>\n",
       "  </tbody>\n",
       "</table>\n",
       "<p>81 rows × 5 columns</p>\n",
       "</div>"
      ],
      "text/plain": [
       "    o_random_seed  parameter_random_seed        cv      mean    median\n",
       "80              9                      9  2.179187  4.995138  2.364699\n",
       "76              9                      5  2.516145  7.250063  2.287098\n",
       "77              9                      6  2.519659  5.399918  1.937970\n",
       "51              6                      7  2.016463  5.378363  1.746281\n",
       "54              7                      1  1.374436  1.721651  1.176730\n",
       "..            ...                    ...       ...       ...       ...\n",
       "6               1                      7  1.601287  0.055525  0.000783\n",
       "25              3                      8  2.140776  0.000835  0.000259\n",
       "4               1                      5  1.746829  0.013776  0.000236\n",
       "1               1                      2  1.344134  0.028852  0.000058\n",
       "20              3                      3  2.076004  0.000036  0.000005\n",
       "\n",
       "[81 rows x 5 columns]"
      ]
     },
     "execution_count": 43,
     "metadata": {},
     "output_type": "execute_result"
    }
   ],
   "source": [
    "from joblib import cpu_count\n",
    "print(f'Joblib running on CPU cores: {cpu_count()}')\n",
    "\n",
    "results = Parallel(n_jobs=-1)(delayed(run_sensitivity_analysis)(o_random_seed, parameter_random_seed) for o_random_seed in o_random_seeds for parameter_random_seed in parameter_random_seeds)\n",
    "# convert to pandas dataframe\n",
    "df = pd.DataFrame(results, columns=['o_random_seed', 'parameter_random_seed', 'cv', 'mean', 'median'])\n",
    "\n",
    "# sort the dataframe by sensitivity score\n",
    "df = df.sort_values(by='median', ascending=False)\n",
    "df"
   ]
  },
  {
   "cell_type": "code",
   "execution_count": null,
   "id": "f252bcc8",
   "metadata": {},
   "outputs": [],
   "source": [
    "# import differential evolution "
   ]
  },
  {
   "cell_type": "code",
   "execution_count": 44,
   "id": "a571f00d",
   "metadata": {},
   "outputs": [
    {
     "name": "stdout",
     "output_type": "stream",
     "text": [
      "Saved results to /home/dawsonlan/new-peak-project/src/experiments/exp4_drug_model_search_2/sensitivity_analysis_results.pkl\n"
     ]
    }
   ],
   "source": [
    "# save df to a pickle file\n",
    "df.to_pickle(experiment_folder + 'sensitivity_analysis_results.pkl')\n",
    "print(f'Saved results to {experiment_folder + \"sensitivity_analysis_results.pkl\"}')"
   ]
  }
 ],
 "metadata": {
  "kernelspec": {
   "display_name": ".venv",
   "language": "python",
   "name": "python3"
  },
  "language_info": {
   "codemirror_mode": {
    "name": "ipython",
    "version": 3
   },
   "file_extension": ".py",
   "mimetype": "text/x-python",
   "name": "python",
   "nbconvert_exporter": "python",
   "pygments_lexer": "ipython3",
   "version": "3.10.12"
  }
 },
 "nbformat": 4,
 "nbformat_minor": 5
}
