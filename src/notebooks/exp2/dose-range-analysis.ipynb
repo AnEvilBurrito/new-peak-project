{
 "cells": [
  {
   "cell_type": "markdown",
   "id": "d7780acf",
   "metadata": {},
   "source": [
    "# Init"
   ]
  },
  {
   "cell_type": "code",
   "execution_count": 43,
   "id": "275f0305",
   "metadata": {},
   "outputs": [
    {
     "name": "stdout",
     "output_type": "stream",
     "text": [
      "Project path set to: c:\\Github\\new-peak-project\\src\n"
     ]
    }
   ],
   "source": [
    "import os\n",
    "\n",
    "path = os.getcwd()\n",
    "# find the string 'project' in the path, return index\n",
    "index_project = path.find(\"project\")\n",
    "# slice the path from the index of 'project' to the end\n",
    "project_path = path[: index_project + 7]\n",
    "# set the working directory\n",
    "os.chdir(project_path + \"/src\")\n",
    "print(f\"Project path set to: {os.getcwd()}\")\n"
   ]
  },
  {
   "cell_type": "code",
   "execution_count": 44,
   "id": "eecd7f00",
   "metadata": {},
   "outputs": [
    {
     "name": "stdout",
     "output_type": "stream",
     "text": [
      "I:\\My Drive\\DAWSON PHD PROJECT\\Biomarker Data Repository\\data\\new-peak-project\\experiments\n"
     ]
    }
   ],
   "source": [
    "from dotenv import dotenv_values\n",
    "config = dotenv_values(\".env\")\n",
    "print(config[\"DATA_PATH\"])"
   ]
  },
  {
   "cell_type": "code",
   "execution_count": 45,
   "id": "8184496f",
   "metadata": {},
   "outputs": [
    {
     "name": "stdout",
     "output_type": "stream",
     "text": [
      "New data path set to: I:\\My Drive\\DAWSON PHD PROJECT\\Biomarker Data Repository\\data\\data-and-mechanism-project\n"
     ]
    }
   ],
   "source": [
    "new_path = config[\"NEW_DATA_PATH\"]\n",
    "print(f'New data path set to: {new_path}')"
   ]
  },
  {
   "cell_type": "markdown",
   "id": "1613d60a",
   "metadata": {},
   "source": [
    "# Config"
   ]
  },
  {
   "cell_type": "code",
   "execution_count": 46,
   "id": "0a4a4fa4",
   "metadata": {},
   "outputs": [
    {
     "name": "stdout",
     "output_type": "stream",
     "text": [
      "Folder I:\\My Drive\\DAWSON PHD PROJECT\\Biomarker Data Repository\\data\\data-and-mechanism-project\\dose-range-analysis already exists. No changes made.\n"
     ]
    }
   ],
   "source": [
    "from models.utils.config_manager import initialise_config\n",
    "\n",
    "initialise_config(folder_name=\"dose-range-analysis\", verbose=1)\n"
   ]
  },
  {
   "cell_type": "code",
   "execution_count": 47,
   "id": "db5f9be2",
   "metadata": {},
   "outputs": [
    {
     "name": "stdout",
     "output_type": "stream",
     "text": [
      "notebook: \n",
      "  version: v1\n",
      "  name: dose-range-analysis\n",
      "  compatible_notebooks: ['dose-range-analysis']\n",
      "  desc: First dose range analysis based on num of cascades  \n",
      "\n",
      "exp: \n",
      "  spec: \n",
      "    n_layers: 2\n",
      "    n_cascades: 10\n",
      "    n_regs: 0\n",
      "    gen_seed: 42\n",
      "    drug: \n",
      "      name: D\n",
      "      start: 500\n",
      "      dose: 500\n",
      "      regulations: []\n",
      "      target_all: True\n",
      "  parameter_generation: \n",
      "    ic_range: [200, 1000]\n",
      "    param_range: [0.5, 1.5]\n",
      "    param_mul_range: [0.99, 1.01]\n",
      "  simulation: \n",
      "    start: 0\n",
      "    stop: 1000\n",
      "    step: 100\n",
      "  dose_range: \n",
      "    n_cascades_perturb: \n",
      "      start: 1\n",
      "      stop: 10\n",
      "      step: 1\n",
      "    n_reps: 10\n",
      "    dr_seed: 42\n"
     ]
    }
   ],
   "source": [
    "# or load existing config\n",
    "from models.utils.config_manager import load_configs, print_config\n",
    "\n",
    "loaded_config = load_configs(folder_name=\"dose-range-analysis\", config_suffix=\"v1\")\n",
    "print_config(loaded_config)"
   ]
  },
  {
   "cell_type": "markdown",
   "id": "5b41ab0f",
   "metadata": {},
   "source": [
    "# Run"
   ]
  },
  {
   "cell_type": "code",
   "execution_count": 48,
   "id": "2fe69e0c",
   "metadata": {},
   "outputs": [],
   "source": [
    "from models.Specs.ModelSpec3 import ModelSpec3\n",
    "from models.Specs.Drug import Drug\n",
    "\n",
    "def generate_model_spec(spec_config, seed=None):\n",
    "    \"\"\"\n",
    "    Generate a model specification with drug configuration.\n",
    "\n",
    "    Args:\n",
    "        spec_config (dict): The spec configuration containing:\n",
    "            - n_layers: number of intermediate layers\n",
    "            - n_cascades: number of cascades\n",
    "            - n_regs: number of regulations\n",
    "            - drug: drug configuration dict\n",
    "            - gen_seed: generation seed (optional, can be overridden)\n",
    "        seed (int, optional): Override seed for generation\n",
    "\n",
    "    Returns:\n",
    "        ModelSpec3: The complete model specification\n",
    "    \"\"\"\n",
    "\n",
    "    # Extract parameters from spec_config\n",
    "    n_layers = spec_config['n_layers']\n",
    "    n_cascades = spec_config['n_cascades']\n",
    "    n_regs = spec_config['n_regs']\n",
    "    drug_config = spec_config['drug']\n",
    "    seed = seed or spec_config.get('gen_seed')\n",
    "\n",
    "    # Create ModelSpec3\n",
    "    model_spec = ModelSpec3(num_intermediate_layers=n_layers)\n",
    "\n",
    "    # Configure Drug\n",
    "    drug_name = drug_config['name']\n",
    "    drug_start = drug_config['start']\n",
    "    drug_dose = drug_config['dose']\n",
    "    drug_regulations = drug_config['regulations']\n",
    "    drug_target_all = drug_config.get('target_all', False)\n",
    "\n",
    "    drug = Drug(name=drug_name, start_time=drug_start, default_value=drug_dose)\n",
    "\n",
    "    if drug_target_all:\n",
    "        for n in range(n_cascades):\n",
    "            target = f'R{n+1}'  # Assuming receptors are named R1, R2, ..., Rn\n",
    "            drug.add_regulation(target, 'down')  # Assuming the type is 'down' for all\n",
    "    else:\n",
    "        for regs in drug_regulations:\n",
    "            target, reg_type = regs[0], regs[1]\n",
    "            drug.add_regulation(target, reg_type)\n",
    "\n",
    "    # Generate specifications and add drug\n",
    "    model_spec.generate_specifications(n_cascades, n_regs, seed)\n",
    "    model_spec.add_drug(drug)\n",
    "\n",
    "    return model_spec\n",
    "\n",
    "def generate_network(builder_config, model_spec, seed=None):\n",
    "    \"\"\"\n",
    "    Generate a network builder from the model specification.\n",
    "\n",
    "    Args:\n",
    "        builder_config (dict): The builder configuration containing:\n",
    "            - ic_range: initial condition range\n",
    "            - param_range: parameter range\n",
    "            - param_mul_range: parameter multiplier range\n",
    "        model_spec (ModelSpec3): The model specification\n",
    "        seed (int, optional): Override seed for generation\n",
    "\n",
    "    Returns:\n",
    "        Builder: The network builder\n",
    "    \"\"\"\n",
    "    param_gen_config = builder_config\n",
    "    specie_range = param_gen_config['ic_range']\n",
    "    param_range = param_gen_config['param_range']\n",
    "    param_mul_range = param_gen_config['param_mul_range']\n",
    "\n",
    "    builder = model_spec.generate_network('test', specie_range, param_range, param_mul_range, seed)\n",
    "    return builder\n"
   ]
  },
  {
   "cell_type": "code",
   "execution_count": 63,
   "id": "9b8a0985",
   "metadata": {},
   "outputs": [],
   "source": [
    "import numpy as np\n",
    "\n",
    "def calculate_spread_metrics(target_df, target_column=\"Oa\"):\n",
    "    \"\"\"\n",
    "    Calculate various spread/variability metrics for target data. Returns are relative to the mean.\n",
    "\n",
    "    Args:\n",
    "        target_df (pd.DataFrame): DataFrame containing target values.\n",
    "        target_column (str): Column name to analyze (default 'Oa').\n",
    "        \n",
    "    Returns:\n",
    "        dict: Dictionary containing relative spread metrics:\n",
    "            - rel_range: (max - min) / mean\n",
    "            - rel_var: variance / mean\n",
    "            - rsd: standard deviation / mean\n",
    "            - rel_iqr: (75th percentile - 25th percentile) / mean\n",
    "    \"\"\"\n",
    "    if target_column not in target_df.columns:\n",
    "        raise ValueError(f\"Column '{target_column}' not found in DataFrame.\")\n",
    "\n",
    "    data = target_df[target_column].dropna()  # Drop missing values\n",
    "\n",
    "    metrics = {\n",
    "        \"rel_range\": data.max() - data.min(),\n",
    "        \"rel_var\": data.var(),\n",
    "        \"rsd\": data.std(),\n",
    "        \"rel_iqr\": np.percentile(data, 75) - np.percentile(data, 25),\n",
    "    }\n",
    "    \n",
    "    # Normalise metrics by dividing by the mean of the data\n",
    "    mean_val = data.mean()\n",
    "    if mean_val != 0:\n",
    "        metrics = {k: v / mean_val for k, v in metrics.items()}\n",
    "\n",
    "\n",
    "    return metrics\n"
   ]
  },
  {
   "cell_type": "code",
   "execution_count": null,
   "id": "1602fefc",
   "metadata": {},
   "outputs": [
    {
     "name": "stderr",
     "output_type": "stream",
     "text": [
      "Cascades:   0%|          | 0/2 [00:00<?, ?it/s]INFO:root:Generated model with 1 cascades.\n",
      "INFO:models.Specs.ModelSpec3:Generated model test with 8 reactions.\n",
      "INFO:models.Specs.ModelSpec3:Model States: 8\n",
      "INFO:models.Specs.ModelSpec3:Model Parameters: 20\n",
      "INFO:models.Specs.ModelSpec3:Model Reactions: 8\n",
      "INFO:root:Generated network builder for model with 1 cascades.\n",
      "Simulating perturbations: 100%|██████████| 500/500 [00:00<00:00, 504.03it/s]\n",
      "INFO:root:Spread metrics for model with 1 cascades, rep 0: {'rel_range': np.float64(0.4827042835798947), 'rel_var': np.float64(0.1394136915910343), 'rsd': np.float64(0.10004774284952317), 'rel_iqr': np.float64(0.1488884931462032)}\n",
      "INFO:root:Generated model with 1 cascades.\n",
      "INFO:models.Specs.ModelSpec3:Generated model test with 8 reactions.\n",
      "INFO:models.Specs.ModelSpec3:Model States: 8\n",
      "INFO:models.Specs.ModelSpec3:Model Parameters: 20\n",
      "INFO:models.Specs.ModelSpec3:Model Reactions: 8\n",
      "INFO:root:Generated network builder for model with 1 cascades.\n",
      "Simulating perturbations: 100%|██████████| 500/500 [00:00<00:00, 519.21it/s]\n",
      "INFO:root:Spread metrics for model with 1 cascades, rep 1: {'rel_range': np.float64(0.4860887507853243), 'rel_var': np.float64(0.1436194335596916), 'rsd': np.float64(0.1015324034243738), 'rel_iqr': np.float64(0.15262354830024455)}\n",
      "Cascades:  50%|█████     | 1/2 [00:02<00:02,  2.11s/it]INFO:root:Generated model with 2 cascades.\n",
      "INFO:models.Specs.ModelSpec3:Generated model test with 14 reactions.\n",
      "INFO:models.Specs.ModelSpec3:Model States: 14\n",
      "INFO:models.Specs.ModelSpec3:Model Parameters: 36\n",
      "INFO:models.Specs.ModelSpec3:Model Reactions: 14\n",
      "INFO:root:Generated network builder for model with 2 cascades.\n",
      "Simulating perturbations: 100%|██████████| 500/500 [00:01<00:00, 423.47it/s]\n",
      "INFO:root:Spread metrics for model with 2 cascades, rep 0: {'rel_range': np.float64(0.47694762976665367), 'rel_var': np.float64(4.454712939950595), 'rsd': np.float64(0.11375435091996623), 'rel_iqr': np.float64(0.1731219592078912)}\n",
      "INFO:root:Generated model with 2 cascades.\n",
      "INFO:models.Specs.ModelSpec3:Generated model test with 14 reactions.\n",
      "INFO:models.Specs.ModelSpec3:Model States: 14\n",
      "INFO:models.Specs.ModelSpec3:Model Parameters: 36\n",
      "INFO:models.Specs.ModelSpec3:Model Reactions: 14\n",
      "INFO:root:Generated network builder for model with 2 cascades.\n",
      "Simulating perturbations: 100%|██████████| 500/500 [00:01<00:00, 403.23it/s]\n",
      "INFO:root:Spread metrics for model with 2 cascades, rep 1: {'rel_range': np.float64(0.5835862733888626), 'rel_var': np.float64(4.70655110854897), 'rsd': np.float64(0.1169889194484405), 'rel_iqr': np.float64(0.173289024044282)}\n",
      "Cascades: 100%|██████████| 2/2 [00:04<00:00,  2.37s/it]\n"
     ]
    }
   ],
   "source": [
    "import logging\n",
    "from models.SyntheticGen import generate_feature_data_v3\n",
    "from models.SyntheticGen import generate_target_data\n",
    "from models.Solver.RoadrunnerSolver import RoadrunnerSolver\n",
    "from tqdm import tqdm\n",
    "logging.basicConfig(level=logging.NOTSET)\n",
    "\n",
    "spec_config = loaded_config['exp']['spec']\n",
    "param_gen_config = loaded_config['exp']['parameter_generation']\n",
    "dose_range_config = loaded_config['exp']['dose_range']\n",
    "sim_config = loaded_config['exp']['simulation']\n",
    "sim_start, sim_stop, sim_step = sim_config['start'], sim_config['stop'], sim_config['step']\n",
    "\n",
    "n_cascades_perturb = dose_range_config['n_cascades_perturb']\n",
    "start, stop, step = n_cascades_perturb['start'], n_cascades_perturb['stop'], n_cascades_perturb['step']\n",
    "n_reps = dose_range_config['n_reps']\n",
    "dr_seed = dose_range_config['dr_seed']\n",
    "rng = np.random.default_rng(dr_seed)\n",
    "seeds = rng.integers(0, 1e6, size=n_reps)\n",
    "\n",
    "n_cascades_metrics = []\n",
    "for n_cascades in tqdm(range(start, stop + 1, step), desc=\"Cascades\"):\n",
    "    for rep in range(n_reps):\n",
    "        spec_config['n_cascades'] = n_cascades\n",
    "        spec_config['gen_seed'] = int(seeds[rep])\n",
    "        model_spec = generate_model_spec(spec_config, seed=42)\n",
    "        logging.info(f\"Generated model with {n_cascades} cascades.\")\n",
    "        builder = generate_network(param_gen_config, model_spec, seed=42)\n",
    "        logging.info(f\"Generated network builder for model with {n_cascades} cascades.\")\n",
    "\n",
    "        initial_values = builder.get_state_variables()\n",
    "        # exclude all activated species from initial_values\n",
    "        initial_values = {k: v for k, v in initial_values.items() if not k.endswith(\"a\")}\n",
    "        # exclude 'O' and 'Oa' from perturbation\n",
    "        initial_values = {k: v for k, v in initial_values.items() if k not in [\"O\", \"Oa\"]}\n",
    "\n",
    "        feature_data = generate_feature_data_v3(\n",
    "            model_spec, initial_values, \"lhs\", {\"min\": 200, \"max\": 1000}, 500, spec_config['gen_seed']\n",
    "        )\n",
    "        solver = RoadrunnerSolver()\n",
    "        solver.compile(builder.get_sbml_model())\n",
    "        sim_params = {\"start\": sim_start, \"end\": sim_stop, \"points\": sim_step}\n",
    "\n",
    "        target_data, timecourse_data = generate_target_data(\n",
    "            model_spec, solver, feature_data, sim_params, outcome_var=\"Oa\", verbose=True\n",
    "        )\n",
    "        \n",
    "        # calculate the mean and std of target_data\n",
    "        metrics = calculate_spread_metrics(target_data, target_column=\"Oa\")\n",
    "        logging.info(f\"Spread metrics for model with {n_cascades} cascades, rep {rep}: {metrics}\")\n",
    "        n_cascades_metrics.append({\"n_cascades\": n_cascades, \"metrics\": metrics, \"rep_seed\": int(seeds[rep])})\n",
    "    "
   ]
  },
  {
   "cell_type": "code",
   "execution_count": 65,
   "id": "b3ad1315",
   "metadata": {},
   "outputs": [],
   "source": [
    "import pandas as pd\n",
    "from models.utils.config_manager import save_data\n",
    "\n",
    "# Assemble the final output into a DataFrame\n",
    "# Each entry in n_cascades_metrics is a dict: {\"n_cascades\": ..., \"metrics\": ..., \"rep_seed\": ...}\n",
    "final_df = pd.DataFrame([\n",
    "    {\n",
    "        \"n_cascades\": entry[\"n_cascades\"],\n",
    "        \"rep_seed\": entry[\"rep_seed\"],\n",
    "        **entry[\"metrics\"]\n",
    "    }\n",
    "    for entry in n_cascades_metrics\n",
    "])\n",
    "\n",
    "final_df.head()\n",
    "\n",
    "save_data(notebook_config=loaded_config['notebook'], data=final_df, data_name=\"dose_range_metrics\")"
   ]
  },
  {
   "cell_type": "code",
   "execution_count": null,
   "id": "4ab90407",
   "metadata": {},
   "outputs": [
    {
     "data": {
      "image/png": "[encoded data removed]",
      "text/plain": [
       "<Figure size 1000x400 with 1 Axes>"
      ]
     },
     "metadata": {},
     "output_type": "display_data"
    },
    {
     "name": "stdout",
     "output_type": "stream",
     "text": [
      "Figure saved at I:\\My Drive\\DAWSON PHD PROJECT\\Biomarker Data Repository\\data\\data-and-mechanism-project\\dose-range-analysis\\figures\\v1_simulation_plot.png\n"
     ]
    },
    {
     "data": {
      "text/plain": [
       "<Figure size 640x480 with 0 Axes>"
      ]
     },
     "metadata": {},
     "output_type": "display_data"
    }
   ],
   "source": [
    "import seaborn as sns\n",
    "import matplotlib.pyplot as plt\n",
    "from models.utils.config_manager import save_figure\n",
    "# Prompt user to select a metric to plot\n",
    "\n",
    "def plot_metric(selected_metric):\n",
    "    plt.figure(figsize=(10, 4))\n",
    "    sns.boxplot(\n",
    "        data=final_df,\n",
    "        x=\"n_cascades\",\n",
    "        y=selected_metric,\n",
    "        color=\"skyblue\",\n",
    "        fliersize=2,\n",
    "        linewidth=1\n",
    "    )\n",
    "    plt.title(f\"{selected_metric.capitalize()} vs num pathways\", fontsize=13, fontweight=\"bold\")\n",
    "    plt.xlabel(\"n_cascades\", fontsize=11)\n",
    "    plt.ylabel(selected_metric.capitalize(), fontsize=11)\n",
    "    plt.tick_params(axis='both', labelsize=10)\n",
    "    plt.tight_layout()\n",
    "    plt.show()\n",
    "    \n",
    "def plot_metric_line(selected_metric):\n",
    "    plt.figure(figsize=(10, 4))\n",
    "    ax = sns.lineplot(\n",
    "        data=final_df,\n",
    "        x=\"n_cascades\",\n",
    "        y=selected_metric,\n",
    "        marker=\"o\",\n",
    "        linewidth=2,\n",
    "        color=\"royalblue\"\n",
    "    )\n",
    "    plt.title(f\"{selected_metric.capitalize()} vs num pathways\", fontsize=13, fontweight=\"bold\")\n",
    "    plt.xlabel(\"n_cascades\", fontsize=11)\n",
    "    plt.ylabel(selected_metric.capitalize(), fontsize=11)\n",
    "    plt.tick_params(axis='both', labelsize=10)\n",
    "    # Make x-axis ticks discrete\n",
    "    ax.set_xticks(sorted(final_df[\"n_cascades\"].unique()))\n",
    "    plt.tight_layout()\n",
    "    plt.show()\n",
    "    \n",
    "plot_metric_line(\"rel_range\")\n",
    "save_figure(loaded_config['notebook'], plt.gcf(), \"simulation_plot_rel_range\", \"png\", verbose=1, dpi=300)\n"
   ]
  },
  {
   "cell_type": "code",
   "execution_count": null,
   "id": "e0180615",
   "metadata": {},
   "outputs": [],
   "source": [
    "# Plot all other metrics in metrics_to_plot except 'rel_range'\n",
    "for metric in [\"rel_var\", \"rsd\", \"rel_iqr\"]:\n",
    "    plot_metric_line(metric)\n",
    "    save_figure(loaded_config['notebook'], plt.gcf(), f\"simulation_plot_{metric}\", \"png\", verbose=1, dpi=300)"
   ]
  }
 ],
 "metadata": {
  "kernelspec": {
   "display_name": "new-peak-project",
   "language": "python",
   "name": "python3"
  },
  "language_info": {
   "codemirror_mode": {
    "name": "ipython",
    "version": 3
   },
   "file_extension": ".py",
   "mimetype": "text/x-python",
   "name": "python",
   "nbconvert_exporter": "python",
   "pygments_lexer": "ipython3",
   "version": "3.12.6"
  }
 },
 "nbformat": 4,
 "nbformat_minor": 5
}
