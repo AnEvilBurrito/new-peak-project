{
 "cells": [
  {
   "cell_type": "markdown",
   "id": "4437667c",
   "metadata": {},
   "source": [
    "## Model 'fitness' and its relationship to the model predictivity using machine learning\n",
    "\n",
    "The fitness of a model is defined by its 'input-output' sensitivity. "
   ]
  },
  {
   "cell_type": "markdown",
   "id": "54b2cc6b",
   "metadata": {},
   "source": [
    "## Initialise Notebook"
   ]
  },
  {
   "cell_type": "code",
   "execution_count": 3,
   "id": "ff26c321",
   "metadata": {},
   "outputs": [
    {
     "name": "stdout",
     "output_type": "stream",
     "text": [
      "Project path set to: c:\\Github\\new-peak-project\\src\n"
     ]
    }
   ],
   "source": [
    "import os\n",
    "\n",
    "path = os.getcwd()\n",
    "# find the string 'project' in the path, return index\n",
    "index_project = path.find('project')\n",
    "# slice the path from the index of 'project' to the end\n",
    "project_path = path[:index_project+7]\n",
    "# set the working directory\n",
    "os.chdir(project_path+'\\\\src')\n",
    "print(f'Project path set to: {os.getcwd()}')"
   ]
  },
  {
   "cell_type": "code",
   "execution_count": 4,
   "id": "70141d98",
   "metadata": {},
   "outputs": [
    {
     "name": "stdout",
     "output_type": "stream",
     "text": [
      "I:\\My Drive\\DAWSON PHD PROJECT\\Biomarker Data Repository\\data\\new-peak-project\\experiments\n"
     ]
    }
   ],
   "source": [
    "from dotenv import dotenv_values\n",
    "config = dotenv_values(\".env\")\n",
    "print(config[\"DATA_PATH\"])"
   ]
  },
  {
   "cell_type": "code",
   "execution_count": 5,
   "id": "266ca087",
   "metadata": {},
   "outputs": [],
   "source": [
    "from models.ModelBuilder import ModelBuilder\n",
    "from models.Reaction import Reaction\n",
    "from models.ReactionArchtype import ReactionArchtype\n",
    "from models.ArchtypeCollections import *\n",
    "\n",
    "# import scikit-learn\n",
    "from sklearn.linear_model import LinearRegression\n",
    "# tree models and support vector machines\n",
    "from sklearn.ensemble import RandomForestRegressor\n",
    "from sklearn.ensemble import GradientBoostingRegressor\n",
    "from sklearn.svm import SVR\n",
    "from sklearn.neural_network import MLPRegressor\n",
    "from sklearn.model_selection import train_test_split\n",
    "from sklearn.metrics import mean_squared_error, r2_score\n",
    "# import pearson correlation\n",
    "from scipy.stats import pearsonr\n",
    "from sklearn.preprocessing import StandardScaler\n",
    "from sklearn.pipeline import Pipeline\n",
    "\n",
    "from copy import deepcopy"
   ]
  },
  {
   "cell_type": "markdown",
   "id": "b5c6c100",
   "metadata": {},
   "source": [
    "## Notebook Parameters"
   ]
  },
  {
   "cell_type": "code",
   "execution_count": 7,
   "id": "07c93620",
   "metadata": {},
   "outputs": [
    {
     "data": {
      "application/vnd.microsoft.datawrangler.viewer.v0+json": {
       "columns": [
        {
         "name": "index",
         "rawType": "int64",
         "type": "integer"
        },
        {
         "name": "o_random_seed",
         "rawType": "int64",
         "type": "integer"
        },
        {
         "name": "parameter_random_seed",
         "rawType": "int64",
         "type": "integer"
        },
        {
         "name": "fitness",
         "rawType": "float64",
         "type": "float"
        },
        {
         "name": "cv",
         "rawType": "float64",
         "type": "float"
        },
        {
         "name": "mean",
         "rawType": "float64",
         "type": "float"
        },
        {
         "name": "median",
         "rawType": "float64",
         "type": "float"
        }
       ],
       "conversionMethod": "pd.DataFrame",
       "ref": "77e82f3a-e577-47ed-a8f4-01755ee946a6",
       "rows": [
        [
         "7903",
         "80",
         "83",
         "-35.33350279385103",
         "1.1205861822444538",
         "11.739082660203698",
         "5.013761309918621"
        ],
        [
         "554",
         "6",
         "60",
         "-11.501563490422814",
         "1.2306973797161487",
         "8.707242655653436",
         "4.849242382156056"
        ],
        [
         "548",
         "6",
         "54",
         "-11.348728622132377",
         "1.3146310146833873",
         "11.554897499363118",
         "3.394197559145441"
        ],
        [
         "6335",
         "64",
         "99",
         "-10.967008806156485",
         "1.41826028173059",
         "10.719107875959502",
         "2.4442270329434734"
        ],
        [
         "7411",
         "75",
         "86",
         "-6.879932604800526",
         "1.3709946557818358",
         "6.910913376346611",
         "4.250850662052631"
        ],
        [
         "649",
         "7",
         "56",
         "-2.0625002386741684",
         "1.6416786280026057",
         "7.75340497980263",
         "1.5192372956110916"
        ],
        [
         "3731",
         "38",
         "69",
         "-0.5269213108238908",
         "1.2752646246775914",
         "5.90109516407126",
         "2.7363259998280274"
        ],
        [
         "5439",
         "55",
         "94",
         "1.136170109555465",
         "1.3804635600260806",
         "10.152541358840006",
         "3.679811613131349"
        ],
        [
         "581",
         "6",
         "87",
         "1.4712501571666152",
         "1.0236192880679105",
         "6.589102881606877",
         "3.9850340935229056"
        ],
        [
         "2957",
         "30",
         "87",
         "2.2219428048301353",
         "1.5344881104156978",
         "7.402433865142414",
         "2.8711062023659917"
        ],
        [
         "5964",
         "61",
         "25",
         "5.687857050173804",
         "1.3831692630747754",
         "7.379736631337157",
         "2.147505078626164"
        ],
        [
         "546",
         "6",
         "52",
         "7.30478969581862",
         "1.4623361226906342",
         "8.735961110670992",
         "4.035668991908601"
        ],
        [
         "6292",
         "64",
         "56",
         "8.781539602113774",
         "1.3607137066500503",
         "6.813072662027888",
         "2.971166617541"
        ],
        [
         "4431",
         "45",
         "76",
         "10.275660687725704",
         "1.4581164016671286",
         "9.17544833808467",
         "3.931597491138003"
        ],
        [
         "3386",
         "35",
         "21",
         "11.023813031650235",
         "1.3988767952417838",
         "6.169569369652379",
         "1.7585066039358193"
        ],
        [
         "2376",
         "25",
         "1",
         "11.538064585434029",
         "1.5171784521451208",
         "8.603708050701455",
         "3.4962218725633996"
        ],
        [
         "7886",
         "80",
         "66",
         "11.656328130928763",
         "1.2829545170520922",
         "9.966666316202772",
         "4.131304213526164"
        ],
        [
         "519",
         "6",
         "25",
         "12.16445122413377",
         "1.194966436335991",
         "6.814255791931907",
         "4.543616473951069"
        ],
        [
         "2425",
         "25",
         "50",
         "16.90150735070715",
         "1.3595528041913667",
         "11.599236884122222",
         "6.131959233156362"
        ],
        [
         "3689",
         "38",
         "27",
         "19.565453691421702",
         "1.3633133111267517",
         "7.720045757218129",
         "3.46364260211919"
        ],
        [
         "525",
         "6",
         "31",
         "20.975485227330246",
         "1.0897273494860342",
         "5.047385487907729",
         "3.2552212017256608"
        ],
        [
         "5532",
         "56",
         "88",
         "21.03987376005908",
         "1.5218991168876255",
         "6.703939041185916",
         "1.6639591374850369"
        ],
        [
         "3464",
         "35",
         "99",
         "21.42061411724151",
         "1.3923323368025633",
         "7.179689404982408",
         "2.785138824250353"
        ],
        [
         "9114",
         "93",
         "7",
         "21.769854395879875",
         "1.399318529391103",
         "7.073320507280678",
         "1.7922198803740024"
        ],
        [
         "9309",
         "95",
         "4",
         "27.30915034240202",
         "1.689571265018221",
         "7.66619568337484",
         "2.3986227131084767"
        ],
        [
         "5975",
         "61",
         "36",
         "27.897870070142837",
         "1.5815177065983013",
         "8.027782151914524",
         "2.0367912760873033"
        ],
        [
         "2930",
         "30",
         "60",
         "28.831593451794603",
         "1.2733657479617326",
         "6.057365163537693",
         "3.504900891865269"
        ],
        [
         "3709",
         "38",
         "47",
         "31.52548689060839",
         "1.4805508538357113",
         "4.750336616589697",
         "0.9357731701592442"
        ],
        [
         "6807",
         "69",
         "76",
         "32.585877730538684",
         "1.4144274980831026",
         "4.725445363339817",
         "0.29675770885429387"
        ],
        [
         "6282",
         "64",
         "46",
         "35.060314501183335",
         "1.323161415923818",
         "7.817386428028709",
         "2.8878970445581373"
        ],
        [
         "5371",
         "55",
         "26",
         "35.09618354598598",
         "1.5645022220404563",
         "6.720664610233571",
         "1.5748286153113007"
        ],
        [
         "5444",
         "55",
         "99",
         "35.824982055002216",
         "1.3947238792945638",
         "7.2958509181439934",
         "2.2101395671306516"
        ],
        [
         "5402",
         "55",
         "57",
         "35.9129478895858",
         "1.762056288929363",
         "5.891126390394474",
         "0.8354030610372689"
        ],
        [
         "9098",
         "92",
         "90",
         "36.74260234297803",
         "1.536503648981834",
         "6.5089199342851884",
         "2.587102696537281"
        ],
        [
         "537",
         "6",
         "43",
         "40.16537353102032",
         "1.6446864360513247",
         "8.250669329593798",
         "2.110747923647473"
        ],
        [
         "7020",
         "71",
         "91",
         "41.11142322157323",
         "1.529329931696376",
         "5.677797704372307",
         "2.815763419370633"
        ],
        [
         "3664",
         "38",
         "2",
         "41.805111646230785",
         "1.4451994999524733",
         "5.830692592571645",
         "1.4434042792301618"
        ],
        [
         "576",
         "6",
         "82",
         "43.09210252289407",
         "1.4346501430852048",
         "5.60120215088801",
         "2.600541179704578"
        ],
        [
         "528",
         "6",
         "34",
         "43.192777600549505",
         "1.4064362319691228",
         "5.680328227457972",
         "2.913554220293925"
        ],
        [
         "6032",
         "61",
         "93",
         "44.32384082038609",
         "1.236383675206765",
         "6.100080283013857",
         "2.945758608228754"
        ],
        [
         "8725",
         "89",
         "14",
         "45.84022287732979",
         "1.492999220962426",
         "4.852337510168696",
         "1.9899038647354992"
        ],
        [
         "7361",
         "75",
         "36",
         "46.86463150198149",
         "1.3783988331721848",
         "4.9912379120133314",
         "1.9541919901996359"
        ],
        [
         "5524",
         "56",
         "80",
         "47.68694002269333",
         "1.6106293261922173",
         "10.985327786146753",
         "0.5281633567524935"
        ],
        [
         "184",
         "2",
         "86",
         "48.63198067408772",
         "1.4080103222289322",
         "4.523259791605211",
         "0.6148435322603945"
        ],
        [
         "3891",
         "40",
         "31",
         "48.845358473532976",
         "1.354195423205819",
         "4.636546089514426",
         "1.642323077936716"
        ],
        [
         "580",
         "6",
         "86",
         "49.18368453615185",
         "1.384705699057689",
         "7.695619752584902",
         "2.744719891276297"
        ],
        [
         "3995",
         "41",
         "36",
         "49.58434410337631",
         "1.3121108363917726",
         "4.601921937636459",
         "1.786932078519058"
        ],
        [
         "3718",
         "38",
         "56",
         "49.70096106060743",
         "1.7485069973303085",
         "6.6668593453638945",
         "1.530412226623655"
        ],
        [
         "629",
         "7",
         "36",
         "49.80969736196023",
         "1.562174785415061",
         "3.8928386817904905",
         "1.3115487987955703"
        ],
        [
         "588",
         "6",
         "94",
         "50.104937767413325",
         "1.0393497647473517",
         "5.498836697512295",
         "3.120010416731411"
        ]
       ],
       "shape": {
        "columns": 6,
        "rows": 9801
       }
      },
      "text/html": [
       "<div>\n",
       "<style scoped>\n",
       "    .dataframe tbody tr th:only-of-type {\n",
       "        vertical-align: middle;\n",
       "    }\n",
       "\n",
       "    .dataframe tbody tr th {\n",
       "        vertical-align: top;\n",
       "    }\n",
       "\n",
       "    .dataframe thead th {\n",
       "        text-align: right;\n",
       "    }\n",
       "</style>\n",
       "<table border=\"1\" class=\"dataframe\">\n",
       "  <thead>\n",
       "    <tr style=\"text-align: right;\">\n",
       "      <th></th>\n",
       "      <th>o_random_seed</th>\n",
       "      <th>parameter_random_seed</th>\n",
       "      <th>fitness</th>\n",
       "      <th>cv</th>\n",
       "      <th>mean</th>\n",
       "      <th>median</th>\n",
       "    </tr>\n",
       "  </thead>\n",
       "  <tbody>\n",
       "    <tr>\n",
       "      <th>7903</th>\n",
       "      <td>80</td>\n",
       "      <td>83</td>\n",
       "      <td>-35.333503</td>\n",
       "      <td>1.120586</td>\n",
       "      <td>11.739083</td>\n",
       "      <td>5.013761</td>\n",
       "    </tr>\n",
       "    <tr>\n",
       "      <th>554</th>\n",
       "      <td>6</td>\n",
       "      <td>60</td>\n",
       "      <td>-11.501563</td>\n",
       "      <td>1.230697</td>\n",
       "      <td>8.707243</td>\n",
       "      <td>4.849242</td>\n",
       "    </tr>\n",
       "    <tr>\n",
       "      <th>548</th>\n",
       "      <td>6</td>\n",
       "      <td>54</td>\n",
       "      <td>-11.348729</td>\n",
       "      <td>1.314631</td>\n",
       "      <td>11.554897</td>\n",
       "      <td>3.394198</td>\n",
       "    </tr>\n",
       "    <tr>\n",
       "      <th>6335</th>\n",
       "      <td>64</td>\n",
       "      <td>99</td>\n",
       "      <td>-10.967009</td>\n",
       "      <td>1.418260</td>\n",
       "      <td>10.719108</td>\n",
       "      <td>2.444227</td>\n",
       "    </tr>\n",
       "    <tr>\n",
       "      <th>7411</th>\n",
       "      <td>75</td>\n",
       "      <td>86</td>\n",
       "      <td>-6.879933</td>\n",
       "      <td>1.370995</td>\n",
       "      <td>6.910913</td>\n",
       "      <td>4.250851</td>\n",
       "    </tr>\n",
       "    <tr>\n",
       "      <th>...</th>\n",
       "      <td>...</td>\n",
       "      <td>...</td>\n",
       "      <td>...</td>\n",
       "      <td>...</td>\n",
       "      <td>...</td>\n",
       "      <td>...</td>\n",
       "    </tr>\n",
       "    <tr>\n",
       "      <th>3538</th>\n",
       "      <td>36</td>\n",
       "      <td>74</td>\n",
       "      <td>1127.917296</td>\n",
       "      <td>2.784076</td>\n",
       "      <td>8.990375</td>\n",
       "      <td>0.585685</td>\n",
       "    </tr>\n",
       "    <tr>\n",
       "      <th>4418</th>\n",
       "      <td>45</td>\n",
       "      <td>63</td>\n",
       "      <td>1173.275919</td>\n",
       "      <td>1.955181</td>\n",
       "      <td>13.786861</td>\n",
       "      <td>1.631351</td>\n",
       "    </tr>\n",
       "    <tr>\n",
       "      <th>4383</th>\n",
       "      <td>45</td>\n",
       "      <td>28</td>\n",
       "      <td>1327.515388</td>\n",
       "      <td>1.937048</td>\n",
       "      <td>14.263155</td>\n",
       "      <td>2.072403</td>\n",
       "    </tr>\n",
       "    <tr>\n",
       "      <th>7833</th>\n",
       "      <td>80</td>\n",
       "      <td>13</td>\n",
       "      <td>1388.551956</td>\n",
       "      <td>1.341663</td>\n",
       "      <td>22.318707</td>\n",
       "      <td>7.417626</td>\n",
       "    </tr>\n",
       "    <tr>\n",
       "      <th>7888</th>\n",
       "      <td>80</td>\n",
       "      <td>68</td>\n",
       "      <td>2230.032680</td>\n",
       "      <td>1.684355</td>\n",
       "      <td>20.148357</td>\n",
       "      <td>2.175300</td>\n",
       "    </tr>\n",
       "  </tbody>\n",
       "</table>\n",
       "<p>9801 rows × 6 columns</p>\n",
       "</div>"
      ],
      "text/plain": [
       "      o_random_seed  parameter_random_seed      fitness        cv       mean  \\\n",
       "7903             80                     83   -35.333503  1.120586  11.739083   \n",
       "554               6                     60   -11.501563  1.230697   8.707243   \n",
       "548               6                     54   -11.348729  1.314631  11.554897   \n",
       "6335             64                     99   -10.967009  1.418260  10.719108   \n",
       "7411             75                     86    -6.879933  1.370995   6.910913   \n",
       "...             ...                    ...          ...       ...        ...   \n",
       "3538             36                     74  1127.917296  2.784076   8.990375   \n",
       "4418             45                     63  1173.275919  1.955181  13.786861   \n",
       "4383             45                     28  1327.515388  1.937048  14.263155   \n",
       "7833             80                     13  1388.551956  1.341663  22.318707   \n",
       "7888             80                     68  2230.032680  1.684355  20.148357   \n",
       "\n",
       "        median  \n",
       "7903  5.013761  \n",
       "554   4.849242  \n",
       "548   3.394198  \n",
       "6335  2.444227  \n",
       "7411  4.250851  \n",
       "...        ...  \n",
       "3538  0.585685  \n",
       "4418  1.631351  \n",
       "4383  2.072403  \n",
       "7833  7.417626  \n",
       "7888  2.175300  \n",
       "\n",
       "[9801 rows x 6 columns]"
      ]
     },
     "execution_count": 7,
     "metadata": {},
     "output_type": "execute_result"
    }
   ],
   "source": [
    "search_folder_id = 'exp4_drug_model_search_2'\n",
    "search_result_file_pkl = 'sensitivity_analysis_results.pkl'\n",
    "\n",
    "# import the search results\n",
    "import pickle\n",
    "import pandas as pd\n",
    "search_results = pd.read_pickle(os.path.join(config[\"DATA_PATH\"], search_folder_id, search_result_file_pkl))\n",
    "search_results"
   ]
  },
  {
   "cell_type": "code",
   "execution_count": 8,
   "id": "3e6c7778",
   "metadata": {},
   "outputs": [
    {
     "name": "stdout",
     "output_type": "stream",
     "text": [
      "I:\\My Drive\\DAWSON PHD PROJECT\\Biomarker Data Repository\\data\\new-peak-project\\experiments/exp6_fitness_vs_predictivity_1/\n"
     ]
    }
   ],
   "source": [
    "import os \n",
    "\n",
    "### parameters \n",
    "\n",
    "notebook_name = 'exp6_fitness_vs_predictivity' # name of the notebook\n",
    "exp_id = '1' # name of the experiment\n",
    "\n",
    "## Generation of ground truth model \n",
    "\n",
    "model_name = 'v3_medium_model_15_10'\n",
    "no_observable_species = 15\n",
    "no_feedback_regulations = 10\n",
    "specie_value_range = (5, 5000)\n",
    "param_range = (0.05, 20)\n",
    "param_multiplier_range = (0.5, 1.5)\n",
    "\n",
    "## Simulation parameters \n",
    "\n",
    "simulation_time = 1000 \n",
    "simulation_step = 100\n",
    "\n",
    "## Feature data generation \n",
    "\n",
    "feature_generation_method = 'uniform'\n",
    "feature_generation_extra_params = {'min': 0.1, 'max': 10}\n",
    "feature_generation_size = 1000 \n",
    "feature_generation_seed = 50 # seed for reproducibility\n",
    "\n",
    "## General parameters\n",
    "parallelise = True\n",
    "save_figures = True \n",
    "experiment_id = notebook_name + '_' + exp_id\n",
    "experiment_folder = config['DATA_PATH'] + '/' + experiment_id + '/'\n",
    "if not os.path.exists(experiment_folder):\n",
    "    os.makedirs(experiment_folder)\n",
    "    \n",
    "print(experiment_folder)"
   ]
  },
  {
   "cell_type": "markdown",
   "id": "44a5f3d4",
   "metadata": {},
   "source": [
    "## Analysis"
   ]
  },
  {
   "cell_type": "markdown",
   "id": "c8bbbbee",
   "metadata": {},
   "source": [
    "### Main function to perform the analysis\n"
   ]
  },
  {
   "cell_type": "code",
   "execution_count": null,
   "id": "c128363e",
   "metadata": {},
   "outputs": [],
   "source": [
    "from models.Utils import *\n",
    "from models.DrugModelSpecification import DrugModelSpecification, Drug\n",
    "from models.Solver.RoadrunnerSolver import RoadrunnerSolver\n",
    "from models.SyntheticGen import generate_feature_data, generate_target_data, generate_model_timecourse_data\n",
    "from models.Utils import last_time_point_method, dynamic_features_method\n",
    "cached_result_name = 'cached_result'\n",
    "output_data = []\n",
    "\n",
    "def evaluate_model(model, model_name, feature_data, feature_data_name, target_data ,test_size=0.2, random_state=4):\n",
    "    X_train, X_test, y_train, y_test = train_test_split(feature_data, target_data, test_size=test_size, random_state=random_state)\n",
    "    model.fit(X_train, y_train)\n",
    "    y_pred = model.predict(X_test)\n",
    "    # return a dictionary of the model performance\n",
    "    return {'Model': model_name, \n",
    "            'Feature Data': feature_data_name,\n",
    "            'Mean Squared Error': mean_squared_error(y_test, y_pred),\n",
    "            'R2 Score': r2_score(y_test, y_pred),\n",
    "            'Pearson Correlation': pearsonr(y_test, y_pred)[0],\n",
    "            'Pearson P-Value': pearsonr(y_test, y_pred)[1]\n",
    "            }\n",
    "\n",
    "import warnings \n",
    "warnings.filterwarnings(\"ignore\", category=FutureWarning)\n",
    "\n",
    "# iterate through the search results\n",
    "max_iter = 2\n",
    "curr_iter = 0\n",
    "for index, row in tqdm(search_results.iterrows(), total=max_iter):   \n",
    "    # key parameters for the iteration \n",
    "    o_random_seed, p_random_seed = int(row['o_random_seed']), int(row['parameter_random_seed'])\n",
    "    model_id = index \n",
    "    # check if the result is already cached\n",
    "    if os.path.exists(experiment_folder + cached_result_name + '_' + str(model_id) + '.pkl'):\n",
    "        print(f'Result for {model_id} already cached, will use cached result instead')\n",
    "        output_data.append(pd.read_pickle(experiment_folder + cached_result_name + '_' + str(model_id) + '.pkl'))\n",
    "        continue \n",
    "\n",
    "    # create a drug enabled model \n",
    "    try: \n",
    "        model_drug_spec = DrugModelSpecification()\n",
    "        model_drug_spec.generate_specifications(o_random_seed, no_observable_species, no_feedback_regulations, verbose=0)\n",
    "        drug_0 = Drug('D0', 500, 5000)\n",
    "        np.random.seed(o_random_seed)\n",
    "        # add random 'up' and 'down' regulations to the drug\n",
    "        regulation_dir = []\n",
    "        for i, s in enumerate(model_drug_spec.A_species):\n",
    "            regulation_dir.append(np.random.choice(['up', 'down']))\n",
    "            drug_0.add_regulation(s, 'up')\n",
    "        model_drug_spec.add_drug(drug_0)\n",
    "        G0_d = model_drug_spec.generate_network(f'drug_model_{index}', specie_value_range, param_range, param_multiplier_range, random_seed=p_random_seed, verbose=0)\n",
    "        base_parameters = G0_d.get_parameters()\n",
    "        base_initial_conditions = G0_d.get_state_variables()\n",
    "        # generate feature and target data\n",
    "        solver = RoadrunnerSolver()\n",
    "        solver.compile(G0_d.get_sbml_model())\n",
    "        feature_data = generate_feature_data(model_drug_spec, G0_d.get_state_variables(), feature_generation_method, feature_generation_extra_params, 1000, feature_generation_seed)\n",
    "        target_data, _ = generate_target_data(model_drug_spec, solver, feature_data, {'start': 0, 'end': simulation_time, 'points': simulation_step}, n_cores=8, verbose=False)\n",
    "        \n",
    "        # generate dynamic data, with ground truth model\n",
    "\n",
    "        # generate the timecourse data for the new model\n",
    "        time_course_data = generate_model_timecourse_data(model_drug_spec, \n",
    "                                                        solver, \n",
    "                                                        feature_data, \n",
    "                                                        {'start': 0, 'end': 1000, 'points': 100}, \n",
    "                                                        capture_species='all', n_cores=8, verbose=False)\n",
    "        \n",
    "\n",
    "\n",
    "        # randomise links and parameters by using a different random seed\n",
    "\n",
    "        new_spec = DrugModelSpecification()\n",
    "        new_spec.generate_specifications(6, 15, 10, verbose=0)\n",
    "        drug_0 = Drug('D0', 500, 5000)\n",
    "        drug_0.add_regulation('A0', 'down')\n",
    "        drug_0.add_regulation('A1', 'down')\n",
    "        drug_0.add_regulation('A2', 'down')\n",
    "        new_spec.add_drug(drug_0)\n",
    "        new_model = new_spec.generate_network('drug_model_552', specie_value_range, param_range, param_multiplier_range, random_seed=6, verbose=0)\n",
    "        new_base_parameters = new_model.get_parameters()\n",
    "        new_base_initial_conditions = new_model.get_state_variables()\n",
    "        new_solver = RoadrunnerSolver()\n",
    "        new_solver.compile(new_model.get_sbml_model())\n",
    "        # generate the timecourse data for the new model\n",
    "        time_course_data = generate_model_timecourse_data(new_spec, \n",
    "                                                        new_solver, \n",
    "                                                        feature_data, \n",
    "                                                        {'start': 0, 'end': simulation_time, 'points': 100}, \n",
    "                                                        capture_species='all', n_cores=8, verbose=False)\n",
    "        all_species = new_spec.A_species + new_spec.B_species + new_spec.C_species\n",
    "        all_phos_species = [s+'p' for s in all_species]\n",
    "        # apply the data engineering method to the feature data\n",
    "        last_time_data = last_time_point_method(time_course_data, all_phos_species)\n",
    "        dynamic_data = dynamic_features_method(time_course_data, all_phos_species, n_cores=8, verbose=False)\n",
    "        \n",
    "        # create a linear regression model\n",
    "        lm = LinearRegression()\n",
    "        # create a random forest model\n",
    "        rf = RandomForestRegressor(n_estimators=100, random_state=o_random_seed)\n",
    "        # create a gradient boosting model\n",
    "        gb = GradientBoostingRegressor(n_estimators=100, random_state=o_random_seed)\n",
    "        # create a support vector machine model\n",
    "        svr = SVR(max_iter=10000)\n",
    "        scaled_svr = Pipeline([('scaler', StandardScaler()), ('svr', svr)])\n",
    "        # create a neural network model (simple)\n",
    "        nn = MLPRegressor(hidden_layer_sizes=(20,), max_iter=10000, random_state=o_random_seed)\n",
    "        scaled_nn = Pipeline([('scaler', StandardScaler()), ('nn', nn)])\n",
    "        combined_lp_data = pd.concat([feature_data, last_time_data], axis=1)\n",
    "        combined_dyn_data = pd.concat([feature_data, dynamic_data], axis=1)\n",
    "\n",
    "        feature_data_list = [feature_data, last_time_data, dynamic_data, combined_lp_data, combined_dyn_data]\n",
    "        feature_data_names = ['feature_data', 'last_time_data', 'dynamic_data', 'combined_lp_data', 'combined_dyn_data']\n",
    "        \n",
    "        all_models = [lm, rf, gb, scaled_svr, scaled_nn]\n",
    "        all_models_desc = ['Linear Regression', 'Random Forest', 'Gradient Boosting', 'Support Vector Machine', 'Neural Network']\n",
    "        zipped_model_data = list(zip(all_models, all_models_desc))\n",
    "        all_features = feature_data_list\n",
    "        all_features_desc = feature_data_names\n",
    "        zipped_feature_data = list(zip(all_features, all_features_desc))\n",
    "\n",
    "        # random states are rand ints between 0 and 10000, for n values \n",
    "        np.random.seed(o_random_seed)\n",
    "        n_random = 10\n",
    "        all_random_states = np.random.randint(0, 10000, n_random)\n",
    "        parallelise = True \n",
    "        metric_data = []\n",
    "        # parallelise the model evaluation process using joblib\n",
    "        from joblib import Parallel, delayed\n",
    "\n",
    "        metric_data = Parallel(n_jobs=-1)(delayed(evaluate_model)(model, model_name, feature_data, feature_data_name, target_data['Cp'], random_state=rand) \n",
    "                                        for (feature_data, feature_data_name) in zipped_feature_data\n",
    "                                        for (model, model_name) in zipped_model_data\n",
    "                                        for rand in all_random_states)\n",
    "        \n",
    "        # save metric data to a pandas dataframe\n",
    "        metric_df = pd.DataFrame(metric_data)\n",
    "        # save the metric data to a pickle file\n",
    "        metric_df.to_pickle(experiment_folder + cached_result_name + '_' + str(model_id) + '.pkl')\n",
    "        output_data.append(metric_df)\n",
    "        \n",
    "    except Exception as e:\n",
    "        warnings.warn(f'Error in model {model_id}: {e}')\n",
    "        \n",
    "    curr_iter += 1    \n",
    "    if curr_iter > max_iter:\n",
    "        print('Max iterations reached, stopping...')\n",
    "        break"
   ]
  },
  {
   "cell_type": "code",
   "execution_count": null,
   "id": "74be2670",
   "metadata": {},
   "outputs": [],
   "source": [
    "# cache all of the data into a single file\n",
    "import pickle\n",
    "with open(experiment_folder + 'cached_result.pkl', 'wb') as f:\n",
    "    pickle.dump(output_data, f)"
   ]
  },
  {
   "cell_type": "code",
   "execution_count": null,
   "id": "4a6b709c",
   "metadata": {},
   "outputs": [],
   "source": [
    "# load the cached data\n",
    "with open(experiment_folder + 'cached_result.pkl', 'rb') as f:\n",
    "    output_data = pickle.load(f)\n",
    "if len(output_data) == search_results.shape[0]: \n",
    "    # delete all cache data in experiment_folder\n",
    "    for index, row in search_results.iterrows():\n",
    "        os.remove(experiment_folder + cached_result_name + '_' + str(index) + '.pkl')"
   ]
  }
 ],
 "metadata": {
  "kernelspec": {
   "display_name": ".venv",
   "language": "python",
   "name": "python3"
  },
  "language_info": {
   "codemirror_mode": {
    "name": "ipython",
    "version": 3
   },
   "file_extension": ".py",
   "mimetype": "text/x-python",
   "name": "python",
   "nbconvert_exporter": "python",
   "pygments_lexer": "ipython3",
   "version": "3.12.6"
  }
 },
 "nbformat": 4,
 "nbformat_minor": 5
}
