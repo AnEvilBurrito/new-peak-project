{
 "cells": [
  {
   "cell_type": "markdown",
   "id": "45dafa06",
   "metadata": {},
   "source": [
    "## Init"
   ]
  },
  {
   "cell_type": "code",
   "execution_count": 1,
   "id": "6ea03259",
   "metadata": {},
   "outputs": [
    {
     "name": "stdout",
     "output_type": "stream",
     "text": [
      "Project path set to: c:\\Users\\dawson\\Documents\\GitHub\\new-peak-project\\src\n"
     ]
    }
   ],
   "source": [
    "import os\n",
    "\n",
    "path = os.getcwd()\n",
    "# find the string 'project' in the path, return index\n",
    "index_project = path.find('project')\n",
    "# slice the path from the index of 'project' to the end\n",
    "project_path = path[:index_project+7]\n",
    "# set the working directory\n",
    "os.chdir(project_path+'/src')\n",
    "print(f'Project path set to: {os.getcwd()}')"
   ]
  },
  {
   "cell_type": "code",
   "execution_count": 2,
   "id": "cdab0f01",
   "metadata": {},
   "outputs": [
    {
     "name": "stdout",
     "output_type": "stream",
     "text": [
      "C:\\Users\\dawson\\Documents\\Google Drive\\My Drive\\DAWSON PHD PROJECT\\Biomarker Data Repository\\data\\new-peak-project\\experiments\n"
     ]
    }
   ],
   "source": [
    "from dotenv import dotenv_values\n",
    "config = dotenv_values(\".env\")\n",
    "print(config[\"DATA_PATH\"])"
   ]
  },
  {
   "cell_type": "code",
   "execution_count": 3,
   "id": "9927c1c4",
   "metadata": {},
   "outputs": [],
   "source": [
    "from models.ModelBuilder import ModelBuilder\n",
    "from models.Reaction import Reaction\n",
    "from models.ReactionArchtype import ReactionArchtype\n",
    "from models.ArchtypeCollections import *\n",
    "\n",
    "# import scikit-learn\n",
    "from sklearn.linear_model import LinearRegression\n",
    "# tree models and support vector machines\n",
    "from sklearn.ensemble import RandomForestRegressor\n",
    "from sklearn.ensemble import GradientBoostingRegressor\n",
    "from sklearn.svm import SVR\n",
    "from sklearn.neural_network import MLPRegressor\n",
    "from sklearn.model_selection import train_test_split\n",
    "from sklearn.metrics import mean_squared_error, r2_score\n",
    "# import pearson correlation\n",
    "from scipy.stats import pearsonr\n",
    "from sklearn.preprocessing import StandardScaler\n",
    "from sklearn.pipeline import Pipeline\n",
    "\n",
    "from copy import deepcopy"
   ]
  },
  {
   "cell_type": "markdown",
   "id": "9ba9afad",
   "metadata": {},
   "source": [
    "## Notebook Parameters"
   ]
  },
  {
   "cell_type": "markdown",
   "id": "c3eef2cf",
   "metadata": {},
   "source": [
    "Aim is to discover feature datasets which is predictive for the drug target (>0.5 pearson correlation between predicted to actual)."
   ]
  },
  {
   "cell_type": "code",
   "execution_count": 4,
   "id": "aa1b09ec",
   "metadata": {},
   "outputs": [
    {
     "name": "stdout",
     "output_type": "stream",
     "text": [
      "C:\\Users\\dawson\\Documents\\Google Drive\\My Drive\\DAWSON PHD PROJECT\\Biomarker Data Repository\\data\\new-peak-project\\experiments/exp11_model_search_1/\n"
     ]
    }
   ],
   "source": [
    "import os \n",
    "import numpy as np\n",
    "\n",
    "### parameters \n",
    "\n",
    "notebook_name = 'exp11_model_search' # name of the notebook\n",
    "try_seeds = []\n",
    "for i in range(1, 101):\n",
    "    try_seeds.append(i)\n",
    "    \n",
    "\n",
    "## Generation of ground truth model \n",
    "\n",
    "model_name = 'v4_drug_model' # name of the model\n",
    "# p_overall_seed = 46 # different seed for parameter generation\n",
    "no_observable_species = 5\n",
    "no_feedback_regulations = 2\n",
    "specie_value_range = (1000, 5000)\n",
    "param_range = (0.05, 20)\n",
    "param_multiplier_range = (0.5, 1.5)\n",
    "\n",
    "## Simulation parameters \n",
    "\n",
    "simulation_time = 1000 \n",
    "simulation_step = 100\n",
    "\n",
    "## Feature data generation \n",
    "\n",
    "feature_generation_method = 'lhs'\n",
    "feature_generation_extra_params = {'min': 0.1, 'max': 10}\n",
    "feature_generation_size = 1000 \n",
    "feature_generation_seed = 50 # if -1 then 'o_random_seed' is used\n",
    "\n",
    "\n",
    "'''\n",
    "Options: \n",
    "- 'feedback_prune': removes feedback regulations from the model \n",
    "- 'random parameter': randomizes a x% of parameter values of the model\n",
    "'''\n",
    "\n",
    "''' \n",
    "Options: \n",
    "- 'last_time_point' : only the last time point of the phosphorylated species is used\n",
    "- 'dynamic_feature': computes the characteristic 'ten' dynamic feature for each specie data \n",
    "'''\n",
    "\n",
    "## General parameters\n",
    "parallelise = True\n",
    "save_figures = True \n",
    "exp_id = '1'\n",
    "experiment_id = notebook_name + '_' + str(exp_id)\n",
    "experiment_folder = config['DATA_PATH'] + '/' + experiment_id + '/'\n",
    "if not os.path.exists(experiment_folder):\n",
    "    os.makedirs(experiment_folder)\n",
    "    \n",
    "print(experiment_folder)"
   ]
  },
  {
   "cell_type": "markdown",
   "id": "f4ed3292",
   "metadata": {},
   "source": [
    "## Compute"
   ]
  },
  {
   "cell_type": "code",
   "execution_count": 5,
   "id": "1db9e67e",
   "metadata": {},
   "outputs": [
    {
     "name": "stdout",
     "output_type": "stream",
     "text": [
      "Experiment ID:  exp11_model_search_1\n",
      "Experiment folder:  C:\\Users\\dawson\\Documents\\Google Drive\\My Drive\\DAWSON PHD PROJECT\\Biomarker Data Repository\\data\\new-peak-project\\experiments/exp11_model_search_1/\n",
      "Tried seeds:  [1, 2, 3, 4, 5, 6, 7, 8, 9, 10, 11, 12, 13, 14, 15, 16, 17, 18, 19, 20, 21, 22, 23, 24, 25, 26, 27, 28, 29, 30, 31, 32, 33, 34, 35, 36, 37, 38, 39, 40, 41, 42, 43, 44, 45, 46, 47, 48, 49, 50, 51, 52, 53, 54, 55, 56, 57, 58, 59, 60, 61, 62, 63, 64, 65, 66, 67, 68, 69, 70, 71, 72, 73, 74, 75, 76, 77, 78, 79, 80, 81, 82, 83, 84, 85, 86, 87, 88, 89, 90, 91, 92, 93, 94, 95, 96, 97, 98, 99, 100]\n"
     ]
    }
   ],
   "source": [
    "print('Experiment ID: ', experiment_id)\n",
    "print('Experiment folder: ', experiment_folder)\n",
    "print('Tried seeds: ', try_seeds)"
   ]
  },
  {
   "cell_type": "code",
   "execution_count": 6,
   "id": "20366889",
   "metadata": {},
   "outputs": [
    {
     "name": "stderr",
     "output_type": "stream",
     "text": [
      "100%|██████████| 100/100 [1:31:00<00:00, 54.61s/it]\n"
     ]
    }
   ],
   "source": [
    "### Virtual Cell Creation\n",
    "# create a drug enabled model \n",
    "from models.Utils import *\n",
    "from models.DrugModelSpecification import DrugModelSpecification, Drug\n",
    "from models.Solver.RoadrunnerSolver import RoadrunnerSolver\n",
    "from models.Solver.ScipySolver import ScipySolver\n",
    "from models.SyntheticGen import generate_feature_data_v2, generate_target_data_diff_build\n",
    "from models.SyntheticGen import generate_model_timecourse_data_diff_build\n",
    "from models.Utils import last_time_point_method, dynamic_features_method\n",
    "from joblib import Parallel, delayed\n",
    "import pickle\n",
    "from tqdm import tqdm\n",
    "\n",
    "def parallel_func(j, seed):\n",
    "    model_drug_spec = DrugModelSpecification()\n",
    "    model_drug_spec.generate_specifications(seed, no_observable_species, no_feedback_regulations, verbose=0)\n",
    "    drug_0 = Drug('D0', 500, 500)\n",
    "    rng = np.random.default_rng(seed)\n",
    "    # add random 'up' and 'down' regulations to the drug\n",
    "    regulation_dir = []\n",
    "    for i, s in enumerate(model_drug_spec.A_species):\n",
    "        reg_type = str(rng.choice(['up', 'down']))\n",
    "        regulation_dir.append(reg_type)\n",
    "        drug_0.add_regulation(s, reg_type)\n",
    "    model_drug_spec.add_drug(drug_0)\n",
    "    # print(model_drug_spec)\n",
    "    # print(f'Feedback: {model_drug_spec.get_feedback_regulations()}')\n",
    "\n",
    "    p_random_seeds = []\n",
    "    feature_size = 1000 \n",
    "    rng = np.random.default_rng(seed)\n",
    "    # generate `feature_size` random seeds for different parameter sets using numpy, ensure that the seeds are unique\n",
    "    p_random_seeds = rng.choice(range(1000000), feature_size, replace=False).tolist()\n",
    "\n",
    "    G0_d = model_drug_spec.generate_network('drug_model_524', \n",
    "                                            specie_value_range, \n",
    "                                            param_range, \n",
    "                                            param_multiplier_range,  \n",
    "                                            verbose=0,\n",
    "                                            random_seed=p_random_seeds[0])\n",
    "    base_parameters = G0_d.get_parameters()\n",
    "    base_initial_conditions = G0_d.get_state_variables()\n",
    "\n",
    "    # print(G0_d.get_antimony_model())\n",
    "\n",
    "\n",
    "    # generate parameter sets for each random seed\n",
    "    parameter_sets = []\n",
    "    for p in p_random_seeds: \n",
    "        model_build = model_drug_spec.generate_network(f'param_seed_{p}', \n",
    "                                                specie_value_range, param_range, param_multiplier_range, random_seed=p, verbose=0)\n",
    "        parameter_sets.append(model_build.get_parameters())\n",
    "        \n",
    "    # test simulation \n",
    "\n",
    "\n",
    "\n",
    "    solver = ScipySolver()\n",
    "    solver.compile(G0_d.get_antimony_model())\n",
    "    # result = solver.simulate(0, 1000, 100)\n",
    "\n",
    "\n",
    "\n",
    "    feature_data = generate_feature_data_v2(model_drug_spec, base_initial_conditions, feature_generation_method, feature_generation_extra_params, 1000, feature_generation_seed)\n",
    "    target_data, _ = generate_target_data_diff_build(model_drug_spec, solver, \n",
    "                                                    feature_data, parameter_sets, \n",
    "                                                    {'start': 0, 'end': 1000, 'points': 100}, \n",
    "                                                    n_cores=-1, verbose=False)\n",
    "\n",
    "\n",
    "    # create a dataframe with the feature data and target data\n",
    "    feature_data_df = pd.DataFrame(feature_data)\n",
    "    target_data_df = pd.DataFrame(target_data)\n",
    "    # add the target data to the feature data\n",
    "    feature_data_df['target'] = target_data_df['Cp']\n",
    "\n",
    "    # calculate the correlation between the features and the target data\n",
    "    correlation = feature_data_df.corr()['target'].sort_values(ascending=False)\n",
    "    # create a dataframe with the correlation values\n",
    "    correlation_df = pd.DataFrame(correlation)\n",
    "    correlation_df = correlation_df.reset_index()\n",
    "    correlation_df.columns = ['feature', 'correlation']\n",
    "    # do not include the target data in the correlation dataframe\n",
    "    correlation_df = correlation_df[correlation_df['feature'] != 'target']\n",
    "    mean = np.mean(correlation_df['correlation'])\n",
    "    std = np.std(correlation_df['correlation'])\n",
    "    max_val = np.max(correlation_df['correlation'])\n",
    "    min_val = np.min(correlation_df['correlation'])\n",
    "    outliers = correlation_df[(correlation_df['correlation'] > mean + 3*std) | (correlation_df['correlation'] < mean - 3*std)]\n",
    "    outliers_ratio = outliers.shape[0] / correlation_df.shape[0]\n",
    "    \n",
    "    # build a dataframe based on the above values\n",
    "    data = {\n",
    "        'seed': seed,\n",
    "        'mean': mean,\n",
    "        'std': std,\n",
    "        'max': max_val,\n",
    "        'min': min_val,\n",
    "        'outliers_ratio': outliers_ratio,\n",
    "    }\n",
    "    return data \n",
    "    \n",
    "output_data = []\n",
    "for i, seed in tqdm(enumerate(try_seeds), total=len(try_seeds)):\n",
    "    # print(f'Running seed {i+1}/{len(try_seeds)}: {seed}')\n",
    "    data = parallel_func(i, seed)\n",
    "    output_data.append(data)\n",
    "    \n"
   ]
  },
  {
   "cell_type": "code",
   "execution_count": 7,
   "id": "3e3dbcf1",
   "metadata": {},
   "outputs": [],
   "source": [
    "# make a dataframe from the output data\n",
    "output_data_df = pd.DataFrame(output_data)"
   ]
  },
  {
   "cell_type": "code",
   "execution_count": 8,
   "id": "c8b1d17a",
   "metadata": {},
   "outputs": [
    {
     "data": {
      "application/vnd.microsoft.datawrangler.viewer.v0+json": {
       "columns": [
        {
         "name": "index",
         "rawType": "int64",
         "type": "integer"
        },
        {
         "name": "seed",
         "rawType": "int64",
         "type": "integer"
        },
        {
         "name": "mean",
         "rawType": "float64",
         "type": "float"
        },
        {
         "name": "std",
         "rawType": "float64",
         "type": "float"
        },
        {
         "name": "max",
         "rawType": "float64",
         "type": "float"
        },
        {
         "name": "min",
         "rawType": "float64",
         "type": "float"
        },
        {
         "name": "outliers_ratio",
         "rawType": "float64",
         "type": "float"
        }
       ],
       "conversionMethod": "pd.DataFrame",
       "ref": "418f463c-35fe-4617-a332-a04aa7af374f",
       "rows": [
        [
         "0",
         "1",
         "0.013839140812693695",
         "0.049040919898516507",
         "0.05878850689724882",
         "-0.12096052475707213",
         "0.0"
        ],
        [
         "1",
         "2",
         "-0.028276695544585385",
         "0.0706007192721686",
         "0.05858855099731513",
         "-0.1935533768485745",
         "0.0"
        ],
        [
         "2",
         "3",
         "0.03218383107834387",
         "0.035740350958907735",
         "0.08462108096776746",
         "-0.04357392508278828",
         "0.0"
        ],
        [
         "3",
         "4",
         "-0.06419312034787802",
         "0.14379884323053388",
         "0.06370979136528498",
         "-0.289205019533866",
         "0.0"
        ],
        [
         "4",
         "5",
         "-0.0043874592737966275",
         "0.07010850663416326",
         "0.11528917623957842",
         "-0.14342944740268898",
         "0.0"
        ],
        [
         "5",
         "6",
         "-0.03700924242725844",
         "0.046238044144316565",
         "0.040048376787793216",
         "-0.12301359507653191",
         "0.0"
        ],
        [
         "6",
         "7",
         "-0.0265471379690697",
         "0.08892795565340078",
         "0.07358100305048706",
         "-0.20542264350312786",
         "0.0"
        ],
        [
         "7",
         "8",
         "-0.007258712364366049",
         "0.059414957279042314",
         "0.11106506012741019",
         "-0.09571323362948031",
         "0.0"
        ],
        [
         "8",
         "9",
         "0.006678756922161397",
         "0.050935914016161675",
         "0.09122035918459258",
         "-0.07900889080664872",
         "0.0"
        ],
        [
         "9",
         "10",
         "0.010061193951654446",
         "0.049213298226508856",
         "0.08423175830800243",
         "-0.055132962995752995",
         "0.0"
        ],
        [
         "10",
         "11",
         "-0.004837882388452054",
         "0.06747879743564443",
         "0.07779527516140881",
         "-0.14334521834227423",
         "0.0"
        ],
        [
         "11",
         "12",
         "-0.022406351822597016",
         "0.05706859893958006",
         "0.058669403500673",
         "-0.14229532740939402",
         "0.0"
        ],
        [
         "12",
         "13",
         "0.020362632196206033",
         "0.04873557296890812",
         "0.07356356616646371",
         "-0.0786056591193814",
         "0.0"
        ],
        [
         "13",
         "14",
         "-0.02820291811630754",
         "0.057807006307291714",
         "0.041843184378656154",
         "-0.14371991177860807",
         "0.0"
        ],
        [
         "14",
         "15",
         "-0.06149983754986008",
         "0.09520694075198703",
         "0.028097039326674508",
         "-0.2644388634610347",
         "0.0"
        ],
        [
         "15",
         "16",
         "0.0061663733908520185",
         "0.03596988382208632",
         "0.05557173454053079",
         "-0.05981785366675058",
         "0.0"
        ],
        [
         "16",
         "17",
         "-0.03363771294807792",
         "0.08350830320500184",
         "0.06787123121288823",
         "-0.2393524450771167",
         "0.0"
        ],
        [
         "17",
         "18",
         "0.02660708470298227",
         "0.043026321468256384",
         "0.10769783093936199",
         "-0.0471087680600778",
         "0.0"
        ],
        [
         "18",
         "19",
         "0.0214704332843666",
         "0.03747184951759525",
         "0.0807644589055669",
         "-0.02560341615378367",
         "0.0"
        ],
        [
         "19",
         "20",
         "-0.09030701083665083",
         "0.08832725610324259",
         "0.031963653100587804",
         "-0.2585710897130556",
         "0.0"
        ],
        [
         "20",
         "21",
         "-0.03984580720288116",
         "0.06855929366047873",
         "0.027690489289836494",
         "-0.23049475470550118",
         "0.0"
        ],
        [
         "21",
         "22",
         "-0.11023770694690668",
         "0.1122185911840916",
         "0.0457479817186387",
         "-0.2778409941497622",
         "0.0"
        ],
        [
         "22",
         "23",
         "-0.0169917351088228",
         "0.04086435549269867",
         "0.043139399399667336",
         "-0.09218635992082579",
         "0.0"
        ],
        [
         "23",
         "24",
         "-0.11580877323677378",
         "0.09393367694930854",
         "-0.012354909870164806",
         "-0.293407822137231",
         "0.0"
        ],
        [
         "24",
         "25",
         "0.005118531079455567",
         "0.049371302798833935",
         "0.0964546449099614",
         "-0.0794418133644524",
         "0.0"
        ],
        [
         "25",
         "26",
         "0.0005364395370744971",
         "0.047508243430142455",
         "0.09473442551828745",
         "-0.09768250968212093",
         "0.0"
        ],
        [
         "26",
         "27",
         "-0.03156870503678039",
         "0.060583119666136664",
         "0.027947107157195717",
         "-0.16686320762384188",
         "0.0"
        ],
        [
         "27",
         "28",
         "0.00495839778746056",
         "0.042369469073341",
         "0.060733089518491684",
         "-0.08522794219450146",
         "0.0"
        ],
        [
         "28",
         "29",
         "-0.009157966119105966",
         "0.05335233212513385",
         "0.04475511683899563",
         "-0.11156108317303456",
         "0.0"
        ],
        [
         "29",
         "30",
         "-0.04185811671946568",
         "0.06253313217422311",
         "0.03103730395116848",
         "-0.16352143170605288",
         "0.0"
        ],
        [
         "30",
         "31",
         "-0.09620401663687134",
         "0.106561503780016",
         "0.0743670036855222",
         "-0.23858821899569113",
         "0.0"
        ],
        [
         "31",
         "32",
         "-0.07157542526373992",
         "0.10713212047349159",
         "0.05221689526527451",
         "-0.28921591644264866",
         "0.0"
        ],
        [
         "32",
         "33",
         "-0.08861039858708437",
         "0.10112099680232506",
         "0.02103402956673546",
         "-0.29467006616354224",
         "0.0"
        ],
        [
         "33",
         "34",
         "-0.10006559652357769",
         "0.08277256138483399",
         "0.029995932316319886",
         "-0.18799588472605921",
         "0.0"
        ],
        [
         "34",
         "35",
         "-0.11036466506708058",
         "0.08437181872927636",
         "0.00172896707749492",
         "-0.26894083948683606",
         "0.0"
        ],
        [
         "35",
         "36",
         "0.01761516838332442",
         "0.03195260435398739",
         "0.06212574682543881",
         "-0.03267548787645522",
         "0.0"
        ],
        [
         "36",
         "37",
         "0.01980687022987708",
         "0.035136336215083816",
         "0.08743596500719361",
         "-0.035974375497250834",
         "0.0"
        ],
        [
         "37",
         "38",
         "-0.020154785642644626",
         "0.047507683783492995",
         "0.0226928977605754",
         "-0.1546034071773552",
         "0.0"
        ],
        [
         "38",
         "39",
         "-0.002410705808123953",
         "0.05041639779092667",
         "0.05763192998517405",
         "-0.13115647075221024",
         "0.0"
        ],
        [
         "39",
         "40",
         "-0.032954084840137475",
         "0.09200992849397696",
         "0.047842558717270355",
         "-0.2685226048180251",
         "0.0"
        ],
        [
         "40",
         "41",
         "-0.023000863325934713",
         "0.06390185869558464",
         "0.060978365785477405",
         "-0.16879060265535775",
         "0.0"
        ],
        [
         "41",
         "42",
         "-0.08495638579823833",
         "0.09222439093372872",
         "0.028920195441185858",
         "-0.24186028399536932",
         "0.0"
        ],
        [
         "42",
         "43",
         "-0.09118604635743709",
         "0.13275810538444177",
         "0.06672051869494121",
         "-0.3304839308158968",
         "0.0"
        ],
        [
         "43",
         "44",
         "-0.096655414835176",
         "0.1089817607794854",
         "0.04808065563579151",
         "-0.26657665022727806",
         "0.0"
        ],
        [
         "44",
         "45",
         "0.00024070370998332535",
         "0.04858122565914707",
         "0.07896589769849283",
         "-0.07485881923057025",
         "0.0"
        ],
        [
         "45",
         "46",
         "-0.09847548782560445",
         "0.11336108832435315",
         "0.08480127155898297",
         "-0.2814013020166605",
         "0.0"
        ],
        [
         "46",
         "47",
         "-0.1054150765106894",
         "0.1062254919040896",
         "0.04129174211084256",
         "-0.26142750136205584",
         "0.0"
        ],
        [
         "47",
         "48",
         "-0.09377433302950122",
         "0.10063838109763815",
         "0.044991629893071566",
         "-0.2803550291888714",
         "0.0"
        ],
        [
         "48",
         "49",
         "-0.007587515436802951",
         "0.05718770591511065",
         "0.06414625870633976",
         "-0.09940956147640197",
         "0.0"
        ],
        [
         "49",
         "50",
         "-0.05051306910188631",
         "0.08488685776897914",
         "0.029010530601493945",
         "-0.1830068737902142",
         "0.0"
        ]
       ],
       "shape": {
        "columns": 6,
        "rows": 100
       }
      },
      "text/html": [
       "<div>\n",
       "<style scoped>\n",
       "    .dataframe tbody tr th:only-of-type {\n",
       "        vertical-align: middle;\n",
       "    }\n",
       "\n",
       "    .dataframe tbody tr th {\n",
       "        vertical-align: top;\n",
       "    }\n",
       "\n",
       "    .dataframe thead th {\n",
       "        text-align: right;\n",
       "    }\n",
       "</style>\n",
       "<table border=\"1\" class=\"dataframe\">\n",
       "  <thead>\n",
       "    <tr style=\"text-align: right;\">\n",
       "      <th></th>\n",
       "      <th>seed</th>\n",
       "      <th>mean</th>\n",
       "      <th>std</th>\n",
       "      <th>max</th>\n",
       "      <th>min</th>\n",
       "      <th>outliers_ratio</th>\n",
       "    </tr>\n",
       "  </thead>\n",
       "  <tbody>\n",
       "    <tr>\n",
       "      <th>0</th>\n",
       "      <td>1</td>\n",
       "      <td>0.013839</td>\n",
       "      <td>0.049041</td>\n",
       "      <td>0.058789</td>\n",
       "      <td>-0.120961</td>\n",
       "      <td>0.0</td>\n",
       "    </tr>\n",
       "    <tr>\n",
       "      <th>1</th>\n",
       "      <td>2</td>\n",
       "      <td>-0.028277</td>\n",
       "      <td>0.070601</td>\n",
       "      <td>0.058589</td>\n",
       "      <td>-0.193553</td>\n",
       "      <td>0.0</td>\n",
       "    </tr>\n",
       "    <tr>\n",
       "      <th>2</th>\n",
       "      <td>3</td>\n",
       "      <td>0.032184</td>\n",
       "      <td>0.035740</td>\n",
       "      <td>0.084621</td>\n",
       "      <td>-0.043574</td>\n",
       "      <td>0.0</td>\n",
       "    </tr>\n",
       "    <tr>\n",
       "      <th>3</th>\n",
       "      <td>4</td>\n",
       "      <td>-0.064193</td>\n",
       "      <td>0.143799</td>\n",
       "      <td>0.063710</td>\n",
       "      <td>-0.289205</td>\n",
       "      <td>0.0</td>\n",
       "    </tr>\n",
       "    <tr>\n",
       "      <th>4</th>\n",
       "      <td>5</td>\n",
       "      <td>-0.004387</td>\n",
       "      <td>0.070109</td>\n",
       "      <td>0.115289</td>\n",
       "      <td>-0.143429</td>\n",
       "      <td>0.0</td>\n",
       "    </tr>\n",
       "    <tr>\n",
       "      <th>...</th>\n",
       "      <td>...</td>\n",
       "      <td>...</td>\n",
       "      <td>...</td>\n",
       "      <td>...</td>\n",
       "      <td>...</td>\n",
       "      <td>...</td>\n",
       "    </tr>\n",
       "    <tr>\n",
       "      <th>95</th>\n",
       "      <td>96</td>\n",
       "      <td>-0.006401</td>\n",
       "      <td>0.038275</td>\n",
       "      <td>0.053404</td>\n",
       "      <td>-0.067344</td>\n",
       "      <td>0.0</td>\n",
       "    </tr>\n",
       "    <tr>\n",
       "      <th>96</th>\n",
       "      <td>97</td>\n",
       "      <td>-0.007219</td>\n",
       "      <td>0.048212</td>\n",
       "      <td>0.118273</td>\n",
       "      <td>-0.060487</td>\n",
       "      <td>0.0</td>\n",
       "    </tr>\n",
       "    <tr>\n",
       "      <th>97</th>\n",
       "      <td>98</td>\n",
       "      <td>0.006225</td>\n",
       "      <td>0.051514</td>\n",
       "      <td>0.063860</td>\n",
       "      <td>-0.105977</td>\n",
       "      <td>0.0</td>\n",
       "    </tr>\n",
       "    <tr>\n",
       "      <th>98</th>\n",
       "      <td>99</td>\n",
       "      <td>0.023616</td>\n",
       "      <td>0.035269</td>\n",
       "      <td>0.072417</td>\n",
       "      <td>-0.035673</td>\n",
       "      <td>0.0</td>\n",
       "    </tr>\n",
       "    <tr>\n",
       "      <th>99</th>\n",
       "      <td>100</td>\n",
       "      <td>0.004835</td>\n",
       "      <td>0.072641</td>\n",
       "      <td>0.111611</td>\n",
       "      <td>-0.122913</td>\n",
       "      <td>0.0</td>\n",
       "    </tr>\n",
       "  </tbody>\n",
       "</table>\n",
       "<p>100 rows × 6 columns</p>\n",
       "</div>"
      ],
      "text/plain": [
       "    seed      mean       std       max       min  outliers_ratio\n",
       "0      1  0.013839  0.049041  0.058789 -0.120961             0.0\n",
       "1      2 -0.028277  0.070601  0.058589 -0.193553             0.0\n",
       "2      3  0.032184  0.035740  0.084621 -0.043574             0.0\n",
       "3      4 -0.064193  0.143799  0.063710 -0.289205             0.0\n",
       "4      5 -0.004387  0.070109  0.115289 -0.143429             0.0\n",
       "..   ...       ...       ...       ...       ...             ...\n",
       "95    96 -0.006401  0.038275  0.053404 -0.067344             0.0\n",
       "96    97 -0.007219  0.048212  0.118273 -0.060487             0.0\n",
       "97    98  0.006225  0.051514  0.063860 -0.105977             0.0\n",
       "98    99  0.023616  0.035269  0.072417 -0.035673             0.0\n",
       "99   100  0.004835  0.072641  0.111611 -0.122913             0.0\n",
       "\n",
       "[100 rows x 6 columns]"
      ]
     },
     "execution_count": 8,
     "metadata": {},
     "output_type": "execute_result"
    }
   ],
   "source": [
    "output_data_df"
   ]
  },
  {
   "cell_type": "markdown",
   "id": "835f9c4b",
   "metadata": {},
   "source": [
    "## Analysis"
   ]
  }
 ],
 "metadata": {
  "kernelspec": {
   "display_name": ".venv",
   "language": "python",
   "name": "python3"
  },
  "language_info": {
   "codemirror_mode": {
    "name": "ipython",
    "version": 3
   },
   "file_extension": ".py",
   "mimetype": "text/x-python",
   "name": "python",
   "nbconvert_exporter": "python",
   "pygments_lexer": "ipython3",
   "version": "3.12.10"
  }
 },
 "nbformat": 4,
 "nbformat_minor": 5
}
