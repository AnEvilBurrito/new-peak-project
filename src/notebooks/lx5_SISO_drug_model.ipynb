{
 "cells": [
  {
   "cell_type": "markdown",
   "metadata": {},
   "source": [
    "# Drug Targeting different nodes of the 524 cascade system"
   ]
  },
  {
   "cell_type": "markdown",
   "metadata": {},
   "source": [
    "## Init"
   ]
  },
  {
   "cell_type": "code",
   "execution_count": 17,
   "metadata": {},
   "outputs": [
    {
     "name": "stdout",
     "output_type": "stream",
     "text": [
      "Project path set to: c:\\Github\\new-peak-project\\src\n"
     ]
    }
   ],
   "source": [
    "import os\n",
    "\n",
    "path = os.getcwd()\n",
    "# find the string 'project' in the path, return index\n",
    "index_project = path.find('project')\n",
    "# slice the path from the index of 'project' to the end\n",
    "project_path = path[:index_project+7]\n",
    "# set the working directory\n",
    "os.chdir(project_path+'\\src')\n",
    "print(f'Project path set to: {os.getcwd()}')"
   ]
  },
  {
   "cell_type": "code",
   "execution_count": 18,
   "metadata": {},
   "outputs": [
    {
     "name": "stdout",
     "output_type": "stream",
     "text": [
      "I:\\My Drive\\DAWSON PHD PROJECT\\Biomarker Data Repository\\data\\new-peak-project\\experiments\n"
     ]
    }
   ],
   "source": [
    "from dotenv import dotenv_values\n",
    "config = dotenv_values(\".env\")\n",
    "print(config[\"DATA_PATH\"])"
   ]
  },
  {
   "cell_type": "code",
   "execution_count": 19,
   "metadata": {},
   "outputs": [],
   "source": [
    "from models.ModelBuilder import ModelBuilder\n",
    "from models.Reaction import Reaction\n",
    "from models.ReactionArchtype import ReactionArchtype\n",
    "from models.ArchtypeCollections import *\n",
    "from models.Utils import *\n",
    "\n",
    "import matplotlib.pyplot as plt\n",
    "import seaborn as sns\n",
    "import roadrunner\n",
    "import numpy as np\n",
    "import pandas as pd\n",
    "\n",
    "# import scikit-learn\n",
    "from sklearn.linear_model import LinearRegression\n",
    "# tree models and support vector machines\n",
    "from sklearn.ensemble import RandomForestRegressor\n",
    "from sklearn.ensemble import GradientBoostingRegressor\n",
    "from sklearn.svm import SVR\n",
    "from sklearn.neural_network import MLPRegressor\n",
    "from sklearn.model_selection import train_test_split\n",
    "from sklearn.metrics import mean_squared_error, r2_score\n",
    "# import pearson correlation\n",
    "from scipy.stats import pearsonr\n",
    "from sklearn.preprocessing import StandardScaler\n",
    "from sklearn.pipeline import Pipeline\n",
    "\n",
    "from copy import deepcopy"
   ]
  },
  {
   "cell_type": "code",
   "execution_count": 20,
   "metadata": {},
   "outputs": [
    {
     "name": "stdout",
     "output_type": "stream",
     "text": [
      "I:\\My Drive\\DAWSON PHD PROJECT\\Biomarker Data Repository\\data\\new-peak-project\\experiments/SISO_Drug_Model_4_50/\n"
     ]
    }
   ],
   "source": [
    "import os \n",
    "\n",
    "### parameters \n",
    "\n",
    "notebook_name = 'SISO_Drug_Model'\n",
    "plot_figures = True\n",
    "run_jobs = False\n",
    "parallelise = True\n",
    "save_figures = True\n",
    "\n",
    "## Generation of ground truth model \n",
    "\n",
    "model_name = 'v3_small_model_52'\n",
    "o_random_seed = 4\n",
    "no_observable_species = 5\n",
    "no_feedback_regulations = 2\n",
    "specie_value_range = (5, 5000)\n",
    "param_range = (0.1, 10)\n",
    "param_multiplier_range = (0.7, 1.3)\n",
    "\n",
    "\n",
    "## Simulation parameters \n",
    "\n",
    "simulation_time = 1500\n",
    "simulation_step = 100\n",
    "\n",
    "## Feature data generation \n",
    "\n",
    "feature_generation_method = 'uniform'\n",
    "feature_generation_extra_params = {'min': 0.1, 'max': 10}\n",
    "feature_generation_size = 1000 \n",
    "feature_generation_seed = 50 # if -1 then 'o_random_seed' is used\n",
    "if feature_generation_seed == -1:\n",
    "    feature_generation_seed = o_random_seed\n",
    "''' \n",
    "Options: \n",
    "- 'last_time_point' : only the last time point of the phosphorylated species is used\n",
    "- 'dynamic_feature': computes the characteristic 'ten' dynamic feature for each specie data \n",
    "'''\n",
    "\n",
    "## General parameters \n",
    "experiment_id = notebook_name + '_' + str(o_random_seed) + '_' + str(feature_generation_seed)\n",
    "experiment_folder = config['DATA_PATH'] + '/' + experiment_id + '/'\n",
    "if not os.path.exists(experiment_folder):\n",
    "    os.makedirs(experiment_folder)\n",
    "    \n",
    "print(experiment_folder)"
   ]
  },
  {
   "cell_type": "markdown",
   "metadata": {},
   "source": [
    "## Jobs and Visualisations"
   ]
  },
  {
   "cell_type": "markdown",
   "metadata": {},
   "source": [
    "### Generate drug network"
   ]
  },
  {
   "cell_type": "code",
   "execution_count": 5,
   "metadata": {},
   "outputs": [],
   "source": [
    "from models.Utils import *\n",
    "from models.DrugModelSpecification import DrugModelSpecification, Drug\n",
    "\n",
    "model_drug_spec = DrugModelSpecification()\n",
    "model_drug_spec.generate_specifications(4, 5, 2, verbose=0)\n",
    "G0_d = model_drug_spec.generate_network('drug_model_524', specie_value_range, param_range, param_multiplier_range, random_seed=4, verbose=0)"
   ]
  },
  {
   "cell_type": "code",
   "execution_count": 6,
   "metadata": {},
   "outputs": [
    {
     "name": "stdout",
     "output_type": "stream",
     "text": [
      "[(('C', 'A1'), 'up'), (('B0', 'A2'), 'down')]\n"
     ]
    }
   ],
   "source": [
    "print(model_drug_spec.get_feedback_regulations())"
   ]
  },
  {
   "cell_type": "code",
   "execution_count": 7,
   "metadata": {},
   "outputs": [],
   "source": [
    "def modified_drug_spec_SY(original_spec: ModelSpecification): \n",
    "    spec = deepcopy(original_spec)\n",
    "    added_regulations = [('C', 'A3'), ('B2', 'A4'), ('B1', 'A0'), ('B3', 'A2')]\n",
    "    added_reg_types = ['down', 'down', 'up', 'up']\n",
    "    for i, reg in enumerate(added_regulations):\n",
    "        spec.add_regulation(reg, added_reg_types[i])\n",
    "    return spec"
   ]
  },
  {
   "cell_type": "code",
   "execution_count": 8,
   "metadata": {},
   "outputs": [
    {
     "name": "stdout",
     "output_type": "stream",
     "text": [
      "[(('C', 'A1'), 'up'), (('B0', 'A2'), 'down'), (('C', 'A3'), 'down'), (('B2', 'A4'), 'down'), (('B1', 'A0'), 'up'), (('B3', 'A2'), 'up')]\n"
     ]
    }
   ],
   "source": [
    "modded_spec = modified_drug_spec_SY(model_drug_spec)\n",
    "print(modded_spec.get_feedback_regulations())"
   ]
  },
  {
   "cell_type": "code",
   "execution_count": 9,
   "metadata": {},
   "outputs": [],
   "source": [
    "# create a drug which targets all of the A species\n",
    "drug_all_Ad = Drug('DAd', 500, 5000) \n",
    "drug_all_Ad.add_regulation('A0', 'down')\n",
    "drug_all_Ad.add_regulation('A1', 'down')\n",
    "drug_all_Ad.add_regulation('A2', 'down')\n",
    "drug_all_Ad.add_regulation('A3', 'down')\n",
    "drug_all_Ad.add_regulation('A4', 'down')\n",
    "\n",
    "drug_all_Au = Drug('DAu', 500, 5000)\n",
    "drug_all_Au.add_regulation('A0', 'up')\n",
    "drug_all_Au.add_regulation('A1', 'up')\n",
    "drug_all_Au.add_regulation('A2', 'up')\n",
    "drug_all_Au.add_regulation('A3', 'up')\n",
    "drug_all_Au.add_regulation('A4', 'up')\n",
    "\n",
    "possible_drugs = [drug_all_Ad, drug_all_Au] "
   ]
  },
  {
   "cell_type": "code",
   "execution_count": 10,
   "metadata": {},
   "outputs": [],
   "source": [
    "diff_model_specs = []\n",
    "diff_models = []\n",
    "model_labels = []\n",
    "for drug in possible_drugs:\n",
    "    new_drug_spec = DrugModelSpecification()\n",
    "    new_drug_spec.generate_specifications(4, 5, 2, verbose=0)\n",
    "    new_drug_spec.add_drug(drug)\n",
    "    new_model = new_drug_spec.generate_network(f'drug_model_524_{drug.name}', specie_value_range, param_range, param_multiplier_range, random_seed=4, verbose=0)\n",
    "    new_model = copy_over_params_states(G0_d, new_model)\n",
    "    label = f'{drug.name}'\n",
    "    diff_model_specs.append(new_drug_spec)\n",
    "    diff_models.append(new_model)\n",
    "    model_labels.append(label)\n",
    "    \n",
    "    new_drug_spec = modified_drug_spec_SY(new_drug_spec)\n",
    "    new_model = new_drug_spec.generate_network(f'drug_model_524_{drug.name}_SY', specie_value_range, param_range, param_multiplier_range, random_seed=4, verbose=0)\n",
    "    new_model = copy_over_params_states(G0_d, new_model)\n",
    "    label = f'{drug.name}_SY'\n",
    "    diff_model_specs.append(new_drug_spec)\n",
    "    diff_models.append(new_model)\n",
    "    model_labels.append(label)"
   ]
  },
  {
   "cell_type": "code",
   "execution_count": 11,
   "metadata": {},
   "outputs": [
    {
     "data": {
      "image/png": "[encoded data removed]",
      "text/plain": [
       "<Figure size 576x360 with 1 Axes>"
      ]
     },
     "metadata": {
      "needs_background": "light"
     },
     "output_type": "display_data"
    }
   ],
   "source": [
    "# perform simulations on each of the models \n",
    "import matplotlib.pyplot as plt\n",
    "import seaborn as sns\n",
    "import roadrunner\n",
    "import numpy as np\n",
    "import pandas as pd\n",
    "\n",
    "if plot_figures:\n",
    "    # Visualise the behaviour of the suboptimal models, plot the original model as reference comparison\n",
    "    plt.figure(figsize=(8, 5))\n",
    "\n",
    "    for i, s_model in enumerate(diff_models):\n",
    "        runner = roadrunner.RoadRunner(s_model.get_sbml_model())\n",
    "        res = runner.simulate(0, simulation_time, simulation_step)\n",
    "        plt.plot(res['time'], res['[Cp]'], label=f\"Model {model_labels[i]}\")\n",
    "        \n",
    "    runner = roadrunner.RoadRunner(G0_d.get_sbml_model())\n",
    "    res = runner.simulate(0, simulation_time, simulation_step)\n",
    "    plt.plot(res['time'], res['[Cp]'], label=\"Ground Truth\", linestyle='dashed', color='black')\n",
    "        \n",
    "    plt.xlabel(\"Time\")\n",
    "    plt.ylabel(\"Concentration\")\n",
    "    plt.title(\"Concentration of Cp over Time for Suboptimal Models\")\n",
    "    plt.grid(True)\n",
    "    # set the legend to be outside the plot\n",
    "    plt.legend(bbox_to_anchor=(1.05, 1), loc='upper left')\n",
    "    plt.show()"
   ]
  },
  {
   "cell_type": "markdown",
   "metadata": {},
   "source": [
    "## Synthetic data for each model"
   ]
  },
  {
   "cell_type": "code",
   "execution_count": null,
   "metadata": {},
   "outputs": [],
   "source": [
    "### Generate the synthetic data\n",
    "feature_df_sets = []\n",
    "initial_value_sets = []\n",
    "target_df_sets = []\n",
    "time_course_data_sets = []\n",
    "\n",
    "for i, model_spec in enumerate(diff_model_specs): \n",
    "    model = diff_models[i]\n",
    "    runner = roadrunner.RoadRunner(model.get_sbml_model())\n",
    "    feature_df = generate_feature_data(model_spec, runner, feature_generation_method, feature_generation_extra_params, feature_generation_size, seed=feature_generation_seed)\n",
    "    initial_values = get_model_initial_values(model_spec, runner)\n",
    "    target_df, time_course_data = generate_target_data(model_spec, runner, feature_df, initial_values, simulation_params={'start': 0, 'end': simulation_time, 'points': simulation_step})\n",
    "    feature_df_sets.append(feature_df)\n",
    "    initial_value_sets.append(initial_values)\n",
    "    target_df_sets.append(target_df)\n",
    "    time_course_data_sets.append(time_course_data)"
   ]
  },
  {
   "cell_type": "markdown",
   "metadata": {},
   "source": [
    "## Generate suboptimal models"
   ]
  },
  {
   "cell_type": "code",
   "execution_count": 12,
   "metadata": {},
   "outputs": [],
   "source": [
    "n_sub = 10\n",
    "suboptimal_models_rms = []\n",
    "suboptimal_models_spec_rms = []\n",
    "suboptimal_models_labels = []\n",
    "n_edge_removed_range = (2,9)\n",
    "\n",
    "for i, model_spec in enumerate(diff_model_specs):\n",
    "    model = diff_models[i]\n",
    "    for n_edge_removed in range(n_edge_removed_range[0], n_edge_removed_range[1]+1):\n",
    "        for j in range(n_sub):\n",
    "            s_spec, s_model = systematic_edge_pruning(model_spec, model, n_edge_removed, random_seed=j)\n",
    "            suboptimal_models_spec_rms.append(s_spec)\n",
    "            suboptimal_models_rms.append(s_model)\n",
    "            suboptimal_models_labels.append(f'{model_labels[i]}_{n_edge_removed}_{j}')"
   ]
  },
  {
   "cell_type": "code",
   "execution_count": 13,
   "metadata": {},
   "outputs": [
    {
     "data": {
      "image/png": "[encoded data removed]",
      "text/plain": [
       "<Figure size 576x360 with 1 Axes>"
      ]
     },
     "metadata": {
      "needs_background": "light"
     },
     "output_type": "display_data"
    }
   ],
   "source": [
    "if plot_figures:\n",
    "    # Visualise the behaviour of the suboptimal models, plot the original model as reference comparison\n",
    "    plt.figure(figsize=(8, 5))\n",
    "\n",
    "    for i, s_model in enumerate(suboptimal_models_rms):\n",
    "        runner = roadrunner.RoadRunner(s_model.get_sbml_model())\n",
    "        res = runner.simulate(0, simulation_time, simulation_step)\n",
    "        plt.plot(res['time'], res['[Cp]'], label=f\"Model {i+1}\")\n",
    "        \n",
    "    runner = roadrunner.RoadRunner(G0_d.get_sbml_model())\n",
    "    res = runner.simulate(0, simulation_time, simulation_step)\n",
    "    plt.plot(res['time'], res['[Cp]'], label=\"Ground Truth\", linestyle='dashed', color='black')\n",
    "        \n",
    "    plt.xlabel(\"Time\")\n",
    "    plt.ylabel(\"Concentration\")\n",
    "    plt.title(\"Concentration of Cp over Time for Suboptimal Models\")\n",
    "    plt.grid(True)\n",
    "    # set the legend to be outside the plot\n",
    "    # plt.legend(bbox_to_anchor=(1.05, 1), loc='upper left')\n",
    "    plt.show()"
   ]
  },
  {
   "cell_type": "markdown",
   "metadata": {},
   "source": [
    "## Generate timecourse data from ground truth and suboptimal models"
   ]
  },
  {
   "cell_type": "code",
   "execution_count": null,
   "metadata": {},
   "outputs": [],
   "source": [
    "time_course_data_sets = []\n",
    "last_time_points_sets = []\n",
    "\n",
    "\n",
    "ground_truth_timecourse_data = []\n",
    "ground_truth_last_time_points = []\n",
    "ground_truth_labels = []\n",
    "\n",
    "all_species = model_spec.A_species + model_spec.B_species + model_spec.C_species\n",
    "all_phos_species = [s+'p' for s in all_species]\n",
    "\n",
    "for i, spec in enumerate(diff_model_specs):\n",
    "    model = diff_models[i]\n",
    "    runner = roadrunner.RoadRunner(model.get_sbml_model())\n",
    "    time_course_data = generate_model_timecourse_data(spec, runner, feature_df, initial_values))\n",
    "    last_time_points = last_time_point_method(time_course_data, all_phos_species)\n",
    "    ground_truth_timecourse_data.append(time_course_data)\n",
    "    ground_truth_last_time_points.append(last_time_points)\n",
    "    ground_truth_labels.append(f'{model_labels[i]} Last Points G0')\n",
    "    \n",
    "print('Ground truth time course data generated, length:', len(ground_truth_timecourse_data))\n",
    "\n",
    "if run_jobs: \n",
    "    all_species = model_spec.A_species + model_spec.B_species + model_spec.C_species\n",
    "    all_phos_species = [s+'p' for s in all_species]\n",
    "    for i, s_spec in enumerate(suboptimal_models_spec_rms):\n",
    "        s_model = suboptimal_models_rms[i]\n",
    "        runner = roadrunner.RoadRunner(s_model.get_sbml_model())\n",
    "        time_course_data = generate_model_timecourse_data(s_spec, runner, feature_df, initial_values)\n",
    "        time_course_data_sets.append(time_course_data)\n",
    "        last_time_points = last_time_point_method(time_course_data, all_phos_species)\n",
    "        last_time_points_sets.append(last_time_points)\n",
    "        \n",
    "print('Suboptimal time course data generated, length:', len(time_course_data_sets))"
   ]
  },
  {
   "cell_type": "markdown",
   "metadata": {},
   "source": [
    "## Machine Learning"
   ]
  },
  {
   "cell_type": "code",
   "execution_count": null,
   "metadata": {},
   "outputs": [],
   "source": [
    "def evaluate_model(model, model_name, feature_data, feature_data_name, target_data ,test_size=0.2, random_state=4):\n",
    "    X_train, X_test, y_train, y_test = train_test_split(feature_data, target_data, test_size=test_size, random_state=random_state)\n",
    "    model.fit(X_train, y_train)\n",
    "    y_pred = model.predict(X_test)\n",
    "    # return a dictionary of the model performance\n",
    "    return {'Model': model_name, \n",
    "            'Feature Data': feature_data_name,\n",
    "            'Mean Squared Error': mean_squared_error(y_test, y_pred),\n",
    "            'R2 Score': r2_score(y_test, y_pred),\n",
    "            'Pearson Correlation': pearsonr(y_test, y_pred)[0],\n",
    "            'Pearson P-Value': pearsonr(y_test, y_pred)[1]\n",
    "            }\n",
    "# create a linear regression model\n",
    "lm = LinearRegression()\n",
    "# create a random forest model\n",
    "rf = RandomForestRegressor(n_estimators=100, random_state=o_random_seed)\n",
    "# create a gradient boosting model\n",
    "gb = GradientBoostingRegressor(n_estimators=100, random_state=o_random_seed)\n",
    "# create a support vector machine model\n",
    "svr = SVR(max_iter=10000)\n",
    "scaled_svr = Pipeline([('scaler', StandardScaler()), ('svr', svr)])\n",
    "# create a neural network model (simple)\n",
    "nn = MLPRegressor(hidden_layer_sizes=(20,), max_iter=10000, random_state=o_random_seed)\n",
    "scaled_nn = Pipeline([('scaler', StandardScaler()), ('nn', nn)])\n",
    "\n",
    "all_models = [lm, rf, gb, scaled_svr, scaled_nn]\n",
    "all_models_desc = ['Linear Regression', 'Random Forest', 'Gradient Boosting', 'Support Vector Machine', 'Neural Network']\n",
    "zipped_model_data = list(zip(all_models, all_models_desc))\n",
    "all_features = [feature_df] + ground_truth_last_time_points + last_time_points_sets\n",
    "all_features_desc = ['Mock Omics Data (A+B)'] + ground_truth_labels + suboptimal_models_labels\n",
    "zipped_feature_data = list(zip(all_features, all_features_desc))\n",
    "\n",
    "# random states are rand ints between 0 and 10000, for n values \n",
    "np.random.seed(o_random_seed)\n",
    "n_random = 10\n",
    "all_random_states = np.random.randint(0, 10000, n_random)\n",
    "\n",
    "if run_jobs: \n",
    "    metric_data = []\n",
    "    if not parallelise:          \n",
    "        for (feature_data, feature_data_name) in zipped_feature_data:\n",
    "            # print('Feature Data:', feature_data_name)\n",
    "            # print('Feature Data Shape:', feature_data.shape)\n",
    "            for (model, model_name) in zipped_model_data:\n",
    "                # print('Model:', model_name)\n",
    "                for rand in all_random_states:\n",
    "                    metrics = evaluate_model(model, model_name, feature_data, feature_data_name, target_df['Cp'], random_state=rand)\n",
    "                    metric_data.append(metrics)\n",
    "                    \n",
    "    else:        \n",
    "        # parallelise the model evaluation process using joblib\n",
    "        from joblib import Parallel, delayed\n",
    "\n",
    "        metric_data = Parallel(n_jobs=-1)(delayed(evaluate_model)(model, model_name, feature_data, feature_data_name, target_df['Cp'], random_state=rand) \n",
    "                                        for (feature_data, feature_data_name) in zipped_feature_data\n",
    "                                        for (model, model_name) in zipped_model_data\n",
    "                                        for rand in all_random_states)\n",
    "        \n",
    "    metric_df = pd.DataFrame(metric_data)\n",
    "    # create additional columns based on 'Feature Data' of the suboptimal model labels, e.g. edge removed, drug model used, suboptimal model rng seed \n",
    "    metric_df['Edge Removed'] = metric_df['Feature Data'].apply(lambda x: x.split('_')[1] if len(x.split('_')) > 1 else 'N/A')\n",
    "    metric_df['Drug G0 Model'] = metric_df['Feature Data'].apply(lambda x: x.split('_')[0] if len(x.split('_')) > 1 else 'N/A')\n",
    "    metric_df['Suboptimal Model Seed'] = metric_df['Feature Data'].apply(lambda x: x.split('_')[-1] if len(x.split('_')) > 1 else 'N/A')\n",
    "    if save_figures:\n",
    "        # to pickle \n",
    "        metric_df.to_pickle(experiment_folder + 'metric_df.pkl')\n",
    "    "
   ]
  },
  {
   "cell_type": "markdown",
   "metadata": {},
   "source": [
    "## Visualising Dataset"
   ]
  },
  {
   "cell_type": "code",
   "execution_count": 24,
   "metadata": {},
   "outputs": [],
   "source": [
    "# load the metric data from the pickle file\n",
    "metric_df = pd.read_pickle(experiment_folder + 'metric_df.pkl')"
   ]
  },
  {
   "cell_type": "code",
   "execution_count": 25,
   "metadata": {},
   "outputs": [
    {
     "data": {
      "application/vnd.microsoft.datawrangler.viewer.v0+json": {
       "columns": [
        {
         "name": "index",
         "rawType": "int64",
         "type": "integer"
        },
        {
         "name": "Model",
         "rawType": "object",
         "type": "string"
        },
        {
         "name": "Feature Data",
         "rawType": "object",
         "type": "string"
        },
        {
         "name": "Mean Squared Error",
         "rawType": "float64",
         "type": "float"
        },
        {
         "name": "R2 Score",
         "rawType": "float64",
         "type": "float"
        },
        {
         "name": "Pearson Correlation",
         "rawType": "float64",
         "type": "float"
        },
        {
         "name": "Pearson P-Value",
         "rawType": "float64",
         "type": "float"
        },
        {
         "name": "Edge Removed",
         "rawType": "object",
         "type": "string"
        },
        {
         "name": "Drug G0 Model",
         "rawType": "object",
         "type": "string"
        },
        {
         "name": "Suboptimal Model Seed",
         "rawType": "object",
         "type": "string"
        }
       ],
       "conversionMethod": "pd.DataFrame",
       "ref": "9e4889d2-af3d-40bc-ac80-552f1577524d",
       "rows": [
        [
         "0",
         "Linear Regression",
         "Feature Data",
         "4.266584411972889",
         "0.8217885170136273",
         "0.9090659719710824",
         "3.2299659846180405e-77",
         "N/A",
         "N/A",
         "N/A"
        ],
        [
         "1",
         "Linear Regression",
         "Feature Data",
         "4.255868961643593",
         "0.8509292977272952",
         "0.924865055762159",
         "4.4729885185467936e-85",
         "N/A",
         "N/A",
         "N/A"
        ],
        [
         "2",
         "Linear Regression",
         "Feature Data",
         "4.06627666697989",
         "0.8110187177304965",
         "0.9021129041050483",
         "3.3382177661598957e-74",
         "N/A",
         "N/A",
         "N/A"
        ],
        [
         "3",
         "Linear Regression",
         "Feature Data",
         "4.121190954412032",
         "0.8070193346655744",
         "0.9007487450510071",
         "1.2256407430907483e-73",
         "N/A",
         "N/A",
         "N/A"
        ],
        [
         "4",
         "Linear Regression",
         "Feature Data",
         "3.642794107403581",
         "0.8403866094204646",
         "0.9177178268712571",
         "2.5170940653028564e-81",
         "N/A",
         "N/A",
         "N/A"
        ],
        [
         "5",
         "Linear Regression",
         "Feature Data",
         "3.2417364092518954",
         "0.8750943863661597",
         "0.936254184102236",
         "6.781900281049443e-92",
         "N/A",
         "N/A",
         "N/A"
        ],
        [
         "6",
         "Linear Regression",
         "Feature Data",
         "4.391269437002098",
         "0.8251743207650202",
         "0.9101003706095058",
         "1.096770398198967e-77",
         "N/A",
         "N/A",
         "N/A"
        ],
        [
         "7",
         "Linear Regression",
         "Feature Data",
         "3.4783754384647874",
         "0.8679915416077584",
         "0.9319406574128748",
         "3.56955759412009e-89",
         "N/A",
         "N/A",
         "N/A"
        ],
        [
         "8",
         "Linear Regression",
         "Feature Data",
         "3.772201084752183",
         "0.8526045520395447",
         "0.9244765355003556",
         "7.308910392780196e-85",
         "N/A",
         "N/A",
         "N/A"
        ],
        [
         "9",
         "Linear Regression",
         "Feature Data",
         "4.341813938980996",
         "0.8466201096337969",
         "0.9211237006275431",
         "4.550278714325875e-83",
         "N/A",
         "N/A",
         "N/A"
        ],
        [
         "10",
         "Random Forest",
         "Feature Data",
         "0.8682644229327953",
         "0.9637333577648332",
         "0.9831618530389004",
         "3.999007549196723e-148",
         "N/A",
         "N/A",
         "N/A"
        ],
        [
         "11",
         "Random Forest",
         "Feature Data",
         "0.5322886705702436",
         "0.9813554771895358",
         "0.9908467588277412",
         "3.61138156101235e-174",
         "N/A",
         "N/A",
         "N/A"
        ],
        [
         "12",
         "Random Forest",
         "Feature Data",
         "1.2396029005899905",
         "0.9423891277342711",
         "0.9714426884504127",
         "1.1618728154011236e-125",
         "N/A",
         "N/A",
         "N/A"
        ],
        [
         "13",
         "Random Forest",
         "Feature Data",
         "0.5408141895573936",
         "0.974675601475988",
         "0.9886105426667773",
         "8.094830384208714e-165",
         "N/A",
         "N/A",
         "N/A"
        ],
        [
         "14",
         "Random Forest",
         "Feature Data",
         "0.5632629649773715",
         "0.975319957983571",
         "0.9882824670427527",
         "1.3250694303139037e-163",
         "N/A",
         "N/A",
         "N/A"
        ],
        [
         "15",
         "Random Forest",
         "Feature Data",
         "0.583308708480369",
         "0.9775248437958233",
         "0.9900298218314003",
         "1.6445791624381845e-170",
         "N/A",
         "N/A",
         "N/A"
        ],
        [
         "16",
         "Random Forest",
         "Feature Data",
         "1.0179649570871938",
         "0.9594726723984232",
         "0.9796469042835688",
         "4.769811639206859e-140",
         "N/A",
         "N/A",
         "N/A"
        ],
        [
         "17",
         "Random Forest",
         "Feature Data",
         "0.5333750020593557",
         "0.9797577883663156",
         "0.9903255051879956",
         "8.470841693438238e-172",
         "N/A",
         "N/A",
         "N/A"
        ],
        [
         "18",
         "Random Forest",
         "Feature Data",
         "0.6581660715905968",
         "0.9742827381746426",
         "0.9874487493342816",
         "1.1476255621510335e-160",
         "N/A",
         "N/A",
         "N/A"
        ],
        [
         "19",
         "Random Forest",
         "Feature Data",
         "0.5345754498902966",
         "0.9811154680857004",
         "0.9912039851149662",
         "7.138821246605037e-176",
         "N/A",
         "N/A",
         "N/A"
        ],
        [
         "20",
         "Gradient Boosting",
         "Feature Data",
         "0.6513113660927388",
         "0.972795296370664",
         "0.9867715602446864",
         "2.0173589873840475e-158",
         "N/A",
         "N/A",
         "N/A"
        ],
        [
         "21",
         "Gradient Boosting",
         "Feature Data",
         "0.39568903446727083",
         "0.9861401648450039",
         "0.9933166709656576",
         "1.2254260871069037e-187",
         "N/A",
         "N/A",
         "N/A"
        ],
        [
         "22",
         "Gradient Boosting",
         "Feature Data",
         "1.0636895898941965",
         "0.9505647453191552",
         "0.9751546856138406",
         "1.437437595695979e-131",
         "N/A",
         "N/A",
         "N/A"
        ],
        [
         "23",
         "Gradient Boosting",
         "Feature Data",
         "0.5158491149076323",
         "0.9758446268303886",
         "0.9887021890763787",
         "3.654139104314074e-165",
         "N/A",
         "N/A",
         "N/A"
        ],
        [
         "24",
         "Gradient Boosting",
         "Feature Data",
         "0.3330308097519857",
         "0.9854078558533055",
         "0.9931447240073579",
         "1.502555666527774e-186",
         "N/A",
         "N/A",
         "N/A"
        ],
        [
         "25",
         "Gradient Boosting",
         "Feature Data",
         "0.5183719059122569",
         "0.9800268890420194",
         "0.9905917674099525",
         "5.4157377795133504e-173",
         "N/A",
         "N/A",
         "N/A"
        ],
        [
         "26",
         "Gradient Boosting",
         "Feature Data",
         "0.9889240730725413",
         "0.9606288511176484",
         "0.9801450947677743",
         "4.2033772603220737e-141",
         "N/A",
         "N/A",
         "N/A"
        ],
        [
         "27",
         "Gradient Boosting",
         "Feature Data",
         "0.38610753073094345",
         "0.9853467629336979",
         "0.9929689748830297",
         "1.8259636565159734e-185",
         "N/A",
         "N/A",
         "N/A"
        ],
        [
         "28",
         "Gradient Boosting",
         "Feature Data",
         "0.542590741784404",
         "0.9787987427903085",
         "0.9895072465018466",
         "2.5203358698860744e-168",
         "N/A",
         "N/A",
         "N/A"
        ],
        [
         "29",
         "Gradient Boosting",
         "Feature Data",
         "0.3567772720879253",
         "0.9873964062838579",
         "0.9939077881752835",
         "1.3158693044379239e-191",
         "N/A",
         "N/A",
         "N/A"
        ],
        [
         "30",
         "Support Vector Machine",
         "Feature Data",
         "4.794566972894104",
         "0.7997351492404103",
         "0.9218053635282286",
         "1.994283673886021e-83",
         "N/A",
         "N/A",
         "N/A"
        ],
        [
         "31",
         "Support Vector Machine",
         "Feature Data",
         "4.641391789867887",
         "0.8374255551864628",
         "0.9424179364849967",
         "3.916544164264062e-96",
         "N/A",
         "N/A",
         "N/A"
        ],
        [
         "32",
         "Support Vector Machine",
         "Feature Data",
         "3.5664006784753117",
         "0.8342505863464345",
         "0.9249700987981958",
         "3.9151057332663166e-85",
         "N/A",
         "N/A",
         "N/A"
        ],
        [
         "33",
         "Support Vector Machine",
         "Feature Data",
         "3.9011349627846035",
         "0.817323771452136",
         "0.9190288659809688",
         "5.483938323492056e-82",
         "N/A",
         "N/A",
         "N/A"
        ],
        [
         "34",
         "Support Vector Machine",
         "Feature Data",
         "3.3151262251598452",
         "0.8547437704696286",
         "0.9418763863231943",
         "9.630170954225092e-96",
         "N/A",
         "N/A",
         "N/A"
        ],
        [
         "35",
         "Support Vector Machine",
         "Feature Data",
         "4.539383060476338",
         "0.8250954565369168",
         "0.9343744034821065",
         "1.0964511636656166e-90",
         "N/A",
         "N/A",
         "N/A"
        ],
        [
         "36",
         "Support Vector Machine",
         "Feature Data",
         "3.7233987487282922",
         "0.8517636586304538",
         "0.9403940209731035",
         "1.0820848177527658e-94",
         "N/A",
         "N/A",
         "N/A"
        ],
        [
         "37",
         "Support Vector Machine",
         "Feature Data",
         "4.0989835047319385",
         "0.8444387321014115",
         "0.941978916402446",
         "8.127310917810808e-96",
         "N/A",
         "N/A",
         "N/A"
        ],
        [
         "38",
         "Support Vector Machine",
         "Feature Data",
         "4.140735696584135",
         "0.8382043854048777",
         "0.9365948684658529",
         "4.058440477702977e-92",
         "N/A",
         "N/A",
         "N/A"
        ],
        [
         "39",
         "Support Vector Machine",
         "Feature Data",
         "4.637149466572928",
         "0.8361870207267383",
         "0.9428194212467768",
         "1.998835014116209e-96",
         "N/A",
         "N/A",
         "N/A"
        ],
        [
         "40",
         "Neural Network",
         "Feature Data",
         "0.9516866993744963",
         "0.9602488825586107",
         "0.980108074458481",
         "5.0454790243970884e-141",
         "N/A",
         "N/A",
         "N/A"
        ],
        [
         "41",
         "Neural Network",
         "Feature Data",
         "0.6621968691431814",
         "0.9768051711141412",
         "0.9884934514758924",
         "2.2155884122069333e-164",
         "N/A",
         "N/A",
         "N/A"
        ],
        [
         "42",
         "Neural Network",
         "Feature Data",
         "1.2031940711950682",
         "0.9440812376983712",
         "0.9719068092911285",
         "2.3472815704380283e-126",
         "N/A",
         "N/A",
         "N/A"
        ],
        [
         "43",
         "Neural Network",
         "Feature Data",
         "0.7874048187780062",
         "0.9631286423035955",
         "0.9817632708444501",
         "1.0065713391144483e-144",
         "N/A",
         "N/A",
         "N/A"
        ],
        [
         "44",
         "Neural Network",
         "Feature Data",
         "0.6439955230444778",
         "0.9717825641744999",
         "0.9864311547091174",
         "2.4544640272159796e-157",
         "N/A",
         "N/A",
         "N/A"
        ],
        [
         "45",
         "Neural Network",
         "Feature Data",
         "0.6683698106390925",
         "0.9742473999138397",
         "0.9870513467141652",
         "2.4637552047423807e-159",
         "N/A",
         "N/A",
         "N/A"
        ],
        [
         "46",
         "Neural Network",
         "Feature Data",
         "1.1984494025994898",
         "0.9522872067305326",
         "0.9780004919717066",
         "9.725643794752683e-137",
         "N/A",
         "N/A",
         "N/A"
        ],
        [
         "47",
         "Neural Network",
         "Feature Data",
         "0.6296644487643698",
         "0.9761034900756799",
         "0.9882786570070767",
         "1.3681565610056083e-163",
         "N/A",
         "N/A",
         "N/A"
        ],
        [
         "48",
         "Neural Network",
         "Feature Data",
         "0.691615715097672",
         "0.972975722700634",
         "0.9865394582858796",
         "1.1160886374075753e-157",
         "N/A",
         "N/A",
         "N/A"
        ],
        [
         "49",
         "Neural Network",
         "Feature Data",
         "0.6968144424305577",
         "0.9753841771463221",
         "0.9877087088449222",
         "1.4636940503899239e-161",
         "N/A",
         "N/A",
         "N/A"
        ]
       ],
       "shape": {
        "columns": 9,
        "rows": 16100
       }
      },
      "text/html": [
       "<div>\n",
       "<style scoped>\n",
       "    .dataframe tbody tr th:only-of-type {\n",
       "        vertical-align: middle;\n",
       "    }\n",
       "\n",
       "    .dataframe tbody tr th {\n",
       "        vertical-align: top;\n",
       "    }\n",
       "\n",
       "    .dataframe thead th {\n",
       "        text-align: right;\n",
       "    }\n",
       "</style>\n",
       "<table border=\"1\" class=\"dataframe\">\n",
       "  <thead>\n",
       "    <tr style=\"text-align: right;\">\n",
       "      <th></th>\n",
       "      <th>Model</th>\n",
       "      <th>Feature Data</th>\n",
       "      <th>Mean Squared Error</th>\n",
       "      <th>R2 Score</th>\n",
       "      <th>Pearson Correlation</th>\n",
       "      <th>Pearson P-Value</th>\n",
       "      <th>Edge Removed</th>\n",
       "      <th>Drug G0 Model</th>\n",
       "      <th>Suboptimal Model Seed</th>\n",
       "    </tr>\n",
       "  </thead>\n",
       "  <tbody>\n",
       "    <tr>\n",
       "      <th>0</th>\n",
       "      <td>Linear Regression</td>\n",
       "      <td>Feature Data</td>\n",
       "      <td>4.266584</td>\n",
       "      <td>0.821789</td>\n",
       "      <td>0.909066</td>\n",
       "      <td>3.229966e-77</td>\n",
       "      <td>N/A</td>\n",
       "      <td>N/A</td>\n",
       "      <td>N/A</td>\n",
       "    </tr>\n",
       "    <tr>\n",
       "      <th>1</th>\n",
       "      <td>Linear Regression</td>\n",
       "      <td>Feature Data</td>\n",
       "      <td>4.255869</td>\n",
       "      <td>0.850929</td>\n",
       "      <td>0.924865</td>\n",
       "      <td>4.472989e-85</td>\n",
       "      <td>N/A</td>\n",
       "      <td>N/A</td>\n",
       "      <td>N/A</td>\n",
       "    </tr>\n",
       "    <tr>\n",
       "      <th>2</th>\n",
       "      <td>Linear Regression</td>\n",
       "      <td>Feature Data</td>\n",
       "      <td>4.066277</td>\n",
       "      <td>0.811019</td>\n",
       "      <td>0.902113</td>\n",
       "      <td>3.338218e-74</td>\n",
       "      <td>N/A</td>\n",
       "      <td>N/A</td>\n",
       "      <td>N/A</td>\n",
       "    </tr>\n",
       "    <tr>\n",
       "      <th>3</th>\n",
       "      <td>Linear Regression</td>\n",
       "      <td>Feature Data</td>\n",
       "      <td>4.121191</td>\n",
       "      <td>0.807019</td>\n",
       "      <td>0.900749</td>\n",
       "      <td>1.225641e-73</td>\n",
       "      <td>N/A</td>\n",
       "      <td>N/A</td>\n",
       "      <td>N/A</td>\n",
       "    </tr>\n",
       "    <tr>\n",
       "      <th>4</th>\n",
       "      <td>Linear Regression</td>\n",
       "      <td>Feature Data</td>\n",
       "      <td>3.642794</td>\n",
       "      <td>0.840387</td>\n",
       "      <td>0.917718</td>\n",
       "      <td>2.517094e-81</td>\n",
       "      <td>N/A</td>\n",
       "      <td>N/A</td>\n",
       "      <td>N/A</td>\n",
       "    </tr>\n",
       "    <tr>\n",
       "      <th>...</th>\n",
       "      <td>...</td>\n",
       "      <td>...</td>\n",
       "      <td>...</td>\n",
       "      <td>...</td>\n",
       "      <td>...</td>\n",
       "      <td>...</td>\n",
       "      <td>...</td>\n",
       "      <td>...</td>\n",
       "      <td>...</td>\n",
       "    </tr>\n",
       "    <tr>\n",
       "      <th>16095</th>\n",
       "      <td>Neural Network</td>\n",
       "      <td>DAu_SY_9_9</td>\n",
       "      <td>0.664471</td>\n",
       "      <td>0.974398</td>\n",
       "      <td>0.987863</td>\n",
       "      <td>4.218646e-162</td>\n",
       "      <td>SY</td>\n",
       "      <td>DAu</td>\n",
       "      <td>9</td>\n",
       "    </tr>\n",
       "    <tr>\n",
       "      <th>16096</th>\n",
       "      <td>Neural Network</td>\n",
       "      <td>DAu_SY_9_9</td>\n",
       "      <td>1.119239</td>\n",
       "      <td>0.955441</td>\n",
       "      <td>0.978111</td>\n",
       "      <td>5.926317e-137</td>\n",
       "      <td>SY</td>\n",
       "      <td>DAu</td>\n",
       "      <td>9</td>\n",
       "    </tr>\n",
       "    <tr>\n",
       "      <th>16097</th>\n",
       "      <td>Neural Network</td>\n",
       "      <td>DAu_SY_9_9</td>\n",
       "      <td>0.619280</td>\n",
       "      <td>0.976498</td>\n",
       "      <td>0.988250</td>\n",
       "      <td>1.745781e-163</td>\n",
       "      <td>SY</td>\n",
       "      <td>DAu</td>\n",
       "      <td>9</td>\n",
       "    </tr>\n",
       "    <tr>\n",
       "      <th>16098</th>\n",
       "      <td>Neural Network</td>\n",
       "      <td>DAu_SY_9_9</td>\n",
       "      <td>0.807100</td>\n",
       "      <td>0.968463</td>\n",
       "      <td>0.984108</td>\n",
       "      <td>1.365651e-150</td>\n",
       "      <td>SY</td>\n",
       "      <td>DAu</td>\n",
       "      <td>9</td>\n",
       "    </tr>\n",
       "    <tr>\n",
       "      <th>16099</th>\n",
       "      <td>Neural Network</td>\n",
       "      <td>DAu_SY_9_9</td>\n",
       "      <td>0.824599</td>\n",
       "      <td>0.970870</td>\n",
       "      <td>0.985350</td>\n",
       "      <td>4.590084e-154</td>\n",
       "      <td>SY</td>\n",
       "      <td>DAu</td>\n",
       "      <td>9</td>\n",
       "    </tr>\n",
       "  </tbody>\n",
       "</table>\n",
       "<p>16100 rows × 9 columns</p>\n",
       "</div>"
      ],
      "text/plain": [
       "                   Model  Feature Data  Mean Squared Error  R2 Score  \\\n",
       "0      Linear Regression  Feature Data            4.266584  0.821789   \n",
       "1      Linear Regression  Feature Data            4.255869  0.850929   \n",
       "2      Linear Regression  Feature Data            4.066277  0.811019   \n",
       "3      Linear Regression  Feature Data            4.121191  0.807019   \n",
       "4      Linear Regression  Feature Data            3.642794  0.840387   \n",
       "...                  ...           ...                 ...       ...   \n",
       "16095     Neural Network    DAu_SY_9_9            0.664471  0.974398   \n",
       "16096     Neural Network    DAu_SY_9_9            1.119239  0.955441   \n",
       "16097     Neural Network    DAu_SY_9_9            0.619280  0.976498   \n",
       "16098     Neural Network    DAu_SY_9_9            0.807100  0.968463   \n",
       "16099     Neural Network    DAu_SY_9_9            0.824599  0.970870   \n",
       "\n",
       "       Pearson Correlation  Pearson P-Value Edge Removed Drug G0 Model  \\\n",
       "0                 0.909066     3.229966e-77          N/A           N/A   \n",
       "1                 0.924865     4.472989e-85          N/A           N/A   \n",
       "2                 0.902113     3.338218e-74          N/A           N/A   \n",
       "3                 0.900749     1.225641e-73          N/A           N/A   \n",
       "4                 0.917718     2.517094e-81          N/A           N/A   \n",
       "...                    ...              ...          ...           ...   \n",
       "16095             0.987863    4.218646e-162           SY           DAu   \n",
       "16096             0.978111    5.926317e-137           SY           DAu   \n",
       "16097             0.988250    1.745781e-163           SY           DAu   \n",
       "16098             0.984108    1.365651e-150           SY           DAu   \n",
       "16099             0.985350    4.590084e-154           SY           DAu   \n",
       "\n",
       "      Suboptimal Model Seed  \n",
       "0                       N/A  \n",
       "1                       N/A  \n",
       "2                       N/A  \n",
       "3                       N/A  \n",
       "4                       N/A  \n",
       "...                     ...  \n",
       "16095                     9  \n",
       "16096                     9  \n",
       "16097                     9  \n",
       "16098                     9  \n",
       "16099                     9  \n",
       "\n",
       "[16100 rows x 9 columns]"
      ]
     },
     "execution_count": 25,
     "metadata": {},
     "output_type": "execute_result"
    }
   ],
   "source": [
    "metric_df"
   ]
  },
  {
   "cell_type": "code",
   "execution_count": 26,
   "metadata": {},
   "outputs": [
    {
     "data": {
      "image/png": "[encoded data removed]",
      "text/plain": [
       "<Figure size 576x360 with 1 Axes>"
      ]
     },
     "metadata": {
      "needs_background": "light"
     },
     "output_type": "display_data"
    }
   ],
   "source": [
    "edge_removed_metric_df = metric_df[metric_df['Edge Removed'] != 'N/A']\n",
    "lin_reg_edge_removed_metric_df = edge_removed_metric_df[edge_removed_metric_df['Model'] == 'Linear Regression']\n",
    "\n",
    "# plot the performance of the linear regression model based on the number of edges removed\n",
    "plt.figure(figsize=(8, 5))\n",
    "sns.boxplot(x='Edge Removed', y='Mean Squared Error', data=lin_reg_edge_removed_metric_df)\n",
    "plt.title('Mean Squared Error of Linear Regression Model Based on Number of Edges Removed')\n",
    "plt.show()"
   ]
  },
  {
   "cell_type": "code",
   "execution_count": 27,
   "metadata": {},
   "outputs": [
    {
     "name": "stdout",
     "output_type": "stream",
     "text": [
      "Unique Values of Edge Removed: ['2' '3' '4' '5' '6' '7' '8' '9' 'SY']\n",
      "Unique Values of Drug G0 Model: ['DAd' 'DAu']\n",
      "Unique Values of Suboptimal Model Seed: ['0' '1' '2' '3' '4' '5' '6' '7' '8' '9']\n"
     ]
    }
   ],
   "source": [
    "# print all the unique values of the 'Edge Removed' column and 'Drug G0 Model' and 'Suboptimal Model Seed'\n",
    "print('Unique Values of Edge Removed:', edge_removed_metric_df['Edge Removed'].unique())\n",
    "print('Unique Values of Drug G0 Model:', edge_removed_metric_df['Drug G0 Model'].unique())\n",
    "print('Unique Values of Suboptimal Model Seed:', edge_removed_metric_df['Suboptimal Model Seed'].unique())"
   ]
  },
  {
   "cell_type": "code",
   "execution_count": 28,
   "metadata": {},
   "outputs": [
    {
     "data": {
      "image/png": "[encoded data removed]",
      "text/plain": [
       "<Figure size 576x360 with 1 Axes>"
      ]
     },
     "metadata": {
      "needs_background": "light"
     },
     "output_type": "display_data"
    }
   ],
   "source": [
    "edge_removed_metric_df = metric_df[metric_df['Edge Removed'] != 'N/A']\n",
    "rf_edge_removed_metric_df = edge_removed_metric_df[edge_removed_metric_df['Model'] == 'Random Forest']\n",
    "\n",
    "# plot the performance of the linear regression model based on the number of edges removed\n",
    "plt.figure(figsize=(8, 5))\n",
    "sns.boxplot(x='Edge Removed', y='Mean Squared Error', data=rf_edge_removed_metric_df)\n",
    "plt.title('Mean Squared Error of Random Forest Model Based on Number of Edges Removed')\n",
    "plt.show()"
   ]
  }
 ],
 "metadata": {
  "kernelspec": {
   "display_name": "new-peak-project",
   "language": "python",
   "name": "python3"
  },
  "language_info": {
   "codemirror_mode": {
    "name": "ipython",
    "version": 3
   },
   "file_extension": ".py",
   "mimetype": "text/x-python",
   "name": "python",
   "nbconvert_exporter": "python",
   "pygments_lexer": "ipython3",
   "version": "3.8.10"
  }
 },
 "nbformat": 4,
 "nbformat_minor": 2
}
