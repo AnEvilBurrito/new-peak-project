{
 "cells": [
  {
   "cell_type": "markdown",
   "id": "ed0a5d3a",
   "metadata": {},
   "source": [
    "## Init"
   ]
  },
  {
   "cell_type": "code",
   "execution_count": 30,
   "id": "1bb81f51",
   "metadata": {},
   "outputs": [
    {
     "name": "stdout",
     "output_type": "stream",
     "text": [
      "Project path set to: c:\\Users\\dawson\\Documents\\GitHub\\new-peak-project\\src\n"
     ]
    }
   ],
   "source": [
    "import os\n",
    "\n",
    "path = os.getcwd()\n",
    "# find the string 'project' in the path, return index\n",
    "index_project = path.find('project')\n",
    "# slice the path from the index of 'project' to the end\n",
    "project_path = path[:index_project+7]\n",
    "# set the working directory\n",
    "os.chdir(project_path+'/src')\n",
    "print(f'Project path set to: {os.getcwd()}')"
   ]
  },
  {
   "cell_type": "code",
   "execution_count": 31,
   "id": "1a9d619e",
   "metadata": {},
   "outputs": [
    {
     "name": "stdout",
     "output_type": "stream",
     "text": [
      "C:\\Users\\dawson\\Documents\\Google Drive\\My Drive\\DAWSON PHD PROJECT\\Biomarker Data Repository\\data\\new-peak-project\\experiments\n"
     ]
    }
   ],
   "source": [
    "from dotenv import dotenv_values\n",
    "config = dotenv_values(\".env\")\n",
    "print(config[\"DATA_PATH\"])"
   ]
  },
  {
   "cell_type": "code",
   "execution_count": 32,
   "id": "d146f02b",
   "metadata": {},
   "outputs": [],
   "source": [
    "from models.ModelBuilder import ModelBuilder\n",
    "from models.Reaction import Reaction\n",
    "from models.ReactionArchtype import ReactionArchtype\n",
    "from models.ArchtypeCollections import *\n",
    "\n",
    "# import scikit-learn\n",
    "from sklearn.linear_model import LinearRegression\n",
    "# tree models and support vector machines\n",
    "from sklearn.ensemble import RandomForestRegressor\n",
    "from sklearn.ensemble import GradientBoostingRegressor\n",
    "from sklearn.svm import SVR\n",
    "from sklearn.neural_network import MLPRegressor\n",
    "from sklearn.model_selection import train_test_split\n",
    "from sklearn.metrics import mean_squared_error, r2_score\n",
    "# import pearson correlation\n",
    "from scipy.stats import pearsonr\n",
    "from sklearn.preprocessing import StandardScaler\n",
    "from sklearn.pipeline import Pipeline\n",
    "\n",
    "from copy import deepcopy"
   ]
  },
  {
   "cell_type": "markdown",
   "id": "b258d0ff",
   "metadata": {},
   "source": [
    "## Notebook Parameters"
   ]
  },
  {
   "cell_type": "code",
   "execution_count": 33,
   "id": "33cc3166",
   "metadata": {},
   "outputs": [
    {
     "name": "stdout",
     "output_type": "stream",
     "text": [
      "C:\\Users\\dawson\\Documents\\Google Drive\\My Drive\\DAWSON PHD PROJECT\\Biomarker Data Repository\\data\\new-peak-project\\experiments/exp13_feature_predictivity_5_100_20/\n"
     ]
    }
   ],
   "source": [
    "import os \n",
    "import numpy as np\n",
    "\n",
    "### parameters \n",
    "\n",
    "notebook_name = 'exp13_feature_predictivity' # name of the notebook\n",
    "distortion_scales = [1.05, 1.1, 1.2, 1.3, 1.5, 2, 4] # scales for the distortion of the model parameters\n",
    "distortion_ranges = []\n",
    "for scale in distortion_scales:\n",
    "    min_scale = 1 / scale\n",
    "    max_scale = scale\n",
    "    distortion_ranges.append((min_scale, max_scale))\n",
    "    \n",
    "\n",
    "## Generation of ground truth model \n",
    "\n",
    "model_name = 'v4_drug_model' # name of the model\n",
    "o_random_seed = 5\n",
    "# p_overall_seed = 46 # different seed for parameter generation\n",
    "no_observable_species = 100\n",
    "no_feedback_regulations = 20\n",
    "specie_value_range = (1000, 5000)\n",
    "# param_range = (0.8, 1.2)\n",
    "param_multiplier_range = (0.99, 1.01)\n",
    "\n",
    "## Simulation parameters \n",
    "\n",
    "simulation_time = 1000 \n",
    "simulation_step = 100\n",
    "\n",
    "## Feature data generation \n",
    "\n",
    "feature_generation_method = 'lhs'\n",
    "feature_generation_extra_params = {'min': 0.1, 'max': 10}\n",
    "feature_generation_size = 1000 \n",
    "feature_generation_seed = 50 # if -1 then 'o_random_seed' is used\n",
    "if feature_generation_seed == -1:\n",
    "    feature_generation_seed = o_random_seed\n",
    "\n",
    "\n",
    "'''\n",
    "Options: \n",
    "- 'feedback_prune': removes feedback regulations from the model \n",
    "- 'random parameter': randomizes a x% of parameter values of the model\n",
    "'''\n",
    "\n",
    "''' \n",
    "Options: \n",
    "- 'last_time_point' : only the last time point of the phosphorylated species is used\n",
    "- 'dynamic_feature': computes the characteristic 'ten' dynamic feature for each specie data \n",
    "'''\n",
    "\n",
    "## General parameters\n",
    "parallelise = True\n",
    "save_figures = True \n",
    "experiment_id = notebook_name + '_' + str(o_random_seed) + '_' + str(no_observable_species) + '_' + str(no_feedback_regulations)\n",
    "experiment_folder = config['DATA_PATH'] + '/' + experiment_id + '/'\n",
    "if not os.path.exists(experiment_folder):\n",
    "    os.makedirs(experiment_folder)\n",
    "    \n",
    "print(experiment_folder)"
   ]
  },
  {
   "cell_type": "markdown",
   "id": "78c3738a",
   "metadata": {},
   "source": [
    "## Compute"
   ]
  },
  {
   "cell_type": "code",
   "execution_count": 34,
   "id": "ff0335b0",
   "metadata": {},
   "outputs": [
    {
     "name": "stdout",
     "output_type": "stream",
     "text": [
      "Experiment ID:  exp13_feature_predictivity_5_100_20\n",
      "Experiment folder:  C:\\Users\\dawson\\Documents\\Google Drive\\My Drive\\DAWSON PHD PROJECT\\Biomarker Data Repository\\data\\new-peak-project\\experiments/exp13_feature_predictivity_5_100_20/\n",
      "Distortion Range (For Ground Truth Param Range):  [(0.9523809523809523, 1.05), (0.9090909090909091, 1.1), (0.8333333333333334, 1.2), (0.7692307692307692, 1.3), (0.6666666666666666, 1.5), (0.5, 2), (0.25, 4)]\n"
     ]
    }
   ],
   "source": [
    "print('Experiment ID: ', experiment_id)\n",
    "print('Experiment folder: ', experiment_folder)\n",
    "print('Distortion Range (For Ground Truth Param Range): ', distortion_ranges)"
   ]
  },
  {
   "cell_type": "code",
   "execution_count": null,
   "id": "984ddb4c",
   "metadata": {},
   "outputs": [
    {
     "name": "stdout",
     "output_type": "stream",
     "text": [
      "------ Starting loop 0 for (0.9523809523809523, 1.05)\n",
      "--- Completed Model Initialisation for (0.9523809523809523, 1.05)\n"
     ]
    },
    {
     "name": "stderr",
     "output_type": "stream",
     "text": [
      "Simulating perturbations: 100%|██████████| 1000/1000 [19:09<00:00,  1.15s/it]\n"
     ]
    },
    {
     "name": "stdout",
     "output_type": "stream",
     "text": [
      "--- Generated Target Data for (0.9523809523809523, 1.05)\n"
     ]
    },
    {
     "name": "stderr",
     "output_type": "stream",
     "text": [
      "Simulating perturbations: 100%|██████████| 1000/1000 [19:06<00:00,  1.15s/it]\n"
     ]
    },
    {
     "name": "stdout",
     "output_type": "stream",
     "text": [
      "--- Generated Timecourse Data for (0.9523809523809523, 1.05), Now running for Machine Learning Phase\n",
      "--- Machine learning phase for (0.9523809523809523, 1.05) complete, saving files and move on to 1\n",
      "------ Starting loop 1 for (0.9090909090909091, 1.1)\n",
      "--- Completed Model Initialisation for (0.9090909090909091, 1.1)\n"
     ]
    },
    {
     "name": "stderr",
     "output_type": "stream",
     "text": [
      "Simulating perturbations: 100%|██████████| 1000/1000 [20:02<00:00,  1.20s/it]\n"
     ]
    },
    {
     "name": "stdout",
     "output_type": "stream",
     "text": [
      "--- Generated Target Data for (0.9090909090909091, 1.1)\n"
     ]
    },
    {
     "name": "stderr",
     "output_type": "stream",
     "text": [
      "Simulating perturbations: 100%|██████████| 1000/1000 [20:29<00:00,  1.23s/it]\n"
     ]
    },
    {
     "name": "stdout",
     "output_type": "stream",
     "text": [
      "--- Generated Timecourse Data for (0.9090909090909091, 1.1), Now running for Machine Learning Phase\n",
      "--- Machine learning phase for (0.9090909090909091, 1.1) complete, saving files and move on to 2\n",
      "------ Starting loop 2 for (0.8333333333333334, 1.2)\n",
      "--- Completed Model Initialisation for (0.8333333333333334, 1.2)\n"
     ]
    },
    {
     "name": "stderr",
     "output_type": "stream",
     "text": [
      "Simulating perturbations: 100%|██████████| 1000/1000 [19:32<00:00,  1.17s/it]\n"
     ]
    },
    {
     "name": "stdout",
     "output_type": "stream",
     "text": [
      "--- Generated Target Data for (0.8333333333333334, 1.2)\n"
     ]
    },
    {
     "name": "stderr",
     "output_type": "stream",
     "text": [
      "Simulating perturbations: 100%|██████████| 1000/1000 [20:06<00:00,  1.21s/it]\n"
     ]
    },
    {
     "name": "stdout",
     "output_type": "stream",
     "text": [
      "--- Generated Timecourse Data for (0.8333333333333334, 1.2), Now running for Machine Learning Phase\n",
      "--- Machine learning phase for (0.8333333333333334, 1.2) complete, saving files and move on to 3\n",
      "------ Starting loop 3 for (0.7692307692307692, 1.3)\n",
      "--- Completed Model Initialisation for (0.7692307692307692, 1.3)\n"
     ]
    },
    {
     "name": "stderr",
     "output_type": "stream",
     "text": [
      "Simulating perturbations: 100%|██████████| 1000/1000 [17:51<00:00,  1.07s/it]\n"
     ]
    },
    {
     "name": "stdout",
     "output_type": "stream",
     "text": [
      "--- Generated Target Data for (0.7692307692307692, 1.3)\n"
     ]
    },
    {
     "name": "stderr",
     "output_type": "stream",
     "text": [
      "Simulating perturbations: 100%|██████████| 1000/1000 [20:43<00:00,  1.24s/it]\n"
     ]
    },
    {
     "name": "stdout",
     "output_type": "stream",
     "text": [
      "--- Generated Timecourse Data for (0.7692307692307692, 1.3), Now running for Machine Learning Phase\n",
      "--- Machine learning phase for (0.7692307692307692, 1.3) complete, saving files and move on to 4\n",
      "------ Starting loop 4 for (0.6666666666666666, 1.5)\n",
      "--- Completed Model Initialisation for (0.6666666666666666, 1.5)\n"
     ]
    },
    {
     "name": "stderr",
     "output_type": "stream",
     "text": [
      "Simulating perturbations: 100%|██████████| 1000/1000 [18:10<00:00,  1.09s/it]\n"
     ]
    },
    {
     "name": "stdout",
     "output_type": "stream",
     "text": [
      "--- Generated Target Data for (0.6666666666666666, 1.5)\n"
     ]
    },
    {
     "name": "stderr",
     "output_type": "stream",
     "text": [
      "Simulating perturbations: 100%|██████████| 1000/1000 [20:18<00:00,  1.22s/it]\n"
     ]
    },
    {
     "name": "stdout",
     "output_type": "stream",
     "text": [
      "--- Generated Timecourse Data for (0.6666666666666666, 1.5), Now running for Machine Learning Phase\n",
      "--- Machine learning phase for (0.6666666666666666, 1.5) complete, saving files and move on to 5\n",
      "------ Starting loop 5 for (0.5, 2)\n",
      "--- Completed Model Initialisation for (0.5, 2)\n"
     ]
    },
    {
     "name": "stderr",
     "output_type": "stream",
     "text": [
      "Simulating perturbations: 100%|██████████| 1000/1000 [18:11<00:00,  1.09s/it]\n"
     ]
    },
    {
     "name": "stdout",
     "output_type": "stream",
     "text": [
      "--- Generated Target Data for (0.5, 2)\n"
     ]
    },
    {
     "name": "stderr",
     "output_type": "stream",
     "text": [
      "Simulating perturbations: 100%|██████████| 1000/1000 [19:47<00:00,  1.19s/it]\n"
     ]
    },
    {
     "name": "stdout",
     "output_type": "stream",
     "text": [
      "--- Generated Timecourse Data for (0.5, 2), Now running for Machine Learning Phase\n",
      "--- Machine learning phase for (0.5, 2) complete, saving files and move on to 6\n",
      "------ Starting loop 6 for (0.25, 4)\n",
      "--- Completed Model Initialisation for (0.25, 4)\n"
     ]
    },
    {
     "name": "stderr",
     "output_type": "stream",
     "text": [
      "Simulating perturbations: 100%|██████████| 1000/1000 [19:12<00:00,  1.15s/it]\n"
     ]
    },
    {
     "name": "stdout",
     "output_type": "stream",
     "text": [
      "--- Generated Target Data for (0.25, 4)\n"
     ]
    },
    {
     "name": "stderr",
     "output_type": "stream",
     "text": []
    }
   ],
   "source": [
    "### Virtual Cell Creation\n",
    "# create a drug enabled model \n",
    "from models.Utils import *\n",
    "from models.DrugModelSpecification import DrugModelSpecification, Drug\n",
    "from models.Solver.RoadrunnerSolver import RoadrunnerSolver\n",
    "from models.SyntheticGen import generate_feature_data_v2, generate_target_data_diff_build\n",
    "from models.SyntheticGen import generate_model_timecourse_data_diff_build\n",
    "from models.Utils import last_time_point_method, dynamic_features_method\n",
    "from joblib import Parallel, delayed\n",
    "import pickle\n",
    "\n",
    "verbose = True \n",
    "output_data = []\n",
    "for j, dis_range in enumerate(distortion_ranges):\n",
    "    \n",
    "    print(f'------ Starting loop {j} for {dis_range}')\n",
    "\n",
    "    model_drug_spec = DrugModelSpecification()\n",
    "    model_drug_spec.generate_specifications(o_random_seed, no_observable_species, no_feedback_regulations, verbose=0)\n",
    "    drug_0 = Drug('D0', 500, 500)\n",
    "    rng = np.random.default_rng(o_random_seed)\n",
    "    # add random 'up' and 'down' regulations to the drug\n",
    "    regulation_dir = []\n",
    "    for i, s in enumerate(model_drug_spec.A_species):\n",
    "        reg_type = str(rng.choice(['up', 'down']))\n",
    "        regulation_dir.append(reg_type)\n",
    "        drug_0.add_regulation(s, reg_type)\n",
    "    model_drug_spec.add_drug(drug_0)\n",
    "    # print(model_drug_spec)\n",
    "    # print(f'Feedback: {model_drug_spec.get_feedback_regulations()}')\n",
    "\n",
    "\n",
    "    p_random_seeds = []\n",
    "    feature_size = 1000 \n",
    "    rng = np.random.default_rng(o_random_seed)\n",
    "    # generate `feature_size` random seeds for different parameter sets using numpy, ensure that the seeds are unique\n",
    "    p_random_seeds = rng.choice(range(1000000), feature_size, replace=False).tolist()\n",
    "\n",
    "    G0_d = model_drug_spec.generate_network('drug_model_524', \n",
    "                                            specie_value_range, \n",
    "                                            dis_range, \n",
    "                                            param_multiplier_range,  \n",
    "                                            verbose=0,\n",
    "                                            random_seed=p_random_seeds[0])\n",
    "    base_parameters = G0_d.get_parameters()\n",
    "    base_initial_conditions = G0_d.get_state_variables()\n",
    "\n",
    "    if verbose: print(f'--- Completed Model Initialisation for {dis_range}')\n",
    "    # print(G0_d.get_antimony_model())\n",
    "\n",
    "\n",
    "    # generate parameter sets for each random seed\n",
    "    parameter_sets = []\n",
    "    for p in p_random_seeds: \n",
    "        model_build = model_drug_spec.generate_network(f'param_seed_{p}', \n",
    "                                                specie_value_range, dis_range, param_multiplier_range, random_seed=p, verbose=0)\n",
    "        parameter_sets.append(model_build.get_parameters())\n",
    "        \n",
    "    # test simulation \n",
    "\n",
    "\n",
    "\n",
    "    solver = RoadrunnerSolver()\n",
    "    solver.compile(G0_d.get_sbml_model())\n",
    "    # result = solver.simulate(0, 1000, 100)\n",
    "\n",
    "\n",
    "\n",
    "    feature_data = generate_feature_data_v2(model_drug_spec, base_initial_conditions, feature_generation_method, feature_generation_extra_params, 1000, feature_generation_seed)\n",
    "    target_data, _ = generate_target_data_diff_build(model_drug_spec, solver, \n",
    "                                                    feature_data, parameter_sets, \n",
    "                                                    {'start': 0, 'end': 1000, 'points': 100}, \n",
    "                                                    n_cores=1, verbose=True)\n",
    "\n",
    "    if verbose: print(f'--- Generated Target Data for {dis_range}')\n",
    "\n",
    "\n",
    "    # Suboptimal Model Generation\n",
    "\n",
    "    # randomise links and parameters by using a different random seed\n",
    "    new_spec = DrugModelSpecification()\n",
    "    new_spec.generate_specifications(o_random_seed, no_observable_species, no_feedback_regulations, verbose=0)\n",
    "    new_spec.add_drug(drug_0)\n",
    "    new_model = new_spec.generate_network('submodel', specie_value_range, dis_range, param_multiplier_range, random_seed=100005352, verbose=0)\n",
    "    new_base_parameters = new_model.get_parameters()\n",
    "    new_base_initial_conditions = new_model.get_state_variables()\n",
    "    new_solver = RoadrunnerSolver()\n",
    "    new_solver.compile(new_model.get_sbml_model())\n",
    "\n",
    "    # Minor distortion of the parameters to create a new set of parameters\n",
    "\n",
    "    rng = np.random.default_rng(o_random_seed)\n",
    "    modified_parameter_sets = []\n",
    "    for params in parameter_sets:\n",
    "        new_params = {}\n",
    "        for key, value in params.items(): \n",
    "            new_params[key] = value * rng.uniform(0.1, 10) # distortion range, expectation is that the larger the worse the model performance \n",
    "        modified_parameter_sets.append(new_params)\n",
    "        \n",
    "        \n",
    "\n",
    "\n",
    "    new_base_parameters_set = []\n",
    "    for p in p_random_seeds: \n",
    "        new_base_parameters_set.append(new_base_parameters)\n",
    "\n",
    "    # generate the timecourse data for the new model\n",
    "    time_course_data = generate_model_timecourse_data_diff_build(new_spec, \n",
    "                                                    new_solver, \n",
    "                                                    feature_data, \n",
    "                                                    modified_parameter_sets,\n",
    "                                                    {'start': 0, 'end': 1000, 'points': 100}, \n",
    "                                                    capture_species='all', n_cores=1, verbose=True)\n",
    "\n",
    "\n",
    "    if verbose: print(f'--- Generated Timecourse Data for {dis_range}, Now running for Machine Learning Phase')\n",
    "\n",
    "\n",
    "    all_species = model_drug_spec.A_species + model_drug_spec.B_species + model_drug_spec.C_species\n",
    "    all_phos_species = [s+'p' for s in all_species]\n",
    "    # apply the data engineering method to the feature data\n",
    "    last_time_data = last_time_point_method(time_course_data, all_phos_species)\n",
    "\n",
    "    dynamic_data = dynamic_features_method(time_course_data, all_phos_species, n_cores=8)\n",
    "    combined_lp_data = pd.concat([feature_data, last_time_data], axis=1)\n",
    "    combined_dyn_data = pd.concat([feature_data, dynamic_data], axis=1)\n",
    "    feature_data_list = [feature_data, last_time_data, dynamic_data, combined_lp_data, combined_dyn_data]\n",
    "    feature_data_names = ['feature_data', 'last_time_data', 'dynamic_data', 'combined_lp_data', 'combined_dyn_data']\n",
    "\n",
    "\n",
    "    def evaluate_model(model, model_name, feature_data, feature_data_name, target_data, test_size=0.2, random_state=4):\n",
    "        X_train, X_test, y_train, y_test = train_test_split(feature_data, target_data, test_size=test_size, random_state=random_state)\n",
    "        model.fit(X_train, y_train)\n",
    "        y_pred = model.predict(X_test)\n",
    "        # return a dictionary of the model performance\n",
    "        return {'Model': model_name, \n",
    "                'Feature Data': feature_data_name,\n",
    "                'Mean Squared Error': mean_squared_error(y_test, y_pred),\n",
    "                'R2 Score': r2_score(y_test, y_pred),\n",
    "                'Pearson Correlation': pearsonr(y_test, y_pred)[0],\n",
    "                'Pearson P-Value': pearsonr(y_test, y_pred)[1]\n",
    "                }\n",
    "        \n",
    "    # create a linear regression model\n",
    "    lm = LinearRegression()\n",
    "    # create a random forest model\n",
    "    rf = RandomForestRegressor(n_estimators=100, random_state=o_random_seed)\n",
    "    # create a gradient boosting model\n",
    "    gb = GradientBoostingRegressor(n_estimators=100, random_state=o_random_seed)\n",
    "    # create a support vector machine model\n",
    "    svr = SVR(max_iter=10000)\n",
    "    scaled_svr = Pipeline([('scaler', StandardScaler()), ('svr', svr)])\n",
    "    # create a neural network model (simple)\n",
    "    nn = MLPRegressor(hidden_layer_sizes=(20,), max_iter=10000, random_state=o_random_seed)\n",
    "    scaled_nn = Pipeline([('scaler', StandardScaler()), ('nn', nn)])\n",
    "\n",
    "    all_models = [lm, rf, gb, scaled_svr, scaled_nn]\n",
    "    all_models_desc = ['Linear Regression', 'Random Forest', 'Gradient Boosting', 'Support Vector Machine', 'Neural Network']\n",
    "    zipped_model_data = list(zip(all_models, all_models_desc))\n",
    "    all_features = feature_data_list\n",
    "    all_features_desc = feature_data_names\n",
    "    zipped_feature_data = list(zip(all_features, all_features_desc))\n",
    "\n",
    "    # random states are rand ints between 0 and 10000, for n values \n",
    "    np.random.seed(o_random_seed)\n",
    "    n_random = 10\n",
    "    all_random_states = np.random.randint(0, 10000, n_random)\n",
    "\n",
    "    parallelise = True \n",
    "    from tqdm import tqdm\n",
    "    # tqdm is a progress bar library, use it to show the progress of the model evaluation\n",
    "    metric_data = []\n",
    "    if not parallelise:          \n",
    "        for (feature_data, feature_data_name) in tqdm(zipped_feature_data):\n",
    "            # print('Feature Data:', feature_data_name)\n",
    "            # print('Feature Data Shape:', feature_data.shape)\n",
    "            for (model, model_name) in zipped_model_data:\n",
    "                # print('Model:', model_name)\n",
    "                for rand in all_random_states:\n",
    "                    metrics = evaluate_model(model, model_name, feature_data, feature_data_name, target_data['Cp'], random_state=rand)\n",
    "                    metric_data.append(metrics)\n",
    "                    \n",
    "    else:        \n",
    "        # parallelise the model evaluation process using joblib\n",
    "        \n",
    "        metric_data = Parallel(n_jobs=-1)(delayed(evaluate_model)(model, model_name, feature_data, feature_data_name, target_data['Cp'], random_state=rand) \n",
    "                                        for (feature_data, feature_data_name) in zipped_feature_data\n",
    "                                        for (model, model_name) in zipped_model_data\n",
    "                                        for rand in all_random_states)\n",
    "\n",
    "    if verbose: print(f'--- Machine learning phase for {dis_range} complete, saving files and move on to {j+1}')\n",
    "    \n",
    "    # make a dataframe of the metric data\n",
    "    metric_df = pd.DataFrame(metric_data)\n",
    "    \n",
    "    exp_group = str(distortion_scales[j])\n",
    "    # create a new column for the distortion scale\n",
    "    metric_df['Distortion Scale'] = exp_group\n",
    "    output_data.append(metric_df)\n",
    "    \n",
    "    # save metric_df to a pickle file\n",
    "    output_file = experiment_folder + f'metric_data_{exp_group}.pkl'\n",
    "    metric_df.to_pickle(output_file)\n",
    "    # print(f'Saved metric data to {output_file}')\n",
    "    \n"
   ]
  },
  {
   "cell_type": "code",
   "execution_count": null,
   "id": "ee3c5901",
   "metadata": {},
   "outputs": [
    {
     "name": "stdout",
     "output_type": "stream",
     "text": [
      "All data loaded successfully. Producing final output dataframe.\n"
     ]
    }
   ],
   "source": [
    "output_df = pd.DataFrame()\n",
    "all_loaded = True\n",
    "\n",
    "for i, df in enumerate(output_data):\n",
    "    # load the metric data for each scale\n",
    "    exp_group = df.iloc[0]['Distortion Scale']  # get the distortion scale from the first row of the dataframe\n",
    "    curr_scale = str(distortion_scales[i])\n",
    "    \n",
    "    if exp_group != curr_scale:\n",
    "        print(f'Warning: Distortion scale mismatch! Expected {curr_scale}, but got {exp_group}.')\n",
    "        all_loaded = False\n",
    "        # if the file exists, load it\n",
    "        if os.path.exists(experiment_folder + f'metric_data_{curr_scale}.pkl'):\n",
    "            print(f'Loading metric data for scale {curr_scale} from file...')\n",
    "            df = pd.read_pickle(experiment_folder + f'metric_data_{curr_scale}.pkl')\n",
    "            all_loaded = True\n",
    "        else:\n",
    "            print(f'File not found for scale {curr_scale}, there is missing data for this scale.')\n",
    "            all_loaded = False\n",
    "            break \n",
    "\n",
    "    if not all_loaded:\n",
    "        break\n",
    "        \n",
    "    output_df = pd.concat([output_df, df], ignore_index=True)\n",
    "\n",
    "if not all_loaded:\n",
    "    print('Not all data was loaded successfully, please check the files.')\n",
    "else:\n",
    "    print('All data loaded successfully. Producing final output dataframe.')\n",
    "    # save the output_df to a pickle file\n",
    "    output_file = experiment_folder + 'final_output_df.pkl'\n",
    "    output_df.to_pickle(output_file)\n"
   ]
  },
  {
   "cell_type": "markdown",
   "id": "05e61d13",
   "metadata": {},
   "source": [
    "## Analysis"
   ]
  },
  {
   "cell_type": "code",
   "execution_count": null,
   "id": "f071de06",
   "metadata": {},
   "outputs": [],
   "source": [
    "import pandas as pd\n",
    "\n",
    "# load the final output dataframe\n",
    "seed_id, obs_id, fb_id = 5, 15, 10\n",
    "load_folder = config['DATA_PATH'] + f'\\\\{notebook_name}_{seed_id}_{obs_id}_{fb_id}/'\n",
    "output_df = pd.read_pickle(load_folder + 'final_output_df.pkl')\n",
    "\n"
   ]
  },
  {
   "cell_type": "code",
   "execution_count": null,
   "id": "a56ce162",
   "metadata": {},
   "outputs": [
    {
     "data": {
      "application/vnd.microsoft.datawrangler.viewer.v0+json": {
       "columns": [
        {
         "name": "index",
         "rawType": "int64",
         "type": "integer"
        },
        {
         "name": "Model",
         "rawType": "object",
         "type": "string"
        },
        {
         "name": "Feature Data",
         "rawType": "object",
         "type": "string"
        },
        {
         "name": "Mean Squared Error",
         "rawType": "float64",
         "type": "float"
        },
        {
         "name": "R2 Score",
         "rawType": "float64",
         "type": "float"
        },
        {
         "name": "Pearson Correlation",
         "rawType": "float64",
         "type": "float"
        },
        {
         "name": "Pearson P-Value",
         "rawType": "float64",
         "type": "float"
        },
        {
         "name": "Distortion Scale",
         "rawType": "object",
         "type": "string"
        }
       ],
       "ref": "093f4238-e1f7-4aca-9e67-3e6e99b42fc5",
       "rows": [
        [
         "0",
         "Linear Regression",
         "feature_data",
         "0.013666056893310677",
         "0.8814668881692416",
         "0.9389812612090371",
         "1.0250813381145484e-93",
         "1.05"
        ],
        [
         "1",
         "Linear Regression",
         "feature_data",
         "0.014807955342465493",
         "0.8841600949646549",
         "0.9412244876585051",
         "2.8121142095767146e-95",
         "1.05"
        ],
        [
         "2",
         "Linear Regression",
         "feature_data",
         "0.014957781285178263",
         "0.8825929064948523",
         "0.9394788411822624",
         "4.6721806157225725e-94",
         "1.05"
        ],
        [
         "3",
         "Linear Regression",
         "feature_data",
         "0.014183087877534807",
         "0.8766541407763224",
         "0.9366683059989434",
         "3.631858296680397e-92",
         "1.05"
        ],
        [
         "4",
         "Linear Regression",
         "feature_data",
         "0.013225365303107077",
         "0.9008163317074982",
         "0.9506154387782748",
         "1.4700966728738246e-102",
         "1.05"
        ],
        [
         "5",
         "Linear Regression",
         "feature_data",
         "0.013340191764264677",
         "0.8818823162131602",
         "0.9423462176466368",
         "4.414338349221878e-96",
         "1.05"
        ],
        [
         "6",
         "Linear Regression",
         "feature_data",
         "0.015447525691687218",
         "0.8670582536507553",
         "0.9318234664205638",
         "4.207553751856014e-89",
         "1.05"
        ],
        [
         "7",
         "Linear Regression",
         "feature_data",
         "0.014322793841339282",
         "0.8940120542440274",
         "0.9455551188883711",
         "1.7872038070947773e-98",
         "1.05"
        ],
        [
         "8",
         "Linear Regression",
         "feature_data",
         "0.015356319383638541",
         "0.8758592418479205",
         "0.9362431701523434",
         "6.895089494019792e-92",
         "1.05"
        ],
        [
         "9",
         "Linear Regression",
         "feature_data",
         "0.015486179862255487",
         "0.8723204817254742",
         "0.9352382655240397",
         "3.083647904099789e-91",
         "1.05"
        ],
        [
         "10",
         "Random Forest",
         "feature_data",
         "0.03618896677216861",
         "0.6861134942629464",
         "0.8551332124546944",
         "2.114852015523739e-58",
         "1.05"
        ],
        [
         "11",
         "Random Forest",
         "feature_data",
         "0.03911275248613269",
         "0.6940281471087826",
         "0.8457026902415223",
         "6.644629888862152e-56",
         "1.05"
        ],
        [
         "12",
         "Random Forest",
         "feature_data",
         "0.03668743986955529",
         "0.7120317779016097",
         "0.8689067664553591",
         "2.1928423256231602e-62",
         "1.05"
        ],
        [
         "13",
         "Random Forest",
         "feature_data",
         "0.03281727060716256",
         "0.714598508070446",
         "0.8547766836151856",
         "2.647764521934267e-58",
         "1.05"
        ],
        [
         "14",
         "Random Forest",
         "feature_data",
         "0.03872853377504479",
         "0.7095552403005032",
         "0.870766207437216",
         "5.86992922528679e-63",
         "1.05"
        ],
        [
         "15",
         "Random Forest",
         "feature_data",
         "0.029722199805090187",
         "0.7368315643384284",
         "0.8693204793834641",
         "1.638394307199207e-62",
         "1.05"
        ],
        [
         "16",
         "Random Forest",
         "feature_data",
         "0.03545727039520938",
         "0.6948539499984052",
         "0.8475799414489149",
         "2.182339066453493e-56",
         "1.05"
        ],
        [
         "17",
         "Random Forest",
         "feature_data",
         "0.03775357910556685",
         "0.720625435326347",
         "0.8796063981053882",
         "8.327215894805515e-66",
         "1.05"
        ],
        [
         "18",
         "Random Forest",
         "feature_data",
         "0.040565303074854224",
         "0.6720693707538599",
         "0.836549417312467",
         "1.2335621687960312e-53",
         "1.05"
        ],
        [
         "19",
         "Random Forest",
         "feature_data",
         "0.040650296908553187",
         "0.6648488928085721",
         "0.8251406667830115",
         "5.37093545501703e-51",
         "1.05"
        ],
        [
         "20",
         "Gradient Boosting",
         "feature_data",
         "0.02228837210883444",
         "0.8066808791791871",
         "0.9076616289379296",
         "1.3713358791900735e-76",
         "1.05"
        ],
        [
         "21",
         "Gradient Boosting",
         "feature_data",
         "0.02455276321650018",
         "0.8079282592649186",
         "0.9045019675221847",
         "3.265707623690043e-75",
         "1.05"
        ],
        [
         "22",
         "Gradient Boosting",
         "feature_data",
         "0.024027768580465833",
         "0.8114004731943651",
         "0.9100988203524731",
         "1.0985579498445166e-77",
         "1.05"
        ],
        [
         "23",
         "Gradient Boosting",
         "feature_data",
         "0.02155238743414611",
         "0.8125656578214472",
         "0.9034321933674823",
         "9.31716681789629e-75",
         "1.05"
        ],
        [
         "24",
         "Gradient Boosting",
         "feature_data",
         "0.02341607071051631",
         "0.8243911047568578",
         "0.9182224386190254",
         "1.4043885035031397e-81",
         "1.05"
        ],
        [
         "25",
         "Gradient Boosting",
         "feature_data",
         "0.019427378913524262",
         "0.8279847066770208",
         "0.9109935530645894",
         "4.270589861128382e-78",
         "1.05"
        ],
        [
         "26",
         "Gradient Boosting",
         "feature_data",
         "0.02441666596238142",
         "0.7898696349272353",
         "0.8949995162383354",
         "2.4095641946317002e-71",
         "1.05"
        ],
        [
         "27",
         "Gradient Boosting",
         "feature_data",
         "0.023315549651790564",
         "0.8274661187517593",
         "0.9227810581385021",
         "6.043618993401439e-84",
         "1.05"
        ],
        [
         "28",
         "Gradient Boosting",
         "feature_data",
         "0.026185811945547074",
         "0.7883134319795735",
         "0.8973919769710781",
         "2.780053416631246e-72",
         "1.05"
        ],
        [
         "29",
         "Gradient Boosting",
         "feature_data",
         "0.026964216746336516",
         "0.7776870580450093",
         "0.8889076036810231",
         "4.690699479320598e-69",
         "1.05"
        ],
        [
         "30",
         "Support Vector Machine",
         "feature_data",
         "0.018882306239419926",
         "0.836223532905432",
         "0.9217225598033446",
         "2.205353962810357e-83",
         "1.05"
        ],
        [
         "31",
         "Support Vector Machine",
         "feature_data",
         "0.019938060408634294",
         "0.8440282286844996",
         "0.9248613992752497",
         "4.4937627543779785e-85",
         "1.05"
        ],
        [
         "32",
         "Support Vector Machine",
         "feature_data",
         "0.020028936601656718",
         "0.8427882325883762",
         "0.9264828679113483",
         "5.624465526010251e-86",
         "1.05"
        ],
        [
         "33",
         "Support Vector Machine",
         "feature_data",
         "0.018593931759407246",
         "0.8382944173360682",
         "0.9197338217459361",
         "2.3910510477108523e-82",
         "1.05"
        ],
        [
         "34",
         "Support Vector Machine",
         "feature_data",
         "0.019030735602424194",
         "0.8572789390619175",
         "0.9395858391798",
         "3.942415112839062e-94",
         "1.05"
        ],
        [
         "35",
         "Support Vector Machine",
         "feature_data",
         "0.01698618904795747",
         "0.8495996652698257",
         "0.9235537891618528",
         "2.321629759197552e-84",
         "1.05"
        ],
        [
         "36",
         "Support Vector Machine",
         "feature_data",
         "0.01810136012920383",
         "0.8442192960282359",
         "0.9221892219544714",
         "1.2491416066865448e-83",
         "1.05"
        ],
        [
         "37",
         "Support Vector Machine",
         "feature_data",
         "0.020344020192429292",
         "0.8494552855749277",
         "0.9333747009597688",
         "4.658516881810025e-90",
         "1.05"
        ],
        [
         "38",
         "Support Vector Machine",
         "feature_data",
         "0.019742713439842845",
         "0.8403995545304537",
         "0.9288499982850351",
         "2.4810322818670714e-87",
         "1.05"
        ],
        [
         "39",
         "Support Vector Machine",
         "feature_data",
         "0.01959324084991965",
         "0.8384588339147606",
         "0.9261880105423435",
         "8.23633197698898e-86",
         "1.05"
        ],
        [
         "40",
         "Neural Network",
         "feature_data",
         "0.5152360371608714",
         "-3.468921159103357",
         "0.4681884072684416",
         "2.732985076347945e-12",
         "1.05"
        ],
        [
         "41",
         "Neural Network",
         "feature_data",
         "0.49507616195954257",
         "-2.872889555669605",
         "0.47226795457158866",
         "1.6643299847807722e-12",
         "1.05"
        ],
        [
         "42",
         "Neural Network",
         "feature_data",
         "0.5139842445628985",
         "-3.0343815109374184",
         "0.44861307866589684",
         "2.7004310023092024e-11",
         "1.05"
        ],
        [
         "43",
         "Neural Network",
         "feature_data",
         "0.49201875246664784",
         "-3.2789325075879736",
         "0.3291806715284419",
         "1.941142955958262e-06",
         "1.05"
        ],
        [
         "44",
         "Neural Network",
         "feature_data",
         "0.6881869804268684",
         "-4.161060403665461",
         "0.39428278411346107",
         "7.614050360763668e-09",
         "1.05"
        ],
        [
         "45",
         "Neural Network",
         "feature_data",
         "0.44222302976949296",
         "-2.915562903188179",
         "0.4539976619759847",
         "1.4590482934924317e-11",
         "1.05"
        ],
        [
         "46",
         "Neural Network",
         "feature_data",
         "0.5148381035030747",
         "-3.4307080585509864",
         "0.3767643903568829",
         "3.8229694700449714e-08",
         "1.05"
        ],
        [
         "47",
         "Neural Network",
         "feature_data",
         "0.6497565895072832",
         "-3.808165706087144",
         "0.37100220384970495",
         "6.368530765981e-08",
         "1.05"
        ],
        [
         "48",
         "Neural Network",
         "feature_data",
         "0.5435813593479057",
         "-3.394321346212979",
         "0.36928820324993783",
         "7.398405691460468e-08",
         "1.05"
        ],
        [
         "49",
         "Neural Network",
         "feature_data",
         "0.5227673643462526",
         "-3.3100807199104665",
         "0.39609153841709804",
         "6.410611406144577e-09",
         "1.05"
        ]
       ],
       "shape": {
        "columns": 7,
        "rows": 1750
       }
      },
      "text/html": [
       "<div>\n",
       "<style scoped>\n",
       "    .dataframe tbody tr th:only-of-type {\n",
       "        vertical-align: middle;\n",
       "    }\n",
       "\n",
       "    .dataframe tbody tr th {\n",
       "        vertical-align: top;\n",
       "    }\n",
       "\n",
       "    .dataframe thead th {\n",
       "        text-align: right;\n",
       "    }\n",
       "</style>\n",
       "<table border=\"1\" class=\"dataframe\">\n",
       "  <thead>\n",
       "    <tr style=\"text-align: right;\">\n",
       "      <th></th>\n",
       "      <th>Model</th>\n",
       "      <th>Feature Data</th>\n",
       "      <th>Mean Squared Error</th>\n",
       "      <th>R2 Score</th>\n",
       "      <th>Pearson Correlation</th>\n",
       "      <th>Pearson P-Value</th>\n",
       "      <th>Distortion Scale</th>\n",
       "    </tr>\n",
       "  </thead>\n",
       "  <tbody>\n",
       "    <tr>\n",
       "      <th>0</th>\n",
       "      <td>Linear Regression</td>\n",
       "      <td>feature_data</td>\n",
       "      <td>0.013666</td>\n",
       "      <td>0.881467</td>\n",
       "      <td>0.938981</td>\n",
       "      <td>1.025081e-93</td>\n",
       "      <td>1.05</td>\n",
       "    </tr>\n",
       "    <tr>\n",
       "      <th>1</th>\n",
       "      <td>Linear Regression</td>\n",
       "      <td>feature_data</td>\n",
       "      <td>0.014808</td>\n",
       "      <td>0.884160</td>\n",
       "      <td>0.941224</td>\n",
       "      <td>2.812114e-95</td>\n",
       "      <td>1.05</td>\n",
       "    </tr>\n",
       "    <tr>\n",
       "      <th>2</th>\n",
       "      <td>Linear Regression</td>\n",
       "      <td>feature_data</td>\n",
       "      <td>0.014958</td>\n",
       "      <td>0.882593</td>\n",
       "      <td>0.939479</td>\n",
       "      <td>4.672181e-94</td>\n",
       "      <td>1.05</td>\n",
       "    </tr>\n",
       "    <tr>\n",
       "      <th>3</th>\n",
       "      <td>Linear Regression</td>\n",
       "      <td>feature_data</td>\n",
       "      <td>0.014183</td>\n",
       "      <td>0.876654</td>\n",
       "      <td>0.936668</td>\n",
       "      <td>3.631858e-92</td>\n",
       "      <td>1.05</td>\n",
       "    </tr>\n",
       "    <tr>\n",
       "      <th>4</th>\n",
       "      <td>Linear Regression</td>\n",
       "      <td>feature_data</td>\n",
       "      <td>0.013225</td>\n",
       "      <td>0.900816</td>\n",
       "      <td>0.950615</td>\n",
       "      <td>1.470097e-102</td>\n",
       "      <td>1.05</td>\n",
       "    </tr>\n",
       "    <tr>\n",
       "      <th>...</th>\n",
       "      <td>...</td>\n",
       "      <td>...</td>\n",
       "      <td>...</td>\n",
       "      <td>...</td>\n",
       "      <td>...</td>\n",
       "      <td>...</td>\n",
       "      <td>...</td>\n",
       "    </tr>\n",
       "    <tr>\n",
       "      <th>1745</th>\n",
       "      <td>Neural Network</td>\n",
       "      <td>combined_dyn_data</td>\n",
       "      <td>15.520422</td>\n",
       "      <td>0.318960</td>\n",
       "      <td>0.688708</td>\n",
       "      <td>1.837342e-29</td>\n",
       "      <td>4</td>\n",
       "    </tr>\n",
       "    <tr>\n",
       "      <th>1746</th>\n",
       "      <td>Neural Network</td>\n",
       "      <td>combined_dyn_data</td>\n",
       "      <td>13.912538</td>\n",
       "      <td>0.394476</td>\n",
       "      <td>0.680449</td>\n",
       "      <td>1.528747e-28</td>\n",
       "      <td>4</td>\n",
       "    </tr>\n",
       "    <tr>\n",
       "      <th>1747</th>\n",
       "      <td>Neural Network</td>\n",
       "      <td>combined_dyn_data</td>\n",
       "      <td>11.729414</td>\n",
       "      <td>0.506237</td>\n",
       "      <td>0.770570</td>\n",
       "      <td>1.356230e-40</td>\n",
       "      <td>4</td>\n",
       "    </tr>\n",
       "    <tr>\n",
       "      <th>1748</th>\n",
       "      <td>Neural Network</td>\n",
       "      <td>combined_dyn_data</td>\n",
       "      <td>13.081506</td>\n",
       "      <td>0.586128</td>\n",
       "      <td>0.786921</td>\n",
       "      <td>2.186904e-43</td>\n",
       "      <td>4</td>\n",
       "    </tr>\n",
       "    <tr>\n",
       "      <th>1749</th>\n",
       "      <td>Neural Network</td>\n",
       "      <td>combined_dyn_data</td>\n",
       "      <td>12.723423</td>\n",
       "      <td>0.345811</td>\n",
       "      <td>0.730079</td>\n",
       "      <td>1.408596e-34</td>\n",
       "      <td>4</td>\n",
       "    </tr>\n",
       "  </tbody>\n",
       "</table>\n",
       "<p>1750 rows × 7 columns</p>\n",
       "</div>"
      ],
      "text/plain": [
       "                  Model       Feature Data  Mean Squared Error  R2 Score  \\\n",
       "0     Linear Regression       feature_data            0.013666  0.881467   \n",
       "1     Linear Regression       feature_data            0.014808  0.884160   \n",
       "2     Linear Regression       feature_data            0.014958  0.882593   \n",
       "3     Linear Regression       feature_data            0.014183  0.876654   \n",
       "4     Linear Regression       feature_data            0.013225  0.900816   \n",
       "...                 ...                ...                 ...       ...   \n",
       "1745     Neural Network  combined_dyn_data           15.520422  0.318960   \n",
       "1746     Neural Network  combined_dyn_data           13.912538  0.394476   \n",
       "1747     Neural Network  combined_dyn_data           11.729414  0.506237   \n",
       "1748     Neural Network  combined_dyn_data           13.081506  0.586128   \n",
       "1749     Neural Network  combined_dyn_data           12.723423  0.345811   \n",
       "\n",
       "      Pearson Correlation  Pearson P-Value Distortion Scale  \n",
       "0                0.938981     1.025081e-93             1.05  \n",
       "1                0.941224     2.812114e-95             1.05  \n",
       "2                0.939479     4.672181e-94             1.05  \n",
       "3                0.936668     3.631858e-92             1.05  \n",
       "4                0.950615    1.470097e-102             1.05  \n",
       "...                   ...              ...              ...  \n",
       "1745             0.688708     1.837342e-29                4  \n",
       "1746             0.680449     1.528747e-28                4  \n",
       "1747             0.770570     1.356230e-40                4  \n",
       "1748             0.786921     2.186904e-43                4  \n",
       "1749             0.730079     1.408596e-34                4  \n",
       "\n",
       "[1750 rows x 7 columns]"
      ]
     },
     "execution_count": 28,
     "metadata": {},
     "output_type": "execute_result"
    }
   ],
   "source": [
    "output_df"
   ]
  },
  {
   "cell_type": "code",
   "execution_count": null,
   "id": "ccb827a6",
   "metadata": {},
   "outputs": [
    {
     "name": "stdout",
     "output_type": "stream",
     "text": [
      "Saved figure to C:\\Users\\dawson\\Documents\\Google Drive\\My Drive\\DAWSON PHD PROJECT\\Biomarker Data Repository\\data\\new-peak-project\\experiments\\exp13_feature_predictivity_5_15_10/exp13_feature_predictivity.png\n"
     ]
    },
    {
     "data": {
      "image/png": "[encoded data removed]",
      "text/plain": [
       "<Figure size 640x480 with 1 Axes>"
      ]
     },
     "metadata": {},
     "output_type": "display_data"
    }
   ],
   "source": [
    "import matplotlib.pyplot as plt\n",
    "import seaborn as sns\n",
    "sns.set_context(\"talk\")\n",
    "sns.set_style(\"whitegrid\")\n",
    "sns.set(font=\"Arial\", font_scale=1.5)\n",
    "sns.lineplot(data=output_df, x='Distortion Scale', y='Pearson Correlation', hue='Feature Data', palette='Set1', marker='o')\n",
    "# 90 degree rotation of the x-axis labels\n",
    "# legend to the right\n",
    "plt.legend(title='Type of data', bbox_to_anchor=(1.05, 1), loc='upper left')\n",
    "if save_figures:\n",
    "    plt.savefig(load_folder + 'exp13_feature_predictivity.png')\n",
    "    print(f'Saved figure to {load_folder}exp13_feature_predictivity.png')\n",
    "plt.show()"
   ]
  }
 ],
 "metadata": {
  "kernelspec": {
   "display_name": "new-peak-project",
   "language": "python",
   "name": "python3"
  },
  "language_info": {
   "codemirror_mode": {
    "name": "ipython",
    "version": 3
   },
   "file_extension": ".py",
   "mimetype": "text/x-python",
   "name": "python",
   "nbconvert_exporter": "python",
   "pygments_lexer": "ipython3",
   "version": "3.12.6"
  }
 },
 "nbformat": 4,
 "nbformat_minor": 5
}
