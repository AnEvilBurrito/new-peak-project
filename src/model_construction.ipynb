{
 "cells": [
  {
   "cell_type": "markdown",
   "metadata": {},
   "source": [
    "## PEAK 3 Y24 phosphorylation"
   ]
  },
  {
   "cell_type": "code",
   "execution_count": 4,
   "metadata": {},
   "outputs": [
    {
     "name": "stdout",
     "output_type": "stream",
     "text": [
      "model PEAK3\n",
      "\n",
      "J0: PEAK3_Y24 -> PEAK3_Y24P; J0_Vmax*PEAK3_Y24/(J0_Km + PEAK3_Y24)\n",
      "J1: PEAK3_Y24P -> PEAK3_Y24; J1_Vmax*PEAK3_Y24P/(J1_Km + PEAK3_Y24P)\n",
      "\n",
      "# State variables in the system\n",
      "PEAK3_Y24=100\n",
      "PEAK3_Y24P=0\n",
      "\n",
      "# Parameters in the system\n",
      "J0_Km=100\n",
      "J0_Vmax=10\n",
      "J1_Km=100\n",
      "J1_Vmax=10\n",
      "\n",
      "end\n"
     ]
    },
    {
     "data": {
      "image/png": "[encoded data removed]",
      "text/plain": [
       "<Figure size 432x288 with 1 Axes>"
      ]
     },
     "metadata": {
      "needs_background": "light"
     },
     "output_type": "display_data"
    }
   ],
   "source": [
    "from models.ModelBuilder import ModelBuilder\n",
    "from models.Reaction import Reaction\n",
    "from models.ReactionArchtype import ReactionArchtype\n",
    "from models.ArchtypeCollections import *\n",
    "\n",
    "model = ModelBuilder('PEAK3')\n",
    "model.add_reaction(Reaction(michaelis_menten, ('PEAK3_Y24',), ('PEAK3_Y24P',)))\n",
    "model.add_reaction(Reaction(michaelis_menten, ('PEAK3_Y24P',), ('PEAK3_Y24',), reactant_values=0, product_values=100))\n",
    "\n",
    "print(model.get_antimony_model())\n",
    "\n",
    "model.simulate(0, 100, 100)\n",
    "model.plot()\n"
   ]
  },
  {
   "cell_type": "code",
   "execution_count": null,
   "metadata": {},
   "outputs": [],
   "source": [
    "# use antimony's default modularity to create model \n",
    "\n",
    "import antimony\n",
    "import roadrunner\n",
    "import matplotlib.pyplot as plt\n",
    "\n",
    "ant_model = \"\"\"\n",
    "\n",
    "model MichaelisMenten(F, B)\n",
    "    J0:F -> B; Vmf * F / (Kmf + F)\n",
    "    J1:B -> F; Vmb * B / (Kmb + B)\n",
    "\n",
    "    # default values\n",
    "    Vmf = 10\n",
    "    Vmb = 10\n",
    "    Kmf = 100\n",
    "    Kmb = 100\n",
    "end\n",
    "\n",
    "model SimpleMassAction(A, B)\n",
    "    J0:A -> B; ka * A - kd * B\n",
    "    J1:B -> A; kd * B - ka * A\n",
    "    # default values\n",
    "    ka = 0.01\n",
    "    kd = 0.01\n",
    "end\n",
    "\n",
    "model MassAction21(A,B,AB)\n",
    "    J0:A + B -> AB; ka * A * B - kd * AB\n",
    "    J1:AB -> A + B; kd * AB - ka * A * B\n",
    "\n",
    "    # default values\n",
    "    ka = 0.001\n",
    "    kd = 0.01\n",
    "\n",
    "    # bound variables\n",
    "    TA = A + AB\n",
    "    TB = B + AB\n",
    "\n",
    "end\n",
    "\n",
    "\n",
    "model simple_peak3\n",
    "    # Examples of different rate laws and initialization\n",
    "    \n",
    "    E0: MassAction21(PEAK3, GRB2, PEAK3_GRB2)\n",
    "    E1: MassAction21(PEAK3, CRKII, PEAK3_CRKII)\n",
    "    E2: MassAction21(TotalGRB2, ASAP1, GRB2_ASAP1)\n",
    "    E3: MassAction21(TotalCRKII, ASAP1, CRKII_ASAP1)\n",
    "\n",
    "    PEAK3 = 100 \n",
    "    GRB2 = 100\n",
    "    CRKII = 100\n",
    "    TotalGRB2 = GRB2 + PEAK3_GRB2 \n",
    "    TotalCRKII = CRKII + PEAK3_CRKII\n",
    "    ASAP1 = 100\n",
    "\n",
    "end\n",
    "\"\"\"\n",
    "\n",
    "antimony.clearPreviousLoads()\n",
    "antimony.freeAll()\n",
    "code = antimony.loadAntimonyString(ant_model)\n",
    "if code >= 0:\n",
    "    mid = antimony.getMainModuleName()\n",
    "    sbml_model = antimony.getSBMLString(mid)\n",
    "    print('Antimony model compiled without error')\n",
    "else:\n",
    "    print(code)\n",
    "r_model = roadrunner.RoadRunner(sbml_model)\n",
    "# r_model.model['S3'] = 1\n",
    "# print(r_model.model['S3'])\n",
    "\n",
    "\n",
    "r_solved = r_model.simulate(0, 100, 100)\n",
    "\n",
    "print(r_solved)\n",
    "\n",
    "r_model.plot()\n",
    "\n",
    "# plt.plot(r_solved['time'], label='TA')\n",
    "# plt.legend()\n",
    "# plt.grid()\n",
    "# plt.show()\n",
    "\n",
    "print(r_model.model.keys())\n",
    "# print(r_model.model['S3'])\n",
    "# print(r_solved)\n",
    "# plt.plot(r_solved)\n"
   ]
  },
  {
   "cell_type": "markdown",
   "metadata": {},
   "source": [
    "## Testing ground"
   ]
  },
  {
   "cell_type": "code",
   "execution_count": 26,
   "metadata": {},
   "outputs": [
    {
     "name": "stdout",
     "output_type": "stream",
     "text": [
      "[('A', 'B', 'C'), ('A', 'B', 'D'), ('A', 'C', 'D'), ('B', 'C', 'D')]\n"
     ]
    }
   ],
   "source": [
    "import itertools\n",
    "\n",
    "l = ['A', 'B', 'C', 'D']\n",
    "r = list(itertools.combinations(l, 3))\n",
    "\n",
    "# A bind both B and C\n",
    "# D bind to either B or C\n",
    "\n",
    "print(r)"
   ]
  },
  {
   "cell_type": "code",
   "execution_count": null,
   "metadata": {},
   "outputs": [],
   "source": [
    "## Representing Protein A with 1 binding site \n",
    "# A_0 + B -> A_1B"
   ]
  }
 ],
 "metadata": {
  "kernelspec": {
   "display_name": "Python 3.8.3 ('new-peak-project': venv)",
   "language": "python",
   "name": "python3"
  },
  "language_info": {
   "codemirror_mode": {
    "name": "ipython",
    "version": 3
   },
   "file_extension": ".py",
   "mimetype": "text/x-python",
   "name": "python",
   "nbconvert_exporter": "python",
   "pygments_lexer": "ipython3",
   "version": "3.8.10"
  },
  "orig_nbformat": 4,
  "vscode": {
   "interpreter": {
    "hash": "26dd0fc41489774a473fd43448eb28c34cff45d3a78493dcfae1c9dcdb817ac1"
   }
  }
 },
 "nbformat": 4,
 "nbformat_minor": 2
}
