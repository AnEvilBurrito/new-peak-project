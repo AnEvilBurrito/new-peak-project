{
 "cells": [
  {
   "cell_type": "markdown",
   "id": "37f462c5",
   "metadata": {},
   "source": [
    "## Init"
   ]
  },
  {
   "cell_type": "code",
   "execution_count": 7,
   "id": "79d0044e",
   "metadata": {},
   "outputs": [
    {
     "name": "stdout",
     "output_type": "stream",
     "text": [
      "Project path set to: c:\\Github\\new-peak-project\\src\n"
     ]
    }
   ],
   "source": [
    "import os\n",
    "\n",
    "path = os.getcwd()\n",
    "# find the string 'project' in the path, return index\n",
    "index_project = path.find('project')\n",
    "# slice the path from the index of 'project' to the end\n",
    "project_path = path[:index_project+7]\n",
    "# set the working directory\n",
    "os.chdir(project_path+'/src')\n",
    "print(f'Project path set to: {os.getcwd()}')"
   ]
  },
  {
   "cell_type": "code",
   "execution_count": 8,
   "id": "720a6a14",
   "metadata": {},
   "outputs": [
    {
     "name": "stdout",
     "output_type": "stream",
     "text": [
      "I:\\My Drive\\DAWSON PHD PROJECT\\Biomarker Data Repository\\data\\new-peak-project\\experiments\n"
     ]
    }
   ],
   "source": [
    "from dotenv import dotenv_values\n",
    "config = dotenv_values(\".env\")\n",
    "print(config[\"DATA_PATH\"])"
   ]
  },
  {
   "cell_type": "code",
   "execution_count": 9,
   "id": "3563bd38",
   "metadata": {},
   "outputs": [],
   "source": [
    "from models.ModelBuilder import ModelBuilder\n",
    "from models.Reaction import Reaction\n",
    "from models.ReactionArchtype import ReactionArchtype\n",
    "from models.ArchtypeCollections import *\n",
    "\n",
    "# import scikit-learn\n",
    "from sklearn.linear_model import LinearRegression\n",
    "# tree models and support vector machines\n",
    "from sklearn.ensemble import RandomForestRegressor\n",
    "from sklearn.ensemble import GradientBoostingRegressor\n",
    "from sklearn.svm import SVR\n",
    "from sklearn.neural_network import MLPRegressor\n",
    "from sklearn.model_selection import train_test_split\n",
    "from sklearn.metrics import mean_squared_error, r2_score\n",
    "# import pearson correlation\n",
    "from scipy.stats import pearsonr\n",
    "from sklearn.preprocessing import StandardScaler\n",
    "from sklearn.pipeline import Pipeline\n",
    "\n",
    "from copy import deepcopy"
   ]
  },
  {
   "cell_type": "markdown",
   "id": "f9196d5c",
   "metadata": {},
   "source": [
    "## Notebook Parameters"
   ]
  },
  {
   "cell_type": "code",
   "execution_count": 10,
   "id": "03dae550",
   "metadata": {},
   "outputs": [
    {
     "name": "stdout",
     "output_type": "stream",
     "text": [
      "I:\\My Drive\\DAWSON PHD PROJECT\\Biomarker Data Repository\\data\\new-peak-project\\experiments/exp8_model_search_v2/\n"
     ]
    }
   ],
   "source": [
    "\n",
    "import os \n",
    "\n",
    "### parameters \n",
    "\n",
    "notebook_name = 'exp8_model_search_v2' # name of the notebook\n",
    "\n",
    "## Generation of ground truth model \n",
    "\n",
    "model_name = 'test_models'\n",
    "no_observable_species = 5\n",
    "no_feedback_regulations = 2\n",
    "specie_value_range = (1000, 5000)\n",
    "param_range = (0.05, 20)\n",
    "param_multiplier_range = (0.5, 1.5)\n",
    "\n",
    "\n",
    "## Simulation parameters \n",
    "\n",
    "simulation_time = 1000 \n",
    "simulation_step = 100\n",
    "\n",
    "## Feature data generation \n",
    "\n",
    "feature_generation_method = 'lhs'\n",
    "feature_generation_extra_params = {'min': 0.1, 'max': 10}\n",
    "feature_generation_size = 1000 \n",
    "feature_generation_seed = 50 # if -1 then 'o_random_seed' is used\n",
    "\n",
    "## Search parameters\n",
    "\n",
    "o_random_seeds = list(range(1, 2))\n",
    "parameter_random_seeds = list(range(1, 3))\n",
    "\n",
    "    \n",
    "## Data engineering parameters\n",
    "\n",
    "# Suboptimal Model Generation \n",
    "\n",
    "'''\n",
    "Options: \n",
    "- 'feedback_prune': removes feedback regulations from the model \n",
    "- 'random parameter': randomizes a x% of parameter values of the model\n",
    "'''\n",
    "\n",
    "''' \n",
    "Options: \n",
    "- 'last_time_point' : only the last time point of the phosphorylated species is used\n",
    "- 'dynamic_feature': computes the characteristic 'ten' dynamic feature for each specie data \n",
    "'''\n",
    "\n",
    "## General parameters\n",
    "parallelise = True\n",
    "save_figures = True \n",
    "experiment_id = notebook_name\n",
    "experiment_folder = config['DATA_PATH'] + '/' + experiment_id + '/'\n",
    "if not os.path.exists(experiment_folder):\n",
    "    os.makedirs(experiment_folder)\n",
    "    \n",
    "print(experiment_folder)"
   ]
  },
  {
   "cell_type": "markdown",
   "id": "d6e324a3",
   "metadata": {},
   "source": [
    "## Analysis "
   ]
  },
  {
   "cell_type": "code",
   "execution_count": 11,
   "id": "36678527",
   "metadata": {},
   "outputs": [
    {
     "name": "stderr",
     "output_type": "stream",
     "text": [
      "  0%|          | 0/2 [00:00<?, ?it/s]C:\\Users\\l8105\\AppData\\Local\\Temp\\ipykernel_15168\\3413793347.py:102: UserWarning: Error in model 0 1 1: cannot access local variable 'rng' where it is not associated with a value\n",
      "  warnings.warn(f'Error in model {index} {o_random_seed} {p_random_seed}: {e}')\n",
      "C:\\Users\\l8105\\AppData\\Local\\Temp\\ipykernel_15168\\3413793347.py:102: UserWarning: Error in model 1 1 2: cannot access local variable 'rng' where it is not associated with a value\n",
      "  warnings.warn(f'Error in model {index} {o_random_seed} {p_random_seed}: {e}')\n",
      "100%|██████████| 2/2 [00:00<00:00, 1000.79it/s]\n"
     ]
    }
   ],
   "source": [
    "from models.Utils import *\n",
    "from models.DrugModelSpecification import DrugModelSpecification, Drug\n",
    "from models.Solver.RoadrunnerSolver import RoadrunnerSolver\n",
    "from models.SyntheticGen import generate_feature_data, generate_target_data, generate_model_timecourse_data, generate_feature_data_v2\n",
    "from models.Utils import last_time_point_method, dynamic_features_method\n",
    "from models.Parallel import parallelize_joblib\n",
    "\n",
    "\n",
    "def evaluate_model(model, model_name, feature_data, feature_data_name, target_data ,test_size=0.2, random_state=4):\n",
    "    X_train, X_test, y_train, y_test = train_test_split(feature_data, target_data, test_size=test_size, random_state=random_state)\n",
    "    model.fit(X_train, y_train)\n",
    "    y_pred = model.predict(X_test)\n",
    "    # return a dictionary of the model performance\n",
    "    return {'Model': model_name, \n",
    "            'Feature Data': feature_data_name,\n",
    "            'Mean Squared Error': mean_squared_error(y_test, y_pred),\n",
    "            'R2 Score': r2_score(y_test, y_pred),\n",
    "            'Pearson Correlation': pearsonr(y_test, y_pred)[0],\n",
    "            'Pearson P-Value': pearsonr(y_test, y_pred)[1]\n",
    "            }\n",
    "\n",
    "import warnings \n",
    "warnings.filterwarnings(\"ignore\", category=FutureWarning)\n",
    "\n",
    "# nest o_random_seed and parameter_random_seed into a list of tuples\n",
    "search_results = []\n",
    "for o_random_seed in o_random_seeds:\n",
    "    for parameter_random_seed in parameter_random_seeds:\n",
    "        search_results.append({'o_random_seed': o_random_seed, 'parameter_random_seed': parameter_random_seed})\n",
    "search_results = pd.DataFrame(search_results)\n",
    "\n",
    "output_data = []\n",
    "# iterate through the search results\n",
    "max_iter = search_results.shape[0]\n",
    "curr_iter = 0\n",
    "for index, row in tqdm(search_results.iterrows(), total=max_iter):   \n",
    "    # key parameters for the iteration \n",
    "    o_random_seed, p_random_seed = int(row['o_random_seed']), int(row['parameter_random_seed'])\n",
    "    # print(f'Running iteration {index} with o_random_seed {o_random_seed} and parameter_random_seed {p_random_seed}')\n",
    "    # create a drug enabled model \n",
    "    try: \n",
    "        model_drug_spec = DrugModelSpecification()\n",
    "        model_drug_spec.generate_specifications(o_random_seed, no_observable_species, no_feedback_regulations, verbose=0)\n",
    "        drug_0 = Drug('D0', 500, 5000)\n",
    "        np.random.seed(o_random_seed)\n",
    "        # add random 'up' and 'down' regulations to the drug\n",
    "        regulation_dir = []\n",
    "        for i, s in enumerate(model_drug_spec.A_species):\n",
    "            regulation_dir.append(np.random.choice(['up', 'down']))\n",
    "            drug_0.add_regulation(s, 'up')\n",
    "        model_drug_spec.add_drug(drug_0)\n",
    "        G0_d = model_drug_spec.generate_network(f'drug_model_{index}', specie_value_range, param_range, param_multiplier_range, random_seed=p_random_seed, verbose=0)\n",
    "        base_parameters = G0_d.get_parameters()\n",
    "        base_initial_conditions = G0_d.get_state_variables()\n",
    "        # generate feature and target data\n",
    "        solver = RoadrunnerSolver()\n",
    "        solver.compile(G0_d.get_sbml_model())\n",
    "        feature_data = generate_feature_data_v2(model_drug_spec, G0_d.get_state_variables(), feature_generation_method, feature_generation_extra_params, 1000, feature_generation_seed)\n",
    "        target_data, _ = generate_target_data(model_drug_spec, solver, feature_data, {'start': 0, 'end': simulation_time, 'points': simulation_step}, n_cores=8, verbose=False)\n",
    "        \n",
    "        \n",
    "        # create a dataframe with the feature data and target data\n",
    "        feature_data_df = pd.DataFrame(feature_data)\n",
    "        target_data_df = pd.DataFrame(target_data)\n",
    "        # add the target data to the feature data\n",
    "        feature_data_df['target'] = target_data_df['Cp']\n",
    "        # measure the mean and standard deviation of the target data\n",
    "        target_data = np.array(target_data_df['Cp'])\n",
    "        # calculate the mean and standard deviation of the target data\n",
    "        mean_target = np.mean(target_data_df['Cp'])\n",
    "        std_target = np.std(target_data_df['Cp'])\n",
    "\n",
    "        # calculate the correlation between the features and the target data\n",
    "        correlation = feature_data_df.corr()['target'].sort_values(ascending=False)\n",
    "        # create a dataframe with the correlation values\n",
    "        correlation_df = pd.DataFrame(correlation)\n",
    "        correlation_df = correlation_df.reset_index()\n",
    "        correlation_df.columns = ['feature', 'correlation']\n",
    "        # do not include the target data in the correlation dataframe\n",
    "        correlation_df = correlation_df[correlation_df['feature'] != 'target']\n",
    "        \n",
    "        # extract the mean and standard deviation of the correlation values\n",
    "        mean = np.mean(correlation_df['correlation'])\n",
    "        std = np.std(correlation_df['correlation'])\n",
    "        max_val = np.max(correlation_df['correlation'])\n",
    "        min_val = np.min(correlation_df['correlation'])\n",
    "        outliers = correlation_df[(correlation_df['correlation'] > mean + 3*std) | (correlation_df['correlation'] < mean - 3*std)]\n",
    "        outliers_ratio = outliers.shape[0] / correlation_df.shape[0]\n",
    "        output_data.append({\n",
    "            'o_random_seed': o_random_seed,\n",
    "            'parameter_random_seed': p_random_seed,\n",
    "            'mean': mean,\n",
    "            'std': std,\n",
    "            'max': max_val,\n",
    "            'min': min_val,\n",
    "            'outliers_ratio': outliers_ratio,\n",
    "            'mean_target': mean_target,\n",
    "            'std_target': std_target,\n",
    "        })\n",
    "        \n",
    "    except Exception as e:\n",
    "        warnings.warn(f'Error in model {index} {o_random_seed} {p_random_seed}: {e}')\n",
    "        \n",
    "    curr_iter += 1    \n",
    "    if curr_iter > max_iter:\n",
    "        print('Max iterations reached, stopping...')\n",
    "        break\n"
   ]
  },
  {
   "cell_type": "code",
   "execution_count": 12,
   "id": "a8b5975c",
   "metadata": {},
   "outputs": [
    {
     "data": {
      "application/vnd.microsoft.datawrangler.viewer.v0+json": {
       "columns": [
        {
         "name": "index",
         "rawType": "int64",
         "type": "integer"
        }
       ],
       "conversionMethod": "pd.DataFrame",
       "ref": "229812dc-f776-4171-94fa-ec239ab0b07f",
       "rows": [],
       "shape": {
        "columns": 0,
        "rows": 0
       }
      },
      "text/html": [
       "<div>\n",
       "<style scoped>\n",
       "    .dataframe tbody tr th:only-of-type {\n",
       "        vertical-align: middle;\n",
       "    }\n",
       "\n",
       "    .dataframe tbody tr th {\n",
       "        vertical-align: top;\n",
       "    }\n",
       "\n",
       "    .dataframe thead th {\n",
       "        text-align: right;\n",
       "    }\n",
       "</style>\n",
       "<table border=\"1\" class=\"dataframe\">\n",
       "  <thead>\n",
       "    <tr style=\"text-align: right;\">\n",
       "      <th></th>\n",
       "    </tr>\n",
       "  </thead>\n",
       "  <tbody>\n",
       "  </tbody>\n",
       "</table>\n",
       "</div>"
      ],
      "text/plain": [
       "Empty DataFrame\n",
       "Columns: []\n",
       "Index: []"
      ]
     },
     "execution_count": 12,
     "metadata": {},
     "output_type": "execute_result"
    }
   ],
   "source": [
    "# check the output data as a dataframe\n",
    "\n",
    "output_data_df = pd.DataFrame(output_data)\n",
    "output_data_df"
   ]
  }
 ],
 "metadata": {
  "kernelspec": {
   "display_name": ".venv",
   "language": "python",
   "name": "python3"
  },
  "language_info": {
   "codemirror_mode": {
    "name": "ipython",
    "version": 3
   },
   "file_extension": ".py",
   "mimetype": "text/x-python",
   "name": "python",
   "nbconvert_exporter": "python",
   "pygments_lexer": "ipython3",
   "version": "3.12.6"
  }
 },
 "nbformat": 4,
 "nbformat_minor": 5
}
