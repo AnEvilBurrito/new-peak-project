{
 "cells": [
  {
   "cell_type": "markdown",
   "id": "ed0a5d3a",
   "metadata": {},
   "source": [
    "## Init"
   ]
  },
  {
   "cell_type": "code",
   "execution_count": 1,
   "id": "1bb81f51",
   "metadata": {},
   "outputs": [
    {
     "name": "stdout",
     "output_type": "stream",
     "text": [
      "Project path set to: c:\\Users\\dawson\\Documents\\GitHub\\new-peak-project\\src\n"
     ]
    }
   ],
   "source": [
    "import os\n",
    "\n",
    "path = os.getcwd()\n",
    "# find the string 'project' in the path, return index\n",
    "index_project = path.find('project')\n",
    "# slice the path from the index of 'project' to the end\n",
    "project_path = path[:index_project+7]\n",
    "# set the working directory\n",
    "os.chdir(project_path+'/src')\n",
    "print(f'Project path set to: {os.getcwd()}')"
   ]
  },
  {
   "cell_type": "code",
   "execution_count": 2,
   "id": "1a9d619e",
   "metadata": {},
   "outputs": [
    {
     "name": "stdout",
     "output_type": "stream",
     "text": [
      "C:\\Users\\dawson\\Documents\\Google Drive\\My Drive\\DAWSON PHD PROJECT\\Biomarker Data Repository\\data\\new-peak-project\\experiments\n"
     ]
    }
   ],
   "source": [
    "from dotenv import dotenv_values\n",
    "config = dotenv_values(\".env\")\n",
    "print(config[\"DATA_PATH\"])"
   ]
  },
  {
   "cell_type": "code",
   "execution_count": 3,
   "id": "d146f02b",
   "metadata": {},
   "outputs": [],
   "source": [
    "from models.ModelBuilder import ModelBuilder\n",
    "from models.Reaction import Reaction\n",
    "from models.ReactionArchtype import ReactionArchtype\n",
    "from models.ArchtypeCollections import *\n",
    "\n",
    "# import scikit-learn\n",
    "from sklearn.linear_model import LinearRegression\n",
    "# tree models and support vector machines\n",
    "from sklearn.ensemble import RandomForestRegressor\n",
    "from sklearn.ensemble import GradientBoostingRegressor\n",
    "from sklearn.svm import SVR\n",
    "from sklearn.neural_network import MLPRegressor\n",
    "from sklearn.model_selection import train_test_split\n",
    "from sklearn.metrics import mean_squared_error, r2_score\n",
    "# import pearson correlation\n",
    "from scipy.stats import pearsonr\n",
    "from sklearn.preprocessing import StandardScaler\n",
    "from sklearn.pipeline import Pipeline\n",
    "\n",
    "from copy import deepcopy"
   ]
  },
  {
   "cell_type": "markdown",
   "id": "b258d0ff",
   "metadata": {},
   "source": [
    "## Notebook Parameters"
   ]
  },
  {
   "cell_type": "code",
   "execution_count": 4,
   "id": "33cc3166",
   "metadata": {},
   "outputs": [
    {
     "name": "stdout",
     "output_type": "stream",
     "text": [
      "C:\\Users\\dawson\\Documents\\Google Drive\\My Drive\\DAWSON PHD PROJECT\\Biomarker Data Repository\\data\\new-peak-project\\experiments/exp17_feature_predictivity_target_data_noise_5_5_2/\n"
     ]
    }
   ],
   "source": [
    "import os \n",
    "import numpy as np\n",
    "\n",
    "### parameters \n",
    "\n",
    "notebook_name = 'exp17_feature_predictivity_target_data_noise' # name of the notebook\n",
    "noise_levels = [0.01, 0.05, 0.1, 1, 2, 5, 50] # noise levels to be tested\n",
    "\n",
    "## Generation of ground truth model \n",
    "\n",
    "model_name = 'v4_drug_model' # name of the model\n",
    "o_random_seed = 5\n",
    "# p_overall_seed = 46 # different seed for parameter generation\n",
    "no_observable_species = 5\n",
    "no_feedback_regulations = 2\n",
    "specie_value_range = (1000, 5000)\n",
    "param_range = (0.8, 1.2)\n",
    "param_multiplier_range = (0.99, 1.01)\n",
    "\n",
    "## Simulation parameters \n",
    "\n",
    "simulation_time = 1000 \n",
    "simulation_step = 100\n",
    "\n",
    "## Feature data generation \n",
    "\n",
    "feature_generation_method = 'lhs'\n",
    "feature_generation_extra_params = {'min': 0.1, 'max': 10}\n",
    "feature_generation_size = 1000 \n",
    "feature_generation_seed = 50 # if -1 then 'o_random_seed' is used\n",
    "if feature_generation_seed == -1:\n",
    "    feature_generation_seed = o_random_seed\n",
    "\n",
    "\n",
    "'''\n",
    "Options: \n",
    "- 'feedback_prune': removes feedback regulations from the model \n",
    "- 'random parameter': randomizes a x% of parameter values of the model\n",
    "'''\n",
    "\n",
    "''' \n",
    "Options: \n",
    "- 'last_time_point' : only the last time point of the phosphorylated species is used\n",
    "- 'dynamic_feature': computes the characteristic 'ten' dynamic feature for each specie data \n",
    "'''\n",
    "\n",
    "## General parameters\n",
    "parallelise = True\n",
    "save_figures = True \n",
    "experiment_id = notebook_name + '_' + str(o_random_seed) + '_' + str(no_observable_species) + '_' + str(no_feedback_regulations)\n",
    "experiment_folder = config['DATA_PATH'] + '/' + experiment_id + '/'\n",
    "if not os.path.exists(experiment_folder):\n",
    "    os.makedirs(experiment_folder)\n",
    "    \n",
    "print(experiment_folder)"
   ]
  },
  {
   "cell_type": "markdown",
   "id": "78c3738a",
   "metadata": {},
   "source": [
    "## Compute"
   ]
  },
  {
   "cell_type": "code",
   "execution_count": 5,
   "id": "ff0335b0",
   "metadata": {},
   "outputs": [
    {
     "name": "stdout",
     "output_type": "stream",
     "text": [
      "Experiment ID:  exp17_feature_predictivity_target_data_noise_5_5_2\n",
      "Experiment folder:  C:\\Users\\dawson\\Documents\\Google Drive\\My Drive\\DAWSON PHD PROJECT\\Biomarker Data Repository\\data\\new-peak-project\\experiments/exp17_feature_predictivity_target_data_noise_5_5_2/\n",
      "Distortion Range (For Ground Truth Param Range):  [0.01, 0.05, 0.1, 1, 2, 5, 50]\n"
     ]
    }
   ],
   "source": [
    "print('Experiment ID: ', experiment_id)\n",
    "print('Experiment folder: ', experiment_folder)\n",
    "print('Distortion Range (For Ground Truth Param Range): ', noise_levels)"
   ]
  },
  {
   "cell_type": "code",
   "execution_count": 6,
   "id": "984ddb4c",
   "metadata": {},
   "outputs": [
    {
     "name": "stderr",
     "output_type": "stream",
     "text": [
      "0it [00:00, ?it/s]"
     ]
    },
    {
     "name": "stdout",
     "output_type": "stream",
     "text": [
      "------ Starting loop 0 for 0.01\n",
      "--- Completed Model Initialisation for 0.01\n",
      "--- Generated Target Data for 0.01\n",
      "--- Generated Timecourse Data for 0.01, Now running for Machine Learning Phase\n"
     ]
    },
    {
     "name": "stderr",
     "output_type": "stream",
     "text": [
      "1it [00:40, 40.48s/it]"
     ]
    },
    {
     "name": "stdout",
     "output_type": "stream",
     "text": [
      "--- Machine learning phase for 0.01 complete, saving files and move on to 1\n",
      "------ Starting loop 1 for 0.05\n",
      "--- Completed Model Initialisation for 0.05\n",
      "--- Generated Target Data for 0.05\n",
      "--- Generated Timecourse Data for 0.05, Now running for Machine Learning Phase\n"
     ]
    },
    {
     "name": "stderr",
     "output_type": "stream",
     "text": [
      "2it [01:21, 40.87s/it]"
     ]
    },
    {
     "name": "stdout",
     "output_type": "stream",
     "text": [
      "--- Machine learning phase for 0.05 complete, saving files and move on to 2\n",
      "------ Starting loop 2 for 0.1\n",
      "--- Completed Model Initialisation for 0.1\n",
      "--- Generated Target Data for 0.1\n",
      "--- Generated Timecourse Data for 0.1, Now running for Machine Learning Phase\n"
     ]
    },
    {
     "name": "stderr",
     "output_type": "stream",
     "text": [
      "3it [02:03, 41.33s/it]"
     ]
    },
    {
     "name": "stdout",
     "output_type": "stream",
     "text": [
      "--- Machine learning phase for 0.1 complete, saving files and move on to 3\n",
      "------ Starting loop 3 for 1\n",
      "--- Completed Model Initialisation for 1\n",
      "--- Generated Target Data for 1\n",
      "--- Generated Timecourse Data for 1, Now running for Machine Learning Phase\n"
     ]
    },
    {
     "name": "stderr",
     "output_type": "stream",
     "text": [
      "4it [02:50, 43.63s/it]"
     ]
    },
    {
     "name": "stdout",
     "output_type": "stream",
     "text": [
      "--- Machine learning phase for 1 complete, saving files and move on to 4\n",
      "------ Starting loop 4 for 2\n",
      "--- Completed Model Initialisation for 2\n",
      "--- Generated Target Data for 2\n",
      "--- Generated Timecourse Data for 2, Now running for Machine Learning Phase\n"
     ]
    },
    {
     "name": "stderr",
     "output_type": "stream",
     "text": [
      "5it [03:39, 45.44s/it]"
     ]
    },
    {
     "name": "stdout",
     "output_type": "stream",
     "text": [
      "--- Machine learning phase for 2 complete, saving files and move on to 5\n",
      "------ Starting loop 5 for 5\n",
      "--- Completed Model Initialisation for 5\n",
      "--- Generated Target Data for 5\n",
      "--- Generated Timecourse Data for 5, Now running for Machine Learning Phase\n"
     ]
    },
    {
     "name": "stderr",
     "output_type": "stream",
     "text": [
      "6it [04:34, 48.82s/it]"
     ]
    },
    {
     "name": "stdout",
     "output_type": "stream",
     "text": [
      "--- Machine learning phase for 5 complete, saving files and move on to 6\n",
      "------ Starting loop 6 for 50\n",
      "--- Completed Model Initialisation for 50\n",
      "--- Generated Target Data for 50\n",
      "--- Generated Timecourse Data for 50, Now running for Machine Learning Phase\n"
     ]
    },
    {
     "name": "stderr",
     "output_type": "stream",
     "text": [
      "7it [05:59, 51.32s/it]"
     ]
    },
    {
     "name": "stdout",
     "output_type": "stream",
     "text": [
      "--- Machine learning phase for 50 complete, saving files and move on to 7\n"
     ]
    },
    {
     "name": "stderr",
     "output_type": "stream",
     "text": [
      "\n"
     ]
    }
   ],
   "source": [
    "### Virtual Cell Creation\n",
    "# create a drug enabled model \n",
    "from models.Utils import *\n",
    "from models.DrugModelSpecification import DrugModelSpecification, Drug\n",
    "from models.Solver.RoadrunnerSolver import RoadrunnerSolver\n",
    "from models.SyntheticGen import generate_feature_data_v2, generate_target_data_diff_build\n",
    "from models.SyntheticGen import generate_model_timecourse_data_diff_build\n",
    "from models.Utils import last_time_point_method, dynamic_features_method\n",
    "from joblib import Parallel, delayed\n",
    "import pickle\n",
    "\n",
    "verbose = True \n",
    "output_data = []\n",
    "for j, noise in tqdm(enumerate(noise_levels)):\n",
    "    \n",
    "    print(f'------ Starting loop {j} for {noise}')\n",
    "\n",
    "    model_drug_spec = DrugModelSpecification()\n",
    "    model_drug_spec.generate_specifications(o_random_seed, no_observable_species, no_feedback_regulations, verbose=0)\n",
    "    drug_0 = Drug('D0', 500, 500)\n",
    "    rng = np.random.default_rng(o_random_seed)\n",
    "    # add random 'up' and 'down' regulations to the drug\n",
    "    regulation_dir = []\n",
    "    for i, s in enumerate(model_drug_spec.A_species):\n",
    "        reg_type = str(rng.choice(['up', 'down']))\n",
    "        regulation_dir.append(reg_type)\n",
    "        drug_0.add_regulation(s, reg_type)\n",
    "    model_drug_spec.add_drug(drug_0)\n",
    "    # print(model_drug_spec)\n",
    "    # print(f'Feedback: {model_drug_spec.get_feedback_regulations()}')\n",
    "\n",
    "\n",
    "    p_random_seeds = []\n",
    "    feature_size = 1000 \n",
    "    rng = np.random.default_rng(o_random_seed)\n",
    "    # generate `feature_size` random seeds for different parameter sets using numpy, ensure that the seeds are unique\n",
    "    p_random_seeds = rng.choice(range(1000000), feature_size, replace=False).tolist()\n",
    "\n",
    "    G0_d = model_drug_spec.generate_network('drug_model_524', \n",
    "                                            specie_value_range, \n",
    "                                            param_range, \n",
    "                                            param_multiplier_range,  \n",
    "                                            verbose=0,\n",
    "                                            random_seed=p_random_seeds[0])\n",
    "    base_parameters = G0_d.get_parameters()\n",
    "    base_initial_conditions = G0_d.get_state_variables()\n",
    "\n",
    "    if verbose: print(f'--- Completed Model Initialisation for {noise}')\n",
    "    # print(G0_d.get_antimony_model())\n",
    "\n",
    "\n",
    "    # generate parameter sets for each random seed\n",
    "    parameter_sets = []\n",
    "    for p in p_random_seeds: \n",
    "        model_build = model_drug_spec.generate_network(f'param_seed_{p}', \n",
    "                                                specie_value_range, param_range, param_multiplier_range, random_seed=p, verbose=0)\n",
    "        parameter_sets.append(model_build.get_parameters())\n",
    "        \n",
    "    # test simulation \n",
    "\n",
    "\n",
    "\n",
    "    solver = RoadrunnerSolver()\n",
    "    solver.compile(G0_d.get_sbml_model())\n",
    "    # result = solver.simulate(0, 1000, 100)\n",
    "\n",
    "\n",
    "\n",
    "    feature_data = generate_feature_data_v2(model_drug_spec, base_initial_conditions, feature_generation_method, feature_generation_extra_params, 1000, feature_generation_seed)\n",
    "    target_data, _ = generate_target_data_diff_build(model_drug_spec, solver, \n",
    "                                                    feature_data, parameter_sets, \n",
    "                                                    {'start': 0, 'end': 1000, 'points': 100}, \n",
    "                                                    n_cores=1, verbose=False)\n",
    "    \n",
    "    # apply distortion noise to feature data\n",
    "    old_target_data = target_data.copy()\n",
    "    rng = np.random.default_rng(o_random_seed)\n",
    "    # Select numeric columns only\n",
    "    numeric_cols = target_data.select_dtypes(include=np.number).columns\n",
    "    noise_level = np.random.normal(\n",
    "        loc=0,\n",
    "        scale=noise,  # fixed std in log space mimics detector noise\n",
    "        size=target_data[numeric_cols].shape\n",
    "    )\n",
    "    noisy_df = target_data.copy()\n",
    "    noisy_df[numeric_cols] += noise_level\n",
    "    target_data = noisy_df\n",
    "\n",
    "    if verbose: print(f'--- Generated Target Data for {noise}')\n",
    "\n",
    "\n",
    "    # Suboptimal Model Generation\n",
    "\n",
    "    # randomise links and parameters by using a different random seed\n",
    "    new_spec = DrugModelSpecification()\n",
    "    new_spec.generate_specifications(o_random_seed, no_observable_species, no_feedback_regulations, verbose=0)\n",
    "    new_spec.add_drug(drug_0)\n",
    "    new_model = new_spec.generate_network('submodel', specie_value_range, param_range, param_multiplier_range, random_seed=100005352, verbose=0)\n",
    "    new_base_parameters = new_model.get_parameters()\n",
    "    new_base_initial_conditions = new_model.get_state_variables()\n",
    "    new_solver = RoadrunnerSolver()\n",
    "    new_solver.compile(new_model.get_sbml_model())\n",
    "\n",
    "    # Minor distortion of the parameters to create a new set of parameters\n",
    "\n",
    "    rng = np.random.default_rng(o_random_seed)\n",
    "    modified_parameter_sets = []\n",
    "    for params in parameter_sets:\n",
    "        new_params = {}\n",
    "        for key, value in params.items(): \n",
    "            new_params[key] = value * rng.uniform(0.1, 10) # distortion range, expectation is that the larger the worse the model performance \n",
    "        modified_parameter_sets.append(new_params)\n",
    "        \n",
    "        \n",
    "\n",
    "\n",
    "    new_base_parameters_set = []\n",
    "    for p in p_random_seeds: \n",
    "        new_base_parameters_set.append(new_base_parameters)\n",
    "\n",
    "    # generate the timecourse data for the new model\n",
    "    time_course_data = generate_model_timecourse_data_diff_build(model_drug_spec, \n",
    "                                                    solver, \n",
    "                                                    feature_data, \n",
    "                                                    parameter_sets,\n",
    "                                                    {'start': 0, 'end': 1000, 'points': 100}, \n",
    "                                                    capture_species='all', n_cores=1, verbose=False)\n",
    "\n",
    "\n",
    "    if verbose: print(f'--- Generated Timecourse Data for {noise}, Now running for Machine Learning Phase')\n",
    "\n",
    "\n",
    "    all_species = model_drug_spec.A_species + model_drug_spec.B_species + model_drug_spec.C_species\n",
    "    all_phos_species = [s+'p' for s in all_species]\n",
    "    # apply the data engineering method to the feature data\n",
    "    last_time_data = last_time_point_method(time_course_data, all_phos_species)\n",
    "\n",
    "    dynamic_data = dynamic_features_method(time_course_data, all_phos_species, n_cores=8)\n",
    "    combined_lp_data = pd.concat([feature_data, last_time_data], axis=1)\n",
    "    combined_dyn_data = pd.concat([feature_data, dynamic_data], axis=1)\n",
    "    feature_data_list = [feature_data, last_time_data, dynamic_data, combined_lp_data, combined_dyn_data]\n",
    "    feature_data_names = ['feature_data', 'last_time_data', 'dynamic_data', 'combined_lp_data', 'combined_dyn_data']\n",
    "\n",
    "\n",
    "    def evaluate_model(model, model_name, feature_data, feature_data_name, target_data, test_size=0.2, random_state=4):\n",
    "        X_train, X_test, y_train, y_test = train_test_split(feature_data, target_data, test_size=test_size, random_state=random_state)\n",
    "        model.fit(X_train, y_train)\n",
    "        y_pred = model.predict(X_test)\n",
    "        # return a dictionary of the model performance\n",
    "        return {'Model': model_name, \n",
    "                'Feature Data': feature_data_name,\n",
    "                'Mean Squared Error': mean_squared_error(y_test, y_pred),\n",
    "                'R2 Score': r2_score(y_test, y_pred),\n",
    "                'Pearson Correlation': pearsonr(y_test, y_pred)[0],\n",
    "                'Pearson P-Value': pearsonr(y_test, y_pred)[1]\n",
    "                }\n",
    "        \n",
    "    # create a linear regression model\n",
    "    lm = LinearRegression()\n",
    "    # create a random forest model\n",
    "    rf = RandomForestRegressor(n_estimators=100, random_state=o_random_seed)\n",
    "    # create a gradient boosting model\n",
    "    gb = GradientBoostingRegressor(n_estimators=100, random_state=o_random_seed)\n",
    "    # create a support vector machine model\n",
    "    svr = SVR(max_iter=10000)\n",
    "    scaled_svr = Pipeline([('scaler', StandardScaler()), ('svr', svr)])\n",
    "    # create a neural network model (simple)\n",
    "    nn = MLPRegressor(hidden_layer_sizes=(20,), max_iter=10000, random_state=o_random_seed)\n",
    "    scaled_nn = Pipeline([('scaler', StandardScaler()), ('nn', nn)])\n",
    "\n",
    "    all_models = [lm, rf, gb, scaled_svr, scaled_nn]\n",
    "    all_models_desc = ['Linear Regression', 'Random Forest', 'Gradient Boosting', 'Support Vector Machine', 'Neural Network']\n",
    "    zipped_model_data = list(zip(all_models, all_models_desc))\n",
    "    all_features = feature_data_list\n",
    "    all_features_desc = feature_data_names\n",
    "    zipped_feature_data = list(zip(all_features, all_features_desc))\n",
    "\n",
    "    # random states are rand ints between 0 and 10000, for n values \n",
    "    np.random.seed(o_random_seed)\n",
    "    n_random = 10\n",
    "    all_random_states = np.random.randint(0, 10000, n_random)\n",
    "\n",
    "    parallelise = True \n",
    "    from tqdm import tqdm\n",
    "    # tqdm is a progress bar library, use it to show the progress of the model evaluation\n",
    "    metric_data = []\n",
    "    if not parallelise:          \n",
    "        for (feature_data, feature_data_name) in tqdm(zipped_feature_data):\n",
    "            # print('Feature Data:', feature_data_name)\n",
    "            # print('Feature Data Shape:', feature_data.shape)\n",
    "            for (model, model_name) in zipped_model_data:\n",
    "                # print('Model:', model_name)\n",
    "                for rand in all_random_states:\n",
    "                    metrics = evaluate_model(model, model_name, feature_data, feature_data_name, target_data['Cp'], random_state=rand)\n",
    "                    metric_data.append(metrics)\n",
    "                    \n",
    "    else:        \n",
    "        # parallelise the model evaluation process using joblib\n",
    "        \n",
    "        metric_data = Parallel(n_jobs=-1)(delayed(evaluate_model)(model, model_name, feature_data, feature_data_name, target_data['Cp'], random_state=rand) \n",
    "                                        for (feature_data, feature_data_name) in zipped_feature_data\n",
    "                                        for (model, model_name) in zipped_model_data\n",
    "                                        for rand in all_random_states)\n",
    "\n",
    "    if verbose: print(f'--- Machine learning phase for {noise} complete, saving files and move on to {j+1}')\n",
    "    \n",
    "    # make a dataframe of the metric data\n",
    "    metric_df = pd.DataFrame(metric_data)\n",
    "    \n",
    "    exp_group = str(noise_levels[j])\n",
    "    # create a new column for the distortion scale\n",
    "    metric_df['Distortion Scale'] = exp_group\n",
    "    output_data.append(metric_df)\n",
    "    \n",
    "    # save metric_df to a pickle file\n",
    "    output_file = experiment_folder + f'metric_data_{exp_group}.pkl'\n",
    "    metric_df.to_pickle(output_file)\n",
    "    # print(f'Saved metric data to {output_file}')\n",
    "    \n"
   ]
  },
  {
   "cell_type": "code",
   "execution_count": 7,
   "id": "ee3c5901",
   "metadata": {},
   "outputs": [
    {
     "name": "stdout",
     "output_type": "stream",
     "text": [
      "All data loaded successfully. Producing final output dataframe.\n"
     ]
    }
   ],
   "source": [
    "output_df = pd.DataFrame()\n",
    "all_loaded = True\n",
    "\n",
    "for i, df in enumerate(output_data):\n",
    "    # load the metric data for each scale\n",
    "    exp_group = df.iloc[0]['Distortion Scale']  # get the distortion scale from the first row of the dataframe\n",
    "    curr_scale = str(noise_levels[i])\n",
    "    \n",
    "    if exp_group != curr_scale:\n",
    "        print(f'Warning: Data mismatch! Expected {curr_scale}, but got {exp_group}.')\n",
    "        all_loaded = False\n",
    "        # if the file exists, load it\n",
    "        if os.path.exists(experiment_folder + f'metric_data_{curr_scale}.pkl'):\n",
    "            print(f'Loading metric data for scale {curr_scale} from file...')\n",
    "            df = pd.read_pickle(experiment_folder + f'metric_data_{curr_scale}.pkl')\n",
    "            all_loaded = True\n",
    "        else:\n",
    "            print(f'File not found for scale {curr_scale}, there is missing data for this scale.')\n",
    "            all_loaded = False\n",
    "            break \n",
    "\n",
    "    if not all_loaded:\n",
    "        break\n",
    "        \n",
    "    output_df = pd.concat([output_df, df], ignore_index=True)\n",
    "\n",
    "if not all_loaded:\n",
    "    print('Not all data was loaded successfully, please check the files.')\n",
    "else:\n",
    "    print('All data loaded successfully. Producing final output dataframe.')\n",
    "    # save the output_df to a pickle file\n",
    "    output_file = experiment_folder + 'final_output_df.pkl'\n",
    "    output_df.to_pickle(output_file)\n"
   ]
  },
  {
   "cell_type": "markdown",
   "id": "05e61d13",
   "metadata": {},
   "source": [
    "## Analysis"
   ]
  },
  {
   "cell_type": "code",
   "execution_count": 8,
   "id": "f071de06",
   "metadata": {},
   "outputs": [],
   "source": [
    "import pandas as pd\n",
    "\n",
    "# load the final output dataframe\n",
    "seed_id, obs_id, fb_id = 5, 5, 2\n",
    "load_folder = config['DATA_PATH'] + f'\\\\{notebook_name}_{seed_id}_{obs_id}_{fb_id}/'\n",
    "output_df = pd.read_pickle(load_folder + 'final_output_df.pkl')\n",
    "\n"
   ]
  },
  {
   "cell_type": "code",
   "execution_count": 9,
   "id": "a56ce162",
   "metadata": {},
   "outputs": [
    {
     "data": {
      "application/vnd.microsoft.datawrangler.viewer.v0+json": {
       "columns": [
        {
         "name": "index",
         "rawType": "int64",
         "type": "integer"
        },
        {
         "name": "Model",
         "rawType": "object",
         "type": "string"
        },
        {
         "name": "Feature Data",
         "rawType": "object",
         "type": "string"
        },
        {
         "name": "Mean Squared Error",
         "rawType": "float64",
         "type": "float"
        },
        {
         "name": "R2 Score",
         "rawType": "float64",
         "type": "float"
        },
        {
         "name": "Pearson Correlation",
         "rawType": "float64",
         "type": "float"
        },
        {
         "name": "Pearson P-Value",
         "rawType": "float64",
         "type": "float"
        },
        {
         "name": "Distortion Scale",
         "rawType": "object",
         "type": "string"
        }
       ],
       "ref": "08615c7f-ce3a-4259-87cf-ef9e4d826e0b",
       "rows": [
        [
         "0",
         "Linear Regression",
         "feature_data",
         "0.08933937423429203",
         "0.3194291444967624",
         "0.5664005020347649",
         "2.304727418290722e-18",
         "0.01"
        ],
        [
         "1",
         "Linear Regression",
         "feature_data",
         "0.09493526701849025",
         "0.303480377015825",
         "0.5580619676879912",
         "9.085829304408863e-18",
         "0.01"
        ],
        [
         "2",
         "Linear Regression",
         "feature_data",
         "0.09866854064809903",
         "0.22528857294791194",
         "0.48860398894802676",
         "2.1357307938122545e-13",
         "0.01"
        ],
        [
         "3",
         "Linear Regression",
         "feature_data",
         "0.09643172778664531",
         "0.27494654160257237",
         "0.5274489355533771",
         "1.0198683202705373e-15",
         "0.01"
        ],
        [
         "4",
         "Linear Regression",
         "feature_data",
         "0.08834374297720174",
         "0.3425940560532039",
         "0.5919853460172297",
         "2.6648911410385938e-20",
         "0.01"
        ],
        [
         "5",
         "Linear Regression",
         "feature_data",
         "0.09200657429218297",
         "0.2708324614238158",
         "0.5232705249264621",
         "1.8732968715453226e-15",
         "0.01"
        ],
        [
         "6",
         "Linear Regression",
         "feature_data",
         "0.10148773933890169",
         "0.3115808170898575",
         "0.5643422569645989",
         "3.2451212732925097e-18",
         "0.01"
        ],
        [
         "7",
         "Linear Regression",
         "feature_data",
         "0.09746041302859788",
         "0.22782621584792861",
         "0.4859351366057725",
         "3.0093779712831424e-13",
         "0.01"
        ],
        [
         "8",
         "Linear Regression",
         "feature_data",
         "0.10096590791175931",
         "0.20391949398771647",
         "0.47085517962746637",
         "1.97768069763276e-12",
         "0.01"
        ],
        [
         "9",
         "Linear Regression",
         "feature_data",
         "0.10233131288005845",
         "0.24560345826016128",
         "0.5007480233229598",
         "4.3182213901019373e-14",
         "0.01"
        ],
        [
         "10",
         "Random Forest",
         "feature_data",
         "0.10365535291147611",
         "0.2103726625233583",
         "0.46748007570352257",
         "2.9767822887478257e-12",
         "0.01"
        ],
        [
         "11",
         "Random Forest",
         "feature_data",
         "0.10405309056810953",
         "0.23658486788979993",
         "0.4947979330085358",
         "9.525424523399014e-14",
         "0.01"
        ],
        [
         "12",
         "Random Forest",
         "feature_data",
         "0.10861520369027942",
         "0.14719079761649678",
         "0.41914710369708097",
         "6.520795281464626e-10",
         "0.01"
        ],
        [
         "13",
         "Random Forest",
         "feature_data",
         "0.10596093821120299",
         "0.20329805896406883",
         "0.4642870298825917",
         "4.3649291953214935e-12",
         "0.01"
        ],
        [
         "14",
         "Random Forest",
         "feature_data",
         "0.10093723920756606",
         "0.24888012682734362",
         "0.5038621400823904",
         "2.8366871476484856e-14",
         "0.01"
        ],
        [
         "15",
         "Random Forest",
         "feature_data",
         "0.09994518802948775",
         "0.20791761557644217",
         "0.46949910762695923",
         "2.332081347353585e-12",
         "0.01"
        ],
        [
         "16",
         "Random Forest",
         "feature_data",
         "0.10953385582077743",
         "0.2570018012389299",
         "0.5099700230196791",
         "1.2287011472082352e-14",
         "0.01"
        ],
        [
         "17",
         "Random Forest",
         "feature_data",
         "0.10608322880409911",
         "0.15950809487442918",
         "0.42608627066941307",
         "3.1660277617296256e-10",
         "0.01"
        ],
        [
         "18",
         "Random Forest",
         "feature_data",
         "0.10672343902225714",
         "0.15852339569449492",
         "0.4304210925802652",
         "1.9991678932295361e-10",
         "0.01"
        ],
        [
         "19",
         "Random Forest",
         "feature_data",
         "0.11137724317610191",
         "0.17891596701148138",
         "0.43372011431163865",
         "1.40277365760955e-10",
         "0.01"
        ],
        [
         "20",
         "Gradient Boosting",
         "feature_data",
         "0.10747795937597088",
         "0.18125275235955018",
         "0.44255689967487893",
         "5.32848010671688e-11",
         "0.01"
        ],
        [
         "21",
         "Gradient Boosting",
         "feature_data",
         "0.10353662554291292",
         "0.24037406063062183",
         "0.5031547431915637",
         "3.121972975330896e-14",
         "0.01"
        ],
        [
         "22",
         "Gradient Boosting",
         "feature_data",
         "0.10993361752811152",
         "0.13683906585839867",
         "0.41686167226887383",
         "8.24316168580591e-10",
         "0.01"
        ],
        [
         "23",
         "Gradient Boosting",
         "feature_data",
         "0.1096537242847413",
         "0.1755326401004279",
         "0.4404243088762685",
         "6.747856986317003e-11",
         "0.01"
        ],
        [
         "24",
         "Gradient Boosting",
         "feature_data",
         "0.10082801537446852",
         "0.24969291101192936",
         "0.5055076215771153",
         "2.2679412950180088e-14",
         "0.01"
        ],
        [
         "25",
         "Gradient Boosting",
         "feature_data",
         "0.09985043112145062",
         "0.20866857997141153",
         "0.46643795633482626",
         "3.3743438529464567e-12",
         "0.01"
        ],
        [
         "26",
         "Gradient Boosting",
         "feature_data",
         "0.11309407281557249",
         "0.23285187248393846",
         "0.4902245614191713",
         "1.7317336065901628e-13",
         "0.01"
        ],
        [
         "27",
         "Gradient Boosting",
         "feature_data",
         "0.1079971310739279",
         "0.14434434672001417",
         "0.4099262115762474",
         "1.66096543589343e-09",
         "0.01"
        ],
        [
         "28",
         "Gradient Boosting",
         "feature_data",
         "0.11126453343305241",
         "0.12271847093162436",
         "0.3993473486742307",
         "4.691070082787776e-09",
         "0.01"
        ],
        [
         "29",
         "Gradient Boosting",
         "feature_data",
         "0.11629613190939744",
         "0.14265343362689953",
         "0.40232009310942485",
         "3.5168284272497762e-09",
         "0.01"
        ],
        [
         "30",
         "Support Vector Machine",
         "feature_data",
         "0.11764344429085152",
         "0.10381396543697463",
         "0.42715187690132295",
         "2.8293976962104557e-10",
         "0.01"
        ],
        [
         "31",
         "Support Vector Machine",
         "feature_data",
         "0.11613957477264147",
         "0.1479089344276321",
         "0.44490958121669066",
         "4.0985191766595554e-11",
         "0.01"
        ],
        [
         "32",
         "Support Vector Machine",
         "feature_data",
         "0.11259959315279615",
         "0.11590674267697443",
         "0.4243261102631824",
         "3.808768679759556e-10",
         "0.01"
        ],
        [
         "33",
         "Support Vector Machine",
         "feature_data",
         "0.12851378245178555",
         "0.03372712947173773",
         "0.36129036425094996",
         "1.4721134609315196e-07",
         "0.01"
        ],
        [
         "34",
         "Support Vector Machine",
         "feature_data",
         "0.11154711797611498",
         "0.1699271966939786",
         "0.4539221808179119",
         "1.4718040372700208e-11",
         "0.01"
        ],
        [
         "35",
         "Support Vector Machine",
         "feature_data",
         "0.11368339020730245",
         "0.09904005825486484",
         "0.4227865628532338",
         "4.473171241737591e-10",
         "0.01"
        ],
        [
         "36",
         "Support Vector Machine",
         "feature_data",
         "0.12502850362265783",
         "0.1518973536599877",
         "0.4276423107833091",
         "2.686380625131166e-10",
         "0.01"
        ],
        [
         "37",
         "Support Vector Machine",
         "feature_data",
         "0.11545736124355425",
         "0.08523733104344922",
         "0.3980013644121571",
         "5.3397310173183575e-09",
         "0.01"
        ],
        [
         "38",
         "Support Vector Machine",
         "feature_data",
         "0.13281715534921698",
         "-0.04721633692358629",
         "0.3450599137451711",
         "5.619955769455737e-07",
         "0.01"
        ],
        [
         "39",
         "Support Vector Machine",
         "feature_data",
         "0.12025959719441812",
         "0.11343437623212083",
         "0.42035247991981717",
         "5.7584393200302e-10",
         "0.01"
        ],
        [
         "40",
         "Neural Network",
         "feature_data",
         "0.19886350599871228",
         "-0.5149054665525925",
         "0.20994190954340947",
         "0.0028474729668741226",
         "0.01"
        ],
        [
         "41",
         "Neural Network",
         "feature_data",
         "0.15296239779479678",
         "-0.12225219340286375",
         "0.38268255234996584",
         "2.2399599807955347e-08",
         "0.01"
        ],
        [
         "42",
         "Neural Network",
         "feature_data",
         "0.15887773635027655",
         "-0.24745331233496382",
         "0.31352382651290034",
         "6.166235818763149e-06",
         "0.01"
        ],
        [
         "43",
         "Neural Network",
         "feature_data",
         "0.18398060431134516",
         "-0.3833182967448945",
         "0.2976607214582199",
         "1.8638616506214623e-05",
         "0.01"
        ],
        [
         "44",
         "Neural Network",
         "feature_data",
         "0.15208644764656387",
         "-0.13174438061115556",
         "0.4379260987363349",
         "8.87993035351575e-11",
         "0.01"
        ],
        [
         "45",
         "Neural Network",
         "feature_data",
         "0.1517725028111082",
         "-0.20282254990690696",
         "0.37572938333914097",
         "4.1930482517163834e-08",
         "0.01"
        ],
        [
         "46",
         "Neural Network",
         "feature_data",
         "0.18935833357143203",
         "-0.2844695341883865",
         "0.3231268187974967",
         "3.0583242079585675e-06",
         "0.01"
        ],
        [
         "47",
         "Neural Network",
         "feature_data",
         "0.1586151159469477",
         "-0.25669931512126065",
         "0.2782345725177454",
         "6.628926322698706e-05",
         "0.01"
        ],
        [
         "48",
         "Neural Network",
         "feature_data",
         "0.14765397605165564",
         "-0.16419942534124865",
         "0.3639972423539627",
         "1.1687464280437146e-07",
         "0.01"
        ],
        [
         "49",
         "Neural Network",
         "feature_data",
         "0.1834928907719608",
         "-0.35272770705542933",
         "0.2658396576223737",
         "0.00014199651568556722",
         "0.01"
        ]
       ],
       "shape": {
        "columns": 7,
        "rows": 1750
       }
      },
      "text/html": [
       "<div>\n",
       "<style scoped>\n",
       "    .dataframe tbody tr th:only-of-type {\n",
       "        vertical-align: middle;\n",
       "    }\n",
       "\n",
       "    .dataframe tbody tr th {\n",
       "        vertical-align: top;\n",
       "    }\n",
       "\n",
       "    .dataframe thead th {\n",
       "        text-align: right;\n",
       "    }\n",
       "</style>\n",
       "<table border=\"1\" class=\"dataframe\">\n",
       "  <thead>\n",
       "    <tr style=\"text-align: right;\">\n",
       "      <th></th>\n",
       "      <th>Model</th>\n",
       "      <th>Feature Data</th>\n",
       "      <th>Mean Squared Error</th>\n",
       "      <th>R2 Score</th>\n",
       "      <th>Pearson Correlation</th>\n",
       "      <th>Pearson P-Value</th>\n",
       "      <th>Distortion Scale</th>\n",
       "    </tr>\n",
       "  </thead>\n",
       "  <tbody>\n",
       "    <tr>\n",
       "      <th>0</th>\n",
       "      <td>Linear Regression</td>\n",
       "      <td>feature_data</td>\n",
       "      <td>0.089339</td>\n",
       "      <td>0.319429</td>\n",
       "      <td>0.566401</td>\n",
       "      <td>2.304727e-18</td>\n",
       "      <td>0.01</td>\n",
       "    </tr>\n",
       "    <tr>\n",
       "      <th>1</th>\n",
       "      <td>Linear Regression</td>\n",
       "      <td>feature_data</td>\n",
       "      <td>0.094935</td>\n",
       "      <td>0.303480</td>\n",
       "      <td>0.558062</td>\n",
       "      <td>9.085829e-18</td>\n",
       "      <td>0.01</td>\n",
       "    </tr>\n",
       "    <tr>\n",
       "      <th>2</th>\n",
       "      <td>Linear Regression</td>\n",
       "      <td>feature_data</td>\n",
       "      <td>0.098669</td>\n",
       "      <td>0.225289</td>\n",
       "      <td>0.488604</td>\n",
       "      <td>2.135731e-13</td>\n",
       "      <td>0.01</td>\n",
       "    </tr>\n",
       "    <tr>\n",
       "      <th>3</th>\n",
       "      <td>Linear Regression</td>\n",
       "      <td>feature_data</td>\n",
       "      <td>0.096432</td>\n",
       "      <td>0.274947</td>\n",
       "      <td>0.527449</td>\n",
       "      <td>1.019868e-15</td>\n",
       "      <td>0.01</td>\n",
       "    </tr>\n",
       "    <tr>\n",
       "      <th>4</th>\n",
       "      <td>Linear Regression</td>\n",
       "      <td>feature_data</td>\n",
       "      <td>0.088344</td>\n",
       "      <td>0.342594</td>\n",
       "      <td>0.591985</td>\n",
       "      <td>2.664891e-20</td>\n",
       "      <td>0.01</td>\n",
       "    </tr>\n",
       "    <tr>\n",
       "      <th>...</th>\n",
       "      <td>...</td>\n",
       "      <td>...</td>\n",
       "      <td>...</td>\n",
       "      <td>...</td>\n",
       "      <td>...</td>\n",
       "      <td>...</td>\n",
       "      <td>...</td>\n",
       "    </tr>\n",
       "    <tr>\n",
       "      <th>1745</th>\n",
       "      <td>Neural Network</td>\n",
       "      <td>combined_dyn_data</td>\n",
       "      <td>6809.401268</td>\n",
       "      <td>-1.621025</td>\n",
       "      <td>0.025034</td>\n",
       "      <td>7.249392e-01</td>\n",
       "      <td>50</td>\n",
       "    </tr>\n",
       "    <tr>\n",
       "      <th>1746</th>\n",
       "      <td>Neural Network</td>\n",
       "      <td>combined_dyn_data</td>\n",
       "      <td>5161.491716</td>\n",
       "      <td>-1.491126</td>\n",
       "      <td>0.022133</td>\n",
       "      <td>7.557319e-01</td>\n",
       "      <td>50</td>\n",
       "    </tr>\n",
       "    <tr>\n",
       "      <th>1747</th>\n",
       "      <td>Neural Network</td>\n",
       "      <td>combined_dyn_data</td>\n",
       "      <td>5386.534603</td>\n",
       "      <td>-0.818454</td>\n",
       "      <td>0.102037</td>\n",
       "      <td>1.505088e-01</td>\n",
       "      <td>50</td>\n",
       "    </tr>\n",
       "    <tr>\n",
       "      <th>1748</th>\n",
       "      <td>Neural Network</td>\n",
       "      <td>combined_dyn_data</td>\n",
       "      <td>6868.518833</td>\n",
       "      <td>-2.089926</td>\n",
       "      <td>-0.002414</td>\n",
       "      <td>9.729418e-01</td>\n",
       "      <td>50</td>\n",
       "    </tr>\n",
       "    <tr>\n",
       "      <th>1749</th>\n",
       "      <td>Neural Network</td>\n",
       "      <td>combined_dyn_data</td>\n",
       "      <td>7149.779265</td>\n",
       "      <td>-2.012047</td>\n",
       "      <td>-0.100508</td>\n",
       "      <td>1.567535e-01</td>\n",
       "      <td>50</td>\n",
       "    </tr>\n",
       "  </tbody>\n",
       "</table>\n",
       "<p>1750 rows × 7 columns</p>\n",
       "</div>"
      ],
      "text/plain": [
       "                  Model       Feature Data  Mean Squared Error  R2 Score  \\\n",
       "0     Linear Regression       feature_data            0.089339  0.319429   \n",
       "1     Linear Regression       feature_data            0.094935  0.303480   \n",
       "2     Linear Regression       feature_data            0.098669  0.225289   \n",
       "3     Linear Regression       feature_data            0.096432  0.274947   \n",
       "4     Linear Regression       feature_data            0.088344  0.342594   \n",
       "...                 ...                ...                 ...       ...   \n",
       "1745     Neural Network  combined_dyn_data         6809.401268 -1.621025   \n",
       "1746     Neural Network  combined_dyn_data         5161.491716 -1.491126   \n",
       "1747     Neural Network  combined_dyn_data         5386.534603 -0.818454   \n",
       "1748     Neural Network  combined_dyn_data         6868.518833 -2.089926   \n",
       "1749     Neural Network  combined_dyn_data         7149.779265 -2.012047   \n",
       "\n",
       "      Pearson Correlation  Pearson P-Value Distortion Scale  \n",
       "0                0.566401     2.304727e-18             0.01  \n",
       "1                0.558062     9.085829e-18             0.01  \n",
       "2                0.488604     2.135731e-13             0.01  \n",
       "3                0.527449     1.019868e-15             0.01  \n",
       "4                0.591985     2.664891e-20             0.01  \n",
       "...                   ...              ...              ...  \n",
       "1745             0.025034     7.249392e-01               50  \n",
       "1746             0.022133     7.557319e-01               50  \n",
       "1747             0.102037     1.505088e-01               50  \n",
       "1748            -0.002414     9.729418e-01               50  \n",
       "1749            -0.100508     1.567535e-01               50  \n",
       "\n",
       "[1750 rows x 7 columns]"
      ]
     },
     "execution_count": 9,
     "metadata": {},
     "output_type": "execute_result"
    }
   ],
   "source": [
    "output_df"
   ]
  },
  {
   "cell_type": "code",
   "execution_count": 10,
   "id": "ccb827a6",
   "metadata": {},
   "outputs": [
    {
     "data": {
      "image/png": "[encoded data removed]",
      "text/plain": [
       "<Figure size 640x480 with 1 Axes>"
      ]
     },
     "metadata": {},
     "output_type": "display_data"
    }
   ],
   "source": [
    "import matplotlib.pyplot as plt\n",
    "import seaborn as sns\n",
    "import matplotlib\n",
    "# set font to arial \n",
    "# Set global font to Arial\n",
    "matplotlib.rcParams['font.family'] = 'Arial'\n",
    "\n",
    "\n",
    "sns.lineplot(data=output_df, x='Distortion Scale', y='Pearson Correlation', hue='Feature Data', palette='Set1', marker='o')\n",
    "# 90 degree rotation of the x-axis labels\n",
    "# legend to the right\n",
    "plt.grid()\n",
    "plt.legend(title='Type of data', bbox_to_anchor=(1.05, 1), loc='upper left')\n",
    "plt.ylabel('ML Pearson Accuracy')\n",
    "plt.xlabel('Drug Response data noise')\n",
    "plt.show()"
   ]
  },
  {
   "cell_type": "code",
   "execution_count": null,
   "id": "e522e3e1",
   "metadata": {},
   "outputs": [
    {
     "name": "stderr",
     "output_type": "stream",
     "text": [
      "0it [00:00, ?it/s]"
     ]
    },
    {
     "name": "stdout",
     "output_type": "stream",
     "text": [
      "------ Starting loop 0 for 0.01\n",
      "--- Completed Model Initialisation for 0.01\n"
     ]
    },
    {
     "name": "stderr",
     "output_type": "stream",
     "text": [
      "1it [00:09,  9.39s/it]"
     ]
    },
    {
     "name": "stdout",
     "output_type": "stream",
     "text": [
      "------ Starting loop 1 for 0.05\n",
      "--- Completed Model Initialisation for 0.05\n"
     ]
    },
    {
     "name": "stderr",
     "output_type": "stream",
     "text": [
      "2it [00:18,  9.27s/it]"
     ]
    },
    {
     "name": "stdout",
     "output_type": "stream",
     "text": [
      "------ Starting loop 2 for 0.1\n",
      "--- Completed Model Initialisation for 0.1\n"
     ]
    },
    {
     "name": "stderr",
     "output_type": "stream",
     "text": [
      "3it [00:27,  9.23s/it]"
     ]
    },
    {
     "name": "stdout",
     "output_type": "stream",
     "text": [
      "------ Starting loop 3 for 1\n",
      "--- Completed Model Initialisation for 1\n"
     ]
    },
    {
     "name": "stderr",
     "output_type": "stream",
     "text": [
      "4it [00:37,  9.28s/it]"
     ]
    },
    {
     "name": "stdout",
     "output_type": "stream",
     "text": [
      "------ Starting loop 4 for 2\n",
      "--- Completed Model Initialisation for 2\n"
     ]
    },
    {
     "name": "stderr",
     "output_type": "stream",
     "text": [
      "5it [00:46,  9.18s/it]"
     ]
    },
    {
     "name": "stdout",
     "output_type": "stream",
     "text": [
      "------ Starting loop 5 for 5\n",
      "--- Completed Model Initialisation for 5\n"
     ]
    },
    {
     "name": "stderr",
     "output_type": "stream",
     "text": [
      "6it [00:55,  9.15s/it]"
     ]
    },
    {
     "name": "stdout",
     "output_type": "stream",
     "text": [
      "------ Starting loop 6 for 50\n",
      "--- Completed Model Initialisation for 50\n"
     ]
    },
    {
     "name": "stderr",
     "output_type": "stream",
     "text": [
      "7it [01:04,  9.17s/it]\n"
     ]
    }
   ],
   "source": [
    "target_data_all, noise_data_all = [], []\n",
    "\n",
    "for j, noise in tqdm(enumerate(noise_levels)):\n",
    "    \n",
    "    print(f'------ Starting loop {j} for {noise}')\n",
    "\n",
    "    model_drug_spec = DrugModelSpecification()\n",
    "    model_drug_spec.generate_specifications(o_random_seed, no_observable_species, no_feedback_regulations, verbose=0)\n",
    "    drug_0 = Drug('D0', 500, 500)\n",
    "    rng = np.random.default_rng(o_random_seed)\n",
    "    # add random 'up' and 'down' regulations to the drug\n",
    "    regulation_dir = []\n",
    "    for i, s in enumerate(model_drug_spec.A_species):\n",
    "        reg_type = str(rng.choice(['up', 'down']))\n",
    "        regulation_dir.append(reg_type)\n",
    "        drug_0.add_regulation(s, reg_type)\n",
    "    model_drug_spec.add_drug(drug_0)\n",
    "    # print(model_drug_spec)\n",
    "    # print(f'Feedback: {model_drug_spec.get_feedback_regulations()}')\n",
    "\n",
    "\n",
    "    p_random_seeds = []\n",
    "    feature_size = 1000 \n",
    "    rng = np.random.default_rng(o_random_seed)\n",
    "    # generate `feature_size` random seeds for different parameter sets using numpy, ensure that the seeds are unique\n",
    "    p_random_seeds = rng.choice(range(1000000), feature_size, replace=False).tolist()\n",
    "\n",
    "    G0_d = model_drug_spec.generate_network('drug_model_524', \n",
    "                                            specie_value_range, \n",
    "                                            param_range, \n",
    "                                            param_multiplier_range,  \n",
    "                                            verbose=0,\n",
    "                                            random_seed=p_random_seeds[0])\n",
    "    base_parameters = G0_d.get_parameters()\n",
    "    base_initial_conditions = G0_d.get_state_variables()\n",
    "\n",
    "    if verbose: print(f'--- Completed Model Initialisation for {noise}')\n",
    "    # print(G0_d.get_antimony_model())\n",
    "\n",
    "\n",
    "    # generate parameter sets for each random seed\n",
    "    parameter_sets = []\n",
    "    for p in p_random_seeds: \n",
    "        model_build = model_drug_spec.generate_network(f'param_seed_{p}', \n",
    "                                                specie_value_range, param_range, param_multiplier_range, random_seed=p, verbose=0)\n",
    "        parameter_sets.append(model_build.get_parameters())\n",
    "        \n",
    "    # test simulation \n",
    "\n",
    "\n",
    "\n",
    "    solver = RoadrunnerSolver()\n",
    "    solver.compile(G0_d.get_sbml_model())\n",
    "    # result = solver.simulate(0, 1000, 100)\n",
    "\n",
    "\n",
    "\n",
    "    feature_data = generate_feature_data_v2(model_drug_spec, base_initial_conditions, feature_generation_method, feature_generation_extra_params, 1000, feature_generation_seed)\n",
    "    target_data, _ = generate_target_data_diff_build(model_drug_spec, solver, \n",
    "                                                    feature_data, parameter_sets, \n",
    "                                                    {'start': 0, 'end': 1000, 'points': 100}, \n",
    "                                                    n_cores=1, verbose=False)\n",
    "    \n",
    "    # apply distortion noise to feature data\n",
    "    target_data_all.append(target_data)\n",
    "    rng = np.random.default_rng(o_random_seed)\n",
    "    # Select numeric columns only\n",
    "    numeric_cols = target_data.select_dtypes(include=np.number).columns\n",
    "    noise_level = np.random.normal(\n",
    "        loc=0,\n",
    "        scale=noise,  # fixed std in log space mimics detector noise\n",
    "        size=target_data[numeric_cols].shape\n",
    "    )\n",
    "    noisy_df = target_data.copy()\n",
    "    noisy_df[numeric_cols] += noise_level\n",
    "    target_data = noisy_df\n",
    "    noise_data_all.append(noisy_df)"
   ]
  },
  {
   "cell_type": "code",
   "execution_count": 25,
   "id": "93960672",
   "metadata": {},
   "outputs": [
    {
     "name": "stderr",
     "output_type": "stream",
     "text": [
      "C:\\Users\\dawson\\AppData\\Local\\Temp\\2\\ipykernel_2568\\394290299.py:10: MatplotlibDeprecationWarning: The get_cmap function was deprecated in Matplotlib 3.7 and will be removed in 3.11. Use ``matplotlib.colormaps[name]`` or ``matplotlib.colormaps.get_cmap()`` or ``pyplot.get_cmap()`` instead.\n",
      "  viridis = cm.get_cmap('viridis', n_colors)\n"
     ]
    },
    {
     "data": {
      "image/png": "[encoded data removed]",
      "text/plain": [
       "<Figure size 1200x400 with 1 Axes>"
      ]
     },
     "metadata": {},
     "output_type": "display_data"
    }
   ],
   "source": [
    "import matplotlib.pyplot as plt\n",
    "import seaborn as sns\n",
    "import numpy as np\n",
    "import matplotlib.cm as cm\n",
    "import matplotlib.colors as mcolors\n",
    "\n",
    "# Prep color map for noisy data\n",
    "noise_vals = sorted([n for n in plot_df['noise_level'].unique() if n != 'clean'])\n",
    "n_colors = len(noise_vals)\n",
    "viridis = cm.get_cmap('viridis', n_colors)\n",
    "color_map = {noise: mcolors.to_hex(viridis(i)) for i, noise in enumerate(noise_vals)}\n",
    "\n",
    "plt.figure(figsize=(12, 4))\n",
    "sns.set_style(\"whitegrid\")\n",
    "sns.set_context(\"talk\")\n",
    "\n",
    "# Plot clean data (merged across all noise levels for clarity)\n",
    "clean_df = plot_df[plot_df['type'] == 'clean']\n",
    "sns.kdeplot(\n",
    "    data=clean_df,\n",
    "    x='value',\n",
    "    color='black',\n",
    "    linestyle='-',\n",
    "    linewidth=2,\n",
    "    label=\"Clean (all levels)\"\n",
    ")\n",
    "\n",
    "# Plot noisy data for each noise level\n",
    "for noise in noise_vals:\n",
    "    subset = plot_df[(plot_df['noise_level'] == noise) & (plot_df['type'] == 'noisy')]\n",
    "    sns.kdeplot(\n",
    "        data=subset,\n",
    "        x='value',\n",
    "        color=color_map[noise],\n",
    "        linestyle='--',\n",
    "        fill=True,\n",
    "        alpha=0.3,\n",
    "        linewidth=1.5,\n",
    "        label=f\"Noisy (noise = {noise})\"\n",
    "    )\n",
    "    \n",
    "# y-axis limit from 0 to 0.25\n",
    "plt.ylim(0, 0.1)\n",
    "\n",
    "plt.title(\"KDE of Clean vs Noisy Target Values\")\n",
    "plt.xlabel(\"Value\")\n",
    "plt.ylabel(\"Density\")\n",
    "\n",
    "plt.legend(title='Data Type', loc='upper left', bbox_to_anchor=(1, 1))\n",
    "plt.tight_layout()\n",
    "plt.show()\n"
   ]
  }
 ],
 "metadata": {
  "kernelspec": {
   "display_name": ".venv",
   "language": "python",
   "name": "python3"
  },
  "language_info": {
   "codemirror_mode": {
    "name": "ipython",
    "version": 3
   },
   "file_extension": ".py",
   "mimetype": "text/x-python",
   "name": "python",
   "nbconvert_exporter": "python",
   "pygments_lexer": "ipython3",
   "version": "3.12.10"
  }
 },
 "nbformat": 4,
 "nbformat_minor": 5
}
