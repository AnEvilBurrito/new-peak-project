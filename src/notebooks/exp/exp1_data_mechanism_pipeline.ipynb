{
 "cells": [
  {
   "cell_type": "markdown",
   "id": "003f3140",
   "metadata": {},
   "source": [
    "# Specific Dynamic Feature improving the performance of a model"
   ]
  },
  {
   "cell_type": "markdown",
   "id": "e83cd3e2",
   "metadata": {},
   "source": [
    "## Init"
   ]
  },
  {
   "cell_type": "code",
   "execution_count": 2,
   "id": "79f52c70",
   "metadata": {},
   "outputs": [
    {
     "name": "stdout",
     "output_type": "stream",
     "text": [
      "Project path set to: c:\\Github\\new-peak-project\\src\n"
     ]
    }
   ],
   "source": [
    "import os\n",
    "\n",
    "path = os.getcwd()\n",
    "# set the working directory\n",
    "os.chdir('c:\\Github\\\\new-peak-project\\src')\n",
    "print(f'Project path set to: {os.getcwd()}')"
   ]
  },
  {
   "cell_type": "code",
   "execution_count": 3,
   "id": "f3257459",
   "metadata": {},
   "outputs": [
    {
     "name": "stdout",
     "output_type": "stream",
     "text": [
      "I:\\My Drive\\DAWSON PHD PROJECT\\Biomarker Data Repository\\data\\new-peak-project\\experiments\n"
     ]
    }
   ],
   "source": [
    "from dotenv import dotenv_values\n",
    "config = dotenv_values(\".env\")\n",
    "print(config[\"DATA_PATH\"])"
   ]
  },
  {
   "cell_type": "code",
   "execution_count": 4,
   "id": "2d929667",
   "metadata": {},
   "outputs": [],
   "source": [
    "from models.ModelBuilder import ModelBuilder\n",
    "from models.Reaction import Reaction\n",
    "from models.ReactionArchtype import ReactionArchtype\n",
    "from models.ArchtypeCollections import *\n",
    "\n",
    "# import scikit-learn\n",
    "from sklearn.linear_model import LinearRegression\n",
    "# tree models and support vector machines\n",
    "from sklearn.ensemble import RandomForestRegressor\n",
    "from sklearn.ensemble import GradientBoostingRegressor\n",
    "from sklearn.svm import SVR\n",
    "from sklearn.neural_network import MLPRegressor\n",
    "from sklearn.model_selection import train_test_split\n",
    "from sklearn.metrics import mean_squared_error, r2_score\n",
    "# import pearson correlation\n",
    "from scipy.stats import pearsonr\n",
    "from sklearn.preprocessing import StandardScaler\n",
    "from sklearn.pipeline import Pipeline\n",
    "\n",
    "from copy import deepcopy"
   ]
  },
  {
   "cell_type": "markdown",
   "id": "b52ed69f",
   "metadata": {},
   "source": [
    "## Notebook Parameters"
   ]
  },
  {
   "cell_type": "code",
   "execution_count": 5,
   "id": "7759f7d7",
   "metadata": {},
   "outputs": [
    {
     "name": "stdout",
     "output_type": "stream",
     "text": [
      "I:\\My Drive\\DAWSON PHD PROJECT\\Biomarker Data Repository\\data\\new-peak-project\\experiments/exp1_dynamic_feature_4_50/\n"
     ]
    }
   ],
   "source": [
    "import os \n",
    "\n",
    "### parameters \n",
    "\n",
    "notebook_name = 'exp1_dynamic_feature' # name of the notebook\n",
    "\n",
    "## Generation of ground truth model \n",
    "\n",
    "model_name = 'v3_small_model_52'\n",
    "o_random_seed = 4\n",
    "p_random_seed = 4\n",
    "no_observable_species = 5\n",
    "no_feedback_regulations = 2\n",
    "specie_value_range = (5, 5000)\n",
    "param_range = (0.1, 10)\n",
    "param_multiplier_range = (0.7, 1.3)\n",
    "\n",
    "\n",
    "## Simulation parameters \n",
    "\n",
    "simulation_time = 500 \n",
    "simulation_step = 100\n",
    "\n",
    "## Feature data generation \n",
    "\n",
    "feature_generation_method = 'uniform'\n",
    "feature_generation_extra_params = {'min': 0.1, 'max': 10}\n",
    "feature_generation_size = 1000 \n",
    "feature_generation_seed = 50 # if -1 then 'o_random_seed' is used\n",
    "if feature_generation_seed == -1:\n",
    "    feature_generation_seed = o_random_seed\n",
    "    \n",
    "## Data engineering parameters\n",
    "\n",
    "# Suboptimal Model Generation \n",
    "\n",
    "'''\n",
    "Options: \n",
    "- 'feedback_prune': removes feedback regulations from the model \n",
    "- 'random parameter': randomizes a x% of parameter values of the model\n",
    "'''\n",
    "\n",
    "# Engineering Feature Data \n",
    "\n",
    "data_engineering_method = 'dynamic_feature'\n",
    "''' \n",
    "Options: \n",
    "- 'last_time_point' : only the last time point of the phosphorylated species is used\n",
    "- 'dynamic_feature': computes the characteristic 'ten' dynamic feature for each specie data \n",
    "'''\n",
    "\n",
    "## General parameters\n",
    "parallelise = True\n",
    "save_figures = True \n",
    "experiment_id = notebook_name + '_' + str(o_random_seed) + '_' + str(feature_generation_seed)\n",
    "experiment_folder = config['DATA_PATH'] + '/' + experiment_id + '/'\n",
    "if not os.path.exists(experiment_folder):\n",
    "    os.makedirs(experiment_folder)\n",
    "    \n",
    "print(experiment_folder)"
   ]
  },
  {
   "cell_type": "markdown",
   "id": "9b89646e",
   "metadata": {},
   "source": [
    "## Analysis"
   ]
  },
  {
   "cell_type": "markdown",
   "id": "94c12c7e",
   "metadata": {},
   "source": [
    "### Virtual Cell Creation"
   ]
  },
  {
   "cell_type": "code",
   "execution_count": 13,
   "id": "aebfd82b",
   "metadata": {},
   "outputs": [
    {
     "name": "stdout",
     "output_type": "stream",
     "text": [
      "A Species: ['A0', 'A1', 'A2', 'A3', 'A4']\n",
      "B Species: ['B0', 'B1', 'B2', 'B3', 'B4']\n",
      "C Species: ['C']\n",
      "Regulations: [('C', 'A1'), ('B0', 'A2'), ('A0', 'B0'), ('A1', 'B1'), ('A2', 'B2'), ('A3', 'B3'), ('A4', 'B4'), ('B0', 'C'), ('B1', 'C'), ('B0', 'C'), ('B1', 'C'), ('B2', 'C'), ('D0', 'A0'), ('D0', 'A1'), ('D0', 'A2')]\n",
      "Regulation Types: ['up', 'down', 'up', 'up', 'up', 'up', 'up', 'up', 'up', 'down', 'down', 'down', 'down', 'down', 'down']\n",
      "C Weak Stimulators: 0\n",
      "C Strong Stimulators: 0\n",
      "C Allosteric Inhibitors: 0\n",
      "C Competitive Inhibitors: 0\n",
      "Drugs:\n",
      "Drug(D0, 500, ['A0', 'A1', 'A2'], ['down', 'down', 'down'])\n",
      "\n",
      "Feedback: [(('C', 'A1'), 'up'), (('B0', 'A2'), 'down')]\n"
     ]
    }
   ],
   "source": [
    "# create a drug enabled model \n",
    "from models.Utils import *\n",
    "from models.DrugModelSpecification import DrugModelSpecification, Drug\n",
    "\n",
    "model_drug_spec = DrugModelSpecification()\n",
    "model_drug_spec.generate_specifications(4, 5, 2, verbose=0)\n",
    "drug_0 = Drug('D0', 500, 5000)\n",
    "drug_0.add_regulation('A0', 'down')\n",
    "drug_0.add_regulation('A1', 'down')\n",
    "drug_0.add_regulation('A2', 'down')\n",
    "model_drug_spec.add_drug(drug_0)\n",
    "print(model_drug_spec)\n",
    "print(f'Feedback: {model_drug_spec.get_feedback_regulations()}')"
   ]
  },
  {
   "cell_type": "code",
   "execution_count": 8,
   "id": "231acc20",
   "metadata": {},
   "outputs": [],
   "source": [
    "G0_d = model_drug_spec.generate_network('drug_model_524', specie_value_range, param_range, param_multiplier_range, random_seed=4, verbose=0)\n",
    "base_parameters = G0_d.get_parameters()\n",
    "base_initial_conditions = G0_d.get_state_variables()"
   ]
  },
  {
   "cell_type": "markdown",
   "id": "cbe79a38",
   "metadata": {},
   "source": [
    "### Generate synthetic 'omics-like' data"
   ]
  },
  {
   "cell_type": "code",
   "execution_count": null,
   "id": "d945cb7d",
   "metadata": {},
   "outputs": [],
   "source": []
  },
  {
   "cell_type": "markdown",
   "id": "63f2a47a",
   "metadata": {},
   "source": [
    "### Suboptimal Model Creation\n",
    "\n",
    "#### If modifying at the model architectural level\n",
    "\n",
    "Mostly done to modify the `ModelSpec` object, where the updated spec information is transferred to a new `ModelBuilder` object, which then need to transpile to Antimony/SBML for a Solver instance. \n",
    "\n",
    "NewSpec --> NewBuilder --> Update parameters to original builder --> Transpile to Antimony/SBML --> Solver instance\n",
    "\n",
    "#### If only changes to states and parameters are needed\n",
    "\n",
    "Simply duplicate the `ModelBuilder` object and update the states and parameters.\n",
    "```\n"
   ]
  },
  {
   "cell_type": "code",
   "execution_count": null,
   "id": "15d0d293",
   "metadata": {},
   "outputs": [],
   "source": []
  },
  {
   "cell_type": "markdown",
   "id": "0d8f78f2",
   "metadata": {},
   "source": [
    "### Simulation / Extract dynamic feature data"
   ]
  },
  {
   "cell_type": "code",
   "execution_count": null,
   "id": "b539d8cb",
   "metadata": {},
   "outputs": [],
   "source": []
  },
  {
   "cell_type": "markdown",
   "id": "7b100a37",
   "metadata": {},
   "source": [
    "### Machine Learning Training"
   ]
  },
  {
   "cell_type": "code",
   "execution_count": null,
   "id": "bffe0c24",
   "metadata": {},
   "outputs": [],
   "source": []
  }
 ],
 "metadata": {
  "kernelspec": {
   "display_name": "new-peak-project",
   "language": "python",
   "name": "python3"
  },
  "language_info": {
   "codemirror_mode": {
    "name": "ipython",
    "version": 3
   },
   "file_extension": ".py",
   "mimetype": "text/x-python",
   "name": "python",
   "nbconvert_exporter": "python",
   "pygments_lexer": "ipython3",
   "version": "3.8.10"
  }
 },
 "nbformat": 4,
 "nbformat_minor": 5
}
