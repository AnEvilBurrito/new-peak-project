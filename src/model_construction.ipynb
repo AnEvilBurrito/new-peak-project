{
 "cells": [
  {
   "cell_type": "markdown",
   "metadata": {},
   "source": [
    "## PEAK 3 Y24 phosphorylation"
   ]
  },
  {
   "cell_type": "code",
   "execution_count": 5,
   "metadata": {},
   "outputs": [
    {
     "name": "stdout",
     "output_type": "stream",
     "text": [
      "model PEAK3\n",
      "\n",
      "J0: PEAK3_Y24 -> PEAK3_Y24P; J0_Vmax*PEAK3_Y24/(J0_Km + PEAK3_Y24)\n",
      "J1: PEAK3_Y24P -> PEAK3_Y24; J1_Vmax*PEAK3_Y24P/(J1_Km + PEAK3_Y24P)\n",
      "\n",
      "# State variables in the system\n",
      "PEAK3_Y24=100\n",
      "PEAK3_Y24P=0\n",
      "\n",
      "# Parameters in the system\n",
      "J0_Km=100\n",
      "J0_Vmax=10\n",
      "J1_Km=100\n",
      "J1_Vmax=10\n",
      "\n",
      "end\n"
     ]
    },
    {
     "data": {
      "image/png": "[encoded data removed]",
      "text/plain": [
       "<Figure size 432x288 with 1 Axes>"
      ]
     },
     "metadata": {
      "needs_background": "light"
     },
     "output_type": "display_data"
    }
   ],
   "source": [
    "from models.ModelBuilder import ModelBuilder\n",
    "from models.Reaction import Reaction\n",
    "from models.ReactionArchtype import ReactionArchtype\n",
    "from models.ArchtypeCollections import *\n",
    "\n",
    "model = ModelBuilder('PEAK3')\n",
    "model.add_reaction(Reaction(michaelis_menten, ('PEAK3_Y24',), ('PEAK3_Y24P',)))\n",
    "model.add_reaction(Reaction(michaelis_menten, ('PEAK3_Y24P',), ('PEAK3_Y24',), reactant_values=0, product_values=100))\n",
    "\n",
    "print(model.get_antimony_model())\n",
    "\n",
    "model.simulate(0, 100, 100)\n",
    "model.plot()\n"
   ]
  },
  {
   "cell_type": "code",
   "execution_count": 17,
   "metadata": {},
   "outputs": [
    {
     "name": "stdout",
     "output_type": "stream",
     "text": [
      "Antimony model compiled without error\n"
     ]
    },
    {
     "data": {
      "image/png": "[encoded data removed]",
      "text/plain": [
       "<Figure size 432x288 with 1 Axes>"
      ]
     },
     "metadata": {
      "needs_background": "light"
     },
     "output_type": "display_data"
    },
    {
     "name": "stdout",
     "output_type": "stream",
     "text": [
      "['P3C_Shc', 'P3C_ShcBound', 'P3C_ASAP1', 'P3C_ASAP1Bound', 'P3C_GRB2', 'P3C_GRB2Bound', '[P3C_Shc]', '[P3C_ShcBound]', '[P3C_ASAP1]', '[P3C_ASAP1Bound]', '[P3C_GRB2]', '[P3C_GRB2Bound]', 'default_compartment', 'A_ka', 'A_kd', 'B_ka', 'B_kd', 'C_ka', 'C_kd', 'A_J0', 'A_J1', 'B_J0', 'B_J1', 'C_J0', 'C_J1', 'init([P3C_Shc])', 'init([P3C_ShcBound])', 'init([P3C_ASAP1])', 'init([P3C_ASAP1Bound])', 'init([P3C_GRB2])', 'init([P3C_GRB2Bound])', 'init(P3C_Shc)', 'init(P3C_ShcBound)', 'init(P3C_ASAP1)', 'init(P3C_ASAP1Bound)', 'init(P3C_GRB2)', 'init(P3C_GRB2Bound)', 'init(default_compartment)', 'init(A_ka)', 'init(A_kd)', 'init(B_ka)', 'init(B_kd)', 'init(C_ka)', 'init(C_kd)', \"P3C_Shc'\", \"P3C_ShcBound'\", \"P3C_ASAP1'\", \"P3C_ASAP1Bound'\", \"P3C_GRB2'\", \"P3C_GRB2Bound'\", \"[P3C_Shc]'\", \"[P3C_ShcBound]'\", \"[P3C_ASAP1]'\", \"[P3C_ASAP1Bound]'\", \"[P3C_GRB2]'\", \"[P3C_GRB2Bound]'\", 'stoich(P3C_Shc, A_J0)', 'stoich(P3C_Shc, A_J1)', 'stoich(P3C_ShcBound, A_J0)', 'stoich(P3C_ShcBound, A_J1)', 'stoich(P3C_ASAP1, B_J0)', 'stoich(P3C_ASAP1, B_J1)', 'stoich(P3C_ASAP1Bound, B_J0)', 'stoich(P3C_ASAP1Bound, B_J1)', 'stoich(P3C_GRB2, C_J0)', 'stoich(P3C_GRB2, C_J1)', 'stoich(P3C_GRB2Bound, C_J0)', 'stoich(P3C_GRB2Bound, C_J1)', 'uec(A_J0, P3C_Shc)', 'uec(A_J0, P3C_ShcBound)', 'uec(A_J0, P3C_ASAP1)', 'uec(A_J0, P3C_ASAP1Bound)', 'uec(A_J0, P3C_GRB2)', 'uec(A_J0, P3C_GRB2Bound)', 'uec(A_J0, A_ka)', 'uec(A_J0, A_kd)', 'uec(A_J0, B_ka)', 'uec(A_J0, B_kd)', 'uec(A_J0, C_ka)', 'uec(A_J0, C_kd)', 'uec(A_J1, P3C_Shc)', 'uec(A_J1, P3C_ShcBound)', 'uec(A_J1, P3C_ASAP1)', 'uec(A_J1, P3C_ASAP1Bound)', 'uec(A_J1, P3C_GRB2)', 'uec(A_J1, P3C_GRB2Bound)', 'uec(A_J1, A_ka)', 'uec(A_J1, A_kd)', 'uec(A_J1, B_ka)', 'uec(A_J1, B_kd)', 'uec(A_J1, C_ka)', 'uec(A_J1, C_kd)', 'uec(B_J0, P3C_Shc)', 'uec(B_J0, P3C_ShcBound)', 'uec(B_J0, P3C_ASAP1)', 'uec(B_J0, P3C_ASAP1Bound)', 'uec(B_J0, P3C_GRB2)', 'uec(B_J0, P3C_GRB2Bound)', 'uec(B_J0, A_ka)', 'uec(B_J0, A_kd)', 'uec(B_J0, B_ka)', 'uec(B_J0, B_kd)', 'uec(B_J0, C_ka)', 'uec(B_J0, C_kd)', 'uec(B_J1, P3C_Shc)', 'uec(B_J1, P3C_ShcBound)', 'uec(B_J1, P3C_ASAP1)', 'uec(B_J1, P3C_ASAP1Bound)', 'uec(B_J1, P3C_GRB2)', 'uec(B_J1, P3C_GRB2Bound)', 'uec(B_J1, A_ka)', 'uec(B_J1, A_kd)', 'uec(B_J1, B_ka)', 'uec(B_J1, B_kd)', 'uec(B_J1, C_ka)', 'uec(B_J1, C_kd)', 'uec(C_J0, P3C_Shc)', 'uec(C_J0, P3C_ShcBound)', 'uec(C_J0, P3C_ASAP1)', 'uec(C_J0, P3C_ASAP1Bound)', 'uec(C_J0, P3C_GRB2)', 'uec(C_J0, P3C_GRB2Bound)', 'uec(C_J0, A_ka)', 'uec(C_J0, A_kd)', 'uec(C_J0, B_ka)', 'uec(C_J0, B_kd)', 'uec(C_J0, C_ka)', 'uec(C_J0, C_kd)', 'uec(C_J1, P3C_Shc)', 'uec(C_J1, P3C_ShcBound)', 'uec(C_J1, P3C_ASAP1)', 'uec(C_J1, P3C_ASAP1Bound)', 'uec(C_J1, P3C_GRB2)', 'uec(C_J1, P3C_GRB2Bound)', 'uec(C_J1, A_ka)', 'uec(C_J1, A_kd)', 'uec(C_J1, B_ka)', 'uec(C_J1, B_kd)', 'uec(C_J1, C_ka)', 'uec(C_J1, C_kd)', 'ec(A_J0, P3C_Shc)', 'ec(A_J0, P3C_ShcBound)', 'ec(A_J0, P3C_ASAP1)', 'ec(A_J0, P3C_ASAP1Bound)', 'ec(A_J0, P3C_GRB2)', 'ec(A_J0, P3C_GRB2Bound)', 'ec(A_J0, A_ka)', 'ec(A_J0, A_kd)', 'ec(A_J0, B_ka)', 'ec(A_J0, B_kd)', 'ec(A_J0, C_ka)', 'ec(A_J0, C_kd)', 'ec(A_J1, P3C_Shc)', 'ec(A_J1, P3C_ShcBound)', 'ec(A_J1, P3C_ASAP1)', 'ec(A_J1, P3C_ASAP1Bound)', 'ec(A_J1, P3C_GRB2)', 'ec(A_J1, P3C_GRB2Bound)', 'ec(A_J1, A_ka)', 'ec(A_J1, A_kd)', 'ec(A_J1, B_ka)', 'ec(A_J1, B_kd)', 'ec(A_J1, C_ka)', 'ec(A_J1, C_kd)', 'ec(B_J0, P3C_Shc)', 'ec(B_J0, P3C_ShcBound)', 'ec(B_J0, P3C_ASAP1)', 'ec(B_J0, P3C_ASAP1Bound)', 'ec(B_J0, P3C_GRB2)', 'ec(B_J0, P3C_GRB2Bound)', 'ec(B_J0, A_ka)', 'ec(B_J0, A_kd)', 'ec(B_J0, B_ka)', 'ec(B_J0, B_kd)', 'ec(B_J0, C_ka)', 'ec(B_J0, C_kd)', 'ec(B_J1, P3C_Shc)', 'ec(B_J1, P3C_ShcBound)', 'ec(B_J1, P3C_ASAP1)', 'ec(B_J1, P3C_ASAP1Bound)', 'ec(B_J1, P3C_GRB2)', 'ec(B_J1, P3C_GRB2Bound)', 'ec(B_J1, A_ka)', 'ec(B_J1, A_kd)', 'ec(B_J1, B_ka)', 'ec(B_J1, B_kd)', 'ec(B_J1, C_ka)', 'ec(B_J1, C_kd)', 'ec(C_J0, P3C_Shc)', 'ec(C_J0, P3C_ShcBound)', 'ec(C_J0, P3C_ASAP1)', 'ec(C_J0, P3C_ASAP1Bound)', 'ec(C_J0, P3C_GRB2)', 'ec(C_J0, P3C_GRB2Bound)', 'ec(C_J0, A_ka)', 'ec(C_J0, A_kd)', 'ec(C_J0, B_ka)', 'ec(C_J0, B_kd)', 'ec(C_J0, C_ka)', 'ec(C_J0, C_kd)', 'ec(C_J1, P3C_Shc)', 'ec(C_J1, P3C_ShcBound)', 'ec(C_J1, P3C_ASAP1)', 'ec(C_J1, P3C_ASAP1Bound)', 'ec(C_J1, P3C_GRB2)', 'ec(C_J1, P3C_GRB2Bound)', 'ec(C_J1, A_ka)', 'ec(C_J1, A_kd)', 'ec(C_J1, B_ka)', 'ec(C_J1, B_kd)', 'ec(C_J1, C_ka)', 'ec(C_J1, C_kd)', 'ucc(A_J0, A_ka)', 'ucc(A_J0, A_kd)', 'ucc(A_J0, B_ka)', 'ucc(A_J0, B_kd)', 'ucc(A_J0, C_ka)', 'ucc(A_J0, C_kd)', 'ucc(A_J1, A_ka)', 'ucc(A_J1, A_kd)', 'ucc(A_J1, B_ka)', 'ucc(A_J1, B_kd)', 'ucc(A_J1, C_ka)', 'ucc(A_J1, C_kd)', 'ucc(B_J0, A_ka)', 'ucc(B_J0, A_kd)', 'ucc(B_J0, B_ka)', 'ucc(B_J0, B_kd)', 'ucc(B_J0, C_ka)', 'ucc(B_J0, C_kd)', 'ucc(B_J1, A_ka)', 'ucc(B_J1, A_kd)', 'ucc(B_J1, B_ka)', 'ucc(B_J1, B_kd)', 'ucc(B_J1, C_ka)', 'ucc(B_J1, C_kd)', 'ucc(C_J0, A_ka)', 'ucc(C_J0, A_kd)', 'ucc(C_J0, B_ka)', 'ucc(C_J0, B_kd)', 'ucc(C_J0, C_ka)', 'ucc(C_J0, C_kd)', 'ucc(C_J1, A_ka)', 'ucc(C_J1, A_kd)', 'ucc(C_J1, B_ka)', 'ucc(C_J1, B_kd)', 'ucc(C_J1, C_ka)', 'ucc(C_J1, C_kd)', 'ucc(P3C_Shc, A_ka)', 'ucc(P3C_Shc, A_kd)', 'ucc(P3C_Shc, B_ka)', 'ucc(P3C_Shc, B_kd)', 'ucc(P3C_Shc, C_ka)', 'ucc(P3C_Shc, C_kd)', 'ucc(P3C_ShcBound, A_ka)', 'ucc(P3C_ShcBound, A_kd)', 'ucc(P3C_ShcBound, B_ka)', 'ucc(P3C_ShcBound, B_kd)', 'ucc(P3C_ShcBound, C_ka)', 'ucc(P3C_ShcBound, C_kd)', 'ucc(P3C_ASAP1, A_ka)', 'ucc(P3C_ASAP1, A_kd)', 'ucc(P3C_ASAP1, B_ka)', 'ucc(P3C_ASAP1, B_kd)', 'ucc(P3C_ASAP1, C_ka)', 'ucc(P3C_ASAP1, C_kd)', 'ucc(P3C_ASAP1Bound, A_ka)', 'ucc(P3C_ASAP1Bound, A_kd)', 'ucc(P3C_ASAP1Bound, B_ka)', 'ucc(P3C_ASAP1Bound, B_kd)', 'ucc(P3C_ASAP1Bound, C_ka)', 'ucc(P3C_ASAP1Bound, C_kd)', 'ucc(P3C_GRB2, A_ka)', 'ucc(P3C_GRB2, A_kd)', 'ucc(P3C_GRB2, B_ka)', 'ucc(P3C_GRB2, B_kd)', 'ucc(P3C_GRB2, C_ka)', 'ucc(P3C_GRB2, C_kd)', 'ucc(P3C_GRB2Bound, A_ka)', 'ucc(P3C_GRB2Bound, A_kd)', 'ucc(P3C_GRB2Bound, B_ka)', 'ucc(P3C_GRB2Bound, B_kd)', 'ucc(P3C_GRB2Bound, C_ka)', 'ucc(P3C_GRB2Bound, C_kd)', 'cc(A_J0, A_ka)', 'cc(A_J0, A_kd)', 'cc(A_J0, B_ka)', 'cc(A_J0, B_kd)', 'cc(A_J0, C_ka)', 'cc(A_J0, C_kd)', 'cc(A_J1, A_ka)', 'cc(A_J1, A_kd)', 'cc(A_J1, B_ka)', 'cc(A_J1, B_kd)', 'cc(A_J1, C_ka)', 'cc(A_J1, C_kd)', 'cc(B_J0, A_ka)', 'cc(B_J0, A_kd)', 'cc(B_J0, B_ka)', 'cc(B_J0, B_kd)', 'cc(B_J0, C_ka)', 'cc(B_J0, C_kd)', 'cc(B_J1, A_ka)', 'cc(B_J1, A_kd)', 'cc(B_J1, B_ka)', 'cc(B_J1, B_kd)', 'cc(B_J1, C_ka)', 'cc(B_J1, C_kd)', 'cc(C_J0, A_ka)', 'cc(C_J0, A_kd)', 'cc(C_J0, B_ka)', 'cc(C_J0, B_kd)', 'cc(C_J0, C_ka)', 'cc(C_J0, C_kd)', 'cc(C_J1, A_ka)', 'cc(C_J1, A_kd)', 'cc(C_J1, B_ka)', 'cc(C_J1, B_kd)', 'cc(C_J1, C_ka)', 'cc(C_J1, C_kd)', 'cc(P3C_Shc, A_ka)', 'cc(P3C_Shc, A_kd)', 'cc(P3C_Shc, B_ka)', 'cc(P3C_Shc, B_kd)', 'cc(P3C_Shc, C_ka)', 'cc(P3C_Shc, C_kd)', 'cc(P3C_ShcBound, A_ka)', 'cc(P3C_ShcBound, A_kd)', 'cc(P3C_ShcBound, B_ka)', 'cc(P3C_ShcBound, B_kd)', 'cc(P3C_ShcBound, C_ka)', 'cc(P3C_ShcBound, C_kd)', 'cc(P3C_ASAP1, A_ka)', 'cc(P3C_ASAP1, A_kd)', 'cc(P3C_ASAP1, B_ka)', 'cc(P3C_ASAP1, B_kd)', 'cc(P3C_ASAP1, C_ka)', 'cc(P3C_ASAP1, C_kd)', 'cc(P3C_ASAP1Bound, A_ka)', 'cc(P3C_ASAP1Bound, A_kd)', 'cc(P3C_ASAP1Bound, B_ka)', 'cc(P3C_ASAP1Bound, B_kd)', 'cc(P3C_ASAP1Bound, C_ka)', 'cc(P3C_ASAP1Bound, C_kd)', 'cc(P3C_GRB2, A_ka)', 'cc(P3C_GRB2, A_kd)', 'cc(P3C_GRB2, B_ka)', 'cc(P3C_GRB2, B_kd)', 'cc(P3C_GRB2, C_ka)', 'cc(P3C_GRB2, C_kd)', 'cc(P3C_GRB2Bound, A_ka)', 'cc(P3C_GRB2Bound, A_kd)', 'cc(P3C_GRB2Bound, B_ka)', 'cc(P3C_GRB2Bound, B_kd)', 'cc(P3C_GRB2Bound, C_ka)', 'cc(P3C_GRB2Bound, C_kd)']\n"
     ]
    }
   ],
   "source": [
    "# use antimony's default modularity to create model \n",
    "\n",
    "import antimony\n",
    "import roadrunner\n",
    "import matplotlib.pyplot as plt\n",
    "\n",
    "ant_model = \"\"\"\n",
    "\n",
    "model MichaelisMenten(F, B)\n",
    "    J0:F -> B; Vmf * F / (Kmf + F)\n",
    "    J1:B -> F; Vmb * B / (Kmb + B)\n",
    "\n",
    "    # default values\n",
    "    Vmf = 10\n",
    "    Vmb = 10\n",
    "    Kmf = 100\n",
    "    Kmb = 100\n",
    "end\n",
    "\n",
    "model SimpleMassAction(A, B)\n",
    "    J0:A -> B; ka * A - kd * B\n",
    "    J1:B -> A; kd * B - ka * A\n",
    "    # default values\n",
    "    ka = 0.01\n",
    "    kd = 0.01\n",
    "end\n",
    "\n",
    "model MassAction21(A,B,C)\n",
    "    J0:A + B -> C; ka * A * B - kd * C\n",
    "    J1:C -> A + B; kd * C - ka * A * B\n",
    "\n",
    "    # default values\n",
    "    ka = 0.01\n",
    "    kd = 0.001\n",
    "end\n",
    "\n",
    "\n",
    "model simple_peak3\n",
    "    # Examples of different rate laws and initialization\n",
    "    \n",
    "    A: SimpleMassAction(P3C_Shc, P3C_ShcBound)\n",
    "    B: SimpleMassAction(P3C_ASAP1, P3C_ASAP1Bound)\n",
    "    C: SimpleMassAction(P3C_GRB2, P3C_GRB2Bound)\n",
    "\n",
    "    P3C_Shc = 100\n",
    "    P3C_ShcBound = 0\n",
    "\n",
    "    P3C_ASAP1 = 100\n",
    "    P3C_ASAP1Bound = 0\n",
    "\n",
    "    P3C_GRB2 = 100\n",
    "    P3C_GRB2Bound = 0\n",
    "\n",
    "end\n",
    "\"\"\"\n",
    "\n",
    "antimony.clearPreviousLoads()\n",
    "antimony.freeAll()\n",
    "code = antimony.loadAntimonyString(ant_model)\n",
    "if code >= 0:\n",
    "    mid = antimony.getMainModuleName()\n",
    "    sbml_model = antimony.getSBMLString(mid)\n",
    "    print('Antimony model compiled without error')\n",
    "else:\n",
    "    print(code)\n",
    "r_model = roadrunner.RoadRunner(sbml_model)\n",
    "# r_model.model['S3'] = 1\n",
    "# print(r_model.model['S3'])\n",
    "\n",
    "\n",
    "r_solved = r_model.simulate(0, 100, 100)\n",
    "\n",
    "r_model.plot()\n",
    "\n",
    "print(r_model.model.keys())\n",
    "# print(r_model.model['S3'])\n",
    "# print(r_solved)\n",
    "# plt.plot(r_solved)\n"
   ]
  }
 ],
 "metadata": {
  "kernelspec": {
   "display_name": "Python 3.8.3 ('new-peak-project': venv)",
   "language": "python",
   "name": "python3"
  },
  "language_info": {
   "codemirror_mode": {
    "name": "ipython",
    "version": 3
   },
   "file_extension": ".py",
   "mimetype": "text/x-python",
   "name": "python",
   "nbconvert_exporter": "python",
   "pygments_lexer": "ipython3",
   "version": "3.8.3"
  },
  "orig_nbformat": 4,
  "vscode": {
   "interpreter": {
    "hash": "26dd0fc41489774a473fd43448eb28c34cff45d3a78493dcfae1c9dcdb817ac1"
   }
  }
 },
 "nbformat": 4,
 "nbformat_minor": 2
}
