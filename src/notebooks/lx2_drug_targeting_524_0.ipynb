{
 "cells": [
  {
   "cell_type": "markdown",
   "metadata": {},
   "source": [
    "# Drug Targeting different nodes of the 524 cascade system"
   ]
  },
  {
   "cell_type": "markdown",
   "metadata": {},
   "source": [
    "## Init"
   ]
  },
  {
   "cell_type": "code",
   "execution_count": 1,
   "metadata": {},
   "outputs": [
    {
     "name": "stdout",
     "output_type": "stream",
     "text": [
      "Project path set to: c:\\Github\\new-peak-project\\src\n"
     ]
    }
   ],
   "source": [
    "import os\n",
    "\n",
    "path = os.getcwd()\n",
    "# find the string 'project' in the path, return index\n",
    "index_project = path.find('project')\n",
    "# slice the path from the index of 'project' to the end\n",
    "project_path = path[:index_project+7]\n",
    "# set the working directory\n",
    "os.chdir(project_path+'\\src')\n",
    "print(f'Project path set to: {os.getcwd()}')"
   ]
  },
  {
   "cell_type": "code",
   "execution_count": 2,
   "metadata": {},
   "outputs": [
    {
     "name": "stdout",
     "output_type": "stream",
     "text": [
      "I:\\My Drive\\DAWSON PHD PROJECT\\Biomarker Data Repository\\data\\new-peak-project\\experiments\n"
     ]
    }
   ],
   "source": [
    "from dotenv import dotenv_values\n",
    "config = dotenv_values(\".env\")\n",
    "print(config[\"DATA_PATH\"])"
   ]
  },
  {
   "cell_type": "code",
   "execution_count": 3,
   "metadata": {},
   "outputs": [],
   "source": [
    "from models.ModelBuilder import ModelBuilder\n",
    "from models.Reaction import Reaction\n",
    "from models.ReactionArchtype import ReactionArchtype\n",
    "from models.ArchtypeCollections import *\n",
    "from models.Utils import *\n",
    "\n",
    "import matplotlib.pyplot as plt\n",
    "import seaborn as sns\n",
    "import roadrunner\n",
    "import numpy as np\n",
    "import pandas as pd\n",
    "\n",
    "# import scikit-learn\n",
    "from sklearn.linear_model import LinearRegression\n",
    "# tree models and support vector machines\n",
    "from sklearn.ensemble import RandomForestRegressor\n",
    "from sklearn.ensemble import GradientBoostingRegressor\n",
    "from sklearn.svm import SVR\n",
    "from sklearn.neural_network import MLPRegressor\n",
    "from sklearn.model_selection import train_test_split\n",
    "from sklearn.metrics import mean_squared_error, r2_score\n",
    "# import pearson correlation\n",
    "from scipy.stats import pearsonr\n",
    "from sklearn.preprocessing import StandardScaler\n",
    "from sklearn.pipeline import Pipeline\n",
    "\n",
    "from copy import deepcopy"
   ]
  },
  {
   "cell_type": "code",
   "execution_count": 4,
   "metadata": {},
   "outputs": [
    {
     "name": "stdout",
     "output_type": "stream",
     "text": [
      "I:\\My Drive\\DAWSON PHD PROJECT\\Biomarker Data Repository\\data\\new-peak-project\\experiments/drug_targeting_524_4_50/\n"
     ]
    }
   ],
   "source": [
    "import os \n",
    "\n",
    "### parameters \n",
    "\n",
    "notebook_name = 'drug_targeting_524'\n",
    "plot_figures = True\n",
    "run_jobs = False\n",
    "parallelise = True\n",
    "save_figures = True\n",
    "\n",
    "## Generation of ground truth model \n",
    "\n",
    "model_name = 'v3_small_model_52'\n",
    "o_random_seed = 4\n",
    "no_observable_species = 5\n",
    "no_feedback_regulations = 2\n",
    "specie_value_range = (5, 5000)\n",
    "param_range = (0.1, 10)\n",
    "param_multiplier_range = (0.7, 1.3)\n",
    "\n",
    "\n",
    "## Simulation parameters \n",
    "\n",
    "simulation_time = 500 \n",
    "simulation_step = 100\n",
    "\n",
    "## Feature data generation \n",
    "\n",
    "feature_generation_method = 'uniform'\n",
    "feature_generation_extra_params = {'min': 0.1, 'max': 10}\n",
    "feature_generation_size = 1000 \n",
    "feature_generation_seed = 50 # if -1 then 'o_random_seed' is used\n",
    "if feature_generation_seed == -1:\n",
    "    feature_generation_seed = o_random_seed\n",
    "''' \n",
    "Options: \n",
    "- 'last_time_point' : only the last time point of the phosphorylated species is used\n",
    "- 'dynamic_feature': computes the characteristic 'ten' dynamic feature for each specie data \n",
    "'''\n",
    "\n",
    "## General parameters \n",
    "experiment_id = notebook_name + '_' + str(o_random_seed) + '_' + str(feature_generation_seed)\n",
    "experiment_folder = config['DATA_PATH'] + '/' + experiment_id + '/'\n",
    "if not os.path.exists(experiment_folder):\n",
    "    os.makedirs(experiment_folder)\n",
    "    \n",
    "print(experiment_folder)"
   ]
  },
  {
   "cell_type": "markdown",
   "metadata": {},
   "source": [
    "## Jobs and Visualisations"
   ]
  },
  {
   "cell_type": "markdown",
   "metadata": {},
   "source": [
    "### Generate drug network"
   ]
  },
  {
   "cell_type": "code",
   "execution_count": 11,
   "metadata": {},
   "outputs": [],
   "source": [
    "from models.Utils import *\n",
    "from models.DrugModelSpecification import DrugModelSpecification, Drug\n",
    "\n",
    "model_drug_spec = DrugModelSpecification()\n",
    "model_drug_spec.generate_specifications(4, 5, 2, verbose=0)\n",
    "G0_d = model_drug_spec.generate_network('drug_model_524', specie_value_range, param_range, param_multiplier_range, random_seed=4, verbose=0)"
   ]
  },
  {
   "cell_type": "code",
   "execution_count": 13,
   "metadata": {},
   "outputs": [
    {
     "name": "stdout",
     "output_type": "stream",
     "text": [
      "[('C', 'A1'), ('B0', 'A2')]\n"
     ]
    }
   ],
   "source": [
    "print(model_drug_spec.get_feedback_regulations())"
   ]
  },
  {
   "cell_type": "code",
   "execution_count": null,
   "metadata": {},
   "outputs": [
    {
     "name": "stdout",
     "output_type": "stream",
     "text": [
      "Drug(D0_A0d, 500, ['A0'], ['down'])\n",
      "Drug(D0_A0u, 500, ['A0'], ['up'])\n",
      "Drug(D1_A1d, 500, ['A1'], ['down'])\n",
      "Drug(D1_A1u, 500, ['A1'], ['up'])\n",
      "Drug(D2_A2d, 500, ['A2'], ['down'])\n",
      "Drug(D2_A2u, 500, ['A2'], ['up'])\n",
      "Drug(D3_A3d, 500, ['A3'], ['down'])\n",
      "Drug(D3_A3u, 500, ['A3'], ['up'])\n",
      "Drug(D4_A4d, 500, ['A4'], ['down'])\n",
      "Drug(D4_A4u, 500, ['A4'], ['up'])\n",
      "Drug(D5_B0d, 500, ['B0'], ['down'])\n",
      "Drug(D5_B0u, 500, ['B0'], ['up'])\n",
      "Drug(D6_B1d, 500, ['B1'], ['down'])\n",
      "Drug(D6_B1u, 500, ['B1'], ['up'])\n",
      "Drug(D7_B2d, 500, ['B2'], ['down'])\n",
      "Drug(D7_B2u, 500, ['B2'], ['up'])\n",
      "Drug(D8_B3d, 500, ['B3'], ['down'])\n",
      "Drug(D8_B3u, 500, ['B3'], ['up'])\n",
      "Drug(D9_B4d, 500, ['B4'], ['down'])\n",
      "Drug(D9_B4u, 500, ['B4'], ['up'])\n",
      "Drug(D10_C, 500, ['C'], ['down'])\n",
      "Drug(D10_C, 500, ['C'], ['up'])\n"
     ]
    }
   ],
   "source": [
    "drug_activation_time = 500\n",
    "drug_value = 5000\n",
    "\n",
    "possible_drugs = []\n",
    "counter = 0 \n",
    "for specie in model_drug_spec.A_species:\n",
    "    drug = Drug('D'+str(counter)+'_'+specie+'d', drug_activation_time, drug_value)\n",
    "    drug.add_regulation(specie, 'down')\n",
    "    possible_drugs.append(drug)\n",
    "    drug = Drug('D'+str(counter)+'_'+specie+'u', drug_activation_time, drug_value)\n",
    "    drug.add_regulation(specie, 'up')\n",
    "    possible_drugs.append(drug)\n",
    "    counter += 1\n",
    "\n",
    "for specie in model_drug_spec.B_species:\n",
    "    drug = Drug('D'+str(counter)+'_'+specie+'d', drug_activation_time, drug_value)\n",
    "    drug.add_regulation(specie, 'down')\n",
    "    possible_drugs.append(drug)\n",
    "    drug = Drug('D'+str(counter)+'_'+specie+'u', drug_activation_time, drug_value)\n",
    "    drug.add_regulation(specie, 'up')   \n",
    "    possible_drugs.append(drug)\n",
    "    counter += 1\n",
    "    \n",
    "drug = Drug('D'+str(counter)+'_C', drug_activation_time, drug_value)\n",
    "drug.add_regulation('C', 'down')\n",
    "possible_drugs.append(drug)\n",
    "\n",
    "drug = Drug('D'+str(counter)+'_C', drug_activation_time, drug_value)\n",
    "drug.add_regulation('C', 'up')\n",
    "possible_drugs.append(drug)\n",
    "    \n",
    "for drug in possible_drugs:\n",
    "    print(drug)"
   ]
  }
 ],
 "metadata": {
  "kernelspec": {
   "display_name": "new-peak-project",
   "language": "python",
   "name": "python3"
  },
  "language_info": {
   "codemirror_mode": {
    "name": "ipython",
    "version": 3
   },
   "file_extension": ".py",
   "mimetype": "text/x-python",
   "name": "python",
   "nbconvert_exporter": "python",
   "pygments_lexer": "ipython3",
   "version": "3.8.10"
  }
 },
 "nbformat": 4,
 "nbformat_minor": 2
}
