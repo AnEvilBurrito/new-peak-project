{
 "cells": [
  {
   "cell_type": "markdown",
   "id": "bb525841",
   "metadata": {},
   "source": [
    "# Sensitive Model Search\n",
    "\n",
    "by adjusting `o_random_seed` and `parameter_generation_seed`"
   ]
  },
  {
   "cell_type": "markdown",
   "id": "813136b5",
   "metadata": {},
   "source": [
    "## Init"
   ]
  },
  {
   "cell_type": "code",
   "execution_count": 1,
   "id": "3b773f6d",
   "metadata": {},
   "outputs": [
    {
     "name": "stdout",
     "output_type": "stream",
     "text": [
      "Project path set to: C:\\Github\\new-peak-project\\src\n"
     ]
    }
   ],
   "source": [
    "import os\n",
    "\n",
    "path = os.getcwd()\n",
    "# find the string 'project' in the path, return index\n",
    "index_project = path.find('project')\n",
    "# slice the path from the index of 'project' to the end\n",
    "project_path = path[:index_project+7]\n",
    "# set the working directory\n",
    "os.chdir(project_path+'\\src')\n",
    "print(f'Project path set to: {os.getcwd()}')"
   ]
  },
  {
   "cell_type": "code",
   "execution_count": 2,
   "id": "2e84e0ee",
   "metadata": {},
   "outputs": [
    {
     "name": "stdout",
     "output_type": "stream",
     "text": [
      "G:\\My Drive\\DAWSON PHD PROJECT\\Biomarker Data Repository\\data\\new-peak-project\\experiments\n"
     ]
    }
   ],
   "source": [
    "from dotenv import dotenv_values\n",
    "config = dotenv_values(\".env\")\n",
    "print(config[\"DATA_PATH\"])"
   ]
  },
  {
   "cell_type": "code",
   "execution_count": 3,
   "id": "5ec4769a",
   "metadata": {},
   "outputs": [],
   "source": [
    "from models.ModelBuilder import ModelBuilder\n",
    "from models.Reaction import Reaction\n",
    "from models.ReactionArchtype import ReactionArchtype\n",
    "from models.ArchtypeCollections import *\n",
    "from models.Utils import *\n",
    "\n",
    "import matplotlib.pyplot as plt\n",
    "import seaborn as sns\n",
    "import roadrunner\n",
    "import numpy as np\n",
    "import pandas as pd\n",
    "\n",
    "# import scikit-learn\n",
    "from sklearn.linear_model import LinearRegression\n",
    "# tree models and support vector machines\n",
    "from sklearn.ensemble import RandomForestRegressor\n",
    "from sklearn.ensemble import GradientBoostingRegressor\n",
    "from sklearn.svm import SVR\n",
    "from sklearn.neural_network import MLPRegressor\n",
    "from sklearn.model_selection import train_test_split\n",
    "from sklearn.metrics import mean_squared_error, r2_score\n",
    "# import pearson correlation\n",
    "from scipy.stats import pearsonr\n",
    "from sklearn.preprocessing import StandardScaler\n",
    "from sklearn.pipeline import Pipeline\n",
    "\n",
    "from copy import deepcopy"
   ]
  },
  {
   "cell_type": "markdown",
   "id": "8a444882",
   "metadata": {},
   "source": [
    "## Analysis"
   ]
  },
  {
   "cell_type": "code",
   "execution_count": 4,
   "id": "90b6501f",
   "metadata": {},
   "outputs": [
    {
     "name": "stdout",
     "output_type": "stream",
     "text": [
      "G:\\My Drive\\DAWSON PHD PROJECT\\Biomarker Data Repository\\data\\new-peak-project\\experiments/sensitive_model_search_3/\n"
     ]
    }
   ],
   "source": [
    "import os \n",
    "\n",
    "### parameters \n",
    "notebook_name = 'sensitive_model_search'\n",
    "sub_id = '3'\n",
    "\n",
    "## Generation of ground truth model \n",
    "model_name = 'v3_small_model_52'\n",
    "o_random_seed = 6\n",
    "parameter_random_seed = 6\n",
    "no_observable_species = 5\n",
    "no_feedback_regulations = 2\n",
    "specie_value_range = (5, 5000)\n",
    "param_range = (0.1, 10)\n",
    "param_multiplier_range = (0.7, 1.3)\n",
    "\n",
    "\n",
    "## Simulation parameters \n",
    "simulation_time = 500 \n",
    "simulation_step = 100\n",
    "\n",
    "## Feature data generation \n",
    "feature_generation_method = 'uniform'\n",
    "feature_generation_extra_params = {'min': 0.1, 'max': 10}\n",
    "feature_generation_size = 1000 \n",
    "feature_generation_seed = 50 # if -1 then 'o_random_seed' is used\n",
    "if feature_generation_seed == -1:\n",
    "    feature_generation_seed = o_random_seed\n",
    "    \n",
    "## Data engineering parameters\n",
    "\n",
    "# Suboptimal Model Generation \n",
    "'''\n",
    "Options: \n",
    "- 'feedback_prune': removes feedback regulations from the model \n",
    "'''\n",
    "\n",
    "# Engineering Feature Data \n",
    "data_engineering_method = 'dynamic_feature'\n",
    "''' \n",
    "Options: \n",
    "- 'last_time_point' : only the last time point of the phosphorylated species is used\n",
    "- 'dynamic_feature': computes the characteristic 'ten' dynamic feature for each specie data \n",
    "'''\n",
    "\n",
    "## General parameters\n",
    "parallelise = True\n",
    "save_figures = True \n",
    "experiment_id = notebook_name + '_' + sub_id\n",
    "experiment_folder = config['DATA_PATH'] + '/' + experiment_id + '/'\n",
    "if not os.path.exists(experiment_folder):\n",
    "    os.makedirs(experiment_folder)\n",
    "    \n",
    "print(experiment_folder)"
   ]
  },
  {
   "cell_type": "code",
   "execution_count": 5,
   "id": "262dd5f4",
   "metadata": {},
   "outputs": [],
   "source": [
    "o_random_seeds = list(range(101, 115))\n",
    "parameter_random_seeds = list(range(101, 115))\n",
    "species_perturbation_range = np.arange(1, 5000, 500)\n",
    "\n",
    "## Helper functions\n",
    "import warnings\n",
    "\n",
    "def sensitivity_analysis(builder: ModelBuilder, specie_name, specie_range, simulation_time, simulation_step):\n",
    "    all_results = []\n",
    "    for specie in specie_range:\n",
    "        builder.set_state(specie_name, specie)\n",
    "        runner = roadrunner.RoadRunner(builder.get_sbml_model())\n",
    "        try: \n",
    "            res = runner.simulate(0, simulation_time, simulation_step)\n",
    "            all_results.append(res)\n",
    "        except Exception as e:\n",
    "            warnings.warn(f\"Simulation failed for specie {specie}: {e}\")\n",
    "            continue\n",
    "    return all_results\n",
    "\n",
    "def extract_states_from_results(results, state_name, time_point):\n",
    "    all_states = []\n",
    "    for result in results:\n",
    "        state = result[f'[{state_name}]']\n",
    "        all_states.append(state[time_point])\n",
    "    return all_states\n",
    "\n",
    "def get_sensitivity_score(states):\n",
    "    state_sensitivity = []  \n",
    "    for i, specific_states in enumerate(states):\n",
    "        # get the max and min of the Cp final state list \n",
    "        max_state = max(specific_states)\n",
    "        min_state = min(specific_states)\n",
    "        # get the range of the Cp final state list \n",
    "        range_state = max_state - min_state\n",
    "        # append to the list \n",
    "        state_sensitivity.append(range_state)\n",
    "    # print the mean of the state sensitivity\n",
    "    return sum(state_sensitivity) / len(state_sensitivity)"
   ]
  },
  {
   "cell_type": "code",
   "execution_count": 6,
   "id": "9b820fb8",
   "metadata": {},
   "outputs": [],
   "source": [
    "results = []\n",
    "# use joblib to parallelise the code\n",
    "from joblib import Parallel, delayed\n",
    "\n",
    "def run_sensitivity_analysis(o_random_seed, parameter_random_seed, verbose=0):\n",
    "    # Generate the model \n",
    "    model_spec = ModelSpecification()\n",
    "    model_spec.generate_specifications(o_random_seed, no_observable_species, no_feedback_regulations, verbose=0)\n",
    "    G0 = model_spec.generate_network(model_name, specie_value_range, param_range, param_multiplier_range, random_seed=parameter_random_seed, verbose=0)\n",
    "    all_states = []\n",
    "    for i in range(no_observable_species):\n",
    "        all_states.append('A'+str(i))\n",
    "    for i in range(no_observable_species):\n",
    "        all_states.append('B'+str(i))\n",
    "                \n",
    "    all_init_species_results = []\n",
    "    for init_species in all_states: \n",
    "        all_results = sensitivity_analysis(G0, init_species, species_perturbation_range, simulation_time, simulation_step)\n",
    "        all_init_species_results.append(all_results)\n",
    "\n",
    "    # extract the last time point of Cp for each init species\n",
    "    Cp_final_states = []\n",
    "    for init_species in all_init_species_results: \n",
    "        Cp_final_states.append(extract_states_from_results(init_species, 'Cp', -1))\n",
    "        \n",
    "    sens_score = get_sensitivity_score(Cp_final_states)\n",
    "    if verbose: \n",
    "        print(f'Random seed: {o_random_seed}, Parameter random seed: {parameter_random_seed}, Sensitivity score: {sens_score}')\n",
    "    return [o_random_seed, parameter_random_seed, sens_score]\n",
    "\n",
    "\n",
    "\n"
   ]
  },
  {
   "cell_type": "code",
   "execution_count": 7,
   "id": "add2ed82",
   "metadata": {},
   "outputs": [
    {
     "name": "stdout",
     "output_type": "stream",
     "text": [
      "Random seed: 5, Parameter random seed: 5, Sensitivity score: 19.462765125626994\n"
     ]
    }
   ],
   "source": [
    "res = run_sensitivity_analysis(5, 5, verbose=1)"
   ]
  },
  {
   "cell_type": "code",
   "execution_count": 8,
   "id": "61aa3689",
   "metadata": {},
   "outputs": [
    {
     "data": {
      "application/vnd.microsoft.datawrangler.viewer.v0+json": {
       "columns": [
        {
         "name": "index",
         "rawType": "int64",
         "type": "integer"
        },
        {
         "name": "o_random_seed",
         "rawType": "int64",
         "type": "integer"
        },
        {
         "name": "parameter_random_seed",
         "rawType": "int64",
         "type": "integer"
        },
        {
         "name": "sensitivity_score",
         "rawType": "float64",
         "type": "float"
        }
       ],
       "conversionMethod": "pd.DataFrame",
       "ref": "4bce0302-a905-4f9a-a441-f0fec3b27fbb",
       "rows": [
        [
         "66",
         "105",
         "111",
         "19.113081775280687"
        ],
        [
         "165",
         "112",
         "112",
         "19.0240990698319"
        ],
        [
         "56",
         "105",
         "101",
         "18.95881411957041"
        ],
        [
         "59",
         "105",
         "104",
         "18.668454109155537"
        ],
        [
         "163",
         "112",
         "110",
         "18.08233304982629"
        ],
        [
         "167",
         "112",
         "114",
         "18.01598334759594"
        ],
        [
         "61",
         "105",
         "106",
         "17.65238972229756"
        ],
        [
         "154",
         "112",
         "101",
         "17.50167037377631"
        ],
        [
         "166",
         "112",
         "113",
         "17.474394224660468"
        ],
        [
         "103",
         "108",
         "106",
         "17.320448283273617"
        ],
        [
         "65",
         "105",
         "110",
         "16.821322057825068"
        ],
        [
         "159",
         "112",
         "106",
         "16.81677931079017"
        ],
        [
         "156",
         "112",
         "103",
         "16.710021109589114"
        ],
        [
         "162",
         "112",
         "109",
         "14.96970035052153"
        ],
        [
         "111",
         "108",
         "114",
         "14.936361361185766"
        ],
        [
         "164",
         "112",
         "111",
         "14.8303422662922"
        ],
        [
         "67",
         "105",
         "112",
         "14.373126160407448"
        ],
        [
         "124",
         "109",
         "113",
         "14.367703150483644"
        ],
        [
         "107",
         "108",
         "110",
         "13.837668152155867"
        ],
        [
         "160",
         "112",
         "107",
         "13.701126054370679"
        ],
        [
         "106",
         "108",
         "109",
         "13.344063781281154"
        ],
        [
         "60",
         "105",
         "105",
         "12.523754764992917"
        ],
        [
         "98",
         "108",
         "101",
         "12.45681901473906"
        ],
        [
         "105",
         "108",
         "108",
         "12.325975333450883"
        ],
        [
         "100",
         "108",
         "103",
         "11.888006989661324"
        ],
        [
         "109",
         "108",
         "112",
         "11.868156346565513"
        ],
        [
         "102",
         "108",
         "105",
         "11.784745954602775"
        ],
        [
         "155",
         "112",
         "102",
         "11.577722453742098"
        ],
        [
         "29",
         "103",
         "102",
         "11.277051233085004"
        ],
        [
         "101",
         "108",
         "104",
         "11.10493288592911"
        ],
        [
         "63",
         "105",
         "108",
         "11.031823479827985"
        ],
        [
         "68",
         "105",
         "113",
         "10.71350872424546"
        ],
        [
         "108",
         "108",
         "111",
         "10.519314377972375"
        ],
        [
         "110",
         "108",
         "113",
         "10.473141230114205"
        ],
        [
         "99",
         "108",
         "102",
         "10.116985497507185"
        ],
        [
         "57",
         "105",
         "102",
         "9.811506547418626"
        ],
        [
         "30",
         "103",
         "103",
         "8.648491802368886"
        ],
        [
         "62",
         "105",
         "107",
         "8.192706973528932"
        ],
        [
         "157",
         "112",
         "104",
         "7.730689434435009"
        ],
        [
         "20",
         "102",
         "107",
         "6.799861451961317"
        ],
        [
         "83",
         "106",
         "114",
         "6.7698483245694945"
        ],
        [
         "188",
         "114",
         "107",
         "6.4435839957818875"
        ],
        [
         "69",
         "105",
         "114",
         "6.409608603801208"
        ],
        [
         "58",
         "105",
         "103",
         "5.427120523985512"
        ],
        [
         "158",
         "112",
         "105",
         "4.946674441827253"
        ],
        [
         "40",
         "103",
         "113",
         "4.923053697909692"
        ],
        [
         "39",
         "103",
         "112",
         "4.828410695181857"
        ],
        [
         "32",
         "103",
         "105",
         "4.156682769999513"
        ],
        [
         "22",
         "102",
         "109",
         "4.074786643570166"
        ],
        [
         "104",
         "108",
         "107",
         "4.000382750100759"
        ]
       ],
       "shape": {
        "columns": 3,
        "rows": 196
       }
      },
      "text/html": [
       "<div>\n",
       "<style scoped>\n",
       "    .dataframe tbody tr th:only-of-type {\n",
       "        vertical-align: middle;\n",
       "    }\n",
       "\n",
       "    .dataframe tbody tr th {\n",
       "        vertical-align: top;\n",
       "    }\n",
       "\n",
       "    .dataframe thead th {\n",
       "        text-align: right;\n",
       "    }\n",
       "</style>\n",
       "<table border=\"1\" class=\"dataframe\">\n",
       "  <thead>\n",
       "    <tr style=\"text-align: right;\">\n",
       "      <th></th>\n",
       "      <th>o_random_seed</th>\n",
       "      <th>parameter_random_seed</th>\n",
       "      <th>sensitivity_score</th>\n",
       "    </tr>\n",
       "  </thead>\n",
       "  <tbody>\n",
       "    <tr>\n",
       "      <th>66</th>\n",
       "      <td>105</td>\n",
       "      <td>111</td>\n",
       "      <td>19.113082</td>\n",
       "    </tr>\n",
       "    <tr>\n",
       "      <th>165</th>\n",
       "      <td>112</td>\n",
       "      <td>112</td>\n",
       "      <td>19.024099</td>\n",
       "    </tr>\n",
       "    <tr>\n",
       "      <th>56</th>\n",
       "      <td>105</td>\n",
       "      <td>101</td>\n",
       "      <td>18.958814</td>\n",
       "    </tr>\n",
       "    <tr>\n",
       "      <th>59</th>\n",
       "      <td>105</td>\n",
       "      <td>104</td>\n",
       "      <td>18.668454</td>\n",
       "    </tr>\n",
       "    <tr>\n",
       "      <th>163</th>\n",
       "      <td>112</td>\n",
       "      <td>110</td>\n",
       "      <td>18.082333</td>\n",
       "    </tr>\n",
       "    <tr>\n",
       "      <th>...</th>\n",
       "      <td>...</td>\n",
       "      <td>...</td>\n",
       "      <td>...</td>\n",
       "    </tr>\n",
       "    <tr>\n",
       "      <th>92</th>\n",
       "      <td>107</td>\n",
       "      <td>109</td>\n",
       "      <td>0.000091</td>\n",
       "    </tr>\n",
       "    <tr>\n",
       "      <th>12</th>\n",
       "      <td>101</td>\n",
       "      <td>113</td>\n",
       "      <td>0.000066</td>\n",
       "    </tr>\n",
       "    <tr>\n",
       "      <th>51</th>\n",
       "      <td>104</td>\n",
       "      <td>110</td>\n",
       "      <td>0.000064</td>\n",
       "    </tr>\n",
       "    <tr>\n",
       "      <th>138</th>\n",
       "      <td>110</td>\n",
       "      <td>113</td>\n",
       "      <td>0.000056</td>\n",
       "    </tr>\n",
       "    <tr>\n",
       "      <th>55</th>\n",
       "      <td>104</td>\n",
       "      <td>114</td>\n",
       "      <td>0.000016</td>\n",
       "    </tr>\n",
       "  </tbody>\n",
       "</table>\n",
       "<p>196 rows × 3 columns</p>\n",
       "</div>"
      ],
      "text/plain": [
       "     o_random_seed  parameter_random_seed  sensitivity_score\n",
       "66             105                    111          19.113082\n",
       "165            112                    112          19.024099\n",
       "56             105                    101          18.958814\n",
       "59             105                    104          18.668454\n",
       "163            112                    110          18.082333\n",
       "..             ...                    ...                ...\n",
       "92             107                    109           0.000091\n",
       "12             101                    113           0.000066\n",
       "51             104                    110           0.000064\n",
       "138            110                    113           0.000056\n",
       "55             104                    114           0.000016\n",
       "\n",
       "[196 rows x 3 columns]"
      ]
     },
     "execution_count": 8,
     "metadata": {},
     "output_type": "execute_result"
    }
   ],
   "source": [
    "results = Parallel(n_jobs=-1)(delayed(run_sensitivity_analysis)(o_random_seed, parameter_random_seed) for o_random_seed in o_random_seeds for parameter_random_seed in parameter_random_seeds)\n",
    "# convert to pandas dataframe\n",
    "df = pd.DataFrame(results, columns=['o_random_seed', 'parameter_random_seed', 'sensitivity_score'])\n",
    "\n",
    "# sort the dataframe by sensitivity score\n",
    "df = df.sort_values(by='sensitivity_score', ascending=False)\n",
    "df"
   ]
  },
  {
   "cell_type": "code",
   "execution_count": 9,
   "id": "a571f00d",
   "metadata": {},
   "outputs": [],
   "source": [
    "# save df to a pickle file\n",
    "df.to_pickle(experiment_folder + 'sensitivity_analysis_results.pkl')"
   ]
  }
 ],
 "metadata": {
  "kernelspec": {
   "display_name": "Python 3 (ipykernel)",
   "language": "python",
   "name": "python3"
  },
  "language_info": {
   "codemirror_mode": {
    "name": "ipython",
    "version": 3
   },
   "file_extension": ".py",
   "mimetype": "text/x-python",
   "name": "python",
   "nbconvert_exporter": "python",
   "pygments_lexer": "ipython3",
   "version": "3.8.10"
  }
 },
 "nbformat": 4,
 "nbformat_minor": 5
}
