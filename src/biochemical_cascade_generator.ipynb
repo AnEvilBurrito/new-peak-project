{
 "cells": [
  {
   "cell_type": "code",
   "execution_count": 2,
   "metadata": {},
   "outputs": [],
   "source": [
    "from models.ModelBuilder import ModelBuilder\n",
    "from models.Reaction import Reaction\n",
    "from models.ReactionArchtype import ReactionArchtype\n",
    "from models.ArchtypeCollections import *\n",
    "\n",
    "import matplotlib.pyplot as plt\n",
    "import roadrunner\n",
    "\n",
    "### Parameters\n",
    "\n",
    "NA = 10 \n",
    "NB = 10\n",
    "NC = 1 \n",
    "NR = 0 \n",
    "\n",
    "mean_range_species = (5,500)\n",
    "sd_range_species = (1,100)\n",
    "\n",
    "mean_range_params = (0.1,10)\n",
    "sd_range_params = (0.01,1)\n",
    "\n",
    "\n"
   ]
  },
  {
   "cell_type": "markdown",
   "metadata": {},
   "source": [
    "## Create an example Model"
   ]
  },
  {
   "cell_type": "code",
   "execution_count": 7,
   "metadata": {},
   "outputs": [
    {
     "name": "stdout",
     "output_type": "stream",
     "text": [
      "model SimpleCascade\n",
      "\n",
      "J0: A0p -> A0; J0_Vmax*A0p/(J0_Km + A0p)\n",
      "J1: A0 -> A0p; J1_Vmax*A0/(J1_Km + A0)\n",
      "J2: A1p -> A1; J2_Vmax*A1p/(J2_Km + A1p)\n",
      "J3: A1 -> A1p; J3_Vmax*A1/(J3_Km + A1)\n",
      "J4: B0p -> B0; J4_Vmax*B0p*A0p/(J4_Km + B0p)\n",
      "J5: B0 -> B0p; J5_Vmax*B0/(J5_Km + B0)\n",
      "J6: B1p -> B1; J6_Vmax*B1p*A1p/(J6_Km + B1p)\n",
      "J7: B1 -> B1p; J7_Vmax*B1/(J7_Km + B1)\n",
      "J8: Cp -> C; J8_Vmax*Cp/(J8_Km + Cp)\n",
      "J9: C -> Cp; J9_Vmax*C/(J9_Km + C)\n",
      "\n",
      "# State variables in the system\n",
      "A0p=0\n",
      "A0=100\n",
      "A1p=0\n",
      "A1=100\n",
      "B0p=0\n",
      "B0=100\n",
      "B1p=0\n",
      "B1=100\n",
      "Cp=0\n",
      "C=100\n",
      "\n",
      "# Parameters in the system\n",
      "J0_Km=100\n",
      "J0_Vmax=10\n",
      "J1_Km=100\n",
      "J1_Vmax=10\n",
      "J2_Km=100\n",
      "J2_Vmax=10\n",
      "J3_Km=100\n",
      "J3_Vmax=10\n",
      "J4_Km=100\n",
      "J4_Vmax=10\n",
      "J5_Km=100\n",
      "J5_Vmax=10\n",
      "J6_Km=100\n",
      "J6_Vmax=10\n",
      "J7_Km=100\n",
      "J7_Vmax=10\n",
      "J8_Km=100\n",
      "J8_Vmax=10\n",
      "J9_Km=100\n",
      "J9_Vmax=10\n",
      "\n",
      "# Other variables in the system\n",
      "\n",
      "\n",
      "end\n"
     ]
    }
   ],
   "source": [
    "model = ModelBuilder('SimpleCascade')\n",
    "\n",
    "A_species = ['A0', 'A1']\n",
    "B_species = ['B0', 'B1']\n",
    "C_species = ['C']\n",
    "\n",
    "for specie in A_species:\n",
    "    model.add_reaction(Reaction(michaelis_menten, (specie+'p',), (specie,)))\n",
    "    model.add_reaction(Reaction(michaelis_menten, (specie,), (specie+'p',)))\n",
    "\n",
    "for specie in B_species:\n",
    "    model.add_reaction(Reaction(michaelis_menten_stim, (specie+'p',), (specie,), extra_states=('A'+specie[1]+'p',)))\n",
    "    model.add_reaction(Reaction(michaelis_menten, (specie,), (specie+'p',)))\n",
    "    \n",
    "for specie in C_species:\n",
    "    model.add_reaction(Reaction(michaelis_menten, (specie+'p',), (specie,)))\n",
    "    model.add_reaction(Reaction(michaelis_menten, (specie,), (specie+'p',)))\n",
    "    \n",
    "# add stimulation reactions\n",
    "\n",
    "print(model.get_antimony_model())"
   ]
  }
 ],
 "metadata": {
  "kernelspec": {
   "display_name": "new-peak-project",
   "language": "python",
   "name": "python3"
  },
  "language_info": {
   "codemirror_mode": {
    "name": "ipython",
    "version": 3
   },
   "file_extension": ".py",
   "mimetype": "text/x-python",
   "name": "python",
   "nbconvert_exporter": "python",
   "pygments_lexer": "ipython3",
   "version": "3.8.3"
  }
 },
 "nbformat": 4,
 "nbformat_minor": 2
}
