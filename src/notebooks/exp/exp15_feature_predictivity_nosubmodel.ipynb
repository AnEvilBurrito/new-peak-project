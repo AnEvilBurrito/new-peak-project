{
 "cells": [
  {
   "cell_type": "markdown",
   "id": "ed0a5d3a",
   "metadata": {},
   "source": [
    "## Init"
   ]
  },
  {
   "cell_type": "code",
   "execution_count": 7,
   "id": "1bb81f51",
   "metadata": {},
   "outputs": [
    {
     "name": "stdout",
     "output_type": "stream",
     "text": [
      "Project path set to: c:\\Users\\dawson\\Documents\\GitHub\\new-peak-project\\src\n"
     ]
    }
   ],
   "source": [
    "import os\n",
    "\n",
    "path = os.getcwd()\n",
    "# find the string 'project' in the path, return index\n",
    "index_project = path.find('project')\n",
    "# slice the path from the index of 'project' to the end\n",
    "project_path = path[:index_project+7]\n",
    "# set the working directory\n",
    "os.chdir(project_path+'/src')\n",
    "print(f'Project path set to: {os.getcwd()}')"
   ]
  },
  {
   "cell_type": "code",
   "execution_count": 8,
   "id": "1a9d619e",
   "metadata": {},
   "outputs": [
    {
     "name": "stdout",
     "output_type": "stream",
     "text": [
      "C:\\Users\\dawson\\Documents\\Google Drive\\My Drive\\DAWSON PHD PROJECT\\Biomarker Data Repository\\data\\new-peak-project\\experiments\n"
     ]
    }
   ],
   "source": [
    "from dotenv import dotenv_values\n",
    "config = dotenv_values(\".env\")\n",
    "print(config[\"DATA_PATH\"])"
   ]
  },
  {
   "cell_type": "code",
   "execution_count": 9,
   "id": "d146f02b",
   "metadata": {},
   "outputs": [],
   "source": [
    "from models.ModelBuilder import ModelBuilder\n",
    "from models.Reaction import Reaction\n",
    "from models.ReactionArchtype import ReactionArchtype\n",
    "from models.ArchtypeCollections import *\n",
    "\n",
    "# import scikit-learn\n",
    "from sklearn.linear_model import LinearRegression\n",
    "# tree models and support vector machines\n",
    "from sklearn.ensemble import RandomForestRegressor\n",
    "from sklearn.ensemble import GradientBoostingRegressor\n",
    "from sklearn.svm import SVR\n",
    "from sklearn.neural_network import MLPRegressor\n",
    "from sklearn.model_selection import train_test_split\n",
    "from sklearn.metrics import mean_squared_error, r2_score\n",
    "# import pearson correlation\n",
    "from scipy.stats import pearsonr\n",
    "from sklearn.preprocessing import StandardScaler\n",
    "from sklearn.pipeline import Pipeline\n",
    "\n",
    "from copy import deepcopy"
   ]
  },
  {
   "cell_type": "markdown",
   "id": "b258d0ff",
   "metadata": {},
   "source": [
    "## Notebook Parameters"
   ]
  },
  {
   "cell_type": "code",
   "execution_count": 23,
   "id": "33cc3166",
   "metadata": {},
   "outputs": [
    {
     "name": "stdout",
     "output_type": "stream",
     "text": [
      "C:\\Users\\dawson\\Documents\\Google Drive\\My Drive\\DAWSON PHD PROJECT\\Biomarker Data Repository\\data\\new-peak-project\\experiments/exp15_feature_predictivity_nosub_5_15_12/\n"
     ]
    }
   ],
   "source": [
    "import os \n",
    "import numpy as np\n",
    "\n",
    "### parameters \n",
    "\n",
    "notebook_name = 'exp15_feature_predictivity_nosub' # name of the notebook\n",
    "distortion_scales = [1.05, 1.1, 1.2, 1.3, 1.5, 2, 4] # scales for the distortion of the model parameters\n",
    "distortion_ranges = []\n",
    "for scale in distortion_scales:\n",
    "    min_scale = 1 / scale\n",
    "    max_scale = scale\n",
    "    distortion_ranges.append((min_scale, max_scale))\n",
    "    \n",
    "\n",
    "## Generation of ground truth model \n",
    "\n",
    "model_name = 'v4_drug_model' # name of the model\n",
    "o_random_seed = 5\n",
    "# p_overall_seed = 46 # different seed for parameter generation\n",
    "no_observable_species = 15\n",
    "no_feedback_regulations = 12\n",
    "specie_value_range = (1000, 5000)\n",
    "# param_range = (0.8, 1.2)\n",
    "param_multiplier_range = (0.99, 1.01)\n",
    "\n",
    "## Simulation parameters \n",
    "\n",
    "simulation_time = 1000 \n",
    "simulation_step = 100\n",
    "\n",
    "## Feature data generation \n",
    "\n",
    "feature_generation_method = 'lhs'\n",
    "feature_generation_extra_params = {'min': 0.1, 'max': 10}\n",
    "feature_generation_size = 1000 \n",
    "feature_generation_seed = 50 # if -1 then 'o_random_seed' is used\n",
    "if feature_generation_seed == -1:\n",
    "    feature_generation_seed = o_random_seed\n",
    "\n",
    "\n",
    "'''\n",
    "Options: \n",
    "- 'feedback_prune': removes feedback regulations from the model \n",
    "- 'random parameter': randomizes a x% of parameter values of the model\n",
    "'''\n",
    "\n",
    "''' \n",
    "Options: \n",
    "- 'last_time_point' : only the last time point of the phosphorylated species is used\n",
    "- 'dynamic_feature': computes the characteristic 'ten' dynamic feature for each specie data \n",
    "'''\n",
    "\n",
    "## General parameters\n",
    "parallelise = True\n",
    "save_figures = True \n",
    "experiment_id = notebook_name + '_' + str(o_random_seed) + '_' + str(no_observable_species) + '_' + str(no_feedback_regulations)\n",
    "experiment_folder = config['DATA_PATH'] + '/' + experiment_id + '/'\n",
    "if not os.path.exists(experiment_folder):\n",
    "    os.makedirs(experiment_folder)\n",
    "    \n",
    "print(experiment_folder)"
   ]
  },
  {
   "cell_type": "markdown",
   "id": "78c3738a",
   "metadata": {},
   "source": [
    "## Compute"
   ]
  },
  {
   "cell_type": "code",
   "execution_count": 24,
   "id": "ff0335b0",
   "metadata": {},
   "outputs": [
    {
     "name": "stdout",
     "output_type": "stream",
     "text": [
      "Experiment ID:  exp15_feature_predictivity_nosub_5_15_12\n",
      "Experiment folder:  C:\\Users\\dawson\\Documents\\Google Drive\\My Drive\\DAWSON PHD PROJECT\\Biomarker Data Repository\\data\\new-peak-project\\experiments/exp15_feature_predictivity_nosub_5_15_12/\n",
      "Distortion Range (For Ground Truth Param Range):  [(0.9523809523809523, 1.05), (0.9090909090909091, 1.1), (0.8333333333333334, 1.2), (0.7692307692307692, 1.3), (0.6666666666666666, 1.5), (0.5, 2), (0.25, 4)]\n"
     ]
    }
   ],
   "source": [
    "print('Experiment ID: ', experiment_id)\n",
    "print('Experiment folder: ', experiment_folder)\n",
    "print('Distortion Range (For Ground Truth Param Range): ', distortion_ranges)"
   ]
  },
  {
   "cell_type": "code",
   "execution_count": 25,
   "id": "984ddb4c",
   "metadata": {},
   "outputs": [
    {
     "name": "stderr",
     "output_type": "stream",
     "text": [
      "0it [00:00, ?it/s]"
     ]
    },
    {
     "name": "stdout",
     "output_type": "stream",
     "text": [
      "------ Starting loop 0 for (0.9523809523809523, 1.05)\n",
      "--- Completed Model Initialisation for (0.9523809523809523, 1.05)\n",
      "--- Generated Target Data for (0.9523809523809523, 1.05)\n",
      "--- Generated Timecourse Data for (0.9523809523809523, 1.05), Now running for Machine Learning Phase\n"
     ]
    },
    {
     "name": "stderr",
     "output_type": "stream",
     "text": [
      "1it [01:30, 90.97s/it]"
     ]
    },
    {
     "name": "stdout",
     "output_type": "stream",
     "text": [
      "--- Machine learning phase for (0.9523809523809523, 1.05) complete, saving files and move on to 1\n",
      "------ Starting loop 1 for (0.9090909090909091, 1.1)\n",
      "--- Completed Model Initialisation for (0.9090909090909091, 1.1)\n",
      "--- Generated Target Data for (0.9090909090909091, 1.1)\n",
      "--- Generated Timecourse Data for (0.9090909090909091, 1.1), Now running for Machine Learning Phase\n"
     ]
    },
    {
     "name": "stderr",
     "output_type": "stream",
     "text": [
      "2it [03:03, 91.61s/it]"
     ]
    },
    {
     "name": "stdout",
     "output_type": "stream",
     "text": [
      "--- Machine learning phase for (0.9090909090909091, 1.1) complete, saving files and move on to 2\n",
      "------ Starting loop 2 for (0.8333333333333334, 1.2)\n",
      "--- Completed Model Initialisation for (0.8333333333333334, 1.2)\n",
      "--- Generated Target Data for (0.8333333333333334, 1.2)\n",
      "--- Generated Timecourse Data for (0.8333333333333334, 1.2), Now running for Machine Learning Phase\n"
     ]
    },
    {
     "name": "stderr",
     "output_type": "stream",
     "text": [
      "3it [04:35, 91.95s/it]"
     ]
    },
    {
     "name": "stdout",
     "output_type": "stream",
     "text": [
      "--- Machine learning phase for (0.8333333333333334, 1.2) complete, saving files and move on to 3\n",
      "------ Starting loop 3 for (0.7692307692307692, 1.3)\n",
      "--- Completed Model Initialisation for (0.7692307692307692, 1.3)\n",
      "--- Generated Target Data for (0.7692307692307692, 1.3)\n",
      "--- Generated Timecourse Data for (0.7692307692307692, 1.3), Now running for Machine Learning Phase\n"
     ]
    },
    {
     "name": "stderr",
     "output_type": "stream",
     "text": [
      "4it [06:06, 91.62s/it]"
     ]
    },
    {
     "name": "stdout",
     "output_type": "stream",
     "text": [
      "--- Machine learning phase for (0.7692307692307692, 1.3) complete, saving files and move on to 4\n",
      "------ Starting loop 4 for (0.6666666666666666, 1.5)\n",
      "--- Completed Model Initialisation for (0.6666666666666666, 1.5)\n",
      "--- Generated Target Data for (0.6666666666666666, 1.5)\n",
      "--- Generated Timecourse Data for (0.6666666666666666, 1.5), Now running for Machine Learning Phase\n"
     ]
    },
    {
     "name": "stderr",
     "output_type": "stream",
     "text": [
      "5it [07:39, 92.02s/it]"
     ]
    },
    {
     "name": "stdout",
     "output_type": "stream",
     "text": [
      "--- Machine learning phase for (0.6666666666666666, 1.5) complete, saving files and move on to 5\n",
      "------ Starting loop 5 for (0.5, 2)\n",
      "--- Completed Model Initialisation for (0.5, 2)\n",
      "--- Generated Target Data for (0.5, 2)\n",
      "--- Generated Timecourse Data for (0.5, 2), Now running for Machine Learning Phase\n"
     ]
    },
    {
     "name": "stderr",
     "output_type": "stream",
     "text": [
      "6it [09:13, 92.68s/it]"
     ]
    },
    {
     "name": "stdout",
     "output_type": "stream",
     "text": [
      "--- Machine learning phase for (0.5, 2) complete, saving files and move on to 6\n",
      "------ Starting loop 6 for (0.25, 4)\n",
      "--- Completed Model Initialisation for (0.25, 4)\n",
      "--- Generated Target Data for (0.25, 4)\n",
      "--- Generated Timecourse Data for (0.25, 4), Now running for Machine Learning Phase\n"
     ]
    },
    {
     "name": "stderr",
     "output_type": "stream",
     "text": [
      "7it [10:48, 92.71s/it]"
     ]
    },
    {
     "name": "stdout",
     "output_type": "stream",
     "text": [
      "--- Machine learning phase for (0.25, 4) complete, saving files and move on to 7\n"
     ]
    },
    {
     "name": "stderr",
     "output_type": "stream",
     "text": [
      "\n"
     ]
    }
   ],
   "source": [
    "### Virtual Cell Creation\n",
    "# create a drug enabled model \n",
    "from models.Utils import *\n",
    "from models.DrugModelSpecification import DrugModelSpecification, Drug\n",
    "from models.Solver.RoadrunnerSolver import RoadrunnerSolver\n",
    "from models.SyntheticGen import generate_feature_data_v2, generate_target_data_diff_build\n",
    "from models.SyntheticGen import generate_model_timecourse_data_diff_build\n",
    "from models.Utils import last_time_point_method, dynamic_features_method\n",
    "from joblib import Parallel, delayed\n",
    "import pickle\n",
    "\n",
    "verbose = True \n",
    "output_data = []\n",
    "for j, dis_range in tqdm(enumerate(distortion_ranges)):\n",
    "    \n",
    "    print(f'------ Starting loop {j} for {dis_range}')\n",
    "\n",
    "    model_drug_spec = DrugModelSpecification()\n",
    "    model_drug_spec.generate_specifications(o_random_seed, no_observable_species, no_feedback_regulations, verbose=0)\n",
    "    drug_0 = Drug('D0', 500, 500)\n",
    "    rng = np.random.default_rng(o_random_seed)\n",
    "    # add random 'up' and 'down' regulations to the drug\n",
    "    regulation_dir = []\n",
    "    for i, s in enumerate(model_drug_spec.A_species):\n",
    "        reg_type = str(rng.choice(['up', 'down']))\n",
    "        regulation_dir.append(reg_type)\n",
    "        drug_0.add_regulation(s, reg_type)\n",
    "    model_drug_spec.add_drug(drug_0)\n",
    "    # print(model_drug_spec)\n",
    "    # print(f'Feedback: {model_drug_spec.get_feedback_regulations()}')\n",
    "\n",
    "\n",
    "    p_random_seeds = []\n",
    "    feature_size = 1000 \n",
    "    rng = np.random.default_rng(o_random_seed)\n",
    "    # generate `feature_size` random seeds for different parameter sets using numpy, ensure that the seeds are unique\n",
    "    p_random_seeds = rng.choice(range(1000000), feature_size, replace=False).tolist()\n",
    "\n",
    "    G0_d = model_drug_spec.generate_network('drug_model_524', \n",
    "                                            specie_value_range, \n",
    "                                            dis_range, \n",
    "                                            param_multiplier_range,  \n",
    "                                            verbose=0,\n",
    "                                            random_seed=p_random_seeds[0])\n",
    "    base_parameters = G0_d.get_parameters()\n",
    "    base_initial_conditions = G0_d.get_state_variables()\n",
    "\n",
    "    if verbose: print(f'--- Completed Model Initialisation for {dis_range}')\n",
    "    # print(G0_d.get_antimony_model())\n",
    "\n",
    "\n",
    "    # generate parameter sets for each random seed\n",
    "    parameter_sets = []\n",
    "    for p in p_random_seeds: \n",
    "        model_build = model_drug_spec.generate_network(f'param_seed_{p}', \n",
    "                                                specie_value_range, dis_range, param_multiplier_range, random_seed=p, verbose=0)\n",
    "        parameter_sets.append(model_build.get_parameters())\n",
    "        \n",
    "    # test simulation \n",
    "\n",
    "\n",
    "\n",
    "    solver = RoadrunnerSolver()\n",
    "    solver.compile(G0_d.get_sbml_model())\n",
    "    # result = solver.simulate(0, 1000, 100)\n",
    "\n",
    "\n",
    "\n",
    "    feature_data = generate_feature_data_v2(model_drug_spec, base_initial_conditions, feature_generation_method, feature_generation_extra_params, 1000, feature_generation_seed)\n",
    "    target_data, _ = generate_target_data_diff_build(model_drug_spec, solver, \n",
    "                                                    feature_data, parameter_sets, \n",
    "                                                    {'start': 0, 'end': 1000, 'points': 100}, \n",
    "                                                    n_cores=1, verbose=False)\n",
    "\n",
    "    if verbose: print(f'--- Generated Target Data for {dis_range}')\n",
    "\n",
    "\n",
    "    # Suboptimal Model Generation\n",
    "\n",
    "    # randomise links and parameters by using a different random seed\n",
    "    new_spec = DrugModelSpecification()\n",
    "    new_spec.generate_specifications(o_random_seed, no_observable_species, no_feedback_regulations, verbose=0)\n",
    "    new_spec.add_drug(drug_0)\n",
    "    new_model = new_spec.generate_network('submodel', specie_value_range, dis_range, param_multiplier_range, random_seed=100005352, verbose=0)\n",
    "    new_base_parameters = new_model.get_parameters()\n",
    "    new_base_initial_conditions = new_model.get_state_variables()\n",
    "    new_solver = RoadrunnerSolver()\n",
    "    new_solver.compile(new_model.get_sbml_model())\n",
    "\n",
    "    # Minor distortion of the parameters to create a new set of parameters\n",
    "\n",
    "    rng = np.random.default_rng(o_random_seed)\n",
    "    modified_parameter_sets = []\n",
    "    for params in parameter_sets:\n",
    "        new_params = {}\n",
    "        for key, value in params.items(): \n",
    "            new_params[key] = value * rng.uniform(0.1, 10) # distortion range, expectation is that the larger the worse the model performance \n",
    "        modified_parameter_sets.append(new_params)\n",
    "        \n",
    "        \n",
    "\n",
    "\n",
    "    new_base_parameters_set = []\n",
    "    for p in p_random_seeds: \n",
    "        new_base_parameters_set.append(new_base_parameters)\n",
    "\n",
    "    # generate the timecourse data for the new model\n",
    "    time_course_data = generate_model_timecourse_data_diff_build(model_drug_spec, \n",
    "                                                    solver, \n",
    "                                                    feature_data, \n",
    "                                                    parameter_sets,\n",
    "                                                    {'start': 0, 'end': 1000, 'points': 100}, \n",
    "                                                    capture_species='all', n_cores=1, verbose=False)\n",
    "\n",
    "\n",
    "    if verbose: print(f'--- Generated Timecourse Data for {dis_range}, Now running for Machine Learning Phase')\n",
    "\n",
    "\n",
    "    all_species = model_drug_spec.A_species + model_drug_spec.B_species + model_drug_spec.C_species\n",
    "    all_phos_species = [s+'p' for s in all_species]\n",
    "    # apply the data engineering method to the feature data\n",
    "    last_time_data = last_time_point_method(time_course_data, all_phos_species)\n",
    "\n",
    "    dynamic_data = dynamic_features_method(time_course_data, all_phos_species, n_cores=8)\n",
    "    combined_lp_data = pd.concat([feature_data, last_time_data], axis=1)\n",
    "    combined_dyn_data = pd.concat([feature_data, dynamic_data], axis=1)\n",
    "    feature_data_list = [feature_data, last_time_data, dynamic_data, combined_lp_data, combined_dyn_data]\n",
    "    feature_data_names = ['feature_data', 'last_time_data', 'dynamic_data', 'combined_lp_data', 'combined_dyn_data']\n",
    "\n",
    "\n",
    "    def evaluate_model(model, model_name, feature_data, feature_data_name, target_data, test_size=0.2, random_state=4):\n",
    "        X_train, X_test, y_train, y_test = train_test_split(feature_data, target_data, test_size=test_size, random_state=random_state)\n",
    "        model.fit(X_train, y_train)\n",
    "        y_pred = model.predict(X_test)\n",
    "        # return a dictionary of the model performance\n",
    "        return {'Model': model_name, \n",
    "                'Feature Data': feature_data_name,\n",
    "                'Mean Squared Error': mean_squared_error(y_test, y_pred),\n",
    "                'R2 Score': r2_score(y_test, y_pred),\n",
    "                'Pearson Correlation': pearsonr(y_test, y_pred)[0],\n",
    "                'Pearson P-Value': pearsonr(y_test, y_pred)[1]\n",
    "                }\n",
    "        \n",
    "    # create a linear regression model\n",
    "    lm = LinearRegression()\n",
    "    # create a random forest model\n",
    "    rf = RandomForestRegressor(n_estimators=100, random_state=o_random_seed)\n",
    "    # create a gradient boosting model\n",
    "    gb = GradientBoostingRegressor(n_estimators=100, random_state=o_random_seed)\n",
    "    # create a support vector machine model\n",
    "    svr = SVR(max_iter=10000)\n",
    "    scaled_svr = Pipeline([('scaler', StandardScaler()), ('svr', svr)])\n",
    "    # create a neural network model (simple)\n",
    "    nn = MLPRegressor(hidden_layer_sizes=(20,), max_iter=10000, random_state=o_random_seed)\n",
    "    scaled_nn = Pipeline([('scaler', StandardScaler()), ('nn', nn)])\n",
    "\n",
    "    all_models = [lm, rf, gb, scaled_svr, scaled_nn]\n",
    "    all_models_desc = ['Linear Regression', 'Random Forest', 'Gradient Boosting', 'Support Vector Machine', 'Neural Network']\n",
    "    zipped_model_data = list(zip(all_models, all_models_desc))\n",
    "    all_features = feature_data_list\n",
    "    all_features_desc = feature_data_names\n",
    "    zipped_feature_data = list(zip(all_features, all_features_desc))\n",
    "\n",
    "    # random states are rand ints between 0 and 10000, for n values \n",
    "    np.random.seed(o_random_seed)\n",
    "    n_random = 10\n",
    "    all_random_states = np.random.randint(0, 10000, n_random)\n",
    "\n",
    "    parallelise = True \n",
    "    from tqdm import tqdm\n",
    "    # tqdm is a progress bar library, use it to show the progress of the model evaluation\n",
    "    metric_data = []\n",
    "    if not parallelise:          \n",
    "        for (feature_data, feature_data_name) in tqdm(zipped_feature_data):\n",
    "            # print('Feature Data:', feature_data_name)\n",
    "            # print('Feature Data Shape:', feature_data.shape)\n",
    "            for (model, model_name) in zipped_model_data:\n",
    "                # print('Model:', model_name)\n",
    "                for rand in all_random_states:\n",
    "                    metrics = evaluate_model(model, model_name, feature_data, feature_data_name, target_data['Cp'], random_state=rand)\n",
    "                    metric_data.append(metrics)\n",
    "                    \n",
    "    else:        \n",
    "        # parallelise the model evaluation process using joblib\n",
    "        \n",
    "        metric_data = Parallel(n_jobs=-1)(delayed(evaluate_model)(model, model_name, feature_data, feature_data_name, target_data['Cp'], random_state=rand) \n",
    "                                        for (feature_data, feature_data_name) in zipped_feature_data\n",
    "                                        for (model, model_name) in zipped_model_data\n",
    "                                        for rand in all_random_states)\n",
    "\n",
    "    if verbose: print(f'--- Machine learning phase for {dis_range} complete, saving files and move on to {j+1}')\n",
    "    \n",
    "    # make a dataframe of the metric data\n",
    "    metric_df = pd.DataFrame(metric_data)\n",
    "    \n",
    "    exp_group = str(distortion_scales[j])\n",
    "    # create a new column for the distortion scale\n",
    "    metric_df['Distortion Scale'] = exp_group\n",
    "    output_data.append(metric_df)\n",
    "    \n",
    "    # save metric_df to a pickle file\n",
    "    output_file = experiment_folder + f'metric_data_{exp_group}.pkl'\n",
    "    metric_df.to_pickle(output_file)\n",
    "    # print(f'Saved metric data to {output_file}')\n",
    "    \n"
   ]
  },
  {
   "cell_type": "code",
   "execution_count": 26,
   "id": "ee3c5901",
   "metadata": {},
   "outputs": [
    {
     "name": "stdout",
     "output_type": "stream",
     "text": [
      "All data loaded successfully. Producing final output dataframe.\n"
     ]
    }
   ],
   "source": [
    "output_df = pd.DataFrame()\n",
    "all_loaded = True\n",
    "\n",
    "for i, df in enumerate(output_data):\n",
    "    # load the metric data for each scale\n",
    "    exp_group = df.iloc[0]['Distortion Scale']  # get the distortion scale from the first row of the dataframe\n",
    "    curr_scale = str(distortion_scales[i])\n",
    "    \n",
    "    if exp_group != curr_scale:\n",
    "        print(f'Warning: Distortion scale mismatch! Expected {curr_scale}, but got {exp_group}.')\n",
    "        all_loaded = False\n",
    "        # if the file exists, load it\n",
    "        if os.path.exists(experiment_folder + f'metric_data_{curr_scale}.pkl'):\n",
    "            print(f'Loading metric data for scale {curr_scale} from file...')\n",
    "            df = pd.read_pickle(experiment_folder + f'metric_data_{curr_scale}.pkl')\n",
    "            all_loaded = True\n",
    "        else:\n",
    "            print(f'File not found for scale {curr_scale}, there is missing data for this scale.')\n",
    "            all_loaded = False\n",
    "            break \n",
    "\n",
    "    if not all_loaded:\n",
    "        break\n",
    "        \n",
    "    output_df = pd.concat([output_df, df], ignore_index=True)\n",
    "\n",
    "if not all_loaded:\n",
    "    print('Not all data was loaded successfully, please check the files.')\n",
    "else:\n",
    "    print('All data loaded successfully. Producing final output dataframe.')\n",
    "    # save the output_df to a pickle file\n",
    "    output_file = experiment_folder + 'final_output_df.pkl'\n",
    "    output_df.to_pickle(output_file)\n"
   ]
  },
  {
   "cell_type": "markdown",
   "id": "05e61d13",
   "metadata": {},
   "source": [
    "## Analysis"
   ]
  },
  {
   "cell_type": "code",
   "execution_count": 27,
   "id": "f071de06",
   "metadata": {},
   "outputs": [],
   "source": [
    "import pandas as pd\n",
    "\n",
    "# load the final output dataframe\n",
    "seed_id, obs_id, fb_id = 5, 5, 2\n",
    "load_folder = config['DATA_PATH'] + f'\\\\{notebook_name}_{seed_id}_{obs_id}_{fb_id}/'\n",
    "output_df = pd.read_pickle(load_folder + 'final_output_df.pkl')\n",
    "\n"
   ]
  },
  {
   "cell_type": "code",
   "execution_count": 28,
   "id": "a56ce162",
   "metadata": {},
   "outputs": [
    {
     "data": {
      "application/vnd.microsoft.datawrangler.viewer.v0+json": {
       "columns": [
        {
         "name": "index",
         "rawType": "int64",
         "type": "integer"
        },
        {
         "name": "Model",
         "rawType": "object",
         "type": "string"
        },
        {
         "name": "Feature Data",
         "rawType": "object",
         "type": "string"
        },
        {
         "name": "Mean Squared Error",
         "rawType": "float64",
         "type": "float"
        },
        {
         "name": "R2 Score",
         "rawType": "float64",
         "type": "float"
        },
        {
         "name": "Pearson Correlation",
         "rawType": "float64",
         "type": "float"
        },
        {
         "name": "Pearson P-Value",
         "rawType": "float64",
         "type": "float"
        },
        {
         "name": "Distortion Scale",
         "rawType": "object",
         "type": "string"
        }
       ],
       "ref": "c19c0bed-8855-4be6-99b5-b3b2b584de90",
       "rows": [
        [
         "0",
         "Linear Regression",
         "feature_data",
         "0.005915369368550896",
         "0.8586735165874756",
         "0.9268113585602107",
         "3.670434330998017e-86",
         "1.05"
        ],
        [
         "1",
         "Linear Regression",
         "feature_data",
         "0.006540802951428682",
         "0.8626678288441587",
         "0.9294179808014303",
         "1.154585156257339e-87",
         "1.05"
        ],
        [
         "2",
         "Linear Regression",
         "feature_data",
         "0.006579183216045193",
         "0.8408033640486119",
         "0.9185121232103052",
         "1.0029290510760996e-81",
         "1.05"
        ],
        [
         "3",
         "Linear Regression",
         "feature_data",
         "0.006081919766875385",
         "0.8580187799718031",
         "0.9268535601691821",
         "3.474088115456479e-86",
         "1.05"
        ],
        [
         "4",
         "Linear Regression",
         "feature_data",
         "0.005713260378045899",
         "0.8632467734551852",
         "0.9302761594419382",
         "3.5907420950683455e-88",
         "1.05"
        ],
        [
         "5",
         "Linear Regression",
         "feature_data",
         "0.006417092676466684",
         "0.8435503635157876",
         "0.9187246257127667",
         "7.828248739167741e-82",
         "1.05"
        ],
        [
         "6",
         "Linear Regression",
         "feature_data",
         "0.006322699446898296",
         "0.8614485440155226",
         "0.928942383091546",
         "2.191722645217603e-87",
         "1.05"
        ],
        [
         "7",
         "Linear Regression",
         "feature_data",
         "0.006692731777959184",
         "0.823325981093394",
         "0.9087464819224518",
         "4.497263412123582e-77",
         "1.05"
        ],
        [
         "8",
         "Linear Regression",
         "feature_data",
         "0.006679350070896637",
         "0.8293921584019912",
         "0.9146079477590292",
         "8.465143117726774e-80",
         "1.05"
        ],
        [
         "9",
         "Linear Regression",
         "feature_data",
         "0.006755783586391687",
         "0.8291349692844586",
         "0.9114574921179933",
         "2.606221248343829e-78",
         "1.05"
        ],
        [
         "10",
         "Random Forest",
         "feature_data",
         "0.00730435394384318",
         "0.8254887240056413",
         "0.9090081598661301",
         "3.4296441203561204e-77",
         "1.05"
        ],
        [
         "11",
         "Random Forest",
         "feature_data",
         "0.0070345710927555575",
         "0.8523005617976576",
         "0.9249346029114944",
         "4.0954620352333505e-85",
         "1.05"
        ],
        [
         "12",
         "Random Forest",
         "feature_data",
         "0.007439878274336109",
         "0.8199771074510245",
         "0.9057606307955487",
         "9.36144782742831e-76",
         "1.05"
        ],
        [
         "13",
         "Random Forest",
         "feature_data",
         "0.00740964658746857",
         "0.8270232586433741",
         "0.9094623398333045",
         "2.1385416355873824e-77",
         "1.05"
        ],
        [
         "14",
         "Random Forest",
         "feature_data",
         "0.006818652070499012",
         "0.8367879967609397",
         "0.9150161959899497",
         "5.377277590867705e-80",
         "1.05"
        ],
        [
         "15",
         "Random Forest",
         "feature_data",
         "0.007125320243031545",
         "0.8262836742339711",
         "0.9095712077781133",
         "1.908914923302377e-77",
         "1.05"
        ],
        [
         "16",
         "Random Forest",
         "feature_data",
         "0.007704830702119114",
         "0.8311614333627397",
         "0.9125681025245609",
         "7.90229581060224e-79",
         "1.05"
        ],
        [
         "17",
         "Random Forest",
         "feature_data",
         "0.007704449303101357",
         "0.7966187698835019",
         "0.8926370469067562",
         "1.9323639647538673e-70",
         "1.05"
        ],
        [
         "18",
         "Random Forest",
         "feature_data",
         "0.007519594739309152",
         "0.8079301407250453",
         "0.9001098510685791",
         "2.2391954939310838e-73",
         "1.05"
        ],
        [
         "19",
         "Random Forest",
         "feature_data",
         "0.007181162855213638",
         "0.8183764183475366",
         "0.9052556990583696",
         "1.5486061212999865e-75",
         "1.05"
        ],
        [
         "20",
         "Gradient Boosting",
         "feature_data",
         "0.006986186057939903",
         "0.8330902017237645",
         "0.9132256675378846",
         "3.869370558694856e-79",
         "1.05"
        ],
        [
         "21",
         "Gradient Boosting",
         "feature_data",
         "0.006779345004670938",
         "0.8576593461965388",
         "0.9270241483054991",
         "2.780865928125525e-86",
         "1.05"
        ],
        [
         "22",
         "Gradient Boosting",
         "feature_data",
         "0.007214254992392621",
         "0.8254365187940795",
         "0.9094334677095399",
         "2.203890564230617e-77",
         "1.05"
        ],
        [
         "23",
         "Gradient Boosting",
         "feature_data",
         "0.007037614524942885",
         "0.8357082739266554",
         "0.9144513006617692",
         "1.0069084046050617e-79",
         "1.05"
        ],
        [
         "24",
         "Gradient Boosting",
         "feature_data",
         "0.006226592814364965",
         "0.85095959200158",
         "0.9234010989381377",
         "2.8069961097112772e-84",
         "1.05"
        ],
        [
         "25",
         "Gradient Boosting",
         "feature_data",
         "0.006134996331499518",
         "0.8504279127189477",
         "0.9232083385228096",
         "3.5651949606055533e-84",
         "1.05"
        ],
        [
         "26",
         "Gradient Boosting",
         "feature_data",
         "0.0074433653247881525",
         "0.8368910127968068",
         "0.9155709050989547",
         "2.891980616853769e-80",
         "1.05"
        ],
        [
         "27",
         "Gradient Boosting",
         "feature_data",
         "0.007000774175057003",
         "0.8151943107838017",
         "0.9029067693247788",
         "1.5522629753030394e-74",
         "1.05"
        ],
        [
         "28",
         "Gradient Boosting",
         "feature_data",
         "0.007104052528314333",
         "0.8185441613944506",
         "0.906618608511677",
         "3.9541948415872703e-76",
         "1.05"
        ],
        [
         "29",
         "Gradient Boosting",
         "feature_data",
         "0.007657224175868052",
         "0.8063360338183537",
         "0.8982155270877178",
         "1.3056848580019189e-72",
         "1.05"
        ],
        [
         "30",
         "Support Vector Machine",
         "feature_data",
         "0.008243404532806222",
         "0.8030534863702412",
         "0.8991041475606539",
         "5.734868080746458e-73",
         "1.05"
        ],
        [
         "31",
         "Support Vector Machine",
         "feature_data",
         "0.007777133517239932",
         "0.8367095539763761",
         "0.9188889048785014",
         "6.460651670159062e-82",
         "1.05"
        ],
        [
         "32",
         "Support Vector Machine",
         "feature_data",
         "0.007489853887446791",
         "0.8187678464796282",
         "0.9063296413567052",
         "5.2907878211269396e-76",
         "1.05"
        ],
        [
         "33",
         "Support Vector Machine",
         "feature_data",
         "0.007982775964192551",
         "0.8136436661363396",
         "0.902432726458418",
         "2.4540589871097088e-74",
         "1.05"
        ],
        [
         "34",
         "Support Vector Machine",
         "feature_data",
         "0.008073679811170376",
         "0.8067475152174116",
         "0.9009437863656968",
         "1.0188444451876369e-73",
         "1.05"
        ],
        [
         "35",
         "Support Vector Machine",
         "feature_data",
         "0.006593871334949201",
         "0.8392404745595033",
         "0.9166117837266754",
         "8.92702078267205e-81",
         "1.05"
        ],
        [
         "36",
         "Support Vector Machine",
         "feature_data",
         "0.008251573277652491",
         "0.819180477993113",
         "0.911556508373534",
         "2.3446814161400455e-78",
         "1.05"
        ],
        [
         "37",
         "Support Vector Machine",
         "feature_data",
         "0.007317080779746266",
         "0.8068444828045612",
         "0.8990655002617429",
         "5.944737379384497e-73",
         "1.05"
        ],
        [
         "38",
         "Support Vector Machine",
         "feature_data",
         "0.008271532765062761",
         "0.7887237026393604",
         "0.8886557854430485",
         "5.79396226571256e-69",
         "1.05"
        ],
        [
         "39",
         "Support Vector Machine",
         "feature_data",
         "0.007431732906839789",
         "0.8120390839702576",
         "0.9024074180516288",
         "2.5146428361956783e-74",
         "1.05"
        ],
        [
         "40",
         "Neural Network",
         "feature_data",
         "0.08049238424795119",
         "-0.9230761256823006",
         "0.46524446131942343",
         "3.893265065917092e-12",
         "1.05"
        ],
        [
         "41",
         "Neural Network",
         "feature_data",
         "0.06713370906379659",
         "-0.40955446784434413",
         "0.5729450947292487",
         "7.640825098851287e-19",
         "1.05"
        ],
        [
         "42",
         "Neural Network",
         "feature_data",
         "0.06761072384286361",
         "-0.6359781201673498",
         "0.5062226469204026",
         "2.057029740388999e-14",
         "1.05"
        ],
        [
         "43",
         "Neural Network",
         "feature_data",
         "0.06826356819925188",
         "-0.593599565254902",
         "0.5968497257188018",
         "1.0907460094661691e-20",
         "1.05"
        ],
        [
         "44",
         "Neural Network",
         "feature_data",
         "0.08642484211639469",
         "-1.0686744924945244",
         "0.5572142122277024",
         "1.0423209230741299e-17",
         "1.05"
        ],
        [
         "45",
         "Neural Network",
         "feature_data",
         "0.07792169975326653",
         "-0.8997421753526678",
         "0.575088339122101",
         "5.294050847847075e-19",
         "1.05"
        ],
        [
         "46",
         "Neural Network",
         "feature_data",
         "0.07524451987981876",
         "-0.6488586673712775",
         "0.5690599962077351",
         "1.4759040260388224e-18",
         "1.05"
        ],
        [
         "47",
         "Neural Network",
         "feature_data",
         "0.06407747407325323",
         "-0.6915103191775536",
         "0.4435878739107334",
         "4.750779619511356e-11",
         "1.05"
        ],
        [
         "48",
         "Neural Network",
         "feature_data",
         "0.057715143775914364",
         "-0.47419374678855264",
         "0.5707771634956154",
         "1.1044617646473302e-18",
         "1.05"
        ],
        [
         "49",
         "Neural Network",
         "feature_data",
         "0.07245942769121817",
         "-0.8326197368177102",
         "0.49494976771028965",
         "9.336828323566725e-14",
         "1.05"
        ]
       ],
       "shape": {
        "columns": 7,
        "rows": 1750
       }
      },
      "text/html": [
       "<div>\n",
       "<style scoped>\n",
       "    .dataframe tbody tr th:only-of-type {\n",
       "        vertical-align: middle;\n",
       "    }\n",
       "\n",
       "    .dataframe tbody tr th {\n",
       "        vertical-align: top;\n",
       "    }\n",
       "\n",
       "    .dataframe thead th {\n",
       "        text-align: right;\n",
       "    }\n",
       "</style>\n",
       "<table border=\"1\" class=\"dataframe\">\n",
       "  <thead>\n",
       "    <tr style=\"text-align: right;\">\n",
       "      <th></th>\n",
       "      <th>Model</th>\n",
       "      <th>Feature Data</th>\n",
       "      <th>Mean Squared Error</th>\n",
       "      <th>R2 Score</th>\n",
       "      <th>Pearson Correlation</th>\n",
       "      <th>Pearson P-Value</th>\n",
       "      <th>Distortion Scale</th>\n",
       "    </tr>\n",
       "  </thead>\n",
       "  <tbody>\n",
       "    <tr>\n",
       "      <th>0</th>\n",
       "      <td>Linear Regression</td>\n",
       "      <td>feature_data</td>\n",
       "      <td>0.005915</td>\n",
       "      <td>0.858674</td>\n",
       "      <td>0.926811</td>\n",
       "      <td>3.670434e-86</td>\n",
       "      <td>1.05</td>\n",
       "    </tr>\n",
       "    <tr>\n",
       "      <th>1</th>\n",
       "      <td>Linear Regression</td>\n",
       "      <td>feature_data</td>\n",
       "      <td>0.006541</td>\n",
       "      <td>0.862668</td>\n",
       "      <td>0.929418</td>\n",
       "      <td>1.154585e-87</td>\n",
       "      <td>1.05</td>\n",
       "    </tr>\n",
       "    <tr>\n",
       "      <th>2</th>\n",
       "      <td>Linear Regression</td>\n",
       "      <td>feature_data</td>\n",
       "      <td>0.006579</td>\n",
       "      <td>0.840803</td>\n",
       "      <td>0.918512</td>\n",
       "      <td>1.002929e-81</td>\n",
       "      <td>1.05</td>\n",
       "    </tr>\n",
       "    <tr>\n",
       "      <th>3</th>\n",
       "      <td>Linear Regression</td>\n",
       "      <td>feature_data</td>\n",
       "      <td>0.006082</td>\n",
       "      <td>0.858019</td>\n",
       "      <td>0.926854</td>\n",
       "      <td>3.474088e-86</td>\n",
       "      <td>1.05</td>\n",
       "    </tr>\n",
       "    <tr>\n",
       "      <th>4</th>\n",
       "      <td>Linear Regression</td>\n",
       "      <td>feature_data</td>\n",
       "      <td>0.005713</td>\n",
       "      <td>0.863247</td>\n",
       "      <td>0.930276</td>\n",
       "      <td>3.590742e-88</td>\n",
       "      <td>1.05</td>\n",
       "    </tr>\n",
       "    <tr>\n",
       "      <th>...</th>\n",
       "      <td>...</td>\n",
       "      <td>...</td>\n",
       "      <td>...</td>\n",
       "      <td>...</td>\n",
       "      <td>...</td>\n",
       "      <td>...</td>\n",
       "      <td>...</td>\n",
       "    </tr>\n",
       "    <tr>\n",
       "      <th>1745</th>\n",
       "      <td>Neural Network</td>\n",
       "      <td>combined_dyn_data</td>\n",
       "      <td>0.432973</td>\n",
       "      <td>0.917971</td>\n",
       "      <td>0.961657</td>\n",
       "      <td>3.346527e-113</td>\n",
       "      <td>4</td>\n",
       "    </tr>\n",
       "    <tr>\n",
       "      <th>1746</th>\n",
       "      <td>Neural Network</td>\n",
       "      <td>combined_dyn_data</td>\n",
       "      <td>0.369683</td>\n",
       "      <td>0.936538</td>\n",
       "      <td>0.971030</td>\n",
       "      <td>4.710562e-125</td>\n",
       "      <td>4</td>\n",
       "    </tr>\n",
       "    <tr>\n",
       "      <th>1747</th>\n",
       "      <td>Neural Network</td>\n",
       "      <td>combined_dyn_data</td>\n",
       "      <td>0.410628</td>\n",
       "      <td>0.920129</td>\n",
       "      <td>0.962414</td>\n",
       "      <td>4.820559e-114</td>\n",
       "      <td>4</td>\n",
       "    </tr>\n",
       "    <tr>\n",
       "      <th>1748</th>\n",
       "      <td>Neural Network</td>\n",
       "      <td>combined_dyn_data</td>\n",
       "      <td>0.441086</td>\n",
       "      <td>0.927148</td>\n",
       "      <td>0.963128</td>\n",
       "      <td>7.492777e-115</td>\n",
       "      <td>4</td>\n",
       "    </tr>\n",
       "    <tr>\n",
       "      <th>1749</th>\n",
       "      <td>Neural Network</td>\n",
       "      <td>combined_dyn_data</td>\n",
       "      <td>0.425066</td>\n",
       "      <td>0.934253</td>\n",
       "      <td>0.967680</td>\n",
       "      <td>2.025925e-120</td>\n",
       "      <td>4</td>\n",
       "    </tr>\n",
       "  </tbody>\n",
       "</table>\n",
       "<p>1750 rows × 7 columns</p>\n",
       "</div>"
      ],
      "text/plain": [
       "                  Model       Feature Data  Mean Squared Error  R2 Score  \\\n",
       "0     Linear Regression       feature_data            0.005915  0.858674   \n",
       "1     Linear Regression       feature_data            0.006541  0.862668   \n",
       "2     Linear Regression       feature_data            0.006579  0.840803   \n",
       "3     Linear Regression       feature_data            0.006082  0.858019   \n",
       "4     Linear Regression       feature_data            0.005713  0.863247   \n",
       "...                 ...                ...                 ...       ...   \n",
       "1745     Neural Network  combined_dyn_data            0.432973  0.917971   \n",
       "1746     Neural Network  combined_dyn_data            0.369683  0.936538   \n",
       "1747     Neural Network  combined_dyn_data            0.410628  0.920129   \n",
       "1748     Neural Network  combined_dyn_data            0.441086  0.927148   \n",
       "1749     Neural Network  combined_dyn_data            0.425066  0.934253   \n",
       "\n",
       "      Pearson Correlation  Pearson P-Value Distortion Scale  \n",
       "0                0.926811     3.670434e-86             1.05  \n",
       "1                0.929418     1.154585e-87             1.05  \n",
       "2                0.918512     1.002929e-81             1.05  \n",
       "3                0.926854     3.474088e-86             1.05  \n",
       "4                0.930276     3.590742e-88             1.05  \n",
       "...                   ...              ...              ...  \n",
       "1745             0.961657    3.346527e-113                4  \n",
       "1746             0.971030    4.710562e-125                4  \n",
       "1747             0.962414    4.820559e-114                4  \n",
       "1748             0.963128    7.492777e-115                4  \n",
       "1749             0.967680    2.025925e-120                4  \n",
       "\n",
       "[1750 rows x 7 columns]"
      ]
     },
     "execution_count": 28,
     "metadata": {},
     "output_type": "execute_result"
    }
   ],
   "source": [
    "output_df"
   ]
  },
  {
   "cell_type": "code",
   "execution_count": 29,
   "id": "ccb827a6",
   "metadata": {},
   "outputs": [
    {
     "data": {
      "image/png": "[encoded data removed]",
      "text/plain": [
       "<Figure size 700x500 with 1 Axes>"
      ]
     },
     "metadata": {},
     "output_type": "display_data"
    }
   ],
   "source": [
    "import matplotlib.pyplot as plt\n",
    "import seaborn as sns\n",
    "# set font to Arial\n",
    "# plt.rcParams['font.family'] = 'Arial'\n",
    "# set the figure size\n",
    "plt.figure(figsize=(7, 5))\n",
    "sns.set_style(\"whitegrid\", {\"font\": \"Arial\"})\n",
    "# set font size using seaborn via set_context\n",
    "sns.set_context(\"talk\", font_scale=1.2)\n",
    "sns.lineplot(data=output_df, x='Distortion Scale', y='Pearson Correlation', hue='Feature Data', palette='Set1', marker='o')\n",
    "# 90 degree rotation of the x-axis labels\n",
    "# legend to the right\n",
    "plt.legend(title='Type of data', bbox_to_anchor=(1.05, 1), loc='upper left')\n",
    "plt.show()"
   ]
  }
 ],
 "metadata": {
  "kernelspec": {
   "display_name": ".venv",
   "language": "python",
   "name": "python3"
  },
  "language_info": {
   "codemirror_mode": {
    "name": "ipython",
    "version": 3
   },
   "file_extension": ".py",
   "mimetype": "text/x-python",
   "name": "python",
   "nbconvert_exporter": "python",
   "pygments_lexer": "ipython3",
   "version": "3.12.10"
  }
 },
 "nbformat": 4,
 "nbformat_minor": 5
}
