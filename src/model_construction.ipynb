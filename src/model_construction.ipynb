{
 "cells": [
  {
   "cell_type": "markdown",
   "metadata": {},
   "source": [
    "## PEAK 3 Y24 phosphorylation"
   ]
  },
  {
   "cell_type": "code",
   "execution_count": 4,
   "metadata": {},
   "outputs": [
    {
     "ename": "RuntimeError",
     "evalue": "SBML document must begin with an XML declaration or an SBML declaration",
     "output_type": "error",
     "traceback": [
      "\u001b[0;31m---------------------------------------------------------------------------\u001b[0m",
      "\u001b[0;31mRuntimeError\u001b[0m                              Traceback (most recent call last)",
      "\u001b[1;32m/workspaces/new-peak-project/src/model_construction.ipynb Cell 2\u001b[0m in \u001b[0;36m<cell line: 10>\u001b[0;34m()\u001b[0m\n\u001b[1;32m      <a href='vscode-notebook-cell://codespaces%2Banevilburrito-new-peak-project-vjjxrwg63wr56/workspaces/new-peak-project/src/model_construction.ipynb#W1sdnNjb2RlLXJlbW90ZQ%3D%3D?line=6'>7</a>\u001b[0m model\u001b[39m.\u001b[39madd_reaction(Reaction(michaelis_menten, (\u001b[39m'\u001b[39m\u001b[39mPEAK3_Y24\u001b[39m\u001b[39m'\u001b[39m,), (\u001b[39m'\u001b[39m\u001b[39mPEAK3_Y24P\u001b[39m\u001b[39m'\u001b[39m,)))\n\u001b[1;32m      <a href='vscode-notebook-cell://codespaces%2Banevilburrito-new-peak-project-vjjxrwg63wr56/workspaces/new-peak-project/src/model_construction.ipynb#W1sdnNjb2RlLXJlbW90ZQ%3D%3D?line=7'>8</a>\u001b[0m model\u001b[39m.\u001b[39madd_reaction(Reaction(michaelis_menten, (\u001b[39m'\u001b[39m\u001b[39mPEAK3_Y24P\u001b[39m\u001b[39m'\u001b[39m,), (\u001b[39m'\u001b[39m\u001b[39mPEAK3_Y24\u001b[39m\u001b[39m'\u001b[39m,)))\n\u001b[0;32m---> <a href='vscode-notebook-cell://codespaces%2Banevilburrito-new-peak-project-vjjxrwg63wr56/workspaces/new-peak-project/src/model_construction.ipynb#W1sdnNjb2RlLXJlbW90ZQ%3D%3D?line=9'>10</a>\u001b[0m model\u001b[39m.\u001b[39;49msimulate(\u001b[39m0\u001b[39;49m, \u001b[39m100\u001b[39;49m, \u001b[39m100\u001b[39;49m)\n\u001b[1;32m     <a href='vscode-notebook-cell://codespaces%2Banevilburrito-new-peak-project-vjjxrwg63wr56/workspaces/new-peak-project/src/model_construction.ipynb#W1sdnNjb2RlLXJlbW90ZQ%3D%3D?line=10'>11</a>\u001b[0m model\u001b[39m.\u001b[39mplot()\n",
      "File \u001b[0;32m/workspaces/new-peak-project/src/models/ModelBuilder.py:125\u001b[0m, in \u001b[0;36mModelBuilder.simulate\u001b[0;34m(self, start, end, step)\u001b[0m\n\u001b[1;32m    120\u001b[0m \u001b[39mdef\u001b[39;00m \u001b[39msimulate\u001b[39m(\u001b[39mself\u001b[39m, start: \u001b[39mfloat\u001b[39m, end: \u001b[39mfloat\u001b[39m, step: \u001b[39mfloat\u001b[39m):\n\u001b[1;32m    121\u001b[0m     \u001b[39m'''\u001b[39;00m\n\u001b[1;32m    122\u001b[0m \u001b[39m    Simulates the model using roadrunner and returns the results\u001b[39;00m\n\u001b[1;32m    123\u001b[0m \u001b[39m    '''\u001b[39;00m\n\u001b[0;32m--> 125\u001b[0m     roadrunner_model \u001b[39m=\u001b[39m roadrunner\u001b[39m.\u001b[39;49mRoadRunner(\u001b[39mself\u001b[39;49m\u001b[39m.\u001b[39;49mget_sbml_model())\n\u001b[1;32m    126\u001b[0m     \u001b[39mself\u001b[39m\u001b[39m.\u001b[39mr_model \u001b[39m=\u001b[39m roadrunner_model\n\u001b[1;32m    127\u001b[0m     r_solved \u001b[39m=\u001b[39m roadrunner_model\u001b[39m.\u001b[39msimulate(start, end, step)\n",
      "File \u001b[0;32m/usr/local/pip-global/roadrunner/roadrunner.py:3775\u001b[0m, in \u001b[0;36m_new_init\u001b[0;34m(self, *args)\u001b[0m\n",
      "File \u001b[0;32m/usr/local/pip-global/roadrunner/roadrunner.py:2522\u001b[0m, in \u001b[0;36m__init__\u001b[0;34m(self, *args)\u001b[0m\n",
      "\u001b[0;31mRuntimeError\u001b[0m: SBML document must begin with an XML declaration or an SBML declaration"
     ]
    }
   ],
   "source": [
    "from models.ModelBuilder import ModelBuilder\n",
    "from models.Reaction import Reaction\n",
    "from models.ReactionArchtype import ReactionArchtype\n",
    "from models.ArchtypeCollections import *\n",
    "\n",
    "model = ModelBuilder('PEAK3 Y24 Phosphorylation')\n",
    "model.add_reaction(Reaction(michaelis_menten, ('PEAK3_Y24',), ('PEAK3_Y24P',)))\n",
    "model.add_reaction(Reaction(michaelis_menten, ('PEAK3_Y24P',), ('PEAK3_Y24',)))\n",
    "\n",
    "model.simulate(0, 100, 100)\n",
    "model.plot()\n"
   ]
  }
 ],
 "metadata": {
  "kernelspec": {
   "display_name": "Python 3.8.13 64-bit",
   "language": "python",
   "name": "python3"
  },
  "language_info": {
   "codemirror_mode": {
    "name": "ipython",
    "version": 3
   },
   "file_extension": ".py",
   "mimetype": "text/x-python",
   "name": "python",
   "nbconvert_exporter": "python",
   "pygments_lexer": "ipython3",
   "version": "3.8.13"
  },
  "orig_nbformat": 4,
  "vscode": {
   "interpreter": {
    "hash": "949777d72b0d2535278d3dc13498b2535136f6dfe0678499012e853ee9abcab1"
   }
  }
 },
 "nbformat": 4,
 "nbformat_minor": 2
}
