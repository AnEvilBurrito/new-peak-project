{
 "cells": [
  {
   "cell_type": "markdown",
   "id": "3d7228d7",
   "metadata": {},
   "source": [
    "# Init"
   ]
  },
  {
   "cell_type": "code",
   "execution_count": 1,
   "id": "f3934bed",
   "metadata": {},
   "outputs": [
    {
     "name": "stdout",
     "output_type": "stream",
     "text": [
      "Project path set to: c:\\Github\\new-peak-project\\src\n"
     ]
    }
   ],
   "source": [
    "import os\n",
    "\n",
    "path = os.getcwd()\n",
    "# find the string 'project' in the path, return index\n",
    "index_project = path.find(\"project\")\n",
    "# slice the path from the index of 'project' to the end\n",
    "project_path = path[: index_project + 7]\n",
    "# set the working directory\n",
    "os.chdir(project_path + \"/src\")\n",
    "print(f\"Project path set to: {os.getcwd()}\")\n"
   ]
  },
  {
   "cell_type": "code",
   "execution_count": 2,
   "id": "567f668c",
   "metadata": {},
   "outputs": [
    {
     "name": "stdout",
     "output_type": "stream",
     "text": [
      "I:\\My Drive\\DAWSON PHD PROJECT\\Biomarker Data Repository\\data\\new-peak-project\\experiments\n"
     ]
    }
   ],
   "source": [
    "from dotenv import dotenv_values\n",
    "config = dotenv_values(\".env\")\n",
    "print(config[\"DATA_PATH\"])"
   ]
  },
  {
   "cell_type": "code",
   "execution_count": 3,
   "id": "4c0b5caa",
   "metadata": {},
   "outputs": [
    {
     "name": "stdout",
     "output_type": "stream",
     "text": [
      "New data path set to: I:\\My Drive\\DAWSON PHD PROJECT\\Biomarker Data Repository\\data\\data-and-mechanism-project\n"
     ]
    }
   ],
   "source": [
    "new_path = config[\"NEW_DATA_PATH\"]\n",
    "print(f'New data path set to: {new_path}')"
   ]
  },
  {
   "cell_type": "markdown",
   "id": "10dd5198",
   "metadata": {},
   "source": [
    "# Config"
   ]
  },
  {
   "cell_type": "code",
   "execution_count": 4,
   "id": "33b4c816",
   "metadata": {},
   "outputs": [
    {
     "name": "stdout",
     "output_type": "stream",
     "text": [
      "Folder I:\\My Drive\\DAWSON PHD PROJECT\\Biomarker Data Repository\\data\\data-and-mechanism-project\\extended-simulation-1 already exists. No changes made.\n"
     ]
    }
   ],
   "source": [
    "from models.utils.config_manager import initialise_config\n",
    "\n",
    "initialise_config(folder_name=\"extended-simulation-1\", verbose=1)\n"
   ]
  },
  {
   "cell_type": "code",
   "execution_count": 5,
   "id": "5a304def",
   "metadata": {},
   "outputs": [
    {
     "name": "stdout",
     "output_type": "stream",
     "text": [
      "notebook: \n",
      "  version: CuratedModel1\n",
      "  name: extended-simulation-1\n",
      "  compatible_notebooks: ['extended-simulation-1']\n",
      "  desc: CuratedModel1 - Sungyoung's example model designed by hand, captured algorithmically\n",
      "Testing model responsiveness through parameter sampling over many iterations \n",
      "\n",
      "exp: \n",
      "  spec: \n",
      "    n_layers: 2\n",
      "    n_cascades: 3\n",
      "    n_regs: 0\n",
      "    basal_activation: True\n",
      "    custom_regulations: [['R1', 'R2', 'up'], ['R3', 'I1_2', 'up'], ['I1_1', 'I2_2', 'up'], ['I1_2', 'I2_1', 'down'], ['I1_2', 'I2_3', 'down'], ['I1_3', 'I2_2', 'up'], ['I2_1', 'R1', 'down'], ['I2_3', 'R3', 'up']]\n",
      "    gen_seed: 42\n",
      "    drug: \n",
      "      name: D\n",
      "      start: 500\n",
      "      dose: 500\n",
      "      regulations: [['R1', 'down']]\n",
      "      target_all: False\n",
      "  parameter_generation: \n",
      "    ic_range: [200, 1000]\n",
      "    param_range: [0.1, 10]\n",
      "    param_mul_range: [0.99, 1.01]\n",
      "  simulation: \n",
      "    start: 0\n",
      "    stop: 1000\n",
      "    step: 100\n",
      "  parameter_sampling: \n",
      "    sampling_seed: 42\n",
      "    num_models: 1000\n",
      "    num_datapoints: 1000\n"
     ]
    }
   ],
   "source": [
    "# or load existing config\n",
    "from models.utils.config_manager import load_configs, print_config\n",
    "\n",
    "loaded_config = load_configs(folder_name=\"extended-simulation-1\", config_suffix=\"CuratedModel1\")\n",
    "print_config(loaded_config)"
   ]
  },
  {
   "cell_type": "markdown",
   "id": "789f5501",
   "metadata": {},
   "source": [
    "# Run"
   ]
  },
  {
   "cell_type": "markdown",
   "id": "8255fc9f",
   "metadata": {},
   "source": [
    "### Setup"
   ]
  },
  {
   "cell_type": "code",
   "execution_count": 6,
   "id": "fe2907a5",
   "metadata": {},
   "outputs": [],
   "source": [
    "from models.Specs.ModelSpec4 import ModelSpec4\n",
    "\n",
    "notebook_config = loaded_config[\"notebook\"]\n",
    "config_name = notebook_config['version']\n",
    "exp_config = loaded_config[\"exp\"]\n",
    "spec_config = exp_config['spec']\n",
    "n_layers = spec_config['n_layers']\n",
    "new_spec = ModelSpec4(num_intermediate_layers=n_layers)\n"
   ]
  },
  {
   "cell_type": "code",
   "execution_count": 7,
   "id": "f8482dbe",
   "metadata": {},
   "outputs": [],
   "source": [
    "from models.Specs.Drug import Drug\n",
    "\n",
    "drug_config = spec_config['drug']\n",
    "drug_name = drug_config['name']\n",
    "drug_start = drug_config['start']\n",
    "drug_dose = drug_config['dose']\n",
    "drug_regulations = drug_config['regulations']\n",
    "\n",
    "\n",
    "n_cascades = spec_config[\"n_cascades\"]\n",
    "n_regs = spec_config[\"n_regs\"]\n",
    "seed = spec_config[\"gen_seed\"]\n",
    "\n",
    "for regulation in spec_config[\"custom_regulations\"]:\n",
    "    new_spec.add_regulation(*regulation)\n",
    "\n",
    "new_drug = Drug(name=drug_name, start_time=drug_start, default_value=drug_dose)\n",
    "\n",
    "# check if target_all exists in drug_config, if not set to False\n",
    "drug_target_all = drug_config.get('target_all', False)\n",
    "\n",
    "if drug_target_all:\n",
    "    # If the drug targets all receptors, we don't need to add specific regulations\n",
    "    for n in range(n_cascades):\n",
    "        target = f'R{n+1}' # assuming receptors are named R1, R2, ..., Rn\n",
    "        new_drug.add_regulation(target, 'down') # assuming the type is 'down' for all\n",
    "else: \n",
    "    for regs in drug_regulations:\n",
    "        target, type = regs[0], regs[1]\n",
    "        new_drug.add_regulation(target, type)\n",
    "\n",
    "new_spec.generate_specifications(n_cascades, n_regs, seed)\n",
    "new_spec.add_drug(new_drug)"
   ]
  },
  {
   "cell_type": "code",
   "execution_count": 8,
   "id": "7801896f",
   "metadata": {},
   "outputs": [
    {
     "name": "stdout",
     "output_type": "stream",
     "text": [
      "Generated 1000 models.\n"
     ]
    }
   ],
   "source": [
    "import numpy as np\n",
    "\n",
    "param_sampling_config = exp_config[\"parameter_sampling\"]\n",
    "base_sampling_seed = param_sampling_config[\"sampling_seed\"]\n",
    "num_models = param_sampling_config[\"num_models\"]\n",
    "# based on base seed create 1000 different seeds\n",
    "seeds = np.random.default_rng(base_sampling_seed).integers(0, 1000000, size=num_models)\n",
    "\n",
    "param_gen_config = exp_config['parameter_generation']\n",
    "basal_activation = spec_config[\"basal_activation\"]\n",
    "specie_range = param_gen_config['ic_range']\n",
    "param_range = param_gen_config['param_range']\n",
    "param_mul_range = param_gen_config['param_mul_range']\n",
    "\n",
    "builder_models = []\n",
    "for seed in seeds:\n",
    "    builder = new_spec.generate_network(\n",
    "        config_name,\n",
    "        specie_range,\n",
    "        param_range,\n",
    "        param_mul_range,\n",
    "        seed,\n",
    "        receptor_basal_activation=basal_activation,\n",
    "    )\n",
    "    builder_models.append(builder)\n",
    "print(f\"Generated {len(builder_models)} models.\")"
   ]
  },
  {
   "cell_type": "markdown",
   "id": "a1aba1da",
   "metadata": {},
   "source": [
    "### Simulations"
   ]
  },
  {
   "cell_type": "code",
   "execution_count": null,
   "id": "15adac50",
   "metadata": {},
   "outputs": [
    {
     "name": "stderr",
     "output_type": "stream",
     "text": [
      "Creating solvers: 100%|██████████| 1000/1000 [02:24<00:00,  6.94it/s]\n",
      "Simulating models: 100%|██████████| 1000/1000 [00:02<00:00, 400.64it/s]\n"
     ]
    },
    {
     "name": "stdout",
     "output_type": "stream",
     "text": [
      "Data saved at I:\\My Drive\\DAWSON PHD PROJECT\\Biomarker Data Repository\\data\\data-and-mechanism-project\\extended-simulation-1\\data\\CuratedModel1_sim_results.pkl\n"
     ]
    }
   ],
   "source": [
    "from models.Solver.RoadrunnerSolver import RoadrunnerSolver\n",
    "from models.utils.config_manager import save_data\n",
    "from tqdm import tqdm\n",
    "import pandas as pd\n",
    "\n",
    "\n",
    "sim_config = exp_config[\"simulation\"]\n",
    "sim_start = sim_config[\"start\"]\n",
    "sim_stop = sim_config[\"stop\"]\n",
    "sim_step = sim_config[\"step\"]\n",
    "\n",
    "# --- Simulations ---\n",
    "solver_models = []\n",
    "for i, builder in enumerate(tqdm(builder_models, desc=\"Creating solvers\")):\n",
    "    solver = RoadrunnerSolver()\n",
    "    solver.compile(builder.get_sbml_model())\n",
    "    solver_models.append(solver)\n",
    "\n",
    "\n",
    "sim_results = []\n",
    "for i, solver in enumerate(tqdm(solver_models, desc=\"Simulating models\")):\n",
    "    res = solver.simulate(sim_start, sim_stop, sim_step)\n",
    "    sim_results.append(res)\n",
    "\n",
    "\n",
    "# Concatenate all simulation results into a single DataFrame with 'seed' as its column using seeds list\n",
    "sim_results_df = pd.concat(\n",
    "    [pd.DataFrame(res).assign(seed=seed) for res, seed in zip(sim_results, seeds)],\n",
    "    ignore_index=True,\n",
    ")\n",
    "\n",
    "\n"
   ]
  },
  {
   "cell_type": "code",
   "execution_count": 37,
   "id": "bb85f35d",
   "metadata": {},
   "outputs": [
    {
     "name": "stdout",
     "output_type": "stream",
     "text": [
      "Data saved at I:\\My Drive\\DAWSON PHD PROJECT\\Biomarker Data Repository\\data\\data-and-mechanism-project\\extended-simulation-1\\data\\CuratedModel1_sim_results_df.pkl\n",
      "Data saved at I:\\My Drive\\DAWSON PHD PROJECT\\Biomarker Data Repository\\data\\data-and-mechanism-project\\extended-simulation-1\\data\\CuratedModel1_sim_results.pkl\n"
     ]
    }
   ],
   "source": [
    "# save the results\n",
    "save_data(\n",
    "    notebook_config=notebook_config,\n",
    "    data=sim_results_df,\n",
    "    data_name=\"sim_results_df\",\n",
    "    data_format=\"pkl\",\n",
    "    verbose=1,\n",
    ")\n",
    "\n",
    "# save the results\n",
    "save_data(\n",
    "    notebook_config=notebook_config,\n",
    "    data=sim_results,\n",
    "    data_name=\"sim_results\",\n",
    "    data_format=\"pkl\",\n",
    "    verbose=1,\n",
    ")"
   ]
  }
 ],
 "metadata": {
  "kernelspec": {
   "display_name": "new-peak-project",
   "language": "python",
   "name": "python3"
  },
  "language_info": {
   "codemirror_mode": {
    "name": "ipython",
    "version": 3
   },
   "file_extension": ".py",
   "mimetype": "text/x-python",
   "name": "python",
   "nbconvert_exporter": "python",
   "pygments_lexer": "ipython3",
   "version": "3.12.6"
  }
 },
 "nbformat": 4,
 "nbformat_minor": 5
}
