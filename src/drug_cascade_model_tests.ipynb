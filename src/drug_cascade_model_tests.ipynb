{
 "cells": [
  {
   "cell_type": "markdown",
   "metadata": {},
   "source": [
    "## Entire Script"
   ]
  },
  {
   "cell_type": "markdown",
   "metadata": {},
   "source": [
    "### Package Loading"
   ]
  },
  {
   "cell_type": "code",
   "execution_count": 1,
   "metadata": {},
   "outputs": [],
   "source": [
    "from models.ModelBuilder import ModelBuilder\n",
    "from models.Reaction import Reaction\n",
    "from models.ReactionArchtype import ReactionArchtype\n",
    "from models.ArchtypeCollections import *\n",
    "from models.Utils import *\n",
    "from models.DrugModelSpecification import DrugModelSpecification, Drug\n",
    "\n",
    "import matplotlib.pyplot as plt\n",
    "import seaborn as sns\n",
    "import roadrunner\n",
    "import numpy as np\n",
    "import pandas as pd\n",
    "\n",
    "# import scikit-learn\n",
    "from sklearn.linear_model import LinearRegression\n",
    "# tree models and support vector machines\n",
    "from sklearn.ensemble import RandomForestRegressor\n",
    "from sklearn.ensemble import GradientBoostingRegressor\n",
    "from sklearn.svm import SVR\n",
    "from sklearn.neural_network import MLPRegressor\n",
    "from sklearn.model_selection import train_test_split\n",
    "from sklearn.metrics import mean_squared_error, r2_score\n",
    "# import pearson correlation\n",
    "from scipy.stats import pearsonr\n",
    "from sklearn.preprocessing import StandardScaler\n",
    "from sklearn.pipeline import Pipeline\n",
    "\n",
    "from copy import deepcopy"
   ]
  },
  {
   "cell_type": "markdown",
   "metadata": {},
   "source": [
    "### Parameters "
   ]
  },
  {
   "cell_type": "code",
   "execution_count": 2,
   "metadata": {},
   "outputs": [],
   "source": [
    "import os \n",
    "\n",
    "### parameters \n",
    "\n",
    "## Generation of ground truth model \n",
    "\n",
    "model_name = 'drug_model_52'\n",
    "o_random_seed = 4\n",
    "no_observable_species = 5\n",
    "no_feedback_regulations = 2\n",
    "specie_value_range = (5, 5000)\n",
    "param_range = (0.1, 10)\n",
    "param_multiplier_range = (0.7, 1.3)\n",
    "\n",
    "\n",
    "## Simulation parameters \n",
    "\n",
    "simulation_time = 1000 \n",
    "simulation_step = 1000\n",
    "\n",
    "## Feature data generation \n",
    "\n",
    "feature_generation_method = 'uniform'\n",
    "feature_generation_extra_params = {'min': 0.1, 'max': 10}\n",
    "feature_generation_size = 1000 \n",
    "feature_generation_seed = 50 # if -1 then 'o_random_seed' is used\n",
    "if feature_generation_seed == -1:\n",
    "    feature_generation_seed = o_random_seed\n",
    "    \n",
    "## Data engineering parameters\n",
    "\n",
    "# Suboptimal Model Generation \n",
    "\n",
    "'''\n",
    "Options: \n",
    "- 'feedback_prune': removes feedback regulations from the model \n",
    "'''\n",
    "\n",
    "# Engineering Feature Data \n",
    "\n",
    "data_engineering_method = 'last_time_point'\n",
    "''' \n",
    "Options: \n",
    "- 'last_time_point' : only the last time point of the phosphorylated species is used\n",
    "- 'dynamic_feature': computes the characteristic 'ten' dynamic feature for each specie data \n",
    "'''\n",
    "\n",
    "## General parameters\n",
    "parallelise = True\n",
    "save_figures = True \n",
    "experiment_id = model_name + '_' + str(o_random_seed) + '_' + str(feature_generation_seed) + '_' + data_engineering_method\n",
    "experiment_folder = 'experiments/' + experiment_id + '/'\n",
    "if not os.path.exists(experiment_folder):\n",
    "    os.makedirs(experiment_folder)"
   ]
  },
  {
   "cell_type": "markdown",
   "metadata": {},
   "source": [
    "### Core Script"
   ]
  },
  {
   "cell_type": "code",
   "execution_count": 7,
   "metadata": {},
   "outputs": [],
   "source": [
    "### Generate the ground truth model\n",
    "\n",
    "model_spec = DrugModelSpecification()\n",
    "model_spec.generate_specifications(o_random_seed, no_observable_species, no_feedback_regulations, verbose=0)\n",
    "drug_0 = Drug('D0', 500, 500)\n",
    "drug_0.add_regulation('B2', 'down')\n",
    "model_spec.add_drug(drug_0)\n",
    "\n",
    "G0 = model_spec.generate_network(model_name, specie_value_range, param_range, param_multiplier_range, random_seed=o_random_seed, verbose=0)"
   ]
  },
  {
   "cell_type": "code",
   "execution_count": 8,
   "metadata": {},
   "outputs": [
    {
     "name": "stdout",
     "output_type": "stream",
     "text": [
      "model drug_model_52\n",
      "\n",
      "J0: A0p -> A0; J0_Vmax*A0p/(J0_Km + A0p)\n",
      "J1: A0 -> A0p; J1_Vmax*A0/(J1_Km + A0)\n",
      "J2: A1p -> A1; J2_Vmax*A1p/(J2_Km + A1p)\n",
      "J3: A1 -> A1p; (J3_Vmax+Cp*J3_Kw0)*A1/(J3_Km + A1)\n",
      "J4: A2p -> A2; J4_Vmax*A2p/(J4_Km + A2p)\n",
      "J5: A2 -> A2p; J5_Vmax*A2/(J5_Km*(1+B0p*J5_Kic0) + A2)\n",
      "J6: A3p -> A3; J6_Vmax*A3p/(J6_Km + A3p)\n",
      "J7: A3 -> A3p; J7_Vmax*A3/(J7_Km + A3)\n",
      "J8: A4p -> A4; J8_Vmax*A4p/(J8_Km + A4p)\n",
      "J9: A4 -> A4p; J9_Vmax*A4/(J9_Km + A4)\n",
      "J10: B0p -> B0; J10_Vmax*B0p/(J10_Km + B0p)\n",
      "J11: B0 -> B0p; (J11_Vmax+A0p*J11_Kw0)*B0/(J11_Km + B0)\n",
      "J12: B1p -> B1; J12_Vmax*B1p/(J12_Km + B1p)\n",
      "J13: B1 -> B1p; (J13_Vmax+A1p*J13_Kw0)*B1/(J13_Km + B1)\n",
      "J14: B2p -> B2; J14_Vmax*B2p/(J14_Km + B2p)\n",
      "J15: B2 -> B2p; (J15_Vmax+A2p*J15_Kw0)*B2/(J15_Km*(1+D0*J15_Kic0) + B2)\n",
      "J16: B3p -> B3; J16_Vmax*B3p/(J16_Km + B3p)\n",
      "J17: B3 -> B3p; (J17_Vmax+A3p*J17_Kw0)*B3/(J17_Km + B3)\n",
      "J18: B4p -> B4; J18_Vmax*B4p/(J18_Km + B4p)\n",
      "J19: B4 -> B4p; (J19_Vmax+A4p*J19_Kw0)*B4/(J19_Km + B4)\n",
      "J20: C -> Cp; (J20_Vmax+B0p*J20_Kw0+B1p*J20_Kw1)*C/(J20_Km*(1+B3p*J20_Kic0+B4p*J20_Kic1) + C)*(1+B2p*J20_Kil0)\n",
      "J21: Cp -> C; J21_Vmax*Cp/(J21_Km + Cp)\n",
      "\n",
      "# State variables in the system\n",
      "A0p=0\n",
      "A0=4494\n",
      "A1p=0\n",
      "A1=1416\n",
      "A2p=0\n",
      "A2=4344\n",
      "A3p=0\n",
      "A3=4288\n",
      "A4p=0\n",
      "A4=4812\n",
      "B0p=0\n",
      "B0=4266\n",
      "B1p=0\n",
      "B1=1737\n",
      "B2p=0\n",
      "B2=870\n",
      "B3p=0\n",
      "B3=2739\n",
      "B4p=0\n",
      "B4=3732\n",
      "C=100\n",
      "Cp=0\n",
      "\n",
      "# Parameters in the system\n",
      "J0_Km=994.773880742686\n",
      "J0_Vmax=109.83616177737994\n",
      "J1_Km=287.91948392733775\n",
      "J1_Vmax=1.3771690970947321\n",
      "J2_Km=514.2750718556\n",
      "J2_Vmax=25.05106401139847\n",
      "J3_Km=568.6010419789351\n",
      "J3_Vmax=8.687740520347552\n",
      "J3_Kw0=0.2974520565440613\n",
      "J4_Km=578.3457522479648\n",
      "J4_Vmax=6.256781538806957\n",
      "J5_Km=135.16255979319706\n",
      "J5_Vmax=4.842619306741843\n",
      "J5_Kic0=0.6956126274324443\n",
      "J6_Km=672.4679173139733\n",
      "J6_Vmax=40.2712349737603\n",
      "J7_Km=557.8003201510228\n",
      "J7_Vmax=60.333545087587765\n",
      "J8_Km=612.8934844630852\n",
      "J8_Vmax=72.83833132946357\n",
      "J9_Km=382.4003145455618\n",
      "J9_Vmax=58.78532816408227\n",
      "J10_Km=601.1097604586079\n",
      "J10_Vmax=82.27713016679238\n",
      "J11_Km=630.4930806985927\n",
      "J11_Vmax=0.9440866181703178\n",
      "J11_Kw0=0.8428022454432914\n",
      "J12_Km=981.8446632879952\n",
      "J12_Vmax=45.08797533042616\n",
      "J13_Km=695.8892169917805\n",
      "J13_Vmax=9.119172672647116\n",
      "J13_Kw0=0.099290034672555\n",
      "J14_Km=288.30674137064403\n",
      "J14_Vmax=90.36231522933815\n",
      "J15_Km=93.21607855228149\n",
      "J15_Vmax=1.806826340007188\n",
      "J15_Kw0=0.8748417893703452\n",
      "J15_Kic0=0.03179204430077404\n",
      "J16_Km=376.6962509639892\n",
      "J16_Vmax=72.30041561400374\n",
      "J17_Km=584.5749795874225\n",
      "J17_Vmax=6.470340371986422\n",
      "J17_Kw0=0.5289922021111463\n",
      "J18_Km=452.308870862951\n",
      "J18_Vmax=29.021228491649385\n",
      "J19_Km=911.0870612497821\n",
      "J19_Vmax=2.9518166388808558\n",
      "J19_Kw0=0.09023413363146947\n",
      "J20_Km=141.2681725822751\n",
      "J20_Vmax=11.083139254040264\n",
      "J20_Kw0=0.5830018225139537\n",
      "J20_Kw1=0.3464630444724282\n",
      "J20_Kil0=0.0368214416205832\n",
      "J20_Kic0=0.3636710567375173\n",
      "J20_Kic1=0.9476415215566399\n",
      "J21_Km=100\n",
      "J21_Vmax=10\n",
      "\n",
      "# Other variables in the system\n",
      "D0 := piecewise(0, time < 500, 500)\n",
      "\n",
      "\n",
      "end\n"
     ]
    }
   ],
   "source": [
    "print(G0.get_antimony_model())"
   ]
  },
  {
   "cell_type": "code",
   "execution_count": 9,
   "metadata": {},
   "outputs": [],
   "source": [
    "runner = roadrunner.RoadRunner(G0.get_sbml_model())\n",
    "res = runner.simulate(0, simulation_time, simulation_step)"
   ]
  },
  {
   "cell_type": "markdown",
   "metadata": {},
   "source": [
    "### Figure Generation and Visualisation"
   ]
  },
  {
   "cell_type": "markdown",
   "metadata": {},
   "source": [
    "#### Cp and C in ground truth model"
   ]
  },
  {
   "cell_type": "code",
   "execution_count": 10,
   "metadata": {},
   "outputs": [
    {
     "data": {
      "image/png": "[encoded data removed]",
      "text/plain": [
       "<Figure size 576x360 with 1 Axes>"
      ]
     },
     "metadata": {
      "needs_background": "light"
     },
     "output_type": "display_data"
    }
   ],
   "source": [
    "# === PLOT: Visible States Over Time ===\n",
    "\n",
    "# Initialize RoadRunner and simulate the model\n",
    "runner = roadrunner.RoadRunner(G0.get_sbml_model())\n",
    "res = runner.simulate(0, simulation_time, simulation_step)\n",
    "\n",
    "# Define key observable states\n",
    "visible_states = ['C', 'Cp']\n",
    "\n",
    "# Plot the concentration of visible states over time\n",
    "plt.figure(figsize=(8, 5))\n",
    "for state in visible_states:\n",
    "    plt.plot(res['time'], res[f'[{state}]'], label=state)\n",
    "\n",
    "# Formatting the plot\n",
    "plt.xlabel(\"Time\")\n",
    "plt.ylabel(\"Concentration\")\n",
    "plt.title(\"Concentration of C and Cp over Time\")\n",
    "plt.grid(True)\n",
    "\n",
    "if save_figures:\n",
    "    plt.savefig(experiment_folder + 'Fig_01_C_Cp_time_course_ground_truth.png')\n",
    "plt.show()"
   ]
  },
  {
   "cell_type": "markdown",
   "metadata": {},
   "source": [
    "#### All species in ground truth model"
   ]
  },
  {
   "cell_type": "code",
   "execution_count": null,
   "metadata": {},
   "outputs": [],
   "source": [
    "# === PLOT: All Biochemical Species Over Time ===\n",
    "\n",
    "plt.figure(figsize=(10, 6))\n",
    "\n",
    "states = model_spec.A_species + model_spec.B_species + model_spec.C_species\n",
    "# plus the phosphorylated species\n",
    "states += [s+'p' for s in states]\n",
    "for state in states:\n",
    "    plt.plot(res['time'], res[f'[{state}]'], label=state)\n",
    "\n",
    "plt.xlabel(\"Time\")\n",
    "plt.ylabel(\"Concentration\")\n",
    "plt.title(\"Temporal Evolution of All Biochemical Species\")\n",
    "plt.grid(True)\n",
    "\n",
    "if save_figures:\n",
    "    plt.savefig(experiment_folder + 'Fig_02_all_species_time_course_ground_truth.png')\n",
    "plt.show()"
   ]
  },
  {
   "cell_type": "markdown",
   "metadata": {},
   "source": [
    "#### Species versus their phosphorylated forms in Ground Truth Model"
   ]
  },
  {
   "cell_type": "code",
   "execution_count": null,
   "metadata": {},
   "outputs": [],
   "source": [
    "# === MULTI-PLOT: Species vs. Phosphorylated Forms ===\n",
    "AandB = model_spec.A_species + model_spec.B_species  # Select key species\n",
    "\n",
    "columns = 4\n",
    "fig, axs = plt.subplots(len(AandB) // columns + 1, columns, figsize=(4 * columns, 5 * (len(AandB) // columns)))\n",
    "\n",
    "for i, specie in enumerate(AandB):\n",
    "    row, col = i // columns, i % columns\n",
    "    specie_phos = specie + 'p'  # Identify phosphorylated form\n",
    "\n",
    "    axs[row, col].plot(res['time'], res[f'[{specie}]'], label=specie)\n",
    "    axs[row, col].plot(res['time'], res[f'[{specie_phos}]'], label=specie_phos)\n",
    "    axs[row, col].set_title(f'{specie} and {specie_phos}')\n",
    "    axs[row, col].legend()\n",
    "\n",
    "plt.tight_layout()\n",
    "\n",
    "if save_figures:\n",
    "    plt.savefig(experiment_folder + 'Fig_03_species_vs_phosphorylated_forms_ground_truth.png')\n",
    "\n",
    "plt.show()"
   ]
  },
  {
   "cell_type": "markdown",
   "metadata": {},
   "source": [
    "####  Simulations of the Ground Truth Model based on feature data"
   ]
  },
  {
   "cell_type": "code",
   "execution_count": null,
   "metadata": {},
   "outputs": [],
   "source": [
    "# plot the time course data\n",
    "time_course_data = np.array(time_course_data)\n",
    "time_course_data.shape\n",
    "\n",
    "plt.title('Time course data for all Cp expression following A and B perturbations')\n",
    "plt.plot(res['time'], time_course_data.T, color='gray', alpha=0.5)\n",
    "plt.plot(res['time'], time_course_data.mean(axis=0), color='red', label='Mean', alpha=0.8)\n",
    "plt.plot(res['time'], time_course_data.mean(axis=0) + time_course_data.std(axis=0), color='black', label='Mean + Std', alpha=0.8, linestyle='--')\n",
    "plt.plot(res['time'], time_course_data.mean(axis=0) - time_course_data.std(axis=0), color='black', label='Mean - Std', alpha=0.8, linestyle='--')\n",
    "plt.legend()\n",
    "\n",
    "if save_figures:\n",
    "    plt.savefig(experiment_folder + 'Fig_04_time_course_feature_data.png')\n",
    "plt.show()"
   ]
  },
  {
   "cell_type": "markdown",
   "metadata": {},
   "source": [
    "#### Cp (Target) of the Ground Truth Model versus the Sub-Optimal Model"
   ]
  },
  {
   "cell_type": "code",
   "execution_count": null,
   "metadata": {},
   "outputs": [],
   "source": [
    "# make a sub-plot for the ground truth model and the suboptimal model, showing the Cp expression for C\n",
    "\n",
    "runner = roadrunner.RoadRunner(G0.get_sbml_model())\n",
    "res = runner.simulate(0, 500, 100)\n",
    "\n",
    "runner_sub = roadrunner.RoadRunner(S0.get_sbml_model())\n",
    "res_sub = runner_sub.simulate(0, 500, 100)\n",
    "\n",
    "plt.plot(res['time'], res['[Cp]'], label='Ground Truth Cp')\n",
    "plt.plot(res_sub['time'], res_sub['[Cp]'], label='Suboptimal Cp')\n",
    "plt.legend()\n",
    "\n",
    "runner = manual_reset(runner, initial_values)\n",
    "runner_sub = manual_reset(runner_sub, initial_values)\n",
    "\n",
    "if save_figures:\n",
    "    plt.savefig(experiment_folder + 'Fig_05_Cp_expression_comparison.png')\n",
    "plt.show()"
   ]
  },
  {
   "cell_type": "markdown",
   "metadata": {},
   "source": [
    "#### Comparison of other species in the Ground Truth Model and the Sub-Optimal Model"
   ]
  },
  {
   "cell_type": "code",
   "execution_count": null,
   "metadata": {},
   "outputs": [],
   "source": [
    "AandB = model_spec.A_species + model_spec.B_species\n",
    "columns = 4\n",
    "fig, axs = plt.subplots(len(AandB)//columns+1, columns, figsize=(4*columns, 4*len(AandB)//columns))\n",
    "for i, specie in enumerate(AandB):\n",
    "    row = i // columns\n",
    "    col = i % columns\n",
    "    # get the phosphorylated specie\n",
    "    specie_phos = specie + 'p'\n",
    "    # plot the specie\n",
    "    # axs[row, col].plot(res_sub['time'], res_sub[f'[{specie}]'], label=specie+'_S0')\n",
    "    # axs[row, col].plot(res['time'], res_sub[f'[{specie_phos}]'], label=specie+'_G0')\n",
    "    axs[row, col].plot(res_sub['time'], res_sub[f'[{specie_phos}]'], label=specie_phos+'_S0')\n",
    "    axs[row, col].plot(res['time'], res[f'[{specie_phos}]'], label=specie_phos+'_G0')\n",
    "    axs[row, col].set_title(f'{specie} and {specie_phos}')\n",
    "    axs[row, col].legend()\n",
    "    \n",
    "plt.tight_layout()\n",
    "\n",
    "if save_figures:\n",
    "    plt.savefig(experiment_folder + 'Fig_06_species_vs_phosphorylated_forms_comparison.png')\n",
    "plt.show()"
   ]
  },
  {
   "cell_type": "markdown",
   "metadata": {},
   "source": [
    "#### Scatter plot between feature and target data"
   ]
  },
  {
   "cell_type": "code",
   "execution_count": null,
   "metadata": {},
   "outputs": [],
   "source": [
    "columns = 4\n",
    "fig, axs = plt.subplots(len(feature_df.columns)//columns+1, columns, figsize=(4*columns, 4*len(feature_df.columns)//columns))\n",
    "for i, feature in enumerate(feature_df.columns):\n",
    "    row = i // columns\n",
    "    col = i % columns\n",
    "    axs[row, col].scatter(feature_df[feature], target_df['Cp'], alpha=0.7, s=10)\n",
    "    axs[row, col].set_title(f'{feature} vs Cp')\n",
    "plt.tight_layout()\n",
    "\n",
    "if save_figures:\n",
    "    plt.savefig(experiment_folder + 'Fig_07_feature_vs_target.png')\n",
    "plt.show()"
   ]
  },
  {
   "cell_type": "markdown",
   "metadata": {},
   "source": [
    "#### Correlation matrix between feature and target data"
   ]
  },
  {
   "cell_type": "code",
   "execution_count": null,
   "metadata": {},
   "outputs": [],
   "source": [
    "\n",
    "feature_target_df = feature_df.copy()\n",
    "feature_target_df['Cp'] = target_df['Cp']\n",
    "sns.heatmap(feature_target_df.corr(), annot=True, cmap='viridis', fmt=\".2f\")\n",
    "\n",
    "if save_figures:\n",
    "    plt.savefig(experiment_folder + 'Fig_08_feature_target_correlation.png')\n",
    "plt.show()"
   ]
  },
  {
   "cell_type": "markdown",
   "metadata": {},
   "source": [
    "#### Correlation matrix between last time point of ground truth model and target data"
   ]
  },
  {
   "cell_type": "code",
   "execution_count": null,
   "metadata": {},
   "outputs": [],
   "source": [
    "# perform correlation analysis between the last time points and the target data\n",
    "target_last_time_points_G0 = last_time_points_G0.copy()\n",
    "target_last_time_points_G0['t'] = target_df['Cp']\n",
    "sns.heatmap(target_last_time_points_G0.corr(), annot=True, cmap='viridis', fmt=\".2f\")\n",
    "\n",
    "if save_figures:\n",
    "    plt.savefig(experiment_folder + 'Fig_09_G0_phos_last_time_point_target_correlation.png')\n",
    "plt.show()"
   ]
  },
  {
   "cell_type": "markdown",
   "metadata": {},
   "source": [
    "#### Scatter plot between last time point of ground truth model and target data"
   ]
  },
  {
   "cell_type": "code",
   "execution_count": null,
   "metadata": {},
   "outputs": [],
   "source": [
    "columns = 4\n",
    "fig, axs = plt.subplots(len(last_time_points_G0.columns)//columns+1, columns, figsize=(4*columns, 4*len(feature_df.columns)//columns))\n",
    "for i, feature in enumerate(last_time_points_G0.columns):\n",
    "    row = i // columns\n",
    "    col = i % columns\n",
    "    axs[row, col].scatter(target_df['Cp'], last_time_points_G0[feature], alpha=0.7, s=10)\n",
    "    axs[row, col].set_title(f'{feature} vs Target')\n",
    "plt.tight_layout()\n",
    "\n",
    "if save_figures:\n",
    "    plt.savefig(experiment_folder + 'Fig_10_G0_phos_last_time_point_vs_target_scatter.png')\n",
    "plt.show()"
   ]
  },
  {
   "cell_type": "markdown",
   "metadata": {},
   "source": [
    "#### Correlation matrix between last time point of sub-optimal model and target data"
   ]
  },
  {
   "cell_type": "code",
   "execution_count": null,
   "metadata": {},
   "outputs": [],
   "source": [
    "target_last_time_points_S0 = engineered_feature_df.copy()\n",
    "target_last_time_points_S0['t'] = target_df['Cp']\n",
    "sns.heatmap(target_last_time_points_S0.corr(), annot=True, cmap='viridis', fmt=\".2f\")\n",
    "if save_figures:\n",
    "    plt.savefig(experiment_folder + 'Fig_11_S0_phos_last_time_point_target_correlation.png')\n",
    "plt.show()"
   ]
  },
  {
   "cell_type": "markdown",
   "metadata": {},
   "source": [
    "#### Scatter plot between last time point of sub-optimal model and target data"
   ]
  },
  {
   "cell_type": "code",
   "execution_count": null,
   "metadata": {},
   "outputs": [],
   "source": [
    "columns = 4\n",
    "fig, axs = plt.subplots(len(engineered_feature_df.columns)//columns+1, columns, figsize=(4*columns, 4*len(engineered_feature_df.columns)//columns))\n",
    "for i, feature in enumerate(engineered_feature_df.columns):\n",
    "    row = i // columns\n",
    "    col = i % columns\n",
    "    axs[row, col].scatter(target_df['Cp'], engineered_feature_df[feature], alpha=0.7, s=10)\n",
    "    axs[row, col].set_title(f'{feature} vs Target')\n",
    "plt.tight_layout()\n",
    "\n",
    "if save_figures:\n",
    "    plt.savefig(experiment_folder + 'Fig_12_S0_phos_last_time_point_vs_target_scatter.png')\n",
    "plt.show()"
   ]
  },
  {
   "cell_type": "markdown",
   "metadata": {},
   "source": [
    "#### Pearson Correlation of model prediction versus target data in all models"
   ]
  },
  {
   "cell_type": "code",
   "execution_count": null,
   "metadata": {},
   "outputs": [],
   "source": [
    "# create box plots for each model type and feature data type, plot for pearson correlation\n",
    "\n",
    "sns.set(rc={'figure.figsize':(18,10)})\n",
    "# make the font size bigger for labels and title, and axes labels \n",
    "sns.set(font_scale=1.8)\n",
    "sns.set_style(\"whitegrid\")\n",
    "sns.stripplot(data=metric_df, x='Model', y='Pearson Correlation', hue='Feature Data', dodge=True, jitter=True, size=10, alpha=0.8)\n",
    "\n",
    "# display the mean value for each model and feature data type\n",
    "mean_vals = metric_df.groupby(['Model', 'Feature Data']).mean().reset_index()\n",
    "    \n",
    "\n",
    "# make a transparent box plot, without using the alpha parameter\n",
    "sns.boxplot(data=metric_df, x='Model', y='Pearson Correlation', hue='Feature Data')\n",
    "for patch in plt.gca().patches:\n",
    "    patch.set_alpha(0.3)\n",
    "\n",
    "plt.title('Model Performance Comparison for Pearson Correlation')\n",
    "\n",
    "if save_figures:\n",
    "    plt.savefig(experiment_folder + 'Fig_13_model_performance_comparison_pearson.png')\n",
    "plt.show()"
   ]
  },
  {
   "cell_type": "markdown",
   "metadata": {},
   "source": [
    "#### Mean Squared Error of model prediction versus target data in all models"
   ]
  },
  {
   "cell_type": "code",
   "execution_count": null,
   "metadata": {},
   "outputs": [],
   "source": [
    "# create box plots for each model type and feature data type, plot for pearson correlation\n",
    "\n",
    "sns.set(rc={'figure.figsize':(18,10)})\n",
    "# make the font size bigger for labels and title, and axes labels \n",
    "sns.set(font_scale=1.8)\n",
    "sns.set_style(\"whitegrid\")\n",
    "sns.stripplot(data=metric_df, x='Model', y='Mean Squared Error', hue='Feature Data', dodge=True, jitter=True, size=10, alpha=0.8)\n",
    "\n",
    "# make a transparent box plot, without using the alpha parameter\n",
    "sns.boxplot(data=metric_df, x='Model', y='Mean Squared Error', hue='Feature Data')\n",
    "for patch in plt.gca().patches:\n",
    "    patch.set_alpha(0.3)\n",
    "\n",
    "plt.title('Model Performance Comparison for Mean Squared Error')\n",
    "\n",
    "plt.ylim(0,1000)\n",
    "if save_figures:\n",
    "    plt.savefig(experiment_folder + 'Fig_14A_all_model_performance_comparison_mse.png')\n",
    "plt.show()"
   ]
  },
  {
   "cell_type": "markdown",
   "metadata": {},
   "source": [
    "### Key data outputs"
   ]
  },
  {
   "cell_type": "markdown",
   "metadata": {},
   "source": [
    "#### Ground Truth Model Specification"
   ]
  },
  {
   "cell_type": "code",
   "execution_count": 11,
   "metadata": {},
   "outputs": [
    {
     "name": "stdout",
     "output_type": "stream",
     "text": [
      "A Species: ['A0', 'A1', 'A2', 'A3', 'A4']\n",
      "B Species: ['B0', 'B1', 'B2', 'B3', 'B4']\n",
      "C Species: ['C']\n",
      "Regulations: [('C', 'A1'), ('B0', 'A2'), ('A0', 'B0'), ('A1', 'B1'), ('A2', 'B2'), ('A3', 'B3'), ('A4', 'B4'), ('D0', 'B2')]\n",
      "Regulation Types: ['up', 'down', 'up', 'up', 'up', 'up', 'up', 'down']\n",
      "C Weak Stimulators: 2\n",
      "C Strong Stimulators: 0\n",
      "C Allosteric Inhibitors: 1\n",
      "C Competitive Inhibitors: 2\n",
      "\n"
     ]
    }
   ],
   "source": [
    "print(model_spec)"
   ]
  },
  {
   "cell_type": "markdown",
   "metadata": {},
   "source": [
    "#### Antimony Model of Ground Truth Model"
   ]
  },
  {
   "cell_type": "code",
   "execution_count": null,
   "metadata": {},
   "outputs": [],
   "source": [
    "print(G0.get_antimony_model())"
   ]
  },
  {
   "cell_type": "markdown",
   "metadata": {},
   "source": [
    "#### Sub-Optimal Model Specification"
   ]
  },
  {
   "cell_type": "code",
   "execution_count": null,
   "metadata": {},
   "outputs": [],
   "source": [
    "print(copy_model_spec)"
   ]
  },
  {
   "cell_type": "markdown",
   "metadata": {},
   "source": [
    "#### Antimony Model of Sub-Optimal Model"
   ]
  },
  {
   "cell_type": "code",
   "execution_count": null,
   "metadata": {},
   "outputs": [],
   "source": [
    "print(S0.get_antimony_model())  "
   ]
  },
  {
   "cell_type": "markdown",
   "metadata": {},
   "source": [
    "#### All model performance metrics"
   ]
  },
  {
   "cell_type": "code",
   "execution_count": null,
   "metadata": {},
   "outputs": [],
   "source": [
    "metric_df"
   ]
  }
 ],
 "metadata": {
  "kernelspec": {
   "display_name": "new-peak-project",
   "language": "python",
   "name": "python3"
  },
  "language_info": {
   "codemirror_mode": {
    "name": "ipython",
    "version": 3
   },
   "file_extension": ".py",
   "mimetype": "text/x-python",
   "name": "python",
   "nbconvert_exporter": "python",
   "pygments_lexer": "ipython3",
   "version": "3.8.10"
  }
 },
 "nbformat": 4,
 "nbformat_minor": 2
}
