{
 "cells": [
  {
   "cell_type": "markdown",
   "id": "89e797c1",
   "metadata": {},
   "source": [
    "# Robustness Testing of Current Workflow"
   ]
  },
  {
   "cell_type": "markdown",
   "id": "fc1c8de6",
   "metadata": {},
   "source": [
    "## Initialisation"
   ]
  },
  {
   "cell_type": "code",
   "execution_count": 1,
   "id": "eddb8e35",
   "metadata": {},
   "outputs": [
    {
     "name": "stdout",
     "output_type": "stream",
     "text": [
      "Project path set to: c:\\Github\\new-peak-project\\src\n"
     ]
    }
   ],
   "source": [
    "import os\n",
    "\n",
    "path = os.getcwd()\n",
    "# find the string 'project' in the path, return index\n",
    "index_project = path.find('project')\n",
    "# slice the path from the index of 'project' to the end\n",
    "project_path = path[:index_project+7]\n",
    "# set the working directory\n",
    "os.chdir(project_path+'\\src')\n",
    "print(f'Project path set to: {os.getcwd()}')"
   ]
  },
  {
   "cell_type": "code",
   "execution_count": 2,
   "id": "d5927220",
   "metadata": {},
   "outputs": [
    {
     "name": "stdout",
     "output_type": "stream",
     "text": [
      "I:\\My Drive\\DAWSON PHD PROJECT\\Biomarker Data Repository\\data\\new-peak-project\\experiments\n"
     ]
    }
   ],
   "source": [
    "from dotenv import dotenv_values\n",
    "config = dotenv_values(\".env\")\n",
    "print(config[\"DATA_PATH\"])\n"
   ]
  },
  {
   "cell_type": "code",
   "execution_count": 3,
   "id": "36edb6b6",
   "metadata": {},
   "outputs": [],
   "source": [
    "from models.ModelBuilder import ModelBuilder\n",
    "from models.Reaction import Reaction\n",
    "from models.ReactionArchtype import ReactionArchtype\n",
    "from models.ArchtypeCollections import *\n",
    "from models.Utils import *\n",
    "\n",
    "import matplotlib.pyplot as plt\n",
    "import seaborn as sns\n",
    "import roadrunner\n",
    "import numpy as np\n",
    "import pandas as pd\n",
    "\n",
    "# import scikit-learn\n",
    "from sklearn.linear_model import LinearRegression\n",
    "# tree models and support vector machines\n",
    "from sklearn.ensemble import RandomForestRegressor\n",
    "from sklearn.ensemble import GradientBoostingRegressor\n",
    "from sklearn.svm import SVR\n",
    "from sklearn.neural_network import MLPRegressor\n",
    "from sklearn.model_selection import train_test_split\n",
    "from sklearn.metrics import mean_squared_error, r2_score\n",
    "# import pearson correlation\n",
    "from scipy.stats import pearsonr\n",
    "from sklearn.preprocessing import StandardScaler\n",
    "from sklearn.pipeline import Pipeline\n",
    "\n",
    "from copy import deepcopy"
   ]
  },
  {
   "cell_type": "markdown",
   "id": "5b7ef947",
   "metadata": {},
   "source": [
    "## Testing "
   ]
  },
  {
   "cell_type": "code",
   "execution_count": 11,
   "id": "08a1baff",
   "metadata": {},
   "outputs": [
    {
     "name": "stdout",
     "output_type": "stream",
     "text": [
      "I:\\My Drive\\DAWSON PHD PROJECT\\Biomarker Data Repository\\data\\new-peak-project\\experiments/cp_model_sensitivity_5node_6_50/\n"
     ]
    }
   ],
   "source": [
    "import os \n",
    "\n",
    "### parameters \n",
    "\n",
    "notebook_name = 'cp_model_sensitivity_5node'\n",
    "\n",
    "## Generation of ground truth model \n",
    "\n",
    "model_name = 'v3_small_model_52'\n",
    "o_random_seed = 6\n",
    "parameter_random_seed = 6\n",
    "no_observable_species = 5\n",
    "no_feedback_regulations = 2\n",
    "specie_value_range = (5, 5000)\n",
    "param_range = (0.1, 10)\n",
    "param_multiplier_range = (0.7, 1.3)\n",
    "\n",
    "\n",
    "## Simulation parameters \n",
    "\n",
    "simulation_time = 500 \n",
    "simulation_step = 100\n",
    "\n",
    "## Feature data generation \n",
    "\n",
    "feature_generation_method = 'uniform'\n",
    "feature_generation_extra_params = {'min': 0.1, 'max': 10}\n",
    "feature_generation_size = 1000 \n",
    "feature_generation_seed = 50 # if -1 then 'o_random_seed' is used\n",
    "if feature_generation_seed == -1:\n",
    "    feature_generation_seed = o_random_seed\n",
    "    \n",
    "## Data engineering parameters\n",
    "\n",
    "# Suboptimal Model Generation \n",
    "\n",
    "'''\n",
    "Options: \n",
    "- 'feedback_prune': removes feedback regulations from the model \n",
    "'''\n",
    "\n",
    "# Engineering Feature Data \n",
    "\n",
    "data_engineering_method = 'dynamic_feature'\n",
    "''' \n",
    "Options: \n",
    "- 'last_time_point' : only the last time point of the phosphorylated species is used\n",
    "- 'dynamic_feature': computes the characteristic 'ten' dynamic feature for each specie data \n",
    "'''\n",
    "\n",
    "## General parameters\n",
    "parallelise = True\n",
    "save_figures = True \n",
    "experiment_id = notebook_name + '_' + str(o_random_seed) + '_' + str(feature_generation_seed)\n",
    "experiment_folder = config['DATA_PATH'] + '/' + experiment_id + '/'\n",
    "if not os.path.exists(experiment_folder):\n",
    "    os.makedirs(experiment_folder)\n",
    "    \n",
    "print(experiment_folder)"
   ]
  },
  {
   "cell_type": "code",
   "execution_count": 12,
   "id": "c497be26",
   "metadata": {},
   "outputs": [],
   "source": [
    "### Generate the ground truth model\n",
    "\n",
    "model_spec = ModelSpecification()\n",
    "model_spec.generate_specifications(o_random_seed, no_observable_species, no_feedback_regulations, verbose=0)\n",
    "G0 = model_spec.generate_network(model_name, specie_value_range, param_range, param_multiplier_range, random_seed=parameter_random_seed, verbose=0)\n",
    "runner = roadrunner.RoadRunner(G0.get_sbml_model())\n",
    "res = runner.simulate(0, simulation_time, simulation_step)"
   ]
  },
  {
   "cell_type": "code",
   "execution_count": 13,
   "id": "d0c471ff",
   "metadata": {},
   "outputs": [
    {
     "name": "stdout",
     "output_type": "stream",
     "text": [
      "[(('B2', 'B4'), 'down'), (('B0', 'B4'), 'down')]\n"
     ]
    }
   ],
   "source": [
    "print(model_spec.get_feedback_regulations())"
   ]
  },
  {
   "cell_type": "code",
   "execution_count": 14,
   "id": "eb8ed764",
   "metadata": {},
   "outputs": [
    {
     "name": "stdout",
     "output_type": "stream",
     "text": [
      "A Species: ['A0', 'A1', 'A2', 'A3', 'A4']\n",
      "B Species: ['B0', 'B1', 'B2', 'B3', 'B4']\n",
      "C Species: ['C']\n",
      "Regulations: [('B2', 'B4'), ('B0', 'B4'), ('A0', 'B0'), ('A1', 'B1'), ('A2', 'B2'), ('A3', 'B3'), ('A4', 'B4'), ('B0', 'C'), ('B1', 'C'), ('B2', 'C'), ('B0', 'C'), ('B1', 'C')]\n",
      "Regulation Types: ['down', 'down', 'up', 'up', 'up', 'up', 'up', 'up', 'up', 'up', 'down', 'down']\n",
      "C Weak Stimulators: 0\n",
      "C Strong Stimulators: 0\n",
      "C Allosteric Inhibitors: 0\n",
      "C Competitive Inhibitors: 0\n",
      "\n"
     ]
    }
   ],
   "source": [
    "print(model_spec)"
   ]
  },
  {
   "cell_type": "code",
   "execution_count": 15,
   "id": "59023dcf",
   "metadata": {},
   "outputs": [
    {
     "name": "stdout",
     "output_type": "stream",
     "text": [
      "model v3_small_model_52\n",
      "\n",
      "J0: A0p -> A0; J0_Vmax*A0p/(J0_Km + A0p)\n",
      "J1: A0 -> A0p; J1_Vmax*A0/(J1_Km + A0)\n",
      "J2: A1p -> A1; J2_Vmax*A1p/(J2_Km + A1p)\n",
      "J3: A1 -> A1p; J3_Vmax*A1/(J3_Km + A1)\n",
      "J4: A2p -> A2; J4_Vmax*A2p/(J4_Km + A2p)\n",
      "J5: A2 -> A2p; J5_Vmax*A2/(J5_Km + A2)\n",
      "J6: A3p -> A3; J6_Vmax*A3p/(J6_Km + A3p)\n",
      "J7: A3 -> A3p; J7_Vmax*A3/(J7_Km + A3)\n",
      "J8: A4p -> A4; J8_Vmax*A4p/(J8_Km + A4p)\n",
      "J9: A4 -> A4p; J9_Vmax*A4/(J9_Km + A4)\n",
      "J10: B0p -> B0; J10_Vmax*B0p/(J10_Km + B0p)\n",
      "J11: B0 -> B0p; (J11_Vmax+A0p*J11_Kw0)*B0/(J11_Km + B0)\n",
      "J12: B1p -> B1; J12_Vmax*B1p/(J12_Km + B1p)\n",
      "J13: B1 -> B1p; (J13_Vmax+A1p*J13_Kw0)*B1/(J13_Km + B1)\n",
      "J14: B2p -> B2; J14_Vmax*B2p/(J14_Km + B2p)\n",
      "J15: B2 -> B2p; (J15_Vmax+A2p*J15_Kw0)*B2/(J15_Km + B2)\n",
      "J16: B3p -> B3; J16_Vmax*B3p/(J16_Km + B3p)\n",
      "J17: B3 -> B3p; (J17_Vmax+A3p*J17_Kw0)*B3/(J17_Km + B3)\n",
      "J18: B4p -> B4; J18_Vmax*B4p/(J18_Km + B4p)\n",
      "J19: B4 -> B4p; (J19_Vmax+A4p*J19_Kw0)*B4/(J19_Km*(1+B2p*J19_Kic0+B0p*J19_Kic1) + B4)\n",
      "J20: C -> Cp; (J20_Vmax+B0p*J20_Kw0+B1p*J20_Kw1+B2p*J20_Kw2)*C/(J20_Km*(1+B0p*J20_Kic0+B1p*J20_Kic1) + C)\n",
      "J21: Cp -> C; J21_Vmax*Cp/(J21_Km + Cp)\n",
      "\n",
      "# State variables in the system\n",
      "A0p=0\n",
      "A0=853\n",
      "A1p=0\n",
      "A1=4057\n",
      "A2p=0\n",
      "A2=1621\n",
      "A3p=0\n",
      "A3=970\n",
      "A4p=0\n",
      "A4=2997\n",
      "B0p=0\n",
      "B0=256\n",
      "B1p=0\n",
      "B1=1014\n",
      "B2p=0\n",
      "B2=1652\n",
      "B3p=0\n",
      "B3=2269\n",
      "B4p=0\n",
      "B4=4789\n",
      "C=100\n",
      "Cp=0\n",
      "\n",
      "# Parameters in the system\n",
      "J0_Km=803.8124180824888\n",
      "J0_Vmax=59.67019971604465\n",
      "J1_Km=748.4233940915119\n",
      "J1_Vmax=62.35575547452807\n",
      "J2_Km=583.2265194284429\n",
      "J2_Vmax=70.74591971660884\n",
      "J3_Km=633.9213329227114\n",
      "J3_Vmax=118.03795997351219\n",
      "J4_Km=513.6781746415064\n",
      "J4_Vmax=60.48472242723664\n",
      "J5_Km=918.2125362167994\n",
      "J5_Vmax=72.9529650558008\n",
      "J6_Km=170.25433122344677\n",
      "J6_Vmax=33.97255536047259\n",
      "J7_Km=478.4046753055067\n",
      "J7_Vmax=90.33893770222957\n",
      "J8_Km=852.0751622483488\n",
      "J8_Vmax=105.34785290682855\n",
      "J9_Km=468.85983763835293\n",
      "J9_Vmax=68.58836671721014\n",
      "J10_Km=960.0978871026507\n",
      "J10_Vmax=42.78745203591255\n",
      "J11_Km=502.41812922551196\n",
      "J11_Vmax=8.53195576028939\n",
      "J11_Kw0=0.4249761301350789\n",
      "J12_Km=861.610950388427\n",
      "J12_Vmax=24.06717343747595\n",
      "J13_Km=904.1575767787339\n",
      "J13_Vmax=11.398646680704612\n",
      "J13_Kw0=0.6779548105692403\n",
      "J14_Km=613.3069894566916\n",
      "J14_Vmax=46.963517802724326\n",
      "J15_Km=542.3733574194531\n",
      "J15_Vmax=3.69895796384017\n",
      "J15_Kw0=0.20475815569561126\n",
      "J16_Km=463.33648742652525\n",
      "J16_Vmax=58.49049557238551\n",
      "J17_Km=738.8129199870195\n",
      "J17_Vmax=2.024658930769948\n",
      "J17_Kw0=0.27872847871694495\n",
      "J18_Km=352.03473540268465\n",
      "J18_Vmax=25.644703106427006\n",
      "J19_Km=1140.829481081099\n",
      "J19_Vmax=1.2196859380263927\n",
      "J19_Kw0=0.3128779160199693\n",
      "J19_Kic0=0.5944802411128579\n",
      "J19_Kic1=0.03841925957102108\n",
      "J20_Km=618.0163683238861\n",
      "J20_Vmax=10.605740556435617\n",
      "J20_Kw0=0.15492273380032115\n",
      "J20_Kw1=1.0332038942527801\n",
      "J20_Kw2=0.22237621923993273\n",
      "J20_Kic0=0.8253917815687087\n",
      "J20_Kic1=0.7085354360393241\n",
      "J21_Km=591.6498514813887\n",
      "J21_Vmax=59.00351855380623\n",
      "\n",
      "# Other variables in the system\n",
      "\n",
      "\n",
      "end\n"
     ]
    }
   ],
   "source": [
    "print(G0.get_antimony_model())"
   ]
  },
  {
   "cell_type": "code",
   "execution_count": 30,
   "id": "33c22dce",
   "metadata": {},
   "outputs": [],
   "source": [
    "G0.set_state('A0', 10)"
   ]
  },
  {
   "cell_type": "code",
   "execution_count": 31,
   "id": "80c4f308",
   "metadata": {},
   "outputs": [
    {
     "name": "stdout",
     "output_type": "stream",
     "text": [
      "model v3_small_model_52\n",
      "\n",
      "J0: A0p -> A0; J0_Vmax*A0p/(J0_Km + A0p)\n",
      "J1: A0 -> A0p; J1_Vmax*A0/(J1_Km + A0)\n",
      "J2: A1p -> A1; J2_Vmax*A1p/(J2_Km + A1p)\n",
      "J3: A1 -> A1p; J3_Vmax*A1/(J3_Km + A1)\n",
      "J4: A2p -> A2; J4_Vmax*A2p/(J4_Km + A2p)\n",
      "J5: A2 -> A2p; J5_Vmax*A2/(J5_Km + A2)\n",
      "J6: A3p -> A3; J6_Vmax*A3p/(J6_Km + A3p)\n",
      "J7: A3 -> A3p; J7_Vmax*A3/(J7_Km + A3)\n",
      "J8: A4p -> A4; J8_Vmax*A4p/(J8_Km + A4p)\n",
      "J9: A4 -> A4p; J9_Vmax*A4/(J9_Km + A4)\n",
      "J10: B0p -> B0; J10_Vmax*B0p/(J10_Km + B0p)\n",
      "J11: B0 -> B0p; (J11_Vmax+A0p*J11_Kw0)*B0/(J11_Km + B0)\n",
      "J12: B1p -> B1; J12_Vmax*B1p/(J12_Km + B1p)\n",
      "J13: B1 -> B1p; (J13_Vmax+A1p*J13_Kw0)*B1/(J13_Km + B1)\n",
      "J14: B2p -> B2; J14_Vmax*B2p/(J14_Km + B2p)\n",
      "J15: B2 -> B2p; (J15_Vmax+A2p*J15_Kw0)*B2/(J15_Km + B2)\n",
      "J16: B3p -> B3; J16_Vmax*B3p/(J16_Km + B3p)\n",
      "J17: B3 -> B3p; (J17_Vmax+A3p*J17_Kw0)*B3/(J17_Km + B3)\n",
      "J18: B4p -> B4; J18_Vmax*B4p/(J18_Km + B4p)\n",
      "J19: B4 -> B4p; (J19_Vmax+A4p*J19_Kw0)*B4/(J19_Km*(1+B2p*J19_Kic0+B0p*J19_Kic1) + B4)\n",
      "J20: C -> Cp; (J20_Vmax+B0p*J20_Kw0+B1p*J20_Kw1+B2p*J20_Kw2)*C/(J20_Km*(1+B0p*J20_Kic0+B1p*J20_Kic1) + C)\n",
      "J21: Cp -> C; J21_Vmax*Cp/(J21_Km + Cp)\n",
      "\n",
      "# State variables in the system\n",
      "A0p=0\n",
      "A0=10\n",
      "A1p=0\n",
      "A1=4057\n",
      "A2p=0\n",
      "A2=1621\n",
      "A3p=0\n",
      "A3=970\n",
      "A4p=0\n",
      "A4=2997\n",
      "B0p=0\n",
      "B0=256\n",
      "B1p=0\n",
      "B1=1014\n",
      "B2p=0\n",
      "B2=1652\n",
      "B3p=0\n",
      "B3=2269\n",
      "B4p=0\n",
      "B4=4789\n",
      "C=100\n",
      "Cp=0\n",
      "\n",
      "# Parameters in the system\n",
      "J0_Km=803.8124180824888\n",
      "J0_Vmax=59.67019971604465\n",
      "J1_Km=748.4233940915119\n",
      "J1_Vmax=62.35575547452807\n",
      "J2_Km=583.2265194284429\n",
      "J2_Vmax=70.74591971660884\n",
      "J3_Km=633.9213329227114\n",
      "J3_Vmax=118.03795997351219\n",
      "J4_Km=513.6781746415064\n",
      "J4_Vmax=60.48472242723664\n",
      "J5_Km=918.2125362167994\n",
      "J5_Vmax=72.9529650558008\n",
      "J6_Km=170.25433122344677\n",
      "J6_Vmax=33.97255536047259\n",
      "J7_Km=478.4046753055067\n",
      "J7_Vmax=90.33893770222957\n",
      "J8_Km=852.0751622483488\n",
      "J8_Vmax=105.34785290682855\n",
      "J9_Km=468.85983763835293\n",
      "J9_Vmax=68.58836671721014\n",
      "J10_Km=960.0978871026507\n",
      "J10_Vmax=42.78745203591255\n",
      "J11_Km=502.41812922551196\n",
      "J11_Vmax=8.53195576028939\n",
      "J11_Kw0=0.4249761301350789\n",
      "J12_Km=861.610950388427\n",
      "J12_Vmax=24.06717343747595\n",
      "J13_Km=904.1575767787339\n",
      "J13_Vmax=11.398646680704612\n",
      "J13_Kw0=0.6779548105692403\n",
      "J14_Km=613.3069894566916\n",
      "J14_Vmax=46.963517802724326\n",
      "J15_Km=542.3733574194531\n",
      "J15_Vmax=3.69895796384017\n",
      "J15_Kw0=0.20475815569561126\n",
      "J16_Km=463.33648742652525\n",
      "J16_Vmax=58.49049557238551\n",
      "J17_Km=738.8129199870195\n",
      "J17_Vmax=2.024658930769948\n",
      "J17_Kw0=0.27872847871694495\n",
      "J18_Km=352.03473540268465\n",
      "J18_Vmax=25.644703106427006\n",
      "J19_Km=1140.829481081099\n",
      "J19_Vmax=1.2196859380263927\n",
      "J19_Kw0=0.3128779160199693\n",
      "J19_Kic0=0.5944802411128579\n",
      "J19_Kic1=0.03841925957102108\n",
      "J20_Km=618.0163683238861\n",
      "J20_Vmax=10.605740556435617\n",
      "J20_Kw0=0.15492273380032115\n",
      "J20_Kw1=1.0332038942527801\n",
      "J20_Kw2=0.22237621923993273\n",
      "J20_Kic0=0.8253917815687087\n",
      "J20_Kic1=0.7085354360393241\n",
      "J21_Km=591.6498514813887\n",
      "J21_Vmax=59.00351855380623\n",
      "\n",
      "# Other variables in the system\n",
      "\n",
      "\n",
      "end\n"
     ]
    }
   ],
   "source": [
    "print(G0.get_antimony_model())"
   ]
  },
  {
   "cell_type": "code",
   "execution_count": 32,
   "id": "bcce093f",
   "metadata": {},
   "outputs": [],
   "source": [
    "runner = roadrunner.RoadRunner(G0.get_sbml_model())"
   ]
  },
  {
   "cell_type": "code",
   "execution_count": 33,
   "id": "7d4b903f",
   "metadata": {},
   "outputs": [
    {
     "name": "stdout",
     "output_type": "stream",
     "text": [
      "    A0p, A0, A1p,   A1, A2p,   A2, A3p,  A3, A4p,   A4, B0p,  B0, B1p,   B1, B2p,   B2, B3p,   B3, B4p,   B4,   C, Cp\n",
      " [[   0, 10,   0, 4057,   0, 1621,   0, 970,   0, 2997,   0, 256,   0, 1014,   0, 1652,   0, 2269,   0, 4789, 100,  0]]\n",
      "\n"
     ]
    }
   ],
   "source": [
    "# get all states in runner\n",
    "states = runner.getFloatingSpeciesAmountsNamedArray()\n",
    "print(states)"
   ]
  },
  {
   "cell_type": "code",
   "execution_count": 34,
   "id": "0d9f7d79",
   "metadata": {},
   "outputs": [],
   "source": [
    "specie_range = np.arange(1, 5000, 100)\n",
    "\n",
    "def sensitivity_analysis(builder: ModelBuilder, specie_name, specie_range, simulation_time, simulation_step): \n",
    "    all_results = []\n",
    "    for specie in specie_range: \n",
    "        builder.set_state(specie_name, specie)\n",
    "        runner = roadrunner.RoadRunner(builder.get_sbml_model())\n",
    "        res = runner.simulate(0, simulation_time, simulation_step)\n",
    "        all_results.append(res)\n",
    "    return all_results\n",
    "\n",
    "all_results = sensitivity_analysis(G0, 'A0', specie_range, simulation_time, simulation_step)\n",
    "\n",
    "        "
   ]
  },
  {
   "cell_type": "code",
   "execution_count": 35,
   "id": "031ebc4e",
   "metadata": {},
   "outputs": [
    {
     "name": "stdout",
     "output_type": "stream",
     "text": [
      "[0.         1.15607871 1.65427087 1.96962519 2.18780499 2.35116767\n",
      " 2.48084308 2.5867335  2.67269501 2.74015016 2.79052705 2.82624312\n",
      " 2.85042889 2.86621532 2.87623336 2.88245702 2.88626131 2.88855793\n",
      " 2.88993122 2.89074677 2.89122929 2.89151496 2.89168539 2.89178892\n",
      " 2.89185388 2.89189672 2.89192684 2.89194955 2.89196779 2.89198313\n",
      " 2.89199641 2.89200814 2.89201858 2.89202789 2.89203617 2.89204348\n",
      " 2.89204992 2.89205553 2.89206042 2.89206466 2.89206832 2.89207146\n",
      " 2.89207414 2.89207643 2.89207836 2.89208    2.89208139 2.89208256\n",
      " 2.89208354 2.89208437 2.89208506 2.89208564 2.89208612 2.89208652\n",
      " 2.89208685 2.89208713 2.89208736 2.89208755 2.89208771 2.89208785\n",
      " 2.89208795 2.89208804 2.89208812 2.89208818 2.89208823 2.89208827\n",
      " 2.8920883  2.89208833 2.89208836 2.89208838 2.89208839 2.89208841\n",
      " 2.89208842 2.89208843 2.89208844 2.89208844 2.89208845 2.89208845\n",
      " 2.89208845 2.89208846 2.89208846 2.89208846 2.89208846 2.89208846\n",
      " 2.89208846 2.89208846 2.89208846 2.89208846 2.89208846 2.89208846\n",
      " 2.89208846 2.89208846 2.89208846 2.89208846 2.89208846 2.89208846\n",
      " 2.89208846 2.89208846 2.89208846 2.89208846]\n"
     ]
    }
   ],
   "source": [
    "result_1 = all_results[0]\n",
    "# get the last time point of Cp \n",
    "state_result_1 = result_1['[Cp]']\n",
    "print(state_result_1)"
   ]
  },
  {
   "cell_type": "code",
   "execution_count": 36,
   "id": "600cb61c",
   "metadata": {},
   "outputs": [
    {
     "name": "stdout",
     "output_type": "stream",
     "text": [
      "2.8920884646980185\n"
     ]
    }
   ],
   "source": [
    "print(state_result_1[-1])"
   ]
  },
  {
   "cell_type": "code",
   "execution_count": 37,
   "id": "587c7f18",
   "metadata": {},
   "outputs": [
    {
     "name": "stdout",
     "output_type": "stream",
     "text": [
      "[2.8920884646980185, 2.674777089365648, 2.5923155693213347, 2.552271573638805, 2.529092282103275, 2.5140820684555263, 2.5036005106036217, 2.4958780833749636, 2.4899568405488326, 2.485274705142497, 2.4814807180208507, 2.4783447355344146, 2.4757096176983198, 2.473464488752991, 2.471528887059425, 2.4698430270949343, 2.468361602089231, 2.467049584836376, 2.4658795513823004, 2.4648296570687944, 2.4638823198856077, 2.4630232505645875, 2.4622406821979457, 2.4615248295148793, 2.4608675573895984, 2.460261985360107, 2.4597022330586897, 2.4591833407328023, 2.4587010183371896, 2.458251568108654, 2.457831803323438, 2.4574388911165417, 2.457070433378684, 2.456724251112614, 2.4563984479623904, 2.456091390169554, 2.4558015305872054, 2.4555275832417442, 2.455268382416149, 2.455022819564181, 2.454790001844768, 2.4545689107726254, 2.4543589528130227, 2.454159315126909, 2.453969350534174, 2.453788548085416, 2.4536162562688086, 2.453452039759177, 2.4532953804912587, 2.4531459555519]\n"
     ]
    }
   ],
   "source": [
    "def extract_states_from_results(results, state_name, time_point): \n",
    "    all_states = []\n",
    "    for result in results: \n",
    "        state = result[f'[{state_name}]']\n",
    "        all_states.append(state[time_point])\n",
    "    return all_states\n",
    "\n",
    "Cp_final_states = extract_states_from_results(all_results, 'Cp', -1)\n",
    "print(Cp_final_states)"
   ]
  },
  {
   "cell_type": "code",
   "execution_count": 38,
   "id": "6bf50c04",
   "metadata": {},
   "outputs": [
    {
     "data": {
      "image/png": "[encoded data removed]",
      "text/plain": [
       "<Figure size 432x288 with 1 Axes>"
      ]
     },
     "metadata": {
      "needs_background": "light"
     },
     "output_type": "display_data"
    }
   ],
   "source": [
    "# plot Cp_final_states against specie_range\n",
    "plt.plot(specie_range, Cp_final_states)\n",
    "plt.xlabel('Specie A0')\n",
    "plt.ylabel('Final Cp')\n",
    "plt.title('Final Cp against Specie A0')\n",
    "plt.show()"
   ]
  },
  {
   "cell_type": "code",
   "execution_count": 39,
   "id": "adb57395",
   "metadata": {},
   "outputs": [
    {
     "data": {
      "image/png": "[encoded data removed]",
      "text/plain": [
       "<Figure size 432x288 with 1 Axes>"
      ]
     },
     "metadata": {
      "needs_background": "light"
     },
     "output_type": "display_data"
    }
   ],
   "source": [
    "B0p_final_states = extract_states_from_results(all_results, 'B0p', -1)\n",
    "# plot B0p_final_states against specie_range\n",
    "plt.plot(specie_range, B0p_final_states)\n",
    "plt.xlabel('Specie A0')\n",
    "plt.ylabel('Final B0p')\n",
    "plt.title('Final B0p against Specie A0')\n",
    "plt.show()\n"
   ]
  },
  {
   "cell_type": "code",
   "execution_count": 40,
   "id": "bdfed639",
   "metadata": {},
   "outputs": [
    {
     "data": {
      "image/png": "[encoded data removed]",
      "text/plain": [
       "<Figure size 432x288 with 1 Axes>"
      ]
     },
     "metadata": {
      "needs_background": "light"
     },
     "output_type": "display_data"
    }
   ],
   "source": [
    "B1p_final_states = extract_states_from_results(all_results, 'B1p', -1)\n",
    "# plot B0p_final_states against specie_range\n",
    "plt.plot(specie_range, B1p_final_states)\n",
    "plt.xlabel('Specie A0')\n",
    "plt.ylabel('Final B1p')\n",
    "plt.title('Final B1p against Specie A0')\n",
    "plt.show()"
   ]
  },
  {
   "cell_type": "code",
   "execution_count": 41,
   "id": "43ac5f0f",
   "metadata": {},
   "outputs": [
    {
     "data": {
      "image/png": "[encoded data removed]",
      "text/plain": [
       "<Figure size 432x288 with 1 Axes>"
      ]
     },
     "metadata": {
      "needs_background": "light"
     },
     "output_type": "display_data"
    }
   ],
   "source": [
    "A1_final_states = extract_states_from_results(all_results, 'A1', 0)\n",
    "# plot B0p_final_states against specie_range\n",
    "plt.plot(specie_range, A1_final_states)\n",
    "plt.xlabel('Initial A0')\n",
    "plt.ylabel('Initial A1')\n",
    "plt.title('Initial A1 against Initial A0')\n",
    "plt.show()"
   ]
  },
  {
   "cell_type": "code",
   "execution_count": 42,
   "id": "9503226f",
   "metadata": {},
   "outputs": [
    {
     "data": {
      "image/png": "[encoded data removed]",
      "text/plain": [
       "<Figure size 432x288 with 1 Axes>"
      ]
     },
     "metadata": {
      "needs_background": "light"
     },
     "output_type": "display_data"
    }
   ],
   "source": [
    "def plot_against_states(specie_range, all_results, state, time_point): \n",
    "    states = extract_states_from_results(all_results, state, time_point)\n",
    "    plt.plot(specie_range, states)\n",
    "    plt.xlabel('Initial A0')\n",
    "    plt.ylabel(f'{state} at step {time_point}')\n",
    "    plt.title(f'{state} at step {time_point} against Initial A0')\n",
    "    plt.show()\n",
    "    \n",
    "plot_against_states(specie_range, all_results, 'A0p', -1)"
   ]
  },
  {
   "cell_type": "code",
   "execution_count": 43,
   "id": "abadc359",
   "metadata": {},
   "outputs": [
    {
     "data": {
      "image/png": "[encoded data removed]",
      "text/plain": [
       "<Figure size 432x288 with 1 Axes>"
      ]
     },
     "metadata": {
      "needs_background": "light"
     },
     "output_type": "display_data"
    }
   ],
   "source": [
    "plot_against_states(specie_range, all_results, 'B0', -1)"
   ]
  },
  {
   "cell_type": "code",
   "execution_count": 44,
   "id": "bb6b00d6",
   "metadata": {},
   "outputs": [],
   "source": [
    "all_init_species = ['A0', 'A1', 'A2', 'A3', 'A4', 'B0', 'B1', 'B2', 'B3', 'B4']\n",
    "all_init_species_results = []\n",
    "for init_species in all_init_species: \n",
    "    all_results = sensitivity_analysis(G0, init_species, specie_range, simulation_time, simulation_step)\n",
    "    all_init_species_results.append(all_results)\n",
    "\n",
    "# extract the last time point of Cp for each init species\n",
    "Cp_final_states = []\n",
    "for init_species in all_init_species_results: \n",
    "    Cp_final_states.append(extract_states_from_results(init_species, 'Cp', -1))\n",
    "    \n",
    "\n",
    "\n",
    "\n"
   ]
  },
  {
   "cell_type": "code",
   "execution_count": 45,
   "id": "96d6c3b5",
   "metadata": {},
   "outputs": [
    {
     "data": {
      "image/png": "[encoded data removed]",
      "text/plain": [
       "<Figure size 1440x576 with 10 Axes>"
      ]
     },
     "metadata": {
      "needs_background": "light"
     },
     "output_type": "display_data"
    }
   ],
   "source": [
    "# plot each init species against Cp_final_states in a multiplot\n",
    "fig, axs = plt.subplots(2, 5, figsize=(20, 8))\n",
    "axs = axs.flatten()\n",
    "for i, init_species in enumerate(all_init_species):\n",
    "    axs[i].plot(specie_range, Cp_final_states[i])\n",
    "    axs[i].set_xlabel(f'Initial {init_species}')\n",
    "    axs[i].set_ylabel(f'Final Cp')\n",
    "    axs[i].set_title(f'Final Cp against Initial {init_species}')\n",
    "    # make the title a bit higher to avoid overlapping with the significant figures of the y-axis\n",
    "    axs[i].set_ylim(0, 100)\n",
    "plt.tight_layout()\n",
    "plt.show()\n",
    "if save_figures: \n",
    "    fig.savefig(experiment_folder + 'Sensitivity_figure.png', dpi=300, bbox_inches='tight')\n",
    "    plt.close(fig)"
   ]
  },
  {
   "cell_type": "code",
   "execution_count": 46,
   "id": "c3616b69",
   "metadata": {},
   "outputs": [
    {
     "data": {
      "image/png": "[encoded data removed]",
      "text/plain": [
       "<Figure size 1440x576 with 10 Axes>"
      ]
     },
     "metadata": {
      "needs_background": "light"
     },
     "output_type": "display_data"
    }
   ],
   "source": [
    "# plot each init species against Cp_final_states in a multiplot\n",
    "fig, axs = plt.subplots(2, 5, figsize=(20, 8))\n",
    "axs = axs.flatten()\n",
    "for i, init_species in enumerate(all_init_species):\n",
    "    axs[i].plot(specie_range, Cp_final_states[i])\n",
    "    axs[i].set_xlabel(f'Initial {init_species}')\n",
    "    axs[i].set_ylabel(f'Final Cp')\n",
    "    axs[i].set_title(f'Final Cp against Initial {init_species}')\n",
    "    # make the title a bit higher to avoid overlapping with the significant figures of the y-axis\n",
    "    axs[i].set_ylim(0, 25)\n",
    "plt.tight_layout()\n",
    "plt.show()\n",
    "\n"
   ]
  },
  {
   "cell_type": "code",
   "execution_count": 47,
   "id": "dc03da7c",
   "metadata": {},
   "outputs": [],
   "source": [
    "# export the data into the folder as a pkl file \n",
    "\n",
    "import pickle\n",
    "with open(experiment_folder + 'Cp_final_states_sensitivity.pkl', 'wb') as f:\n",
    "    pickle.dump(Cp_final_states, f)\n",
    "    \n",
    "with open(experiment_folder + 'specie_range.pkl', 'wb') as f:\n",
    "    pickle.dump(specie_range, f)\n",
    "    "
   ]
  }
 ],
 "metadata": {
  "kernelspec": {
   "display_name": "new-peak-project",
   "language": "python",
   "name": "python3"
  },
  "language_info": {
   "codemirror_mode": {
    "name": "ipython",
    "version": 3
   },
   "file_extension": ".py",
   "mimetype": "text/x-python",
   "name": "python",
   "nbconvert_exporter": "python",
   "pygments_lexer": "ipython3",
   "version": "3.8.10"
  }
 },
 "nbformat": 4,
 "nbformat_minor": 5
}
