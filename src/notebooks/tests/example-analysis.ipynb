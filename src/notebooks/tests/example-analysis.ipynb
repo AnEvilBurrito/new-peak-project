{
 "cells": [
  {
   "cell_type": "markdown",
   "id": "dddddb54",
   "metadata": {},
   "source": [
    "## Init"
   ]
  },
  {
   "cell_type": "code",
   "execution_count": 1,
   "id": "e670a188",
   "metadata": {},
   "outputs": [
    {
     "name": "stdout",
     "output_type": "stream",
     "text": [
      "Project path set to: c:\\Github\\new-peak-project\\src\n"
     ]
    }
   ],
   "source": [
    "import os\n",
    "\n",
    "path = os.getcwd()\n",
    "# set the working directory\n",
    "os.chdir('c:\\\\Github\\\\new-peak-project\\\\src')\n",
    "print(f'Project path set to: {os.getcwd()}')"
   ]
  },
  {
   "cell_type": "code",
   "execution_count": 2,
   "id": "d07f8bf6",
   "metadata": {},
   "outputs": [
    {
     "name": "stdout",
     "output_type": "stream",
     "text": [
      "I:\\My Drive\\DAWSON PHD PROJECT\\Biomarker Data Repository\\data\\data-and-mechanism-project\n"
     ]
    }
   ],
   "source": [
    "from dotenv import dotenv_values\n",
    "config = dotenv_values(\".env\")\n",
    "new_data_path = config[\"NEW_DATA_PATH\"]\n",
    "notebook_name = \"example-analysis\"\n",
    "print(config[\"NEW_DATA_PATH\"])"
   ]
  },
  {
   "cell_type": "markdown",
   "id": "3e4f6e5d",
   "metadata": {},
   "source": [
    "## Config"
   ]
  },
  {
   "cell_type": "code",
   "execution_count": 3,
   "id": "d91a06b7",
   "metadata": {},
   "outputs": [],
   "source": [
    "import yaml\n",
    "config_version = '1'\n",
    "with open(f\"{new_data_path}/{notebook_name}/config_{config_version}.yml\") as f:\n",
    "    new_data_path = yaml.safe_load(f)"
   ]
  },
  {
   "cell_type": "code",
   "execution_count": 4,
   "id": "7e43ef75",
   "metadata": {},
   "outputs": [
    {
     "name": "stdout",
     "output_type": "stream",
     "text": [
      "Model parameters: {'n_estimators': 100, 'max_depth': 10, 'perturb_range': [0, 100]}\n"
     ]
    }
   ],
   "source": [
    "model_params = new_data_path[\"model\"][\"params\"]\n",
    "print(f\"Model parameters: {model_params}\")"
   ]
  },
  {
   "cell_type": "code",
   "execution_count": 8,
   "id": "b9402e27",
   "metadata": {},
   "outputs": [
    {
     "name": "stdout",
     "output_type": "stream",
     "text": [
      "Model parameters: 100, 10\n",
      "Model parameters: [0, 100], type: <class 'list'>\n"
     ]
    }
   ],
   "source": [
    "print(f\"Model parameters: {model_params['n_estimators']}, {model_params['max_depth']}\")\n",
    "print(f\"Model parameters: {model_params['perturb_range']}, type: {type(model_params['perturb_range'])}\")"
   ]
  }
 ],
 "metadata": {
  "kernelspec": {
   "display_name": "new-peak-project",
   "language": "python",
   "name": "python3"
  },
  "language_info": {
   "codemirror_mode": {
    "name": "ipython",
    "version": 3
   },
   "file_extension": ".py",
   "mimetype": "text/x-python",
   "name": "python",
   "nbconvert_exporter": "python",
   "pygments_lexer": "ipython3",
   "version": "3.12.6"
  }
 },
 "nbformat": 4,
 "nbformat_minor": 5
}
