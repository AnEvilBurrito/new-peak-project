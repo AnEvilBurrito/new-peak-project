{
 "cells": [
  {
   "cell_type": "markdown",
   "id": "1586fb20",
   "metadata": {},
   "source": [
    "# Init"
   ]
  },
  {
   "cell_type": "code",
   "execution_count": 1,
   "id": "63f7075b",
   "metadata": {},
   "outputs": [
    {
     "name": "stdout",
     "output_type": "stream",
     "text": [
      "Project path set to: c:\\Github\\new-peak-project\\src\n"
     ]
    }
   ],
   "source": [
    "import os\n",
    "\n",
    "path = os.getcwd()\n",
    "# set the working directory\n",
    "os.chdir('c:\\\\Github\\\\new-peak-project\\\\src')\n",
    "print(f'Project path set to: {os.getcwd()}')"
   ]
  },
  {
   "cell_type": "code",
   "execution_count": 2,
   "id": "9eeb33ce",
   "metadata": {},
   "outputs": [
    {
     "name": "stdout",
     "output_type": "stream",
     "text": [
      "G:\\My Drive\\DAWSON PHD PROJECT\\Biomarker Data Repository\\data\\new-peak-project\\experiments\n"
     ]
    }
   ],
   "source": [
    "from dotenv import dotenv_values\n",
    "config = dotenv_values(\".env\")\n",
    "print(config[\"DATA_PATH\"])"
   ]
  },
  {
   "cell_type": "code",
   "execution_count": 3,
   "id": "43c8c92b",
   "metadata": {},
   "outputs": [
    {
     "name": "stdout",
     "output_type": "stream",
     "text": [
      "New data path set to: G:\\My Drive\\DAWSON PHD PROJECT\\Biomarker Data Repository\\data\\data-and-mechanism-project\n"
     ]
    }
   ],
   "source": [
    "new_path = config[\"NEW_DATA_PATH\"]\n",
    "print(f'New data path set to: {new_path}')"
   ]
  },
  {
   "cell_type": "markdown",
   "id": "1e2afe73",
   "metadata": {},
   "source": [
    "# Config"
   ]
  },
  {
   "cell_type": "code",
   "execution_count": null,
   "id": "6e5a210d",
   "metadata": {},
   "outputs": [],
   "source": [
    "from models.utils.config_manager import load_configs\n",
    "folder_name = \"21082025-receptor-sensitivity-spec2\"\n",
    "notebook_config_path = new_path + f\"/{folder_name}/config_v1.yml\"\n",
    "exp_config = load_configs(folder_name, \"v1\")\n",
    "exp_params = exp_config[\"exp\"]\n"
   ]
  },
  {
   "cell_type": "code",
   "execution_count": null,
   "id": "3d3b680b",
   "metadata": {},
   "outputs": [],
   "source": [
    "from models.utils.config_manager import save_configs\n",
    "\n",
    "folder_name = \"21082025-receptor-sensitivity-spec2\"\n",
    "notebook_params = {\n",
    "    \"version\": \"testWrite\",\n",
    "    \"name\": \"model-inspection\",\n",
    "    \"compatible_notebooks\": [\"model-inspection-1\"],\n",
    "    \"description\": \"Inspect the generated model and its parameters\",\n",
    "}\n",
    "\n",
    "# a sample config \n",
    "exp_params = {\n",
    "    \"spec\": {\n",
    "        \"n_layers\": 2,\n",
    "        \"n_cascades\": 1,\n",
    "        \"n_regs\": 0,\n",
    "        \"gen_seed\": 42,\n",
    "        \"drug\": {\n",
    "            \"name\": \"D\",\n",
    "            \"start\": 500,\n",
    "            \"dose\": 500,\n",
    "            \"regulations\": [['R1', 'down']]\n",
    "        }\n",
    "    },\n",
    "    \"parameter_generation\": {\n",
    "        \"ic_range\": [200, 1000],\n",
    "        \"param_range\": [0.5, 1.5],\n",
    "        \"param_mul_range\": [0.99, 1.01]  # almost no multiplication, legacy\n",
    "    },\n",
    "    \"simulation\": {\n",
    "        \"start\": 0,\n",
    "        \"stop\": 1000,\n",
    "        \"step\": 100\n",
    "    }\n",
    "}\n",
    "\n",
    "total_config = {\n",
    "    \"notebook\": notebook_params,\n",
    "    \"exp\": exp_params\n",
    "}\n",
    "\n",
    "save_configs(folder_name, total_config, \"testWrite2\")"
   ]
  },
  {
   "cell_type": "code",
   "execution_count": 4,
   "id": "ab1696aa",
   "metadata": {},
   "outputs": [
    {
     "name": "stdout",
     "output_type": "stream",
     "text": [
      "Created folder structure at G:\\My Drive\\DAWSON PHD PROJECT\\Biomarker Data Repository\\data\\data-and-mechanism-project\\test-folder\n"
     ]
    }
   ],
   "source": [
    "from models.utils.config_manager import initialise_config\n",
    "\n",
    "initialise_config('test-folder', verbose=1)"
   ]
  },
  {
   "cell_type": "markdown",
   "id": "a88c6127",
   "metadata": {},
   "source": [
    "# Run"
   ]
  },
  {
   "cell_type": "code",
   "execution_count": null,
   "id": "8f25f5d5",
   "metadata": {},
   "outputs": [],
   "source": [
    "\n"
   ]
  },
  {
   "cell_type": "code",
   "execution_count": 7,
   "id": "db78ab1b",
   "metadata": {},
   "outputs": [
    {
     "data": {
      "text/plain": [
       "{'spec': {'n_reps': 10,\n",
       "  'n_layers': 2,\n",
       "  'n_cascades': 3,\n",
       "  'n_regs': 5,\n",
       "  'gen_seed': 42,\n",
       "  'drug': {'name': 'D', 'start': 100, 'dose': 200}},\n",
       " 'parameter_generation': {'ic_range': [0, 100],\n",
       "  'param_range': [0.5, 1.5],\n",
       "  'param_mul_range': [0.99, 1.01]},\n",
       " 'simulation': {'start': 0, 'stop': 200, 'step': 100}}"
      ]
     },
     "execution_count": 7,
     "metadata": {},
     "output_type": "execute_result"
    }
   ],
   "source": [
    "exp_params"
   ]
  }
 ],
 "metadata": {
  "kernelspec": {
   "display_name": "new-peak-project",
   "language": "python",
   "name": "python3"
  },
  "language_info": {
   "codemirror_mode": {
    "name": "ipython",
    "version": 3
   },
   "file_extension": ".py",
   "mimetype": "text/x-python",
   "name": "python",
   "nbconvert_exporter": "python",
   "pygments_lexer": "ipython3",
   "version": "3.12.10"
  }
 },
 "nbformat": 4,
 "nbformat_minor": 5
}
