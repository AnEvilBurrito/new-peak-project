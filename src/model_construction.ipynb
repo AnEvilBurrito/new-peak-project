{
 "cells": [
  {
   "cell_type": "markdown",
   "metadata": {},
   "source": [
    "## PEAK 3 Y24 phosphorylation"
   ]
  },
  {
   "cell_type": "code",
   "execution_count": 4,
   "metadata": {},
   "outputs": [
    {
     "name": "stdout",
     "output_type": "stream",
     "text": [
      "model PEAK3\n",
      "\n",
      "J0: PEAK3_Y24 -> PEAK3_Y24P; J0_Vmax*PEAK3_Y24/(J0_Km + PEAK3_Y24)\n",
      "J1: PEAK3_Y24P -> PEAK3_Y24; J1_Vmax*PEAK3_Y24P/(J1_Km + PEAK3_Y24P)\n",
      "\n",
      "# State variables in the system\n",
      "PEAK3_Y24=100\n",
      "PEAK3_Y24P=0\n",
      "\n",
      "# Parameters in the system\n",
      "J0_Km=100\n",
      "J0_Vmax=10\n",
      "J1_Km=100\n",
      "J1_Vmax=10\n",
      "\n",
      "end\n"
     ]
    },
    {
     "data": {
      "image/png": "[encoded data removed]",
      "text/plain": [
       "<Figure size 432x288 with 1 Axes>"
      ]
     },
     "metadata": {
      "needs_background": "light"
     },
     "output_type": "display_data"
    }
   ],
   "source": [
    "from models.ModelBuilder import ModelBuilder\n",
    "from models.Reaction import Reaction\n",
    "from models.ReactionArchtype import ReactionArchtype\n",
    "from models.ArchtypeCollections import *\n",
    "\n",
    "model = ModelBuilder('PEAK3')\n",
    "model.add_reaction(Reaction(michaelis_menten, ('PEAK3_Y24',), ('PEAK3_Y24P',)))\n",
    "model.add_reaction(Reaction(michaelis_menten, ('PEAK3_Y24P',), ('PEAK3_Y24',), reactant_values=0, product_values=100))\n",
    "\n",
    "print(model.get_antimony_model())\n",
    "\n",
    "model.simulate(0, 100, 100)\n",
    "model.plot()\n"
   ]
  },
  {
   "cell_type": "code",
   "execution_count": 16,
   "metadata": {},
   "outputs": [
    {
     "name": "stdout",
     "output_type": "stream",
     "text": [
      "Antimony model compiled without error\n",
      "       time, [PEAK3],  [GRB2], [PEAK3_GRB2], [CRKII], [PEAK3_CRKII], [TotalGRB2], [ASAP1], [GRB2_ASAP1], [TotalCRKII], [CRKII_ASAP1]\n",
      " [[       0,     100,     100,            0,     100,             0,         100,     100,            0,          100,             0],\n",
      "  [  1.0101, 69.3584, 84.6792,      15.3208, 84.6792,       15.3208,     84.6792, 69.3584,      15.3208,      84.6792,       15.3208],\n",
      "  [  2.0202,  50.968,  75.484,       24.516,  75.484,        24.516,      75.484,  50.968,       24.516,       75.484,        24.516],\n",
      "  [  3.0303, 39.0342, 69.5171,      30.4829, 69.5171,       30.4829,     69.5171, 39.0342,      30.4829,      69.5171,       30.4829],\n",
      "  [  4.0404, 30.8931, 65.4465,      34.5535, 65.4465,       34.5535,     65.4465, 30.8931,      34.5535,      65.4465,       34.5535],\n",
      "  [ 5.05051, 25.1484, 62.5742,      37.4258, 62.5742,       37.4258,     62.5742, 25.1484,      37.4258,      62.5742,       37.4258],\n",
      "  [ 6.06061, 20.9973, 60.4986,      39.5014, 60.4986,       39.5014,     60.4986, 20.9973,      39.5014,      60.4986,       39.5014],\n",
      "  [ 7.07071, 17.9459,  58.973,       41.027,  58.973,        41.027,      58.973, 17.9459,       41.027,       58.973,        41.027],\n",
      "  [ 8.08081, 15.6747, 57.8373,      42.1627, 57.8373,       42.1627,     57.8373, 15.6747,      42.1627,      57.8373,       42.1627],\n",
      "  [ 9.09091, 13.9682, 56.9841,      43.0159, 56.9841,       43.0159,     56.9841, 13.9682,      43.0159,      56.9841,       43.0159],\n",
      "  [  10.101, 12.6772, 56.3386,      43.6614, 56.3386,       43.6614,     56.3386, 12.6772,      43.6614,      56.3386,       43.6614],\n",
      "  [ 11.1111, 11.6952, 55.8476,      44.1524, 55.8476,       44.1524,     55.8476, 11.6952,      44.1524,      55.8476,       44.1524],\n",
      "  [ 12.1212, 10.9453, 55.4727,      44.5273, 55.4727,       44.5273,     55.4727, 10.9453,      44.5273,      55.4727,       44.5273],\n",
      "  [ 13.1313, 10.3709, 55.1854,      44.8146, 55.1854,       44.8146,     55.1854, 10.3709,      44.8146,      55.1854,       44.8146],\n",
      "  [ 14.1414, 9.92981, 54.9649,      45.0351, 54.9649,       45.0351,     54.9649, 9.92981,      45.0351,      54.9649,       45.0351],\n",
      "  [ 15.1515, 9.59056, 54.7953,      45.2047, 54.7953,       45.2047,     54.7953, 9.59056,      45.2047,      54.7953,       45.2047],\n",
      "  [ 16.1616, 9.32925, 54.6646,      45.3354, 54.6646,       45.3354,     54.6646, 9.32925,      45.3354,      54.6646,       45.3354],\n",
      "  [ 17.1717, 9.12775, 54.5639,      45.4361, 54.5639,       45.4361,     54.5639, 9.12775,      45.4361,      54.5639,       45.4361],\n",
      "  [ 18.1818, 8.97225, 54.4861,      45.5139, 54.4861,       45.5139,     54.4861, 8.97225,      45.5139,      54.4861,       45.5139],\n",
      "  [ 19.1919, 8.85217, 54.4261,      45.5739, 54.4261,       45.5739,     54.4261, 8.85217,      45.5739,      54.4261,       45.5739],\n",
      "  [  20.202, 8.75939, 54.3797,      45.6203, 54.3797,       45.6203,     54.3797, 8.75939,      45.6203,      54.3797,       45.6203],\n",
      "  [ 21.2121, 8.68769, 54.3438,      45.6562, 54.3438,       45.6562,     54.3438, 8.68769,      45.6562,      54.3438,       45.6562],\n",
      "  [ 22.2222, 8.63225, 54.3161,      45.6839, 54.3161,       45.6839,     54.3161, 8.63225,      45.6839,      54.3161,       45.6839],\n",
      "  [ 23.2323, 8.58938, 54.2947,      45.7053, 54.2947,       45.7053,     54.2947, 8.58938,      45.7053,      54.2947,       45.7053],\n",
      "  [ 24.2424, 8.55623, 54.2781,      45.7219, 54.2781,       45.7219,     54.2781, 8.55623,      45.7219,      54.2781,       45.7219],\n",
      "  [ 25.2525, 8.53059, 54.2653,      45.7347, 54.2653,       45.7347,     54.2653, 8.53059,      45.7347,      54.2653,       45.7347],\n",
      "  [ 26.2626, 8.51076, 54.2554,      45.7446, 54.2554,       45.7446,     54.2554, 8.51076,      45.7446,      54.2554,       45.7446],\n",
      "  [ 27.2727, 8.49541, 54.2477,      45.7523, 54.2477,       45.7523,     54.2477, 8.49541,      45.7523,      54.2477,       45.7523],\n",
      "  [ 28.2828, 8.48353, 54.2418,      45.7582, 54.2418,       45.7582,     54.2418, 8.48353,      45.7582,      54.2418,       45.7582],\n",
      "  [ 29.2929, 8.47434, 54.2372,      45.7628, 54.2372,       45.7628,     54.2372, 8.47434,      45.7628,      54.2372,       45.7628],\n",
      "  [  30.303, 8.46723, 54.2336,      45.7664, 54.2336,       45.7664,     54.2336, 8.46723,      45.7664,      54.2336,       45.7664],\n",
      "  [ 31.3131, 8.46173, 54.2309,      45.7691, 54.2309,       45.7691,     54.2309, 8.46173,      45.7691,      54.2309,       45.7691],\n",
      "  [ 32.3232, 8.45749, 54.2287,      45.7713, 54.2287,       45.7713,     54.2287, 8.45749,      45.7713,      54.2287,       45.7713],\n",
      "  [ 33.3333, 8.45421, 54.2271,      45.7729, 54.2271,       45.7729,     54.2271, 8.45421,      45.7729,      54.2271,       45.7729],\n",
      "  [ 34.3434, 8.45166, 54.2258,      45.7742, 54.2258,       45.7742,     54.2258, 8.45166,      45.7742,      54.2258,       45.7742],\n",
      "  [ 35.3535, 8.44968, 54.2248,      45.7752, 54.2248,       45.7752,     54.2248, 8.44968,      45.7752,      54.2248,       45.7752],\n",
      "  [ 36.3636, 8.44815, 54.2241,      45.7759, 54.2241,       45.7759,     54.2241, 8.44815,      45.7759,      54.2241,       45.7759],\n",
      "  [ 37.3737, 8.44696, 54.2235,      45.7765, 54.2235,       45.7765,     54.2235, 8.44696,      45.7765,      54.2235,       45.7765],\n",
      "  [ 38.3838, 8.44604,  54.223,       45.777,  54.223,        45.777,      54.223, 8.44604,       45.777,       54.223,        45.777],\n",
      "  [ 39.3939, 8.44533, 54.2227,      45.7773, 54.2227,       45.7773,     54.2227, 8.44533,      45.7773,      54.2227,       45.7773],\n",
      "  [  40.404, 8.44478, 54.2224,      45.7776, 54.2224,       45.7776,     54.2224, 8.44478,      45.7776,      54.2224,       45.7776],\n",
      "  [ 41.4141, 8.44436, 54.2222,      45.7778, 54.2222,       45.7778,     54.2222, 8.44436,      45.7778,      54.2222,       45.7778],\n",
      "  [ 42.4242, 8.44402,  54.222,       45.778,  54.222,        45.778,      54.222, 8.44402,       45.778,       54.222,        45.778],\n",
      "  [ 43.4343, 8.44377, 54.2219,      45.7781, 54.2219,       45.7781,     54.2219, 8.44377,      45.7781,      54.2219,       45.7781],\n",
      "  [ 44.4444, 8.44357, 54.2218,      45.7782, 54.2218,       45.7782,     54.2218, 8.44357,      45.7782,      54.2218,       45.7782],\n",
      "  [ 45.4545, 8.44341, 54.2217,      45.7783, 54.2217,       45.7783,     54.2217, 8.44341,      45.7783,      54.2217,       45.7783],\n",
      "  [ 46.4646,  8.4433, 54.2216,      45.7784, 54.2216,       45.7784,     54.2216,  8.4433,      45.7784,      54.2216,       45.7784],\n",
      "  [ 47.4747, 8.44321, 54.2216,      45.7784, 54.2216,       45.7784,     54.2216, 8.44321,      45.7784,      54.2216,       45.7784],\n",
      "  [ 48.4848, 8.44314, 54.2216,      45.7784, 54.2216,       45.7784,     54.2216, 8.44314,      45.7784,      54.2216,       45.7784],\n",
      "  [ 49.4949,  8.4431, 54.2216,      45.7784, 54.2216,       45.7784,     54.2216,  8.4431,      45.7784,      54.2216,       45.7784],\n",
      "  [ 50.5051, 8.44308, 54.2215,      45.7785, 54.2215,       45.7785,     54.2215, 8.44308,      45.7785,      54.2215,       45.7785],\n",
      "  [ 51.5152, 8.44305, 54.2215,      45.7785, 54.2215,       45.7785,     54.2215, 8.44305,      45.7785,      54.2215,       45.7785],\n",
      "  [ 52.5253, 8.44302, 54.2215,      45.7785, 54.2215,       45.7785,     54.2215, 8.44302,      45.7785,      54.2215,       45.7785],\n",
      "  [ 53.5354,   8.443, 54.2215,      45.7785, 54.2215,       45.7785,     54.2215,   8.443,      45.7785,      54.2215,       45.7785],\n",
      "  [ 54.5455, 8.44298, 54.2215,      45.7785, 54.2215,       45.7785,     54.2215, 8.44298,      45.7785,      54.2215,       45.7785],\n",
      "  [ 55.5556, 8.44295, 54.2215,      45.7785, 54.2215,       45.7785,     54.2215, 8.44295,      45.7785,      54.2215,       45.7785],\n",
      "  [ 56.5657, 8.44293, 54.2215,      45.7785, 54.2215,       45.7785,     54.2215, 8.44293,      45.7785,      54.2215,       45.7785],\n",
      "  [ 57.5758, 8.44292, 54.2215,      45.7785, 54.2215,       45.7785,     54.2215, 8.44292,      45.7785,      54.2215,       45.7785],\n",
      "  [ 58.5859,  8.4429, 54.2215,      45.7785, 54.2215,       45.7785,     54.2215,  8.4429,      45.7785,      54.2215,       45.7785],\n",
      "  [  59.596,  8.4429, 54.2214,      45.7786, 54.2214,       45.7786,     54.2214,  8.4429,      45.7786,      54.2214,       45.7786],\n",
      "  [ 60.6061, 8.44289, 54.2214,      45.7786, 54.2214,       45.7786,     54.2214, 8.44289,      45.7786,      54.2214,       45.7786],\n",
      "  [ 61.6162, 8.44289, 54.2214,      45.7786, 54.2214,       45.7786,     54.2214, 8.44289,      45.7786,      54.2214,       45.7786],\n",
      "  [ 62.6263,  8.4429, 54.2214,      45.7786, 54.2214,       45.7786,     54.2214,  8.4429,      45.7786,      54.2214,       45.7786],\n",
      "  [ 63.6364,  8.4429, 54.2214,      45.7786, 54.2214,       45.7786,     54.2214,  8.4429,      45.7786,      54.2214,       45.7786],\n",
      "  [ 64.6465,  8.4429, 54.2214,      45.7786, 54.2214,       45.7786,     54.2214,  8.4429,      45.7786,      54.2214,       45.7786],\n",
      "  [ 65.6566,  8.4429, 54.2214,      45.7786, 54.2214,       45.7786,     54.2214,  8.4429,      45.7786,      54.2214,       45.7786],\n",
      "  [ 66.6667,  8.4429, 54.2214,      45.7786, 54.2214,       45.7786,     54.2214,  8.4429,      45.7786,      54.2214,       45.7786],\n",
      "  [ 67.6768, 8.44289, 54.2214,      45.7786, 54.2214,       45.7786,     54.2214, 8.44289,      45.7786,      54.2214,       45.7786],\n",
      "  [ 68.6869, 8.44289, 54.2214,      45.7786, 54.2214,       45.7786,     54.2214, 8.44289,      45.7786,      54.2214,       45.7786],\n",
      "  [  69.697, 8.44289, 54.2214,      45.7786, 54.2214,       45.7786,     54.2214, 8.44289,      45.7786,      54.2214,       45.7786],\n",
      "  [ 70.7071, 8.44289, 54.2214,      45.7786, 54.2214,       45.7786,     54.2214, 8.44289,      45.7786,      54.2214,       45.7786],\n",
      "  [ 71.7172, 8.44289, 54.2214,      45.7786, 54.2214,       45.7786,     54.2214, 8.44289,      45.7786,      54.2214,       45.7786],\n",
      "  [ 72.7273, 8.44289, 54.2214,      45.7786, 54.2214,       45.7786,     54.2214, 8.44289,      45.7786,      54.2214,       45.7786],\n",
      "  [ 73.7374, 8.44289, 54.2214,      45.7786, 54.2214,       45.7786,     54.2214, 8.44289,      45.7786,      54.2214,       45.7786],\n",
      "  [ 74.7475, 8.44289, 54.2214,      45.7786, 54.2214,       45.7786,     54.2214, 8.44289,      45.7786,      54.2214,       45.7786],\n",
      "  [ 75.7576, 8.44289, 54.2214,      45.7786, 54.2214,       45.7786,     54.2214, 8.44289,      45.7786,      54.2214,       45.7786],\n",
      "  [ 76.7677, 8.44289, 54.2214,      45.7786, 54.2214,       45.7786,     54.2214, 8.44289,      45.7786,      54.2214,       45.7786],\n",
      "  [ 77.7778, 8.44289, 54.2214,      45.7786, 54.2214,       45.7786,     54.2214, 8.44289,      45.7786,      54.2214,       45.7786],\n",
      "  [ 78.7879,  8.4429, 54.2214,      45.7786, 54.2214,       45.7786,     54.2214,  8.4429,      45.7786,      54.2214,       45.7786],\n",
      "  [  79.798,  8.4429, 54.2215,      45.7785, 54.2215,       45.7785,     54.2215,  8.4429,      45.7785,      54.2215,       45.7785],\n",
      "  [ 80.8081,  8.4429, 54.2215,      45.7785, 54.2215,       45.7785,     54.2215,  8.4429,      45.7785,      54.2215,       45.7785],\n",
      "  [ 81.8182, 8.44291, 54.2215,      45.7785, 54.2215,       45.7785,     54.2215, 8.44291,      45.7785,      54.2215,       45.7785],\n",
      "  [ 82.8283, 8.44291, 54.2215,      45.7785, 54.2215,       45.7785,     54.2215, 8.44291,      45.7785,      54.2215,       45.7785],\n",
      "  [ 83.8384, 8.44292, 54.2215,      45.7785, 54.2215,       45.7785,     54.2215, 8.44292,      45.7785,      54.2215,       45.7785],\n",
      "  [ 84.8485, 8.44292, 54.2215,      45.7785, 54.2215,       45.7785,     54.2215, 8.44292,      45.7785,      54.2215,       45.7785],\n",
      "  [ 85.8586, 8.44292, 54.2215,      45.7785, 54.2215,       45.7785,     54.2215, 8.44292,      45.7785,      54.2215,       45.7785],\n",
      "  [ 86.8687, 8.44292, 54.2215,      45.7785, 54.2215,       45.7785,     54.2215, 8.44292,      45.7785,      54.2215,       45.7785],\n",
      "  [ 87.8788, 8.44292, 54.2215,      45.7785, 54.2215,       45.7785,     54.2215, 8.44292,      45.7785,      54.2215,       45.7785],\n",
      "  [ 88.8889, 8.44292, 54.2215,      45.7785, 54.2215,       45.7785,     54.2215, 8.44292,      45.7785,      54.2215,       45.7785],\n",
      "  [  89.899, 8.44292, 54.2215,      45.7785, 54.2215,       45.7785,     54.2215, 8.44292,      45.7785,      54.2215,       45.7785],\n",
      "  [ 90.9091, 8.44291, 54.2215,      45.7785, 54.2215,       45.7785,     54.2215, 8.44291,      45.7785,      54.2215,       45.7785],\n",
      "  [ 91.9192, 8.44291, 54.2215,      45.7785, 54.2215,       45.7785,     54.2215, 8.44291,      45.7785,      54.2215,       45.7785],\n",
      "  [ 92.9293, 8.44291, 54.2215,      45.7785, 54.2215,       45.7785,     54.2215, 8.44291,      45.7785,      54.2215,       45.7785],\n",
      "  [ 93.9394,  8.4429, 54.2215,      45.7785, 54.2215,       45.7785,     54.2215,  8.4429,      45.7785,      54.2215,       45.7785],\n",
      "  [ 94.9495,  8.4429, 54.2214,      45.7786, 54.2214,       45.7786,     54.2214,  8.4429,      45.7786,      54.2214,       45.7786],\n",
      "  [ 95.9596,  8.4429, 54.2214,      45.7786, 54.2214,       45.7786,     54.2214,  8.4429,      45.7786,      54.2214,       45.7786],\n",
      "  [ 96.9697, 8.44289, 54.2214,      45.7786, 54.2214,       45.7786,     54.2214, 8.44289,      45.7786,      54.2214,       45.7786],\n",
      "  [ 97.9798, 8.44289, 54.2214,      45.7786, 54.2214,       45.7786,     54.2214, 8.44289,      45.7786,      54.2214,       45.7786],\n",
      "  [ 98.9899, 8.44289, 54.2214,      45.7786, 54.2214,       45.7786,     54.2214, 8.44289,      45.7786,      54.2214,       45.7786],\n",
      "  [     100, 8.44289, 54.2214,      45.7786, 54.2214,       45.7786,     54.2214, 8.44289,      45.7786,      54.2214,       45.7786]]\n",
      "\n"
     ]
    },
    {
     "data": {
      "image/png": "[encoded data removed]",
      "text/plain": [
       "<Figure size 432x288 with 1 Axes>"
      ]
     },
     "metadata": {
      "needs_background": "light"
     },
     "output_type": "display_data"
    },
    {
     "name": "stdout",
     "output_type": "stream",
     "text": [
      "['PEAK3', 'GRB2', 'PEAK3_GRB2', 'CRKII', 'PEAK3_CRKII', 'TotalGRB2', 'ASAP1', 'GRB2_ASAP1', 'TotalCRKII', 'CRKII_ASAP1', '[PEAK3]', '[GRB2]', '[PEAK3_GRB2]', '[CRKII]', '[PEAK3_CRKII]', '[TotalGRB2]', '[ASAP1]', '[GRB2_ASAP1]', '[TotalCRKII]', '[CRKII_ASAP1]', 'default_compartment', 'E0_ka', 'E0_kd', 'E0_TA', 'E0_TB', 'E1_ka', 'E1_kd', 'E1_TA', 'E1_TB', 'E2_ka', 'E2_kd', 'E2_TA', 'E2_TB', 'E3_ka', 'E3_kd', 'E3_TA', 'E3_TB', 'E0_J0', 'E0_J1', 'E1_J0', 'E1_J1', 'E2_J0', 'E2_J1', 'E3_J0', 'E3_J1', 'init([PEAK3])', 'init([GRB2])', 'init([PEAK3_GRB2])', 'init([CRKII])', 'init([PEAK3_CRKII])', 'init([TotalGRB2])', 'init([ASAP1])', 'init([GRB2_ASAP1])', 'init([TotalCRKII])', 'init([CRKII_ASAP1])', 'init(PEAK3)', 'init(GRB2)', 'init(PEAK3_GRB2)', 'init(CRKII)', 'init(PEAK3_CRKII)', 'init(TotalGRB2)', 'init(ASAP1)', 'init(GRB2_ASAP1)', 'init(TotalCRKII)', 'init(CRKII_ASAP1)', 'init(default_compartment)', 'init(E0_ka)', 'init(E0_kd)', 'init(E0_TA)', 'init(E0_TB)', 'init(E1_ka)', 'init(E1_kd)', 'init(E1_TA)', 'init(E1_TB)', 'init(E2_ka)', 'init(E2_kd)', 'init(E2_TA)', 'init(E2_TB)', 'init(E3_ka)', 'init(E3_kd)', 'init(E3_TA)', 'init(E3_TB)', \"PEAK3'\", \"GRB2'\", \"PEAK3_GRB2'\", \"CRKII'\", \"PEAK3_CRKII'\", \"TotalGRB2'\", \"ASAP1'\", \"GRB2_ASAP1'\", \"TotalCRKII'\", \"CRKII_ASAP1'\", \"[PEAK3]'\", \"[GRB2]'\", \"[PEAK3_GRB2]'\", \"[CRKII]'\", \"[PEAK3_CRKII]'\", \"[TotalGRB2]'\", \"[ASAP1]'\", \"[GRB2_ASAP1]'\", \"[TotalCRKII]'\", \"[CRKII_ASAP1]'\", 'stoich(PEAK3, E0_J0)', 'stoich(PEAK3, E0_J1)', 'stoich(PEAK3, E1_J0)', 'stoich(PEAK3, E1_J1)', 'stoich(GRB2, E0_J0)', 'stoich(GRB2, E0_J1)', 'stoich(PEAK3_GRB2, E0_J0)', 'stoich(PEAK3_GRB2, E0_J1)', 'stoich(CRKII, E1_J0)', 'stoich(CRKII, E1_J1)', 'stoich(PEAK3_CRKII, E1_J0)', 'stoich(PEAK3_CRKII, E1_J1)', 'stoich(TotalGRB2, E2_J0)', 'stoich(TotalGRB2, E2_J1)', 'stoich(ASAP1, E2_J0)', 'stoich(ASAP1, E2_J1)', 'stoich(ASAP1, E3_J0)', 'stoich(ASAP1, E3_J1)', 'stoich(GRB2_ASAP1, E2_J0)', 'stoich(GRB2_ASAP1, E2_J1)', 'stoich(TotalCRKII, E3_J0)', 'stoich(TotalCRKII, E3_J1)', 'stoich(CRKII_ASAP1, E3_J0)', 'stoich(CRKII_ASAP1, E3_J1)', 'uec(E0_J0, PEAK3)', 'uec(E0_J0, GRB2)', 'uec(E0_J0, PEAK3_GRB2)', 'uec(E0_J0, CRKII)', 'uec(E0_J0, PEAK3_CRKII)', 'uec(E0_J0, TotalGRB2)', 'uec(E0_J0, ASAP1)', 'uec(E0_J0, GRB2_ASAP1)', 'uec(E0_J0, TotalCRKII)', 'uec(E0_J0, CRKII_ASAP1)', 'uec(E0_J0, E0_ka)', 'uec(E0_J0, E0_kd)', 'uec(E0_J0, E0_TA)', 'uec(E0_J0, E0_TB)', 'uec(E0_J0, E1_ka)', 'uec(E0_J0, E1_kd)', 'uec(E0_J0, E1_TA)', 'uec(E0_J0, E1_TB)', 'uec(E0_J0, E2_ka)', 'uec(E0_J0, E2_kd)', 'uec(E0_J0, E2_TA)', 'uec(E0_J0, E2_TB)', 'uec(E0_J0, E3_ka)', 'uec(E0_J0, E3_kd)', 'uec(E0_J0, E3_TA)', 'uec(E0_J0, E3_TB)', 'uec(E0_J1, PEAK3)', 'uec(E0_J1, GRB2)', 'uec(E0_J1, PEAK3_GRB2)', 'uec(E0_J1, CRKII)', 'uec(E0_J1, PEAK3_CRKII)', 'uec(E0_J1, TotalGRB2)', 'uec(E0_J1, ASAP1)', 'uec(E0_J1, GRB2_ASAP1)', 'uec(E0_J1, TotalCRKII)', 'uec(E0_J1, CRKII_ASAP1)', 'uec(E0_J1, E0_ka)', 'uec(E0_J1, E0_kd)', 'uec(E0_J1, E0_TA)', 'uec(E0_J1, E0_TB)', 'uec(E0_J1, E1_ka)', 'uec(E0_J1, E1_kd)', 'uec(E0_J1, E1_TA)', 'uec(E0_J1, E1_TB)', 'uec(E0_J1, E2_ka)', 'uec(E0_J1, E2_kd)', 'uec(E0_J1, E2_TA)', 'uec(E0_J1, E2_TB)', 'uec(E0_J1, E3_ka)', 'uec(E0_J1, E3_kd)', 'uec(E0_J1, E3_TA)', 'uec(E0_J1, E3_TB)', 'uec(E1_J0, PEAK3)', 'uec(E1_J0, GRB2)', 'uec(E1_J0, PEAK3_GRB2)', 'uec(E1_J0, CRKII)', 'uec(E1_J0, PEAK3_CRKII)', 'uec(E1_J0, TotalGRB2)', 'uec(E1_J0, ASAP1)', 'uec(E1_J0, GRB2_ASAP1)', 'uec(E1_J0, TotalCRKII)', 'uec(E1_J0, CRKII_ASAP1)', 'uec(E1_J0, E0_ka)', 'uec(E1_J0, E0_kd)', 'uec(E1_J0, E0_TA)', 'uec(E1_J0, E0_TB)', 'uec(E1_J0, E1_ka)', 'uec(E1_J0, E1_kd)', 'uec(E1_J0, E1_TA)', 'uec(E1_J0, E1_TB)', 'uec(E1_J0, E2_ka)', 'uec(E1_J0, E2_kd)', 'uec(E1_J0, E2_TA)', 'uec(E1_J0, E2_TB)', 'uec(E1_J0, E3_ka)', 'uec(E1_J0, E3_kd)', 'uec(E1_J0, E3_TA)', 'uec(E1_J0, E3_TB)', 'uec(E1_J1, PEAK3)', 'uec(E1_J1, GRB2)', 'uec(E1_J1, PEAK3_GRB2)', 'uec(E1_J1, CRKII)', 'uec(E1_J1, PEAK3_CRKII)', 'uec(E1_J1, TotalGRB2)', 'uec(E1_J1, ASAP1)', 'uec(E1_J1, GRB2_ASAP1)', 'uec(E1_J1, TotalCRKII)', 'uec(E1_J1, CRKII_ASAP1)', 'uec(E1_J1, E0_ka)', 'uec(E1_J1, E0_kd)', 'uec(E1_J1, E0_TA)', 'uec(E1_J1, E0_TB)', 'uec(E1_J1, E1_ka)', 'uec(E1_J1, E1_kd)', 'uec(E1_J1, E1_TA)', 'uec(E1_J1, E1_TB)', 'uec(E1_J1, E2_ka)', 'uec(E1_J1, E2_kd)', 'uec(E1_J1, E2_TA)', 'uec(E1_J1, E2_TB)', 'uec(E1_J1, E3_ka)', 'uec(E1_J1, E3_kd)', 'uec(E1_J1, E3_TA)', 'uec(E1_J1, E3_TB)', 'uec(E2_J0, PEAK3)', 'uec(E2_J0, GRB2)', 'uec(E2_J0, PEAK3_GRB2)', 'uec(E2_J0, CRKII)', 'uec(E2_J0, PEAK3_CRKII)', 'uec(E2_J0, TotalGRB2)', 'uec(E2_J0, ASAP1)', 'uec(E2_J0, GRB2_ASAP1)', 'uec(E2_J0, TotalCRKII)', 'uec(E2_J0, CRKII_ASAP1)', 'uec(E2_J0, E0_ka)', 'uec(E2_J0, E0_kd)', 'uec(E2_J0, E0_TA)', 'uec(E2_J0, E0_TB)', 'uec(E2_J0, E1_ka)', 'uec(E2_J0, E1_kd)', 'uec(E2_J0, E1_TA)', 'uec(E2_J0, E1_TB)', 'uec(E2_J0, E2_ka)', 'uec(E2_J0, E2_kd)', 'uec(E2_J0, E2_TA)', 'uec(E2_J0, E2_TB)', 'uec(E2_J0, E3_ka)', 'uec(E2_J0, E3_kd)', 'uec(E2_J0, E3_TA)', 'uec(E2_J0, E3_TB)', 'uec(E2_J1, PEAK3)', 'uec(E2_J1, GRB2)', 'uec(E2_J1, PEAK3_GRB2)', 'uec(E2_J1, CRKII)', 'uec(E2_J1, PEAK3_CRKII)', 'uec(E2_J1, TotalGRB2)', 'uec(E2_J1, ASAP1)', 'uec(E2_J1, GRB2_ASAP1)', 'uec(E2_J1, TotalCRKII)', 'uec(E2_J1, CRKII_ASAP1)', 'uec(E2_J1, E0_ka)', 'uec(E2_J1, E0_kd)', 'uec(E2_J1, E0_TA)', 'uec(E2_J1, E0_TB)', 'uec(E2_J1, E1_ka)', 'uec(E2_J1, E1_kd)', 'uec(E2_J1, E1_TA)', 'uec(E2_J1, E1_TB)', 'uec(E2_J1, E2_ka)', 'uec(E2_J1, E2_kd)', 'uec(E2_J1, E2_TA)', 'uec(E2_J1, E2_TB)', 'uec(E2_J1, E3_ka)', 'uec(E2_J1, E3_kd)', 'uec(E2_J1, E3_TA)', 'uec(E2_J1, E3_TB)', 'uec(E3_J0, PEAK3)', 'uec(E3_J0, GRB2)', 'uec(E3_J0, PEAK3_GRB2)', 'uec(E3_J0, CRKII)', 'uec(E3_J0, PEAK3_CRKII)', 'uec(E3_J0, TotalGRB2)', 'uec(E3_J0, ASAP1)', 'uec(E3_J0, GRB2_ASAP1)', 'uec(E3_J0, TotalCRKII)', 'uec(E3_J0, CRKII_ASAP1)', 'uec(E3_J0, E0_ka)', 'uec(E3_J0, E0_kd)', 'uec(E3_J0, E0_TA)', 'uec(E3_J0, E0_TB)', 'uec(E3_J0, E1_ka)', 'uec(E3_J0, E1_kd)', 'uec(E3_J0, E1_TA)', 'uec(E3_J0, E1_TB)', 'uec(E3_J0, E2_ka)', 'uec(E3_J0, E2_kd)', 'uec(E3_J0, E2_TA)', 'uec(E3_J0, E2_TB)', 'uec(E3_J0, E3_ka)', 'uec(E3_J0, E3_kd)', 'uec(E3_J0, E3_TA)', 'uec(E3_J0, E3_TB)', 'uec(E3_J1, PEAK3)', 'uec(E3_J1, GRB2)', 'uec(E3_J1, PEAK3_GRB2)', 'uec(E3_J1, CRKII)', 'uec(E3_J1, PEAK3_CRKII)', 'uec(E3_J1, TotalGRB2)', 'uec(E3_J1, ASAP1)', 'uec(E3_J1, GRB2_ASAP1)', 'uec(E3_J1, TotalCRKII)', 'uec(E3_J1, CRKII_ASAP1)', 'uec(E3_J1, E0_ka)', 'uec(E3_J1, E0_kd)', 'uec(E3_J1, E0_TA)', 'uec(E3_J1, E0_TB)', 'uec(E3_J1, E1_ka)', 'uec(E3_J1, E1_kd)', 'uec(E3_J1, E1_TA)', 'uec(E3_J1, E1_TB)', 'uec(E3_J1, E2_ka)', 'uec(E3_J1, E2_kd)', 'uec(E3_J1, E2_TA)', 'uec(E3_J1, E2_TB)', 'uec(E3_J1, E3_ka)', 'uec(E3_J1, E3_kd)', 'uec(E3_J1, E3_TA)', 'uec(E3_J1, E3_TB)', 'ec(E0_J0, PEAK3)', 'ec(E0_J0, GRB2)', 'ec(E0_J0, PEAK3_GRB2)', 'ec(E0_J0, CRKII)', 'ec(E0_J0, PEAK3_CRKII)', 'ec(E0_J0, TotalGRB2)', 'ec(E0_J0, ASAP1)', 'ec(E0_J0, GRB2_ASAP1)', 'ec(E0_J0, TotalCRKII)', 'ec(E0_J0, CRKII_ASAP1)', 'ec(E0_J0, E0_ka)', 'ec(E0_J0, E0_kd)', 'ec(E0_J0, E0_TA)', 'ec(E0_J0, E0_TB)', 'ec(E0_J0, E1_ka)', 'ec(E0_J0, E1_kd)', 'ec(E0_J0, E1_TA)', 'ec(E0_J0, E1_TB)', 'ec(E0_J0, E2_ka)', 'ec(E0_J0, E2_kd)', 'ec(E0_J0, E2_TA)', 'ec(E0_J0, E2_TB)', 'ec(E0_J0, E3_ka)', 'ec(E0_J0, E3_kd)', 'ec(E0_J0, E3_TA)', 'ec(E0_J0, E3_TB)', 'ec(E0_J1, PEAK3)', 'ec(E0_J1, GRB2)', 'ec(E0_J1, PEAK3_GRB2)', 'ec(E0_J1, CRKII)', 'ec(E0_J1, PEAK3_CRKII)', 'ec(E0_J1, TotalGRB2)', 'ec(E0_J1, ASAP1)', 'ec(E0_J1, GRB2_ASAP1)', 'ec(E0_J1, TotalCRKII)', 'ec(E0_J1, CRKII_ASAP1)', 'ec(E0_J1, E0_ka)', 'ec(E0_J1, E0_kd)', 'ec(E0_J1, E0_TA)', 'ec(E0_J1, E0_TB)', 'ec(E0_J1, E1_ka)', 'ec(E0_J1, E1_kd)', 'ec(E0_J1, E1_TA)', 'ec(E0_J1, E1_TB)', 'ec(E0_J1, E2_ka)', 'ec(E0_J1, E2_kd)', 'ec(E0_J1, E2_TA)', 'ec(E0_J1, E2_TB)', 'ec(E0_J1, E3_ka)', 'ec(E0_J1, E3_kd)', 'ec(E0_J1, E3_TA)', 'ec(E0_J1, E3_TB)', 'ec(E1_J0, PEAK3)', 'ec(E1_J0, GRB2)', 'ec(E1_J0, PEAK3_GRB2)', 'ec(E1_J0, CRKII)', 'ec(E1_J0, PEAK3_CRKII)', 'ec(E1_J0, TotalGRB2)', 'ec(E1_J0, ASAP1)', 'ec(E1_J0, GRB2_ASAP1)', 'ec(E1_J0, TotalCRKII)', 'ec(E1_J0, CRKII_ASAP1)', 'ec(E1_J0, E0_ka)', 'ec(E1_J0, E0_kd)', 'ec(E1_J0, E0_TA)', 'ec(E1_J0, E0_TB)', 'ec(E1_J0, E1_ka)', 'ec(E1_J0, E1_kd)', 'ec(E1_J0, E1_TA)', 'ec(E1_J0, E1_TB)', 'ec(E1_J0, E2_ka)', 'ec(E1_J0, E2_kd)', 'ec(E1_J0, E2_TA)', 'ec(E1_J0, E2_TB)', 'ec(E1_J0, E3_ka)', 'ec(E1_J0, E3_kd)', 'ec(E1_J0, E3_TA)', 'ec(E1_J0, E3_TB)', 'ec(E1_J1, PEAK3)', 'ec(E1_J1, GRB2)', 'ec(E1_J1, PEAK3_GRB2)', 'ec(E1_J1, CRKII)', 'ec(E1_J1, PEAK3_CRKII)', 'ec(E1_J1, TotalGRB2)', 'ec(E1_J1, ASAP1)', 'ec(E1_J1, GRB2_ASAP1)', 'ec(E1_J1, TotalCRKII)', 'ec(E1_J1, CRKII_ASAP1)', 'ec(E1_J1, E0_ka)', 'ec(E1_J1, E0_kd)', 'ec(E1_J1, E0_TA)', 'ec(E1_J1, E0_TB)', 'ec(E1_J1, E1_ka)', 'ec(E1_J1, E1_kd)', 'ec(E1_J1, E1_TA)', 'ec(E1_J1, E1_TB)', 'ec(E1_J1, E2_ka)', 'ec(E1_J1, E2_kd)', 'ec(E1_J1, E2_TA)', 'ec(E1_J1, E2_TB)', 'ec(E1_J1, E3_ka)', 'ec(E1_J1, E3_kd)', 'ec(E1_J1, E3_TA)', 'ec(E1_J1, E3_TB)', 'ec(E2_J0, PEAK3)', 'ec(E2_J0, GRB2)', 'ec(E2_J0, PEAK3_GRB2)', 'ec(E2_J0, CRKII)', 'ec(E2_J0, PEAK3_CRKII)', 'ec(E2_J0, TotalGRB2)', 'ec(E2_J0, ASAP1)', 'ec(E2_J0, GRB2_ASAP1)', 'ec(E2_J0, TotalCRKII)', 'ec(E2_J0, CRKII_ASAP1)', 'ec(E2_J0, E0_ka)', 'ec(E2_J0, E0_kd)', 'ec(E2_J0, E0_TA)', 'ec(E2_J0, E0_TB)', 'ec(E2_J0, E1_ka)', 'ec(E2_J0, E1_kd)', 'ec(E2_J0, E1_TA)', 'ec(E2_J0, E1_TB)', 'ec(E2_J0, E2_ka)', 'ec(E2_J0, E2_kd)', 'ec(E2_J0, E2_TA)', 'ec(E2_J0, E2_TB)', 'ec(E2_J0, E3_ka)', 'ec(E2_J0, E3_kd)', 'ec(E2_J0, E3_TA)', 'ec(E2_J0, E3_TB)', 'ec(E2_J1, PEAK3)', 'ec(E2_J1, GRB2)', 'ec(E2_J1, PEAK3_GRB2)', 'ec(E2_J1, CRKII)', 'ec(E2_J1, PEAK3_CRKII)', 'ec(E2_J1, TotalGRB2)', 'ec(E2_J1, ASAP1)', 'ec(E2_J1, GRB2_ASAP1)', 'ec(E2_J1, TotalCRKII)', 'ec(E2_J1, CRKII_ASAP1)', 'ec(E2_J1, E0_ka)', 'ec(E2_J1, E0_kd)', 'ec(E2_J1, E0_TA)', 'ec(E2_J1, E0_TB)', 'ec(E2_J1, E1_ka)', 'ec(E2_J1, E1_kd)', 'ec(E2_J1, E1_TA)', 'ec(E2_J1, E1_TB)', 'ec(E2_J1, E2_ka)', 'ec(E2_J1, E2_kd)', 'ec(E2_J1, E2_TA)', 'ec(E2_J1, E2_TB)', 'ec(E2_J1, E3_ka)', 'ec(E2_J1, E3_kd)', 'ec(E2_J1, E3_TA)', 'ec(E2_J1, E3_TB)', 'ec(E3_J0, PEAK3)', 'ec(E3_J0, GRB2)', 'ec(E3_J0, PEAK3_GRB2)', 'ec(E3_J0, CRKII)', 'ec(E3_J0, PEAK3_CRKII)', 'ec(E3_J0, TotalGRB2)', 'ec(E3_J0, ASAP1)', 'ec(E3_J0, GRB2_ASAP1)', 'ec(E3_J0, TotalCRKII)', 'ec(E3_J0, CRKII_ASAP1)', 'ec(E3_J0, E0_ka)', 'ec(E3_J0, E0_kd)', 'ec(E3_J0, E0_TA)', 'ec(E3_J0, E0_TB)', 'ec(E3_J0, E1_ka)', 'ec(E3_J0, E1_kd)', 'ec(E3_J0, E1_TA)', 'ec(E3_J0, E1_TB)', 'ec(E3_J0, E2_ka)', 'ec(E3_J0, E2_kd)', 'ec(E3_J0, E2_TA)', 'ec(E3_J0, E2_TB)', 'ec(E3_J0, E3_ka)', 'ec(E3_J0, E3_kd)', 'ec(E3_J0, E3_TA)', 'ec(E3_J0, E3_TB)', 'ec(E3_J1, PEAK3)', 'ec(E3_J1, GRB2)', 'ec(E3_J1, PEAK3_GRB2)', 'ec(E3_J1, CRKII)', 'ec(E3_J1, PEAK3_CRKII)', 'ec(E3_J1, TotalGRB2)', 'ec(E3_J1, ASAP1)', 'ec(E3_J1, GRB2_ASAP1)', 'ec(E3_J1, TotalCRKII)', 'ec(E3_J1, CRKII_ASAP1)', 'ec(E3_J1, E0_ka)', 'ec(E3_J1, E0_kd)', 'ec(E3_J1, E0_TA)', 'ec(E3_J1, E0_TB)', 'ec(E3_J1, E1_ka)', 'ec(E3_J1, E1_kd)', 'ec(E3_J1, E1_TA)', 'ec(E3_J1, E1_TB)', 'ec(E3_J1, E2_ka)', 'ec(E3_J1, E2_kd)', 'ec(E3_J1, E2_TA)', 'ec(E3_J1, E2_TB)', 'ec(E3_J1, E3_ka)', 'ec(E3_J1, E3_kd)', 'ec(E3_J1, E3_TA)', 'ec(E3_J1, E3_TB)', 'ucc(E0_J0, E0_ka)', 'ucc(E0_J0, E0_kd)', 'ucc(E0_J0, E0_TA)', 'ucc(E0_J0, E0_TB)', 'ucc(E0_J0, E1_ka)', 'ucc(E0_J0, E1_kd)', 'ucc(E0_J0, E1_TA)', 'ucc(E0_J0, E1_TB)', 'ucc(E0_J0, E2_ka)', 'ucc(E0_J0, E2_kd)', 'ucc(E0_J0, E2_TA)', 'ucc(E0_J0, E2_TB)', 'ucc(E0_J0, E3_ka)', 'ucc(E0_J0, E3_kd)', 'ucc(E0_J0, E3_TA)', 'ucc(E0_J0, E3_TB)', 'ucc(E0_J1, E0_ka)', 'ucc(E0_J1, E0_kd)', 'ucc(E0_J1, E0_TA)', 'ucc(E0_J1, E0_TB)', 'ucc(E0_J1, E1_ka)', 'ucc(E0_J1, E1_kd)', 'ucc(E0_J1, E1_TA)', 'ucc(E0_J1, E1_TB)', 'ucc(E0_J1, E2_ka)', 'ucc(E0_J1, E2_kd)', 'ucc(E0_J1, E2_TA)', 'ucc(E0_J1, E2_TB)', 'ucc(E0_J1, E3_ka)', 'ucc(E0_J1, E3_kd)', 'ucc(E0_J1, E3_TA)', 'ucc(E0_J1, E3_TB)', 'ucc(E1_J0, E0_ka)', 'ucc(E1_J0, E0_kd)', 'ucc(E1_J0, E0_TA)', 'ucc(E1_J0, E0_TB)', 'ucc(E1_J0, E1_ka)', 'ucc(E1_J0, E1_kd)', 'ucc(E1_J0, E1_TA)', 'ucc(E1_J0, E1_TB)', 'ucc(E1_J0, E2_ka)', 'ucc(E1_J0, E2_kd)', 'ucc(E1_J0, E2_TA)', 'ucc(E1_J0, E2_TB)', 'ucc(E1_J0, E3_ka)', 'ucc(E1_J0, E3_kd)', 'ucc(E1_J0, E3_TA)', 'ucc(E1_J0, E3_TB)', 'ucc(E1_J1, E0_ka)', 'ucc(E1_J1, E0_kd)', 'ucc(E1_J1, E0_TA)', 'ucc(E1_J1, E0_TB)', 'ucc(E1_J1, E1_ka)', 'ucc(E1_J1, E1_kd)', 'ucc(E1_J1, E1_TA)', 'ucc(E1_J1, E1_TB)', 'ucc(E1_J1, E2_ka)', 'ucc(E1_J1, E2_kd)', 'ucc(E1_J1, E2_TA)', 'ucc(E1_J1, E2_TB)', 'ucc(E1_J1, E3_ka)', 'ucc(E1_J1, E3_kd)', 'ucc(E1_J1, E3_TA)', 'ucc(E1_J1, E3_TB)', 'ucc(E2_J0, E0_ka)', 'ucc(E2_J0, E0_kd)', 'ucc(E2_J0, E0_TA)', 'ucc(E2_J0, E0_TB)', 'ucc(E2_J0, E1_ka)', 'ucc(E2_J0, E1_kd)', 'ucc(E2_J0, E1_TA)', 'ucc(E2_J0, E1_TB)', 'ucc(E2_J0, E2_ka)', 'ucc(E2_J0, E2_kd)', 'ucc(E2_J0, E2_TA)', 'ucc(E2_J0, E2_TB)', 'ucc(E2_J0, E3_ka)', 'ucc(E2_J0, E3_kd)', 'ucc(E2_J0, E3_TA)', 'ucc(E2_J0, E3_TB)', 'ucc(E2_J1, E0_ka)', 'ucc(E2_J1, E0_kd)', 'ucc(E2_J1, E0_TA)', 'ucc(E2_J1, E0_TB)', 'ucc(E2_J1, E1_ka)', 'ucc(E2_J1, E1_kd)', 'ucc(E2_J1, E1_TA)', 'ucc(E2_J1, E1_TB)', 'ucc(E2_J1, E2_ka)', 'ucc(E2_J1, E2_kd)', 'ucc(E2_J1, E2_TA)', 'ucc(E2_J1, E2_TB)', 'ucc(E2_J1, E3_ka)', 'ucc(E2_J1, E3_kd)', 'ucc(E2_J1, E3_TA)', 'ucc(E2_J1, E3_TB)', 'ucc(E3_J0, E0_ka)', 'ucc(E3_J0, E0_kd)', 'ucc(E3_J0, E0_TA)', 'ucc(E3_J0, E0_TB)', 'ucc(E3_J0, E1_ka)', 'ucc(E3_J0, E1_kd)', 'ucc(E3_J0, E1_TA)', 'ucc(E3_J0, E1_TB)', 'ucc(E3_J0, E2_ka)', 'ucc(E3_J0, E2_kd)', 'ucc(E3_J0, E2_TA)', 'ucc(E3_J0, E2_TB)', 'ucc(E3_J0, E3_ka)', 'ucc(E3_J0, E3_kd)', 'ucc(E3_J0, E3_TA)', 'ucc(E3_J0, E3_TB)', 'ucc(E3_J1, E0_ka)', 'ucc(E3_J1, E0_kd)', 'ucc(E3_J1, E0_TA)', 'ucc(E3_J1, E0_TB)', 'ucc(E3_J1, E1_ka)', 'ucc(E3_J1, E1_kd)', 'ucc(E3_J1, E1_TA)', 'ucc(E3_J1, E1_TB)', 'ucc(E3_J1, E2_ka)', 'ucc(E3_J1, E2_kd)', 'ucc(E3_J1, E2_TA)', 'ucc(E3_J1, E2_TB)', 'ucc(E3_J1, E3_ka)', 'ucc(E3_J1, E3_kd)', 'ucc(E3_J1, E3_TA)', 'ucc(E3_J1, E3_TB)', 'ucc(PEAK3, E0_ka)', 'ucc(PEAK3, E0_kd)', 'ucc(PEAK3, E0_TA)', 'ucc(PEAK3, E0_TB)', 'ucc(PEAK3, E1_ka)', 'ucc(PEAK3, E1_kd)', 'ucc(PEAK3, E1_TA)', 'ucc(PEAK3, E1_TB)', 'ucc(PEAK3, E2_ka)', 'ucc(PEAK3, E2_kd)', 'ucc(PEAK3, E2_TA)', 'ucc(PEAK3, E2_TB)', 'ucc(PEAK3, E3_ka)', 'ucc(PEAK3, E3_kd)', 'ucc(PEAK3, E3_TA)', 'ucc(PEAK3, E3_TB)', 'ucc(GRB2, E0_ka)', 'ucc(GRB2, E0_kd)', 'ucc(GRB2, E0_TA)', 'ucc(GRB2, E0_TB)', 'ucc(GRB2, E1_ka)', 'ucc(GRB2, E1_kd)', 'ucc(GRB2, E1_TA)', 'ucc(GRB2, E1_TB)', 'ucc(GRB2, E2_ka)', 'ucc(GRB2, E2_kd)', 'ucc(GRB2, E2_TA)', 'ucc(GRB2, E2_TB)', 'ucc(GRB2, E3_ka)', 'ucc(GRB2, E3_kd)', 'ucc(GRB2, E3_TA)', 'ucc(GRB2, E3_TB)', 'ucc(PEAK3_GRB2, E0_ka)', 'ucc(PEAK3_GRB2, E0_kd)', 'ucc(PEAK3_GRB2, E0_TA)', 'ucc(PEAK3_GRB2, E0_TB)', 'ucc(PEAK3_GRB2, E1_ka)', 'ucc(PEAK3_GRB2, E1_kd)', 'ucc(PEAK3_GRB2, E1_TA)', 'ucc(PEAK3_GRB2, E1_TB)', 'ucc(PEAK3_GRB2, E2_ka)', 'ucc(PEAK3_GRB2, E2_kd)', 'ucc(PEAK3_GRB2, E2_TA)', 'ucc(PEAK3_GRB2, E2_TB)', 'ucc(PEAK3_GRB2, E3_ka)', 'ucc(PEAK3_GRB2, E3_kd)', 'ucc(PEAK3_GRB2, E3_TA)', 'ucc(PEAK3_GRB2, E3_TB)', 'ucc(CRKII, E0_ka)', 'ucc(CRKII, E0_kd)', 'ucc(CRKII, E0_TA)', 'ucc(CRKII, E0_TB)', 'ucc(CRKII, E1_ka)', 'ucc(CRKII, E1_kd)', 'ucc(CRKII, E1_TA)', 'ucc(CRKII, E1_TB)', 'ucc(CRKII, E2_ka)', 'ucc(CRKII, E2_kd)', 'ucc(CRKII, E2_TA)', 'ucc(CRKII, E2_TB)', 'ucc(CRKII, E3_ka)', 'ucc(CRKII, E3_kd)', 'ucc(CRKII, E3_TA)', 'ucc(CRKII, E3_TB)', 'ucc(PEAK3_CRKII, E0_ka)', 'ucc(PEAK3_CRKII, E0_kd)', 'ucc(PEAK3_CRKII, E0_TA)', 'ucc(PEAK3_CRKII, E0_TB)', 'ucc(PEAK3_CRKII, E1_ka)', 'ucc(PEAK3_CRKII, E1_kd)', 'ucc(PEAK3_CRKII, E1_TA)', 'ucc(PEAK3_CRKII, E1_TB)', 'ucc(PEAK3_CRKII, E2_ka)', 'ucc(PEAK3_CRKII, E2_kd)', 'ucc(PEAK3_CRKII, E2_TA)', 'ucc(PEAK3_CRKII, E2_TB)', 'ucc(PEAK3_CRKII, E3_ka)', 'ucc(PEAK3_CRKII, E3_kd)', 'ucc(PEAK3_CRKII, E3_TA)', 'ucc(PEAK3_CRKII, E3_TB)', 'ucc(TotalGRB2, E0_ka)', 'ucc(TotalGRB2, E0_kd)', 'ucc(TotalGRB2, E0_TA)', 'ucc(TotalGRB2, E0_TB)', 'ucc(TotalGRB2, E1_ka)', 'ucc(TotalGRB2, E1_kd)', 'ucc(TotalGRB2, E1_TA)', 'ucc(TotalGRB2, E1_TB)', 'ucc(TotalGRB2, E2_ka)', 'ucc(TotalGRB2, E2_kd)', 'ucc(TotalGRB2, E2_TA)', 'ucc(TotalGRB2, E2_TB)', 'ucc(TotalGRB2, E3_ka)', 'ucc(TotalGRB2, E3_kd)', 'ucc(TotalGRB2, E3_TA)', 'ucc(TotalGRB2, E3_TB)', 'ucc(ASAP1, E0_ka)', 'ucc(ASAP1, E0_kd)', 'ucc(ASAP1, E0_TA)', 'ucc(ASAP1, E0_TB)', 'ucc(ASAP1, E1_ka)', 'ucc(ASAP1, E1_kd)', 'ucc(ASAP1, E1_TA)', 'ucc(ASAP1, E1_TB)', 'ucc(ASAP1, E2_ka)', 'ucc(ASAP1, E2_kd)', 'ucc(ASAP1, E2_TA)', 'ucc(ASAP1, E2_TB)', 'ucc(ASAP1, E3_ka)', 'ucc(ASAP1, E3_kd)', 'ucc(ASAP1, E3_TA)', 'ucc(ASAP1, E3_TB)', 'ucc(GRB2_ASAP1, E0_ka)', 'ucc(GRB2_ASAP1, E0_kd)', 'ucc(GRB2_ASAP1, E0_TA)', 'ucc(GRB2_ASAP1, E0_TB)', 'ucc(GRB2_ASAP1, E1_ka)', 'ucc(GRB2_ASAP1, E1_kd)', 'ucc(GRB2_ASAP1, E1_TA)', 'ucc(GRB2_ASAP1, E1_TB)', 'ucc(GRB2_ASAP1, E2_ka)', 'ucc(GRB2_ASAP1, E2_kd)', 'ucc(GRB2_ASAP1, E2_TA)', 'ucc(GRB2_ASAP1, E2_TB)', 'ucc(GRB2_ASAP1, E3_ka)', 'ucc(GRB2_ASAP1, E3_kd)', 'ucc(GRB2_ASAP1, E3_TA)', 'ucc(GRB2_ASAP1, E3_TB)', 'ucc(TotalCRKII, E0_ka)', 'ucc(TotalCRKII, E0_kd)', 'ucc(TotalCRKII, E0_TA)', 'ucc(TotalCRKII, E0_TB)', 'ucc(TotalCRKII, E1_ka)', 'ucc(TotalCRKII, E1_kd)', 'ucc(TotalCRKII, E1_TA)', 'ucc(TotalCRKII, E1_TB)', 'ucc(TotalCRKII, E2_ka)', 'ucc(TotalCRKII, E2_kd)', 'ucc(TotalCRKII, E2_TA)', 'ucc(TotalCRKII, E2_TB)', 'ucc(TotalCRKII, E3_ka)', 'ucc(TotalCRKII, E3_kd)', 'ucc(TotalCRKII, E3_TA)', 'ucc(TotalCRKII, E3_TB)', 'ucc(CRKII_ASAP1, E0_ka)', 'ucc(CRKII_ASAP1, E0_kd)', 'ucc(CRKII_ASAP1, E0_TA)', 'ucc(CRKII_ASAP1, E0_TB)', 'ucc(CRKII_ASAP1, E1_ka)', 'ucc(CRKII_ASAP1, E1_kd)', 'ucc(CRKII_ASAP1, E1_TA)', 'ucc(CRKII_ASAP1, E1_TB)', 'ucc(CRKII_ASAP1, E2_ka)', 'ucc(CRKII_ASAP1, E2_kd)', 'ucc(CRKII_ASAP1, E2_TA)', 'ucc(CRKII_ASAP1, E2_TB)', 'ucc(CRKII_ASAP1, E3_ka)', 'ucc(CRKII_ASAP1, E3_kd)', 'ucc(CRKII_ASAP1, E3_TA)', 'ucc(CRKII_ASAP1, E3_TB)', 'cc(E0_J0, E0_ka)', 'cc(E0_J0, E0_kd)', 'cc(E0_J0, E0_TA)', 'cc(E0_J0, E0_TB)', 'cc(E0_J0, E1_ka)', 'cc(E0_J0, E1_kd)', 'cc(E0_J0, E1_TA)', 'cc(E0_J0, E1_TB)', 'cc(E0_J0, E2_ka)', 'cc(E0_J0, E2_kd)', 'cc(E0_J0, E2_TA)', 'cc(E0_J0, E2_TB)', 'cc(E0_J0, E3_ka)', 'cc(E0_J0, E3_kd)', 'cc(E0_J0, E3_TA)', 'cc(E0_J0, E3_TB)', 'cc(E0_J1, E0_ka)', 'cc(E0_J1, E0_kd)', 'cc(E0_J1, E0_TA)', 'cc(E0_J1, E0_TB)', 'cc(E0_J1, E1_ka)', 'cc(E0_J1, E1_kd)', 'cc(E0_J1, E1_TA)', 'cc(E0_J1, E1_TB)', 'cc(E0_J1, E2_ka)', 'cc(E0_J1, E2_kd)', 'cc(E0_J1, E2_TA)', 'cc(E0_J1, E2_TB)', 'cc(E0_J1, E3_ka)', 'cc(E0_J1, E3_kd)', 'cc(E0_J1, E3_TA)', 'cc(E0_J1, E3_TB)', 'cc(E1_J0, E0_ka)', 'cc(E1_J0, E0_kd)', 'cc(E1_J0, E0_TA)', 'cc(E1_J0, E0_TB)', 'cc(E1_J0, E1_ka)', 'cc(E1_J0, E1_kd)', 'cc(E1_J0, E1_TA)', 'cc(E1_J0, E1_TB)', 'cc(E1_J0, E2_ka)', 'cc(E1_J0, E2_kd)', 'cc(E1_J0, E2_TA)', 'cc(E1_J0, E2_TB)', 'cc(E1_J0, E3_ka)', 'cc(E1_J0, E3_kd)', 'cc(E1_J0, E3_TA)', 'cc(E1_J0, E3_TB)', 'cc(E1_J1, E0_ka)', 'cc(E1_J1, E0_kd)', 'cc(E1_J1, E0_TA)', 'cc(E1_J1, E0_TB)', 'cc(E1_J1, E1_ka)', 'cc(E1_J1, E1_kd)', 'cc(E1_J1, E1_TA)', 'cc(E1_J1, E1_TB)', 'cc(E1_J1, E2_ka)', 'cc(E1_J1, E2_kd)', 'cc(E1_J1, E2_TA)', 'cc(E1_J1, E2_TB)', 'cc(E1_J1, E3_ka)', 'cc(E1_J1, E3_kd)', 'cc(E1_J1, E3_TA)', 'cc(E1_J1, E3_TB)', 'cc(E2_J0, E0_ka)', 'cc(E2_J0, E0_kd)', 'cc(E2_J0, E0_TA)', 'cc(E2_J0, E0_TB)', 'cc(E2_J0, E1_ka)', 'cc(E2_J0, E1_kd)', 'cc(E2_J0, E1_TA)', 'cc(E2_J0, E1_TB)', 'cc(E2_J0, E2_ka)', 'cc(E2_J0, E2_kd)', 'cc(E2_J0, E2_TA)', 'cc(E2_J0, E2_TB)', 'cc(E2_J0, E3_ka)', 'cc(E2_J0, E3_kd)', 'cc(E2_J0, E3_TA)', 'cc(E2_J0, E3_TB)', 'cc(E2_J1, E0_ka)', 'cc(E2_J1, E0_kd)', 'cc(E2_J1, E0_TA)', 'cc(E2_J1, E0_TB)', 'cc(E2_J1, E1_ka)', 'cc(E2_J1, E1_kd)', 'cc(E2_J1, E1_TA)', 'cc(E2_J1, E1_TB)', 'cc(E2_J1, E2_ka)', 'cc(E2_J1, E2_kd)', 'cc(E2_J1, E2_TA)', 'cc(E2_J1, E2_TB)', 'cc(E2_J1, E3_ka)', 'cc(E2_J1, E3_kd)', 'cc(E2_J1, E3_TA)', 'cc(E2_J1, E3_TB)', 'cc(E3_J0, E0_ka)', 'cc(E3_J0, E0_kd)', 'cc(E3_J0, E0_TA)', 'cc(E3_J0, E0_TB)', 'cc(E3_J0, E1_ka)', 'cc(E3_J0, E1_kd)', 'cc(E3_J0, E1_TA)', 'cc(E3_J0, E1_TB)', 'cc(E3_J0, E2_ka)', 'cc(E3_J0, E2_kd)', 'cc(E3_J0, E2_TA)', 'cc(E3_J0, E2_TB)', 'cc(E3_J0, E3_ka)', 'cc(E3_J0, E3_kd)', 'cc(E3_J0, E3_TA)', 'cc(E3_J0, E3_TB)', 'cc(E3_J1, E0_ka)', 'cc(E3_J1, E0_kd)', 'cc(E3_J1, E0_TA)', 'cc(E3_J1, E0_TB)', 'cc(E3_J1, E1_ka)', 'cc(E3_J1, E1_kd)', 'cc(E3_J1, E1_TA)', 'cc(E3_J1, E1_TB)', 'cc(E3_J1, E2_ka)', 'cc(E3_J1, E2_kd)', 'cc(E3_J1, E2_TA)', 'cc(E3_J1, E2_TB)', 'cc(E3_J1, E3_ka)', 'cc(E3_J1, E3_kd)', 'cc(E3_J1, E3_TA)', 'cc(E3_J1, E3_TB)', 'cc(PEAK3, E0_ka)', 'cc(PEAK3, E0_kd)', 'cc(PEAK3, E0_TA)', 'cc(PEAK3, E0_TB)', 'cc(PEAK3, E1_ka)', 'cc(PEAK3, E1_kd)', 'cc(PEAK3, E1_TA)', 'cc(PEAK3, E1_TB)', 'cc(PEAK3, E2_ka)', 'cc(PEAK3, E2_kd)', 'cc(PEAK3, E2_TA)', 'cc(PEAK3, E2_TB)', 'cc(PEAK3, E3_ka)', 'cc(PEAK3, E3_kd)', 'cc(PEAK3, E3_TA)', 'cc(PEAK3, E3_TB)', 'cc(GRB2, E0_ka)', 'cc(GRB2, E0_kd)', 'cc(GRB2, E0_TA)', 'cc(GRB2, E0_TB)', 'cc(GRB2, E1_ka)', 'cc(GRB2, E1_kd)', 'cc(GRB2, E1_TA)', 'cc(GRB2, E1_TB)', 'cc(GRB2, E2_ka)', 'cc(GRB2, E2_kd)', 'cc(GRB2, E2_TA)', 'cc(GRB2, E2_TB)', 'cc(GRB2, E3_ka)', 'cc(GRB2, E3_kd)', 'cc(GRB2, E3_TA)', 'cc(GRB2, E3_TB)', 'cc(PEAK3_GRB2, E0_ka)', 'cc(PEAK3_GRB2, E0_kd)', 'cc(PEAK3_GRB2, E0_TA)', 'cc(PEAK3_GRB2, E0_TB)', 'cc(PEAK3_GRB2, E1_ka)', 'cc(PEAK3_GRB2, E1_kd)', 'cc(PEAK3_GRB2, E1_TA)', 'cc(PEAK3_GRB2, E1_TB)', 'cc(PEAK3_GRB2, E2_ka)', 'cc(PEAK3_GRB2, E2_kd)', 'cc(PEAK3_GRB2, E2_TA)', 'cc(PEAK3_GRB2, E2_TB)', 'cc(PEAK3_GRB2, E3_ka)', 'cc(PEAK3_GRB2, E3_kd)', 'cc(PEAK3_GRB2, E3_TA)', 'cc(PEAK3_GRB2, E3_TB)', 'cc(CRKII, E0_ka)', 'cc(CRKII, E0_kd)', 'cc(CRKII, E0_TA)', 'cc(CRKII, E0_TB)', 'cc(CRKII, E1_ka)', 'cc(CRKII, E1_kd)', 'cc(CRKII, E1_TA)', 'cc(CRKII, E1_TB)', 'cc(CRKII, E2_ka)', 'cc(CRKII, E2_kd)', 'cc(CRKII, E2_TA)', 'cc(CRKII, E2_TB)', 'cc(CRKII, E3_ka)', 'cc(CRKII, E3_kd)', 'cc(CRKII, E3_TA)', 'cc(CRKII, E3_TB)', 'cc(PEAK3_CRKII, E0_ka)', 'cc(PEAK3_CRKII, E0_kd)', 'cc(PEAK3_CRKII, E0_TA)', 'cc(PEAK3_CRKII, E0_TB)', 'cc(PEAK3_CRKII, E1_ka)', 'cc(PEAK3_CRKII, E1_kd)', 'cc(PEAK3_CRKII, E1_TA)', 'cc(PEAK3_CRKII, E1_TB)', 'cc(PEAK3_CRKII, E2_ka)', 'cc(PEAK3_CRKII, E2_kd)', 'cc(PEAK3_CRKII, E2_TA)', 'cc(PEAK3_CRKII, E2_TB)', 'cc(PEAK3_CRKII, E3_ka)', 'cc(PEAK3_CRKII, E3_kd)', 'cc(PEAK3_CRKII, E3_TA)', 'cc(PEAK3_CRKII, E3_TB)', 'cc(TotalGRB2, E0_ka)', 'cc(TotalGRB2, E0_kd)', 'cc(TotalGRB2, E0_TA)', 'cc(TotalGRB2, E0_TB)', 'cc(TotalGRB2, E1_ka)', 'cc(TotalGRB2, E1_kd)', 'cc(TotalGRB2, E1_TA)', 'cc(TotalGRB2, E1_TB)', 'cc(TotalGRB2, E2_ka)', 'cc(TotalGRB2, E2_kd)', 'cc(TotalGRB2, E2_TA)', 'cc(TotalGRB2, E2_TB)', 'cc(TotalGRB2, E3_ka)', 'cc(TotalGRB2, E3_kd)', 'cc(TotalGRB2, E3_TA)', 'cc(TotalGRB2, E3_TB)', 'cc(ASAP1, E0_ka)', 'cc(ASAP1, E0_kd)', 'cc(ASAP1, E0_TA)', 'cc(ASAP1, E0_TB)', 'cc(ASAP1, E1_ka)', 'cc(ASAP1, E1_kd)', 'cc(ASAP1, E1_TA)', 'cc(ASAP1, E1_TB)', 'cc(ASAP1, E2_ka)', 'cc(ASAP1, E2_kd)', 'cc(ASAP1, E2_TA)', 'cc(ASAP1, E2_TB)', 'cc(ASAP1, E3_ka)', 'cc(ASAP1, E3_kd)', 'cc(ASAP1, E3_TA)', 'cc(ASAP1, E3_TB)', 'cc(GRB2_ASAP1, E0_ka)', 'cc(GRB2_ASAP1, E0_kd)', 'cc(GRB2_ASAP1, E0_TA)', 'cc(GRB2_ASAP1, E0_TB)', 'cc(GRB2_ASAP1, E1_ka)', 'cc(GRB2_ASAP1, E1_kd)', 'cc(GRB2_ASAP1, E1_TA)', 'cc(GRB2_ASAP1, E1_TB)', 'cc(GRB2_ASAP1, E2_ka)', 'cc(GRB2_ASAP1, E2_kd)', 'cc(GRB2_ASAP1, E2_TA)', 'cc(GRB2_ASAP1, E2_TB)', 'cc(GRB2_ASAP1, E3_ka)', 'cc(GRB2_ASAP1, E3_kd)', 'cc(GRB2_ASAP1, E3_TA)', 'cc(GRB2_ASAP1, E3_TB)', 'cc(TotalCRKII, E0_ka)', 'cc(TotalCRKII, E0_kd)', 'cc(TotalCRKII, E0_TA)', 'cc(TotalCRKII, E0_TB)', 'cc(TotalCRKII, E1_ka)', 'cc(TotalCRKII, E1_kd)', 'cc(TotalCRKII, E1_TA)', 'cc(TotalCRKII, E1_TB)', 'cc(TotalCRKII, E2_ka)', 'cc(TotalCRKII, E2_kd)', 'cc(TotalCRKII, E2_TA)', 'cc(TotalCRKII, E2_TB)', 'cc(TotalCRKII, E3_ka)', 'cc(TotalCRKII, E3_kd)', 'cc(TotalCRKII, E3_TA)', 'cc(TotalCRKII, E3_TB)', 'cc(CRKII_ASAP1, E0_ka)', 'cc(CRKII_ASAP1, E0_kd)', 'cc(CRKII_ASAP1, E0_TA)', 'cc(CRKII_ASAP1, E0_TB)', 'cc(CRKII_ASAP1, E1_ka)', 'cc(CRKII_ASAP1, E1_kd)', 'cc(CRKII_ASAP1, E1_TA)', 'cc(CRKII_ASAP1, E1_TB)', 'cc(CRKII_ASAP1, E2_ka)', 'cc(CRKII_ASAP1, E2_kd)', 'cc(CRKII_ASAP1, E2_TA)', 'cc(CRKII_ASAP1, E2_TB)', 'cc(CRKII_ASAP1, E3_ka)', 'cc(CRKII_ASAP1, E3_kd)', 'cc(CRKII_ASAP1, E3_TA)', 'cc(CRKII_ASAP1, E3_TB)']\n"
     ]
    }
   ],
   "source": [
    "# use antimony's default modularity to create model \n",
    "\n",
    "import antimony\n",
    "import roadrunner\n",
    "import matplotlib.pyplot as plt\n",
    "\n",
    "ant_model = \"\"\"\n",
    "\n",
    "model MichaelisMenten(F, B)\n",
    "    J0:F -> B; Vmf * F / (Kmf + F)\n",
    "    J1:B -> F; Vmb * B / (Kmb + B)\n",
    "\n",
    "    # default values\n",
    "    Vmf = 10\n",
    "    Vmb = 10\n",
    "    Kmf = 100\n",
    "    Kmb = 100\n",
    "end\n",
    "\n",
    "model SimpleMassAction(A, B)\n",
    "    J0:A -> B; ka * A - kd * B\n",
    "    J1:B -> A; kd * B - ka * A\n",
    "    # default values\n",
    "    ka = 0.01\n",
    "    kd = 0.01\n",
    "end\n",
    "\n",
    "model MassAction21(A,B,AB)\n",
    "    J0:A + B -> AB; ka * A * B - kd * AB\n",
    "    J1:AB -> A + B; kd * AB - ka * A * B\n",
    "\n",
    "    # default values\n",
    "    ka = 0.001\n",
    "    kd = 0.01\n",
    "\n",
    "    # bound variables\n",
    "    TA = A + AB\n",
    "    TB = B + AB\n",
    "\n",
    "end\n",
    "\n",
    "\n",
    "model simple_peak3\n",
    "    # Examples of different rate laws and initialization\n",
    "    \n",
    "    E0: MassAction21(PEAK3, GRB2, PEAK3_GRB2)\n",
    "    E1: MassAction21(PEAK3, CRKII, PEAK3_CRKII)\n",
    "    E2: MassAction21(TotalGRB2, ASAP1, GRB2_ASAP1)\n",
    "    E3: MassAction21(TotalCRKII, ASAP1, CRKII_ASAP1)\n",
    "\n",
    "    PEAK3 = 100 \n",
    "    GRB2 = 100\n",
    "    CRKII = 100\n",
    "    TotalGRB2 = GRB2 + PEAK3_GRB2 \n",
    "    TotalCRKII = CRKII + PEAK3_CRKII\n",
    "    ASAP1 = 100\n",
    "\n",
    "end\n",
    "\"\"\"\n",
    "\n",
    "antimony.clearPreviousLoads()\n",
    "antimony.freeAll()\n",
    "code = antimony.loadAntimonyString(ant_model)\n",
    "if code >= 0:\n",
    "    mid = antimony.getMainModuleName()\n",
    "    sbml_model = antimony.getSBMLString(mid)\n",
    "    print('Antimony model compiled without error')\n",
    "else:\n",
    "    print(code)\n",
    "r_model = roadrunner.RoadRunner(sbml_model)\n",
    "# r_model.model['S3'] = 1\n",
    "# print(r_model.model['S3'])\n",
    "\n",
    "\n",
    "r_solved = r_model.simulate(0, 100, 100)\n",
    "\n",
    "print(r_solved)\n",
    "\n",
    "r_model.plot()\n",
    "\n",
    "# plt.plot(r_solved['time'], label='TA')\n",
    "# plt.legend()\n",
    "# plt.grid()\n",
    "# plt.show()\n",
    "\n",
    "print(r_model.model.keys())\n",
    "# print(r_model.model['S3'])\n",
    "# print(r_solved)\n",
    "# plt.plot(r_solved)\n"
   ]
  },
  {
   "cell_type": "markdown",
   "metadata": {},
   "source": [
    "### Example simple model for parameter estimation "
   ]
  },
  {
   "cell_type": "code",
   "execution_count": 1,
   "metadata": {},
   "outputs": [
    {
     "name": "stdout",
     "output_type": "stream",
     "text": [
      "model testpeak3model\n",
      "\n",
      "J0: PEAK3 -> aPEAK3; J0_Vmax*PEAK3*egf/(J0_Km + PEAK3)\n",
      "J1: aPEAK3 -> PEAK3; J1_Vmax*aPEAK3/(J1_Km + aPEAK3)\n",
      "\n",
      "# State variables in the system\n",
      "PEAK3=100\n",
      "aPEAK3=0\n",
      "\n",
      "# Parameters in the system\n",
      "egf := piecewise(0, time > 100, 8.33)\n",
      "J0_Km=100\n",
      "J0_Vmax=10\n",
      "J1_Km=100\n",
      "J1_Vmax=10\n",
      "\n",
      "end\n",
      "Roadrunner model compiled and returned\n"
     ]
    },
    {
     "data": {
      "image/png": "[encoded data removed]",
      "text/plain": [
       "<Figure size 432x288 with 1 Axes>"
      ]
     },
     "metadata": {
      "needs_background": "light"
     },
     "output_type": "display_data"
    },
    {
     "data": {
      "text/plain": [
       "[[<matplotlib.lines.Line2D at 0x1dcf2a22a60>],\n",
       " [<matplotlib.lines.Line2D at 0x1dcf2a22d60>]]"
      ]
     },
     "execution_count": 1,
     "metadata": {},
     "output_type": "execute_result"
    }
   ],
   "source": [
    "from models.ModelBuilder import ModelBuilder\n",
    "from models.Reaction import Reaction\n",
    "from models.ReactionArchtype import ReactionArchtype\n",
    "from models.ArchtypeCollections import *\n",
    "\n",
    "model = ModelBuilder('testpeak3model')\n",
    "model.add_reaction(Reaction(michaelis_menten_stim, ('PEAK3',), ('aPEAK3',), extra_states=('egf',)))\n",
    "model.add_reaction(Reaction(michaelis_menten, ('aPEAK3',), ('PEAK3',), reactant_values=0, product_values=100))\n",
    "model.inject_antimony_string_at(\"egf := piecewise(0, time > 100, 8.33)\", 'parameters')\n",
    "\n",
    "print(model.get_antimony_model())\n",
    "\n",
    "sbml_model = model.get_sbml_model()\n",
    "\n",
    "rr = model.get_roadrunner_model(sbml_model)\n",
    "\n",
    "rr.simulate(0, 200, 200)\n",
    "rr.plot()\n"
   ]
  },
  {
   "cell_type": "code",
   "execution_count": 15,
   "metadata": {},
   "outputs": [
    {
     "name": "stdout",
     "output_type": "stream",
     "text": [
      "dict_items([('J0_Km', 100), ('J0_Vmax', 10), ('J1_Km', 100), ('J1_Vmax', 10)])\n"
     ]
    }
   ],
   "source": [
    "print(model.get_parameters().items())"
   ]
  },
  {
   "cell_type": "code",
   "execution_count": 11,
   "metadata": {},
   "outputs": [
    {
     "name": "stdout",
     "output_type": "stream",
     "text": [
      "{'A': 100, 'B': 0}\n"
     ]
    }
   ],
   "source": [
    "print(model.get_state_variables())"
   ]
  }
 ],
 "metadata": {
  "kernelspec": {
   "display_name": "Python 3.8.3 ('new-peak-project': venv)",
   "language": "python",
   "name": "python3"
  },
  "language_info": {
   "codemirror_mode": {
    "name": "ipython",
    "version": 3
   },
   "file_extension": ".py",
   "mimetype": "text/x-python",
   "name": "python",
   "nbconvert_exporter": "python",
   "pygments_lexer": "ipython3",
   "version": "3.8.10"
  },
  "orig_nbformat": 4,
  "vscode": {
   "interpreter": {
    "hash": "26dd0fc41489774a473fd43448eb28c34cff45d3a78493dcfae1c9dcdb817ac1"
   }
  }
 },
 "nbformat": 4,
 "nbformat_minor": 2
}
