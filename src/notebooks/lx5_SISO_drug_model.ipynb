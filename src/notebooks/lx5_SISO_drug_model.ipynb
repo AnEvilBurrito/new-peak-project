{
 "cells": [
  {
   "cell_type": "markdown",
   "metadata": {},
   "source": [
    "# Drug Targeting different nodes of the 524 cascade system"
   ]
  },
  {
   "cell_type": "markdown",
   "metadata": {},
   "source": [
    "## Init"
   ]
  },
  {
   "cell_type": "code",
   "execution_count": 1,
   "metadata": {},
   "outputs": [
    {
     "name": "stdout",
     "output_type": "stream",
     "text": [
      "Project path set to: e:\\Github\\new-peak-project\\src\n"
     ]
    }
   ],
   "source": [
    "import os\n",
    "\n",
    "path = os.getcwd()\n",
    "# find the string 'project' in the path, return index\n",
    "index_project = path.find('project')\n",
    "# slice the path from the index of 'project' to the end\n",
    "project_path = path[:index_project+7]\n",
    "# set the working directory\n",
    "os.chdir(project_path+'\\src')\n",
    "print(f'Project path set to: {os.getcwd()}')"
   ]
  },
  {
   "cell_type": "code",
   "execution_count": 2,
   "metadata": {},
   "outputs": [
    {
     "name": "stdout",
     "output_type": "stream",
     "text": [
      "G:\\My Drive\\DAWSON PHD PROJECT\\Biomarker Data Repository\\data\\new-peak-project\\experiments\n"
     ]
    }
   ],
   "source": [
    "from dotenv import dotenv_values\n",
    "config = dotenv_values(\".env\")\n",
    "print(config[\"DATA_PATH\"])"
   ]
  },
  {
   "cell_type": "code",
   "execution_count": 3,
   "metadata": {},
   "outputs": [],
   "source": [
    "from models.ModelBuilder import ModelBuilder\n",
    "from models.Reaction import Reaction\n",
    "from models.ReactionArchtype import ReactionArchtype\n",
    "from models.ArchtypeCollections import *\n",
    "from models.Utils import *\n",
    "\n",
    "import matplotlib.pyplot as plt\n",
    "import seaborn as sns\n",
    "import roadrunner\n",
    "import numpy as np\n",
    "import pandas as pd\n",
    "\n",
    "# import scikit-learn\n",
    "from sklearn.linear_model import LinearRegression\n",
    "# tree models and support vector machines\n",
    "from sklearn.ensemble import RandomForestRegressor\n",
    "from sklearn.ensemble import GradientBoostingRegressor\n",
    "from sklearn.svm import SVR\n",
    "from sklearn.neural_network import MLPRegressor\n",
    "from sklearn.model_selection import train_test_split\n",
    "from sklearn.metrics import mean_squared_error, r2_score\n",
    "# import pearson correlation\n",
    "from scipy.stats import pearsonr\n",
    "from sklearn.preprocessing import StandardScaler\n",
    "from sklearn.pipeline import Pipeline\n",
    "\n",
    "from copy import deepcopy"
   ]
  },
  {
   "cell_type": "code",
   "execution_count": null,
   "metadata": {},
   "outputs": [
    {
     "name": "stdout",
     "output_type": "stream",
     "text": [
      "G:\\My Drive\\DAWSON PHD PROJECT\\Biomarker Data Repository\\data\\new-peak-project\\experiments/SISO_Drug_Model_4_50/\n"
     ]
    }
   ],
   "source": [
    "import os \n",
    "\n",
    "### parameters \n",
    "\n",
    "notebook_name = 'SISO_Drug_Model'\n",
    "plot_figures = True\n",
    "run_jobs = True\n",
    "parallelise = True\n",
    "save_figures = True\n",
    "\n",
    "## Generation of ground truth model \n",
    "\n",
    "model_name = 'v3_small_model_52'\n",
    "o_random_seed = 4\n",
    "no_observable_species = 5\n",
    "no_feedback_regulations = 2\n",
    "specie_value_range = (5, 5000)\n",
    "param_range = (0.1, 10)\n",
    "param_multiplier_range = (0.7, 1.3)\n",
    "\n",
    "\n",
    "## Simulation parameters \n",
    "\n",
    "simulation_time = 1500\n",
    "simulation_step = 100\n",
    "\n",
    "## Feature data generation \n",
    "\n",
    "feature_generation_method = 'uniform'\n",
    "feature_generation_extra_params = {'min': 0.1, 'max': 10}\n",
    "feature_generation_size = 1000 \n",
    "feature_generation_seed = 50 # if -1 then 'o_random_seed' is used\n",
    "if feature_generation_seed == -1:\n",
    "    feature_generation_seed = o_random_seed\n",
    "''' \n",
    "Options: \n",
    "- 'last_time_point' : only the last time point of the phosphorylated species is used\n",
    "- 'dynamic_feature': computes the characteristic 'ten' dynamic feature for each specie data \n",
    "'''\n",
    "\n",
    "## General parameters \n",
    "experiment_id = notebook_name + '_' + str(o_random_seed) + '_' + str(feature_generation_seed)\n",
    "experiment_folder = config['DATA_PATH'] + '/' + experiment_id + '/'\n",
    "if not os.path.exists(experiment_folder):\n",
    "    os.makedirs(experiment_folder)\n",
    "    \n",
    "print(experiment_folder)"
   ]
  },
  {
   "cell_type": "markdown",
   "metadata": {},
   "source": [
    "## Jobs and Visualisations"
   ]
  },
  {
   "cell_type": "markdown",
   "metadata": {},
   "source": [
    "### Generate drug network"
   ]
  },
  {
   "cell_type": "code",
   "execution_count": 5,
   "metadata": {},
   "outputs": [],
   "source": [
    "from models.Utils import *\n",
    "from models.DrugModelSpecification import DrugModelSpecification, Drug\n",
    "\n",
    "model_drug_spec = DrugModelSpecification()\n",
    "model_drug_spec.generate_specifications(4, 5, 2, verbose=0)\n",
    "G0_d = model_drug_spec.generate_network('drug_model_524', specie_value_range, param_range, param_multiplier_range, random_seed=4, verbose=0)"
   ]
  },
  {
   "cell_type": "code",
   "execution_count": 6,
   "metadata": {},
   "outputs": [
    {
     "name": "stdout",
     "output_type": "stream",
     "text": [
      "[(('C', 'A1'), 'up'), (('B0', 'A2'), 'down')]\n"
     ]
    }
   ],
   "source": [
    "print(model_drug_spec.get_feedback_regulations())"
   ]
  },
  {
   "cell_type": "code",
   "execution_count": 7,
   "metadata": {},
   "outputs": [],
   "source": [
    "def modified_drug_spec_SY(original_spec: ModelSpecification): \n",
    "    spec = deepcopy(original_spec)\n",
    "    added_regulations = [('C', 'A3'), ('B2', 'A4'), ('B1', 'A0'), ('B3', 'A2')]\n",
    "    added_reg_types = ['down', 'down', 'up', 'up']\n",
    "    for i, reg in enumerate(added_regulations):\n",
    "        spec.add_regulation(reg, added_reg_types[i])\n",
    "    return spec"
   ]
  },
  {
   "cell_type": "code",
   "execution_count": 8,
   "metadata": {},
   "outputs": [
    {
     "name": "stdout",
     "output_type": "stream",
     "text": [
      "[(('C', 'A1'), 'up'), (('B0', 'A2'), 'down'), (('C', 'A3'), 'down'), (('B2', 'A4'), 'down'), (('B1', 'A0'), 'up'), (('B3', 'A2'), 'up')]\n"
     ]
    }
   ],
   "source": [
    "modded_spec = modified_drug_spec_SY(model_drug_spec)\n",
    "print(modded_spec.get_feedback_regulations())"
   ]
  },
  {
   "cell_type": "code",
   "execution_count": 9,
   "metadata": {},
   "outputs": [],
   "source": [
    "# create a drug which targets all of the A species\n",
    "drug_all_Ad = Drug('DAd', 500, 5000) \n",
    "drug_all_Ad.add_regulation('A0', 'down')\n",
    "drug_all_Ad.add_regulation('A1', 'down')\n",
    "drug_all_Ad.add_regulation('A2', 'down')\n",
    "drug_all_Ad.add_regulation('A3', 'down')\n",
    "drug_all_Ad.add_regulation('A4', 'down')\n",
    "\n",
    "drug_all_Au = Drug('DAu', 500, 5000)\n",
    "drug_all_Au.add_regulation('A0', 'up')\n",
    "drug_all_Au.add_regulation('A1', 'up')\n",
    "drug_all_Au.add_regulation('A2', 'up')\n",
    "drug_all_Au.add_regulation('A3', 'up')\n",
    "drug_all_Au.add_regulation('A4', 'up')\n",
    "\n",
    "possible_drugs = [drug_all_Ad, drug_all_Au] "
   ]
  },
  {
   "cell_type": "code",
   "execution_count": 10,
   "metadata": {},
   "outputs": [],
   "source": [
    "diff_model_specs = []\n",
    "diff_models = []\n",
    "model_labels = []\n",
    "for drug in possible_drugs:\n",
    "    new_drug_spec = DrugModelSpecification()\n",
    "    new_drug_spec.generate_specifications(4, 5, 2, verbose=0)\n",
    "    new_drug_spec.add_drug(drug)\n",
    "    new_model = new_drug_spec.generate_network(f'drug_model_524_{drug.name}', specie_value_range, param_range, param_multiplier_range, random_seed=4, verbose=0)\n",
    "    new_model = copy_over_params_states(G0_d, new_model)\n",
    "    label = f'{drug.name}'\n",
    "    diff_model_specs.append(new_drug_spec)\n",
    "    diff_models.append(new_model)\n",
    "    model_labels.append(label)\n",
    "    \n",
    "    new_drug_spec = modified_drug_spec_SY(new_drug_spec)\n",
    "    new_model = new_drug_spec.generate_network(f'drug_model_524_{drug.name}_SY', specie_value_range, param_range, param_multiplier_range, random_seed=4, verbose=0)\n",
    "    new_model = copy_over_params_states(G0_d, new_model)\n",
    "    label = f'{drug.name}SY'\n",
    "    diff_model_specs.append(new_drug_spec)\n",
    "    diff_models.append(new_model)\n",
    "    model_labels.append(label)"
   ]
  },
  {
   "cell_type": "code",
   "execution_count": 11,
   "metadata": {},
   "outputs": [],
   "source": [
    "# perform simulations on each of the models \n",
    "import matplotlib.pyplot as plt\n",
    "import seaborn as sns\n",
    "import roadrunner\n",
    "import numpy as np\n",
    "import pandas as pd\n",
    "\n",
    "if plot_figures:\n",
    "    # Visualise the behaviour of the suboptimal models, plot the original model as reference comparison\n",
    "    plt.figure(figsize=(8, 5))\n",
    "\n",
    "    for i, s_model in enumerate(diff_models):\n",
    "        runner = roadrunner.RoadRunner(s_model.get_sbml_model())\n",
    "        res = runner.simulate(0, simulation_time, simulation_step)\n",
    "        plt.plot(res['time'], res['[Cp]'], label=f\"Model {model_labels[i]}\")\n",
    "        \n",
    "    runner = roadrunner.RoadRunner(G0_d.get_sbml_model())\n",
    "    res = runner.simulate(0, simulation_time, simulation_step)\n",
    "    plt.plot(res['time'], res['[Cp]'], label=\"Ground Truth\", linestyle='dashed', color='black')\n",
    "        \n",
    "    plt.xlabel(\"Time\")\n",
    "    plt.ylabel(\"Concentration\")\n",
    "    plt.title(\"Concentration of Cp over Time for Suboptimal Models\")\n",
    "    plt.grid(True)\n",
    "    # set the legend to be outside the plot\n",
    "    plt.legend(bbox_to_anchor=(1.05, 1), loc='upper left')\n",
    "    plt.show()"
   ]
  },
  {
   "cell_type": "markdown",
   "metadata": {},
   "source": [
    "## Synthetic data for each model"
   ]
  },
  {
   "cell_type": "code",
   "execution_count": 12,
   "metadata": {},
   "outputs": [],
   "source": [
    "### Generate the synthetic data\n",
    "feature_df_sets = []\n",
    "initial_value_sets = []\n",
    "target_df_sets = []\n",
    "time_course_data_sets = []\n",
    "\n",
    "for i, model_spec in enumerate(diff_model_specs): \n",
    "    model = diff_models[i]\n",
    "    runner = roadrunner.RoadRunner(model.get_sbml_model())\n",
    "    feature_df = generate_feature_data(model_spec, runner, feature_generation_method, feature_generation_extra_params, feature_generation_size, seed=feature_generation_seed)\n",
    "    initial_values = get_model_initial_values(model_spec, runner)\n",
    "    target_df, time_course_data = generate_target_data(model_spec, runner, feature_df, initial_values, simulation_params={'start': 0, 'end': simulation_time, 'points': simulation_step})\n",
    "    feature_df_sets.append(feature_df)\n",
    "    initial_value_sets.append(initial_values)\n",
    "    target_df_sets.append(target_df)\n",
    "    time_course_data_sets.append(time_course_data)"
   ]
  },
  {
   "cell_type": "markdown",
   "metadata": {},
   "source": [
    "## Generate suboptimal models"
   ]
  },
  {
   "cell_type": "code",
   "execution_count": null,
   "metadata": {},
   "outputs": [],
   "source": [
    "n_sub = 10\n",
    "suboptimal_models_rms = []\n",
    "suboptimal_models_spec_rms = []\n",
    "suboptimal_models_labels = []\n",
    "n_edge_removed_range = (2,3)\n",
    "\n",
    "for i, model_spec in enumerate(diff_model_specs):\n",
    "    model = diff_models[i]\n",
    "    for n_edge_removed in range(n_edge_removed_range[0], n_edge_removed_range[1]+1):\n",
    "        for j in range(n_sub):\n",
    "            s_spec, s_model = systematic_edge_pruning(model_spec, model, n_edge_removed, random_seed=j)\n",
    "            suboptimal_models_spec_rms.append(s_spec)\n",
    "            suboptimal_models_rms.append(s_model)\n",
    "            suboptimal_models_labels.append(f'{model_labels[i]}_{n_edge_removed}_{j}')"
   ]
  },
  {
   "cell_type": "code",
   "execution_count": 14,
   "metadata": {},
   "outputs": [],
   "source": [
    "if plot_figures:\n",
    "    # Visualise the behaviour of the suboptimal models, plot the original model as reference comparison\n",
    "    plt.figure(figsize=(8, 5))\n",
    "\n",
    "    for i, s_model in enumerate(suboptimal_models_rms):\n",
    "        runner = roadrunner.RoadRunner(s_model.get_sbml_model())\n",
    "        res = runner.simulate(0, simulation_time, simulation_step)\n",
    "        plt.plot(res['time'], res['[Cp]'], label=f\"Model {i+1}\")\n",
    "        \n",
    "    runner = roadrunner.RoadRunner(G0_d.get_sbml_model())\n",
    "    res = runner.simulate(0, simulation_time, simulation_step)\n",
    "    plt.plot(res['time'], res['[Cp]'], label=\"Ground Truth\", linestyle='dashed', color='black')\n",
    "        \n",
    "    plt.xlabel(\"Time\")\n",
    "    plt.ylabel(\"Concentration\")\n",
    "    plt.title(\"Concentration of Cp over Time for Suboptimal Models\")\n",
    "    plt.grid(True)\n",
    "    # set the legend to be outside the plot\n",
    "    # plt.legend(bbox_to_anchor=(1.05, 1), loc='upper left')\n",
    "    plt.show()"
   ]
  },
  {
   "cell_type": "markdown",
   "metadata": {},
   "source": [
    "## Generate timecourse data from ground truth and suboptimal models"
   ]
  },
  {
   "cell_type": "code",
   "execution_count": 16,
   "metadata": {},
   "outputs": [
    {
     "name": "stdout",
     "output_type": "stream",
     "text": [
      "Ground truth time course data generated, length: 4\n",
      "Suboptimal time course data generated, length: 8\n"
     ]
    }
   ],
   "source": [
    "time_course_data_sets = []\n",
    "last_time_points_sets = []\n",
    "\n",
    "\n",
    "ground_truth_timecourse_data = []\n",
    "ground_truth_last_time_points = []\n",
    "ground_truth_labels = []\n",
    "\n",
    "all_species = model_spec.A_species + model_spec.B_species + model_spec.C_species\n",
    "all_phos_species = [s+'p' for s in all_species]\n",
    "\n",
    "for i, spec in enumerate(diff_model_specs):\n",
    "    model = diff_models[i]\n",
    "    runner = roadrunner.RoadRunner(model.get_sbml_model())\n",
    "    time_course_data = generate_model_timecourse_data(spec, runner, feature_df, initial_values)\n",
    "    last_time_points = last_time_point_method(time_course_data, all_phos_species)\n",
    "    ground_truth_timecourse_data.append(time_course_data)\n",
    "    ground_truth_last_time_points.append(last_time_points)\n",
    "    ground_truth_labels.append(f'{model_labels[i]} Last Points G0')\n",
    "    \n",
    "print('Ground truth time course data generated, length:', len(ground_truth_timecourse_data))\n",
    "\n",
    "if run_jobs: \n",
    "    all_species = model_spec.A_species + model_spec.B_species + model_spec.C_species\n",
    "    all_phos_species = [s+'p' for s in all_species]\n",
    "    for i, s_spec in enumerate(suboptimal_models_spec_rms):\n",
    "        s_model = suboptimal_models_rms[i]\n",
    "        runner = roadrunner.RoadRunner(s_model.get_sbml_model())\n",
    "        time_course_data = generate_model_timecourse_data(s_spec, runner, feature_df, initial_values)\n",
    "        time_course_data_sets.append(time_course_data)\n",
    "        last_time_points = last_time_point_method(time_course_data, all_phos_species)\n",
    "        last_time_points_sets.append(last_time_points)\n",
    "        \n",
    "print('Suboptimal time course data generated, length:', len(time_course_data_sets))"
   ]
  },
  {
   "cell_type": "markdown",
   "metadata": {},
   "source": [
    "## Machine Learning"
   ]
  },
  {
   "cell_type": "code",
   "execution_count": null,
   "metadata": {},
   "outputs": [],
   "source": [
    "def evaluate_model(model, model_name, feature_data, feature_data_name, target_data ,test_size=0.2, random_state=4):\n",
    "    X_train, X_test, y_train, y_test = train_test_split(feature_data, target_data, test_size=test_size, random_state=random_state)\n",
    "    model.fit(X_train, y_train)\n",
    "    y_pred = model.predict(X_test)\n",
    "    # return a dictionary of the model performance\n",
    "    return {'Model': model_name, \n",
    "            'Feature Data': feature_data_name,\n",
    "            'Mean Squared Error': mean_squared_error(y_test, y_pred),\n",
    "            'R2 Score': r2_score(y_test, y_pred),\n",
    "            'Pearson Correlation': pearsonr(y_test, y_pred)[0],\n",
    "            'Pearson P-Value': pearsonr(y_test, y_pred)[1]\n",
    "            }\n",
    "# create a linear regression model\n",
    "lm = LinearRegression()\n",
    "# create a random forest model\n",
    "rf = RandomForestRegressor(n_estimators=100, random_state=o_random_seed)\n",
    "# create a gradient boosting model\n",
    "gb = GradientBoostingRegressor(n_estimators=100, random_state=o_random_seed)\n",
    "# create a support vector machine model\n",
    "svr = SVR(max_iter=10000)\n",
    "scaled_svr = Pipeline([('scaler', StandardScaler()), ('svr', svr)])\n",
    "# create a neural network model (simple)\n",
    "nn = MLPRegressor(hidden_layer_sizes=(20,), max_iter=10000, random_state=o_random_seed)\n",
    "scaled_nn = Pipeline([('scaler', StandardScaler()), ('nn', nn)])\n",
    "\n",
    "all_models = [lm, rf, gb, scaled_svr, scaled_nn]\n",
    "all_models_desc = ['Linear Regression', 'Random Forest', 'Gradient Boosting', 'Support Vector Machine', 'Neural Network']\n",
    "zipped_model_data = list(zip(all_models, all_models_desc))\n",
    "all_features = [feature_df] + ground_truth_last_time_points + last_time_points_sets\n",
    "all_features_desc = ['Mock Omics Data (A+B)'] + ground_truth_labels + suboptimal_models_labels\n",
    "zipped_feature_data = list(zip(all_features, all_features_desc))\n",
    "\n",
    "# random states are rand ints between 0 and 10000, for n values \n",
    "np.random.seed(o_random_seed)\n",
    "n_random = 10\n",
    "all_random_states = np.random.randint(0, 10000, n_random)\n",
    "\n",
    "if run_jobs: \n",
    "    metric_data = []\n",
    "    if not parallelise:          \n",
    "        counter = 0\n",
    "        for (feature_data, feature_data_name) in zipped_feature_data:\n",
    "            # print('Feature Data:', feature_data_name)\n",
    "            # print('Feature Data Shape:', feature_data.shape)\n",
    "            for (model, model_name) in zipped_model_data:\n",
    "                # print('Model:', model_name)\n",
    "                for rand in all_random_states:\n",
    "                    metrics = evaluate_model(model, model_name, feature_data, feature_data_name, target_df['Cp'], random_state=rand)\n",
    "                    metric_data.append(metrics)\n",
    "                    counter += 1 \n",
    "                    print('completed', counter)\n",
    "                    \n",
    "    else:        \n",
    "        # parallelise the model evaluation process using joblib\n",
    "        from joblib import Parallel, delayed\n",
    "\n",
    "        metric_data = Parallel(n_jobs=-1)(delayed(evaluate_model)(model, model_name, feature_data, feature_data_name, target_df['Cp'], random_state=rand) \n",
    "                                        for (feature_data, feature_data_name) in zipped_feature_data\n",
    "                                        for (model, model_name) in zipped_model_data\n",
    "                                        for rand in all_random_states)\n",
    "        \n",
    "    metric_df = pd.DataFrame(metric_data)\n",
    "    # create additional columns based on 'Feature Data' of the suboptimal model labels, e.g. edge removed, drug model used, suboptimal model rng seed \n",
    "    metric_df['Edge Removed'] = metric_df['Feature Data'].apply(lambda x: x.split('_')[1] if len(x.split('_')) > 1 else 'N/A')\n",
    "    metric_df['Drug G0 Model'] = metric_df['Feature Data'].apply(lambda x: x.split('_')[0] if len(x.split('_')) > 1 else 'N/A')\n",
    "    metric_df['Suboptimal Model Seed'] = metric_df['Feature Data'].apply(lambda x: x.split('_')[-1] if len(x.split('_')) > 1 else 'N/A')\n",
    "    if save_figures:\n",
    "        # to pickle \n",
    "        metric_df.to_pickle(experiment_folder + 'metric_df.pkl')\n",
    "    "
   ]
  },
  {
   "cell_type": "markdown",
   "metadata": {},
   "source": [
    "## Visualising Dataset"
   ]
  },
  {
   "cell_type": "code",
   "execution_count": 18,
   "metadata": {},
   "outputs": [],
   "source": [
    "# load the metric data from the pickle file\n",
    "metric_df = pd.read_pickle(experiment_folder + 'metric_df.pkl')"
   ]
  },
  {
   "cell_type": "code",
   "execution_count": 19,
   "metadata": {},
   "outputs": [
    {
     "data": {
      "application/vnd.microsoft.datawrangler.viewer.v0+json": {
       "columns": [
        {
         "name": "index",
         "rawType": "int64",
         "type": "integer"
        },
        {
         "name": "Model",
         "rawType": "object",
         "type": "string"
        },
        {
         "name": "Feature Data",
         "rawType": "object",
         "type": "string"
        },
        {
         "name": "Mean Squared Error",
         "rawType": "float64",
         "type": "float"
        },
        {
         "name": "R2 Score",
         "rawType": "float64",
         "type": "float"
        },
        {
         "name": "Pearson Correlation",
         "rawType": "float64",
         "type": "float"
        },
        {
         "name": "Pearson P-Value",
         "rawType": "float64",
         "type": "float"
        },
        {
         "name": "Edge Removed",
         "rawType": "object",
         "type": "string"
        },
        {
         "name": "Drug G0 Model",
         "rawType": "object",
         "type": "string"
        },
        {
         "name": "Suboptimal Model Seed",
         "rawType": "object",
         "type": "string"
        }
       ],
       "conversionMethod": "pd.DataFrame",
       "ref": "facda5b2-d9c8-470f-8d88-3a784c9cefb3",
       "rows": [
        [
         "0",
         "Linear Regression",
         "Mock Omics Data (A+B)",
         "2.537075166693201",
         "0.8524449182737565",
         "0.9251897830636245",
         "2.9612525789379423e-85",
         "N/A",
         "N/A",
         "N/A"
        ],
        [
         "1",
         "Random Forest",
         "Mock Omics Data (A+B)",
         "0.5707092848414905",
         "0.9668078201733092",
         "0.984203948121339",
         "7.537980428222134e-151",
         "N/A",
         "N/A",
         "N/A"
        ],
        [
         "2",
         "Gradient Boosting",
         "Mock Omics Data (A+B)",
         "0.3859736919565789",
         "0.977551954152362",
         "0.9895613838151572",
         "1.514249010479186e-168",
         "N/A",
         "N/A",
         "N/A"
        ],
        [
         "3",
         "Support Vector Machine",
         "Mock Omics Data (A+B)",
         "2.3146404813629275",
         "0.8653816134901772",
         "0.9468024365362997",
         "1.91733438410202e-99",
         "N/A",
         "N/A",
         "N/A"
        ],
        [
         "4",
         "Neural Network",
         "Mock Omics Data (A+B)",
         "0.4501719983835289",
         "0.9738182112676914",
         "0.9869390904507443",
         "5.759045945533742e-159",
         "N/A",
         "N/A",
         "N/A"
        ],
        [
         "5",
         "Linear Regression",
         "DAd Last Points G0",
         "4.759324946456328",
         "0.7231999309064874",
         "0.8520147571450858",
         "1.479852228651617e-57",
         "N/A",
         "N/A",
         "N/A"
        ],
        [
         "6",
         "Random Forest",
         "DAd Last Points G0",
         "2.2059916959703663",
         "0.8717005750323975",
         "0.9358304318035469",
         "1.2793843301242711e-91",
         "N/A",
         "N/A",
         "N/A"
        ],
        [
         "7",
         "Gradient Boosting",
         "DAd Last Points G0",
         "1.9041658272474353",
         "0.8892546236121068",
         "0.9435736024268098",
         "5.575253057913099e-97",
         "N/A",
         "N/A",
         "N/A"
        ],
        [
         "8",
         "Support Vector Machine",
         "DAd Last Points G0",
         "3.8338253574319303",
         "0.7770265456197177",
         "0.8857638045518617",
         "6.323515516821139e-68",
         "N/A",
         "N/A",
         "N/A"
        ],
        [
         "9",
         "Neural Network",
         "DAd Last Points G0",
         "1.3620051262882276",
         "0.9207864314154455",
         "0.9599332802749446",
         "2.3884474074701698e-111",
         "N/A",
         "N/A",
         "N/A"
        ],
        [
         "10",
         "Linear Regression",
         "DAdSY Last Points G0",
         "0.6061800642239799",
         "0.9647448565609624",
         "0.9823332115644717",
         "4.4649211087874095e-146",
         "N/A",
         "N/A",
         "N/A"
        ],
        [
         "11",
         "Random Forest",
         "DAdSY Last Points G0",
         "0.5115513404500787",
         "0.970248418005816",
         "0.9852056016097724",
         "1.207379780762384e-153",
         "N/A",
         "N/A",
         "N/A"
        ],
        [
         "12",
         "Gradient Boosting",
         "DAdSY Last Points G0",
         "0.32701315600442954",
         "0.9809810708041882",
         "0.9904636547321639",
         "2.05335571497009e-172",
         "N/A",
         "N/A",
         "N/A"
        ],
        [
         "13",
         "Support Vector Machine",
         "DAdSY Last Points G0",
         "0.9366256652221919",
         "0.945526298001296",
         "0.9745204129762173",
         "1.6900535243471273e-130",
         "N/A",
         "N/A",
         "N/A"
        ],
        [
         "14",
         "Neural Network",
         "DAdSY Last Points G0",
         "0.8266755065537756",
         "0.9519209467925959",
         "0.9759346592184723",
         "6.350748910533147e-133",
         "N/A",
         "N/A",
         "N/A"
        ],
        [
         "15",
         "Linear Regression",
         "DAu Last Points G0",
         "4.759337334763871",
         "0.7231992104084288",
         "0.852014025828223",
         "1.480519782336073e-57",
         "N/A",
         "N/A",
         "N/A"
        ],
        [
         "16",
         "Random Forest",
         "DAu Last Points G0",
         "2.212271371228249",
         "0.8713353521142689",
         "0.9356151095954197",
         "1.7633834460474314e-91",
         "N/A",
         "N/A",
         "N/A"
        ],
        [
         "17",
         "Gradient Boosting",
         "DAu Last Points G0",
         "1.8156158549006267",
         "0.894404647773007",
         "0.9463497366707936",
         "4.337462655386694e-99",
         "N/A",
         "N/A",
         "N/A"
        ],
        [
         "18",
         "Support Vector Machine",
         "DAu Last Points G0",
         "3.833690063972224",
         "0.7770344142228108",
         "0.8857651233813805",
         "6.3167203084106616e-68",
         "N/A",
         "N/A",
         "N/A"
        ],
        [
         "19",
         "Neural Network",
         "DAu Last Points G0",
         "1.372940265073288",
         "0.9201504489588356",
         "0.959740061371058",
         "3.808956610204481e-111",
         "N/A",
         "N/A",
         "N/A"
        ],
        [
         "20",
         "Linear Regression",
         "DAuSY Last Points G0",
         "0.5643792014700265",
         "0.9671759748032833",
         "0.98351666459841",
         "4.941035874647588e-149",
         "N/A",
         "N/A",
         "N/A"
        ],
        [
         "21",
         "Random Forest",
         "DAuSY Last Points G0",
         "0.46144685476703673",
         "0.9731624709975721",
         "0.9866415633122171",
         "5.2781381366160754e-158",
         "N/A",
         "N/A",
         "N/A"
        ],
        [
         "22",
         "Gradient Boosting",
         "DAuSY Last Points G0",
         "0.31245614734730265",
         "0.9818276994852342",
         "0.9908922909914459",
         "2.2091581329456514e-174",
         "N/A",
         "N/A",
         "N/A"
        ],
        [
         "23",
         "Support Vector Machine",
         "DAuSY Last Points G0",
         "1.0069041254009266",
         "0.9414389362741368",
         "0.9729952163277823",
         "4.95373811400332e-128",
         "N/A",
         "N/A",
         "N/A"
        ],
        [
         "24",
         "Neural Network",
         "DAuSY Last Points G0",
         "0.7169396620081389",
         "0.9583031311767245",
         "0.9793686917875918",
         "1.8043193343808266e-139",
         "N/A",
         "N/A",
         "N/A"
        ],
        [
         "25",
         "Linear Regression",
         "DAd_2_0",
         "7.533912849784255",
         "0.5618312216909015",
         "0.7577088956160036",
         "1.4829211354715537e-38",
         "2",
         "DAd",
         "0"
        ],
        [
         "26",
         "Random Forest",
         "DAd_2_0",
         "1.8668565958574248",
         "0.891424510716426",
         "0.9457155959562699",
         "1.3450285345940022e-98",
         "2",
         "DAd",
         "0"
        ],
        [
         "27",
         "Gradient Boosting",
         "DAd_2_0",
         "1.7524570505260675",
         "0.8980779337140644",
         "0.9480196052568742",
         "2.0599384805582966e-100",
         "2",
         "DAd",
         "0"
        ],
        [
         "28",
         "Support Vector Machine",
         "DAd_2_0",
         "6.1600331322745445",
         "0.6417354108377296",
         "0.8177615987898269",
         "2.1720435755752595e-49",
         "2",
         "DAd",
         "0"
        ],
        [
         "29",
         "Neural Network",
         "DAd_2_0",
         "0.8257620487312873",
         "0.9519740730639102",
         "0.9757779103212061",
         "1.1984575507206733e-132",
         "2",
         "DAd",
         "0"
        ],
        [
         "30",
         "Linear Regression",
         "DAd_3_0",
         "7.50380917421286",
         "0.5635820371052462",
         "0.7587497996415552",
         "1.0253616385990479e-38",
         "3",
         "DAd",
         "0"
        ],
        [
         "31",
         "Random Forest",
         "DAd_3_0",
         "1.8623725242122138",
         "0.8916853021847916",
         "0.9458722264450735",
         "1.0183221505198721e-98",
         "3",
         "DAd",
         "0"
        ],
        [
         "32",
         "Gradient Boosting",
         "DAd_3_0",
         "1.7594064043297575",
         "0.8976737626110912",
         "0.9476563944515344",
         "4.0307293983618514e-100",
         "3",
         "DAd",
         "0"
        ],
        [
         "33",
         "Support Vector Machine",
         "DAd_3_0",
         "6.092640972196039",
         "0.6456549067275785",
         "0.8191906645334814",
         "1.075038323899324e-49",
         "3",
         "DAd",
         "0"
        ],
        [
         "34",
         "Neural Network",
         "DAd_3_0",
         "0.8805757507346259",
         "0.9487861342968604",
         "0.9741527841502011",
         "6.85446964368354e-130",
         "3",
         "DAd",
         "0"
        ],
        [
         "35",
         "Linear Regression",
         "DAdSY_2_0",
         "4.891819054649161",
         "0.7154941367623899",
         "0.8482476892723977",
         "1.4633459084196406e-56",
         "2",
         "DAdSY",
         "0"
        ],
        [
         "36",
         "Random Forest",
         "DAdSY_2_0",
         "0.7956518623006161",
         "0.9537252671467253",
         "0.9771510995899342",
         "3.968314496220595e-135",
         "2",
         "DAdSY",
         "0"
        ],
        [
         "37",
         "Gradient Boosting",
         "DAdSY_2_0",
         "0.7546156430121066",
         "0.9561119140897657",
         "0.9782099401942477",
         "3.811348675929993e-137",
         "2",
         "DAdSY",
         "0"
        ],
        [
         "38",
         "Support Vector Machine",
         "DAdSY_2_0",
         "3.911756719953473",
         "0.7724940947420831",
         "0.8930658649685426",
         "1.329084669126569e-70",
         "2",
         "DAdSY",
         "0"
        ],
        [
         "39",
         "Neural Network",
         "DAdSY_2_0",
         "1.0041800791871438",
         "0.9415973655027925",
         "0.970548745163407",
         "2.3513414291035886e-124",
         "2",
         "DAdSY",
         "0"
        ],
        [
         "40",
         "Linear Regression",
         "DAdSY_3_0",
         "4.89738565722254",
         "0.7151703858115173",
         "0.848236174747936",
         "1.4734899433554553e-56",
         "3",
         "DAdSY",
         "0"
        ],
        [
         "41",
         "Random Forest",
         "DAdSY_3_0",
         "0.7532015357513047",
         "0.9561941578936453",
         "0.9784536248020609",
         "1.2668682131734115e-137",
         "3",
         "DAdSY",
         "0"
        ],
        [
         "42",
         "Gradient Boosting",
         "DAdSY_3_0",
         "0.6737130094253823",
         "0.9608171726755083",
         "0.98068348651706",
         "2.838457013040594e-142",
         "3",
         "DAdSY",
         "0"
        ],
        [
         "43",
         "Support Vector Machine",
         "DAdSY_3_0",
         "3.884786478810345",
         "0.7740626711044609",
         "0.8928626595541008",
         "1.5873049150042448e-70",
         "3",
         "DAdSY",
         "0"
        ],
        [
         "44",
         "Neural Network",
         "DAdSY_3_0",
         "1.0723181029869095",
         "0.9376344905346284",
         "0.9684217939881821",
         "2.1081766001304034e-121",
         "3",
         "DAdSY",
         "0"
        ],
        [
         "45",
         "Linear Regression",
         "DAu_2_0",
         "7.533774638712905",
         "0.5618392599808963",
         "0.7577102021162384",
         "1.4822362656249115e-38",
         "2",
         "DAu",
         "0"
        ],
        [
         "46",
         "Random Forest",
         "DAu_2_0",
         "1.872342604189811",
         "0.891105447088173",
         "0.9455099445353672",
         "1.9357786335012537e-98",
         "2",
         "DAu",
         "0"
        ],
        [
         "47",
         "Gradient Boosting",
         "DAu_2_0",
         "1.7038458921108726",
         "0.9009051355041124",
         "0.9494307145605451",
         "1.4488592371668944e-101",
         "2",
         "DAu",
         "0"
        ],
        [
         "48",
         "Support Vector Machine",
         "DAu_2_0",
         "6.1599313315471225",
         "0.6417413315194862",
         "0.81778887939386",
         "2.143200371568549e-49",
         "2",
         "DAu",
         "0"
        ],
        [
         "49",
         "Neural Network",
         "DAu_2_0",
         "0.833331357793708",
         "0.9515338456587552",
         "0.9755940902518339",
         "2.510494248652422e-132",
         "2",
         "DAu",
         "0"
        ]
       ],
       "shape": {
        "columns": 9,
        "rows": 65
       }
      },
      "text/html": [
       "<div>\n",
       "<style scoped>\n",
       "    .dataframe tbody tr th:only-of-type {\n",
       "        vertical-align: middle;\n",
       "    }\n",
       "\n",
       "    .dataframe tbody tr th {\n",
       "        vertical-align: top;\n",
       "    }\n",
       "\n",
       "    .dataframe thead th {\n",
       "        text-align: right;\n",
       "    }\n",
       "</style>\n",
       "<table border=\"1\" class=\"dataframe\">\n",
       "  <thead>\n",
       "    <tr style=\"text-align: right;\">\n",
       "      <th></th>\n",
       "      <th>Model</th>\n",
       "      <th>Feature Data</th>\n",
       "      <th>Mean Squared Error</th>\n",
       "      <th>R2 Score</th>\n",
       "      <th>Pearson Correlation</th>\n",
       "      <th>Pearson P-Value</th>\n",
       "      <th>Edge Removed</th>\n",
       "      <th>Drug G0 Model</th>\n",
       "      <th>Suboptimal Model Seed</th>\n",
       "    </tr>\n",
       "  </thead>\n",
       "  <tbody>\n",
       "    <tr>\n",
       "      <th>0</th>\n",
       "      <td>Linear Regression</td>\n",
       "      <td>Mock Omics Data (A+B)</td>\n",
       "      <td>2.537075</td>\n",
       "      <td>0.852445</td>\n",
       "      <td>0.925190</td>\n",
       "      <td>2.961253e-85</td>\n",
       "      <td>N/A</td>\n",
       "      <td>N/A</td>\n",
       "      <td>N/A</td>\n",
       "    </tr>\n",
       "    <tr>\n",
       "      <th>1</th>\n",
       "      <td>Random Forest</td>\n",
       "      <td>Mock Omics Data (A+B)</td>\n",
       "      <td>0.570709</td>\n",
       "      <td>0.966808</td>\n",
       "      <td>0.984204</td>\n",
       "      <td>7.537980e-151</td>\n",
       "      <td>N/A</td>\n",
       "      <td>N/A</td>\n",
       "      <td>N/A</td>\n",
       "    </tr>\n",
       "    <tr>\n",
       "      <th>2</th>\n",
       "      <td>Gradient Boosting</td>\n",
       "      <td>Mock Omics Data (A+B)</td>\n",
       "      <td>0.385974</td>\n",
       "      <td>0.977552</td>\n",
       "      <td>0.989561</td>\n",
       "      <td>1.514249e-168</td>\n",
       "      <td>N/A</td>\n",
       "      <td>N/A</td>\n",
       "      <td>N/A</td>\n",
       "    </tr>\n",
       "    <tr>\n",
       "      <th>3</th>\n",
       "      <td>Support Vector Machine</td>\n",
       "      <td>Mock Omics Data (A+B)</td>\n",
       "      <td>2.314640</td>\n",
       "      <td>0.865382</td>\n",
       "      <td>0.946802</td>\n",
       "      <td>1.917334e-99</td>\n",
       "      <td>N/A</td>\n",
       "      <td>N/A</td>\n",
       "      <td>N/A</td>\n",
       "    </tr>\n",
       "    <tr>\n",
       "      <th>4</th>\n",
       "      <td>Neural Network</td>\n",
       "      <td>Mock Omics Data (A+B)</td>\n",
       "      <td>0.450172</td>\n",
       "      <td>0.973818</td>\n",
       "      <td>0.986939</td>\n",
       "      <td>5.759046e-159</td>\n",
       "      <td>N/A</td>\n",
       "      <td>N/A</td>\n",
       "      <td>N/A</td>\n",
       "    </tr>\n",
       "    <tr>\n",
       "      <th>...</th>\n",
       "      <td>...</td>\n",
       "      <td>...</td>\n",
       "      <td>...</td>\n",
       "      <td>...</td>\n",
       "      <td>...</td>\n",
       "      <td>...</td>\n",
       "      <td>...</td>\n",
       "      <td>...</td>\n",
       "      <td>...</td>\n",
       "    </tr>\n",
       "    <tr>\n",
       "      <th>60</th>\n",
       "      <td>Linear Regression</td>\n",
       "      <td>DAuSY_3_0</td>\n",
       "      <td>4.891629</td>\n",
       "      <td>0.715505</td>\n",
       "      <td>0.848377</td>\n",
       "      <td>1.354409e-56</td>\n",
       "      <td>3</td>\n",
       "      <td>DAuSY</td>\n",
       "      <td>0</td>\n",
       "    </tr>\n",
       "    <tr>\n",
       "      <th>61</th>\n",
       "      <td>Random Forest</td>\n",
       "      <td>DAuSY_3_0</td>\n",
       "      <td>0.753621</td>\n",
       "      <td>0.956170</td>\n",
       "      <td>0.978469</td>\n",
       "      <td>1.183422e-137</td>\n",
       "      <td>3</td>\n",
       "      <td>DAuSY</td>\n",
       "      <td>0</td>\n",
       "    </tr>\n",
       "    <tr>\n",
       "      <th>62</th>\n",
       "      <td>Gradient Boosting</td>\n",
       "      <td>DAuSY_3_0</td>\n",
       "      <td>0.695247</td>\n",
       "      <td>0.959565</td>\n",
       "      <td>0.979966</td>\n",
       "      <td>1.013763e-140</td>\n",
       "      <td>3</td>\n",
       "      <td>DAuSY</td>\n",
       "      <td>0</td>\n",
       "    </tr>\n",
       "    <tr>\n",
       "      <th>63</th>\n",
       "      <td>Support Vector Machine</td>\n",
       "      <td>DAuSY_3_0</td>\n",
       "      <td>3.858177</td>\n",
       "      <td>0.775610</td>\n",
       "      <td>0.893876</td>\n",
       "      <td>6.525223e-71</td>\n",
       "      <td>3</td>\n",
       "      <td>DAuSY</td>\n",
       "      <td>0</td>\n",
       "    </tr>\n",
       "    <tr>\n",
       "      <th>64</th>\n",
       "      <td>Neural Network</td>\n",
       "      <td>DAuSY_3_0</td>\n",
       "      <td>1.155788</td>\n",
       "      <td>0.932780</td>\n",
       "      <td>0.965990</td>\n",
       "      <td>2.897101e-118</td>\n",
       "      <td>3</td>\n",
       "      <td>DAuSY</td>\n",
       "      <td>0</td>\n",
       "    </tr>\n",
       "  </tbody>\n",
       "</table>\n",
       "<p>65 rows × 9 columns</p>\n",
       "</div>"
      ],
      "text/plain": [
       "                     Model           Feature Data  Mean Squared Error  \\\n",
       "0        Linear Regression  Mock Omics Data (A+B)            2.537075   \n",
       "1            Random Forest  Mock Omics Data (A+B)            0.570709   \n",
       "2        Gradient Boosting  Mock Omics Data (A+B)            0.385974   \n",
       "3   Support Vector Machine  Mock Omics Data (A+B)            2.314640   \n",
       "4           Neural Network  Mock Omics Data (A+B)            0.450172   \n",
       "..                     ...                    ...                 ...   \n",
       "60       Linear Regression              DAuSY_3_0            4.891629   \n",
       "61           Random Forest              DAuSY_3_0            0.753621   \n",
       "62       Gradient Boosting              DAuSY_3_0            0.695247   \n",
       "63  Support Vector Machine              DAuSY_3_0            3.858177   \n",
       "64          Neural Network              DAuSY_3_0            1.155788   \n",
       "\n",
       "    R2 Score  Pearson Correlation  Pearson P-Value Edge Removed Drug G0 Model  \\\n",
       "0   0.852445             0.925190     2.961253e-85          N/A           N/A   \n",
       "1   0.966808             0.984204    7.537980e-151          N/A           N/A   \n",
       "2   0.977552             0.989561    1.514249e-168          N/A           N/A   \n",
       "3   0.865382             0.946802     1.917334e-99          N/A           N/A   \n",
       "4   0.973818             0.986939    5.759046e-159          N/A           N/A   \n",
       "..       ...                  ...              ...          ...           ...   \n",
       "60  0.715505             0.848377     1.354409e-56            3         DAuSY   \n",
       "61  0.956170             0.978469    1.183422e-137            3         DAuSY   \n",
       "62  0.959565             0.979966    1.013763e-140            3         DAuSY   \n",
       "63  0.775610             0.893876     6.525223e-71            3         DAuSY   \n",
       "64  0.932780             0.965990    2.897101e-118            3         DAuSY   \n",
       "\n",
       "   Suboptimal Model Seed  \n",
       "0                    N/A  \n",
       "1                    N/A  \n",
       "2                    N/A  \n",
       "3                    N/A  \n",
       "4                    N/A  \n",
       "..                   ...  \n",
       "60                     0  \n",
       "61                     0  \n",
       "62                     0  \n",
       "63                     0  \n",
       "64                     0  \n",
       "\n",
       "[65 rows x 9 columns]"
      ]
     },
     "execution_count": 19,
     "metadata": {},
     "output_type": "execute_result"
    }
   ],
   "source": [
    "metric_df"
   ]
  },
  {
   "cell_type": "code",
   "execution_count": 20,
   "metadata": {},
   "outputs": [
    {
     "data": {
      "image/png": "[encoded data removed]",
      "text/plain": [
       "<Figure size 576x360 with 1 Axes>"
      ]
     },
     "metadata": {
      "needs_background": "light"
     },
     "output_type": "display_data"
    }
   ],
   "source": [
    "edge_removed_metric_df = metric_df[metric_df['Edge Removed'] != 'N/A']\n",
    "lin_reg_edge_removed_metric_df = edge_removed_metric_df[edge_removed_metric_df['Model'] == 'Linear Regression']\n",
    "\n",
    "# plot the performance of the linear regression model based on the number of edges removed\n",
    "plt.figure(figsize=(8, 5))\n",
    "sns.boxplot(x='Edge Removed', y='Mean Squared Error', data=lin_reg_edge_removed_metric_df)\n",
    "plt.title('Mean Squared Error of Linear Regression Model Based on Number of Edges Removed')\n",
    "plt.show()"
   ]
  },
  {
   "cell_type": "code",
   "execution_count": 21,
   "metadata": {},
   "outputs": [
    {
     "name": "stdout",
     "output_type": "stream",
     "text": [
      "Unique Values of Edge Removed: ['2' '3']\n",
      "Unique Values of Drug G0 Model: ['DAd' 'DAdSY' 'DAu' 'DAuSY']\n",
      "Unique Values of Suboptimal Model Seed: ['0']\n"
     ]
    }
   ],
   "source": [
    "# print all the unique values of the 'Edge Removed' column and 'Drug G0 Model' and 'Suboptimal Model Seed'\n",
    "print('Unique Values of Edge Removed:', edge_removed_metric_df['Edge Removed'].unique())\n",
    "print('Unique Values of Drug G0 Model:', edge_removed_metric_df['Drug G0 Model'].unique())\n",
    "print('Unique Values of Suboptimal Model Seed:', edge_removed_metric_df['Suboptimal Model Seed'].unique())"
   ]
  },
  {
   "cell_type": "code",
   "execution_count": 22,
   "metadata": {},
   "outputs": [
    {
     "data": {
      "image/png": "[encoded data removed]",
      "text/plain": [
       "<Figure size 576x360 with 1 Axes>"
      ]
     },
     "metadata": {
      "needs_background": "light"
     },
     "output_type": "display_data"
    }
   ],
   "source": [
    "edge_removed_metric_df = metric_df[metric_df['Edge Removed'] != 'N/A']\n",
    "rf_edge_removed_metric_df = edge_removed_metric_df[edge_removed_metric_df['Model'] == 'Random Forest']\n",
    "\n",
    "# plot the performance of the linear regression model based on the number of edges removed\n",
    "plt.figure(figsize=(8, 5))\n",
    "sns.boxplot(x='Edge Removed', y='Mean Squared Error', data=rf_edge_removed_metric_df)\n",
    "plt.title('Mean Squared Error of Random Forest Model Based on Number of Edges Removed')\n",
    "plt.show()"
   ]
  }
 ],
 "metadata": {
  "kernelspec": {
   "display_name": "new-peak-project",
   "language": "python",
   "name": "python3"
  },
  "language_info": {
   "codemirror_mode": {
    "name": "ipython",
    "version": 3
   },
   "file_extension": ".py",
   "mimetype": "text/x-python",
   "name": "python",
   "nbconvert_exporter": "python",
   "pygments_lexer": "ipython3",
   "version": "3.8.10"
  }
 },
 "nbformat": 4,
 "nbformat_minor": 2
}
