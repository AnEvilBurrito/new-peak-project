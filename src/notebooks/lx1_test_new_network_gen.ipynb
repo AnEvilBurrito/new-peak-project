{
 "cells": [
  {
   "cell_type": "markdown",
   "metadata": {},
   "source": [
    "# Testing new network generation"
   ]
  },
  {
   "cell_type": "markdown",
   "metadata": {},
   "source": [
    "## Init"
   ]
  },
  {
   "cell_type": "code",
   "execution_count": 4,
   "metadata": {},
   "outputs": [
    {
     "name": "stdout",
     "output_type": "stream",
     "text": [
      "Project path set to: c:\\Github\\new-peak-project\\src\n"
     ]
    }
   ],
   "source": [
    "import os\n",
    "\n",
    "path = os.getcwd()\n",
    "# find the string 'project' in the path, return index\n",
    "index_project = path.find('project')\n",
    "# slice the path from the index of 'project' to the end\n",
    "project_path = path[:index_project+7]\n",
    "# set the working directory\n",
    "os.chdir(project_path+'\\src')\n",
    "print(f'Project path set to: {os.getcwd()}')"
   ]
  },
  {
   "cell_type": "code",
   "execution_count": 5,
   "metadata": {},
   "outputs": [
    {
     "name": "stdout",
     "output_type": "stream",
     "text": [
      "I:\\My Drive\\DAWSON PHD PROJECT\\Biomarker Data Repository\\data\\new-peak-project\\experiments\n"
     ]
    }
   ],
   "source": [
    "from dotenv import dotenv_values\n",
    "config = dotenv_values(\".env\")\n",
    "print(config[\"DATA_PATH\"])"
   ]
  },
  {
   "cell_type": "code",
   "execution_count": 6,
   "metadata": {},
   "outputs": [],
   "source": [
    "from models.ModelBuilder import ModelBuilder\n",
    "from models.Reaction import Reaction\n",
    "from models.ReactionArchtype import ReactionArchtype\n",
    "from models.ArchtypeCollections import *\n",
    "from models.Utils import *"
   ]
  },
  {
   "cell_type": "markdown",
   "metadata": {},
   "source": [
    "## Generate Network"
   ]
  },
  {
   "cell_type": "code",
   "execution_count": 7,
   "metadata": {},
   "outputs": [],
   "source": [
    "specie_value_range = (5, 5000)\n",
    "param_range = (0.1, 10)\n",
    "param_multiplier_range = (0.7, 1.3)\n",
    "\n",
    "model_spec = ModelSpecification()\n",
    "model_spec.generate_specifications(4, 5, 2, verbose=0)\n",
    "G0 = model_spec.generate_network('test_model', specie_value_range, param_range, param_multiplier_range, random_seed=4, verbose=0)"
   ]
  },
  {
   "cell_type": "code",
   "execution_count": 8,
   "metadata": {},
   "outputs": [
    {
     "name": "stdout",
     "output_type": "stream",
     "text": [
      "A Species: ['A0', 'A1', 'A2', 'A3', 'A4']\n",
      "B Species: ['B0', 'B1', 'B2', 'B3', 'B4']\n",
      "C Species: ['C']\n",
      "Regulations: [('C', 'A1'), ('B0', 'A2'), ('A0', 'B0'), ('A1', 'B1'), ('A2', 'B2'), ('A3', 'B3'), ('A4', 'B4'), ('B0', 'C'), ('B1', 'C'), ('B0', 'C'), ('B1', 'C'), ('B2', 'C')]\n",
      "Regulation Types: ['up', 'down', 'up', 'up', 'up', 'up', 'up', 'up', 'up', 'down', 'down', 'down']\n",
      "C Weak Stimulators: 0\n",
      "C Strong Stimulators: 0\n",
      "C Allosteric Inhibitors: 0\n",
      "C Competitive Inhibitors: 0\n",
      "\n"
     ]
    }
   ],
   "source": [
    "print(model_spec)"
   ]
  },
  {
   "cell_type": "code",
   "execution_count": 9,
   "metadata": {},
   "outputs": [
    {
     "name": "stdout",
     "output_type": "stream",
     "text": [
      "model test_model\n",
      "\n",
      "J0: A0p -> A0; J0_Vmax*A0p/(J0_Km + A0p)\n",
      "J1: A0 -> A0p; J1_Vmax*A0/(J1_Km + A0)\n",
      "J2: A1p -> A1; J2_Vmax*A1p/(J2_Km + A1p)\n",
      "J3: A1 -> A1p; (J3_Vmax+Cp*J3_Kw0)*A1/(J3_Km + A1)\n",
      "J4: A2p -> A2; J4_Vmax*A2p/(J4_Km + A2p)\n",
      "J5: A2 -> A2p; J5_Vmax*A2/(J5_Km*(1+B0p*J5_Kic0) + A2)\n",
      "J6: A3p -> A3; J6_Vmax*A3p/(J6_Km + A3p)\n",
      "J7: A3 -> A3p; J7_Vmax*A3/(J7_Km + A3)\n",
      "J8: A4p -> A4; J8_Vmax*A4p/(J8_Km + A4p)\n",
      "J9: A4 -> A4p; J9_Vmax*A4/(J9_Km + A4)\n",
      "J10: B0p -> B0; J10_Vmax*B0p/(J10_Km + B0p)\n",
      "J11: B0 -> B0p; (J11_Vmax+A0p*J11_Kw0)*B0/(J11_Km + B0)\n",
      "J12: B1p -> B1; J12_Vmax*B1p/(J12_Km + B1p)\n",
      "J13: B1 -> B1p; (J13_Vmax+A1p*J13_Kw0)*B1/(J13_Km + B1)\n",
      "J14: B2p -> B2; J14_Vmax*B2p/(J14_Km + B2p)\n",
      "J15: B2 -> B2p; (J15_Vmax+A2p*J15_Kw0)*B2/(J15_Km + B2)\n",
      "J16: B3p -> B3; J16_Vmax*B3p/(J16_Km + B3p)\n",
      "J17: B3 -> B3p; (J17_Vmax+A3p*J17_Kw0)*B3/(J17_Km + B3)\n",
      "J18: B4p -> B4; J18_Vmax*B4p/(J18_Km + B4p)\n",
      "J19: B4 -> B4p; (J19_Vmax+A4p*J19_Kw0)*B4/(J19_Km + B4)\n",
      "J20: C -> Cp; (J20_Vmax+B0p*J20_Kw0+B1p*J20_Kw1)*C/(J20_Km*(1+B0p*J20_Kic0+B1p*J20_Kic1+B2p*J20_Kic2) + C)\n",
      "J21: Cp -> C; J21_Vmax*Cp/(J21_Km + Cp)\n",
      "\n",
      "# State variables in the system\n",
      "A0p=0\n",
      "A0=4494\n",
      "A1p=0\n",
      "A1=1416\n",
      "A2p=0\n",
      "A2=4344\n",
      "A3p=0\n",
      "A3=4288\n",
      "A4p=0\n",
      "A4=4812\n",
      "B0p=0\n",
      "B0=4266\n",
      "B1p=0\n",
      "B1=1737\n",
      "B2p=0\n",
      "B2=870\n",
      "B3p=0\n",
      "B3=2039\n",
      "B4p=0\n",
      "B4=3732\n",
      "C=100\n",
      "Cp=0\n",
      "\n",
      "# Parameters in the system\n",
      "J0_Km=994.773880742686\n",
      "J0_Vmax=109.83616177737994\n",
      "J1_Km=287.91948392733775\n",
      "J1_Vmax=1.3771690970947321\n",
      "J2_Km=514.2750718556\n",
      "J2_Vmax=25.05106401139847\n",
      "J3_Km=568.6010419789351\n",
      "J3_Vmax=8.687740520347552\n",
      "J3_Kw0=0.2974520565440613\n",
      "J4_Km=578.3457522479648\n",
      "J4_Vmax=6.256781538806957\n",
      "J5_Km=135.16255979319706\n",
      "J5_Vmax=4.842619306741843\n",
      "J5_Kic0=0.6956126274324443\n",
      "J6_Km=672.4679173139733\n",
      "J6_Vmax=40.2712349737603\n",
      "J7_Km=557.8003201510228\n",
      "J7_Vmax=60.333545087587765\n",
      "J8_Km=612.8934844630852\n",
      "J8_Vmax=72.83833132946357\n",
      "J9_Km=382.4003145455618\n",
      "J9_Vmax=58.78532816408227\n",
      "J10_Km=601.1097604586079\n",
      "J10_Vmax=82.27713016679238\n",
      "J11_Km=630.4930806985927\n",
      "J11_Vmax=0.9440866181703178\n",
      "J11_Kw0=0.8428022454432914\n",
      "J12_Km=981.8446632879952\n",
      "J12_Vmax=45.08797533042616\n",
      "J13_Km=695.8892169917805\n",
      "J13_Vmax=9.119172672647116\n",
      "J13_Kw0=0.099290034672555\n",
      "J14_Km=288.30674137064403\n",
      "J14_Vmax=90.36231522933815\n",
      "J15_Km=93.21607855228149\n",
      "J15_Vmax=1.806826340007188\n",
      "J15_Kw0=0.8748417893703452\n",
      "J16_Km=31.79204430077404\n",
      "J16_Vmax=37.669625096398924\n",
      "J17_Km=839.0509211559662\n",
      "J17_Vmax=8.170339382472134\n",
      "J17_Kw0=1.0203441325134643\n",
      "J18_Km=144.4610106734345\n",
      "J18_Vmax=78.92250085114217\n",
      "J19_Km=911.0870612497821\n",
      "J19_Vmax=2.9518166388808558\n",
      "J19_Kw0=0.09023413363146947\n",
      "J20_Km=141.2681725822751\n",
      "J20_Vmax=11.083139254040264\n",
      "J20_Kw0=0.5830018225139537\n",
      "J20_Kw1=0.3464630444724282\n",
      "J20_Kic0=0.36821441620583195\n",
      "J20_Kic1=0.3636710567375173\n",
      "J20_Kic2=0.9476415215566399\n",
      "J21_Km=703.0878702326951\n",
      "J21_Vmax=21.085149185209247\n",
      "\n",
      "# Other variables in the system\n",
      "\n",
      "\n",
      "end\n"
     ]
    }
   ],
   "source": [
    "print(G0.get_antimony_model())"
   ]
  },
  {
   "cell_type": "code",
   "execution_count": 10,
   "metadata": {},
   "outputs": [],
   "source": [
    "import matplotlib.pyplot as plt\n",
    "import roadrunner\n",
    "import numpy as np\n",
    "import pandas as pd\n",
    "\n",
    "runner = roadrunner.RoadRunner(G0.get_sbml_model())\n",
    "res = runner.simulate(0, 500, 500)"
   ]
  },
  {
   "cell_type": "code",
   "execution_count": 11,
   "metadata": {},
   "outputs": [
    {
     "data": {
      "image/png": "[encoded data removed]",
      "text/plain": [
       "<Figure size 576x360 with 1 Axes>"
      ]
     },
     "metadata": {
      "needs_background": "light"
     },
     "output_type": "display_data"
    }
   ],
   "source": [
    "import seaborn as sns\n",
    "sns.set_context('talk')\n",
    "sns.axes_style('whitegrid')\n",
    "\n",
    "# Define key observable states\n",
    "visible_states = ['C', 'Cp']\n",
    "\n",
    "# Plot the concentration of visible states over time\n",
    "plt.figure(figsize=(8, 5))\n",
    "for state in visible_states:\n",
    "    plt.plot(res['time'], res[f'[{state}]'], label=state)\n",
    "\n",
    "# Formatting the plot\n",
    "plt.xlabel(\"Time\")\n",
    "plt.ylabel(\"Concentration\")\n",
    "plt.title(\"Concentration of C and Cp over Time\")\n",
    "plt.grid(True)\n",
    "plt.legend()\n",
    "plt.show()"
   ]
  },
  {
   "cell_type": "markdown",
   "metadata": {},
   "source": [
    "## Generate Drug Model Network"
   ]
  },
  {
   "cell_type": "code",
   "execution_count": 12,
   "metadata": {},
   "outputs": [],
   "source": [
    "from models.Utils import *\n",
    "from models.DrugModelSpecification import DrugModelSpecification, Drug\n",
    "\n",
    "model_drug_spec = DrugModelSpecification()\n",
    "model_drug_spec.generate_specifications(4, 5, 2, verbose=0)\n",
    "drug_0 = Drug('D0', 500, 5000)\n",
    "drug_0.add_regulation('C', 'down')\n",
    "model_drug_spec.add_drug(drug_0)\n",
    "\n",
    "G0_d = model_drug_spec.generate_network('testdrugmodel', specie_value_range, param_range, param_multiplier_range, random_seed=4, verbose=0)"
   ]
  },
  {
   "cell_type": "code",
   "execution_count": 13,
   "metadata": {},
   "outputs": [
    {
     "name": "stdout",
     "output_type": "stream",
     "text": [
      "A Species: ['A0', 'A1', 'A2', 'A3', 'A4']\n",
      "B Species: ['B0', 'B1', 'B2', 'B3', 'B4']\n",
      "C Species: ['C']\n",
      "Regulations: [('C', 'A1'), ('B0', 'A2'), ('A0', 'B0'), ('A1', 'B1'), ('A2', 'B2'), ('A3', 'B3'), ('A4', 'B4'), ('B0', 'C'), ('B1', 'C'), ('B0', 'C'), ('B1', 'C'), ('B2', 'C'), ('D0', 'C')]\n",
      "Regulation Types: ['up', 'down', 'up', 'up', 'up', 'up', 'up', 'up', 'up', 'down', 'down', 'down', 'down']\n",
      "C Weak Stimulators: 0\n",
      "C Strong Stimulators: 0\n",
      "C Allosteric Inhibitors: 0\n",
      "C Competitive Inhibitors: 0\n",
      "Drugs:\n",
      "Drug(D0, 500, ['C'], ['down'])\n",
      "\n"
     ]
    }
   ],
   "source": [
    "print(model_drug_spec)"
   ]
  },
  {
   "cell_type": "code",
   "execution_count": 14,
   "metadata": {},
   "outputs": [
    {
     "name": "stdout",
     "output_type": "stream",
     "text": [
      "model testdrugmodel\n",
      "\n",
      "J0: A0p -> A0; J0_Vmax*A0p/(J0_Km + A0p)\n",
      "J1: A0 -> A0p; J1_Vmax*A0/(J1_Km + A0)\n",
      "J2: A1p -> A1; J2_Vmax*A1p/(J2_Km + A1p)\n",
      "J3: A1 -> A1p; (J3_Vmax+Cp*J3_Kw0)*A1/(J3_Km + A1)\n",
      "J4: A2p -> A2; J4_Vmax*A2p/(J4_Km + A2p)\n",
      "J5: A2 -> A2p; J5_Vmax*A2/(J5_Km*(1+B0p*J5_Kic0) + A2)\n",
      "J6: A3p -> A3; J6_Vmax*A3p/(J6_Km + A3p)\n",
      "J7: A3 -> A3p; J7_Vmax*A3/(J7_Km + A3)\n",
      "J8: A4p -> A4; J8_Vmax*A4p/(J8_Km + A4p)\n",
      "J9: A4 -> A4p; J9_Vmax*A4/(J9_Km + A4)\n",
      "J10: B0p -> B0; J10_Vmax*B0p/(J10_Km + B0p)\n",
      "J11: B0 -> B0p; (J11_Vmax+A0p*J11_Kw0)*B0/(J11_Km + B0)\n",
      "J12: B1p -> B1; J12_Vmax*B1p/(J12_Km + B1p)\n",
      "J13: B1 -> B1p; (J13_Vmax+A1p*J13_Kw0)*B1/(J13_Km + B1)\n",
      "J14: B2p -> B2; J14_Vmax*B2p/(J14_Km + B2p)\n",
      "J15: B2 -> B2p; (J15_Vmax+A2p*J15_Kw0)*B2/(J15_Km + B2)\n",
      "J16: B3p -> B3; J16_Vmax*B3p/(J16_Km + B3p)\n",
      "J17: B3 -> B3p; (J17_Vmax+A3p*J17_Kw0)*B3/(J17_Km + B3)\n",
      "J18: B4p -> B4; J18_Vmax*B4p/(J18_Km + B4p)\n",
      "J19: B4 -> B4p; (J19_Vmax+A4p*J19_Kw0)*B4/(J19_Km + B4)\n",
      "J20: C -> Cp; (J20_Vmax+B0p*J20_Kw0+B1p*J20_Kw1)*C/(J20_Km*(1+B0p*J20_Kic0+B1p*J20_Kic1+B2p*J20_Kic2+D0*J20_Kic3) + C)\n",
      "J21: Cp -> C; J21_Vmax*Cp/(J21_Km + Cp)\n",
      "\n",
      "# State variables in the system\n",
      "A0p=0\n",
      "A0=4494\n",
      "A1p=0\n",
      "A1=1416\n",
      "A2p=0\n",
      "A2=4344\n",
      "A3p=0\n",
      "A3=4288\n",
      "A4p=0\n",
      "A4=4812\n",
      "B0p=0\n",
      "B0=4266\n",
      "B1p=0\n",
      "B1=1737\n",
      "B2p=0\n",
      "B2=870\n",
      "B3p=0\n",
      "B3=2039\n",
      "B4p=0\n",
      "B4=3732\n",
      "C=100\n",
      "Cp=0\n",
      "\n",
      "# Parameters in the system\n",
      "J0_Km=994.773880742686\n",
      "J0_Vmax=109.83616177737994\n",
      "J1_Km=287.91948392733775\n",
      "J1_Vmax=1.3771690970947321\n",
      "J2_Km=514.2750718556\n",
      "J2_Vmax=25.05106401139847\n",
      "J3_Km=568.6010419789351\n",
      "J3_Vmax=8.687740520347552\n",
      "J3_Kw0=0.2974520565440613\n",
      "J4_Km=578.3457522479648\n",
      "J4_Vmax=6.256781538806957\n",
      "J5_Km=135.16255979319706\n",
      "J5_Vmax=4.842619306741843\n",
      "J5_Kic0=0.6956126274324443\n",
      "J6_Km=672.4679173139733\n",
      "J6_Vmax=40.2712349737603\n",
      "J7_Km=557.8003201510228\n",
      "J7_Vmax=60.333545087587765\n",
      "J8_Km=612.8934844630852\n",
      "J8_Vmax=72.83833132946357\n",
      "J9_Km=382.4003145455618\n",
      "J9_Vmax=58.78532816408227\n",
      "J10_Km=601.1097604586079\n",
      "J10_Vmax=82.27713016679238\n",
      "J11_Km=630.4930806985927\n",
      "J11_Vmax=0.9440866181703178\n",
      "J11_Kw0=0.8428022454432914\n",
      "J12_Km=981.8446632879952\n",
      "J12_Vmax=45.08797533042616\n",
      "J13_Km=695.8892169917805\n",
      "J13_Vmax=9.119172672647116\n",
      "J13_Kw0=0.099290034672555\n",
      "J14_Km=288.30674137064403\n",
      "J14_Vmax=90.36231522933815\n",
      "J15_Km=93.21607855228149\n",
      "J15_Vmax=1.806826340007188\n",
      "J15_Kw0=0.8748417893703452\n",
      "J16_Km=31.79204430077404\n",
      "J16_Vmax=37.669625096398924\n",
      "J17_Km=839.0509211559662\n",
      "J17_Vmax=8.170339382472134\n",
      "J17_Kw0=1.0203441325134643\n",
      "J18_Km=144.4610106734345\n",
      "J18_Vmax=78.92250085114217\n",
      "J19_Km=911.0870612497821\n",
      "J19_Vmax=2.9518166388808558\n",
      "J19_Kw0=0.09023413363146947\n",
      "J20_Km=141.2681725822751\n",
      "J20_Vmax=11.083139254040264\n",
      "J20_Kw0=0.5830018225139537\n",
      "J20_Kw1=0.3464630444724282\n",
      "J20_Kic0=0.36821441620583195\n",
      "J20_Kic1=0.3636710567375173\n",
      "J20_Kic2=0.9476415215566399\n",
      "J20_Kic3=0.703087870232695\n",
      "J21_Km=210.85149185209247\n",
      "J21_Vmax=1.702892176937392\n",
      "\n",
      "# Other variables in the system\n",
      "D0 := piecewise(0, time < 500, 5000)\n",
      "\n",
      "\n",
      "end\n"
     ]
    }
   ],
   "source": [
    "print(G0_d.get_antimony_model())"
   ]
  },
  {
   "cell_type": "code",
   "execution_count": 15,
   "metadata": {},
   "outputs": [],
   "source": [
    "runner = roadrunner.RoadRunner(G0_d.get_sbml_model())\n",
    "res = runner.simulate(0, 1000, 500)"
   ]
  },
  {
   "cell_type": "code",
   "execution_count": 16,
   "metadata": {},
   "outputs": [
    {
     "data": {
      "image/png": "[encoded data removed]",
      "text/plain": [
       "<Figure size 576x360 with 1 Axes>"
      ]
     },
     "metadata": {
      "needs_background": "light"
     },
     "output_type": "display_data"
    }
   ],
   "source": [
    "import seaborn as sns\n",
    "sns.set_context('talk')\n",
    "sns.axes_style('whitegrid')\n",
    "\n",
    "# Define key observable states\n",
    "visible_states = ['C', 'Cp']\n",
    "\n",
    "# Plot the concentration of visible states over time\n",
    "plt.figure(figsize=(8, 5))\n",
    "for state in visible_states:\n",
    "    plt.plot(res['time'], res[f'[{state}]'], label=state)\n",
    "\n",
    "# Formatting the plot\n",
    "plt.xlabel(\"Time\")\n",
    "plt.ylabel(\"Concentration\")\n",
    "plt.title(\"Concentration of C and Cp over Time\")\n",
    "plt.grid(True)\n",
    "plt.legend()\n",
    "plt.show()"
   ]
  }
 ],
 "metadata": {
  "kernelspec": {
   "display_name": "model-builder",
   "language": "python",
   "name": "python3"
  },
  "language_info": {
   "codemirror_mode": {
    "name": "ipython",
    "version": 3
   },
   "file_extension": ".py",
   "mimetype": "text/x-python",
   "name": "python",
   "nbconvert_exporter": "python",
   "pygments_lexer": "ipython3",
   "version": "3.8.10"
  }
 },
 "nbformat": 4,
 "nbformat_minor": 2
}
