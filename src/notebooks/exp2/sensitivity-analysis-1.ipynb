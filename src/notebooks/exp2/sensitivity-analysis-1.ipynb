{
 "cells": [
  {
   "cell_type": "markdown",
   "id": "1586fb20",
   "metadata": {},
   "source": [
    "# Init"
   ]
  },
  {
   "cell_type": "code",
   "execution_count": 8,
   "id": "63f7075b",
   "metadata": {},
   "outputs": [
    {
     "name": "stdout",
     "output_type": "stream",
     "text": [
      "Project path set to: c:\\Github\\new-peak-project\\src\n"
     ]
    }
   ],
   "source": [
    "import os\n",
    "\n",
    "path = os.getcwd()\n",
    "# set the working directory\n",
    "os.chdir('c:\\\\Github\\\\new-peak-project\\\\src')\n",
    "print(f'Project path set to: {os.getcwd()}')"
   ]
  },
  {
   "cell_type": "code",
   "execution_count": 9,
   "id": "9eeb33ce",
   "metadata": {},
   "outputs": [
    {
     "name": "stdout",
     "output_type": "stream",
     "text": [
      "I:\\My Drive\\DAWSON PHD PROJECT\\Biomarker Data Repository\\data\\new-peak-project\\experiments\n"
     ]
    }
   ],
   "source": [
    "from dotenv import dotenv_values\n",
    "config = dotenv_values(\".env\")\n",
    "print(config[\"DATA_PATH\"])"
   ]
  },
  {
   "cell_type": "code",
   "execution_count": 10,
   "id": "43c8c92b",
   "metadata": {},
   "outputs": [
    {
     "name": "stdout",
     "output_type": "stream",
     "text": [
      "New data path set to: I:\\My Drive\\DAWSON PHD PROJECT\\Biomarker Data Repository\\data\\data-and-mechanism-project\n"
     ]
    }
   ],
   "source": [
    "new_path = config[\"NEW_DATA_PATH\"]\n",
    "print(f'New data path set to: {new_path}')"
   ]
  },
  {
   "cell_type": "markdown",
   "id": "1e2afe73",
   "metadata": {},
   "source": [
    "# Config"
   ]
  },
  {
   "cell_type": "code",
   "execution_count": 11,
   "id": "6e5a210d",
   "metadata": {},
   "outputs": [],
   "source": [
    "import yaml\n",
    "notebook_config_path = new_path + \"/21082025-receptor-sensitivity-spec2/config_v1.yml\"# Use safe_load to prevent code execution\n",
    "\n",
    "def load_configs(folder_name: str, config_suffix: str = \"v1\") -> dict:\n",
    "    config_path = os.path.join(new_path, folder_name, f\"config_{config_suffix}.yml\")\n",
    "    with open(config_path, \"r\") as f:\n",
    "        config = yaml.safe_load(f)  # Use safe_load to prevent code execution\n",
    "    return config\n",
    "\n",
    "\n",
    "\n",
    "folder_name = \"21082025-receptor-sensitivity-spec2\"\n",
    "exp_config = load_configs(folder_name, \"v1\")\n",
    "exp_params = exp_config[\"exp\"]\n"
   ]
  },
  {
   "cell_type": "code",
   "execution_count": null,
   "id": "3d3b680b",
   "metadata": {},
   "outputs": [],
   "source": [
    "notebook_params = {\n",
    "    \"version\": \"v1\",\n",
    "    \"name\": \"model-inspection\",\n",
    "    \"compatible_notebooks\": [\"model-inspection-1\"],\n",
    "    \"description\": \"Inspect the generated model and its parameters\",\n",
    "}\n",
    "\n",
    "# a sample config \n",
    "exp_params = {\n",
    "    \"spec\": {\n",
    "        \"n_layers\": 2,\n",
    "        \"n_cascades\": 1,\n",
    "        \"n_regs\": 0,\n",
    "        \"gen_seed\": 42,\n",
    "        \"drug\": {\n",
    "            \"name\": \"D\",\n",
    "            \"start\": 500,\n",
    "            \"dose\": 500,\n",
    "            \"regulations\": [['R1', 'down']]\n",
    "        }\n",
    "    },\n",
    "    \"parameter_generation\": {\n",
    "        \"ic_range\": [200, 1000],\n",
    "        \"param_range\": [0.5, 1.5],\n",
    "        \"param_mul_range\": [0.99, 1.01]  # almost no multiplication, legacy\n",
    "    },\n",
    "    \"simulation\": {\n",
    "        \"start\": 0,\n",
    "        \"stop\": 1000,\n",
    "        \"step\": 100\n",
    "    }\n",
    "}\n",
    "\n",
    "def save_configs(folder_name: str, config: dict, config_suffix: str = \"v1\") -> None:\n",
    "    config_path = os.path.join(new_path, folder_name, f\"config_{config_suffix}.yml\")\n",
    "    with open(config_path, \"w\") as f:\n",
    "        yaml.dump(config, f)\n",
    "        \n",
    "save_configs(folder_name, exp_params, \"testWrite\")"
   ]
  },
  {
   "cell_type": "markdown",
   "id": "a88c6127",
   "metadata": {},
   "source": [
    "# Run"
   ]
  },
  {
   "cell_type": "code",
   "execution_count": null,
   "id": "8f25f5d5",
   "metadata": {},
   "outputs": [],
   "source": [
    "\n"
   ]
  },
  {
   "cell_type": "code",
   "execution_count": 7,
   "id": "db78ab1b",
   "metadata": {},
   "outputs": [
    {
     "data": {
      "text/plain": [
       "{'spec': {'n_reps': 10,\n",
       "  'n_layers': 2,\n",
       "  'n_cascades': 3,\n",
       "  'n_regs': 5,\n",
       "  'gen_seed': 42,\n",
       "  'drug': {'name': 'D', 'start': 100, 'dose': 200}},\n",
       " 'parameter_generation': {'ic_range': [0, 100],\n",
       "  'param_range': [0.5, 1.5],\n",
       "  'param_mul_range': [0.99, 1.01]},\n",
       " 'simulation': {'start': 0, 'stop': 200, 'step': 100}}"
      ]
     },
     "execution_count": 7,
     "metadata": {},
     "output_type": "execute_result"
    }
   ],
   "source": [
    "exp_params"
   ]
  }
 ],
 "metadata": {
  "kernelspec": {
   "display_name": "new-peak-project",
   "language": "python",
   "name": "python3"
  },
  "language_info": {
   "codemirror_mode": {
    "name": "ipython",
    "version": 3
   },
   "file_extension": ".py",
   "mimetype": "text/x-python",
   "name": "python",
   "nbconvert_exporter": "python",
   "pygments_lexer": "ipython3",
   "version": "3.12.10"
  }
 },
 "nbformat": 4,
 "nbformat_minor": 5
}
