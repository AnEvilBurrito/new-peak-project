{
 "cells": [
  {
   "cell_type": "code",
   "execution_count": 35,
   "metadata": {},
   "outputs": [
    {
     "name": "stdout",
     "output_type": "stream",
     "text": [
      "Antimony model compiled without error\n"
     ]
    },
    {
     "data": {
      "image/png": "[encoded data removed]",
      "text/plain": [
       "<Figure size 432x288 with 1 Axes>"
      ]
     },
     "metadata": {
      "needs_background": "light"
     },
     "output_type": "display_data"
    },
    {
     "data": {
      "text/plain": [
       "[[<matplotlib.lines.Line2D at 0x1aec5ae4af0>],\n",
       " [<matplotlib.lines.Line2D at 0x1aec5ae4df0>]]"
      ]
     },
     "execution_count": 35,
     "metadata": {},
     "output_type": "execute_result"
    }
   ],
   "source": [
    "import antimony\n",
    "import roadrunner \n",
    "import matplotlib.pyplot as plt \n",
    "\n",
    "ant_model = \"\"\"\n",
    "model pathway()\n",
    "  # Examples of different rate laws and initialization\n",
    "\n",
    "\n",
    "  S3 -> S4; Vm*S3/(Km + S3)\n",
    "\n",
    "\n",
    "  S3 = 100\n",
    "  S4 = 0\n",
    "\n",
    "\n",
    "  Vm = 10\n",
    "  Km = 100\n",
    "end\n",
    "\"\"\"\n",
    "\n",
    "antimony.clearPreviousLoads()\n",
    "antimony.freeAll()\n",
    "code = antimony.loadAntimonyString(ant_model)\n",
    "if code >= 0:\n",
    "    mid = antimony.getMainModuleName()\n",
    "    sbml_model = antimony.getSBMLString(mid)\n",
    "    print('Antimony model compiled without error')\n",
    "\n",
    "r_model = roadrunner.RoadRunner(sbml_model)\n",
    "\n",
    "r_solved = r_model.simulate(0, 100, 100)\n",
    "\n",
    "r_model.plot()\n",
    "\n",
    "# print(r_solved)\n",
    "# plt.plot(r_solved)\n"
   ]
  },
  {
   "cell_type": "code",
   "execution_count": 11,
   "metadata": {},
   "outputs": [],
   "source": [
    "# The following function generates antimony strings from high level syntax \n",
    "from inspect import Parameter\n",
    "from typing import Union, Tuple, List \n",
    "from models.ReactionArchtype import ReactionArchtype\n",
    "from models.Reaction import Reaction\n",
    "\n",
    "class AntimonyModel:\n",
    "\n",
    "    def __init__(self, name):\n",
    "        self.name = name\n",
    "        self.reactions: List[Reaction] = []\n",
    "        # co-pilot generated, not sure if this is necessary\n",
    "        self.ant_model = ''\n",
    "        self.sbml_model = ''\n",
    "        self.r_model = ''\n",
    "        self.r_solved = ''\n",
    "        self.r_plot = ''\n",
    "\n",
    "\n",
    "    def get_parameters(self):\n",
    "\n",
    "        '''\n",
    "        Extracts parameters and their values from all reactions \n",
    "        in the class and returns a dict while subjecting to a naming rule \n",
    "        \n",
    "        '''\n",
    "\n",
    "        parameters_names = []\n",
    "        parameters = {}\n",
    "        i = 0 \n",
    "        while i < len(self.reactions):\n",
    "            r = self.reactions[i]\n",
    "            # first, get the parameters names from the archtype\n",
    "            # and perform naming rule \n",
    "\n",
    "            '''\n",
    "            Here, a simple naming rule is implemented. It simply appends the reaction index \n",
    "            to the parameter name\n",
    "            TODO: implement more complex naming rules in the future \n",
    "            '''\n",
    "            r_index = f'J{i}'\n",
    "\n",
    "            parameters.update(r.get_reaction_parameters(r_index))\n",
    "\n",
    "            i += 1\n",
    "\n",
    "        return parameters\n",
    "\n",
    "    def get_state_variables(self):\n",
    "\n",
    "        '''\n",
    "        Extracts state variables and their values from all reactions \n",
    "        in the class and returns a dict\n",
    "\n",
    "        non-unique state variables will only be repeated once, their \n",
    "        default value will only follow the first repeated state variable\n",
    "        '''\n",
    "\n",
    "        states_list = {}\n",
    "        for r in self.reactions: \n",
    "            states_list.update(r.get_reaction_states())\n",
    "        \n",
    "        return states_list\n",
    "\n",
    "    def add_reaction(self, reaction: Reaction):\n",
    "        self.reactions.append(reaction)\n",
    "\n",
    "    def compile_antimony(self):\n",
    "        \n",
    "        antimony_string = ''\n",
    "\n",
    "        antimony_string += f'model {self.name}\\n\\n'\n",
    "\n",
    "        # add reactions\n",
    "        i = 0 \n",
    "        while i < len(self.reactions):\n",
    "            r = self.reactions[i]\n",
    "            r_index = f'J{i}'\n",
    "            antimony_string += r.get_antimony_reaction_str(r_index)\n",
    "            antimony_string += '\\n'\n",
    "            i += 1\n",
    "\n",
    "        # add state vars \n",
    "        antimony_string += '\\n'\n",
    "        antimony_string += '# State variables in the system\\n'\n",
    "        all_states = self.get_state_variables()\n",
    "        for key, val in all_states.items():\n",
    "            antimony_string += f'{key}={val}\\n'\n",
    "        antimony_string += '\\n'\n",
    "        \n",
    "        # add parameters\n",
    "        antimony_string += '# Parameters in the system\\n'\n",
    "        all_params = self.get_parameters()\n",
    "        for key, val in all_params.items():\n",
    "            antimony_string += f'{key}={val}\\n'\n",
    "\n",
    "        antimony_string += '\\nend'\n",
    "\n",
    "        return antimony_string\n"
   ]
  },
  {
   "cell_type": "code",
   "execution_count": 39,
   "metadata": {},
   "outputs": [
    {
     "name": "stdout",
     "output_type": "stream",
     "text": [
      "react: iSFK -> SFK; react_Vmax*iSFK/(react_Km + iSFK)\n",
      "react: SFK -> iSFK; react_Vmax*SFK/(react_Km + SFK)\n",
      "{'J0_Km': 0.2, 'J0_Vmax': 0.2}\n",
      "{'iSFK': 100, 'SFK': 0}\n",
      "{'J0_Km': 0.2, 'J0_Vmax': 0.2}\n",
      "{'SFK': 50, 'iSFK': 50}\n",
      "{'J0_Km': 0.2, 'J0_Vmax': 0.2}\n",
      "{'SFK': 200, 'iSFK': 100}\n",
      "{'J0_ka': 0.1, 'J0_kd': 0.01}\n",
      "{'A': 100, 'B': 200, 'C': 50}\n",
      "react: A + B -> C; react_ka*A*B - react_kd*C\n"
     ]
    }
   ],
   "source": [
    "\n",
    "\n",
    "michaelis_menten = ReactionArchtype(\n",
    "    'Michaelis Menten', \n",
    "    ('S'), ('E'), \n",
    "    ('Km', 'Vmax'), \n",
    "    'Vmax*S/(Km + S)', \n",
    "    assume_parameters_values={'Km': 100, 'Vmax': 10},\n",
    "    assume_reactant_values={'S': 100},\n",
    "    assume_product_values={'E': 0})\n",
    "\n",
    "mass_action_21 = ReactionArchtype(\n",
    "    'Mass Action',\n",
    "    ('A', 'B'), ('C'),\n",
    "    ('ka', 'kd'),\n",
    "    'ka*A*B - kd*C',\n",
    "    assume_parameters_values={'ka': 0.001, 'kd': 0.01},\n",
    "    assume_reactant_values={'A': 100, 'B': 100},\n",
    "    assume_product_values={'C': 0})\n",
    "\n",
    "r1 = Reaction(michaelis_menten, ('iSFK',), ('SFK',))\n",
    "r2 = Reaction(michaelis_menten, ('SFK',), ('iSFK',))\n",
    "\n",
    "print(r1)\n",
    "print(r2)\n",
    "\n",
    "\n",
    "r3 = Reaction(michaelis_menten, ('iSFK',), ('SFK',), parameters_values={'Km': 0.2, 'Vmax': 0.2},\n",
    "              reactant_values={'iSFK': 100}, product_values={'SFK': 0})  \n",
    "\n",
    "r4 = Reaction(michaelis_menten, ('SFK',), ('iSFK',), parameters_values={'Km': 0.2, 'Vmax': 0.2},\n",
    "                reactant_values=(50,), product_values=(50,))\n",
    "\n",
    "r5 = Reaction(michaelis_menten, ('SFK',), ('iSFK',), parameters_values={'Km': 0.2, 'Vmax': 0.2},\n",
    "              reactant_values=200, product_values=100)\n",
    "\n",
    "\n",
    "print(r3.get_reaction_parameters(r_index='J0'))\n",
    "print(r3.get_reaction_states())\n",
    "\n",
    "print(r4.get_reaction_parameters(r_index='J0'))\n",
    "print(r4.get_reaction_states())\n",
    "\n",
    "print(r5.get_reaction_parameters(r_index='J0'))\n",
    "print(r5.get_reaction_states())\n",
    "\n",
    "r6 = Reaction(mass_action_21, ('A', 'B'), ('C'), parameters_values={'ka': 0.1, 'kd': 0.01},\n",
    "                reactant_values={'B': 200}, product_values=(50,))\n",
    "\n",
    "print(r6.get_reaction_parameters(r_index='J0'))\n",
    "print(r6.get_reaction_states())\n",
    "print(r6)"
   ]
  },
  {
   "cell_type": "code",
   "execution_count": 40,
   "metadata": {},
   "outputs": [
    {
     "name": "stdout",
     "output_type": "stream",
     "text": [
      "model test\n",
      "\n",
      "J0: iSFK -> SFK; J0_Vmax*iSFK/(J0_Km + iSFK)\n",
      "\n",
      "# State variables in the system\n",
      "iSFK=100\n",
      "SFK=0\n",
      "\n",
      "# Parameters in the system\n",
      "J0_Km=100\n",
      "J0_Vmax=10\n",
      "\n",
      "end\n"
     ]
    }
   ],
   "source": [
    "model = AntimonyModel('test')\n",
    "model.add_reaction(r1)\n",
    "# model.add_reaction(r6)\n",
    "print(model.compile_antimony())\n"
   ]
  },
  {
   "cell_type": "code",
   "execution_count": 42,
   "metadata": {},
   "outputs": [
    {
     "name": "stdout",
     "output_type": "stream",
     "text": [
      "Antimony model compiled without error\n"
     ]
    },
    {
     "data": {
      "image/png": "[encoded data removed]",
      "text/plain": [
       "<Figure size 432x288 with 1 Axes>"
      ]
     },
     "metadata": {
      "needs_background": "light"
     },
     "output_type": "display_data"
    },
    {
     "data": {
      "text/plain": [
       "[[<matplotlib.lines.Line2D at 0x1aec5c39ca0>],\n",
       " [<matplotlib.lines.Line2D at 0x1aec5c39f70>]]"
      ]
     },
     "execution_count": 42,
     "metadata": {},
     "output_type": "execute_result"
    }
   ],
   "source": [
    "import antimony\n",
    "import roadrunner\n",
    "import matplotlib.pyplot as plt\n",
    "\n",
    "ant_model = model.compile_antimony()\n",
    "\n",
    "\n",
    "antimony.clearPreviousLoads()\n",
    "antimony.freeAll()\n",
    "code = antimony.loadAntimonyString(ant_model)\n",
    "if code >= 0:\n",
    "    mid = antimony.getMainModuleName()\n",
    "    sbml_model = antimony.getSBMLString(mid)\n",
    "    print('Antimony model compiled without error')\n",
    "\n",
    "r_model = roadrunner.RoadRunner(sbml_model)\n",
    "\n",
    "r_solved = r_model.simulate(0, 100)\n",
    "\n",
    "r_model.plot()\n"
   ]
  }
 ],
 "metadata": {
  "kernelspec": {
   "display_name": "Python 3.8.3 ('new-peak-project': venv)",
   "language": "python",
   "name": "python3"
  },
  "language_info": {
   "codemirror_mode": {
    "name": "ipython",
    "version": 3
   },
   "file_extension": ".py",
   "mimetype": "text/x-python",
   "name": "python",
   "nbconvert_exporter": "python",
   "pygments_lexer": "ipython3",
   "version": "3.8.3"
  },
  "orig_nbformat": 4,
  "vscode": {
   "interpreter": {
    "hash": "26dd0fc41489774a473fd43448eb28c34cff45d3a78493dcfae1c9dcdb817ac1"
   }
  }
 },
 "nbformat": 4,
 "nbformat_minor": 2
}
