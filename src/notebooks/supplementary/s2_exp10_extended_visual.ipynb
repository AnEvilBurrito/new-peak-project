{
 "cells": [
  {
   "cell_type": "markdown",
   "id": "45dafa06",
   "metadata": {},
   "source": [
    "## Init"
   ]
  },
  {
   "cell_type": "code",
   "execution_count": 24,
   "id": "6ea03259",
   "metadata": {},
   "outputs": [
    {
     "name": "stdout",
     "output_type": "stream",
     "text": [
      "Project path set to: c:\\Github\\new-peak-project\\src\n"
     ]
    }
   ],
   "source": [
    "import os\n",
    "\n",
    "path = os.getcwd()\n",
    "# find the string 'project' in the path, return index\n",
    "index_project = path.find('project')\n",
    "# slice the path from the index of 'project' to the end\n",
    "project_path = path[:index_project+7]\n",
    "# set the working directory\n",
    "os.chdir(project_path+'/src')\n",
    "print(f'Project path set to: {os.getcwd()}')"
   ]
  },
  {
   "cell_type": "code",
   "execution_count": 25,
   "id": "cdab0f01",
   "metadata": {},
   "outputs": [
    {
     "name": "stdout",
     "output_type": "stream",
     "text": [
      "I:\\My Drive\\DAWSON PHD PROJECT\\Biomarker Data Repository\\data\\new-peak-project\\experiments\n"
     ]
    }
   ],
   "source": [
    "from dotenv import dotenv_values\n",
    "config = dotenv_values(\".env\")\n",
    "print(config[\"DATA_PATH\"])"
   ]
  },
  {
   "cell_type": "code",
   "execution_count": 26,
   "id": "9927c1c4",
   "metadata": {},
   "outputs": [],
   "source": [
    "from models.ModelBuilder import ModelBuilder\n",
    "from models.Reaction import Reaction\n",
    "from models.ReactionArchtype import ReactionArchtype\n",
    "from models.ArchtypeCollections import *\n",
    "\n",
    "# import scikit-learn\n",
    "from sklearn.linear_model import LinearRegression\n",
    "# tree models and support vector machines\n",
    "from sklearn.ensemble import RandomForestRegressor\n",
    "from sklearn.ensemble import GradientBoostingRegressor\n",
    "from sklearn.svm import SVR\n",
    "from sklearn.neural_network import MLPRegressor\n",
    "from sklearn.model_selection import train_test_split\n",
    "from sklearn.metrics import mean_squared_error, r2_score\n",
    "# import pearson correlation\n",
    "from scipy.stats import pearsonr\n",
    "from sklearn.preprocessing import StandardScaler\n",
    "from sklearn.pipeline import Pipeline\n",
    "\n",
    "from copy import deepcopy"
   ]
  },
  {
   "cell_type": "markdown",
   "id": "9ba9afad",
   "metadata": {},
   "source": [
    "## Notebook Parameters"
   ]
  },
  {
   "cell_type": "code",
   "execution_count": null,
   "id": "aa1b09ec",
   "metadata": {},
   "outputs": [
    {
     "name": "stdout",
     "output_type": "stream",
     "text": [
      "C:\\Users\\dawson\\Documents\\Google Drive\\My Drive\\DAWSON PHD PROJECT\\Biomarker Data Repository\\data\\new-peak-project\\experiments/s2_exp10_extended_42_15_10/\n"
     ]
    }
   ],
   "source": [
    "import os \n",
    "import numpy as np\n",
    "\n",
    "### parameters \n",
    "\n",
    "notebook_name = 's2_exp10_extended' # name of the notebook\n",
    "distortion_scales = [1.1, 1.2, 1.5, 2, 4, 8, 16, 32, 64, 128] # scales for the distortion of the model parameters\n",
    "distortion_ranges = []\n",
    "for scale in distortion_scales:\n",
    "    min_scale = 1 / scale\n",
    "    max_scale = scale\n",
    "    distortion_ranges.append((min_scale, max_scale))\n",
    "    \n",
    "\n",
    "## Generation of ground truth model \n",
    "\n",
    "model_name = 'v4_drug_model' # name of the model\n",
    "o_random_seed = 50\n",
    "# p_overall_seed = 46 # different seed for parameter generation\n",
    "no_observable_species = 100\n",
    "no_feedback_regulations = 20\n",
    "specie_value_range = (1000, 5000)\n",
    "param_range = (0.05, 20)\n",
    "param_multiplier_range = (0.5, 1.5)\n",
    "\n",
    "## Simulation parameters \n",
    "\n",
    "simulation_time = 1000 \n",
    "simulation_step = 100\n",
    "\n",
    "## Feature data generation \n",
    "\n",
    "feature_generation_method = 'lhs'\n",
    "feature_generation_extra_params = {'min': 0.1, 'max': 10}\n",
    "feature_generation_size = 1000 \n",
    "feature_generation_seed = 50 # if -1 then 'o_random_seed' is used\n",
    "if feature_generation_seed == -1:\n",
    "    feature_generation_seed = o_random_seed\n",
    "\n",
    "\n",
    "'''\n",
    "Options: \n",
    "- 'feedback_prune': removes feedback regulations from the model \n",
    "- 'random parameter': randomizes a x% of parameter values of the model\n",
    "'''\n",
    "\n",
    "''' \n",
    "Options: \n",
    "- 'last_time_point' : only the last time point of the phosphorylated species is used\n",
    "- 'dynamic_feature': computes the characteristic 'ten' dynamic feature for each specie data \n",
    "'''\n",
    "\n",
    "## General parameters\n",
    "parallelise = True\n",
    "save_figures = True \n",
    "experiment_id = notebook_name + '_' + str(o_random_seed) + '_' + str(no_observable_species) + '_' + str(no_feedback_regulations)\n",
    "experiment_folder = config['DATA_PATH'] + '/' + experiment_id + '/'\n",
    "if not os.path.exists(experiment_folder):\n",
    "    os.makedirs(experiment_folder)\n",
    "    \n",
    "print(experiment_folder)"
   ]
  },
  {
   "cell_type": "markdown",
   "id": "f4ed3292",
   "metadata": {},
   "source": [
    "## Compute"
   ]
  },
  {
   "cell_type": "code",
   "execution_count": 28,
   "id": "1db9e67e",
   "metadata": {},
   "outputs": [
    {
     "name": "stdout",
     "output_type": "stream",
     "text": [
      "Experiment ID:  s2_exp10_extended_42_15_10\n",
      "Experiment folder:  C:\\Users\\dawson\\Documents\\Google Drive\\My Drive\\DAWSON PHD PROJECT\\Biomarker Data Repository\\data\\new-peak-project\\experiments/s2_exp10_extended_42_15_10/\n",
      "Distortion ranges:  [(0.9090909090909091, 1.1), (0.8333333333333334, 1.2), (0.6666666666666666, 1.5), (0.5, 2), (0.25, 4), (0.125, 8), (0.0625, 16), (0.03125, 32), (0.015625, 64), (0.0078125, 128)]\n"
     ]
    }
   ],
   "source": [
    "print('Experiment ID: ', experiment_id)\n",
    "print('Experiment folder: ', experiment_folder)\n",
    "print('Distortion ranges: ', distortion_ranges)"
   ]
  },
  {
   "cell_type": "code",
   "execution_count": 29,
   "id": "20366889",
   "metadata": {},
   "outputs": [
    {
     "name": "stderr",
     "output_type": "stream",
     "text": [
      "Experiment Progress: 0it [00:00, ?it/s]"
     ]
    },
    {
     "name": "stderr",
     "output_type": "stream",
     "text": [
      "Experiment Progress: 10it [17:23, 104.33s/it]\n"
     ]
    }
   ],
   "source": [
    "### Virtual Cell Creation\n",
    "# create a drug enabled model \n",
    "from models.Utils import *\n",
    "from models.DrugModelSpecification import DrugModelSpecification, Drug\n",
    "from models.Solver.RoadrunnerSolver import RoadrunnerSolver\n",
    "from models.SyntheticGen import generate_feature_data_v2, generate_target_data_diff_build\n",
    "from models.SyntheticGen import generate_model_timecourse_data_diff_build\n",
    "from models.Utils import last_time_point_method, dynamic_features_method\n",
    "from joblib import Parallel, delayed\n",
    "import pickle\n",
    "\n",
    "output_data = []\n",
    "for j, dis_range in tqdm(enumerate(distortion_ranges), desc='Experiment Progress'):\n",
    "\n",
    "    model_drug_spec = DrugModelSpecification()\n",
    "    model_drug_spec.generate_specifications(o_random_seed, no_observable_species, no_feedback_regulations, verbose=0)\n",
    "    drug_0 = Drug('D0', 500, 500)\n",
    "    rng = np.random.default_rng(o_random_seed)\n",
    "    # add random 'up' and 'down' regulations to the drug\n",
    "    regulation_dir = []\n",
    "    for i, s in enumerate(model_drug_spec.A_species):\n",
    "        reg_type = str(rng.choice(['up', 'down']))\n",
    "        regulation_dir.append(reg_type)\n",
    "        drug_0.add_regulation(s, reg_type)\n",
    "    model_drug_spec.add_drug(drug_0)\n",
    "    # print(model_drug_spec)\n",
    "    # print(f'Feedback: {model_drug_spec.get_feedback_regulations()}')\n",
    "\n",
    "\n",
    "    p_random_seeds = []\n",
    "    feature_size = 1000 \n",
    "    rng = np.random.default_rng(o_random_seed)\n",
    "    # generate `feature_size` random seeds for different parameter sets using numpy, ensure that the seeds are unique\n",
    "    p_random_seeds = rng.choice(range(1000000), feature_size, replace=False).tolist()\n",
    "\n",
    "    G0_d = model_drug_spec.generate_network('drug_model_524', \n",
    "                                            specie_value_range, \n",
    "                                            param_range, \n",
    "                                            param_multiplier_range,  \n",
    "                                            verbose=0,\n",
    "                                            random_seed=p_random_seeds[0])\n",
    "    base_parameters = G0_d.get_parameters()\n",
    "    base_initial_conditions = G0_d.get_state_variables()\n",
    "\n",
    "    # print(G0_d.get_antimony_model())\n",
    "\n",
    "\n",
    "    # generate parameter sets for each random seed\n",
    "    parameter_sets = []\n",
    "    for p in p_random_seeds: \n",
    "        model_build = model_drug_spec.generate_network(f'param_seed_{p}', \n",
    "                                                specie_value_range, param_range, param_multiplier_range, random_seed=p, verbose=0)\n",
    "        parameter_sets.append(model_build.get_parameters())\n",
    "        \n",
    "    # test simulation \n",
    "\n",
    "\n",
    "\n",
    "    solver = RoadrunnerSolver()\n",
    "    solver.compile(G0_d.get_sbml_model())\n",
    "    # result = solver.simulate(0, 1000, 100)\n",
    "\n",
    "\n",
    "\n",
    "    feature_data = generate_feature_data_v2(model_drug_spec, base_initial_conditions, feature_generation_method, feature_generation_extra_params, 1000, feature_generation_seed)\n",
    "    target_data, _ = generate_target_data_diff_build(model_drug_spec, solver, \n",
    "                                                    feature_data, parameter_sets, \n",
    "                                                    {'start': 0, 'end': 1000, 'points': 100}, \n",
    "                                                    n_cores=1, verbose=False)\n",
    "\n",
    "\n",
    "    # Suboptimal Model Generation\n",
    "\n",
    "    # randomise links and parameters by using a different random seed\n",
    "    new_spec = DrugModelSpecification()\n",
    "    new_spec.generate_specifications(o_random_seed, no_observable_species, no_feedback_regulations, verbose=0)\n",
    "    new_spec.add_drug(drug_0)\n",
    "    new_model = new_spec.generate_network('submodel', specie_value_range, param_range, param_multiplier_range, random_seed=100005352, verbose=0)\n",
    "    new_base_parameters = new_model.get_parameters()\n",
    "    new_base_initial_conditions = new_model.get_state_variables()\n",
    "    new_solver = RoadrunnerSolver()\n",
    "    new_solver.compile(new_model.get_sbml_model())\n",
    "\n",
    "    # Minor distortion of the parameters to create a new set of parameters\n",
    "\n",
    "    rng = np.random.default_rng(o_random_seed)\n",
    "    modified_parameter_sets = []\n",
    "    for params in parameter_sets:\n",
    "        new_params = {}\n",
    "        for key, value in params.items(): \n",
    "            new_params[key] = value * rng.uniform(dis_range[0], dis_range[1]) # distortion range, expectation is that the larger the worse the model performance \n",
    "        modified_parameter_sets.append(new_params)\n",
    "        \n",
    "        \n",
    "\n",
    "\n",
    "    new_base_parameters_set = []\n",
    "    for p in p_random_seeds: \n",
    "        new_base_parameters_set.append(new_base_parameters)\n",
    "\n",
    "    # generate the timecourse data for the new model\n",
    "    time_course_data = generate_model_timecourse_data_diff_build(new_spec, \n",
    "                                                    new_solver, \n",
    "                                                    feature_data, \n",
    "                                                    modified_parameter_sets,\n",
    "                                                    {'start': 0, 'end': 1000, 'points': 100}, \n",
    "                                                    capture_species='all', n_cores=1, verbose=False)\n",
    "\n",
    "\n",
    "\n",
    "\n",
    "    all_species = model_drug_spec.A_species + model_drug_spec.B_species + model_drug_spec.C_species\n",
    "    all_phos_species = [s+'p' for s in all_species]\n",
    "    # apply the data engineering method to the feature data\n",
    "    last_time_data = last_time_point_method(time_course_data, all_phos_species)\n",
    "\n",
    "    dynamic_data = dynamic_features_method(time_course_data, all_phos_species, n_cores=8)\n",
    "    combined_lp_data = pd.concat([feature_data, last_time_data], axis=1)\n",
    "    combined_dyn_data = pd.concat([feature_data, dynamic_data], axis=1)\n",
    "    feature_data_list = [feature_data, last_time_data, dynamic_data, combined_lp_data, combined_dyn_data]\n",
    "    feature_data_names = ['feature_data', 'last_time_data', 'dynamic_data', 'combined_lp_data', 'combined_dyn_data']\n",
    "\n",
    "\n",
    "    def evaluate_model(model, model_name, feature_data, feature_data_name, target_data, test_size=0.2, random_state=4):\n",
    "        X_train, X_test, y_train, y_test = train_test_split(feature_data, target_data, test_size=test_size, random_state=random_state)\n",
    "        model.fit(X_train, y_train)\n",
    "        y_pred = model.predict(X_test)\n",
    "        # return a dictionary of the model performance\n",
    "        return {'Model': model_name, \n",
    "                'Feature Data': feature_data_name,\n",
    "                'Mean Squared Error': mean_squared_error(y_test, y_pred),\n",
    "                'R2 Score': r2_score(y_test, y_pred),\n",
    "                'Pearson Correlation': pearsonr(y_test, y_pred)[0],\n",
    "                'Pearson P-Value': pearsonr(y_test, y_pred)[1]\n",
    "                }\n",
    "        \n",
    "    # create a linear regression model\n",
    "    lm = LinearRegression()\n",
    "    # create a random forest model\n",
    "    rf = RandomForestRegressor(n_estimators=100, random_state=o_random_seed)\n",
    "    # create a gradient boosting model\n",
    "    gb = GradientBoostingRegressor(n_estimators=100, random_state=o_random_seed)\n",
    "    # create a support vector machine model\n",
    "    svr = SVR(max_iter=10000)\n",
    "    scaled_svr = Pipeline([('scaler', StandardScaler()), ('svr', svr)])\n",
    "    # create a neural network model (simple)\n",
    "    nn = MLPRegressor(hidden_layer_sizes=(20,), max_iter=10000, random_state=o_random_seed)\n",
    "    scaled_nn = Pipeline([('scaler', StandardScaler()), ('nn', nn)])\n",
    "\n",
    "    all_models = [lm, rf, gb, scaled_svr, scaled_nn]\n",
    "    all_models_desc = ['Linear Regression', 'Random Forest', 'Gradient Boosting', 'Support Vector Machine', 'Neural Network']\n",
    "    zipped_model_data = list(zip(all_models, all_models_desc))\n",
    "    all_features = feature_data_list\n",
    "    all_features_desc = feature_data_names\n",
    "    zipped_feature_data = list(zip(all_features, all_features_desc))\n",
    "\n",
    "    # random states are rand ints between 0 and 10000, for n values \n",
    "    np.random.seed(o_random_seed)\n",
    "    n_random = 10\n",
    "    all_random_states = np.random.randint(0, 10000, n_random)\n",
    "\n",
    "    parallelise = True \n",
    "    from tqdm import tqdm\n",
    "    # tqdm is a progress bar library, use it to show the progress of the model evaluation\n",
    "    metric_data = []\n",
    "    if not parallelise:          \n",
    "        for (feature_data, feature_data_name) in tqdm(zipped_feature_data):\n",
    "            # print('Feature Data:', feature_data_name)\n",
    "            # print('Feature Data Shape:', feature_data.shape)\n",
    "            for (model, model_name) in zipped_model_data:\n",
    "                # print('Model:', model_name)\n",
    "                for rand in all_random_states:\n",
    "                    metrics = evaluate_model(model, model_name, feature_data, feature_data_name, target_data['Cp'], random_state=rand)\n",
    "                    metric_data.append(metrics)\n",
    "                    \n",
    "    else:        \n",
    "        # parallelise the model evaluation process using joblib\n",
    "        \n",
    "        metric_data = Parallel(n_jobs=-1)(delayed(evaluate_model)(model, model_name, feature_data, feature_data_name, target_data['Cp'], random_state=rand) \n",
    "                                        for (feature_data, feature_data_name) in zipped_feature_data\n",
    "                                        for (model, model_name) in zipped_model_data\n",
    "                                        for rand in all_random_states)\n",
    "\n",
    "    # make a dataframe of the metric data\n",
    "    metric_df = pd.DataFrame(metric_data)\n",
    "    \n",
    "    exp_group = str(distortion_scales[j])\n",
    "    # create a new column for the distortion scale\n",
    "    metric_df['Distortion Scale'] = exp_group\n",
    "    output_data.append(metric_df)\n",
    "    \n",
    "    # save metric_df to a pickle file\n",
    "    output_file = experiment_folder + f'metric_data_{exp_group}.pkl'\n",
    "    metric_df.to_pickle(output_file)\n",
    "    # print(f'Saved metric data to {output_file}')\n",
    "    \n"
   ]
  },
  {
   "cell_type": "code",
   "execution_count": 30,
   "id": "7ba16dea",
   "metadata": {},
   "outputs": [
    {
     "name": "stdout",
     "output_type": "stream",
     "text": [
      "All data loaded successfully. Producing final output dataframe.\n"
     ]
    }
   ],
   "source": [
    "output_df = pd.DataFrame()\n",
    "all_loaded = True\n",
    "\n",
    "for i, df in enumerate(output_data):\n",
    "    # load the metric data for each scale\n",
    "    exp_group = df.iloc[0]['Distortion Scale']  # get the distortion scale from the first row of the dataframe\n",
    "    curr_scale = str(distortion_scales[i])\n",
    "    \n",
    "    if exp_group != curr_scale:\n",
    "        print(f'Warning: Distortion scale mismatch! Expected {curr_scale}, but got {exp_group}.')\n",
    "        all_loaded = False\n",
    "        # if the file exists, load it\n",
    "        if os.path.exists(experiment_folder + f'metric_data_{curr_scale}.pkl'):\n",
    "            print(f'Loading metric data for scale {curr_scale} from file...')\n",
    "            df = pd.read_pickle(experiment_folder + f'metric_data_{curr_scale}.pkl')\n",
    "            all_loaded = True\n",
    "        else:\n",
    "            print(f'File not found for scale {curr_scale}, there is missing data for this scale.')\n",
    "            all_loaded = False\n",
    "            break \n",
    "\n",
    "    if not all_loaded:\n",
    "        break\n",
    "        \n",
    "    output_df = pd.concat([output_df, df], ignore_index=True)\n",
    "\n",
    "if not all_loaded:\n",
    "    print('Not all data was loaded successfully, please check the files.')\n",
    "else:\n",
    "    print('All data loaded successfully. Producing final output dataframe.')\n",
    "    # save the output_df to a pickle file\n",
    "    output_file = experiment_folder + 'final_output_df.pkl'\n",
    "    output_df.to_pickle(output_file)\n"
   ]
  },
  {
   "cell_type": "markdown",
   "id": "835f9c4b",
   "metadata": {},
   "source": [
    "## Analysis"
   ]
  },
  {
   "cell_type": "code",
   "execution_count": 5,
   "id": "cc324780",
   "metadata": {},
   "outputs": [],
   "source": [
    "import pandas as pd\n",
    "\n",
    "# load the final output dataframe\n",
    "seed_id, obs_id, fb_id = 50, 100, 20\n",
    "load_folder = config['DATA_PATH'] + f'\\\\{notebook_name}_{seed_id}_{obs_id}_{fb_id}/'\n",
    "output_df = pd.read_pickle(load_folder + 'final_output_df.pkl')\n",
    "\n"
   ]
  },
  {
   "cell_type": "code",
   "execution_count": 6,
   "id": "9768abec",
   "metadata": {},
   "outputs": [
    {
     "data": {
      "application/vnd.microsoft.datawrangler.viewer.v0+json": {
       "columns": [
        {
         "name": "index",
         "rawType": "int64",
         "type": "integer"
        },
        {
         "name": "Model",
         "rawType": "object",
         "type": "string"
        },
        {
         "name": "Feature Data",
         "rawType": "object",
         "type": "string"
        },
        {
         "name": "Mean Squared Error",
         "rawType": "float64",
         "type": "float"
        },
        {
         "name": "R2 Score",
         "rawType": "float64",
         "type": "float"
        },
        {
         "name": "Pearson Correlation",
         "rawType": "float64",
         "type": "float"
        },
        {
         "name": "Pearson P-Value",
         "rawType": "float64",
         "type": "float"
        },
        {
         "name": "Distortion Scale",
         "rawType": "object",
         "type": "string"
        }
       ],
       "conversionMethod": "pd.DataFrame",
       "ref": "ee7531ef-af51-414d-9c63-1b6b196d883f",
       "rows": [
        [
         "0",
         "Linear Regression",
         "feature_data",
         "18.92619529821853",
         "-1.0287504138605308",
         "-0.07779375464080002",
         "0.27354549572890335",
         "1.1"
        ],
        [
         "1",
         "Linear Regression",
         "feature_data",
         "22.774891577285086",
         "-0.3311193954048326",
         "-0.050482025036809625",
         "0.4777651960162014",
         "1.1"
        ],
        [
         "2",
         "Linear Regression",
         "feature_data",
         "23.46964001404456",
         "-0.21094133910933488",
         "0.03419470884880603",
         "0.6307327978090905",
         "1.1"
        ],
        [
         "3",
         "Linear Regression",
         "feature_data",
         "23.909608748754128",
         "-0.10379628805590446",
         "0.08107876946460967",
         "0.2537368157063834",
         "1.1"
        ],
        [
         "4",
         "Linear Regression",
         "feature_data",
         "27.90134961290918",
         "-0.31089108607715277",
         "-0.03675228549555889",
         "0.6053847555522616",
         "1.1"
        ],
        [
         "5",
         "Linear Regression",
         "feature_data",
         "18.29365901498501",
         "-0.35379919583194486",
         "0.03486480177242455",
         "0.6240480911378673",
         "1.1"
        ],
        [
         "6",
         "Linear Regression",
         "feature_data",
         "14.94224496844186",
         "-0.7469103562260166",
         "-0.06124964198651054",
         "0.38891833383214064",
         "1.1"
        ],
        [
         "7",
         "Linear Regression",
         "feature_data",
         "28.589445909106963",
         "-0.13268965280886547",
         "0.054167214007171546",
         "0.4461805680586128",
         "1.1"
        ],
        [
         "8",
         "Linear Regression",
         "feature_data",
         "19.7712914285868",
         "-0.26531673428855673",
         "0.05451059967526228",
         "0.4432988583495597",
         "1.1"
        ],
        [
         "9",
         "Linear Regression",
         "feature_data",
         "16.73777021854099",
         "-0.38803739580083274",
         "0.03724508403610879",
         "0.6005531496911333",
         "1.1"
        ],
        [
         "10",
         "Random Forest",
         "feature_data",
         "11.98482943140623",
         "-0.2846865038585904",
         "0.06362197784057841",
         "0.3707774101439709",
         "1.1"
        ],
        [
         "11",
         "Random Forest",
         "feature_data",
         "17.74361754155175",
         "-0.03705755849839565",
         "0.07733991808303921",
         "0.276362439630011",
         "1.1"
        ],
        [
         "12",
         "Random Forest",
         "feature_data",
         "20.930035815396394",
         "-0.0799077268648185",
         "0.09705550769925206",
         "0.17156302869896403",
         "1.1"
        ],
        [
         "13",
         "Random Forest",
         "feature_data",
         "21.344754159139512",
         "0.014611211003120683",
         "0.1938120714776102",
         "0.005962083260071488",
         "1.1"
        ],
        [
         "14",
         "Random Forest",
         "feature_data",
         "24.12799090258826",
         "-0.133607106393149",
         "0.04686275711669324",
         "0.5099294557584046",
         "1.1"
        ],
        [
         "15",
         "Random Forest",
         "feature_data",
         "15.16988619012702",
         "-0.12262832209966801",
         "0.06004589861167557",
         "0.3983247206742244",
         "1.1"
        ],
        [
         "16",
         "Random Forest",
         "feature_data",
         "15.504091804020366",
         "-0.8125963396748113",
         "0.04187536829619884",
         "0.5560266502893665",
         "1.1"
        ],
        [
         "17",
         "Random Forest",
         "feature_data",
         "28.21355793367745",
         "-0.11779728932137812",
         "0.01782495209500853",
         "0.8021831300681718",
         "1.1"
        ],
        [
         "18",
         "Random Forest",
         "feature_data",
         "17.90065403923232",
         "-0.14560028576593909",
         "0.05056822210460439",
         "0.4770128302680765",
         "1.1"
        ],
        [
         "19",
         "Random Forest",
         "feature_data",
         "15.119451905326406",
         "-0.2538327611498632",
         "0.05153997422545312",
         "0.46857564572678767",
         "1.1"
        ],
        [
         "20",
         "Gradient Boosting",
         "feature_data",
         "21.565813133123303",
         "-1.311698237795369",
         "-0.004560799886665464",
         "0.9488941869940432",
         "1.1"
        ],
        [
         "21",
         "Gradient Boosting",
         "feature_data",
         "19.69329325587305",
         "-0.15100985325580618",
         "0.10436023075067274",
         "0.1413873212047159",
         "1.1"
        ],
        [
         "22",
         "Gradient Boosting",
         "feature_data",
         "22.7770220005977",
         "-0.17520496717552203",
         "0.0810114800774105",
         "0.2541323605581036",
         "1.1"
        ],
        [
         "23",
         "Gradient Boosting",
         "feature_data",
         "21.733909848752713",
         "-0.0033543111509493073",
         "0.2219215008006291",
         "0.0015872065342554117",
         "1.1"
        ],
        [
         "24",
         "Gradient Boosting",
         "feature_data",
         "24.765885283575436",
         "-0.163577343299105",
         "0.035408656970312744",
         "0.6186451637699004",
         "1.1"
        ],
        [
         "25",
         "Gradient Boosting",
         "feature_data",
         "16.90931972506047",
         "-0.25135291015868244",
         "-0.02348339643776621",
         "0.7413476353902211",
         "1.1"
        ],
        [
         "26",
         "Gradient Boosting",
         "feature_data",
         "17.36640670191091",
         "-1.0303211319366157",
         "0.04949124597319583",
         "0.4864592228533696",
         "1.1"
        ],
        [
         "27",
         "Gradient Boosting",
         "feature_data",
         "29.11297566372077",
         "-0.15343145864427465",
         "0.028327110198213698",
         "0.6905013838446009",
         "1.1"
        ],
        [
         "28",
         "Gradient Boosting",
         "feature_data",
         "20.257129598861123",
         "-0.29640924886832765",
         "-0.02506460478940165",
         "0.7246128500566422",
         "1.1"
        ],
        [
         "29",
         "Gradient Boosting",
         "feature_data",
         "14.938982413436277",
         "-0.23886670532080267",
         "0.06965104452083212",
         "0.3270707314948475",
         "1.1"
        ],
        [
         "30",
         "Support Vector Machine",
         "feature_data",
         "10.606613696655977",
         "-0.1369518060914776",
         "-0.11795887459838297",
         "0.09620299805137594",
         "1.1"
        ],
        [
         "31",
         "Support Vector Machine",
         "feature_data",
         "18.652111152163787",
         "-0.09015609736885866",
         "-0.06763451528682848",
         "0.34130431055322924",
         "1.1"
        ],
        [
         "32",
         "Support Vector Machine",
         "feature_data",
         "21.120934268336242",
         "-0.08975733802623997",
         "-0.045641461691377734",
         "0.5210313163911791",
         "1.1"
        ],
        [
         "33",
         "Support Vector Machine",
         "feature_data",
         "23.329304782585726",
         "-0.07700633216278785",
         "0.032889806755879505",
         "0.6438362597367663",
         "1.1"
        ],
        [
         "34",
         "Support Vector Machine",
         "feature_data",
         "23.52423512355378",
         "-0.10524080584194984",
         "-0.02103541651557752",
         "0.7674944994378113",
         "1.1"
        ],
        [
         "35",
         "Support Vector Machine",
         "feature_data",
         "14.34840529231545",
         "-0.06183566285431796",
         "0.1210012096124172",
         "0.08786548667033155",
         "1.1"
        ],
        [
         "36",
         "Support Vector Machine",
         "feature_data",
         "9.02493567864048",
         "-0.0551127782062284",
         "0.014521838898481437",
         "0.8382805824236086",
         "1.1"
        ],
        [
         "37",
         "Support Vector Machine",
         "feature_data",
         "27.68625754707152",
         "-0.09690609423737695",
         "0.06209550087633454",
         "0.38238954775078804",
         "1.1"
        ],
        [
         "38",
         "Support Vector Machine",
         "feature_data",
         "16.272796771195697",
         "-0.04142120117150294",
         "0.05974146232406451",
         "0.4007250429502084",
         "1.1"
        ],
        [
         "39",
         "Support Vector Machine",
         "feature_data",
         "12.95661027493153",
         "-0.07447165002304201",
         "0.043456953137384985",
         "0.5411925022282572",
         "1.1"
        ],
        [
         "40",
         "Neural Network",
         "feature_data",
         "20.74560014162484",
         "-1.223777373631354",
         "-0.024630984429190553",
         "0.7291894994888458",
         "1.1"
        ],
        [
         "41",
         "Neural Network",
         "feature_data",
         "22.977437774432566",
         "-0.34295757125623405",
         "0.07959450353834477",
         "0.26256072631141236",
         "1.1"
        ],
        [
         "42",
         "Neural Network",
         "feature_data",
         "26.11102643264847",
         "-0.3472265145502602",
         "0.013360941841340228",
         "0.8510520376099858",
         "1.1"
        ],
        [
         "43",
         "Neural Network",
         "feature_data",
         "24.572371195303514",
         "-0.13439297142497808",
         "0.15687771979039733",
         "0.026525248385626306",
         "1.1"
        ],
        [
         "44",
         "Neural Network",
         "feature_data",
         "28.973025525228483",
         "-0.3612417114093762",
         "-0.01598560452472908",
         "0.8222376206005204",
         "1.1"
        ],
        [
         "45",
         "Neural Network",
         "feature_data",
         "19.875022232633622",
         "-0.4708259891387001",
         "0.07324957346597263",
         "0.30263568602564483",
         "1.1"
        ],
        [
         "46",
         "Neural Network",
         "feature_data",
         "19.51720181909953",
         "-1.2817723879073535",
         "-0.07943310641206079",
         "0.2635327507312372",
         "1.1"
        ],
        [
         "47",
         "Neural Network",
         "feature_data",
         "29.96634982609813",
         "-0.18724142078108397",
         "0.0998477175278326",
         "0.15950837677530438",
         "1.1"
        ],
        [
         "48",
         "Neural Network",
         "feature_data",
         "20.94198289001791",
         "-0.3402382689889023",
         "0.0724800308118789",
         "0.3077570729978992",
         "1.1"
        ],
        [
         "49",
         "Neural Network",
         "feature_data",
         "19.644085641351",
         "-0.6290536385966814",
         "0.0018832521210058687",
         "0.9788854194288659",
         "1.1"
        ]
       ],
       "shape": {
        "columns": 7,
        "rows": 2500
       }
      },
      "text/html": [
       "<div>\n",
       "<style scoped>\n",
       "    .dataframe tbody tr th:only-of-type {\n",
       "        vertical-align: middle;\n",
       "    }\n",
       "\n",
       "    .dataframe tbody tr th {\n",
       "        vertical-align: top;\n",
       "    }\n",
       "\n",
       "    .dataframe thead th {\n",
       "        text-align: right;\n",
       "    }\n",
       "</style>\n",
       "<table border=\"1\" class=\"dataframe\">\n",
       "  <thead>\n",
       "    <tr style=\"text-align: right;\">\n",
       "      <th></th>\n",
       "      <th>Model</th>\n",
       "      <th>Feature Data</th>\n",
       "      <th>Mean Squared Error</th>\n",
       "      <th>R2 Score</th>\n",
       "      <th>Pearson Correlation</th>\n",
       "      <th>Pearson P-Value</th>\n",
       "      <th>Distortion Scale</th>\n",
       "    </tr>\n",
       "  </thead>\n",
       "  <tbody>\n",
       "    <tr>\n",
       "      <th>0</th>\n",
       "      <td>Linear Regression</td>\n",
       "      <td>feature_data</td>\n",
       "      <td>18.926195</td>\n",
       "      <td>-1.028750</td>\n",
       "      <td>-0.077794</td>\n",
       "      <td>2.735455e-01</td>\n",
       "      <td>1.1</td>\n",
       "    </tr>\n",
       "    <tr>\n",
       "      <th>1</th>\n",
       "      <td>Linear Regression</td>\n",
       "      <td>feature_data</td>\n",
       "      <td>22.774892</td>\n",
       "      <td>-0.331119</td>\n",
       "      <td>-0.050482</td>\n",
       "      <td>4.777652e-01</td>\n",
       "      <td>1.1</td>\n",
       "    </tr>\n",
       "    <tr>\n",
       "      <th>2</th>\n",
       "      <td>Linear Regression</td>\n",
       "      <td>feature_data</td>\n",
       "      <td>23.469640</td>\n",
       "      <td>-0.210941</td>\n",
       "      <td>0.034195</td>\n",
       "      <td>6.307328e-01</td>\n",
       "      <td>1.1</td>\n",
       "    </tr>\n",
       "    <tr>\n",
       "      <th>3</th>\n",
       "      <td>Linear Regression</td>\n",
       "      <td>feature_data</td>\n",
       "      <td>23.909609</td>\n",
       "      <td>-0.103796</td>\n",
       "      <td>0.081079</td>\n",
       "      <td>2.537368e-01</td>\n",
       "      <td>1.1</td>\n",
       "    </tr>\n",
       "    <tr>\n",
       "      <th>4</th>\n",
       "      <td>Linear Regression</td>\n",
       "      <td>feature_data</td>\n",
       "      <td>27.901350</td>\n",
       "      <td>-0.310891</td>\n",
       "      <td>-0.036752</td>\n",
       "      <td>6.053848e-01</td>\n",
       "      <td>1.1</td>\n",
       "    </tr>\n",
       "    <tr>\n",
       "      <th>...</th>\n",
       "      <td>...</td>\n",
       "      <td>...</td>\n",
       "      <td>...</td>\n",
       "      <td>...</td>\n",
       "      <td>...</td>\n",
       "      <td>...</td>\n",
       "      <td>...</td>\n",
       "    </tr>\n",
       "    <tr>\n",
       "      <th>2495</th>\n",
       "      <td>Neural Network</td>\n",
       "      <td>combined_dyn_data</td>\n",
       "      <td>6.280590</td>\n",
       "      <td>0.535213</td>\n",
       "      <td>0.762069</td>\n",
       "      <td>3.122084e-39</td>\n",
       "      <td>128</td>\n",
       "    </tr>\n",
       "    <tr>\n",
       "      <th>2496</th>\n",
       "      <td>Neural Network</td>\n",
       "      <td>combined_dyn_data</td>\n",
       "      <td>5.075458</td>\n",
       "      <td>0.406624</td>\n",
       "      <td>0.732145</td>\n",
       "      <td>7.387707e-35</td>\n",
       "      <td>128</td>\n",
       "    </tr>\n",
       "    <tr>\n",
       "      <th>2497</th>\n",
       "      <td>Neural Network</td>\n",
       "      <td>combined_dyn_data</td>\n",
       "      <td>8.394962</td>\n",
       "      <td>0.667399</td>\n",
       "      <td>0.828138</td>\n",
       "      <td>1.136905e-51</td>\n",
       "      <td>128</td>\n",
       "    </tr>\n",
       "    <tr>\n",
       "      <th>2498</th>\n",
       "      <td>Neural Network</td>\n",
       "      <td>combined_dyn_data</td>\n",
       "      <td>7.561065</td>\n",
       "      <td>0.516109</td>\n",
       "      <td>0.723628</td>\n",
       "      <td>1.017183e-33</td>\n",
       "      <td>128</td>\n",
       "    </tr>\n",
       "    <tr>\n",
       "      <th>2499</th>\n",
       "      <td>Neural Network</td>\n",
       "      <td>combined_dyn_data</td>\n",
       "      <td>4.827555</td>\n",
       "      <td>0.599658</td>\n",
       "      <td>0.795784</td>\n",
       "      <td>5.260748e-45</td>\n",
       "      <td>128</td>\n",
       "    </tr>\n",
       "  </tbody>\n",
       "</table>\n",
       "<p>2500 rows × 7 columns</p>\n",
       "</div>"
      ],
      "text/plain": [
       "                  Model       Feature Data  Mean Squared Error  R2 Score  \\\n",
       "0     Linear Regression       feature_data           18.926195 -1.028750   \n",
       "1     Linear Regression       feature_data           22.774892 -0.331119   \n",
       "2     Linear Regression       feature_data           23.469640 -0.210941   \n",
       "3     Linear Regression       feature_data           23.909609 -0.103796   \n",
       "4     Linear Regression       feature_data           27.901350 -0.310891   \n",
       "...                 ...                ...                 ...       ...   \n",
       "2495     Neural Network  combined_dyn_data            6.280590  0.535213   \n",
       "2496     Neural Network  combined_dyn_data            5.075458  0.406624   \n",
       "2497     Neural Network  combined_dyn_data            8.394962  0.667399   \n",
       "2498     Neural Network  combined_dyn_data            7.561065  0.516109   \n",
       "2499     Neural Network  combined_dyn_data            4.827555  0.599658   \n",
       "\n",
       "      Pearson Correlation  Pearson P-Value Distortion Scale  \n",
       "0               -0.077794     2.735455e-01              1.1  \n",
       "1               -0.050482     4.777652e-01              1.1  \n",
       "2                0.034195     6.307328e-01              1.1  \n",
       "3                0.081079     2.537368e-01              1.1  \n",
       "4               -0.036752     6.053848e-01              1.1  \n",
       "...                   ...              ...              ...  \n",
       "2495             0.762069     3.122084e-39              128  \n",
       "2496             0.732145     7.387707e-35              128  \n",
       "2497             0.828138     1.136905e-51              128  \n",
       "2498             0.723628     1.017183e-33              128  \n",
       "2499             0.795784     5.260748e-45              128  \n",
       "\n",
       "[2500 rows x 7 columns]"
      ]
     },
     "execution_count": 6,
     "metadata": {},
     "output_type": "execute_result"
    }
   ],
   "source": [
    "output_df"
   ]
  },
  {
   "cell_type": "code",
   "execution_count": 7,
   "id": "d50d90e3",
   "metadata": {},
   "outputs": [
    {
     "data": {
      "image/png": "[encoded data removed]",
      "text/plain": [
       "<Figure size 640x480 with 1 Axes>"
      ]
     },
     "metadata": {},
     "output_type": "display_data"
    }
   ],
   "source": [
    "import matplotlib.pyplot as plt\n",
    "import seaborn as sns\n",
    "\n",
    "sns.set_context(\"talk\")\n",
    "sns.set_style(\"whitegrid\")\n",
    "sns.set(font=\"Arial\", font_scale=1.5)\n",
    "sns.barplot(data=output_df, x='Feature Data', y='Pearson Correlation', hue='Distortion Scale', palette='viridis', errorbar='se')\n",
    "# 90 degree rotation of the x-axis labels\n",
    "plt.xticks(rotation=90)\n",
    "# legend to the right\n",
    "plt.legend(title='Distortion Scale', bbox_to_anchor=(1.05, 1), loc='upper left')\n",
    "plt.show()"
   ]
  },
  {
   "cell_type": "code",
   "execution_count": 8,
   "id": "baa05c8d",
   "metadata": {},
   "outputs": [
    {
     "data": {
      "image/png": "[encoded data removed]",
      "text/plain": [
       "<Figure size 640x480 with 1 Axes>"
      ]
     },
     "metadata": {},
     "output_type": "display_data"
    }
   ],
   "source": [
    "sns.lineplot(data=output_df, x='Distortion Scale', y='Pearson Correlation', hue='Feature Data', palette='Set1', marker='o')\n",
    "# 90 degree rotation of the x-axis labels\n",
    "# legend to the right\n",
    "plt.legend(title='Type of data', bbox_to_anchor=(1.05, 1), loc='upper left')\n",
    "plt.show()"
   ]
  }
 ],
 "metadata": {
  "kernelspec": {
   "display_name": ".venv",
   "language": "python",
   "name": "python3"
  },
  "language_info": {
   "codemirror_mode": {
    "name": "ipython",
    "version": 3
   },
   "file_extension": ".py",
   "mimetype": "text/x-python",
   "name": "python",
   "nbconvert_exporter": "python",
   "pygments_lexer": "ipython3",
   "version": "3.12.10"
  }
 },
 "nbformat": 4,
 "nbformat_minor": 5
}
