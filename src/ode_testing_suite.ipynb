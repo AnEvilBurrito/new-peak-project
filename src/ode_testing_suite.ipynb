{
 "cells": [
  {
   "cell_type": "markdown",
   "metadata": {},
   "source": [
    "# ODE testing suite\n",
    "\n",
    "This notebook is primarily used to test the construction of new ODE equations using the ModelBuilder class. It is also used to test the ODE solver and the ODE solver's ability to solve the equations."
   ]
  },
  {
   "cell_type": "code",
   "execution_count": 1,
   "metadata": {},
   "outputs": [
    {
     "name": "stdout",
     "output_type": "stream",
     "text": [
      "model testmodel\n",
      "\n",
      "r1: A + B -> C; r1_ka*A*B\n",
      "r1r: C -> A + B; r1_kd*C\n",
      "\n",
      "# State variables in the system\n",
      "A=10\n",
      "B=5\n",
      "C=0\n",
      "\n",
      "# Parameters in the system\n",
      "r1_ka=0.001\n",
      "r1_kd=0.01\n",
      "\n",
      "# Other variables in the system\n",
      "\n",
      "\n",
      "end\n"
     ]
    },
    {
     "data": {
      "image/png": "[encoded data removed]",
      "text/plain": [
       "<Figure size 432x288 with 1 Axes>"
      ]
     },
     "metadata": {
      "needs_background": "light"
     },
     "output_type": "display_data"
    }
   ],
   "source": [
    "from models.ModelBuilder import ModelBuilder\n",
    "from models.Reaction import Reaction\n",
    "from models.ReactionArchtype import ReactionArchtype\n",
    "from models.ArchtypeCollections import *\n",
    "\n",
    "# default imports\n",
    "import roadrunner\n",
    "import matplotlib.pyplot as plt\n",
    "import pandas as pd\n",
    "import numpy as np\n",
    "\n",
    "\n",
    "test_model = ModelBuilder('testmodel')\n",
    "\n",
    "# create reactions\n",
    "reactions = [Reaction(mass_action_21, ('A','B'), ('C',), 'r1', zero_init=True),]\n",
    "\n",
    "# absolute size of kf controls the rate of the reaction, relative size of kf controls the direction of the reaction, if kf_r1 > kf_r2, then r1 \n",
    "# will be faster than r2, therefore A will be converted to B faster than B is converted to A, leading to higher B concentration than A \n",
    "# concentration\n",
    "\n",
    "for r in reactions:\n",
    "    test_model.add_reaction(r)\n",
    "\n",
    "# print(a)\n",
    "\n",
    "test_model.add_enforce_state_value('A', 10)\n",
    "test_model.add_enforce_state_value('B', 5)\n",
    "\n",
    "\n",
    "print(test_model.get_antimony_model())\n",
    "\n",
    "\n",
    "# simulate\n",
    "\n",
    "states = test_model.get_all_variables_keys()\n",
    "states_with_time = ['time'] + states\n",
    "rr = roadrunner.RoadRunner(test_model.get_sbml_model())\n",
    "\n",
    "res = rr.simulate(0,500,500, selections=states_with_time)\n",
    "\n",
    "# plot\n",
    "\n",
    "for s in states:\n",
    "    plt.plot(res['time'], res[s], label=s)\n",
    "\n",
    "plt.legend()\n",
    "plt.show()\n"
   ]
  }
 ],
 "metadata": {
  "kernelspec": {
   "display_name": "Python 3.8.10 ('new-peak-project': venv)",
   "language": "python",
   "name": "python3"
  },
  "language_info": {
   "codemirror_mode": {
    "name": "ipython",
    "version": 3
   },
   "file_extension": ".py",
   "mimetype": "text/x-python",
   "name": "python",
   "nbconvert_exporter": "python",
   "pygments_lexer": "ipython3",
   "version": "3.8.3"
  },
  "orig_nbformat": 4,
  "vscode": {
   "interpreter": {
    "hash": "26dd0fc41489774a473fd43448eb28c34cff45d3a78493dcfae1c9dcdb817ac1"
   }
  }
 },
 "nbformat": 4,
 "nbformat_minor": 2
}
