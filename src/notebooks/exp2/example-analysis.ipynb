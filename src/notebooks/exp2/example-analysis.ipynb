{
 "cells": [
  {
   "cell_type": "markdown",
   "id": "7ca3cd27",
   "metadata": {},
   "source": [
    "# Init\n",
    "\n",
    "This notebook's initialization cell can be copied to other notebooks"
   ]
  },
  {
   "cell_type": "code",
   "execution_count": null,
   "id": "6bcc6d49",
   "metadata": {},
   "outputs": [
    {
     "name": "stdout",
     "output_type": "stream",
     "text": [
      "Project path set to: c:\\Github\\new-peak-project\\src\n"
     ]
    }
   ],
   "source": [
    "import os\n",
    "\n",
    "path = os.getcwd()\n",
    "# find the string 'project' in the path, return index\n",
    "index_project = path.find(\"project\")\n",
    "# slice the path from the index of 'project' to the end\n",
    "project_path = path[: index_project + 7]\n",
    "# set the working directory\n",
    "os.chdir(project_path + \"/src\")\n",
    "print(f\"Project path set to: {os.getcwd()}\")\n"
   ]
  },
  {
   "cell_type": "code",
   "execution_count": 2,
   "id": "6d659009",
   "metadata": {},
   "outputs": [
    {
     "name": "stdout",
     "output_type": "stream",
     "text": [
      "I:\\My Drive\\DAWSON PHD PROJECT\\Biomarker Data Repository\\data\\new-peak-project\\experiments\n"
     ]
    }
   ],
   "source": [
    "from dotenv import dotenv_values\n",
    "config = dotenv_values(\".env\")\n",
    "print(config[\"DATA_PATH\"])"
   ]
  },
  {
   "cell_type": "code",
   "execution_count": 3,
   "id": "1f8d0a80",
   "metadata": {},
   "outputs": [
    {
     "name": "stdout",
     "output_type": "stream",
     "text": [
      "New data path set to: I:\\My Drive\\DAWSON PHD PROJECT\\Biomarker Data Repository\\data\\data-and-mechanism-project\n"
     ]
    }
   ],
   "source": [
    "new_path = config[\"NEW_DATA_PATH\"]\n",
    "print(f'New data path set to: {new_path}')"
   ]
  },
  {
   "cell_type": "markdown",
   "id": "21691741",
   "metadata": {},
   "source": [
    "# Config "
   ]
  },
  {
   "cell_type": "code",
   "execution_count": 4,
   "id": "8758367a",
   "metadata": {},
   "outputs": [
    {
     "name": "stdout",
     "output_type": "stream",
     "text": [
      "Created folder structure at I:\\My Drive\\DAWSON PHD PROJECT\\Biomarker Data Repository\\data\\data-and-mechanism-project\\test-folder\n"
     ]
    }
   ],
   "source": [
    "from models.utils.config_manager import initialise_config\n",
    "\n",
    "initialise_config(folder_name=\"test-folder\", verbose=1)\n"
   ]
  },
  {
   "cell_type": "code",
   "execution_count": 5,
   "id": "19a6e1af",
   "metadata": {},
   "outputs": [],
   "source": [
    "from models.utils.config_manager import save_configs\n",
    "\n",
    "\"\"\"\n",
    "notebook:\n",
    "  version: \"testCaseA\"\n",
    "  name: \"model-inspection\"\n",
    "  compatible_notebooks: [\"model-inspection-1\"]\n",
    "  desc: | \n",
    "    Monitor the behaviour of basic networks to ensure systems correctness \n",
    "\n",
    "exp: \n",
    "  spec:\n",
    "    n_layers: 2\n",
    "    n_cascades: 1\n",
    "    n_regs: 0\n",
    "    gen_seed: 42\n",
    "    drug:\n",
    "      name: \"D\"\n",
    "      start: 500\n",
    "      dose: 500\n",
    "      regulations: [['R1', 'down']]\n",
    "  parameter_generation:\n",
    "    ic_range: [200,1000]\n",
    "    param_range: [0.5,1.5]\n",
    "    param_mul_range: [0.99, 1.01] # almost no multiplication, legacy \n",
    "  simulation: \n",
    "    start: 0\n",
    "    stop: 1000\n",
    "    step: 100\n",
    "\"\"\"\n",
    "\n",
    "example_config = {\n",
    "    \"notebook\": {\n",
    "        \"version\": \"v1\",\n",
    "        \"name\": \"test-folder\",\n",
    "        \"compatible_notebooks\": [\"example-analysis\"],\n",
    "        \"desc\": \"Monitor the behaviour of basic networks to ensure systems correctness\",\n",
    "    },\n",
    "    \"exp\": {\n",
    "        \"spec\": {\n",
    "            \"n_layers\": 2,\n",
    "            \"n_cascades\": 1,\n",
    "            \"n_regs\": 0,\n",
    "            \"gen_seed\": 42,\n",
    "            \"drug\": {\n",
    "                \"name\": \"D\",\n",
    "                \"start\": 500,\n",
    "                \"dose\": 500,\n",
    "                \"regulations\": [[\"R1\", \"down\"]],\n",
    "            },\n",
    "        },\n",
    "        \"parameter_generation\": {\n",
    "            \"ic_range\": [200, 1000],\n",
    "            \"param_range\": [0.5, 1.5],\n",
    "            \"param_mul_range\": [0.99, 1.01],  # almost no multiplication, legacy\n",
    "        },\n",
    "        \"simulation\": {\"start\": 0, \"stop\": 1000, \"step\": 100},\n",
    "    },\n",
    "}\n",
    "\n",
    "save_configs(folder_name=example_config['notebook']['name'], config=example_config)"
   ]
  },
  {
   "cell_type": "code",
   "execution_count": null,
   "id": "49bb07dd",
   "metadata": {},
   "outputs": [
    {
     "name": "stdout",
     "output_type": "stream",
     "text": [
      "{'version': 'v1', 'name': 'test-folder', 'compatible_notebooks': ['example-analysis'], 'desc': 'Monitor the behaviour of basic networks to ensure systems correctness'}\n",
      "{'spec': {'n_layers': 2, 'n_cascades': 1, 'n_regs': 0, 'gen_seed': 42, 'drug': {'name': 'D', 'start': 500, 'dose': 500, 'regulations': [['R1', 'down']]}}, 'parameter_generation': {'ic_range': [200, 1000], 'param_range': [0.5, 1.5], 'param_mul_range': [0.99, 1.01]}, 'simulation': {'start': 0, 'stop': 1000, 'step': 100}}\n"
     ]
    }
   ],
   "source": [
    "# or load existing config\n",
    "from models.utils.config_manager import load_configs\n",
    "\n",
    "loaded_config = load_configs(folder_name=\"test-folder\", config_suffix=\"v1\")\n",
    "# print loaded config\n",
    "print(loaded_config['notebook'])\n",
    "print(loaded_config['exp'])"
   ]
  },
  {
   "cell_type": "markdown",
   "id": "e4aaa413",
   "metadata": {},
   "source": [
    "# Run"
   ]
  },
  {
   "cell_type": "markdown",
   "id": "5e1db450",
   "metadata": {},
   "source": [
    "## Create mock data"
   ]
  },
  {
   "cell_type": "code",
   "execution_count": 10,
   "id": "7c4c47a3",
   "metadata": {},
   "outputs": [],
   "source": [
    "import pandas as pd\n",
    "from sklearn.datasets import make_regression\n",
    "from models.utils.config_manager import save_data \n",
    "\n",
    "X, y = make_regression(n_samples=100, n_features=1, noise=0.4, random_state=42)\n",
    "data = pd.DataFrame(X, columns=[\"Feature\"])\n",
    "data[\"Target\"] = y\n",
    "\n",
    "notebook_config = example_config['notebook']\n",
    "\n",
    "save_data(notebook_config, data, 'make_regression_data', verbose=1)\n",
    "# save data again in csv format\n",
    "save_data(notebook_config, data, 'make_regression_data', 'csv', verbose=1)\n"
   ]
  },
  {
   "cell_type": "code",
   "execution_count": 18,
   "id": "341b9c73",
   "metadata": {},
   "outputs": [
    {
     "name": "stdout",
     "output_type": "stream",
     "text": [
      "Figure saved at I:\\My Drive\\DAWSON PHD PROJECT\\Biomarker Data Repository\\data\\data-and-mechanism-project\\test-folder\\figures\\regression_scatter_v1.png\n"
     ]
    },
    {
     "data": {
      "image/png": "[encoded data removed]",
      "text/plain": [
       "<Figure size 640x480 with 1 Axes>"
      ]
     },
     "metadata": {},
     "output_type": "display_data"
    }
   ],
   "source": [
    "import matplotlib.pyplot as plt\n",
    "import seaborn as sns\n",
    "from models.utils.config_manager import save_figure\n",
    "\n",
    "# use seaborn to create a scatter plot\n",
    "sns.set_style(\"whitegrid\")\n",
    "sns.set_context(\"talk\", font_scale=1.2)\n",
    "\n",
    "sns.scatterplot(x='Feature', y='Target', data=data)\n",
    "plt.title('Regression Scatter Plot')\n",
    "plt.xlabel('Feature')\n",
    "plt.ylabel('Target')\n",
    "plt.tight_layout()\n",
    "save_figure(notebook_config, plt.gcf(), 'regression_scatter', verbose=1, dpi=300)\n",
    "plt.show()"
   ]
  }
 ],
 "metadata": {
  "kernelspec": {
   "display_name": "new-peak-project",
   "language": "python",
   "name": "python3"
  },
  "language_info": {
   "codemirror_mode": {
    "name": "ipython",
    "version": 3
   },
   "file_extension": ".py",
   "mimetype": "text/x-python",
   "name": "python",
   "nbconvert_exporter": "python",
   "pygments_lexer": "ipython3",
   "version": "3.12.6"
  }
 },
 "nbformat": 4,
 "nbformat_minor": 5
}
