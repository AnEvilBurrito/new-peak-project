{
 "cells": [
  {
   "cell_type": "markdown",
   "id": "bb525841",
   "metadata": {},
   "source": [
    "# Sensitive Model Search\n",
    "\n",
    "by adjusting `o_random_seed` and `parameter_generation_seed`"
   ]
  },
  {
   "cell_type": "markdown",
   "id": "813136b5",
   "metadata": {},
   "source": [
    "## Init"
   ]
  },
  {
   "cell_type": "code",
   "execution_count": 15,
   "id": "3b773f6d",
   "metadata": {},
   "outputs": [
    {
     "name": "stdout",
     "output_type": "stream",
     "text": [
      "Project path set to: c:\\Github\\new-peak-project\\src\n"
     ]
    }
   ],
   "source": [
    "import os\n",
    "\n",
    "path = os.getcwd()\n",
    "# find the string 'project' in the path, return index\n",
    "index_project = path.find('project')\n",
    "# slice the path from the index of 'project' to the end\n",
    "project_path = path[:index_project+7]\n",
    "# set the working directory\n",
    "os.chdir(project_path+'\\src')\n",
    "print(f'Project path set to: {os.getcwd()}')"
   ]
  },
  {
   "cell_type": "code",
   "execution_count": 16,
   "id": "2e84e0ee",
   "metadata": {},
   "outputs": [
    {
     "name": "stdout",
     "output_type": "stream",
     "text": [
      "I:\\My Drive\\DAWSON PHD PROJECT\\Biomarker Data Repository\\data\\new-peak-project\\experiments\n"
     ]
    }
   ],
   "source": [
    "from dotenv import dotenv_values\n",
    "config = dotenv_values(\".env\")\n",
    "print(config[\"DATA_PATH\"])"
   ]
  },
  {
   "cell_type": "code",
   "execution_count": 17,
   "id": "5ec4769a",
   "metadata": {},
   "outputs": [],
   "source": [
    "from models.ModelBuilder import ModelBuilder\n",
    "from models.Reaction import Reaction\n",
    "from models.ReactionArchtype import ReactionArchtype\n",
    "from models.ArchtypeCollections import *\n",
    "from models.Utils import *\n",
    "\n",
    "import matplotlib.pyplot as plt\n",
    "import seaborn as sns\n",
    "import roadrunner\n",
    "import numpy as np\n",
    "import pandas as pd\n",
    "\n",
    "# import scikit-learn\n",
    "from sklearn.linear_model import LinearRegression\n",
    "# tree models and support vector machines\n",
    "from sklearn.ensemble import RandomForestRegressor\n",
    "from sklearn.ensemble import GradientBoostingRegressor\n",
    "from sklearn.svm import SVR\n",
    "from sklearn.neural_network import MLPRegressor\n",
    "from sklearn.model_selection import train_test_split\n",
    "from sklearn.metrics import mean_squared_error, r2_score\n",
    "# import pearson correlation\n",
    "from scipy.stats import pearsonr\n",
    "from sklearn.preprocessing import StandardScaler\n",
    "from sklearn.pipeline import Pipeline\n",
    "\n",
    "from copy import deepcopy"
   ]
  },
  {
   "cell_type": "markdown",
   "id": "8a444882",
   "metadata": {},
   "source": [
    "## Analysis"
   ]
  },
  {
   "cell_type": "code",
   "execution_count": 18,
   "id": "90b6501f",
   "metadata": {},
   "outputs": [
    {
     "name": "stdout",
     "output_type": "stream",
     "text": [
      "I:\\My Drive\\DAWSON PHD PROJECT\\Biomarker Data Repository\\data\\new-peak-project\\experiments/sensitive_model_search_4/\n"
     ]
    }
   ],
   "source": [
    "import os \n",
    "\n",
    "### parameters \n",
    "notebook_name = 'sensitive_model_search'\n",
    "sub_id = '4'\n",
    "\n",
    "## Model parameters\n",
    "no_observable_species = 5\n",
    "no_feedback_regulations = 2\n",
    "specie_value_range = (5, 5000)\n",
    "param_range = (0.1, 10)\n",
    "param_multiplier_range = (0.7, 1.3)\n",
    "model_name = 'sensitive_model_search'\n",
    "\n",
    "## Sensitivity analysis parameters \n",
    "o_random_seeds = list(range(1,5))\n",
    "parameter_random_seeds = list(range(1, 2))\n",
    "species_perturbation_range = np.arange(1, 5000, 500)\n",
    "\n",
    "## Simulation parameters \n",
    "simulation_time = 500 \n",
    "simulation_step = 100\n",
    "\n",
    "## General parameters\n",
    "parallelise = True\n",
    "save_figures = True \n",
    "experiment_id = notebook_name + '_' + sub_id\n",
    "experiment_folder = config['DATA_PATH'] + '/' + experiment_id + '/'\n",
    "if not os.path.exists(experiment_folder):\n",
    "    os.makedirs(experiment_folder)\n",
    "    \n",
    "print(experiment_folder)"
   ]
  },
  {
   "cell_type": "code",
   "execution_count": 19,
   "id": "262dd5f4",
   "metadata": {},
   "outputs": [],
   "source": [
    "## Helper functions\n",
    "import warnings\n",
    "\n",
    "from models.SensitivityAnalysis import sensitivity_analysis, get_sensitivity_score, extract_states_from_results"
   ]
  },
  {
   "cell_type": "code",
   "execution_count": 20,
   "id": "9b820fb8",
   "metadata": {},
   "outputs": [],
   "source": [
    "results = []\n",
    "# use joblib to parallelise the code\n",
    "from joblib import Parallel, delayed\n",
    "from models.Solver.RoadrunnerSolver import RoadrunnerSolver\n",
    "\n",
    "def run_sensitivity_analysis(o_random_seed, parameter_random_seed, verbose=0):\n",
    "    # Generate the model \n",
    "    model_spec = ModelSpecification()\n",
    "    model_spec.generate_specifications(o_random_seed, no_observable_species, no_feedback_regulations, verbose=0)\n",
    "    G0 = model_spec.generate_network(model_name, specie_value_range, param_range, param_multiplier_range, random_seed=parameter_random_seed, verbose=0)\n",
    "    solver = RoadrunnerSolver()\n",
    "    solver.compile(G0.get_sbml_model())\n",
    "    all_states = []\n",
    "    for i in range(no_observable_species):\n",
    "        all_states.append('A'+str(i))\n",
    "    for i in range(no_observable_species):\n",
    "        all_states.append('B'+str(i))\n",
    "                \n",
    "    all_init_species_results = []\n",
    "    for init_species in all_states: \n",
    "        all_results = sensitivity_analysis(G0, solver, init_species, species_perturbation_range, simulation_time, simulation_step)\n",
    "        all_init_species_results.append(all_results)\n",
    "\n",
    "    # extract the last time point of Cp for each init species\n",
    "    Cp_final_states = []\n",
    "    for init_species in all_init_species_results: \n",
    "        Cp_final_states.append(extract_states_from_results(init_species, 'Cp', -1))\n",
    "        \n",
    "    state_sensitivity = get_sensitivity_score(Cp_final_states)\n",
    "    sens_score = sum(state_sensitivity) / len(state_sensitivity)\n",
    "    if verbose: \n",
    "        print(f'Random seed: {o_random_seed}, Parameter random seed: {parameter_random_seed}, Sensitivity score: {sens_score}')\n",
    "    return [o_random_seed, parameter_random_seed, sens_score]\n",
    "\n",
    "\n",
    "\n"
   ]
  },
  {
   "cell_type": "code",
   "execution_count": 21,
   "id": "add2ed82",
   "metadata": {},
   "outputs": [
    {
     "name": "stdout",
     "output_type": "stream",
     "text": [
      "Random seed: 5, Parameter random seed: 5, Sensitivity score: 19.478710770239523\n"
     ]
    }
   ],
   "source": [
    "res = run_sensitivity_analysis(5, 5, verbose=1)"
   ]
  },
  {
   "cell_type": "code",
   "execution_count": 22,
   "id": "61aa3689",
   "metadata": {},
   "outputs": [
    {
     "data": {
      "application/vnd.microsoft.datawrangler.viewer.v0+json": {
       "columns": [
        {
         "name": "index",
         "rawType": "int64",
         "type": "integer"
        },
        {
         "name": "o_random_seed",
         "rawType": "int64",
         "type": "integer"
        },
        {
         "name": "parameter_random_seed",
         "rawType": "int64",
         "type": "integer"
        },
        {
         "name": "sensitivity_score",
         "rawType": "float64",
         "type": "float"
        }
       ],
       "conversionMethod": "pd.DataFrame",
       "ref": "d8350cb8-c378-41b9-a0f7-d05f1dbc065a",
       "rows": [
        [
         "2",
         "3",
         "1",
         "11.36338135415583"
        ],
        [
         "3",
         "4",
         "1",
         "0.6603328363224071"
        ],
        [
         "1",
         "2",
         "1",
         "0.004891407742735859"
        ],
        [
         "0",
         "1",
         "1",
         "0.0015836194027436129"
        ]
       ],
       "shape": {
        "columns": 3,
        "rows": 4
       }
      },
      "text/html": [
       "<div>\n",
       "<style scoped>\n",
       "    .dataframe tbody tr th:only-of-type {\n",
       "        vertical-align: middle;\n",
       "    }\n",
       "\n",
       "    .dataframe tbody tr th {\n",
       "        vertical-align: top;\n",
       "    }\n",
       "\n",
       "    .dataframe thead th {\n",
       "        text-align: right;\n",
       "    }\n",
       "</style>\n",
       "<table border=\"1\" class=\"dataframe\">\n",
       "  <thead>\n",
       "    <tr style=\"text-align: right;\">\n",
       "      <th></th>\n",
       "      <th>o_random_seed</th>\n",
       "      <th>parameter_random_seed</th>\n",
       "      <th>sensitivity_score</th>\n",
       "    </tr>\n",
       "  </thead>\n",
       "  <tbody>\n",
       "    <tr>\n",
       "      <th>2</th>\n",
       "      <td>3</td>\n",
       "      <td>1</td>\n",
       "      <td>11.363381</td>\n",
       "    </tr>\n",
       "    <tr>\n",
       "      <th>3</th>\n",
       "      <td>4</td>\n",
       "      <td>1</td>\n",
       "      <td>0.660333</td>\n",
       "    </tr>\n",
       "    <tr>\n",
       "      <th>1</th>\n",
       "      <td>2</td>\n",
       "      <td>1</td>\n",
       "      <td>0.004891</td>\n",
       "    </tr>\n",
       "    <tr>\n",
       "      <th>0</th>\n",
       "      <td>1</td>\n",
       "      <td>1</td>\n",
       "      <td>0.001584</td>\n",
       "    </tr>\n",
       "  </tbody>\n",
       "</table>\n",
       "</div>"
      ],
      "text/plain": [
       "   o_random_seed  parameter_random_seed  sensitivity_score\n",
       "2              3                      1          11.363381\n",
       "3              4                      1           0.660333\n",
       "1              2                      1           0.004891\n",
       "0              1                      1           0.001584"
      ]
     },
     "execution_count": 22,
     "metadata": {},
     "output_type": "execute_result"
    }
   ],
   "source": [
    "results = Parallel(n_jobs=-1)(delayed(run_sensitivity_analysis)(o_random_seed, parameter_random_seed) for o_random_seed in o_random_seeds for parameter_random_seed in parameter_random_seeds)\n",
    "# convert to pandas dataframe\n",
    "df = pd.DataFrame(results, columns=['o_random_seed', 'parameter_random_seed', 'sensitivity_score'])\n",
    "\n",
    "# sort the dataframe by sensitivity score\n",
    "df = df.sort_values(by='sensitivity_score', ascending=False)\n",
    "df"
   ]
  },
  {
   "cell_type": "code",
   "execution_count": 23,
   "id": "a571f00d",
   "metadata": {},
   "outputs": [
    {
     "name": "stdout",
     "output_type": "stream",
     "text": [
      "Saved results to I:\\My Drive\\DAWSON PHD PROJECT\\Biomarker Data Repository\\data\\new-peak-project\\experiments/sensitive_model_search_4/sensitivity_analysis_results.pkl\n"
     ]
    }
   ],
   "source": [
    "# save df to a pickle file\n",
    "df.to_pickle(experiment_folder + 'sensitivity_analysis_results.pkl')\n",
    "print(f'Saved results to {experiment_folder + \"sensitivity_analysis_results.pkl\"}')"
   ]
  }
 ],
 "metadata": {
  "kernelspec": {
   "display_name": "new-peak-project",
   "language": "python",
   "name": "python3"
  },
  "language_info": {
   "codemirror_mode": {
    "name": "ipython",
    "version": 3
   },
   "file_extension": ".py",
   "mimetype": "text/x-python",
   "name": "python",
   "nbconvert_exporter": "python",
   "pygments_lexer": "ipython3",
   "version": "3.8.10"
  }
 },
 "nbformat": 4,
 "nbformat_minor": 5
}
